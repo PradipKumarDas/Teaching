{
 "cells": [
  {
   "cell_type": "markdown",
   "id": "f944bd2c-2efd-4cd1-a62d-b7c9656103f6",
   "metadata": {},
   "source": [
    "# Matrix Factorization"
   ]
  },
  {
   "cell_type": "code",
   "execution_count": 4,
   "id": "ed9a9467-ac22-4342-b913-3be38b4c8e6c",
   "metadata": {
    "tags": []
   },
   "outputs": [],
   "source": [
    "# Imports required packages\n",
    "\n",
    "import pandas as pd\n",
    "from surprise import Reader, Dataset\n",
    "from surprise import SVD\n",
    "from surprise.model_selection import cross_validate"
   ]
  },
  {
   "cell_type": "code",
   "execution_count": 5,
   "id": "6e94a55b-353e-431e-b3b0-4722736d6a55",
   "metadata": {
    "tags": []
   },
   "outputs": [],
   "source": [
    "# Reads the ratings from file\n",
    "ratings = pd.read_csv(\"./../../../Data/ml-latest-small/ratings.csv\")\n",
    "\n",
    "# Creates reader to parse ratings from file\n",
    "reader = Reader(rating_scale = (1, 5))\n",
    "\n",
    "# Prepares data into Surprise data set format to be used in the subsequent steps\n",
    "data = Dataset.load_from_df(ratings[[\"userId\", \"movieId\", \"rating\"]], reader = reader)"
   ]
  },
  {
   "cell_type": "code",
   "execution_count": 8,
   "id": "6df90a07-0b79-4076-9f1a-73714d34d7d8",
   "metadata": {
    "tags": []
   },
   "outputs": [
    {
     "name": "stdout",
     "output_type": "stream",
     "text": [
      "Evaluating RMSE of algorithm SVD on 5 split(s).\n",
      "\n",
      "                  Fold 1  Fold 2  Fold 3  Fold 4  Fold 5  Mean    Std     \n",
      "RMSE (testset)    0.8667  0.8697  0.8733  0.8700  0.8701  0.8700  0.0021  \n",
      "Fit time          0.14    0.14    0.13    0.16    0.11    0.14    0.01    \n",
      "Test time         0.13    0.14    0.12    0.11    0.10    0.12    0.01    \n",
      "{'test_rmse': array([0.86671739, 0.86970746, 0.87326672, 0.87001391, 0.87005015]), 'fit_time': (0.1397109031677246, 0.13975858688354492, 0.12529277801513672, 0.15819120407104492, 0.11464619636535645), 'test_time': (0.12581729888916016, 0.1365492343902588, 0.12319660186767578, 0.10513520240783691, 0.09607481956481934)}\n"
     ]
    }
   ],
   "source": [
    "# Initialize SVD algorithhm with number of factors\n",
    "svd = SVD(n_factors = 5)\n",
    "\n",
    "# Runs cross-validation\n",
    "cv_results = cross_validate(\n",
    "    svd, \n",
    "    data,\n",
    "    measures = [\"RMSE\"],\n",
    "    cv = 5,\n",
    "    n_jobs = -1,\n",
    "    verbose = True)\n",
    "\n",
    "# Prints cross-validation results\n",
    "print(cv_results)"
   ]
  },
  {
   "cell_type": "code",
   "execution_count": null,
   "id": "848da95a-91c8-4bd5-a461-e9567ef3b598",
   "metadata": {},
   "outputs": [],
   "source": []
  }
 ],
 "metadata": {
  "kernelspec": {
   "display_name": "Python 3 (ipykernel)",
   "language": "python",
   "name": "python3"
  },
  "language_info": {
   "codemirror_mode": {
    "name": "ipython",
    "version": 3
   },
   "file_extension": ".py",
   "mimetype": "text/x-python",
   "name": "python",
   "nbconvert_exporter": "python",
   "pygments_lexer": "ipython3",
   "version": "3.11.4"
  }
 },
 "nbformat": 4,
 "nbformat_minor": 5
}
