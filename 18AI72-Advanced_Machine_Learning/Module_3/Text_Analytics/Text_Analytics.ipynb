{
 "cells": [
  {
   "cell_type": "markdown",
   "id": "4b019769-10ed-4e68-8364-c933fb786046",
   "metadata": {},
   "source": [
    "# TEXT ANALYTICS"
   ]
  },
  {
   "cell_type": "code",
   "execution_count": 1,
   "id": "f91675b4-14c8-4db7-8656-495c36d7cb7a",
   "metadata": {
    "tags": []
   },
   "outputs": [],
   "source": [
    "# Imports required packages\n",
    "\n",
    "import pandas as pd\n",
    "import numpy as np\n",
    "\n",
    "from sklearn.feature_extraction.text import CountVectorizer\n",
    "from sklearn.feature_extraction import text\n",
    "from sklearn.feature_extraction.text import TfidfVectorizer\n",
    "from sklearn.model_selection import train_test_split\n",
    "from sklearn.naive_bayes import BernoulliNB, GaussianNB\n",
    "from sklearn.metrics import confusion_matrix, classification_report\n",
    "import nltk\n",
    "from nltk import word_tokenize\n",
    "from nltk.stem.snowball import PorterStemmer\n",
    "\n",
    "import re, random\n",
    "\n",
    "import matplotlib.pyplot as plt\n",
    "import seaborn as sns"
   ]
  },
  {
   "cell_type": "markdown",
   "id": "fe0b419b-5fbb-4120-8f05-b0c5128bd643",
   "metadata": {},
   "source": [
    "## Loading Data Set\n",
    "The data set consists of sentiments expressed by users on various movies. The dataset is available at https://www.kaggle.com/c/si650winter11/ and was originally contributed by the University of Michigan for building a classiﬁcation model to classify sentiment. "
   ]
  },
  {
   "cell_type": "code",
   "execution_count": 2,
   "id": "5b836011-6712-41ec-bede-d081630ea8d7",
   "metadata": {
    "tags": []
   },
   "outputs": [
    {
     "data": {
      "text/html": [
       "<div>\n",
       "<style scoped>\n",
       "    .dataframe tbody tr th:only-of-type {\n",
       "        vertical-align: middle;\n",
       "    }\n",
       "\n",
       "    .dataframe tbody tr th {\n",
       "        vertical-align: top;\n",
       "    }\n",
       "\n",
       "    .dataframe thead th {\n",
       "        text-align: right;\n",
       "    }\n",
       "</style>\n",
       "<table border=\"1\" class=\"dataframe\">\n",
       "  <thead>\n",
       "    <tr style=\"text-align: right;\">\n",
       "      <th></th>\n",
       "      <th>sentiment</th>\n",
       "      <th>text</th>\n",
       "    </tr>\n",
       "  </thead>\n",
       "  <tbody>\n",
       "    <tr>\n",
       "      <th>0</th>\n",
       "      <td>1</td>\n",
       "      <td>The Da Vinci Code book is just awesome.</td>\n",
       "    </tr>\n",
       "    <tr>\n",
       "      <th>1</th>\n",
       "      <td>1</td>\n",
       "      <td>this was the first clive cussler i've ever read, but even books like Relic, and Da Vinci code were more plausible than this.</td>\n",
       "    </tr>\n",
       "    <tr>\n",
       "      <th>2</th>\n",
       "      <td>1</td>\n",
       "      <td>i liked the Da Vinci Code a lot.</td>\n",
       "    </tr>\n",
       "    <tr>\n",
       "      <th>3</th>\n",
       "      <td>1</td>\n",
       "      <td>i liked the Da Vinci Code a lot.</td>\n",
       "    </tr>\n",
       "    <tr>\n",
       "      <th>4</th>\n",
       "      <td>1</td>\n",
       "      <td>I liked the Da Vinci Code but it ultimatly didn't seem to hold it's own.</td>\n",
       "    </tr>\n",
       "    <tr>\n",
       "      <th>5</th>\n",
       "      <td>1</td>\n",
       "      <td>that's not even an exaggeration ) and at midnight we went to Wal-Mart to buy the Da Vinci Code, which is amazing of course.</td>\n",
       "    </tr>\n",
       "    <tr>\n",
       "      <th>6</th>\n",
       "      <td>1</td>\n",
       "      <td>I loved the Da Vinci Code, but now I want something better and different!..</td>\n",
       "    </tr>\n",
       "    <tr>\n",
       "      <th>7</th>\n",
       "      <td>1</td>\n",
       "      <td>i thought da vinci code was great, same with kite runner.</td>\n",
       "    </tr>\n",
       "    <tr>\n",
       "      <th>8</th>\n",
       "      <td>1</td>\n",
       "      <td>The Da Vinci Code is actually a good movie...</td>\n",
       "    </tr>\n",
       "    <tr>\n",
       "      <th>9</th>\n",
       "      <td>1</td>\n",
       "      <td>I thought the Da Vinci Code was a pretty good book.</td>\n",
       "    </tr>\n",
       "  </tbody>\n",
       "</table>\n",
       "</div>"
      ],
      "text/plain": [
       "   sentiment  \\\n",
       "0          1   \n",
       "1          1   \n",
       "2          1   \n",
       "3          1   \n",
       "4          1   \n",
       "5          1   \n",
       "6          1   \n",
       "7          1   \n",
       "8          1   \n",
       "9          1   \n",
       "\n",
       "                                                                                                                           text  \n",
       "0                                                                                       The Da Vinci Code book is just awesome.  \n",
       "1  this was the first clive cussler i've ever read, but even books like Relic, and Da Vinci code were more plausible than this.  \n",
       "2                                                                                              i liked the Da Vinci Code a lot.  \n",
       "3                                                                                              i liked the Da Vinci Code a lot.  \n",
       "4                                                      I liked the Da Vinci Code but it ultimatly didn't seem to hold it's own.  \n",
       "5   that's not even an exaggeration ) and at midnight we went to Wal-Mart to buy the Da Vinci Code, which is amazing of course.  \n",
       "6                                                   I loved the Da Vinci Code, but now I want something better and different!..  \n",
       "7                                                                     i thought da vinci code was great, same with kite runner.  \n",
       "8                                                                                 The Da Vinci Code is actually a good movie...  \n",
       "9                                                                           I thought the Da Vinci Code was a pretty good book.  "
      ]
     },
     "metadata": {},
     "output_type": "display_data"
    }
   ],
   "source": [
    "# Loads the sentiments. Note '\\t' was passed as parameter to indicate\n",
    "# that the sentiment text and labels are seperated by tab character\n",
    "sentiments = pd.read_csv(\"./../../../Data/sentiment_train\", delimiter = '\\t')\n",
    "\n",
    "# Shows top few sentiments\n",
    "\n",
    "with pd.option_context(\"display.max_colwidth\", None):\n",
    "    display(sentiments.head(10))"
   ]
  },
  {
   "cell_type": "code",
   "execution_count": 3,
   "id": "4ecc3bbd-c3c5-40c5-87c0-791d7216316d",
   "metadata": {
    "tags": []
   },
   "outputs": [
    {
     "data": {
      "text/html": [
       "<div>\n",
       "<style scoped>\n",
       "    .dataframe tbody tr th:only-of-type {\n",
       "        vertical-align: middle;\n",
       "    }\n",
       "\n",
       "    .dataframe tbody tr th {\n",
       "        vertical-align: top;\n",
       "    }\n",
       "\n",
       "    .dataframe thead th {\n",
       "        text-align: right;\n",
       "    }\n",
       "</style>\n",
       "<table border=\"1\" class=\"dataframe\">\n",
       "  <thead>\n",
       "    <tr style=\"text-align: right;\">\n",
       "      <th></th>\n",
       "      <th>sentiment</th>\n",
       "      <th>text</th>\n",
       "    </tr>\n",
       "  </thead>\n",
       "  <tbody>\n",
       "    <tr>\n",
       "      <th>3943</th>\n",
       "      <td>0</td>\n",
       "      <td>da vinci code was a terrible movie.</td>\n",
       "    </tr>\n",
       "    <tr>\n",
       "      <th>3944</th>\n",
       "      <td>0</td>\n",
       "      <td>Then again, the Da Vinci code is super shitty ...</td>\n",
       "    </tr>\n",
       "    <tr>\n",
       "      <th>3945</th>\n",
       "      <td>0</td>\n",
       "      <td>The Da Vinci Code comes out tomorrow, which su...</td>\n",
       "    </tr>\n",
       "    <tr>\n",
       "      <th>3946</th>\n",
       "      <td>0</td>\n",
       "      <td>i thought the da vinci code movie was really b...</td>\n",
       "    </tr>\n",
       "    <tr>\n",
       "      <th>3947</th>\n",
       "      <td>0</td>\n",
       "      <td>God, Yahoo Games has this truly-awful looking ...</td>\n",
       "    </tr>\n",
       "    <tr>\n",
       "      <th>3948</th>\n",
       "      <td>0</td>\n",
       "      <td>Da Vinci Code does suck.</td>\n",
       "    </tr>\n",
       "    <tr>\n",
       "      <th>3949</th>\n",
       "      <td>0</td>\n",
       "      <td>And better...-We all know Da Vinci code is bog...</td>\n",
       "    </tr>\n",
       "    <tr>\n",
       "      <th>3950</th>\n",
       "      <td>0</td>\n",
       "      <td>Last time, Da Vinci code is also a bit disappo...</td>\n",
       "    </tr>\n",
       "    <tr>\n",
       "      <th>3951</th>\n",
       "      <td>0</td>\n",
       "      <td>And better...-We all know Da Vinci code is bog...</td>\n",
       "    </tr>\n",
       "    <tr>\n",
       "      <th>3952</th>\n",
       "      <td>0</td>\n",
       "      <td>And better..-We all know Da Vinci code is bogu...</td>\n",
       "    </tr>\n",
       "  </tbody>\n",
       "</table>\n",
       "</div>"
      ],
      "text/plain": [
       "      sentiment                                               text\n",
       "3943          0                da vinci code was a terrible movie.\n",
       "3944          0  Then again, the Da Vinci code is super shitty ...\n",
       "3945          0  The Da Vinci Code comes out tomorrow, which su...\n",
       "3946          0  i thought the da vinci code movie was really b...\n",
       "3947          0  God, Yahoo Games has this truly-awful looking ...\n",
       "3948          0                           Da Vinci Code does suck.\n",
       "3949          0  And better...-We all know Da Vinci code is bog...\n",
       "3950          0  Last time, Da Vinci code is also a bit disappo...\n",
       "3951          0  And better...-We all know Da Vinci code is bog...\n",
       "3952          0  And better..-We all know Da Vinci code is bogu..."
      ]
     },
     "execution_count": 3,
     "metadata": {},
     "output_type": "execute_result"
    }
   ],
   "source": [
    "# Shows top few negative sentiments\n",
    "sentiments[sentiments.sentiment == 0].head(10)"
   ]
  },
  {
   "cell_type": "markdown",
   "id": "f1e15e5d-c9ec-4afc-a542-27e1ef6d8675",
   "metadata": {},
   "source": [
    "## Exploratory Data Analysis (EDA)"
   ]
  },
  {
   "cell_type": "code",
   "execution_count": 4,
   "id": "28892938-5ac2-490d-bdc9-eed0b2f8c958",
   "metadata": {
    "tags": []
   },
   "outputs": [
    {
     "name": "stdout",
     "output_type": "stream",
     "text": [
      "<class 'pandas.core.frame.DataFrame'>\n",
      "RangeIndex: 6918 entries, 0 to 6917\n",
      "Data columns (total 2 columns):\n",
      " #   Column     Non-Null Count  Dtype \n",
      "---  ------     --------------  ----- \n",
      " 0   sentiment  6918 non-null   int64 \n",
      " 1   text       6918 non-null   object\n",
      "dtypes: int64(1), object(1)\n",
      "memory usage: 108.2+ KB\n"
     ]
    }
   ],
   "source": [
    "# Retrives basic information about the data set\n",
    "sentiments.info()"
   ]
  },
  {
   "cell_type": "code",
   "execution_count": 5,
   "id": "d9be1e9f-ddf9-4924-a21f-249f5984e185",
   "metadata": {
    "tags": []
   },
   "outputs": [
    {
     "data": {
      "text/plain": [
       "sentiment\n",
       "1    3943\n",
       "0    2975\n",
       "Name: count, dtype: int64"
      ]
     },
     "execution_count": 5,
     "metadata": {},
     "output_type": "execute_result"
    }
   ],
   "source": [
    "# Gets count for positive and negative sentiments\n",
    "sentiments.sentiment.value_counts()"
   ]
  },
  {
   "cell_type": "markdown",
   "id": "0bb76c2e-1f42-4f87-b4b3-d33ceaf69796",
   "metadata": {},
   "source": [
    "## Text Preprocessing"
   ]
  },
  {
   "cell_type": "markdown",
   "id": "f70ec1c1-e5e9-449c-970b-7f83939adbb3",
   "metadata": {},
   "source": [
    "### Bag of Words (BoW)"
   ]
  },
  {
   "cell_type": "markdown",
   "id": "2367d92e-67f9-4fed-8fdf-b3ed37736beb",
   "metadata": {},
   "source": [
    "**Creating Count Vectors**"
   ]
  },
  {
   "cell_type": "code",
   "execution_count": 6,
   "id": "3d6b2011-5fc4-42e5-8636-1a7937c7fb12",
   "metadata": {
    "tags": []
   },
   "outputs": [],
   "source": [
    "# Initializes CountVectorizer\n",
    "count_vectorizer = CountVectorizer()\n",
    "\n",
    "# Creates features vectors (which are sparse in nature)\n",
    "feature_vectors = count_vectorizer.fit_transform(sentiments.text)"
   ]
  },
  {
   "cell_type": "code",
   "execution_count": 7,
   "id": "e88ab3ca-13a0-4fcc-a567-6c34ef68b7b6",
   "metadata": {
    "tags": []
   },
   "outputs": [
    {
     "name": "stdout",
     "output_type": "stream",
     "text": [
      "Total number of features: 2132\n"
     ]
    }
   ],
   "source": [
    "# Prints total number of features\n",
    "feature_names = count_vectorizer.get_feature_names_out()\n",
    "print(\"Total number of features:\", len(feature_names))"
   ]
  },
  {
   "cell_type": "code",
   "execution_count": 8,
   "id": "894cde25-5046-447c-8444-c2c14b4f90c9",
   "metadata": {
    "tags": []
   },
   "outputs": [
    {
     "name": "stdout",
     "output_type": "stream",
     "text": [
      "['jame', 'conquering', 'purchase', 'possible', 'shame', 'share', 'colfer', 'nothing', 'characters', 'found', 'whereas', 'full', 'bitter', 'body', 'irrespective', 'getting', 'places', 'does', 'flat', 'live']\n"
     ]
    }
   ],
   "source": [
    "# Prints few features randomly\n",
    "print(random.sample(feature_names.tolist(), 20))"
   ]
  },
  {
   "cell_type": "code",
   "execution_count": 9,
   "id": "cd22b5e7-8f1e-4e3e-98c9-46ebe4624d14",
   "metadata": {},
   "outputs": [
    {
     "name": "stdout",
     "output_type": "stream",
     "text": [
      "(6918, 2132)\n"
     ]
    }
   ],
   "source": [
    "# Prints the shape of the feature vectors\n",
    "print(feature_vectors.shape)"
   ]
  },
  {
   "cell_type": "markdown",
   "id": "a9deb198-31ca-412e-a14a-a1bf432d9fc7",
   "metadata": {},
   "source": [
    "It is sparse matrix as each document has only few words out of the vocabulary (words in dictionary) and hence most of the elements in each of the vector will be zeros."
   ]
  },
  {
   "cell_type": "code",
   "execution_count": 10,
   "id": "e9eac010-fa09-43fa-9575-b450d0cfff47",
   "metadata": {
    "tags": []
   },
   "outputs": [
    {
     "name": "stdout",
     "output_type": "stream",
     "text": [
      "Density of the feature vector matrix is 0.44%\n"
     ]
    }
   ],
   "source": [
    "# Let's calculate how many non-zero values are there in the matrix (calculated as density)\n",
    "\n",
    "print(\"Density of the feature vector matrix is {:.2f}%\".format(\n",
    "    feature_vectors.getnnz() / (feature_vectors.shape[0] * feature_vectors.shape[1]) * 100))"
   ]
  },
  {
   "cell_type": "markdown",
   "id": "3a46e462-61d4-47a3-becf-1af25a4d3892",
   "metadata": {},
   "source": [
    "**Displaying Document Vectors**"
   ]
  },
  {
   "cell_type": "code",
   "execution_count": 11,
   "id": "eab3b08b-4f0e-48cd-842c-33a2f6b7e6fb",
   "metadata": {
    "tags": []
   },
   "outputs": [],
   "source": [
    "# Stores dense matrix representation for features\n",
    "feature_vectors_densed = pd.DataFrame(feature_vectors.todense())\n",
    "feature_vectors_densed.columns = feature_names"
   ]
  },
  {
   "cell_type": "code",
   "execution_count": 12,
   "id": "64c4c674-c464-436f-b71d-8f897be5c830",
   "metadata": {
    "tags": []
   },
   "outputs": [
    {
     "name": "stdout",
     "output_type": "stream",
     "text": [
      "The Da Vinci Code book is just awesome.\n"
     ]
    }
   ],
   "source": [
    "# Prints the first sentiment\n",
    "print(sentiments.text[0])"
   ]
  },
  {
   "cell_type": "code",
   "execution_count": 13,
   "id": "f4e961b7-6ec5-4888-9cb2-b2b819cdb979",
   "metadata": {
    "tags": []
   },
   "outputs": [
    {
     "data": {
      "text/html": [
       "<div>\n",
       "<style scoped>\n",
       "    .dataframe tbody tr th:only-of-type {\n",
       "        vertical-align: middle;\n",
       "    }\n",
       "\n",
       "    .dataframe tbody tr th {\n",
       "        vertical-align: top;\n",
       "    }\n",
       "\n",
       "    .dataframe thead th {\n",
       "        text-align: right;\n",
       "    }\n",
       "</style>\n",
       "<table border=\"1\" class=\"dataframe\">\n",
       "  <thead>\n",
       "    <tr style=\"text-align: right;\">\n",
       "      <th></th>\n",
       "      <th>the</th>\n",
       "      <th>da</th>\n",
       "      <th>vinci</th>\n",
       "      <th>code</th>\n",
       "      <th>book</th>\n",
       "      <th>is</th>\n",
       "      <th>just</th>\n",
       "      <th>awesome</th>\n",
       "    </tr>\n",
       "  </thead>\n",
       "  <tbody>\n",
       "    <tr>\n",
       "      <th>0</th>\n",
       "      <td>1</td>\n",
       "      <td>1</td>\n",
       "      <td>1</td>\n",
       "      <td>1</td>\n",
       "      <td>1</td>\n",
       "      <td>1</td>\n",
       "      <td>1</td>\n",
       "      <td>1</td>\n",
       "    </tr>\n",
       "  </tbody>\n",
       "</table>\n",
       "</div>"
      ],
      "text/plain": [
       "   the  da  vinci  code  book  is  just  awesome\n",
       "0    1   1      1     1     1   1     1        1"
      ]
     },
     "metadata": {},
     "output_type": "display_data"
    }
   ],
   "source": [
    "# Prints the dense vector representation for the first sentiment\n",
    "display(\n",
    "    feature_vectors_densed[sentiments.text[0].lower().replace('.', '').split(\" \")].loc[0:0])"
   ]
  },
  {
   "cell_type": "markdown",
   "id": "1b8ad0ef-85d1-4929-9f35-e1e4c14ab5da",
   "metadata": {},
   "source": [
    "**Removing Low-frequency Words**"
   ]
  },
  {
   "cell_type": "code",
   "execution_count": 14,
   "id": "4776deb3-8579-49bd-85a5-91a0a162afef",
   "metadata": {
    "tags": []
   },
   "outputs": [],
   "source": [
    "# Initializes CountVectorizer by setting limit to features to avoid words that \n",
    "# are present only in very few documents\n",
    "\n",
    "count_vectorizer = CountVectorizer(max_features = 1000)\n",
    "\n",
    "# Creates features vectors (which are sparse in nature)\n",
    "feature_vectors = count_vectorizer.fit_transform(sentiments.text)\n",
    "\n",
    "# Prints total number of features\n",
    "feature_names = count_vectorizer.get_feature_names_out()"
   ]
  },
  {
   "cell_type": "code",
   "execution_count": 15,
   "id": "cb2237be-93ee-4e24-8dca-ae91237595c0",
   "metadata": {
    "tags": []
   },
   "outputs": [
    {
     "data": {
      "text/html": [
       "<div>\n",
       "<style scoped>\n",
       "    .dataframe tbody tr th:only-of-type {\n",
       "        vertical-align: middle;\n",
       "    }\n",
       "\n",
       "    .dataframe tbody tr th {\n",
       "        vertical-align: top;\n",
       "    }\n",
       "\n",
       "    .dataframe thead th {\n",
       "        text-align: right;\n",
       "    }\n",
       "</style>\n",
       "<table border=\"1\" class=\"dataframe\">\n",
       "  <thead>\n",
       "    <tr style=\"text-align: right;\">\n",
       "      <th></th>\n",
       "      <th>feature</th>\n",
       "      <th>count</th>\n",
       "    </tr>\n",
       "  </thead>\n",
       "  <tbody>\n",
       "    <tr>\n",
       "      <th>866</th>\n",
       "      <td>the</td>\n",
       "      <td>3306</td>\n",
       "    </tr>\n",
       "    <tr>\n",
       "      <th>37</th>\n",
       "      <td>and</td>\n",
       "      <td>2154</td>\n",
       "    </tr>\n",
       "    <tr>\n",
       "      <th>358</th>\n",
       "      <td>harry</td>\n",
       "      <td>2093</td>\n",
       "    </tr>\n",
       "    <tr>\n",
       "      <th>675</th>\n",
       "      <td>potter</td>\n",
       "      <td>2093</td>\n",
       "    </tr>\n",
       "    <tr>\n",
       "      <th>138</th>\n",
       "      <td>code</td>\n",
       "      <td>2002</td>\n",
       "    </tr>\n",
       "    <tr>\n",
       "      <th>934</th>\n",
       "      <td>vinci</td>\n",
       "      <td>2001</td>\n",
       "    </tr>\n",
       "    <tr>\n",
       "      <th>178</th>\n",
       "      <td>da</td>\n",
       "      <td>2001</td>\n",
       "    </tr>\n",
       "    <tr>\n",
       "      <th>528</th>\n",
       "      <td>mountain</td>\n",
       "      <td>2000</td>\n",
       "    </tr>\n",
       "    <tr>\n",
       "      <th>104</th>\n",
       "      <td>brokeback</td>\n",
       "      <td>2000</td>\n",
       "    </tr>\n",
       "    <tr>\n",
       "      <th>488</th>\n",
       "      <td>love</td>\n",
       "      <td>1624</td>\n",
       "    </tr>\n",
       "    <tr>\n",
       "      <th>423</th>\n",
       "      <td>is</td>\n",
       "      <td>1520</td>\n",
       "    </tr>\n",
       "    <tr>\n",
       "      <th>941</th>\n",
       "      <td>was</td>\n",
       "      <td>1176</td>\n",
       "    </tr>\n",
       "    <tr>\n",
       "      <th>60</th>\n",
       "      <td>awesome</td>\n",
       "      <td>1127</td>\n",
       "    </tr>\n",
       "    <tr>\n",
       "      <th>521</th>\n",
       "      <td>mission</td>\n",
       "      <td>1094</td>\n",
       "    </tr>\n",
       "    <tr>\n",
       "      <th>413</th>\n",
       "      <td>impossible</td>\n",
       "      <td>1093</td>\n",
       "    </tr>\n",
       "    <tr>\n",
       "      <th>470</th>\n",
       "      <td>like</td>\n",
       "      <td>974</td>\n",
       "    </tr>\n",
       "    <tr>\n",
       "      <th>426</th>\n",
       "      <td>it</td>\n",
       "      <td>901</td>\n",
       "    </tr>\n",
       "    <tr>\n",
       "      <th>897</th>\n",
       "      <td>to</td>\n",
       "      <td>808</td>\n",
       "    </tr>\n",
       "    <tr>\n",
       "      <th>531</th>\n",
       "      <td>movie</td>\n",
       "      <td>783</td>\n",
       "    </tr>\n",
       "    <tr>\n",
       "      <th>864</th>\n",
       "      <td>that</td>\n",
       "      <td>719</td>\n",
       "    </tr>\n",
       "  </tbody>\n",
       "</table>\n",
       "</div>"
      ],
      "text/plain": [
       "        feature  count\n",
       "866         the   3306\n",
       "37          and   2154\n",
       "358       harry   2093\n",
       "675      potter   2093\n",
       "138        code   2002\n",
       "934       vinci   2001\n",
       "178          da   2001\n",
       "528    mountain   2000\n",
       "104   brokeback   2000\n",
       "488        love   1624\n",
       "423          is   1520\n",
       "941         was   1176\n",
       "60      awesome   1127\n",
       "521     mission   1094\n",
       "413  impossible   1093\n",
       "470        like    974\n",
       "426          it    901\n",
       "897          to    808\n",
       "531       movie    783\n",
       "864        that    719"
      ]
     },
     "metadata": {},
     "output_type": "display_data"
    }
   ],
   "source": [
    "# Counts frequency of the features and prints top 15 most-used words in the documents\n",
    "\n",
    "display(\n",
    "    pd.DataFrame(\n",
    "        {\"feature\": feature_names, \"count\": np.sum(feature_vectors.toarray(), axis = 0)}\n",
    "    ).sort_values(\"count\", ascending = False)[:20]\n",
    "\n",
    ")"
   ]
  },
  {
   "cell_type": "markdown",
   "id": "c958eeb7-6fc7-4078-b7dd-80baca335e4b",
   "metadata": {},
   "source": [
    "**Removing Stop Words**"
   ]
  },
  {
   "cell_type": "code",
   "execution_count": 16,
   "id": "933180b2-bf22-4c23-8f35-6246bea668fb",
   "metadata": {
    "tags": []
   },
   "outputs": [
    {
     "name": "stdout",
     "output_type": "stream",
     "text": [
      "['may', 'get', 'neither', 'itself', 'almost', 'everyone', 'myself', 'thus', 'thru', 'bottom']\n"
     ]
    }
   ],
   "source": [
    "# prints few of the stop words\n",
    "print(list(text.ENGLISH_STOP_WORDS)[:10])"
   ]
  },
  {
   "cell_type": "code",
   "execution_count": 17,
   "id": "d4aba5b6-baac-4303-93ad-57f8ca80b27a",
   "metadata": {
    "tags": []
   },
   "outputs": [],
   "source": [
    "# Adding few of the domain specific words as stop words\n",
    "stop_words = text.ENGLISH_STOP_WORDS.union(\n",
    "    [\"harry\", \"potter\", \"code\", \"vinci\", \"da\", \"harry\", \"mountain\", \"movie\", \"movies\"])"
   ]
  },
  {
   "cell_type": "code",
   "execution_count": 18,
   "id": "dfc3ff07-c1fc-46d8-b9ca-4539d1829d3f",
   "metadata": {
    "tags": []
   },
   "outputs": [
    {
     "data": {
      "text/html": [
       "<div>\n",
       "<style scoped>\n",
       "    .dataframe tbody tr th:only-of-type {\n",
       "        vertical-align: middle;\n",
       "    }\n",
       "\n",
       "    .dataframe tbody tr th {\n",
       "        vertical-align: top;\n",
       "    }\n",
       "\n",
       "    .dataframe thead th {\n",
       "        text-align: right;\n",
       "    }\n",
       "</style>\n",
       "<table border=\"1\" class=\"dataframe\">\n",
       "  <thead>\n",
       "    <tr style=\"text-align: right;\">\n",
       "      <th></th>\n",
       "      <th>feature</th>\n",
       "      <th>count</th>\n",
       "    </tr>\n",
       "  </thead>\n",
       "  <tbody>\n",
       "    <tr>\n",
       "      <th>73</th>\n",
       "      <td>brokeback</td>\n",
       "      <td>2000</td>\n",
       "    </tr>\n",
       "    <tr>\n",
       "      <th>408</th>\n",
       "      <td>love</td>\n",
       "      <td>1624</td>\n",
       "    </tr>\n",
       "    <tr>\n",
       "      <th>39</th>\n",
       "      <td>awesome</td>\n",
       "      <td>1127</td>\n",
       "    </tr>\n",
       "    <tr>\n",
       "      <th>436</th>\n",
       "      <td>mission</td>\n",
       "      <td>1094</td>\n",
       "    </tr>\n",
       "    <tr>\n",
       "      <th>341</th>\n",
       "      <td>impossible</td>\n",
       "      <td>1093</td>\n",
       "    </tr>\n",
       "    <tr>\n",
       "      <th>390</th>\n",
       "      <td>like</td>\n",
       "      <td>974</td>\n",
       "    </tr>\n",
       "    <tr>\n",
       "      <th>745</th>\n",
       "      <td>sucks</td>\n",
       "      <td>602</td>\n",
       "    </tr>\n",
       "    <tr>\n",
       "      <th>743</th>\n",
       "      <td>sucked</td>\n",
       "      <td>600</td>\n",
       "    </tr>\n",
       "    <tr>\n",
       "      <th>297</th>\n",
       "      <td>hate</td>\n",
       "      <td>578</td>\n",
       "    </tr>\n",
       "    <tr>\n",
       "      <th>652</th>\n",
       "      <td>really</td>\n",
       "      <td>374</td>\n",
       "    </tr>\n",
       "    <tr>\n",
       "      <th>741</th>\n",
       "      <td>stupid</td>\n",
       "      <td>365</td>\n",
       "    </tr>\n",
       "    <tr>\n",
       "      <th>362</th>\n",
       "      <td>just</td>\n",
       "      <td>287</td>\n",
       "    </tr>\n",
       "    <tr>\n",
       "      <th>374</th>\n",
       "      <td>know</td>\n",
       "      <td>276</td>\n",
       "    </tr>\n",
       "    <tr>\n",
       "      <th>742</th>\n",
       "      <td>suck</td>\n",
       "      <td>276</td>\n",
       "    </tr>\n",
       "    <tr>\n",
       "      <th>409</th>\n",
       "      <td>loved</td>\n",
       "      <td>256</td>\n",
       "    </tr>\n",
       "    <tr>\n",
       "      <th>919</th>\n",
       "      <td>want</td>\n",
       "      <td>254</td>\n",
       "    </tr>\n",
       "    <tr>\n",
       "      <th>671</th>\n",
       "      <td>right</td>\n",
       "      <td>249</td>\n",
       "    </tr>\n",
       "    <tr>\n",
       "      <th>809</th>\n",
       "      <td>think</td>\n",
       "      <td>202</td>\n",
       "    </tr>\n",
       "    <tr>\n",
       "      <th>158</th>\n",
       "      <td>depressing</td>\n",
       "      <td>188</td>\n",
       "    </tr>\n",
       "    <tr>\n",
       "      <th>529</th>\n",
       "      <td>people</td>\n",
       "      <td>183</td>\n",
       "    </tr>\n",
       "  </tbody>\n",
       "</table>\n",
       "</div>"
      ],
      "text/plain": [
       "        feature  count\n",
       "73    brokeback   2000\n",
       "408        love   1624\n",
       "39      awesome   1127\n",
       "436     mission   1094\n",
       "341  impossible   1093\n",
       "390        like    974\n",
       "745       sucks    602\n",
       "743      sucked    600\n",
       "297        hate    578\n",
       "652      really    374\n",
       "741      stupid    365\n",
       "362        just    287\n",
       "374        know    276\n",
       "742        suck    276\n",
       "409       loved    256\n",
       "919        want    254\n",
       "671       right    249\n",
       "809       think    202\n",
       "158  depressing    188\n",
       "529      people    183"
      ]
     },
     "metadata": {},
     "output_type": "display_data"
    }
   ],
   "source": [
    "# Once again, initializes CountVectorizer, but this time passing stop words as parameter\n",
    "\n",
    "count_vectorizer = CountVectorizer(stop_words = list(stop_words), max_features = 1000)\n",
    "\n",
    "# Creates features vectors (which are sparse in nature)\n",
    "feature_vectors = count_vectorizer.fit_transform(sentiments.text)\n",
    "\n",
    "# Prints total number of features\n",
    "feature_names = count_vectorizer.get_feature_names_out()\n",
    "\n",
    "# Counts frequency of the features and prints top 15 most-used words in the documents\n",
    "display(\n",
    "    pd.DataFrame(\n",
    "        {\"feature\": feature_names, \"count\": np.sum(feature_vectors.toarray(), axis = 0)}\n",
    "    ).sort_values(\"count\", ascending = False)[:20]\n",
    "\n",
    ")"
   ]
  },
  {
   "cell_type": "markdown",
   "id": "1c599a67-cfed-4c5b-8b22-0e1e9bd72782",
   "metadata": {},
   "source": [
    "**Stemming & Lemmatization**\n",
    "\n",
    "From above list, it was noticed that different forms of same word appeas in the list and vectorizer treat each of them as a feature and creates feature vector accordingly. Instead words having similar meaning can be considered as a root word. _Stemming_ and _Lemmatization_ are the two relevant techniques to deal with this."
   ]
  },
  {
   "cell_type": "code",
   "execution_count": 19,
   "id": "41d06022-ee84-418f-b41f-86510e9aa8f0",
   "metadata": {
    "tags": []
   },
   "outputs": [],
   "source": [
    "# Instantiates stemmer\n",
    "stemmer = PorterStemmer()\n",
    "\n",
    "# Instantiates analyzer object for document tokentization to be used in stemming\n",
    "analyzer = CountVectorizer().build_analyzer()"
   ]
  },
  {
   "cell_type": "code",
   "execution_count": 20,
   "id": "c72b54c9-9a31-41dc-b242-fd3bce5e1719",
   "metadata": {
    "tags": []
   },
   "outputs": [
    {
     "data": {
      "text/html": [
       "<div>\n",
       "<style scoped>\n",
       "    .dataframe tbody tr th:only-of-type {\n",
       "        vertical-align: middle;\n",
       "    }\n",
       "\n",
       "    .dataframe tbody tr th {\n",
       "        vertical-align: top;\n",
       "    }\n",
       "\n",
       "    .dataframe thead th {\n",
       "        text-align: right;\n",
       "    }\n",
       "</style>\n",
       "<table border=\"1\" class=\"dataframe\">\n",
       "  <thead>\n",
       "    <tr style=\"text-align: right;\">\n",
       "      <th></th>\n",
       "      <th>feature</th>\n",
       "      <th>count</th>\n",
       "    </tr>\n",
       "  </thead>\n",
       "  <tbody>\n",
       "    <tr>\n",
       "      <th>303</th>\n",
       "      <td>harri</td>\n",
       "      <td>2093</td>\n",
       "    </tr>\n",
       "    <tr>\n",
       "      <th>83</th>\n",
       "      <td>brokeback</td>\n",
       "      <td>2000</td>\n",
       "    </tr>\n",
       "    <tr>\n",
       "      <th>414</th>\n",
       "      <td>love</td>\n",
       "      <td>1883</td>\n",
       "    </tr>\n",
       "    <tr>\n",
       "      <th>791</th>\n",
       "      <td>suck</td>\n",
       "      <td>1484</td>\n",
       "    </tr>\n",
       "    <tr>\n",
       "      <th>922</th>\n",
       "      <td>wa</td>\n",
       "      <td>1176</td>\n",
       "    </tr>\n",
       "    <tr>\n",
       "      <th>400</th>\n",
       "      <td>like</td>\n",
       "      <td>1155</td>\n",
       "    </tr>\n",
       "    <tr>\n",
       "      <th>447</th>\n",
       "      <td>movi</td>\n",
       "      <td>1149</td>\n",
       "    </tr>\n",
       "    <tr>\n",
       "      <th>45</th>\n",
       "      <td>awesom</td>\n",
       "      <td>1130</td>\n",
       "    </tr>\n",
       "    <tr>\n",
       "      <th>441</th>\n",
       "      <td>mission</td>\n",
       "      <td>1094</td>\n",
       "    </tr>\n",
       "    <tr>\n",
       "      <th>351</th>\n",
       "      <td>imposs</td>\n",
       "      <td>1093</td>\n",
       "    </tr>\n",
       "    <tr>\n",
       "      <th>305</th>\n",
       "      <td>hate</td>\n",
       "      <td>701</td>\n",
       "    </tr>\n",
       "    <tr>\n",
       "      <th>56</th>\n",
       "      <td>becaus</td>\n",
       "      <td>608</td>\n",
       "    </tr>\n",
       "    <tr>\n",
       "      <th>615</th>\n",
       "      <td>realli</td>\n",
       "      <td>374</td>\n",
       "    </tr>\n",
       "    <tr>\n",
       "      <th>784</th>\n",
       "      <td>stupid</td>\n",
       "      <td>365</td>\n",
       "    </tr>\n",
       "    <tr>\n",
       "      <th>386</th>\n",
       "      <td>know</td>\n",
       "      <td>360</td>\n",
       "    </tr>\n",
       "    <tr>\n",
       "      <th>929</th>\n",
       "      <td>want</td>\n",
       "      <td>337</td>\n",
       "    </tr>\n",
       "    <tr>\n",
       "      <th>611</th>\n",
       "      <td>read</td>\n",
       "      <td>295</td>\n",
       "    </tr>\n",
       "    <tr>\n",
       "      <th>374</th>\n",
       "      <td>just</td>\n",
       "      <td>287</td>\n",
       "    </tr>\n",
       "    <tr>\n",
       "      <th>645</th>\n",
       "      <td>right</td>\n",
       "      <td>249</td>\n",
       "    </tr>\n",
       "    <tr>\n",
       "      <th>841</th>\n",
       "      <td>thi</td>\n",
       "      <td>214</td>\n",
       "    </tr>\n",
       "  </tbody>\n",
       "</table>\n",
       "</div>"
      ],
      "text/plain": [
       "       feature  count\n",
       "303      harri   2093\n",
       "83   brokeback   2000\n",
       "414       love   1883\n",
       "791       suck   1484\n",
       "922         wa   1176\n",
       "400       like   1155\n",
       "447       movi   1149\n",
       "45      awesom   1130\n",
       "441    mission   1094\n",
       "351     imposs   1093\n",
       "305       hate    701\n",
       "56      becaus    608\n",
       "615     realli    374\n",
       "784     stupid    365\n",
       "386       know    360\n",
       "929       want    337\n",
       "611       read    295\n",
       "374       just    287\n",
       "645      right    249\n",
       "841        thi    214"
      ]
     },
     "metadata": {},
     "output_type": "display_data"
    }
   ],
   "source": [
    "# Once again, initializes CountVectorizer, but this time passing an analyser as parameter to stem words\n",
    "count_vectorizer = CountVectorizer(\n",
    "    analyzer=lambda doc: [word for word in [stemmer.stem(word) for word in analyzer(doc)] \\\n",
    "                          if word not in list(stop_words)],\n",
    "    max_features = 1000\n",
    ")\n",
    "\n",
    "# Creates features vectors (which are sparse in nature)\n",
    "feature_vectors = count_vectorizer.fit_transform(sentiments.text)\n",
    "\n",
    "# Prints total number of features\n",
    "feature_names = count_vectorizer.get_feature_names_out()\n",
    "\n",
    "# Counts frequency of the features and prints top 15 most-used words in the documents\n",
    "display(\n",
    "    pd.DataFrame(\n",
    "        {\"feature\": feature_names, \"count\": np.sum(feature_vectors.toarray(), axis = 0)}\n",
    "    ).sort_values(\"count\", ascending = False)[:20]\n",
    "\n",
    ")"
   ]
  },
  {
   "cell_type": "markdown",
   "id": "f5ec4803-4c25-4864-997a-7dd6e8efe701",
   "metadata": {},
   "source": [
    "It can be noted from the above list that the applicable words have stemmed into their root forms."
   ]
  },
  {
   "cell_type": "markdown",
   "id": "996020a0-e7b1-4d5b-b5a8-006cc8f4e058",
   "metadata": {},
   "source": [
    "**Word Distribution Across Sentiments**\n",
    "\n",
    "Checks distributions of words having positive and negative meaning across documents of diffenent sentiments to get an estimate of how these words could be a features for predicting sentiments of documents."
   ]
  },
  {
   "cell_type": "code",
   "execution_count": 21,
   "id": "ae24b953-24ab-418f-9581-6edfeac004ba",
   "metadata": {
    "tags": []
   },
   "outputs": [],
   "source": [
    "# Stores dense matrix representation for features\n",
    "feature_vectors_densed = pd.DataFrame(feature_vectors.todense())\n",
    "\n",
    "# Sets the feature names as column names\n",
    "feature_vectors_densed.columns = feature_names"
   ]
  },
  {
   "cell_type": "code",
   "execution_count": 22,
   "id": "d0cbc328-a4ca-452e-8440-cbe24471e1ca",
   "metadata": {
    "tags": []
   },
   "outputs": [
    {
     "data": {
      "image/png": "[encoded data removed]",
      "text/plain": [
       "<Figure size 640x480 with 1 Axes>"
      ]
     },
     "metadata": {},
     "output_type": "display_data"
    }
   ],
   "source": [
    "# shows the frequency of positive word 'awesom' in documents \n",
    "# with respect to positive and negative sentiments\n",
    "sns.barplot(x = sentiments.sentiment, y = \"awesom\", \n",
    "            data = feature_vectors_densed, estimator=sum, errorbar=None)\n",
    "plt.title(\"Frequency of word 'awesom' in documents \" \\\n",
    "          \"with respect to positive and negative sentiments\")\n",
    "plt.show()"
   ]
  },
  {
   "cell_type": "markdown",
   "id": "b55ba42f-00e9-4ced-99f4-ec2af3651f61",
   "metadata": {},
   "source": [
    "As shown above, the word _awesom_ (stemmed word for _awesome_) appears mostly in positive sentiment documents."
   ]
  },
  {
   "cell_type": "code",
   "execution_count": 23,
   "id": "15cb5f2a-76fb-4479-9b27-5c16c426e61a",
   "metadata": {
    "tags": []
   },
   "outputs": [
    {
     "data": {
      "image/png": "[encoded data removed]",
      "text/plain": [
       "<Figure size 640x480 with 1 Axes>"
      ]
     },
     "metadata": {},
     "output_type": "display_data"
    }
   ],
   "source": [
    "# Similarly, shows the frequency of neutral word 'realli' in documents \n",
    "# with respect to positive and negative sentiments\n",
    "sns.barplot(x = sentiments.sentiment, y = \"realli\", \n",
    "            data = feature_vectors_densed, estimator=sum, errorbar=None)\n",
    "plt.title(\"Frequency of word 'realli' in documents \" \\\n",
    "          \"with respect to positive and negative sentiments\")\n",
    "plt.show()"
   ]
  },
  {
   "cell_type": "markdown",
   "id": "4252fe2d-492b-41f8-bba4-35469871b322",
   "metadata": {},
   "source": [
    "As shown in the above figure, the word _realli_ (stemmed word for _really_) occurs almost equally across positive and negative sentiments."
   ]
  },
  {
   "cell_type": "code",
   "execution_count": 24,
   "id": "22717dcd-7af0-4946-a2c1-0224d3e94343",
   "metadata": {
    "tags": []
   },
   "outputs": [
    {
     "data": {
      "image/png": "[encoded data removed]",
      "text/plain": [
       "<Figure size 640x480 with 1 Axes>"
      ]
     },
     "metadata": {},
     "output_type": "display_data"
    }
   ],
   "source": [
    "# Now, shows the frequency of negative word 'hate' in documents \n",
    "# with respect to positive and negative sentiments\n",
    "sns.barplot(x = sentiments.sentiment, y = \"hate\", \n",
    "            data = feature_vectors_densed, estimator=sum, errorbar=None)\n",
    "plt.title(\"Frequency of word 'hate' in documents \" \\\n",
    "          \"with respect to positive and negative sentiments\")\n",
    "plt.show()"
   ]
  },
  {
   "cell_type": "markdown",
   "id": "b749c47e-c9fc-40ff-86b0-c7918ece07ce",
   "metadata": {},
   "source": [
    "The above figure shows that word _hate_ occurs mostly in negative sentiments than positive sentiments."
   ]
  },
  {
   "cell_type": "markdown",
   "id": "dbeaa414-ad2e-4f7b-82c2-4d6fd681d2b4",
   "metadata": {},
   "source": [
    "## Modeling"
   ]
  },
  {
   "cell_type": "code",
   "execution_count": 25,
   "id": "24551a10-d52d-4cf4-8ff0-a32433670ea6",
   "metadata": {
    "tags": []
   },
   "outputs": [],
   "source": [
    "# Prepares data set for training and testing\n",
    "train_X, test_X, train_y, test_y = train_test_split(\n",
    "    feature_vectors, sentiments.sentiment, test_size = 0.3, \n",
    "    stratify = sentiments.sentiment, random_state = 42)"
   ]
  },
  {
   "cell_type": "markdown",
   "id": "93fddf33-94c3-422c-855e-89d407a07be1",
   "metadata": {
    "tags": []
   },
   "source": [
    "### Text Classification using Naive-Bayes Models"
   ]
  },
  {
   "cell_type": "markdown",
   "id": "2cd0a7bb-6ef6-463b-9f37-0d7c97f0e6e6",
   "metadata": {},
   "source": [
    "To predict if a document having a specific word is of positive or negative sentiment, then the expression using Naive-Bayes model is as shown below.\n",
    "\n",
    "$P(doc = +ve | word = w_1) = P(word = w_1 | doc = +ve) * P(doc = +ve)$\n",
    "\n",
    "And, to predict of a documents having more than one word of interest, the the expression could be \n",
    "\n",
    "$P(doc = +ve | word = w_1, w_2, ..., w_n) = \\prod_{i=1}^n{P_i(word = w_i | doc = +ve) * P(doc = +ve)}$"
   ]
  },
  {
   "cell_type": "code",
   "execution_count": 26,
   "id": "13c3085c-f5d4-48af-89ce-30fd69591076",
   "metadata": {
    "tags": []
   },
   "outputs": [],
   "source": [
    "# Instantiate classifier\n",
    "bernoulli_nb_clf = BernoulliNB()\n",
    "\n",
    "# Fits the model\n",
    "bernoulli_nb_clf.fit(train_X.toarray(), train_y)\n",
    "\n",
    "# Performs predictions\n",
    "predictions = bernoulli_nb_clf.predict(test_X.toarray())"
   ]
  },
  {
   "cell_type": "markdown",
   "id": "0431ec8f-9cc6-44b7-93eb-b957991647b2",
   "metadata": {},
   "source": [
    "**Measure Model Performance**"
   ]
  },
  {
   "cell_type": "code",
   "execution_count": 27,
   "id": "8dc01b7d-dd82-430c-ad7a-72fa1f68c286",
   "metadata": {
    "tags": []
   },
   "outputs": [
    {
     "data": {
      "image/png": "[encoded data removed]",
      "text/plain": [
       "<Figure size 640x480 with 2 Axes>"
      ]
     },
     "metadata": {},
     "output_type": "display_data"
    }
   ],
   "source": [
    "# Creates confusion matrix\n",
    "conf_matrix = confusion_matrix(test_y, predictions)\n",
    "\n",
    "sns.heatmap(conf_matrix, annot = True, fmt = \".0f\");\n",
    "plt.ylabel(\"True Sentiments\")\n",
    "plt.xlabel(\"Predicted Sentiments\")\n",
    "plt.title(\"Confusion matrix of sentiment classiﬁcation using \" \\\n",
    "          \"Bernoulli Naive Bayes classification model\")\n",
    "plt.show()"
   ]
  },
  {
   "cell_type": "code",
   "execution_count": 28,
   "id": "278166f3-f666-4fbf-a68c-325cb8dbb312",
   "metadata": {
    "tags": []
   },
   "outputs": [
    {
     "name": "stdout",
     "output_type": "stream",
     "text": [
      "              precision    recall  f1-score   support\n",
      "\n",
      "           0       0.99      0.98      0.98       893\n",
      "           1       0.99      0.99      0.99      1183\n",
      "\n",
      "    accuracy                           0.99      2076\n",
      "   macro avg       0.99      0.99      0.99      2076\n",
      "weighted avg       0.99      0.99      0.99      2076\n",
      "\n"
     ]
    }
   ],
   "source": [
    "# Prints classification report\n",
    "print(classification_report(test_y, predictions))"
   ]
  },
  {
   "cell_type": "markdown",
   "id": "8d067f56-af6d-4677-a137-820fae5f61af",
   "metadata": {},
   "source": [
    "### Text Classification using TF-IDF Vectorizer"
   ]
  },
  {
   "cell_type": "code",
   "execution_count": 29,
   "id": "dcf3870f-07c8-4b5c-a1f4-92a7fccb706b",
   "metadata": {
    "tags": []
   },
   "outputs": [],
   "source": [
    "# Initializes IF-IDF vectorizer\n",
    "tf_idf_vectorizer = TfidfVectorizer(\n",
    "    analyzer=lambda doc: [word for word in [stemmer.stem(word) for word in analyzer(doc)] \\\n",
    "                          if word not in list(stop_words)],\n",
    "    max_features = 1000\n",
    ")\n",
    "\n",
    "# Creates features vectors (which are sparse in nature)\n",
    "feature_vectors = tf_idf_vectorizer.fit_transform(sentiments.text)\n",
    "\n",
    "# Prints total number of features\n",
    "feature_names = tf_idf_vectorizer.get_feature_names_out()\n"
   ]
  },
  {
   "cell_type": "markdown",
   "id": "27a6d7b0-201c-4938-95f4-8d045745bd47",
   "metadata": {
    "tags": []
   },
   "source": [
    "As TF-IDF are continious values and these values are considered to be of Gaussian distribution, Gaussian Naive Bayes classifier is used classify the documents.\n"
   ]
  },
  {
   "cell_type": "code",
   "execution_count": 30,
   "id": "1bfb56e6-54f1-44d3-a7e8-973b708c050b",
   "metadata": {
    "tags": []
   },
   "outputs": [],
   "source": [
    "# Prepares data set for training and testing\n",
    "train_X, test_X, train_y, test_y = train_test_split(\n",
    "    feature_vectors, sentiments.sentiment, test_size = 0.3, \n",
    "    stratify = sentiments.sentiment, random_state = 42)"
   ]
  },
  {
   "cell_type": "code",
   "execution_count": 31,
   "id": "42fc4ca9-1856-49ef-8a71-60f81e08f9aa",
   "metadata": {
    "tags": []
   },
   "outputs": [],
   "source": [
    "# Instantiate classifier\n",
    "gaussian_nb_clf = GaussianNB()\n",
    "\n",
    "# Fits the model\n",
    "gaussian_nb_clf.fit(train_X.toarray(), train_y)\n",
    "\n",
    "# Performs predictions\n",
    "predictions = gaussian_nb_clf.predict(test_X.toarray())"
   ]
  },
  {
   "cell_type": "code",
   "execution_count": 32,
   "id": "c9e02817-d7b1-4c2b-b296-deb70ad5a76e",
   "metadata": {
    "tags": []
   },
   "outputs": [
    {
     "data": {
      "image/png": "[encoded data removed]",
      "text/plain": [
       "<Figure size 640x480 with 2 Axes>"
      ]
     },
     "metadata": {},
     "output_type": "display_data"
    }
   ],
   "source": [
    "# Creates confusion matrix\n",
    "conf_matrix = confusion_matrix(test_y, predictions)\n",
    "\n",
    "sns.heatmap(conf_matrix, annot = True, fmt = \".0f\");\n",
    "plt.ylabel(\"True Sentiments\")\n",
    "plt.xlabel(\"Predicted Sentiments\")\n",
    "plt.title(\"Confusion matrix of sentiment classiﬁcation using \" \\\n",
    "          \"Gaussian Naive Bayes classification model\")\n",
    "plt.show()"
   ]
  },
  {
   "cell_type": "code",
   "execution_count": 33,
   "id": "56cc995a-6db1-4992-a4c3-dfe1433c6dc2",
   "metadata": {
    "tags": []
   },
   "outputs": [
    {
     "name": "stdout",
     "output_type": "stream",
     "text": [
      "              precision    recall  f1-score   support\n",
      "\n",
      "           0       0.95      0.96      0.95       893\n",
      "           1       0.97      0.96      0.96      1183\n",
      "\n",
      "    accuracy                           0.96      2076\n",
      "   macro avg       0.96      0.96      0.96      2076\n",
      "weighted avg       0.96      0.96      0.96      2076\n",
      "\n"
     ]
    }
   ],
   "source": [
    "# Prints classification report\n",
    "print(classification_report(test_y, predictions))"
   ]
  },
  {
   "cell_type": "markdown",
   "id": "653ae8ec-f4a3-4561-86f9-9618705e49f7",
   "metadata": {},
   "source": [
    "### Text Classification using N-Gram"
   ]
  },
  {
   "cell_type": "code",
   "execution_count": 43,
   "id": "63c48adb-d36a-4ac7-bdf4-4f8f8a968008",
   "metadata": {
    "tags": []
   },
   "outputs": [
    {
     "name": "stderr",
     "output_type": "stream",
     "text": [
      "[nltk_data] Downloading package punkt to /home/pradip/nltk_data...\n",
      "[nltk_data]   Unzipping tokenizers/punkt.zip.\n"
     ]
    },
    {
     "data": {
      "text/plain": [
       "True"
      ]
     },
     "execution_count": 43,
     "metadata": {},
     "output_type": "execute_result"
    }
   ],
   "source": [
    "# The following statement downloads the NLTK specific punctuations \n",
    "# resources; It needs to be executed only once and will get cached for later use.\n",
    "# Note that this step may take several minutes to complete.\n",
    "\n",
    "nltk.download('punkt')"
   ]
  },
  {
   "cell_type": "code",
   "execution_count": 34,
   "id": "3f883fd5-7323-4025-b59f-08ec009d2a7b",
   "metadata": {
    "tags": []
   },
   "outputs": [],
   "source": [
    "# Sets n for n-gram\n",
    "n_gram_range = (1, 2)\n",
    "\n",
    "# Initializes IF-IDF vectorizer\n",
    "tf_idf_vectorizer = TfidfVectorizer(\n",
    "    tokenizer = lambda doc: [word for word in \\\n",
    "                             [stemmer.stem(word) for word in \\\n",
    "                              [word for word in word_tokenize(doc) if re.search('[a-zA-Z]', word) is not None]]],\n",
    "    stop_words = list(stop_words), # or \"english\"\n",
    "    ngram_range = n_gram_range,\n",
    "    max_features = 1000\n",
    ")"
   ]
  },
  {
   "cell_type": "code",
   "execution_count": 35,
   "id": "17ea0a74-374f-43f7-9b7a-09ddc346dcf1",
   "metadata": {
    "tags": []
   },
   "outputs": [
    {
     "name": "stderr",
     "output_type": "stream",
     "text": [
      "/home/pradip/anaconda3/lib/python3.11/site-packages/sklearn/feature_extraction/text.py:525: UserWarning: The parameter 'token_pattern' will not be used since 'tokenizer' is not None'\n",
      "  warnings.warn(\n",
      "/home/pradip/anaconda3/lib/python3.11/site-packages/sklearn/feature_extraction/text.py:408: UserWarning: Your stop_words may be inconsistent with your preprocessing. Tokenizing the stop words generated tokens ['abov', 'afterward', 'alon', 'alreadi', 'alway', 'ani', 'anoth', 'anyon', 'anyth', 'anywher', 'becam', 'becaus', 'becom', 'befor', 'besid', 'cri', 'describ', 'dure', 'els', 'elsewher', 'empti', 'everi', 'everyon', 'everyth', 'everywher', 'fifti', 'formerli', 'forti', 'ha', 'harri', 'henc', 'hereaft', 'herebi', 'hi', 'howev', 'hundr', 'inde', 'latterli', 'mani', 'meanwhil', 'moreov', 'mostli', 'movi', 'nobodi', 'noon', 'noth', 'nowher', 'onc', 'onli', 'otherwis', 'ourselv', 'perhap', 'pleas', 'seriou', 'sever', 'sinc', 'sincer', 'sixti', 'someon', 'someth', 'sometim', 'somewher', 'themselv', 'thenc', 'thereaft', 'therebi', 'therefor', 'thi', 'thu', 'togeth', 'twelv', 'twenti', 'veri', 'wa', 'whatev', 'whenc', 'whenev', 'wherea', 'whereaft', 'wherebi', 'wherev', 'whi', 'yourselv'] not in stop_words.\n",
      "  warnings.warn(\n"
     ]
    }
   ],
   "source": [
    "\n",
    "# Creates features vectors (which are sparse in nature)\n",
    "feature_vectors = tf_idf_vectorizer.fit_transform(sentiments.text)\n",
    "\n",
    "# Prints total number of features\n",
    "feature_names = tf_idf_vectorizer.get_feature_names_out()"
   ]
  },
  {
   "cell_type": "code",
   "execution_count": 36,
   "id": "039f5fdf-22ce-48e6-a61c-752519908786",
   "metadata": {
    "tags": []
   },
   "outputs": [],
   "source": [
    "# Prepares data set for training and testing\n",
    "train_X, test_X, train_y, test_y = train_test_split(\n",
    "    feature_vectors, sentiments.sentiment, test_size = 0.3, \n",
    "    stratify = sentiments.sentiment, random_state = 42)"
   ]
  },
  {
   "cell_type": "code",
   "execution_count": 37,
   "id": "cfb5d7cd-6d28-4fc2-950a-6e315bc8c69f",
   "metadata": {
    "tags": []
   },
   "outputs": [],
   "source": [
    "# Instantiate classifier\n",
    "bernoulli_nb_clf = BernoulliNB()\n",
    "\n",
    "# Fits the model\n",
    "bernoulli_nb_clf.fit(train_X.toarray(), train_y)\n",
    "\n",
    "# Performs predictions\n",
    "predictions = bernoulli_nb_clf.predict(test_X.toarray())"
   ]
  },
  {
   "cell_type": "code",
   "execution_count": 38,
   "id": "f121aeec-0c5e-41f0-b148-5408e8e38d9d",
   "metadata": {
    "tags": []
   },
   "outputs": [
    {
     "data": {
      "image/png": "[encoded data removed]",
      "text/plain": [
       "<Figure size 640x480 with 2 Axes>"
      ]
     },
     "metadata": {},
     "output_type": "display_data"
    }
   ],
   "source": [
    "# Creates confusion matrix\n",
    "conf_matrix = confusion_matrix(test_y, predictions)\n",
    "\n",
    "sns.heatmap(conf_matrix, annot = True, fmt = \".0f\");\n",
    "plt.ylabel(\"True Sentiments\")\n",
    "plt.xlabel(\"Predicted Sentiments\")\n",
    "plt.title(\"Confusion matrix of sentiment classiﬁcation using \" \\\n",
    "          \"Bernoulli Naive Bayes classification model on n-gram features\")\n",
    "plt.show()"
   ]
  },
  {
   "cell_type": "code",
   "execution_count": 39,
   "id": "eb2a974c-b7cd-49f1-a965-8c7669114951",
   "metadata": {
    "tags": []
   },
   "outputs": [
    {
     "name": "stdout",
     "output_type": "stream",
     "text": [
      "              precision    recall  f1-score   support\n",
      "\n",
      "           0       0.99      0.97      0.98       893\n",
      "           1       0.98      0.99      0.99      1183\n",
      "\n",
      "    accuracy                           0.99      2076\n",
      "   macro avg       0.99      0.98      0.99      2076\n",
      "weighted avg       0.99      0.99      0.99      2076\n",
      "\n"
     ]
    }
   ],
   "source": [
    "# Prints classification report\n",
    "print(classification_report(test_y, predictions))"
   ]
  },
  {
   "cell_type": "markdown",
   "id": "012149da-bc12-44f9-818b-963c88a2519b",
   "metadata": {},
   "source": [
    "Note that recall for positive sentiments has increased nearly to 100%."
   ]
  },
  {
   "cell_type": "code",
   "execution_count": null,
   "id": "72080bc1-ee46-43ba-b7b8-61cd1d7af064",
   "metadata": {},
   "outputs": [],
   "source": []
  }
 ],
 "metadata": {
  "kernelspec": {
   "display_name": "Python 3 (ipykernel)",
   "language": "python",
   "name": "python3"
  },
  "language_info": {
   "codemirror_mode": {
    "name": "ipython",
    "version": 3
   },
   "file_extension": ".py",
   "mimetype": "text/x-python",
   "name": "python",
   "nbconvert_exporter": "python",
   "pygments_lexer": "ipython3",
   "version": "3.11.4"
  }
 },
 "nbformat": 4,
 "nbformat_minor": 5
}
