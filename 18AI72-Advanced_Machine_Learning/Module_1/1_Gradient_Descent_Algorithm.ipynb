{
 "cells": [
  {
   "cell_type": "markdown",
   "id": "e415377f-8137-44f1-a2ff-b9f948c8dd90",
   "metadata": {},
   "source": [
    "# Developing Gradient Descent (GD) Algorithm for Linear Regression\n",
    "_Implementing Gradient Descent optimization algorithm to build a Linear Regression model._"
   ]
  },
  {
   "cell_type": "code",
   "execution_count": 1,
   "id": "83629e4a-555b-4ed9-9c64-b26df487d134",
   "metadata": {},
   "outputs": [],
   "source": [
    "# Imports required libraries\n",
    "\n",
    "import pandas as pd\n",
    "import numpy as np\n",
    "\n",
    "import matplotlib.pyplot as plt\n",
    "import seaborn as sns\n",
    "%matplotlib inline"
   ]
  },
  {
   "cell_type": "markdown",
   "id": "b66de38e-5a88-42f9-8d7f-87aa64ea1574",
   "metadata": {},
   "source": [
    "## Loading Data Set\n",
    "_The dataset being used here contains the examples of advertisement spends across multiple channels such as Radio, TV, and Newspaper, and the corresponding sales revenue generated at different time periods. In this regression task, a regression model was built for predicting future sales using spends on different advertisement channels._"
   ]
  },
  {
   "cell_type": "code",
   "execution_count": 2,
   "id": "2d2261e5-faea-4190-bba4-efac6bba84fb",
   "metadata": {},
   "outputs": [],
   "source": [
    "# Loads the data set\n",
    "sales = pd.read_csv(\"../../Data/Advertising.csv\")"
   ]
  },
  {
   "cell_type": "code",
   "execution_count": 3,
   "id": "bc842b86-951c-4aac-9067-0741aefec6cf",
   "metadata": {},
   "outputs": [
    {
     "data": {
      "text/html": [
       "<div>\n",
       "<style scoped>\n",
       "    .dataframe tbody tr th:only-of-type {\n",
       "        vertical-align: middle;\n",
       "    }\n",
       "\n",
       "    .dataframe tbody tr th {\n",
       "        vertical-align: top;\n",
       "    }\n",
       "\n",
       "    .dataframe thead th {\n",
       "        text-align: right;\n",
       "    }\n",
       "</style>\n",
       "<table border=\"1\" class=\"dataframe\">\n",
       "  <thead>\n",
       "    <tr style=\"text-align: right;\">\n",
       "      <th></th>\n",
       "      <th>Unnamed: 0</th>\n",
       "      <th>TV</th>\n",
       "      <th>Radio</th>\n",
       "      <th>Newspaper</th>\n",
       "      <th>Sales</th>\n",
       "    </tr>\n",
       "  </thead>\n",
       "  <tbody>\n",
       "    <tr>\n",
       "      <th>0</th>\n",
       "      <td>1</td>\n",
       "      <td>230.1</td>\n",
       "      <td>37.8</td>\n",
       "      <td>69.2</td>\n",
       "      <td>22.1</td>\n",
       "    </tr>\n",
       "    <tr>\n",
       "      <th>1</th>\n",
       "      <td>2</td>\n",
       "      <td>44.5</td>\n",
       "      <td>39.3</td>\n",
       "      <td>45.1</td>\n",
       "      <td>10.4</td>\n",
       "    </tr>\n",
       "    <tr>\n",
       "      <th>2</th>\n",
       "      <td>3</td>\n",
       "      <td>17.2</td>\n",
       "      <td>45.9</td>\n",
       "      <td>69.3</td>\n",
       "      <td>9.3</td>\n",
       "    </tr>\n",
       "    <tr>\n",
       "      <th>3</th>\n",
       "      <td>4</td>\n",
       "      <td>151.5</td>\n",
       "      <td>41.3</td>\n",
       "      <td>58.5</td>\n",
       "      <td>18.5</td>\n",
       "    </tr>\n",
       "    <tr>\n",
       "      <th>4</th>\n",
       "      <td>5</td>\n",
       "      <td>180.8</td>\n",
       "      <td>10.8</td>\n",
       "      <td>58.4</td>\n",
       "      <td>12.9</td>\n",
       "    </tr>\n",
       "  </tbody>\n",
       "</table>\n",
       "</div>"
      ],
      "text/plain": [
       "   Unnamed: 0     TV  Radio  Newspaper  Sales\n",
       "0           1  230.1   37.8       69.2   22.1\n",
       "1           2   44.5   39.3       45.1   10.4\n",
       "2           3   17.2   45.9       69.3    9.3\n",
       "3           4  151.5   41.3       58.5   18.5\n",
       "4           5  180.8   10.8       58.4   12.9"
      ]
     },
     "execution_count": 3,
     "metadata": {},
     "output_type": "execute_result"
    }
   ],
   "source": [
    "# Views the few of rows from the data set\n",
    "sales.head()"
   ]
  },
  {
   "cell_type": "code",
   "execution_count": 4,
   "id": "db1ba5e6-627d-4eff-8219-ee763ba096bf",
   "metadata": {},
   "outputs": [
    {
     "name": "stdout",
     "output_type": "stream",
     "text": [
      "<class 'pandas.core.frame.DataFrame'>\n",
      "RangeIndex: 200 entries, 0 to 199\n",
      "Data columns (total 5 columns):\n",
      " #   Column      Non-Null Count  Dtype  \n",
      "---  ------      --------------  -----  \n",
      " 0   Unnamed: 0  200 non-null    int64  \n",
      " 1   TV          200 non-null    float64\n",
      " 2   Radio       200 non-null    float64\n",
      " 3   Newspaper   200 non-null    float64\n",
      " 4   Sales       200 non-null    float64\n",
      "dtypes: float64(4), int64(1)\n",
      "memory usage: 7.9 KB\n",
      "None\n"
     ]
    }
   ],
   "source": [
    "# Prints information about the data set\n",
    "print(sales.info())"
   ]
  },
  {
   "cell_type": "markdown",
   "id": "596962cb-a88b-4858-9aef-af745dd84f72",
   "metadata": {},
   "source": [
    "## Preparing Data Set"
   ]
  },
  {
   "cell_type": "code",
   "execution_count": 5,
   "id": "10b34223-8bf0-44d7-9ed6-38532ed6383e",
   "metadata": {},
   "outputs": [],
   "source": [
    "# Seperates features and target\n",
    "\n",
    "X = sales[[\"TV\", \"Radio\", \"Newspaper\"]]\n",
    "y = sales[\"Sales\"]"
   ]
  },
  {
   "cell_type": "code",
   "execution_count": 6,
   "id": "19f2cfce-a0d4-4405-b605-6733b160d4c4",
   "metadata": {},
   "outputs": [],
   "source": [
    "# Standardizes features\n",
    "X = X.apply(lambda x: (x - X.mean()) / X.std(), axis = 1)"
   ]
  },
  {
   "cell_type": "code",
   "execution_count": 7,
   "id": "5a18abbd-7487-493a-8092-dba58e4288d6",
   "metadata": {},
   "outputs": [
    {
     "data": {
      "text/html": [
       "<div>\n",
       "<style scoped>\n",
       "    .dataframe tbody tr th:only-of-type {\n",
       "        vertical-align: middle;\n",
       "    }\n",
       "\n",
       "    .dataframe tbody tr th {\n",
       "        vertical-align: top;\n",
       "    }\n",
       "\n",
       "    .dataframe thead th {\n",
       "        text-align: right;\n",
       "    }\n",
       "</style>\n",
       "<table border=\"1\" class=\"dataframe\">\n",
       "  <thead>\n",
       "    <tr style=\"text-align: right;\">\n",
       "      <th></th>\n",
       "      <th>TV</th>\n",
       "      <th>Radio</th>\n",
       "      <th>Newspaper</th>\n",
       "    </tr>\n",
       "  </thead>\n",
       "  <tbody>\n",
       "    <tr>\n",
       "      <th>0</th>\n",
       "      <td>0.967425</td>\n",
       "      <td>0.979066</td>\n",
       "      <td>1.774493</td>\n",
       "    </tr>\n",
       "    <tr>\n",
       "      <th>1</th>\n",
       "      <td>-1.194379</td>\n",
       "      <td>1.080097</td>\n",
       "      <td>0.667903</td>\n",
       "    </tr>\n",
       "    <tr>\n",
       "      <th>2</th>\n",
       "      <td>-1.512360</td>\n",
       "      <td>1.524637</td>\n",
       "      <td>1.779084</td>\n",
       "    </tr>\n",
       "    <tr>\n",
       "      <th>3</th>\n",
       "      <td>0.051919</td>\n",
       "      <td>1.214806</td>\n",
       "      <td>1.283185</td>\n",
       "    </tr>\n",
       "    <tr>\n",
       "      <th>4</th>\n",
       "      <td>0.393196</td>\n",
       "      <td>-0.839507</td>\n",
       "      <td>1.278593</td>\n",
       "    </tr>\n",
       "  </tbody>\n",
       "</table>\n",
       "</div>"
      ],
      "text/plain": [
       "         TV     Radio  Newspaper\n",
       "0  0.967425  0.979066   1.774493\n",
       "1 -1.194379  1.080097   0.667903\n",
       "2 -1.512360  1.524637   1.779084\n",
       "3  0.051919  1.214806   1.283185\n",
       "4  0.393196 -0.839507   1.278593"
      ]
     },
     "metadata": {},
     "output_type": "display_data"
    }
   ],
   "source": [
    "# Checks how the standardized features look like\n",
    "display(X.head())"
   ]
  },
  {
   "cell_type": "code",
   "execution_count": 8,
   "id": "d6d91d39-6cf2-4f0b-9926-cf7f3e8f532e",
   "metadata": {},
   "outputs": [
    {
     "data": {
      "text/plain": [
       "array([[ 1.        ,  0.9674246 ,  0.97906559,  1.77449253],\n",
       "       [ 1.        , -1.19437904,  1.0800974 ,  0.66790272],\n",
       "       [ 1.        , -1.51235985,  1.52463736,  1.77908419],\n",
       "       [ 1.        ,  0.05191939,  1.21480648,  1.28318502],\n",
       "       [ 1.        ,  0.39319551, -0.83950698,  1.27859336],\n",
       "       [ 1.        , -1.61136487,  1.72670098,  2.04080875],\n",
       "       [ 1.        , -1.0429596 ,  0.64229289, -0.32389562],\n",
       "       [ 1.        , -0.31265202, -0.24678703, -0.87030304],\n",
       "       [ 1.        , -1.61252963, -1.42549148, -1.3570189 ],\n",
       "       [ 1.        ,  0.61450084, -1.39181421, -0.42950378]])"
      ]
     },
     "metadata": {},
     "output_type": "display_data"
    }
   ],
   "source": [
    "# Creates additional feature values for x0 for each instance\n",
    "# This makes the number of features equal to the number of parameters that include bias\n",
    "X_new = np.c_[np.ones((X.shape[0], 1)), X]\n",
    "\n",
    "# Checks how the new features look like\n",
    "display(X_new[:10])"
   ]
  },
  {
   "cell_type": "code",
   "execution_count": 9,
   "id": "9a8597fd-f4b1-4781-ab68-031bb20d7408",
   "metadata": {},
   "outputs": [
    {
     "data": {
      "text/plain": [
       "array([[22.1],\n",
       "       [10.4],\n",
       "       [ 9.3],\n",
       "       [18.5],\n",
       "       [12.9],\n",
       "       [ 7.2],\n",
       "       [11.8],\n",
       "       [13.2],\n",
       "       [ 4.8],\n",
       "       [10.6]])"
      ]
     },
     "metadata": {},
     "output_type": "display_data"
    }
   ],
   "source": [
    "# Converts target from Series to ndarray to match the shape requirement \n",
    "# for matrix multiplication during gradient descent\n",
    "y = np.expand_dims(y, axis=1)\n",
    "\n",
    "# Checks how the target look like after reshape\n",
    "display(y[:10])"
   ]
  },
  {
   "cell_type": "markdown",
   "id": "2c8a2120-df4f-4709-bd2a-c00e0ce47cda",
   "metadata": {},
   "source": [
    "## Optimization"
   ]
  },
  {
   "cell_type": "code",
   "execution_count": 10,
   "id": "30437899-e2e0-4a0c-aad0-b8defdd9d40a",
   "metadata": {},
   "outputs": [],
   "source": [
    "def mean_squared_error(y_true, y_pred):\n",
    "    \"\"\"\n",
    "    Mean squared error regression loss.\n",
    "\n",
    "    Parameters\n",
    "    -----------\n",
    "    y_true: array-like of shape (n_samples,)\n",
    "        Ground truth (correct) target values.\n",
    "        \n",
    "    y_pred: array-like of shape (n_samples,)\n",
    "        Estimated target values.\n",
    "\n",
    "    Returns\n",
    "    --------\n",
    "    loss: float or ndarray of floats\n",
    "        A non-negative floating point value (the best value is 0.0), or \n",
    "        an array of floating point values, one for each individual target.\n",
    "    \"\"\"\n",
    "    \n",
    "    residuals = y_true - y_pred\n",
    "    \n",
    "    squared_error = np.sum(np.square(residuals))\n",
    "    \n",
    "    mse = squared_error / len(residuals)\n",
    "    \n",
    "    return mse"
   ]
  },
  {
   "cell_type": "code",
   "execution_count": 11,
   "id": "e5a7b882-b3b4-419f-8c3a-4deb0f1e8a4f",
   "metadata": {},
   "outputs": [],
   "source": [
    "def batch_gradient_descent(X, y, iterations, alpha = 0.01):\n",
    "    \"\"\"\n",
    "    Model parameters gets adjusted based on the gradient of the cost function \n",
    "    over iterations.\n",
    "    \n",
    "    Parameters\n",
    "    -----------\n",
    "        X: ndarray\n",
    "            Features of observations\n",
    "        y: ndarray\n",
    "            Actual target\n",
    "        iterations: int\n",
    "            Number of iterations for algorithm to continue to optimize paramters\n",
    "        alpha: float\n",
    "            Learning rate that decides the magnitude of the update to \n",
    "            be done to the parameters.\n",
    "    \n",
    "    Returns\n",
    "    --------\n",
    "        out: (DataFrame, ndarray)\n",
    "            cost: DataFrame\n",
    "                List of iterations against cost\n",
    "            parameters: ndarray\n",
    "                Updated parameters at the end of specified number of iterations\n",
    "    \"\"\"    \n",
    "    \n",
    "    m = X.shape[0]  # No. of observations\n",
    "    n = X.shape[1]  # No. features\n",
    "    \n",
    "    # Initializes model parameters randomly (standard normal distribution)\n",
    "    theta = np.random.randn(n, 1)\n",
    "    \n",
    "    # Maintains the cost against each iteration\n",
    "    cost = pd.DataFrame(columns=[\"iteration\", \"cost\"])\n",
    "    \n",
    "    # Performs parameters adjustment over iterations\n",
    "    for i in range(iterations):\n",
    "        # Calculates the gradients\n",
    "        gradients = 2/m * X.T.dot(X.dot(theta) - y)\n",
    "        \n",
    "        # Adjusts the parameters\n",
    "        theta = theta - alpha * gradients\n",
    "        \n",
    "        # Performs predictions against the adjusted parameters\n",
    "        predictions = X.dot(theta)\n",
    "        \n",
    "        # Calculates prediction error\n",
    "        mse = mean_squared_error(y, predictions)\n",
    "        \n",
    "        # Saves prediction error against iteration\n",
    "        cost.loc[i] = [i, mse]\n",
    "        \n",
    "    # Returns list of costs and final parameters\n",
    "    return cost, theta"
   ]
  },
  {
   "cell_type": "code",
   "execution_count": 12,
   "id": "1af9f44b-6fe1-4631-b841-7097f5679584",
   "metadata": {},
   "outputs": [
    {
     "data": {
      "image/png": "[encoded data removed]",
      "text/plain": [
       "<Figure size 432x288 with 1 Axes>"
      ]
     },
     "metadata": {
      "needs_background": "light"
     },
     "output_type": "display_data"
    }
   ],
   "source": [
    "# Runs the gradient descent for 200 iterations with 0.001 as learning rate\n",
    "# and plots the cost against iterations\n",
    "\n",
    "cost, theta_200 = batch_gradient_descent(X_new, y, 200, alpha = 0.001)\n",
    "\n",
    "plt.plot(cost.iteration, cost.cost)\n",
    "plt.xlabel(\"Iterations\")\n",
    "plt.ylabel(\"Cost\")\n",
    "plt.title(\"Cost over Iterations\")\n",
    "plt.draw()"
   ]
  },
  {
   "cell_type": "markdown",
   "id": "061ca13d-513b-432c-89d5-1db35b7c6751",
   "metadata": {},
   "source": [
    "As it was noticed that cost was still redcuing and has not reached the minimum point, iterations can be increased and verified if the cost is further reaching to a minimum."
   ]
  },
  {
   "cell_type": "code",
   "execution_count": 13,
   "id": "ebd57e09-3cad-4e3c-a496-1a2533719944",
   "metadata": {},
   "outputs": [
    {
     "data": {
      "image/png": "[encoded data removed]",
      "text/plain": [
       "<Figure size 432x288 with 1 Axes>"
      ]
     },
     "metadata": {
      "needs_background": "light"
     },
     "output_type": "display_data"
    }
   ],
   "source": [
    "# Runs the gradient descent for 2000 iterations with learning rate (lr) 0.01 and\n",
    "# then with 0.001, and plots the converagence performance against both lr\n",
    "\n",
    "cost_01, theta_2000_01 = batch_gradient_descent(X_new, y, 2000, alpha = 0.01)\n",
    "\n",
    "cost_001, theta_2000_001 = batch_gradient_descent(X_new, y, 2000, alpha = 0.001)\n",
    "\n",
    "plt.plot(cost_01.iteration, cost_01.cost, label=\"α = 0.01\")\n",
    "plt.plot(cost_001.iteration, cost_001.cost, label=\"α = 0.001\")\n",
    "plt.xlabel(\"Iterations\")\n",
    "plt.ylabel(\"Cost\")\n",
    "plt.legend()\n",
    "plt.title(\"Cost Vs. Iterations for Different Alpha Values\")\n",
    "plt.draw()"
   ]
  },
  {
   "cell_type": "markdown",
   "id": "fa645010-45e8-4679-b84d-c4e1c812d705",
   "metadata": {},
   "source": [
    "The plot above shows that the learning is faster for alpha value **0.01** compared to **0.001**. For smaller values, the learning could be slower whereas higher learning rate could lead to skipping the minima of cost function. It is imperative to search for the optimal learning parameter."
   ]
  },
  {
   "cell_type": "code",
   "execution_count": 14,
   "id": "84252216-5fdd-4c60-8c2e-6dc3ffa2b852",
   "metadata": {},
   "outputs": [
    {
     "name": "stdout",
     "output_type": "stream",
     "text": [
      "Parameters against α = 0.01:\n",
      " [[14.0225    ]\n",
      " [ 3.92908869]\n",
      " [ 2.79906919]\n",
      " [-0.02259517]] \n",
      "\n",
      "Parameters against α = 0.001:\n",
      " [[13.73085764]\n",
      " [ 3.8650554 ]\n",
      " [ 2.70429081]\n",
      " [ 0.08069886]] \n",
      "\n"
     ]
    }
   ],
   "source": [
    "# Prints the final cost and parameters against both the learning rate over same iterations\n",
    "\n",
    "print(\"Parameters against α = 0.01:\\n\", theta_2000_01, \"\\n\")\n",
    "\n",
    "print(\"Parameters against α = 0.001:\\n\", theta_2000_001, \"\\n\")"
   ]
  },
  {
   "cell_type": "code",
   "execution_count": null,
   "id": "06458731-7533-4375-96fe-7eb12915978b",
   "metadata": {},
   "outputs": [],
   "source": []
  }
 ],
 "metadata": {
  "kernelspec": {
   "display_name": "Python 3 (ipykernel)",
   "language": "python",
   "name": "python3"
  },
  "language_info": {
   "codemirror_mode": {
    "name": "ipython",
    "version": 3
   },
   "file_extension": ".py",
   "mimetype": "text/x-python",
   "name": "python",
   "nbconvert_exporter": "python",
   "pygments_lexer": "ipython3",
   "version": "3.7.12"
  }
 },
 "nbformat": 4,
 "nbformat_minor": 5
}
