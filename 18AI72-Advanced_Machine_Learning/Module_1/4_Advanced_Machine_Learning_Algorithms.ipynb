{
 "cells": [
  {
   "cell_type": "markdown",
   "id": "2378c489-01cd-446b-a810-0e738cbfb105",
   "metadata": {},
   "source": [
    "# Advanced Machine Learning Algorithms\n",
    "_Exploring algorithms such as K-Nearest Neighbors (KNN), Random Forests and Boosting for a binary classification task using a bank marketing data set._"
   ]
  },
  {
   "cell_type": "code",
   "execution_count": 1,
   "id": "f4500611-da9e-4d00-b03b-08dba836753f",
   "metadata": {},
   "outputs": [],
   "source": [
    "# imports required packages\n",
    "\n",
    "import pandas as pd\n",
    "from pandas import option_context\n",
    "\n",
    "from sklearn.utils import resample, shuffle\n",
    "from sklearn.compose import ColumnTransformer\n",
    "from sklearn.preprocessing import StandardScaler, OneHotEncoder, LabelEncoder\n",
    "from sklearn.model_selection import train_test_split\n",
    "from sklearn.linear_model import LogisticRegression\n",
    "from sklearn.neighbors import KNeighborsClassifier\n",
    "from sklearn.ensemble import RandomForestClassifier\n",
    "from sklearn.metrics import confusion_matrix, classification_report, roc_auc_score, roc_curve\n",
    "from sklearn.model_selection import GridSearchCV\n",
    "\n",
    "import matplotlib.pyplot as plt\n",
    "import seaborn as sns"
   ]
  },
  {
   "cell_type": "markdown",
   "id": "17164c8b-a3cc-4d35-bab3-fe06b72ebf10",
   "metadata": {
    "tags": []
   },
   "source": [
    "## Loading Data Set"
   ]
  },
  {
   "cell_type": "markdown",
   "id": "6a3ce322-7e24-4469-a295-3dfaa87f85a7",
   "metadata": {},
   "source": [
    "This bank marketing data set available at the University of California, Irvine machine learning repository (https://archive.ics.uci.edu/ml/datasets/Bank+Marketing) is used in this section for the demonstration of various techniques. The dataset is based on a telemarketing campaign carried out by a Portuguese bank for subscription of a term deposit."
   ]
  },
  {
   "cell_type": "code",
   "execution_count": 2,
   "id": "fd39a90d-5ae5-4b59-8beb-17f11b1130eb",
   "metadata": {},
   "outputs": [
    {
     "data": {
      "text/html": [
       "<div>\n",
       "<style scoped>\n",
       "    .dataframe tbody tr th:only-of-type {\n",
       "        vertical-align: middle;\n",
       "    }\n",
       "\n",
       "    .dataframe tbody tr th {\n",
       "        vertical-align: top;\n",
       "    }\n",
       "\n",
       "    .dataframe thead th {\n",
       "        text-align: right;\n",
       "    }\n",
       "</style>\n",
       "<table border=\"1\" class=\"dataframe\">\n",
       "  <thead>\n",
       "    <tr style=\"text-align: right;\">\n",
       "      <th></th>\n",
       "      <th>age</th>\n",
       "      <th>job</th>\n",
       "      <th>marital</th>\n",
       "      <th>education</th>\n",
       "      <th>default</th>\n",
       "      <th>balance</th>\n",
       "      <th>housing-loan</th>\n",
       "      <th>personal-loan</th>\n",
       "      <th>current-campaign</th>\n",
       "      <th>previous-campaign</th>\n",
       "      <th>subscribed</th>\n",
       "    </tr>\n",
       "  </thead>\n",
       "  <tbody>\n",
       "    <tr>\n",
       "      <th>0</th>\n",
       "      <td>30</td>\n",
       "      <td>unemployed</td>\n",
       "      <td>married</td>\n",
       "      <td>primary</td>\n",
       "      <td>no</td>\n",
       "      <td>1787</td>\n",
       "      <td>no</td>\n",
       "      <td>no</td>\n",
       "      <td>1</td>\n",
       "      <td>0</td>\n",
       "      <td>no</td>\n",
       "    </tr>\n",
       "    <tr>\n",
       "      <th>1</th>\n",
       "      <td>33</td>\n",
       "      <td>services</td>\n",
       "      <td>married</td>\n",
       "      <td>secondary</td>\n",
       "      <td>no</td>\n",
       "      <td>4789</td>\n",
       "      <td>yes</td>\n",
       "      <td>yes</td>\n",
       "      <td>1</td>\n",
       "      <td>4</td>\n",
       "      <td>no</td>\n",
       "    </tr>\n",
       "    <tr>\n",
       "      <th>2</th>\n",
       "      <td>35</td>\n",
       "      <td>management</td>\n",
       "      <td>single</td>\n",
       "      <td>tertiary</td>\n",
       "      <td>no</td>\n",
       "      <td>1350</td>\n",
       "      <td>yes</td>\n",
       "      <td>no</td>\n",
       "      <td>1</td>\n",
       "      <td>1</td>\n",
       "      <td>no</td>\n",
       "    </tr>\n",
       "    <tr>\n",
       "      <th>3</th>\n",
       "      <td>30</td>\n",
       "      <td>management</td>\n",
       "      <td>married</td>\n",
       "      <td>tertiary</td>\n",
       "      <td>no</td>\n",
       "      <td>1476</td>\n",
       "      <td>yes</td>\n",
       "      <td>yes</td>\n",
       "      <td>4</td>\n",
       "      <td>0</td>\n",
       "      <td>no</td>\n",
       "    </tr>\n",
       "    <tr>\n",
       "      <th>4</th>\n",
       "      <td>59</td>\n",
       "      <td>blue-collar</td>\n",
       "      <td>married</td>\n",
       "      <td>secondary</td>\n",
       "      <td>no</td>\n",
       "      <td>0</td>\n",
       "      <td>yes</td>\n",
       "      <td>no</td>\n",
       "      <td>1</td>\n",
       "      <td>0</td>\n",
       "      <td>no</td>\n",
       "    </tr>\n",
       "    <tr>\n",
       "      <th>...</th>\n",
       "      <td>...</td>\n",
       "      <td>...</td>\n",
       "      <td>...</td>\n",
       "      <td>...</td>\n",
       "      <td>...</td>\n",
       "      <td>...</td>\n",
       "      <td>...</td>\n",
       "      <td>...</td>\n",
       "      <td>...</td>\n",
       "      <td>...</td>\n",
       "      <td>...</td>\n",
       "    </tr>\n",
       "    <tr>\n",
       "      <th>4516</th>\n",
       "      <td>33</td>\n",
       "      <td>services</td>\n",
       "      <td>married</td>\n",
       "      <td>secondary</td>\n",
       "      <td>no</td>\n",
       "      <td>-333</td>\n",
       "      <td>yes</td>\n",
       "      <td>no</td>\n",
       "      <td>5</td>\n",
       "      <td>0</td>\n",
       "      <td>no</td>\n",
       "    </tr>\n",
       "    <tr>\n",
       "      <th>4517</th>\n",
       "      <td>57</td>\n",
       "      <td>self-employed</td>\n",
       "      <td>married</td>\n",
       "      <td>tertiary</td>\n",
       "      <td>yes</td>\n",
       "      <td>-3313</td>\n",
       "      <td>yes</td>\n",
       "      <td>yes</td>\n",
       "      <td>1</td>\n",
       "      <td>0</td>\n",
       "      <td>no</td>\n",
       "    </tr>\n",
       "    <tr>\n",
       "      <th>4518</th>\n",
       "      <td>57</td>\n",
       "      <td>technician</td>\n",
       "      <td>married</td>\n",
       "      <td>secondary</td>\n",
       "      <td>no</td>\n",
       "      <td>295</td>\n",
       "      <td>no</td>\n",
       "      <td>no</td>\n",
       "      <td>11</td>\n",
       "      <td>0</td>\n",
       "      <td>no</td>\n",
       "    </tr>\n",
       "    <tr>\n",
       "      <th>4519</th>\n",
       "      <td>28</td>\n",
       "      <td>blue-collar</td>\n",
       "      <td>married</td>\n",
       "      <td>secondary</td>\n",
       "      <td>no</td>\n",
       "      <td>1137</td>\n",
       "      <td>no</td>\n",
       "      <td>no</td>\n",
       "      <td>4</td>\n",
       "      <td>3</td>\n",
       "      <td>no</td>\n",
       "    </tr>\n",
       "    <tr>\n",
       "      <th>4520</th>\n",
       "      <td>44</td>\n",
       "      <td>entrepreneur</td>\n",
       "      <td>single</td>\n",
       "      <td>tertiary</td>\n",
       "      <td>no</td>\n",
       "      <td>1136</td>\n",
       "      <td>yes</td>\n",
       "      <td>yes</td>\n",
       "      <td>2</td>\n",
       "      <td>7</td>\n",
       "      <td>no</td>\n",
       "    </tr>\n",
       "  </tbody>\n",
       "</table>\n",
       "<p>4521 rows × 11 columns</p>\n",
       "</div>"
      ],
      "text/plain": [
       "      age            job  marital  education default  balance housing-loan  \\\n",
       "0      30     unemployed  married    primary      no     1787           no   \n",
       "1      33       services  married  secondary      no     4789          yes   \n",
       "2      35     management   single   tertiary      no     1350          yes   \n",
       "3      30     management  married   tertiary      no     1476          yes   \n",
       "4      59    blue-collar  married  secondary      no        0          yes   \n",
       "...   ...            ...      ...        ...     ...      ...          ...   \n",
       "4516   33       services  married  secondary      no     -333          yes   \n",
       "4517   57  self-employed  married   tertiary     yes    -3313          yes   \n",
       "4518   57     technician  married  secondary      no      295           no   \n",
       "4519   28    blue-collar  married  secondary      no     1137           no   \n",
       "4520   44   entrepreneur   single   tertiary      no     1136          yes   \n",
       "\n",
       "     personal-loan  current-campaign  previous-campaign subscribed  \n",
       "0               no                 1                  0         no  \n",
       "1              yes                 1                  4         no  \n",
       "2               no                 1                  1         no  \n",
       "3              yes                 4                  0         no  \n",
       "4               no                 1                  0         no  \n",
       "...            ...               ...                ...        ...  \n",
       "4516            no                 5                  0         no  \n",
       "4517           yes                 1                  0         no  \n",
       "4518            no                11                  0         no  \n",
       "4519            no                 4                  3         no  \n",
       "4520           yes                 2                  7         no  \n",
       "\n",
       "[4521 rows x 11 columns]"
      ]
     },
     "metadata": {},
     "output_type": "display_data"
    }
   ],
   "source": [
    "bank_marketing = pd.read_csv(\"./../../Data/bank_marketing.csv\")\n",
    "\n",
    "display(bank_marketing)"
   ]
  },
  {
   "cell_type": "code",
   "execution_count": 3,
   "id": "68d49d1c-c435-4e4c-bb08-b9fb69bf0253",
   "metadata": {},
   "outputs": [
    {
     "name": "stdout",
     "output_type": "stream",
     "text": [
      "<class 'pandas.core.frame.DataFrame'>\n",
      "RangeIndex: 4521 entries, 0 to 4520\n",
      "Data columns (total 11 columns):\n",
      " #   Column             Non-Null Count  Dtype \n",
      "---  ------             --------------  ----- \n",
      " 0   age                4521 non-null   int64 \n",
      " 1   job                4521 non-null   object\n",
      " 2   marital            4521 non-null   object\n",
      " 3   education          4521 non-null   object\n",
      " 4   default            4521 non-null   object\n",
      " 5   balance            4521 non-null   int64 \n",
      " 6   housing-loan       4521 non-null   object\n",
      " 7   personal-loan      4521 non-null   object\n",
      " 8   current-campaign   4521 non-null   int64 \n",
      " 9   previous-campaign  4521 non-null   int64 \n",
      " 10  subscribed         4521 non-null   object\n",
      "dtypes: int64(4), object(7)\n",
      "memory usage: 388.6+ KB\n"
     ]
    }
   ],
   "source": [
    "bank_marketing.info()"
   ]
  },
  {
   "cell_type": "markdown",
   "id": "05a2caf5-6f14-42fd-bc04-4b3616d71535",
   "metadata": {},
   "source": [
    "## Data Preparation"
   ]
  },
  {
   "cell_type": "markdown",
   "id": "faf69968-4a2e-4c4a-8a53-59eb6a2db6b7",
   "metadata": {},
   "source": [
    "### Handling Imbalanced Data Set"
   ]
  },
  {
   "cell_type": "code",
   "execution_count": 4,
   "id": "159ec612-4539-49b9-921f-d266a07ba437",
   "metadata": {},
   "outputs": [
    {
     "name": "stdout",
     "output_type": "stream",
     "text": [
      "no     4000\n",
      "yes     521\n",
      "Name: subscribed, dtype: int64\n"
     ]
    }
   ],
   "source": [
    "# Checking how balanced the data set is\n",
    "\n",
    "print(bank_marketing.subscribed.value_counts())"
   ]
  },
  {
   "cell_type": "markdown",
   "id": "d567e810-cc41-458f-8bde-41042ac75521",
   "metadata": {},
   "source": [
    "**Upsamping observations from minority class i.e. \"yes\"**"
   ]
  },
  {
   "cell_type": "code",
   "execution_count": 5,
   "id": "dce91b41-6bf6-4916-8c46-efa18ea202d9",
   "metadata": {},
   "outputs": [],
   "source": [
    "# Seperates data set based on term deposit subscription\n",
    "bank_marketing_subscribed_yes = bank_marketing[bank_marketing.subscribed == \"yes\"]\n",
    "bank_marketing_subscribed_no = bank_marketing[bank_marketing.subscribed == \"no\"]\n",
    "\n",
    "# Upsamples the minority catogory (\"yes\") by 2000\n",
    "bank_marketing_subscribed_yes_upsampled = resample(\n",
    "    bank_marketing_subscribed_yes, replace=True, n_samples = 2000)\n",
    "\n",
    "# Combining majority class with upsampled minority class\n",
    "bank_marketing_balanced = pd.concat(\n",
    "    [bank_marketing_subscribed_no, bank_marketing_subscribed_yes_upsampled])\n",
    "\n",
    "# Shuffles the combined data set to avoid sampples to be in a particular order\n",
    "bank_marketing_balanced = shuffle(bank_marketing_balanced)"
   ]
  },
  {
   "cell_type": "code",
   "execution_count": 6,
   "id": "6c14d642-718f-4ecc-af5f-e0f012477691",
   "metadata": {},
   "outputs": [
    {
     "name": "stdout",
     "output_type": "stream",
     "text": [
      "(6000, 11)\n"
     ]
    }
   ],
   "source": [
    "# Prints the shape of the balanaced data set\n",
    "print(bank_marketing_balanced.shape)"
   ]
  },
  {
   "cell_type": "markdown",
   "id": "dd3df0c8-4067-4a73-a6b4-de620032fd83",
   "metadata": {},
   "source": [
    "### Transforming Data Set"
   ]
  },
  {
   "cell_type": "code",
   "execution_count": 7,
   "id": "3a068de7-938c-44c9-8c7d-cdd44dc75e08",
   "metadata": {},
   "outputs": [],
   "source": [
    "# Considers the following features for modeling\n",
    "features = [\"age\", \"job\", \"marital\", \"education\", \"default\", \"balance\", \"housing-loan\",\n",
    "            \"personal-loan\", \"current-campaign\", \"previous-campaign\"]\n",
    "\n",
    "# Followings are the numeric features\n",
    "num_features = [\"age\", \"balance\", \"current-campaign\", \"previous-campaign\"]\n",
    "\n",
    "# Followings are the categorical features\n",
    "cat_features = [\"job\", \"marital\", \"education\", \"default\", \"housing-loan\", \"personal-loan\"]\n",
    "\n",
    "# Sets the name of the label into a variable\n",
    "label = \"subscribed\""
   ]
  },
  {
   "cell_type": "code",
   "execution_count": 8,
   "id": "df62743c-f9eb-4ec3-9780-ffd8427e9a26",
   "metadata": {},
   "outputs": [],
   "source": [
    "# Configures column wise data transformation pipleline\n",
    "transform_pipeline = ColumnTransformer([\n",
    "    (\"numeric\", StandardScaler(), num_features), \n",
    "    (\"categorical\", OneHotEncoder(), cat_features)])\n",
    "\n",
    "# Initializes encoder for label\n",
    "label_encoder = LabelEncoder()"
   ]
  },
  {
   "cell_type": "code",
   "execution_count": 9,
   "id": "d19fbaf1-3627-489c-b1ac-c62b0d8efbd3",
   "metadata": {},
   "outputs": [],
   "source": [
    "# Splits the data set into train and test set\n",
    "X_train, X_test, y_train, y_test = train_test_split(\n",
    "    bank_marketing_balanced[features], bank_marketing_balanced.subscribed, test_size=0.3, \n",
    "    random_state=42, stratify=bank_marketing_balanced.subscribed)"
   ]
  },
  {
   "cell_type": "code",
   "execution_count": 10,
   "id": "4ddda9e0-212b-4b5e-8941-bcfdd4ed5de9",
   "metadata": {},
   "outputs": [
    {
     "data": {
      "text/html": [
       "<div>\n",
       "<style scoped>\n",
       "    .dataframe tbody tr th:only-of-type {\n",
       "        vertical-align: middle;\n",
       "    }\n",
       "\n",
       "    .dataframe tbody tr th {\n",
       "        vertical-align: top;\n",
       "    }\n",
       "\n",
       "    .dataframe thead th {\n",
       "        text-align: right;\n",
       "    }\n",
       "</style>\n",
       "<table border=\"1\" class=\"dataframe\">\n",
       "  <thead>\n",
       "    <tr style=\"text-align: right;\">\n",
       "      <th></th>\n",
       "      <th>train</th>\n",
       "      <th>test</th>\n",
       "    </tr>\n",
       "  </thead>\n",
       "  <tbody>\n",
       "    <tr>\n",
       "      <th>no</th>\n",
       "      <td>2800</td>\n",
       "      <td>1200</td>\n",
       "    </tr>\n",
       "    <tr>\n",
       "      <th>yes</th>\n",
       "      <td>1400</td>\n",
       "      <td>600</td>\n",
       "    </tr>\n",
       "  </tbody>\n",
       "</table>\n",
       "</div>"
      ],
      "text/plain": [
       "     train  test\n",
       "no    2800  1200\n",
       "yes   1400   600"
      ]
     },
     "execution_count": 10,
     "metadata": {},
     "output_type": "execute_result"
    }
   ],
   "source": [
    "# Checks for the same class distribution in both train and test data set\n",
    "pd.DataFrame({\"train\": y_train.value_counts(), \"test\": y_test.value_counts()})"
   ]
  },
  {
   "cell_type": "code",
   "execution_count": 11,
   "id": "beb675b5-a898-4fce-b70f-fc1417a30eaa",
   "metadata": {},
   "outputs": [],
   "source": [
    "# Prepares (transforms) the training data for modeling\n",
    "X_train_transformed = transform_pipeline.fit_transform(X_train)\n",
    "y_train_encoded = label_encoder.fit_transform(y_train)"
   ]
  },
  {
   "cell_type": "code",
   "execution_count": 12,
   "id": "b382152d-2b71-49f5-82eb-c79d29f5c4cb",
   "metadata": {},
   "outputs": [],
   "source": [
    "# Prepares (transforms) the test data for modeling\n",
    "X_test_transformed = transform_pipeline.transform(X_test)\n",
    "y_test_encoded = label_encoder.transform(y_test)"
   ]
  },
  {
   "cell_type": "markdown",
   "id": "814837c8-38f5-4db7-ba31-dae58ab654d8",
   "metadata": {},
   "source": [
    "## Training Models"
   ]
  },
  {
   "cell_type": "markdown",
   "id": "9d951a6b-08e0-4a07-a803-0dc2ada12dda",
   "metadata": {},
   "source": [
    "### Logistic Regression Model"
   ]
  },
  {
   "cell_type": "code",
   "execution_count": 13,
   "id": "d2ec82ae-6c0a-4c8e-bee5-6a9da47acd85",
   "metadata": {},
   "outputs": [],
   "source": [
    "# Initializes the model\n",
    "log_reg = LogisticRegression()\n",
    "\n",
    "# Fits the model\n",
    "log_reg.fit(X_train_transformed, y_train_encoded)\n",
    "\n",
    "# Performs predictions\n",
    "predictions = log_reg.predict(X_test_transformed)"
   ]
  },
  {
   "cell_type": "code",
   "execution_count": 14,
   "id": "6bde0628-806a-4286-a904-6eeeba300b1f",
   "metadata": {},
   "outputs": [
    {
     "data": {
      "text/plain": [
       "array([0, 0, 0, ..., 0, 0, 0])"
      ]
     },
     "execution_count": 14,
     "metadata": {},
     "output_type": "execute_result"
    }
   ],
   "source": [
    "predictions"
   ]
  },
  {
   "cell_type": "markdown",
   "id": "de65b9e9-a02c-4690-9ccd-a73ce903cd15",
   "metadata": {},
   "source": [
    "#### Analyzes Model Performance"
   ]
  },
  {
   "cell_type": "markdown",
   "id": "666da5e0-3542-48a4-9276-b0f7ad5b28f0",
   "metadata": {},
   "source": [
    "##### **Confusion Matrix**"
   ]
  },
  {
   "cell_type": "code",
   "execution_count": 15,
   "id": "5b4039bd-4379-4f16-9aaf-7781f13b9f79",
   "metadata": {},
   "outputs": [
    {
     "data": {
      "image/png": "[encoded data removed]",
      "text/plain": [
       "<Figure size 432x288 with 2 Axes>"
      ]
     },
     "metadata": {
      "needs_background": "light"
     },
     "output_type": "display_data"
    }
   ],
   "source": [
    "# Calculates Confusion Matrix and draws a heatmap out of that\n",
    "conf_matrix = confusion_matrix(y_test_encoded, predictions, labels=[1,0])\n",
    "\n",
    "sns.heatmap(\n",
    "    conf_matrix, annot=True, fmt='.0f',\n",
    "    xticklabels = [\"Subscribed\", \"Not Subscribed\"],\n",
    "    yticklabels = [\"Subscribed\", \"Not Subscribed\"])\n",
    "\n",
    "plt.ylabel(\"True Labels\")\n",
    "plt.xlabel(\"Predited Labels\")\n",
    "plt.title(\"Confusion Matrix of Logistic Regression Model\")\n",
    "plt.show()"
   ]
  },
  {
   "cell_type": "code",
   "execution_count": 16,
   "id": "eab3761a-44b2-4a90-83ba-57383ac84d3b",
   "metadata": {},
   "outputs": [
    {
     "name": "stdout",
     "output_type": "stream",
     "text": [
      "              precision    recall  f1-score   support\n",
      "\n",
      "           0       0.71      0.91      0.79      1200\n",
      "           1       0.57      0.24      0.34       600\n",
      "\n",
      "    accuracy                           0.69      1800\n",
      "   macro avg       0.64      0.58      0.57      1800\n",
      "weighted avg       0.66      0.69      0.64      1800\n",
      "\n"
     ]
    }
   ],
   "source": [
    "# Prints the classification report\n",
    "print(classification_report(y_test_encoded, predictions))"
   ]
  },
  {
   "cell_type": "markdown",
   "id": "2a418487-4a3d-4987-9c48-b794b3c6d247",
   "metadata": {},
   "source": [
    "As recall for positive cases is only ~0.20, most of the cases have been predicted as negative."
   ]
  },
  {
   "cell_type": "markdown",
   "id": "e5e11848-631c-4db6-b8ee-608e8be527e6",
   "metadata": {},
   "source": [
    "##### **Receiver Operating Characteristics (ROC) Curve & Area Under Curve (AUC) Score**\n"
   ]
  },
  {
   "cell_type": "code",
   "execution_count": 17,
   "id": "1cd9b308-6285-417c-a94d-d15673b77af3",
   "metadata": {},
   "outputs": [
    {
     "name": "stdout",
     "output_type": "stream",
     "text": [
      "[[0.91870918 0.08129082]\n",
      " [0.7389144  0.2610856 ]\n",
      " [0.61368171 0.38631829]\n",
      " ...\n",
      " [0.69892247 0.30107753]\n",
      " [0.88640219 0.11359781]\n",
      " [0.79765717 0.20234283]]\n"
     ]
    }
   ],
   "source": [
    "# Performs predictions to receive probabilities\n",
    "predictions_proba = log_reg.predict_proba(X_test_transformed)\n",
    "\n",
    "# Prints few predictions\n",
    "print(predictions_proba)"
   ]
  },
  {
   "cell_type": "markdown",
   "id": "d1a70d2f-49f3-4f3a-bbc0-7b6f385b1a4e",
   "metadata": {},
   "source": [
    "Second element of each the predictions contains probability for class label 1."
   ]
  },
  {
   "cell_type": "code",
   "execution_count": 18,
   "id": "4d0c1a37-3c48-442e-af0f-d9318631ab68",
   "metadata": {},
   "outputs": [
    {
     "name": "stdout",
     "output_type": "stream",
     "text": [
      "ROC AUC score: 0.69\n"
     ]
    }
   ],
   "source": [
    "# Computes the ROC AUC score\n",
    "auc_score = roc_auc_score(y_test_encoded, predictions_proba[:, 1])\n",
    "\n",
    "# Prints the score\n",
    "print(\"ROC AUC score: {:.2f}\".format(auc_score))"
   ]
  },
  {
   "cell_type": "code",
   "execution_count": 19,
   "id": "73f4d3a2-b0fb-4d4d-afee-1b05238183a9",
   "metadata": {},
   "outputs": [
    {
     "data": {
      "image/png": "[encoded data removed]",
      "text/plain": [
       "<Figure size 432x288 with 1 Axes>"
      ]
     },
     "metadata": {
      "needs_background": "light"
     },
     "output_type": "display_data"
    }
   ],
   "source": [
    "# Plots the ROC curve\n",
    "\n",
    "fpr, tpr, thresholds = roc_curve(y_test_encoded, predictions_proba[:, 1], drop_intermediate=False)\n",
    "\n",
    "plt.plot(fpr, tpr, label = \"ROC Curve (area  = {:.2f})\".format(auc_score))\n",
    "plt.plot([0, 1], [0, 1], \"k--\")\n",
    "plt.xlabel(\"False Positive Rate\")\n",
    "plt.ylabel(\"True Positive Rate\")\n",
    "plt.title(\"Receiver Operating Characteristics (ROC) Curve of Logistic Regression Model\")\n",
    "plt.legend()\n",
    "plt.show()"
   ]
  },
  {
   "cell_type": "markdown",
   "id": "cba3d8b8-f906-4a36-99fa-394f30d61901",
   "metadata": {},
   "source": [
    "### K-Nearest Neighbors (KNN) Algorithms"
   ]
  },
  {
   "cell_type": "code",
   "execution_count": 20,
   "id": "13252e01-720f-4498-95ad-6cf8e89d7056",
   "metadata": {},
   "outputs": [],
   "source": [
    "# Initializes the model\n",
    "knn_clf = KNeighborsClassifier()\n",
    "\n",
    "# Fits the model\n",
    "knn_clf.fit(X_train_transformed, y_train_encoded)\n",
    "\n",
    "# Performs predictions\n",
    "predictions = knn_clf.predict(X_test_transformed)"
   ]
  },
  {
   "cell_type": "markdown",
   "id": "1cc0baa1-ea57-48c5-8820-ddf8f324ed1d",
   "metadata": {},
   "source": [
    "#### Analyzes Model Performance"
   ]
  },
  {
   "cell_type": "code",
   "execution_count": 21,
   "id": "a4a4ced5-9764-4236-9ebf-bca4ba7f3545",
   "metadata": {},
   "outputs": [
    {
     "data": {
      "image/png": "[encoded data removed]",
      "text/plain": [
       "<Figure size 432x288 with 2 Axes>"
      ]
     },
     "metadata": {
      "needs_background": "light"
     },
     "output_type": "display_data"
    }
   ],
   "source": [
    "# Calculates Confusion Matrix and draws a heatmap out of that\n",
    "conf_matrix = confusion_matrix(y_test_encoded, predictions, labels=[1,0])\n",
    "\n",
    "sns.heatmap(\n",
    "    conf_matrix, annot=True, fmt='.0f',\n",
    "    xticklabels = [\"Subscribed\", \"Not Subscribed\"],\n",
    "    yticklabels = [\"Subscribed\", \"Not Subscribed\"])\n",
    "\n",
    "plt.ylabel(\"True Labels\")\n",
    "plt.xlabel(\"Predited Labels\")\n",
    "plt.title(\"Confusion Matrix of KNN Model\")\n",
    "plt.show()"
   ]
  },
  {
   "cell_type": "code",
   "execution_count": 22,
   "id": "2060739a-a925-42c5-bd68-ac20dbb9d84e",
   "metadata": {},
   "outputs": [
    {
     "name": "stdout",
     "output_type": "stream",
     "text": [
      "              precision    recall  f1-score   support\n",
      "\n",
      "           0       0.84      0.79      0.82      1200\n",
      "           1       0.63      0.70      0.66       600\n",
      "\n",
      "    accuracy                           0.76      1800\n",
      "   macro avg       0.74      0.75      0.74      1800\n",
      "weighted avg       0.77      0.76      0.77      1800\n",
      "\n"
     ]
    }
   ],
   "source": [
    "# Prints the classification report\n",
    "print(classification_report(y_test_encoded, predictions))"
   ]
  },
  {
   "cell_type": "markdown",
   "id": "90d6e3fc-8c74-4f24-a7f0-a1448e69c350",
   "metadata": {},
   "source": [
    "Recall of positive cases has improved from **~0.20** (logistic regression model) to **~0.70** in the KNN model."
   ]
  },
  {
   "cell_type": "markdown",
   "id": "caf563d8-50d3-4b8b-a4de-c10ba3eea977",
   "metadata": {},
   "source": [
    "#### Tuning Hyperparameters"
   ]
  },
  {
   "cell_type": "markdown",
   "id": "125d0471-ae14-41a1-a81f-4d379693c39b",
   "metadata": {},
   "source": [
    "In our example, the hyperparameters and corresponding set of values to search for are as follows:\n",
    "\n",
    "1. **n_neighbhors** – All values from 5 to 10.\n",
    "2. **metric** (for distance calculation) – ‘canberra’, ‘euclidean’, ‘minkowski’."
   ]
  },
  {
   "cell_type": "code",
   "execution_count": 23,
   "id": "47816bfe-8638-4758-9c2b-22a2a8024a24",
   "metadata": {},
   "outputs": [],
   "source": [
    "# Initializes Grid Search Cross Validation\n",
    "\n",
    "grid_search_cv = GridSearchCV(\n",
    "    \n",
    "    KNeighborsClassifier(),  # estimator\n",
    "    \n",
    "    # Parameters search grid\n",
    "    [\n",
    "        {\n",
    "            \"n_neighbors\": range(5, 10), \n",
    "            \"metric\": [\"canberra\", \"euclidean\", \"minkowski\"]\n",
    "        }\n",
    "    ], \n",
    "    \n",
    "    n_jobs=-1,               # Making use of all available processors\n",
    "    \n",
    "    refit=True,              # Default: True\n",
    "    \n",
    "    cv = 10,                 # Number of folds for cross-validation\n",
    "    \n",
    "    scoring=\"roc_auc\",       # Cross-validated model performance metric.\n",
    "    \n",
    "    return_train_score=True  # Default: False\n",
    ")"
   ]
  },
  {
   "cell_type": "code",
   "execution_count": 24,
   "id": "acea547b-f8dc-4ebf-9a02-fe043d292732",
   "metadata": {},
   "outputs": [
    {
     "data": {
      "text/plain": [
       "GridSearchCV(cv=10, estimator=KNeighborsClassifier(), n_jobs=-1,\n",
       "             param_grid=[{'metric': ['canberra', 'euclidean', 'minkowski'],\n",
       "                          'n_neighbors': range(5, 10)}],\n",
       "             return_train_score=True, scoring='roc_auc')"
      ]
     },
     "execution_count": 24,
     "metadata": {},
     "output_type": "execute_result"
    }
   ],
   "source": [
    "# Performs hyperparameters search over cross validation\n",
    "# NOTE: The following step may take several minutes to complete\n",
    "grid_search_cv.fit(X_train_transformed, y_train_encoded)"
   ]
  },
  {
   "cell_type": "code",
   "execution_count": 25,
   "id": "9ea21681-3088-4eb9-9b25-085fe75855ca",
   "metadata": {},
   "outputs": [
    {
     "name": "stdout",
     "output_type": "stream",
     "text": [
      "Best Grid Search CV Score: 0.8321607142857144\n"
     ]
    }
   ],
   "source": [
    "# Prints the best scores out of cross-validation\n",
    "print(\"Best Grid Search CV Score:\", grid_search_cv.best_score_)"
   ]
  },
  {
   "cell_type": "code",
   "execution_count": 26,
   "id": "88ff3c96-ea1e-4fc7-bddf-9d46271e441f",
   "metadata": {},
   "outputs": [
    {
     "name": "stdout",
     "output_type": "stream",
     "text": [
      "{'metric': 'euclidean', 'n_neighbors': 5}\n"
     ]
    }
   ],
   "source": [
    "# Prints the best set of parameters that scores highest in CV\n",
    "print(grid_search_cv.best_params_)"
   ]
  },
  {
   "cell_type": "code",
   "execution_count": 27,
   "id": "8d6a3090-4de9-46fa-b81b-310b25a7ced0",
   "metadata": {},
   "outputs": [
    {
     "data": {
      "text/html": [
       "<div>\n",
       "<style scoped>\n",
       "    .dataframe tbody tr th:only-of-type {\n",
       "        vertical-align: middle;\n",
       "    }\n",
       "\n",
       "    .dataframe tbody tr th {\n",
       "        vertical-align: top;\n",
       "    }\n",
       "\n",
       "    .dataframe thead th {\n",
       "        text-align: right;\n",
       "    }\n",
       "</style>\n",
       "<table border=\"1\" class=\"dataframe\">\n",
       "  <thead>\n",
       "    <tr style=\"text-align: right;\">\n",
       "      <th></th>\n",
       "      <th>param</th>\n",
       "      <th>mean_test_score</th>\n",
       "      <th>std_test_score</th>\n",
       "    </tr>\n",
       "  </thead>\n",
       "  <tbody>\n",
       "    <tr>\n",
       "      <th>0</th>\n",
       "      <td>{'metric': 'canberra', 'n_neighbors': 5}</td>\n",
       "      <td>0.828898</td>\n",
       "      <td>0.016302</td>\n",
       "    </tr>\n",
       "    <tr>\n",
       "      <th>1</th>\n",
       "      <td>{'metric': 'canberra', 'n_neighbors': 6}</td>\n",
       "      <td>0.811236</td>\n",
       "      <td>0.019035</td>\n",
       "    </tr>\n",
       "    <tr>\n",
       "      <th>2</th>\n",
       "      <td>{'metric': 'canberra', 'n_neighbors': 7}</td>\n",
       "      <td>0.795770</td>\n",
       "      <td>0.021791</td>\n",
       "    </tr>\n",
       "    <tr>\n",
       "      <th>3</th>\n",
       "      <td>{'metric': 'canberra', 'n_neighbors': 8}</td>\n",
       "      <td>0.784413</td>\n",
       "      <td>0.025432</td>\n",
       "    </tr>\n",
       "    <tr>\n",
       "      <th>4</th>\n",
       "      <td>{'metric': 'canberra', 'n_neighbors': 9}</td>\n",
       "      <td>0.777630</td>\n",
       "      <td>0.028612</td>\n",
       "    </tr>\n",
       "    <tr>\n",
       "      <th>5</th>\n",
       "      <td>{'metric': 'euclidean', 'n_neighbors': 5}</td>\n",
       "      <td>0.832161</td>\n",
       "      <td>0.030459</td>\n",
       "    </tr>\n",
       "    <tr>\n",
       "      <th>6</th>\n",
       "      <td>{'metric': 'euclidean', 'n_neighbors': 6}</td>\n",
       "      <td>0.817237</td>\n",
       "      <td>0.032473</td>\n",
       "    </tr>\n",
       "    <tr>\n",
       "      <th>7</th>\n",
       "      <td>{'metric': 'euclidean', 'n_neighbors': 7}</td>\n",
       "      <td>0.805918</td>\n",
       "      <td>0.030055</td>\n",
       "    </tr>\n",
       "    <tr>\n",
       "      <th>8</th>\n",
       "      <td>{'metric': 'euclidean', 'n_neighbors': 8}</td>\n",
       "      <td>0.796099</td>\n",
       "      <td>0.027950</td>\n",
       "    </tr>\n",
       "    <tr>\n",
       "      <th>9</th>\n",
       "      <td>{'metric': 'euclidean', 'n_neighbors': 9}</td>\n",
       "      <td>0.786379</td>\n",
       "      <td>0.027845</td>\n",
       "    </tr>\n",
       "    <tr>\n",
       "      <th>10</th>\n",
       "      <td>{'metric': 'minkowski', 'n_neighbors': 5}</td>\n",
       "      <td>0.832161</td>\n",
       "      <td>0.030459</td>\n",
       "    </tr>\n",
       "    <tr>\n",
       "      <th>11</th>\n",
       "      <td>{'metric': 'minkowski', 'n_neighbors': 6}</td>\n",
       "      <td>0.817237</td>\n",
       "      <td>0.032473</td>\n",
       "    </tr>\n",
       "    <tr>\n",
       "      <th>12</th>\n",
       "      <td>{'metric': 'minkowski', 'n_neighbors': 7}</td>\n",
       "      <td>0.805918</td>\n",
       "      <td>0.030055</td>\n",
       "    </tr>\n",
       "    <tr>\n",
       "      <th>13</th>\n",
       "      <td>{'metric': 'minkowski', 'n_neighbors': 8}</td>\n",
       "      <td>0.796099</td>\n",
       "      <td>0.027950</td>\n",
       "    </tr>\n",
       "    <tr>\n",
       "      <th>14</th>\n",
       "      <td>{'metric': 'minkowski', 'n_neighbors': 9}</td>\n",
       "      <td>0.786379</td>\n",
       "      <td>0.027845</td>\n",
       "    </tr>\n",
       "  </tbody>\n",
       "</table>\n",
       "</div>"
      ],
      "text/plain": [
       "                                        param  mean_test_score  std_test_score\n",
       "0    {'metric': 'canberra', 'n_neighbors': 5}         0.828898        0.016302\n",
       "1    {'metric': 'canberra', 'n_neighbors': 6}         0.811236        0.019035\n",
       "2    {'metric': 'canberra', 'n_neighbors': 7}         0.795770        0.021791\n",
       "3    {'metric': 'canberra', 'n_neighbors': 8}         0.784413        0.025432\n",
       "4    {'metric': 'canberra', 'n_neighbors': 9}         0.777630        0.028612\n",
       "5   {'metric': 'euclidean', 'n_neighbors': 5}         0.832161        0.030459\n",
       "6   {'metric': 'euclidean', 'n_neighbors': 6}         0.817237        0.032473\n",
       "7   {'metric': 'euclidean', 'n_neighbors': 7}         0.805918        0.030055\n",
       "8   {'metric': 'euclidean', 'n_neighbors': 8}         0.796099        0.027950\n",
       "9   {'metric': 'euclidean', 'n_neighbors': 9}         0.786379        0.027845\n",
       "10  {'metric': 'minkowski', 'n_neighbors': 5}         0.832161        0.030459\n",
       "11  {'metric': 'minkowski', 'n_neighbors': 6}         0.817237        0.032473\n",
       "12  {'metric': 'minkowski', 'n_neighbors': 7}         0.805918        0.030055\n",
       "13  {'metric': 'minkowski', 'n_neighbors': 8}         0.796099        0.027950\n",
       "14  {'metric': 'minkowski', 'n_neighbors': 9}         0.786379        0.027845"
      ]
     },
     "execution_count": 27,
     "metadata": {},
     "output_type": "execute_result"
    }
   ],
   "source": [
    "# Lists the cross-validation performance score against \n",
    "# each set of hyperparameters the model was built on\n",
    "pd.DataFrame({\n",
    "    \"param\": grid_search_cv.cv_results_[\"params\"], \n",
    "    \"mean_test_score\": grid_search_cv.cv_results_[\"mean_test_score\"], \n",
    "    \"std_test_score\": grid_search_cv.cv_results_[\"std_test_score\"]})"
   ]
  },
  {
   "cell_type": "markdown",
   "id": "ce918442-4486-42ef-98e1-d43f7cf8f7c3",
   "metadata": {},
   "source": [
    "As the grid search for best combination was performed with parameter **_refit_** set to _True_, the model (to be referenced through object _grid_search_cv_) is already trained with the mentioned best parameters and that model could be used for prediction on new observations."
   ]
  },
  {
   "cell_type": "markdown",
   "id": "bfef9997-eb4a-4b21-ac37-7ce92566dcc7",
   "metadata": {},
   "source": [
    "### Ensemble Methods"
   ]
  },
  {
   "cell_type": "markdown",
   "id": "5825f5ca-791b-4f8a-a665-cd15ef287a10",
   "metadata": {},
   "source": [
    "#### Random Forests"
   ]
  },
  {
   "cell_type": "code",
   "execution_count": 28,
   "id": "3adef8b7-2bd3-40b4-bb18-d09747fbf24f",
   "metadata": {},
   "outputs": [
    {
     "data": {
      "text/plain": [
       "RandomForestClassifier()"
      ]
     },
     "execution_count": 28,
     "metadata": {},
     "output_type": "execute_result"
    }
   ],
   "source": [
    "# Initializes the model\n",
    "rf_clf = RandomForestClassifier()\n",
    "\n",
    "rf_clf.fit(X_train_transformed, y_train_encoded)"
   ]
  },
  {
   "cell_type": "code",
   "execution_count": 29,
   "id": "be508d09-f47a-4906-b8d3-1d7d33307dfb",
   "metadata": {},
   "outputs": [],
   "source": [
    "# Performs predictions\n",
    "predictions = rf_clf.predict(X_test_transformed)"
   ]
  },
  {
   "cell_type": "markdown",
   "id": "9cf1e1d0-ca42-40c6-b31d-fe718e14227e",
   "metadata": {},
   "source": [
    "##### **Analyzes Model Performance**"
   ]
  },
  {
   "cell_type": "code",
   "execution_count": 30,
   "id": "dd418cd4-31e6-4b50-8aaa-2a39afc200d3",
   "metadata": {},
   "outputs": [
    {
     "data": {
      "image/png": "[encoded data removed]",
      "text/plain": [
       "<Figure size 432x288 with 2 Axes>"
      ]
     },
     "metadata": {
      "needs_background": "light"
     },
     "output_type": "display_data"
    }
   ],
   "source": [
    "# Calculates Confusion Matrix and draws a heatmap out of that\n",
    "conf_matrix = confusion_matrix(y_test_encoded, predictions, labels=[1,0])\n",
    "\n",
    "sns.heatmap(\n",
    "    conf_matrix, annot=True, fmt='.0f',\n",
    "    xticklabels = [\"Subscribed\", \"Not Subscribed\"],\n",
    "    yticklabels = [\"Subscribed\", \"Not Subscribed\"])\n",
    "\n",
    "plt.ylabel(\"True Labels\")\n",
    "plt.xlabel(\"Predited Labels\")\n",
    "plt.title(\"Confusion Matrix of Random Forests Model\")\n",
    "plt.show()"
   ]
  },
  {
   "cell_type": "code",
   "execution_count": 31,
   "id": "d2e80a27-01da-4e7f-bbdd-694b43942c33",
   "metadata": {},
   "outputs": [
    {
     "name": "stdout",
     "output_type": "stream",
     "text": [
      "              precision    recall  f1-score   support\n",
      "\n",
      "           0       0.97      0.94      0.96      1200\n",
      "           1       0.89      0.94      0.92       600\n",
      "\n",
      "    accuracy                           0.94      1800\n",
      "   macro avg       0.93      0.94      0.94      1800\n",
      "weighted avg       0.94      0.94      0.94      1800\n",
      "\n"
     ]
    }
   ],
   "source": [
    "# Prints the classification report\n",
    "print(classification_report(y_test_encoded, predictions))"
   ]
  },
  {
   "cell_type": "markdown",
   "id": "237884bc-0163-4330-9489-4a6d58592621",
   "metadata": {},
   "source": [
    "Recall of positive cases has improved from **~0.70** (KNN model) to **~0.90** in the Random Forests model."
   ]
  },
  {
   "cell_type": "markdown",
   "id": "758d3786-9c87-4542-91e2-a54a92a0b873",
   "metadata": {},
   "source": [
    "##### **Receiver Operating Characteristics (ROC) Curve & Area Under Curve (AUC) Score**"
   ]
  },
  {
   "cell_type": "code",
   "execution_count": 32,
   "id": "778ee1e3-1c43-4f9c-9643-79f8524bbcb7",
   "metadata": {},
   "outputs": [
    {
     "name": "stdout",
     "output_type": "stream",
     "text": [
      "[[0.96 0.04]\n",
      " [0.51 0.49]\n",
      " [0.6  0.4 ]\n",
      " ...\n",
      " [0.97 0.03]\n",
      " [0.03 0.97]\n",
      " [0.97 0.03]]\n"
     ]
    }
   ],
   "source": [
    "# Performs predictions to receive probabilities\n",
    "predictions_proba = rf_clf.predict_proba(X_test_transformed)\n",
    "\n",
    "# Prints few predictions\n",
    "print(predictions_proba)"
   ]
  },
  {
   "cell_type": "markdown",
   "id": "29d2fc59-0764-4c12-a0a5-c49ab30eafac",
   "metadata": {},
   "source": [
    "Second element of each the predictions contains probability for class label 1."
   ]
  },
  {
   "cell_type": "code",
   "execution_count": 33,
   "id": "700e5cf5-8d7b-491a-9336-a0d88e96784b",
   "metadata": {},
   "outputs": [
    {
     "name": "stdout",
     "output_type": "stream",
     "text": [
      "ROC AUC score: 0.97\n"
     ]
    }
   ],
   "source": [
    "# Computes the ROC AUC score\n",
    "auc_score = roc_auc_score(y_test_encoded, predictions_proba[:, 1])\n",
    "\n",
    "# Prints the score\n",
    "print(\"ROC AUC score: {:.2f}\".format(auc_score))"
   ]
  },
  {
   "cell_type": "code",
   "execution_count": 34,
   "id": "2c7ef7da-35ac-4931-99ee-432919c794c5",
   "metadata": {},
   "outputs": [
    {
     "data": {
      "image/png": "[encoded data removed]",
      "text/plain": [
       "<Figure size 432x288 with 1 Axes>"
      ]
     },
     "metadata": {
      "needs_background": "light"
     },
     "output_type": "display_data"
    }
   ],
   "source": [
    "# Plots the ROC curve\n",
    "\n",
    "fpr, tpr, thresholds = roc_curve(y_test_encoded, predictions_proba[:, 1], drop_intermediate=False)\n",
    "\n",
    "plt.plot(fpr, tpr, label = \"ROC Curve (area  = {:.2f})\".format(auc_score))\n",
    "plt.plot([0, 1], [0, 1], \"k--\")\n",
    "plt.xlabel(\"False Positive Rate\")\n",
    "plt.ylabel(\"True Positive Rate\")\n",
    "plt.title(\"Receiver Operating Characteristics (ROC) Curve of Random Forests Model\")\n",
    "plt.legend()\n",
    "plt.show()"
   ]
  },
  {
   "cell_type": "markdown",
   "id": "b3577e87-28f2-4006-97c4-dce0333622cc",
   "metadata": {
    "tags": []
   },
   "source": [
    "##### **Tuning Hyperparameters**"
   ]
  },
  {
   "cell_type": "markdown",
   "id": "d1bd0665-5472-4f25-94a6-edfe4842c6cf",
   "metadata": {},
   "source": [
    "In our example, the hyperparameters and corresponding set of values to search for are as follows:\n",
    "\n",
    "1. **max_depth** – 10 or 15.\n",
    "2. **n_estimators** - 10 or 20.\n",
    "3. **max_features:** - sqrt or 0.2."
   ]
  },
  {
   "cell_type": "code",
   "execution_count": 35,
   "id": "0e475bd8-744d-4add-95bb-6c155c0a6f40",
   "metadata": {},
   "outputs": [],
   "source": [
    "# Initializes Grid Search Cross Validation\n",
    "\n",
    "grid_search_cv = GridSearchCV(\n",
    "    \n",
    "    RandomForestClassifier(),  # estimator\n",
    "    \n",
    "    # Parameters search grid\n",
    "    [\n",
    "        {\n",
    "            \"max_depth\": [10, 15], \n",
    "            \"n_estimators\": [10, 20],\n",
    "            \"max_features\": ['sqrt', 0.2]\n",
    "        }\n",
    "    ], \n",
    "    \n",
    "    n_jobs=-1,               # Making use of all available processors\n",
    "    \n",
    "    refit=True,              # Default: True\n",
    "    \n",
    "    cv = 5,                  # Number of folds for cross-validation\n",
    "    \n",
    "    scoring=\"roc_auc\",       # Cross-validated model performance metric.\n",
    "    \n",
    "    return_train_score=True  # Default: False\n",
    ")"
   ]
  },
  {
   "cell_type": "code",
   "execution_count": 36,
   "id": "c39d6f9c-ac8c-4704-899f-96c9c5fc9d8b",
   "metadata": {},
   "outputs": [
    {
     "data": {
      "text/plain": [
       "GridSearchCV(cv=5, estimator=RandomForestClassifier(), n_jobs=-1,\n",
       "             param_grid=[{'max_depth': [10, 15], 'max_features': ['sqrt', 0.2],\n",
       "                          'n_estimators': [10, 20]}],\n",
       "             return_train_score=True, scoring='roc_auc')"
      ]
     },
     "execution_count": 36,
     "metadata": {},
     "output_type": "execute_result"
    }
   ],
   "source": [
    "# Performs hyperparameters search over cross validation\n",
    "# NOTE: The following step may take several minutes to complete\n",
    "grid_search_cv.fit(X_train_transformed, y_train_encoded)"
   ]
  },
  {
   "cell_type": "code",
   "execution_count": 37,
   "id": "6ddd9645-d175-4354-ba40-98b68d9007d7",
   "metadata": {},
   "outputs": [
    {
     "name": "stdout",
     "output_type": "stream",
     "text": [
      "Best Grid Search CV Score: 0.929858418367347\n"
     ]
    }
   ],
   "source": [
    "# Prints the best scores out of cross-validation\n",
    "print(\"Best Grid Search CV Score:\", grid_search_cv.best_score_)"
   ]
  },
  {
   "cell_type": "code",
   "execution_count": 38,
   "id": "4d79ef9e-1513-4fa0-8780-3c9c6387deb3",
   "metadata": {},
   "outputs": [
    {
     "name": "stdout",
     "output_type": "stream",
     "text": [
      "{'max_depth': 15, 'max_features': 0.2, 'n_estimators': 20}\n"
     ]
    }
   ],
   "source": [
    "# Prints the best set of parameters that scores highest in CV\n",
    "print(grid_search_cv.best_params_)"
   ]
  },
  {
   "cell_type": "code",
   "execution_count": 39,
   "id": "caacd640-a623-4a38-a7d3-3d940f92525f",
   "metadata": {},
   "outputs": [
    {
     "data": {
      "text/html": [
       "<div>\n",
       "<style scoped>\n",
       "    .dataframe tbody tr th:only-of-type {\n",
       "        vertical-align: middle;\n",
       "    }\n",
       "\n",
       "    .dataframe tbody tr th {\n",
       "        vertical-align: top;\n",
       "    }\n",
       "\n",
       "    .dataframe thead th {\n",
       "        text-align: right;\n",
       "    }\n",
       "</style>\n",
       "<table border=\"1\" class=\"dataframe\">\n",
       "  <thead>\n",
       "    <tr style=\"text-align: right;\">\n",
       "      <th></th>\n",
       "      <th>param</th>\n",
       "      <th>mean_test_score</th>\n",
       "      <th>std_test_score</th>\n",
       "    </tr>\n",
       "  </thead>\n",
       "  <tbody>\n",
       "    <tr>\n",
       "      <th>0</th>\n",
       "      <td>{'max_depth': 10, 'max_features': 'sqrt', 'n_estimators': 10}</td>\n",
       "      <td>0.843353</td>\n",
       "      <td>0.005190</td>\n",
       "    </tr>\n",
       "    <tr>\n",
       "      <th>1</th>\n",
       "      <td>{'max_depth': 10, 'max_features': 'sqrt', 'n_estimators': 20}</td>\n",
       "      <td>0.858989</td>\n",
       "      <td>0.017749</td>\n",
       "    </tr>\n",
       "    <tr>\n",
       "      <th>2</th>\n",
       "      <td>{'max_depth': 10, 'max_features': 0.2, 'n_estimators': 10}</td>\n",
       "      <td>0.851703</td>\n",
       "      <td>0.013733</td>\n",
       "    </tr>\n",
       "    <tr>\n",
       "      <th>3</th>\n",
       "      <td>{'max_depth': 10, 'max_features': 0.2, 'n_estimators': 20}</td>\n",
       "      <td>0.863212</td>\n",
       "      <td>0.015416</td>\n",
       "    </tr>\n",
       "    <tr>\n",
       "      <th>4</th>\n",
       "      <td>{'max_depth': 15, 'max_features': 'sqrt', 'n_estimators': 10}</td>\n",
       "      <td>0.919836</td>\n",
       "      <td>0.006459</td>\n",
       "    </tr>\n",
       "    <tr>\n",
       "      <th>5</th>\n",
       "      <td>{'max_depth': 15, 'max_features': 'sqrt', 'n_estimators': 20}</td>\n",
       "      <td>0.926954</td>\n",
       "      <td>0.008092</td>\n",
       "    </tr>\n",
       "    <tr>\n",
       "      <th>6</th>\n",
       "      <td>{'max_depth': 15, 'max_features': 0.2, 'n_estimators': 10}</td>\n",
       "      <td>0.921522</td>\n",
       "      <td>0.010387</td>\n",
       "    </tr>\n",
       "    <tr>\n",
       "      <th>7</th>\n",
       "      <td>{'max_depth': 15, 'max_features': 0.2, 'n_estimators': 20}</td>\n",
       "      <td>0.929858</td>\n",
       "      <td>0.007208</td>\n",
       "    </tr>\n",
       "  </tbody>\n",
       "</table>\n",
       "</div>"
      ],
      "text/plain": [
       "                                                           param  \\\n",
       "0  {'max_depth': 10, 'max_features': 'sqrt', 'n_estimators': 10}   \n",
       "1  {'max_depth': 10, 'max_features': 'sqrt', 'n_estimators': 20}   \n",
       "2     {'max_depth': 10, 'max_features': 0.2, 'n_estimators': 10}   \n",
       "3     {'max_depth': 10, 'max_features': 0.2, 'n_estimators': 20}   \n",
       "4  {'max_depth': 15, 'max_features': 'sqrt', 'n_estimators': 10}   \n",
       "5  {'max_depth': 15, 'max_features': 'sqrt', 'n_estimators': 20}   \n",
       "6     {'max_depth': 15, 'max_features': 0.2, 'n_estimators': 10}   \n",
       "7     {'max_depth': 15, 'max_features': 0.2, 'n_estimators': 20}   \n",
       "\n",
       "   mean_test_score  std_test_score  \n",
       "0         0.843353        0.005190  \n",
       "1         0.858989        0.017749  \n",
       "2         0.851703        0.013733  \n",
       "3         0.863212        0.015416  \n",
       "4         0.919836        0.006459  \n",
       "5         0.926954        0.008092  \n",
       "6         0.921522        0.010387  \n",
       "7         0.929858        0.007208  "
      ]
     },
     "metadata": {},
     "output_type": "display_data"
    }
   ],
   "source": [
    "# Lists the cross-validation performance score against \n",
    "# each set of hyperparameters the model was built on\n",
    "with option_context('display.max_colwidth', 150):\n",
    "    display(pd.DataFrame({\n",
    "        \"param\": grid_search_cv.cv_results_[\"params\"], \n",
    "        \"mean_test_score\": grid_search_cv.cv_results_[\"mean_test_score\"], \n",
    "        \"std_test_score\": grid_search_cv.cv_results_[\"std_test_score\"]}))"
   ]
  },
  {
   "cell_type": "markdown",
   "id": "09c15ffc-7a83-4556-b9ce-9c15bac1e035",
   "metadata": {},
   "source": [
    "As the grid search for best combination was performed with parameter **_refit_** set to _True_, the model (to be referenced through object _grid_search_cv_) is already trained with the mentioned best parameters and that model could be used for prediction on new observations."
   ]
  },
  {
   "cell_type": "markdown",
   "id": "8e2a7397-bdb1-4747-b579-385763a7cba7",
   "metadata": {
    "tags": []
   },
   "source": [
    "##### **Receiver Operating Characteristics (ROC) Curve & Area Under Curve (AUC) Score**"
   ]
  },
  {
   "cell_type": "code",
   "execution_count": 40,
   "id": "52bfa4a3-0258-4679-bf19-aca625177678",
   "metadata": {},
   "outputs": [],
   "source": [
    "# Performs predictions to receive probabilities\n",
    "predictions_proba = grid_search_cv.best_estimator_.predict_proba(X_test_transformed)"
   ]
  },
  {
   "cell_type": "code",
   "execution_count": 41,
   "id": "247d118c-7edc-42b1-9afb-67153a413548",
   "metadata": {},
   "outputs": [
    {
     "name": "stdout",
     "output_type": "stream",
     "text": [
      "ROC AUC score: 0.95\n"
     ]
    }
   ],
   "source": [
    "# Computes the ROC AUC score\n",
    "auc_score = roc_auc_score(y_test_encoded, predictions_proba[:, 1])\n",
    "\n",
    "# Prints the score\n",
    "print(\"ROC AUC score: {:.2f}\".format(auc_score))"
   ]
  },
  {
   "cell_type": "markdown",
   "id": "3c66028f-70bb-4141-a199-e3647f135e91",
   "metadata": {},
   "source": [
    "##### **Feature Ranking**"
   ]
  },
  {
   "cell_type": "code",
   "execution_count": 42,
   "id": "b3b0cc23-3c2a-4fae-8377-dc7c43ac8dba",
   "metadata": {},
   "outputs": [],
   "source": [
    "# Maps the features and their importance\n",
    "feature_rank = pd.DataFrame({\n",
    "    \"feature\": num_features + \n",
    "        transform_pipeline.named_transformers_[\"categorical\"].get_feature_names_out().tolist(), \n",
    "    \"importance\": rf_clf.feature_importances_})"
   ]
  },
  {
   "cell_type": "code",
   "execution_count": 43,
   "id": "6ab51519-9a61-40a8-aa96-82ac735a5470",
   "metadata": {},
   "outputs": [],
   "source": [
    "# Sorts the features based on their importance\n",
    "feature_rank = feature_rank.sort_values(\"importance\", ascending = False)"
   ]
  },
  {
   "cell_type": "code",
   "execution_count": 44,
   "id": "09b154c9-6b9a-4542-8220-4542a8587bda",
   "metadata": {},
   "outputs": [
    {
     "data": {
      "image/png": "[encoded data removed]",
      "text/plain": [
       "<Figure size 864x720 with 1 Axes>"
      ]
     },
     "metadata": {
      "needs_background": "light"
     },
     "output_type": "display_data"
    }
   ],
   "source": [
    "# Plots the feature importance for Random Forests model\n",
    "\n",
    "plt.figure( figsize = ( 12, 10 ))\n",
    "sns.barplot(x=\"importance\", y=\"feature\", data=feature_rank)\n",
    "plt.xlabel(\"Important\")\n",
    "plt.ylabel(\"Feature\")\n",
    "plt.title(\"Feature Importance for Random Forests Model\")\n",
    "plt.show()"
   ]
  },
  {
   "cell_type": "markdown",
   "id": "3c0f7c72-34e2-4b71-b35e-91597b81d0d4",
   "metadata": {},
   "source": [
    "The above analysis could also be very helpful in selecting top features that the final model will be built on. The cumulative sum of feature important is shown below. For example, to get a model that can explain 75% of the variance of the test data, top 7 features can be considered for modeling using this algorithm."
   ]
  },
  {
   "cell_type": "code",
   "execution_count": 45,
   "id": "dd0f04c2-607a-4383-8fc8-50a9c76176d7",
   "metadata": {},
   "outputs": [
    {
     "data": {
      "text/html": [
       "<div>\n",
       "<style scoped>\n",
       "    .dataframe tbody tr th:only-of-type {\n",
       "        vertical-align: middle;\n",
       "    }\n",
       "\n",
       "    .dataframe tbody tr th {\n",
       "        vertical-align: top;\n",
       "    }\n",
       "\n",
       "    .dataframe thead th {\n",
       "        text-align: right;\n",
       "    }\n",
       "</style>\n",
       "<table border=\"1\" class=\"dataframe\">\n",
       "  <thead>\n",
       "    <tr style=\"text-align: right;\">\n",
       "      <th></th>\n",
       "      <th>feature</th>\n",
       "      <th>importance</th>\n",
       "      <th>cumsum</th>\n",
       "    </tr>\n",
       "  </thead>\n",
       "  <tbody>\n",
       "    <tr>\n",
       "      <th>1</th>\n",
       "      <td>balance</td>\n",
       "      <td>0.269852</td>\n",
       "      <td>26.985162</td>\n",
       "    </tr>\n",
       "    <tr>\n",
       "      <th>0</th>\n",
       "      <td>age</td>\n",
       "      <td>0.227179</td>\n",
       "      <td>49.703092</td>\n",
       "    </tr>\n",
       "    <tr>\n",
       "      <th>2</th>\n",
       "      <td>current-campaign</td>\n",
       "      <td>0.105823</td>\n",
       "      <td>60.285416</td>\n",
       "    </tr>\n",
       "    <tr>\n",
       "      <th>3</th>\n",
       "      <td>previous-campaign</td>\n",
       "      <td>0.088143</td>\n",
       "      <td>69.099719</td>\n",
       "    </tr>\n",
       "    <tr>\n",
       "      <th>17</th>\n",
       "      <td>marital_married</td>\n",
       "      <td>0.020756</td>\n",
       "      <td>71.175306</td>\n",
       "    </tr>\n",
       "    <tr>\n",
       "      <th>13</th>\n",
       "      <td>job_technician</td>\n",
       "      <td>0.018933</td>\n",
       "      <td>73.068585</td>\n",
       "    </tr>\n",
       "    <tr>\n",
       "      <th>25</th>\n",
       "      <td>housing-loan_no</td>\n",
       "      <td>0.018056</td>\n",
       "      <td>74.874219</td>\n",
       "    </tr>\n",
       "    <tr>\n",
       "      <th>20</th>\n",
       "      <td>education_secondary</td>\n",
       "      <td>0.017810</td>\n",
       "      <td>76.655264</td>\n",
       "    </tr>\n",
       "    <tr>\n",
       "      <th>8</th>\n",
       "      <td>job_management</td>\n",
       "      <td>0.017692</td>\n",
       "      <td>78.424447</td>\n",
       "    </tr>\n",
       "    <tr>\n",
       "      <th>5</th>\n",
       "      <td>job_blue-collar</td>\n",
       "      <td>0.017680</td>\n",
       "      <td>80.192441</td>\n",
       "    </tr>\n",
       "    <tr>\n",
       "      <th>18</th>\n",
       "      <td>marital_single</td>\n",
       "      <td>0.016614</td>\n",
       "      <td>81.853886</td>\n",
       "    </tr>\n",
       "    <tr>\n",
       "      <th>26</th>\n",
       "      <td>housing-loan_yes</td>\n",
       "      <td>0.016427</td>\n",
       "      <td>83.496621</td>\n",
       "    </tr>\n",
       "    <tr>\n",
       "      <th>21</th>\n",
       "      <td>education_tertiary</td>\n",
       "      <td>0.016038</td>\n",
       "      <td>85.100408</td>\n",
       "    </tr>\n",
       "    <tr>\n",
       "      <th>16</th>\n",
       "      <td>marital_divorced</td>\n",
       "      <td>0.014874</td>\n",
       "      <td>86.587832</td>\n",
       "    </tr>\n",
       "    <tr>\n",
       "      <th>9</th>\n",
       "      <td>job_retired</td>\n",
       "      <td>0.013937</td>\n",
       "      <td>87.981537</td>\n",
       "    </tr>\n",
       "    <tr>\n",
       "      <th>4</th>\n",
       "      <td>job_admin.</td>\n",
       "      <td>0.013929</td>\n",
       "      <td>89.374477</td>\n",
       "    </tr>\n",
       "    <tr>\n",
       "      <th>19</th>\n",
       "      <td>education_primary</td>\n",
       "      <td>0.013274</td>\n",
       "      <td>90.701830</td>\n",
       "    </tr>\n",
       "    <tr>\n",
       "      <th>27</th>\n",
       "      <td>personal-loan_no</td>\n",
       "      <td>0.012847</td>\n",
       "      <td>91.986493</td>\n",
       "    </tr>\n",
       "    <tr>\n",
       "      <th>28</th>\n",
       "      <td>personal-loan_yes</td>\n",
       "      <td>0.012301</td>\n",
       "      <td>93.216621</td>\n",
       "    </tr>\n",
       "    <tr>\n",
       "      <th>11</th>\n",
       "      <td>job_services</td>\n",
       "      <td>0.010846</td>\n",
       "      <td>94.301192</td>\n",
       "    </tr>\n",
       "    <tr>\n",
       "      <th>10</th>\n",
       "      <td>job_self-employed</td>\n",
       "      <td>0.008982</td>\n",
       "      <td>95.199437</td>\n",
       "    </tr>\n",
       "    <tr>\n",
       "      <th>6</th>\n",
       "      <td>job_entrepreneur</td>\n",
       "      <td>0.008877</td>\n",
       "      <td>96.087154</td>\n",
       "    </tr>\n",
       "    <tr>\n",
       "      <th>22</th>\n",
       "      <td>education_unknown</td>\n",
       "      <td>0.008546</td>\n",
       "      <td>96.941743</td>\n",
       "    </tr>\n",
       "    <tr>\n",
       "      <th>7</th>\n",
       "      <td>job_housemaid</td>\n",
       "      <td>0.006611</td>\n",
       "      <td>97.602866</td>\n",
       "    </tr>\n",
       "    <tr>\n",
       "      <th>14</th>\n",
       "      <td>job_unemployed</td>\n",
       "      <td>0.006248</td>\n",
       "      <td>98.227688</td>\n",
       "    </tr>\n",
       "    <tr>\n",
       "      <th>12</th>\n",
       "      <td>job_student</td>\n",
       "      <td>0.005528</td>\n",
       "      <td>98.780466</td>\n",
       "    </tr>\n",
       "    <tr>\n",
       "      <th>24</th>\n",
       "      <td>default_yes</td>\n",
       "      <td>0.004727</td>\n",
       "      <td>99.253121</td>\n",
       "    </tr>\n",
       "    <tr>\n",
       "      <th>23</th>\n",
       "      <td>default_no</td>\n",
       "      <td>0.004315</td>\n",
       "      <td>99.684658</td>\n",
       "    </tr>\n",
       "    <tr>\n",
       "      <th>15</th>\n",
       "      <td>job_unknown</td>\n",
       "      <td>0.003153</td>\n",
       "      <td>100.000000</td>\n",
       "    </tr>\n",
       "  </tbody>\n",
       "</table>\n",
       "</div>"
      ],
      "text/plain": [
       "                feature  importance      cumsum\n",
       "1               balance    0.269852   26.985162\n",
       "0                   age    0.227179   49.703092\n",
       "2      current-campaign    0.105823   60.285416\n",
       "3     previous-campaign    0.088143   69.099719\n",
       "17      marital_married    0.020756   71.175306\n",
       "13       job_technician    0.018933   73.068585\n",
       "25      housing-loan_no    0.018056   74.874219\n",
       "20  education_secondary    0.017810   76.655264\n",
       "8        job_management    0.017692   78.424447\n",
       "5       job_blue-collar    0.017680   80.192441\n",
       "18       marital_single    0.016614   81.853886\n",
       "26     housing-loan_yes    0.016427   83.496621\n",
       "21   education_tertiary    0.016038   85.100408\n",
       "16     marital_divorced    0.014874   86.587832\n",
       "9           job_retired    0.013937   87.981537\n",
       "4            job_admin.    0.013929   89.374477\n",
       "19    education_primary    0.013274   90.701830\n",
       "27     personal-loan_no    0.012847   91.986493\n",
       "28    personal-loan_yes    0.012301   93.216621\n",
       "11         job_services    0.010846   94.301192\n",
       "10    job_self-employed    0.008982   95.199437\n",
       "6      job_entrepreneur    0.008877   96.087154\n",
       "22    education_unknown    0.008546   96.941743\n",
       "7         job_housemaid    0.006611   97.602866\n",
       "14       job_unemployed    0.006248   98.227688\n",
       "12          job_student    0.005528   98.780466\n",
       "24          default_yes    0.004727   99.253121\n",
       "23           default_no    0.004315   99.684658\n",
       "15          job_unknown    0.003153  100.000000"
      ]
     },
     "metadata": {},
     "output_type": "display_data"
    }
   ],
   "source": [
    "feature_rank[\"cumsum\"] = feature_rank.importance.cumsum() * 100\n",
    "display(feature_rank)"
   ]
  },
  {
   "cell_type": "code",
   "execution_count": null,
   "id": "d108d40e-bef6-420a-a4a9-7f2e21ef438c",
   "metadata": {},
   "outputs": [],
   "source": []
  }
 ],
 "metadata": {
  "kernelspec": {
   "display_name": "Python 3 (ipykernel)",
   "language": "python",
   "name": "python3"
  },
  "language_info": {
   "codemirror_mode": {
    "name": "ipython",
    "version": 3
   },
   "file_extension": ".py",
   "mimetype": "text/x-python",
   "name": "python",
   "nbconvert_exporter": "python",
   "pygments_lexer": "ipython3",
   "version": "3.7.12"
  }
 },
 "nbformat": 4,
 "nbformat_minor": 5
}
