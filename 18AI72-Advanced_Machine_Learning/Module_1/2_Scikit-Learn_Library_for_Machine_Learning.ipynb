{
 "cells": [
  {
   "cell_type": "markdown",
   "id": "2d599036-14d9-44bd-b188-16d3385e91c2",
   "metadata": {
    "tags": []
   },
   "source": [
    "# Scikit-Learn Library for Machine Learning\n",
    "_Using Scikit-Learn library for building machine learning models._"
   ]
  },
  {
   "cell_type": "markdown",
   "id": "578ccf6f-9728-4193-8f7f-36084d0cc2c2",
   "metadata": {},
   "source": [
    "## Steps for Building Machine Learning Models"
   ]
  },
  {
   "cell_type": "markdown",
   "id": "2c1382aa-e57c-4070-92bd-36236f541a51",
   "metadata": {},
   "source": [
    "### Loading Data Set\n",
    "_The dataset being used here contains the examples of advertisement spends across multiple channels such as Radio, TV, and Newspaper, and the corresponding sales revenue generated at different time periods. In this regression task, a regression model was built for predicting future sales using spends on different advertisement channels._"
   ]
  },
  {
   "cell_type": "code",
   "execution_count": 1,
   "id": "fd4614c7-05d7-4846-94da-8e79d2f6281a",
   "metadata": {},
   "outputs": [],
   "source": [
    "# Loads the data set\n",
    "\n",
    "import pandas as pd\n",
    "\n",
    "sales = pd.read_csv(\"../../Data/Advertising.csv\")"
   ]
  },
  {
   "cell_type": "code",
   "execution_count": 2,
   "id": "d6051f8e-77ee-4030-82f5-9657de615d2c",
   "metadata": {},
   "outputs": [
    {
     "data": {
      "text/html": [
       "<div>\n",
       "<style scoped>\n",
       "    .dataframe tbody tr th:only-of-type {\n",
       "        vertical-align: middle;\n",
       "    }\n",
       "\n",
       "    .dataframe tbody tr th {\n",
       "        vertical-align: top;\n",
       "    }\n",
       "\n",
       "    .dataframe thead th {\n",
       "        text-align: right;\n",
       "    }\n",
       "</style>\n",
       "<table border=\"1\" class=\"dataframe\">\n",
       "  <thead>\n",
       "    <tr style=\"text-align: right;\">\n",
       "      <th></th>\n",
       "      <th>Unnamed: 0</th>\n",
       "      <th>TV</th>\n",
       "      <th>Radio</th>\n",
       "      <th>Newspaper</th>\n",
       "      <th>Sales</th>\n",
       "    </tr>\n",
       "  </thead>\n",
       "  <tbody>\n",
       "    <tr>\n",
       "      <th>0</th>\n",
       "      <td>1</td>\n",
       "      <td>230.1</td>\n",
       "      <td>37.8</td>\n",
       "      <td>69.2</td>\n",
       "      <td>22.1</td>\n",
       "    </tr>\n",
       "    <tr>\n",
       "      <th>1</th>\n",
       "      <td>2</td>\n",
       "      <td>44.5</td>\n",
       "      <td>39.3</td>\n",
       "      <td>45.1</td>\n",
       "      <td>10.4</td>\n",
       "    </tr>\n",
       "    <tr>\n",
       "      <th>2</th>\n",
       "      <td>3</td>\n",
       "      <td>17.2</td>\n",
       "      <td>45.9</td>\n",
       "      <td>69.3</td>\n",
       "      <td>9.3</td>\n",
       "    </tr>\n",
       "    <tr>\n",
       "      <th>3</th>\n",
       "      <td>4</td>\n",
       "      <td>151.5</td>\n",
       "      <td>41.3</td>\n",
       "      <td>58.5</td>\n",
       "      <td>18.5</td>\n",
       "    </tr>\n",
       "    <tr>\n",
       "      <th>4</th>\n",
       "      <td>5</td>\n",
       "      <td>180.8</td>\n",
       "      <td>10.8</td>\n",
       "      <td>58.4</td>\n",
       "      <td>12.9</td>\n",
       "    </tr>\n",
       "  </tbody>\n",
       "</table>\n",
       "</div>"
      ],
      "text/plain": [
       "   Unnamed: 0     TV  Radio  Newspaper  Sales\n",
       "0           1  230.1   37.8       69.2   22.1\n",
       "1           2   44.5   39.3       45.1   10.4\n",
       "2           3   17.2   45.9       69.3    9.3\n",
       "3           4  151.5   41.3       58.5   18.5\n",
       "4           5  180.8   10.8       58.4   12.9"
      ]
     },
     "execution_count": 2,
     "metadata": {},
     "output_type": "execute_result"
    }
   ],
   "source": [
    "# Views the few of rows from the data set\n",
    "sales.head()"
   ]
  },
  {
   "cell_type": "code",
   "execution_count": 3,
   "id": "6c16d3c5-e400-40b7-9448-e053872118eb",
   "metadata": {},
   "outputs": [
    {
     "name": "stdout",
     "output_type": "stream",
     "text": [
      "<class 'pandas.core.frame.DataFrame'>\n",
      "RangeIndex: 200 entries, 0 to 199\n",
      "Data columns (total 5 columns):\n",
      " #   Column      Non-Null Count  Dtype  \n",
      "---  ------      --------------  -----  \n",
      " 0   Unnamed: 0  200 non-null    int64  \n",
      " 1   TV          200 non-null    float64\n",
      " 2   Radio       200 non-null    float64\n",
      " 3   Newspaper   200 non-null    float64\n",
      " 4   Sales       200 non-null    float64\n",
      "dtypes: float64(4), int64(1)\n",
      "memory usage: 7.9 KB\n",
      "None\n"
     ]
    }
   ],
   "source": [
    "# Prints information about the data set\n",
    "print(sales.info())"
   ]
  },
  {
   "cell_type": "markdown",
   "id": "d076f98e-2e09-490a-af31-ddc643a7d976",
   "metadata": {},
   "source": [
    "### Splitting Dataset into Train and Test Data Sets"
   ]
  },
  {
   "cell_type": "code",
   "execution_count": 4,
   "id": "049140d2-e046-45d2-94f6-c67903255458",
   "metadata": {},
   "outputs": [],
   "source": [
    "from sklearn.model_selection import train_test_split\n",
    "\n",
    "X_train, X_test, y_train, y_test = train_test_split(\n",
    "    sales[[\"TV\", \"Radio\", \"Newspaper\"]], sales.Sales, test_size=0.3, random_state = 42)"
   ]
  },
  {
   "cell_type": "code",
   "execution_count": 5,
   "id": "5ad62c07-ec4a-4b08-9b82-6bbc4834d22b",
   "metadata": {},
   "outputs": [
    {
     "name": "stdout",
     "output_type": "stream",
     "text": [
      "Count of training instances: 140\n",
      "Count of test instances: 60\n"
     ]
    }
   ],
   "source": [
    "print(\"Count of training instances:\", len(X_train))\n",
    "print(\"Count of test instances:\", len(X_test))"
   ]
  },
  {
   "cell_type": "markdown",
   "id": "c22c9d0d-f48f-4bde-89a6-98a812ea9865",
   "metadata": {},
   "source": [
    "### Preparing Data Set\n",
    "#### Standardizes the Data Set"
   ]
  },
  {
   "cell_type": "code",
   "execution_count": 6,
   "id": "b58d31a2-17ea-4e2f-bf06-6a3244c1bb30",
   "metadata": {},
   "outputs": [],
   "source": [
    "from sklearn.preprocessing import StandardScaler\n",
    "\n",
    "# Initializes the scaler\n",
    "std_scaler = StandardScaler()\n",
    "\n",
    "# Then first fits the scaler and then transforms the trainig data\n",
    "X_train_scaled = std_scaler.fit_transform(X_train)"
   ]
  },
  {
   "cell_type": "markdown",
   "id": "8a253570-2584-439a-b453-a07f207a1fbb",
   "metadata": {},
   "source": [
    "### Building Linear Regression Model with Train Dataset"
   ]
  },
  {
   "cell_type": "code",
   "execution_count": 7,
   "id": "746aba53-e5d8-4444-8f43-cfbef2b216d8",
   "metadata": {},
   "outputs": [
    {
     "name": "stdout",
     "output_type": "stream",
     "text": [
      "Intercept: 14.497142857142858\n",
      "Coefficients: [3.68334078 2.90625242 0.14194772]\n"
     ]
    }
   ],
   "source": [
    "from sklearn.linear_model import LinearRegression\n",
    "\n",
    "# Initializes the model\n",
    "lin_reg = LinearRegression()\n",
    "\n",
    "# Fits the model to the training data\n",
    "lin_reg.fit(X_train_scaled, y_train)\n",
    "\n",
    "# Prints the model intercept and coefficients\n",
    "print(\"Intercept: {}\\nCoefficients: {}\".format(lin_reg.intercept_, lin_reg.coef_))"
   ]
  },
  {
   "cell_type": "markdown",
   "id": "7f6eafb6-c410-4fda-b0af-c1af8b8aa397",
   "metadata": {},
   "source": [
    "So the estimated model equation is\n",
    "\n",
    "$\\hat {Sales} = 14.497 + 3.683 * TV + 2.906 * Radio + 0.1419 * Newspaper$"
   ]
  },
  {
   "cell_type": "markdown",
   "id": "d7077c45-792e-4c0b-845f-f697ca6045ff",
   "metadata": {},
   "source": [
    "### Performs Predictions on Test Set"
   ]
  },
  {
   "cell_type": "code",
   "execution_count": 8,
   "id": "3b88e823-7185-43ca-b927-5405a565c1bd",
   "metadata": {},
   "outputs": [
    {
     "data": {
      "text/html": [
       "<div>\n",
       "<style scoped>\n",
       "    .dataframe tbody tr th:only-of-type {\n",
       "        vertical-align: middle;\n",
       "    }\n",
       "\n",
       "    .dataframe tbody tr th {\n",
       "        vertical-align: top;\n",
       "    }\n",
       "\n",
       "    .dataframe thead th {\n",
       "        text-align: right;\n",
       "    }\n",
       "</style>\n",
       "<table border=\"1\" class=\"dataframe\">\n",
       "  <thead>\n",
       "    <tr style=\"text-align: right;\">\n",
       "      <th></th>\n",
       "      <th>Actual</th>\n",
       "      <th>Predicted</th>\n",
       "      <th>Residual</th>\n",
       "    </tr>\n",
       "  </thead>\n",
       "  <tbody>\n",
       "    <tr>\n",
       "      <th>95</th>\n",
       "      <td>16.9</td>\n",
       "      <td>16.565396</td>\n",
       "      <td>0.334604</td>\n",
       "    </tr>\n",
       "    <tr>\n",
       "      <th>15</th>\n",
       "      <td>22.4</td>\n",
       "      <td>21.188228</td>\n",
       "      <td>1.211772</td>\n",
       "    </tr>\n",
       "    <tr>\n",
       "      <th>30</th>\n",
       "      <td>21.4</td>\n",
       "      <td>21.551071</td>\n",
       "      <td>-0.151071</td>\n",
       "    </tr>\n",
       "    <tr>\n",
       "      <th>158</th>\n",
       "      <td>7.3</td>\n",
       "      <td>10.889238</td>\n",
       "      <td>-3.589238</td>\n",
       "    </tr>\n",
       "    <tr>\n",
       "      <th>128</th>\n",
       "      <td>24.7</td>\n",
       "      <td>22.202320</td>\n",
       "      <td>2.497680</td>\n",
       "    </tr>\n",
       "    <tr>\n",
       "      <th>115</th>\n",
       "      <td>12.6</td>\n",
       "      <td>13.355569</td>\n",
       "      <td>-0.755569</td>\n",
       "    </tr>\n",
       "    <tr>\n",
       "      <th>69</th>\n",
       "      <td>22.3</td>\n",
       "      <td>21.196925</td>\n",
       "      <td>1.103075</td>\n",
       "    </tr>\n",
       "    <tr>\n",
       "      <th>170</th>\n",
       "      <td>8.4</td>\n",
       "      <td>7.350285</td>\n",
       "      <td>1.049715</td>\n",
       "    </tr>\n",
       "    <tr>\n",
       "      <th>174</th>\n",
       "      <td>11.5</td>\n",
       "      <td>13.275471</td>\n",
       "      <td>-1.775471</td>\n",
       "    </tr>\n",
       "    <tr>\n",
       "      <th>45</th>\n",
       "      <td>14.9</td>\n",
       "      <td>15.124495</td>\n",
       "      <td>-0.224495</td>\n",
       "    </tr>\n",
       "  </tbody>\n",
       "</table>\n",
       "</div>"
      ],
      "text/plain": [
       "     Actual  Predicted  Residual\n",
       "95     16.9  16.565396  0.334604\n",
       "15     22.4  21.188228  1.211772\n",
       "30     21.4  21.551071 -0.151071\n",
       "158     7.3  10.889238 -3.589238\n",
       "128    24.7  22.202320  2.497680\n",
       "115    12.6  13.355569 -0.755569\n",
       "69     22.3  21.196925  1.103075\n",
       "170     8.4   7.350285  1.049715\n",
       "174    11.5  13.275471 -1.775471\n",
       "45     14.9  15.124495 -0.224495"
      ]
     },
     "execution_count": 8,
     "metadata": {},
     "output_type": "execute_result"
    }
   ],
   "source": [
    "# Scales the training data set\n",
    "X_test_scaled = std_scaler.transform(X_test)\n",
    "\n",
    "predictions = lin_reg.predict(X_test_scaled)\n",
    "\n",
    "# Shows predictions against actuals for few observations\n",
    "pd.DataFrame({\n",
    "    \"Actual\": y_test, \n",
    "    \"Predicted\": predictions, \n",
    "    \"Residual\": y_test - predictions}).head(n = 10)"
   ]
  },
  {
   "cell_type": "markdown",
   "id": "3b492652-a7b0-4ec5-be16-f9c883bbbb57",
   "metadata": {},
   "source": [
    "### Measuring Model Performance"
   ]
  },
  {
   "cell_type": "code",
   "execution_count": 9,
   "id": "166df784-acb9-466b-a494-c084fc879ab2",
   "metadata": {},
   "outputs": [
    {
     "name": "stdout",
     "output_type": "stream",
     "text": [
      "RMSE: 1.94853720434464 \n",
      "R-Squared: 0.8609466508230366\n"
     ]
    }
   ],
   "source": [
    "from sklearn.metrics import mean_squared_error, r2_score\n",
    "\n",
    "# Calculates errors on test data\n",
    "\n",
    "rmse = mean_squared_error(y_test, predictions, squared=False)\n",
    "r_squared = r2_score(y_test, predictions)\n",
    "\n",
    "print(\"RMSE: {} \\nR-Squared: {}\".format(rmse,r_squared))"
   ]
  },
  {
   "cell_type": "markdown",
   "id": "b7757043-9a33-444a-a3b9-6ff28b8d9149",
   "metadata": {},
   "source": [
    "The above model performance evaluation shows that model prediction has standard deviation of **1.95** and the model explains **86%** of variance in y."
   ]
  },
  {
   "cell_type": "markdown",
   "id": "1d889b9f-cd2d-475f-b6eb-5e3ef7d85633",
   "metadata": {},
   "source": [
    "## Bias-Variance Trade-off"
   ]
  },
  {
   "cell_type": "code",
   "execution_count": 10,
   "id": "637d26b3-cdb4-47ee-8c85-ca77b05fb85e",
   "metadata": {},
   "outputs": [
    {
     "data": {
      "text/html": [
       "<div>\n",
       "<style scoped>\n",
       "    .dataframe tbody tr th:only-of-type {\n",
       "        vertical-align: middle;\n",
       "    }\n",
       "\n",
       "    .dataframe tbody tr th {\n",
       "        vertical-align: top;\n",
       "    }\n",
       "\n",
       "    .dataframe thead th {\n",
       "        text-align: right;\n",
       "    }\n",
       "</style>\n",
       "<table border=\"1\" class=\"dataframe\">\n",
       "  <thead>\n",
       "    <tr style=\"text-align: right;\">\n",
       "      <th></th>\n",
       "      <th>x</th>\n",
       "      <th>y</th>\n",
       "    </tr>\n",
       "  </thead>\n",
       "  <tbody>\n",
       "    <tr>\n",
       "      <th>0</th>\n",
       "      <td>2</td>\n",
       "      <td>-1.999618</td>\n",
       "    </tr>\n",
       "    <tr>\n",
       "      <th>1</th>\n",
       "      <td>2</td>\n",
       "      <td>-1.999618</td>\n",
       "    </tr>\n",
       "    <tr>\n",
       "      <th>2</th>\n",
       "      <td>8</td>\n",
       "      <td>-3.978312</td>\n",
       "    </tr>\n",
       "    <tr>\n",
       "      <th>3</th>\n",
       "      <td>9</td>\n",
       "      <td>-1.969175</td>\n",
       "    </tr>\n",
       "    <tr>\n",
       "      <th>4</th>\n",
       "      <td>10</td>\n",
       "      <td>-0.957770</td>\n",
       "    </tr>\n",
       "    <tr>\n",
       "      <th>5</th>\n",
       "      <td>10</td>\n",
       "      <td>3.042230</td>\n",
       "    </tr>\n",
       "    <tr>\n",
       "      <th>6</th>\n",
       "      <td>11</td>\n",
       "      <td>-3.943845</td>\n",
       "    </tr>\n",
       "    <tr>\n",
       "      <th>7</th>\n",
       "      <td>14</td>\n",
       "      <td>3.115570</td>\n",
       "    </tr>\n",
       "    <tr>\n",
       "      <th>8</th>\n",
       "      <td>15</td>\n",
       "      <td>0.142095</td>\n",
       "    </tr>\n",
       "    <tr>\n",
       "      <th>9</th>\n",
       "      <td>21</td>\n",
       "      <td>-2.610555</td>\n",
       "    </tr>\n",
       "  </tbody>\n",
       "</table>\n",
       "</div>"
      ],
      "text/plain": [
       "    x         y\n",
       "0   2 -1.999618\n",
       "1   2 -1.999618\n",
       "2   8 -3.978312\n",
       "3   9 -1.969175\n",
       "4  10 -0.957770\n",
       "5  10  3.042230\n",
       "6  11 -3.943845\n",
       "7  14  3.115570\n",
       "8  15  0.142095\n",
       "9  21 -2.610555"
      ]
     },
     "metadata": {},
     "output_type": "display_data"
    }
   ],
   "source": [
    "import numpy as np\n",
    "\n",
    "# First, loads a two-variable data set\n",
    "curve = pd.read_csv(\"../../Data/curve.csv\")\n",
    "\n",
    "# Checks few observations of the data set\n",
    "display(curve.head(n = 10))"
   ]
  },
  {
   "cell_type": "code",
   "execution_count": 11,
   "id": "28aedbd0-d213-4bc5-ae2e-5e6e9669db9a",
   "metadata": {},
   "outputs": [
    {
     "data": {
      "image/png": "[encoded data removed]",
      "text/plain": [
       "<Figure size 432x288 with 1 Axes>"
      ]
     },
     "metadata": {
      "needs_background": "light"
     },
     "output_type": "display_data"
    }
   ],
   "source": [
    "# Plots the data set to view relationship between the variables\n",
    "\n",
    "import matplotlib.pyplot as plt\n",
    "import seaborn as sns\n",
    "%matplotlib inline\n",
    "\n",
    "plt.scatter(curve.x, curve.y)\n",
    "plt.xlabel(\"$x$\")\n",
    "plt.ylabel(\"$y$\", rotation=0)\n",
    "plt.title(\"Relationship between x and y\")\n",
    "plt.show()"
   ]
  },
  {
   "cell_type": "markdown",
   "id": "4ad8b6d1-6315-43da-a977-78f3dd2085a1",
   "metadata": {},
   "source": [
    "As it is evident from the above plot that relation between **_x_** and **_y_** is not linear, it could be some degree of polynomial. So, let's try few polynomial form of **_x_** to verify which non-linear model fits the data best."
   ]
  },
  {
   "cell_type": "code",
   "execution_count": 12,
   "id": "02abe575-b4e9-4d5c-9570-b48df4ca0255",
   "metadata": {},
   "outputs": [],
   "source": [
    "from numpy.polynomial.polynomial import polyfit, polyval\n",
    "\n",
    "def plot_polyfit(x, y, degree):\n",
    "    \"\"\"\n",
    "    Plots linear regression model between y and polynomial terms of x of specified degrees.\n",
    "    \n",
    "    Parameters\n",
    "    -----------\n",
    "    array_like, shape (`M`,)\n",
    "        x-coordinates of the `M` sample (data) points ``(x[i], y[i])``.\n",
    "    \n",
    "    y : array_like, shape (`M`,)\n",
    "        y-coordinates of the sample points.\n",
    "        \n",
    "    deg : int or 1-D array_like\n",
    "        Degree(s) of the fitting polynomials.\n",
    "    \"\"\"\n",
    "    \n",
    "    # Fits the model against specified polynomial and returns the model coefficients\n",
    "    poly_coefs = polyfit(x, y, deg = degree)\n",
    "    \n",
    "    # Evaluates the polynomial against each x\n",
    "    predictions = polyval(x, poly_coefs)\n",
    "    \n",
    "    # Plots predictions against the actual targets\n",
    "    plt.scatter(curve.x, curve.y)\n",
    "    plt.plot(curve.x, predictions)\n",
    "    plt.xlabel(\"$x$\")\n",
    "    plt.ylabel(\"$y$\", rotation=0)\n",
    "    plt.title(\"Linear Regression Model of Polynomial Degree {}\".format(degree))\n",
    "    plt.show()"
   ]
  },
  {
   "cell_type": "markdown",
   "id": "057005a7-9757-40b8-a13e-3e9efb5d48b5",
   "metadata": {},
   "source": [
    "Fitting the model with degree 1\n",
    "\n",
    "$ y = \\beta_1x_1 + \\epsilon$"
   ]
  },
  {
   "cell_type": "code",
   "execution_count": 13,
   "id": "b3d24f81-0dbe-49e3-8620-3f582d26d515",
   "metadata": {},
   "outputs": [
    {
     "data": {
      "image/png": "[encoded data removed]",
      "text/plain": [
       "<Figure size 432x288 with 1 Axes>"
      ]
     },
     "metadata": {
      "needs_background": "light"
     },
     "output_type": "display_data"
    }
   ],
   "source": [
    "plot_polyfit(curve.x, curve.y, degree = 1)"
   ]
  },
  {
   "cell_type": "markdown",
   "id": "67d84d20-4d04-4a7d-803e-37ad476edffb",
   "metadata": {},
   "source": [
    "Fitting the model with degree 2\n",
    "\n",
    "$ y = \\beta_1x_1 + \\beta_2{x_1}^2 + \\epsilon$"
   ]
  },
  {
   "cell_type": "code",
   "execution_count": 14,
   "id": "5af94437-44e9-49a0-821c-515bb867f5cd",
   "metadata": {},
   "outputs": [
    {
     "data": {
      "image/png": "[encoded data removed]",
      "text/plain": [
       "<Figure size 432x288 with 1 Axes>"
      ]
     },
     "metadata": {
      "needs_background": "light"
     },
     "output_type": "display_data"
    }
   ],
   "source": [
    "plot_polyfit(curve.x, curve.y, degree = 2)"
   ]
  },
  {
   "cell_type": "markdown",
   "id": "9774990a-67dd-4e5c-95d5-113ea62021d3",
   "metadata": {},
   "source": [
    "Fitting the model with degree 10\n",
    "\n",
    "$ y = \\beta_1x_1 + \\beta_2{x_1}^2 + \\beta_3{x_1}^3 + \\beta_4{x_1}^4 + \\beta_5{x_1}^5 + \\beta_6{x_1}^6 + \\beta_7{x_1}^7 + \\beta_8{x_1}^8 + \\beta_9{x_1}^9 + \\beta_{10}{x_1}^{10} + \\epsilon$"
   ]
  },
  {
   "cell_type": "code",
   "execution_count": 15,
   "id": "9f6050f5-4ddd-473e-a312-dcf7110675dd",
   "metadata": {},
   "outputs": [
    {
     "data": {
      "image/png": "[encoded data removed]",
      "text/plain": [
       "<Figure size 432x288 with 1 Axes>"
      ]
     },
     "metadata": {
      "needs_background": "light"
     },
     "output_type": "display_data"
    }
   ],
   "source": [
    "plot_polyfit(curve.x, curve.y, degree = 10)"
   ]
  },
  {
   "cell_type": "markdown",
   "id": "bc9a055a-7637-4c1d-80d1-81abde0f8522",
   "metadata": {},
   "source": [
    "The above plots shows that the model with higher polynomial terms starts trying to fit every data point in the training set. This is the case of **overﬁtting**. The model with polynomial terms degree 10 will be sensitive to any changes in training examples.\n",
    "\n",
    "On the other hand, an **underﬁtted** model has a large error because of **high bias**, where overﬁtted model has a large error  because of **high variance**. An optimal model will be somewhere between an underﬁtted and an overﬁtted model, and will have low bias and low variance. This can be observed by comparing RMSE in training and test sets."
   ]
  },
  {
   "cell_type": "markdown",
   "id": "4f83087b-8663-4b1c-8939-c9b73c7d78bf",
   "metadata": {},
   "source": [
    "### Model Evaluation"
   ]
  },
  {
   "cell_type": "markdown",
   "id": "d0c4fe60-624b-413f-898b-0b2b984a511d",
   "metadata": {},
   "source": [
    "To estimate the best polynimial degree, a model for every polynomial degree ranging from **1** to **15** are built. Prediction errors are then analyzed to select best polynomial degree having lowest error."
   ]
  },
  {
   "cell_type": "code",
   "execution_count": 16,
   "id": "37089e3e-f888-430f-b89d-bf0e526a63ea",
   "metadata": {},
   "outputs": [],
   "source": [
    "# Create a dataframe to store polynomial degree and errors (for both training and testing)\n",
    "rmse = pd.DataFrame(columns = [\"degree\", \"rmse_train\", \"rmse_test\"])\n",
    "\n",
    "# Split the dataset into training and test set with 70:30 ratio\n",
    "X_train, X_test, y_train, y_test = train_test_split(\n",
    "    curve.x, curve.y, test_size = 0.40, random_state = 42)\n",
    "\n",
    "# Iterates to create and evaluate models\n",
    "for i in range(1, 16):\n",
    "    # Fits the model against specified polynomial and returns the model coefficients\n",
    "    poly_coefs = polyfit(X_train, y_train, deg = i)\n",
    "    \n",
    "    # Evaluates the polynomial against each x\n",
    "    predictions_train = polyval(X_train, poly_coefs)\n",
    "    rmse_train = mean_squared_error(y_train, predictions_train, squared=False)\n",
    "    \n",
    "    predictions_test = polyval(X_test, poly_coefs)\n",
    "    rmse_test = mean_squared_error(y_test, predictions_test, squared=False)\n",
    "    \n",
    "    rmse.loc[i - 1] = [i, rmse_train, rmse_test]"
   ]
  },
  {
   "cell_type": "code",
   "execution_count": 17,
   "id": "ff8757b5-12ac-4fbb-a62d-e07a1467028c",
   "metadata": {},
   "outputs": [
    {
     "data": {
      "text/html": [
       "<div>\n",
       "<style scoped>\n",
       "    .dataframe tbody tr th:only-of-type {\n",
       "        vertical-align: middle;\n",
       "    }\n",
       "\n",
       "    .dataframe tbody tr th {\n",
       "        vertical-align: top;\n",
       "    }\n",
       "\n",
       "    .dataframe thead th {\n",
       "        text-align: right;\n",
       "    }\n",
       "</style>\n",
       "<table border=\"1\" class=\"dataframe\">\n",
       "  <thead>\n",
       "    <tr style=\"text-align: right;\">\n",
       "      <th></th>\n",
       "      <th>degree</th>\n",
       "      <th>rmse_train</th>\n",
       "      <th>rmse_test</th>\n",
       "    </tr>\n",
       "  </thead>\n",
       "  <tbody>\n",
       "    <tr>\n",
       "      <th>0</th>\n",
       "      <td>1.0</td>\n",
       "      <td>5.355971</td>\n",
       "      <td>5.797133</td>\n",
       "    </tr>\n",
       "    <tr>\n",
       "      <th>1</th>\n",
       "      <td>2.0</td>\n",
       "      <td>2.350539</td>\n",
       "      <td>2.789114</td>\n",
       "    </tr>\n",
       "    <tr>\n",
       "      <th>2</th>\n",
       "      <td>3.0</td>\n",
       "      <td>2.200179</td>\n",
       "      <td>2.570771</td>\n",
       "    </tr>\n",
       "    <tr>\n",
       "      <th>3</th>\n",
       "      <td>4.0</td>\n",
       "      <td>2.171103</td>\n",
       "      <td>2.737489</td>\n",
       "    </tr>\n",
       "    <tr>\n",
       "      <th>4</th>\n",
       "      <td>5.0</td>\n",
       "      <td>2.110693</td>\n",
       "      <td>2.668397</td>\n",
       "    </tr>\n",
       "    <tr>\n",
       "      <th>5</th>\n",
       "      <td>6.0</td>\n",
       "      <td>2.110577</td>\n",
       "      <td>2.675516</td>\n",
       "    </tr>\n",
       "    <tr>\n",
       "      <th>6</th>\n",
       "      <td>7.0</td>\n",
       "      <td>2.108140</td>\n",
       "      <td>2.645712</td>\n",
       "    </tr>\n",
       "    <tr>\n",
       "      <th>7</th>\n",
       "      <td>8.0</td>\n",
       "      <td>2.107193</td>\n",
       "      <td>2.665202</td>\n",
       "    </tr>\n",
       "    <tr>\n",
       "      <th>8</th>\n",
       "      <td>9.0</td>\n",
       "      <td>2.021894</td>\n",
       "      <td>2.645752</td>\n",
       "    </tr>\n",
       "    <tr>\n",
       "      <th>9</th>\n",
       "      <td>10.0</td>\n",
       "      <td>1.996964</td>\n",
       "      <td>2.784554</td>\n",
       "    </tr>\n",
       "    <tr>\n",
       "      <th>10</th>\n",
       "      <td>11.0</td>\n",
       "      <td>1.964068</td>\n",
       "      <td>2.883778</td>\n",
       "    </tr>\n",
       "    <tr>\n",
       "      <th>11</th>\n",
       "      <td>12.0</td>\n",
       "      <td>1.775749</td>\n",
       "      <td>4.174549</td>\n",
       "    </tr>\n",
       "    <tr>\n",
       "      <th>12</th>\n",
       "      <td>13.0</td>\n",
       "      <td>1.745561</td>\n",
       "      <td>3.313422</td>\n",
       "    </tr>\n",
       "    <tr>\n",
       "      <th>13</th>\n",
       "      <td>14.0</td>\n",
       "      <td>1.744975</td>\n",
       "      <td>3.444945</td>\n",
       "    </tr>\n",
       "    <tr>\n",
       "      <th>14</th>\n",
       "      <td>15.0</td>\n",
       "      <td>1.742758</td>\n",
       "      <td>3.248231</td>\n",
       "    </tr>\n",
       "  </tbody>\n",
       "</table>\n",
       "</div>"
      ],
      "text/plain": [
       "    degree  rmse_train  rmse_test\n",
       "0      1.0    5.355971   5.797133\n",
       "1      2.0    2.350539   2.789114\n",
       "2      3.0    2.200179   2.570771\n",
       "3      4.0    2.171103   2.737489\n",
       "4      5.0    2.110693   2.668397\n",
       "5      6.0    2.110577   2.675516\n",
       "6      7.0    2.108140   2.645712\n",
       "7      8.0    2.107193   2.665202\n",
       "8      9.0    2.021894   2.645752\n",
       "9     10.0    1.996964   2.784554\n",
       "10    11.0    1.964068   2.883778\n",
       "11    12.0    1.775749   4.174549\n",
       "12    13.0    1.745561   3.313422\n",
       "13    14.0    1.744975   3.444945\n",
       "14    15.0    1.742758   3.248231"
      ]
     },
     "metadata": {},
     "output_type": "display_data"
    }
   ],
   "source": [
    "# Shows the performace in tabular form\n",
    "display(rmse)"
   ]
  },
  {
   "cell_type": "code",
   "execution_count": 18,
   "id": "17b255d6-51cf-4c1b-b21a-6e486162e2c0",
   "metadata": {},
   "outputs": [
    {
     "data": {
      "image/png": "[encoded data removed]",
      "text/plain": [
       "<Figure size 432x288 with 1 Axes>"
      ]
     },
     "metadata": {
      "needs_background": "light"
     },
     "output_type": "display_data"
    }
   ],
   "source": [
    "# Shows the performace in graphical form by plotting\n",
    "# train and test errors against the model complexity\n",
    "\n",
    "plt.plot(rmse.degree, rmse.rmse_train, label=\"RMSE on Training Set\", color = \"blue\" )\n",
    "plt.plot(rmse.degree, rmse.rmse_test, label=\"RMSE on Test Set\", color = \"orange\" )\n",
    "plt.xlabel(\"Model Degree\")\n",
    "plt.ylabel(\"RMSE\")\n",
    "plt.legend()\n",
    "plt.title(\"Model Performance against Model Complexity\")\n",
    "plt.show()"
   ]
  },
  {
   "cell_type": "markdown",
   "id": "a6e40348-30e6-4e43-a726-b723d2068b55",
   "metadata": {},
   "source": [
    "Observations from the above plots are\n",
    "- Training error coninued to get lower with the increase of model complexity\n",
    "- Testing error is lowest with polynomial degree 3 and continued to increase thereafter"
   ]
  },
  {
   "cell_type": "code",
   "execution_count": 19,
   "id": "a0726ffd-f675-4b4f-b5d3-035949ddc240",
   "metadata": {},
   "outputs": [
    {
     "name": "stdout",
     "output_type": "stream",
     "text": [
      "Degree of polynomial for which the testing is lowest is 3\n"
     ]
    }
   ],
   "source": [
    "print(\"Degree of polynomial for which the testing is lowest is\", \n",
    "     int(rmse.loc[rmse.rmse_test.argmin()].degree))"
   ]
  },
  {
   "cell_type": "code",
   "execution_count": null,
   "id": "9e6234a1-ce20-4e4f-9deb-5dfb033eb3fe",
   "metadata": {
    "tags": []
   },
   "outputs": [],
   "source": []
  }
 ],
 "metadata": {
  "kernelspec": {
   "display_name": "Python 3 (ipykernel)",
   "language": "python",
   "name": "python3"
  },
  "language_info": {
   "codemirror_mode": {
    "name": "ipython",
    "version": 3
   },
   "file_extension": ".py",
   "mimetype": "text/x-python",
   "name": "python",
   "nbconvert_exporter": "python",
   "pygments_lexer": "ipython3",
   "version": "3.7.12"
  }
 },
 "nbformat": 4,
 "nbformat_minor": 5
}
