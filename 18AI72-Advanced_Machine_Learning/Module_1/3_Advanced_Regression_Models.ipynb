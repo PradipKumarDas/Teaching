{
 "cells": [
  {
   "cell_type": "markdown",
   "id": "9bb4e109-8e2b-40ac-bf47-d408fdb36d89",
   "metadata": {},
   "source": [
    "# Advanced Regression Models\n",
    "_Understanding limitations of Linear Regression model and exploring Advanced Regression Models._"
   ]
  },
  {
   "cell_type": "code",
   "execution_count": 1,
   "id": "55d21620-741e-4046-b87e-ce58b0cdfd92",
   "metadata": {},
   "outputs": [],
   "source": [
    "# Imports required packages\n",
    "import pandas as pd\n",
    "\n",
    "from sklearn.preprocessing import StandardScaler, OneHotEncoder\n",
    "from sklearn.model_selection import train_test_split\n",
    "from sklearn.pipeline import Pipeline\n",
    "from sklearn.compose import ColumnTransformer\n",
    "from sklearn.linear_model import LinearRegression, Lasso, Ridge, ElasticNet\n",
    "from sklearn.metrics import mean_squared_error\n",
    "\n",
    "import matplotlib.pyplot as plt\n",
    "import seaborn as sns\n",
    "%matplotlib inline"
   ]
  },
  {
   "cell_type": "code",
   "execution_count": 2,
   "id": "0777f15d-bfe4-4a4c-9ab7-5725dc07d330",
   "metadata": {},
   "outputs": [],
   "source": [
    "# Loading data set\n",
    "ipl_auction = pd.read_csv(\"../../Data/IPL_IMB381IPL2013.csv\")"
   ]
  },
  {
   "cell_type": "code",
   "execution_count": 3,
   "id": "f387dc23-40e2-4fff-a814-e8b866ddc718",
   "metadata": {},
   "outputs": [
    {
     "name": "stdout",
     "output_type": "stream",
     "text": [
      "<class 'pandas.core.frame.DataFrame'>\n",
      "RangeIndex: 130 entries, 0 to 129\n",
      "Data columns (total 26 columns):\n",
      " #   Column         Non-Null Count  Dtype  \n",
      "---  ------         --------------  -----  \n",
      " 0   Sl.NO.         130 non-null    int64  \n",
      " 1   PLAYER NAME    130 non-null    object \n",
      " 2   AGE            130 non-null    int64  \n",
      " 3   COUNTRY        130 non-null    object \n",
      " 4   TEAM           130 non-null    object \n",
      " 5   PLAYING ROLE   130 non-null    object \n",
      " 6   T-RUNS         130 non-null    int64  \n",
      " 7   T-WKTS         130 non-null    int64  \n",
      " 8   ODI-RUNS-S     130 non-null    int64  \n",
      " 9   ODI-SR-B       130 non-null    float64\n",
      " 10  ODI-WKTS       130 non-null    int64  \n",
      " 11  ODI-SR-BL      130 non-null    float64\n",
      " 12  CAPTAINCY EXP  130 non-null    int64  \n",
      " 13  RUNS-S         130 non-null    int64  \n",
      " 14  HS             130 non-null    int64  \n",
      " 15  AVE            130 non-null    float64\n",
      " 16  SR-B           130 non-null    float64\n",
      " 17  SIXERS         130 non-null    int64  \n",
      " 18  RUNS-C         130 non-null    int64  \n",
      " 19  WKTS           130 non-null    int64  \n",
      " 20  AVE-BL         130 non-null    float64\n",
      " 21  ECON           130 non-null    float64\n",
      " 22  SR-BL          130 non-null    float64\n",
      " 23  AUCTION YEAR   130 non-null    int64  \n",
      " 24  BASE PRICE     130 non-null    int64  \n",
      " 25  SOLD PRICE     130 non-null    int64  \n",
      "dtypes: float64(7), int64(15), object(4)\n",
      "memory usage: 26.5+ KB\n"
     ]
    }
   ],
   "source": [
    "# Shows the information about this data set\n",
    "ipl_auction.info()"
   ]
  },
  {
   "cell_type": "code",
   "execution_count": 4,
   "id": "b34ea426-1b20-4d43-8b30-fb2e7ccaba1e",
   "metadata": {},
   "outputs": [
    {
     "data": {
      "text/html": [
       "<div>\n",
       "<style scoped>\n",
       "    .dataframe tbody tr th:only-of-type {\n",
       "        vertical-align: middle;\n",
       "    }\n",
       "\n",
       "    .dataframe tbody tr th {\n",
       "        vertical-align: top;\n",
       "    }\n",
       "\n",
       "    .dataframe thead th {\n",
       "        text-align: right;\n",
       "    }\n",
       "</style>\n",
       "<table border=\"1\" class=\"dataframe\">\n",
       "  <thead>\n",
       "    <tr style=\"text-align: right;\">\n",
       "      <th></th>\n",
       "      <th>Sl.NO.</th>\n",
       "      <th>PLAYER NAME</th>\n",
       "      <th>AGE</th>\n",
       "      <th>COUNTRY</th>\n",
       "      <th>TEAM</th>\n",
       "      <th>PLAYING ROLE</th>\n",
       "      <th>T-RUNS</th>\n",
       "      <th>T-WKTS</th>\n",
       "      <th>ODI-RUNS-S</th>\n",
       "      <th>ODI-SR-B</th>\n",
       "      <th>ODI-WKTS</th>\n",
       "      <th>ODI-SR-BL</th>\n",
       "      <th>CAPTAINCY EXP</th>\n",
       "      <th>RUNS-S</th>\n",
       "      <th>HS</th>\n",
       "      <th>AVE</th>\n",
       "      <th>SR-B</th>\n",
       "      <th>SIXERS</th>\n",
       "      <th>RUNS-C</th>\n",
       "      <th>WKTS</th>\n",
       "      <th>AVE-BL</th>\n",
       "      <th>ECON</th>\n",
       "      <th>SR-BL</th>\n",
       "      <th>AUCTION YEAR</th>\n",
       "      <th>BASE PRICE</th>\n",
       "      <th>SOLD PRICE</th>\n",
       "    </tr>\n",
       "  </thead>\n",
       "  <tbody>\n",
       "    <tr>\n",
       "      <th>0</th>\n",
       "      <td>1</td>\n",
       "      <td>Abdulla, YA</td>\n",
       "      <td>2</td>\n",
       "      <td>SA</td>\n",
       "      <td>KXIP</td>\n",
       "      <td>Allrounder</td>\n",
       "      <td>0</td>\n",
       "      <td>0</td>\n",
       "      <td>0</td>\n",
       "      <td>0.00</td>\n",
       "      <td>0</td>\n",
       "      <td>0.0</td>\n",
       "      <td>0</td>\n",
       "      <td>0</td>\n",
       "      <td>0</td>\n",
       "      <td>0.00</td>\n",
       "      <td>0.00</td>\n",
       "      <td>0</td>\n",
       "      <td>307</td>\n",
       "      <td>15</td>\n",
       "      <td>20.47</td>\n",
       "      <td>8.90</td>\n",
       "      <td>13.93</td>\n",
       "      <td>2009</td>\n",
       "      <td>50000</td>\n",
       "      <td>50000</td>\n",
       "    </tr>\n",
       "    <tr>\n",
       "      <th>1</th>\n",
       "      <td>2</td>\n",
       "      <td>Abdur Razzak</td>\n",
       "      <td>2</td>\n",
       "      <td>BAN</td>\n",
       "      <td>RCB</td>\n",
       "      <td>Bowler</td>\n",
       "      <td>214</td>\n",
       "      <td>18</td>\n",
       "      <td>657</td>\n",
       "      <td>71.41</td>\n",
       "      <td>185</td>\n",
       "      <td>37.6</td>\n",
       "      <td>0</td>\n",
       "      <td>0</td>\n",
       "      <td>0</td>\n",
       "      <td>0.00</td>\n",
       "      <td>0.00</td>\n",
       "      <td>0</td>\n",
       "      <td>29</td>\n",
       "      <td>0</td>\n",
       "      <td>0.00</td>\n",
       "      <td>14.50</td>\n",
       "      <td>0.00</td>\n",
       "      <td>2008</td>\n",
       "      <td>50000</td>\n",
       "      <td>50000</td>\n",
       "    </tr>\n",
       "    <tr>\n",
       "      <th>2</th>\n",
       "      <td>3</td>\n",
       "      <td>Agarkar, AB</td>\n",
       "      <td>2</td>\n",
       "      <td>IND</td>\n",
       "      <td>KKR</td>\n",
       "      <td>Bowler</td>\n",
       "      <td>571</td>\n",
       "      <td>58</td>\n",
       "      <td>1269</td>\n",
       "      <td>80.62</td>\n",
       "      <td>288</td>\n",
       "      <td>32.9</td>\n",
       "      <td>0</td>\n",
       "      <td>167</td>\n",
       "      <td>39</td>\n",
       "      <td>18.56</td>\n",
       "      <td>121.01</td>\n",
       "      <td>5</td>\n",
       "      <td>1059</td>\n",
       "      <td>29</td>\n",
       "      <td>36.52</td>\n",
       "      <td>8.81</td>\n",
       "      <td>24.90</td>\n",
       "      <td>2008</td>\n",
       "      <td>200000</td>\n",
       "      <td>350000</td>\n",
       "    </tr>\n",
       "    <tr>\n",
       "      <th>3</th>\n",
       "      <td>4</td>\n",
       "      <td>Ashwin, R</td>\n",
       "      <td>1</td>\n",
       "      <td>IND</td>\n",
       "      <td>CSK</td>\n",
       "      <td>Bowler</td>\n",
       "      <td>284</td>\n",
       "      <td>31</td>\n",
       "      <td>241</td>\n",
       "      <td>84.56</td>\n",
       "      <td>51</td>\n",
       "      <td>36.8</td>\n",
       "      <td>0</td>\n",
       "      <td>58</td>\n",
       "      <td>11</td>\n",
       "      <td>5.80</td>\n",
       "      <td>76.32</td>\n",
       "      <td>0</td>\n",
       "      <td>1125</td>\n",
       "      <td>49</td>\n",
       "      <td>22.96</td>\n",
       "      <td>6.23</td>\n",
       "      <td>22.14</td>\n",
       "      <td>2011</td>\n",
       "      <td>100000</td>\n",
       "      <td>850000</td>\n",
       "    </tr>\n",
       "    <tr>\n",
       "      <th>4</th>\n",
       "      <td>5</td>\n",
       "      <td>Badrinath, S</td>\n",
       "      <td>2</td>\n",
       "      <td>IND</td>\n",
       "      <td>CSK</td>\n",
       "      <td>Batsman</td>\n",
       "      <td>63</td>\n",
       "      <td>0</td>\n",
       "      <td>79</td>\n",
       "      <td>45.93</td>\n",
       "      <td>0</td>\n",
       "      <td>0.0</td>\n",
       "      <td>0</td>\n",
       "      <td>1317</td>\n",
       "      <td>71</td>\n",
       "      <td>32.93</td>\n",
       "      <td>120.71</td>\n",
       "      <td>28</td>\n",
       "      <td>0</td>\n",
       "      <td>0</td>\n",
       "      <td>0.00</td>\n",
       "      <td>0.00</td>\n",
       "      <td>0.00</td>\n",
       "      <td>2011</td>\n",
       "      <td>100000</td>\n",
       "      <td>800000</td>\n",
       "    </tr>\n",
       "    <tr>\n",
       "      <th>...</th>\n",
       "      <td>...</td>\n",
       "      <td>...</td>\n",
       "      <td>...</td>\n",
       "      <td>...</td>\n",
       "      <td>...</td>\n",
       "      <td>...</td>\n",
       "      <td>...</td>\n",
       "      <td>...</td>\n",
       "      <td>...</td>\n",
       "      <td>...</td>\n",
       "      <td>...</td>\n",
       "      <td>...</td>\n",
       "      <td>...</td>\n",
       "      <td>...</td>\n",
       "      <td>...</td>\n",
       "      <td>...</td>\n",
       "      <td>...</td>\n",
       "      <td>...</td>\n",
       "      <td>...</td>\n",
       "      <td>...</td>\n",
       "      <td>...</td>\n",
       "      <td>...</td>\n",
       "      <td>...</td>\n",
       "      <td>...</td>\n",
       "      <td>...</td>\n",
       "      <td>...</td>\n",
       "    </tr>\n",
       "    <tr>\n",
       "      <th>125</th>\n",
       "      <td>126</td>\n",
       "      <td>Yadav, AS</td>\n",
       "      <td>2</td>\n",
       "      <td>IND</td>\n",
       "      <td>DC</td>\n",
       "      <td>Batsman</td>\n",
       "      <td>0</td>\n",
       "      <td>0</td>\n",
       "      <td>0</td>\n",
       "      <td>0.00</td>\n",
       "      <td>0</td>\n",
       "      <td>0.0</td>\n",
       "      <td>0</td>\n",
       "      <td>49</td>\n",
       "      <td>16</td>\n",
       "      <td>9.80</td>\n",
       "      <td>125.64</td>\n",
       "      <td>2</td>\n",
       "      <td>0</td>\n",
       "      <td>0</td>\n",
       "      <td>0.00</td>\n",
       "      <td>0.00</td>\n",
       "      <td>0.00</td>\n",
       "      <td>2010</td>\n",
       "      <td>50000</td>\n",
       "      <td>750000</td>\n",
       "    </tr>\n",
       "    <tr>\n",
       "      <th>126</th>\n",
       "      <td>127</td>\n",
       "      <td>Younis Khan</td>\n",
       "      <td>2</td>\n",
       "      <td>PAK</td>\n",
       "      <td>RR</td>\n",
       "      <td>Batsman</td>\n",
       "      <td>6398</td>\n",
       "      <td>7</td>\n",
       "      <td>6814</td>\n",
       "      <td>75.78</td>\n",
       "      <td>3</td>\n",
       "      <td>86.6</td>\n",
       "      <td>1</td>\n",
       "      <td>3</td>\n",
       "      <td>3</td>\n",
       "      <td>3.00</td>\n",
       "      <td>42.85</td>\n",
       "      <td>0</td>\n",
       "      <td>0</td>\n",
       "      <td>0</td>\n",
       "      <td>0.00</td>\n",
       "      <td>0.00</td>\n",
       "      <td>0.00</td>\n",
       "      <td>2008</td>\n",
       "      <td>225000</td>\n",
       "      <td>225000</td>\n",
       "    </tr>\n",
       "    <tr>\n",
       "      <th>127</th>\n",
       "      <td>128</td>\n",
       "      <td>Yuvraj Singh</td>\n",
       "      <td>2</td>\n",
       "      <td>IND</td>\n",
       "      <td>KXIP+</td>\n",
       "      <td>Batsman</td>\n",
       "      <td>1775</td>\n",
       "      <td>9</td>\n",
       "      <td>8051</td>\n",
       "      <td>87.58</td>\n",
       "      <td>109</td>\n",
       "      <td>44.3</td>\n",
       "      <td>1</td>\n",
       "      <td>1237</td>\n",
       "      <td>66</td>\n",
       "      <td>26.32</td>\n",
       "      <td>131.88</td>\n",
       "      <td>67</td>\n",
       "      <td>569</td>\n",
       "      <td>23</td>\n",
       "      <td>24.74</td>\n",
       "      <td>7.02</td>\n",
       "      <td>21.13</td>\n",
       "      <td>2011</td>\n",
       "      <td>400000</td>\n",
       "      <td>1800000</td>\n",
       "    </tr>\n",
       "    <tr>\n",
       "      <th>128</th>\n",
       "      <td>129</td>\n",
       "      <td>Zaheer Khan</td>\n",
       "      <td>2</td>\n",
       "      <td>IND</td>\n",
       "      <td>MI+</td>\n",
       "      <td>Bowler</td>\n",
       "      <td>1114</td>\n",
       "      <td>288</td>\n",
       "      <td>790</td>\n",
       "      <td>73.55</td>\n",
       "      <td>278</td>\n",
       "      <td>35.4</td>\n",
       "      <td>0</td>\n",
       "      <td>99</td>\n",
       "      <td>23</td>\n",
       "      <td>9.90</td>\n",
       "      <td>91.67</td>\n",
       "      <td>1</td>\n",
       "      <td>1783</td>\n",
       "      <td>65</td>\n",
       "      <td>27.43</td>\n",
       "      <td>7.75</td>\n",
       "      <td>21.26</td>\n",
       "      <td>2008</td>\n",
       "      <td>200000</td>\n",
       "      <td>450000</td>\n",
       "    </tr>\n",
       "    <tr>\n",
       "      <th>129</th>\n",
       "      <td>130</td>\n",
       "      <td>Zoysa, DNT</td>\n",
       "      <td>2</td>\n",
       "      <td>SL</td>\n",
       "      <td>DC</td>\n",
       "      <td>Bowler</td>\n",
       "      <td>288</td>\n",
       "      <td>64</td>\n",
       "      <td>343</td>\n",
       "      <td>95.81</td>\n",
       "      <td>108</td>\n",
       "      <td>39.4</td>\n",
       "      <td>0</td>\n",
       "      <td>11</td>\n",
       "      <td>10</td>\n",
       "      <td>11.00</td>\n",
       "      <td>122.22</td>\n",
       "      <td>0</td>\n",
       "      <td>99</td>\n",
       "      <td>2</td>\n",
       "      <td>49.50</td>\n",
       "      <td>9.00</td>\n",
       "      <td>33.00</td>\n",
       "      <td>2008</td>\n",
       "      <td>100000</td>\n",
       "      <td>110000</td>\n",
       "    </tr>\n",
       "  </tbody>\n",
       "</table>\n",
       "<p>130 rows × 26 columns</p>\n",
       "</div>"
      ],
      "text/plain": [
       "     Sl.NO.   PLAYER NAME  AGE COUNTRY   TEAM PLAYING ROLE  T-RUNS  T-WKTS  \\\n",
       "0         1   Abdulla, YA    2      SA   KXIP   Allrounder       0       0   \n",
       "1         2  Abdur Razzak    2     BAN    RCB       Bowler     214      18   \n",
       "2         3   Agarkar, AB    2     IND    KKR       Bowler     571      58   \n",
       "3         4     Ashwin, R    1     IND    CSK       Bowler     284      31   \n",
       "4         5  Badrinath, S    2     IND    CSK      Batsman      63       0   \n",
       "..      ...           ...  ...     ...    ...          ...     ...     ...   \n",
       "125     126     Yadav, AS    2     IND     DC      Batsman       0       0   \n",
       "126     127   Younis Khan    2     PAK     RR      Batsman    6398       7   \n",
       "127     128  Yuvraj Singh    2     IND  KXIP+      Batsman    1775       9   \n",
       "128     129   Zaheer Khan    2     IND    MI+       Bowler    1114     288   \n",
       "129     130    Zoysa, DNT    2      SL     DC       Bowler     288      64   \n",
       "\n",
       "     ODI-RUNS-S  ODI-SR-B  ODI-WKTS  ODI-SR-BL  CAPTAINCY EXP  RUNS-S  HS  \\\n",
       "0             0      0.00         0        0.0              0       0   0   \n",
       "1           657     71.41       185       37.6              0       0   0   \n",
       "2          1269     80.62       288       32.9              0     167  39   \n",
       "3           241     84.56        51       36.8              0      58  11   \n",
       "4            79     45.93         0        0.0              0    1317  71   \n",
       "..          ...       ...       ...        ...            ...     ...  ..   \n",
       "125           0      0.00         0        0.0              0      49  16   \n",
       "126        6814     75.78         3       86.6              1       3   3   \n",
       "127        8051     87.58       109       44.3              1    1237  66   \n",
       "128         790     73.55       278       35.4              0      99  23   \n",
       "129         343     95.81       108       39.4              0      11  10   \n",
       "\n",
       "       AVE    SR-B  SIXERS  RUNS-C  WKTS  AVE-BL   ECON  SR-BL  AUCTION YEAR  \\\n",
       "0     0.00    0.00       0     307    15   20.47   8.90  13.93          2009   \n",
       "1     0.00    0.00       0      29     0    0.00  14.50   0.00          2008   \n",
       "2    18.56  121.01       5    1059    29   36.52   8.81  24.90          2008   \n",
       "3     5.80   76.32       0    1125    49   22.96   6.23  22.14          2011   \n",
       "4    32.93  120.71      28       0     0    0.00   0.00   0.00          2011   \n",
       "..     ...     ...     ...     ...   ...     ...    ...    ...           ...   \n",
       "125   9.80  125.64       2       0     0    0.00   0.00   0.00          2010   \n",
       "126   3.00   42.85       0       0     0    0.00   0.00   0.00          2008   \n",
       "127  26.32  131.88      67     569    23   24.74   7.02  21.13          2011   \n",
       "128   9.90   91.67       1    1783    65   27.43   7.75  21.26          2008   \n",
       "129  11.00  122.22       0      99     2   49.50   9.00  33.00          2008   \n",
       "\n",
       "     BASE PRICE  SOLD PRICE  \n",
       "0         50000       50000  \n",
       "1         50000       50000  \n",
       "2        200000      350000  \n",
       "3        100000      850000  \n",
       "4        100000      800000  \n",
       "..          ...         ...  \n",
       "125       50000      750000  \n",
       "126      225000      225000  \n",
       "127      400000     1800000  \n",
       "128      200000      450000  \n",
       "129      100000      110000  \n",
       "\n",
       "[130 rows x 26 columns]"
      ]
     },
     "metadata": {},
     "output_type": "display_data"
    }
   ],
   "source": [
    "# Overrides the default number of columns that Pandas shows to view all columns in this data set\n",
    "\n",
    "pd.set_option(\"display.max_columns\", None)\n",
    "\n",
    "# And then shows the data set\n",
    "display(ipl_auction)\n",
    "\n",
    "# Resets backs display setting to its default\n",
    "pd.reset_option(\"display.max_columns\")"
   ]
  },
  {
   "cell_type": "markdown",
   "id": "5760b146-cc82-4f89-93a6-de2d22aaeab7",
   "metadata": {},
   "source": [
    "## Modeling"
   ]
  },
  {
   "cell_type": "markdown",
   "id": "81be9316-0192-4113-b7a2-ea680d9fc205",
   "metadata": {},
   "source": [
    "### Creating Transformation Pipeline"
   ]
  },
  {
   "cell_type": "code",
   "execution_count": 5,
   "id": "7d0faa5c-e0f9-4ec6-9974-42431ff39b35",
   "metadata": {},
   "outputs": [],
   "source": [
    "# Considers the following features for modeling\n",
    "features = [\n",
    "    \"AGE\", \"COUNTRY\", \"PLAYING ROLE\", \"T-RUNS\", \"T-WKTS\", \"ODI-RUNS-S\", \"ODI-SR-B\", \"ODI-WKTS\", \"ODI-SR-BL\", \n",
    "    \"CAPTAINCY EXP\", \"RUNS-S\", \"HS\", \"AVE\", \"SR-B\", \"SIXERS\", \"RUNS-C\", \"WKTS\", \"AVE-BL\", \"ECON\", \"SR-BL\"]\n",
    "\n",
    "# Followings are the numeric features\n",
    "num_features = [\n",
    "    \"AGE\", \"T-RUNS\", \"T-WKTS\", \"ODI-RUNS-S\", \"ODI-SR-B\", \"ODI-WKTS\", \"ODI-SR-BL\", \"CAPTAINCY EXP\", \n",
    "    \"RUNS-S\", \"HS\", \"AVE\", \"SR-B\", \"SIXERS\", \"RUNS-C\", \"WKTS\", \"AVE-BL\", \"ECON\", \"SR-BL\"]\n",
    "\n",
    "# Followings are the categorical features\n",
    "cat_features = [\"COUNTRY\", \"PLAYING ROLE\"]"
   ]
  },
  {
   "cell_type": "code",
   "execution_count": 6,
   "id": "56e8dbb7-f5df-4d2a-8e79-57d283a4c22e",
   "metadata": {},
   "outputs": [],
   "source": [
    "# Configures column wise data transformation pipleline\n",
    "\n",
    "transform_pipeline = ColumnTransformer([\n",
    "    (\"numeric\", StandardScaler(), num_features), \n",
    "    (\"categorical\", OneHotEncoder(), cat_features)])"
   ]
  },
  {
   "cell_type": "code",
   "execution_count": 7,
   "id": "771a0969-ac5a-42e8-b0cb-b77193df4360",
   "metadata": {},
   "outputs": [],
   "source": [
    "# Splits the data set into train and test set\n",
    "\n",
    "X_train, X_test, y_train, y_test = train_test_split(\n",
    "    ipl_auction[features], ipl_auction[\"SOLD PRICE\"], test_size=0.2, random_state = 42)"
   ]
  },
  {
   "cell_type": "code",
   "execution_count": 8,
   "id": "2f64feeb-361d-4878-80d3-b75d19679261",
   "metadata": {},
   "outputs": [],
   "source": [
    "# Prepares (transforms) the training data for modeling\n",
    "X_train_transformed = transform_pipeline.fit_transform(X_train)"
   ]
  },
  {
   "cell_type": "markdown",
   "id": "657ee64e-1f1c-492d-9d19-24a062dd6a3c",
   "metadata": {},
   "source": [
    "### Training Models"
   ]
  },
  {
   "cell_type": "markdown",
   "id": "d429204b-fd22-4e9e-b61e-298792f82c9e",
   "metadata": {},
   "source": [
    "**Training with Linear Regression**"
   ]
  },
  {
   "cell_type": "code",
   "execution_count": 9,
   "id": "c28f0606-bab5-449d-b603-daab74586f8a",
   "metadata": {},
   "outputs": [
    {
     "data": {
      "text/plain": [
       "LinearRegression()"
      ]
     },
     "execution_count": 9,
     "metadata": {},
     "output_type": "execute_result"
    }
   ],
   "source": [
    "# Trains the linear regression model on transformed train data set\n",
    "\n",
    "lin_reg = LinearRegression()\n",
    "lin_reg.fit(X_train_transformed, y_train)"
   ]
  },
  {
   "cell_type": "markdown",
   "id": "c8ac7cdb-8436-4dcb-ad0d-c34c0e3abb69",
   "metadata": {},
   "source": [
    "**Analysing the Effect of Coefficient on Model Feature**"
   ]
  },
  {
   "cell_type": "code",
   "execution_count": 10,
   "id": "b300404b-2350-499d-ac79-07f72e1fc0a0",
   "metadata": {},
   "outputs": [
    {
     "name": "stdout",
     "output_type": "stream",
     "text": [
      "['COUNTRY_AUS', 'COUNTRY_BAN', 'COUNTRY_ENG', 'COUNTRY_IND', 'COUNTRY_NZ', 'COUNTRY_PAK', 'COUNTRY_SA', 'COUNTRY_SL', 'COUNTRY_WI', 'COUNTRY_ZIM', 'PLAYING ROLE_Allrounder', 'PLAYING ROLE_Batsman', 'PLAYING ROLE_Bowler', 'PLAYING ROLE_W. Keeper']\n"
     ]
    }
   ],
   "source": [
    "# Stores friendly names for encoded categorical features\n",
    "\n",
    "encoded_cat_features_names = transform_pipeline.named_transformers_[\"categorical\"].get_feature_names_out(\n",
    "    ['COUNTRY', 'PLAYING ROLE']).tolist()\n",
    "\n",
    "print(encoded_cat_features_names)"
   ]
  },
  {
   "cell_type": "code",
   "execution_count": 11,
   "id": "da1a950c-c937-45bc-ae44-452474ec5abf",
   "metadata": {},
   "outputs": [
    {
     "data": {
      "image/png": "[encoded data removed]",
      "text/plain": [
       "<Figure size 864x720 with 1 Axes>"
      ]
     },
     "metadata": {
      "needs_background": "light"
     },
     "output_type": "display_data"
    }
   ],
   "source": [
    "# Stores the model coeffients against respective feature names\n",
    "lin_reg_coefs = pd.DataFrame(\n",
    "    {\"feature\": num_features + encoded_cat_features_names, \"coef\": lin_reg.coef_})\n",
    "\n",
    "# Sorts the model coefficients in descending order\n",
    "lin_reg_coefs.sort_values(\"coef\", ascending = False, inplace = True)\n",
    "\n",
    "# Plots the coefficients to understand the effect on the respective feature\n",
    "plt.figure( figsize = ( 12, 10 ))\n",
    "sns.barplot(x = \"coef\", y = \"feature\", data = lin_reg_coefs)\n",
    "plt.xlabel(\"Linear Regression Coefficient\")\n",
    "plt.ylabel(\"Features\")\n",
    "plt.title(\"Effect of Coefficient on Model Feature\")\n",
    "plt.show()"
   ]
  },
  {
   "cell_type": "markdown",
   "id": "8191ba70-8d5e-4eb4-a669-5a2e9155c204",
   "metadata": {},
   "source": [
    "**Observations from the above figure:**\n",
    "1. AVE, ODI-RUNS-S, SIXERS are top three highly inﬂuential features which determine the player’s SOLD PRICE.\n",
    "2. Higher ECON, SR-B and AGE have negative effect on SOLD PRICE.\n",
    "3. Interestingly, batting strike rate (SR-B), test runs (T-Runs) and highest score (HS) have negative effect on the SOLD PRICE. Few of these counter-intuitive sign for coefficients could be due to multi-collinearity."
   ]
  },
  {
   "cell_type": "markdown",
   "id": "4d9c0449-cd86-406a-9a7b-2620f8feb5cb",
   "metadata": {},
   "source": [
    "**Analyzing Mode Performance**"
   ]
  },
  {
   "cell_type": "code",
   "execution_count": 12,
   "id": "5469a6a6-a4f0-4d0d-aa84-75fd2a1099b1",
   "metadata": {},
   "outputs": [],
   "source": [
    "def get_train_test_rmse(X_train, X_test, y_train, y_test, model):\n",
    "    \"\"\"\n",
    "    Calculates model performance (RMSE) over train and test set\n",
    "    \n",
    "    Parameters\n",
    "    -----------\n",
    "    X_train: array-like or sparse matrix, shape (n_samples, n_features)\n",
    "        Training samples.\n",
    "        \n",
    "    X_test: array-like or sparse matrix, shape (n_samples, n_features)\n",
    "        Testing samples.\n",
    "        \n",
    "    y_train: array-like of shape (n_samples,)\n",
    "        Ground truth (correct) target values from training samples.\n",
    "        \n",
    "    y_test: array-like of shape (n_samples,)\n",
    "        Ground truth (correct) target values from testing samples.\n",
    "        \n",
    "    Returns\n",
    "    --------\n",
    "    rmse: tuple\n",
    "        A tuple of train and test rmse\n",
    "        \n",
    "    \"\"\"\n",
    "    \n",
    "    predictions_train = model.predict(X_train)\n",
    "    rmse_train = round(mean_squared_error(y_train, predictions_train, squared=False), 3)\n",
    "    \n",
    "    predictions_test = model.predict(X_test)\n",
    "    rmse_test = round(mean_squared_error(y_test, predictions_test, squared=False), 3)\n",
    "    \n",
    "    return rmse_train, rmse_test"
   ]
  },
  {
   "cell_type": "code",
   "execution_count": 13,
   "id": "4cbe8237-db4b-405c-a1d0-ceedb2d4ea9d",
   "metadata": {},
   "outputs": [],
   "source": [
    "# Prepares (transforms) the test data for predictions\n",
    "X_test_transformed = transform_pipeline.transform(X_test)"
   ]
  },
  {
   "cell_type": "code",
   "execution_count": 14,
   "id": "f2df4f05-6fda-4ed2-8a46-8de7f841657a",
   "metadata": {},
   "outputs": [
    {
     "name": "stdout",
     "output_type": "stream",
     "text": [
      "Linear Regression:\n",
      "------------------\n",
      "\n",
      "Train RMSE: 280142.213, Test RMSE: 289879.614\n"
     ]
    }
   ],
   "source": [
    "# Calculates linear regression model performance (RMSE) over train and test set\n",
    "lin_reg_train_test_rmse = get_train_test_rmse(\n",
    "    X_train_transformed, X_test_transformed, y_train, y_test, lin_reg)\n",
    "\n",
    "print(\"Linear Regression:\\n------------------\\n\")\n",
    "print(\"Train RMSE: {}, Test RMSE: {}\".format(\n",
    "    lin_reg_train_test_rmse[0], lin_reg_train_test_rmse[1]))"
   ]
  },
  {
   "cell_type": "markdown",
   "id": "de1383b3-f489-4b65-affe-a6f295f9430e",
   "metadata": {},
   "source": [
    "**Regularizing Model with Ridge Regression (L2-Norm)**"
   ]
  },
  {
   "cell_type": "code",
   "execution_count": 15,
   "id": "3b7b3974-79bd-4556-ab35-5881812eb870",
   "metadata": {},
   "outputs": [
    {
     "data": {
      "text/plain": [
       "Ridge(alpha=4, max_iter=500)"
      ]
     },
     "execution_count": 15,
     "metadata": {},
     "output_type": "execute_result"
    }
   ],
   "source": [
    "ridge_reg = Ridge(alpha=4, max_iter=500)\n",
    "ridge_reg.fit(X_train_transformed, y_train)"
   ]
  },
  {
   "cell_type": "code",
   "execution_count": 16,
   "id": "71f2c914-15e8-4bff-b65a-5c3d92970364",
   "metadata": {},
   "outputs": [
    {
     "name": "stdout",
     "output_type": "stream",
     "text": [
      "Ridge Regression:\n",
      "------------------\n",
      "\n",
      "Train RMSE: 288778.089, Test RMSE: 294325.164\n"
     ]
    }
   ],
   "source": [
    "# Calculates Ridge regression model performance (RMSE) over train and test set\n",
    "ridge_reg_train_test_rmse = get_train_test_rmse(\n",
    "    X_train_transformed, X_test_transformed, y_train, y_test, ridge_reg)\n",
    "\n",
    "print(\"Ridge Regression:\\n------------------\\n\")\n",
    "print(\"Train RMSE: {}, Test RMSE: {}\".format(ridge_reg_train_test_rmse[0], ridge_reg_train_test_rmse[1]))"
   ]
  },
  {
   "cell_type": "markdown",
   "id": "3b3d2251-0694-41c0-88f9-1375994f38cc",
   "metadata": {},
   "source": [
    "The difference in model accuracy on training and test has reduced. The optimal value for **α** (hyperparameter) can be calculated by technique such as Grid Search (sklearn.model_selection.GridSearchCV)."
   ]
  },
  {
   "cell_type": "markdown",
   "id": "3d3945b5-eefc-419d-a157-dfb96d96f974",
   "metadata": {},
   "source": [
    "**Regularizing Model with LASSO Regression (L1-Norm)**"
   ]
  },
  {
   "cell_type": "code",
   "execution_count": 17,
   "id": "2cc8d1ae-a9c3-41c6-9b06-26f7b3db2978",
   "metadata": {},
   "outputs": [
    {
     "data": {
      "text/plain": [
       "Lasso(alpha=2, max_iter=5000)"
      ]
     },
     "execution_count": 17,
     "metadata": {},
     "output_type": "execute_result"
    }
   ],
   "source": [
    "lasso_reg = Lasso(alpha=2, max_iter=5000)\n",
    "lasso_reg.fit(X_train_transformed, y_train)"
   ]
  },
  {
   "cell_type": "code",
   "execution_count": 18,
   "id": "eb0620e2-153a-46ca-bf97-25eb2e7053ae",
   "metadata": {},
   "outputs": [
    {
     "name": "stdout",
     "output_type": "stream",
     "text": [
      "LASSO Regression:\n",
      "------------------\n",
      "\n",
      "Train RMSE: 280142.218, Test RMSE: 289884.828\n"
     ]
    }
   ],
   "source": [
    "# Calculates LASSO regression model performance (RMSE) over train and test set\n",
    "lasso_reg_train_test_rmse = get_train_test_rmse(\n",
    "    X_train_transformed, X_test_transformed, y_train, y_test, lasso_reg)\n",
    "\n",
    "print(\"LASSO Regression:\\n------------------\\n\")\n",
    "print(\"Train RMSE: {}, Test RMSE: {}\".format(lasso_reg_train_test_rmse[0], lasso_reg_train_test_rmse[1]))"
   ]
  },
  {
   "cell_type": "code",
   "execution_count": 19,
   "id": "9256f4bd-7404-4b1f-a396-7b22e82cbd00",
   "metadata": {},
   "outputs": [
    {
     "data": {
      "text/plain": [
       "Lasso(alpha=1, max_iter=10000)"
      ]
     },
     "execution_count": 19,
     "metadata": {},
     "output_type": "execute_result"
    }
   ],
   "source": [
    "lasso_reg = Lasso(alpha=1, max_iter=10000)\n",
    "lasso_reg.fit(X_train_transformed, y_train)"
   ]
  },
  {
   "cell_type": "code",
   "execution_count": 20,
   "id": "45333f5a-2a63-4679-bd60-40ebf3eb6280",
   "metadata": {},
   "outputs": [
    {
     "name": "stdout",
     "output_type": "stream",
     "text": [
      "LASSO Regression:\n",
      "------------------\n",
      "\n",
      "Train RMSE: 280142.214, Test RMSE: 289882.22\n"
     ]
    }
   ],
   "source": [
    "# Calculates LASSO regression model performance (RMSE) over train and test set\n",
    "lasso_reg_train_test_rmse = get_train_test_rmse(\n",
    "    X_train_transformed, X_test_transformed, y_train, y_test, lasso_reg)\n",
    "\n",
    "print(\"LASSO Regression:\\n------------------\\n\")\n",
    "print(\"Train RMSE: {}, Test RMSE: {}\".format(lasso_reg_train_test_rmse[0], lasso_reg_train_test_rmse[1]))"
   ]
  },
  {
   "cell_type": "markdown",
   "id": "dfe9ab0e-1710-4ac5-9120-6c06789b7cb9",
   "metadata": {},
   "source": [
    "**Regularizing Model with ElasticNet Regression**"
   ]
  },
  {
   "cell_type": "code",
   "execution_count": 21,
   "id": "b9e01538-740b-494b-8f29-ca6c4e1ed70b",
   "metadata": {},
   "outputs": [
    {
     "data": {
      "text/plain": [
       "ElasticNet(alpha=1, l1_ratio=0.001, max_iter=10000)"
      ]
     },
     "execution_count": 21,
     "metadata": {},
     "output_type": "execute_result"
    }
   ],
   "source": [
    "elastic_net_reg = ElasticNet(alpha=1, l1_ratio = 0.001, max_iter=10000)\n",
    "elastic_net_reg.fit(X_train_transformed, y_train)"
   ]
  },
  {
   "cell_type": "code",
   "execution_count": 22,
   "id": "56bbe8e3-9968-4202-9b3b-da507b1c68ee",
   "metadata": {},
   "outputs": [
    {
     "name": "stdout",
     "output_type": "stream",
     "text": [
      "ElasticNet Regression:\n",
      "------------------\n",
      "\n",
      "Train RMSE: 335370.771, Test RMSE: 289439.561\n"
     ]
    }
   ],
   "source": [
    "# Calculates ElasticNet regression model performance (RMSE) over train and test set\n",
    "elastic_net_reg_train_test_rmse = get_train_test_rmse(\n",
    "    X_train_transformed, X_test_transformed, y_train, y_test, elastic_net_reg)\n",
    "\n",
    "print(\"ElasticNet Regression:\\n------------------\\n\")\n",
    "print(\"Train RMSE: {}, Test RMSE: {}\".format(elastic_net_reg_train_test_rmse[0], elastic_net_reg_train_test_rmse[1]))"
   ]
  },
  {
   "cell_type": "code",
   "execution_count": 23,
   "id": "537161c3-047c-4242-8ad4-4c810aaf92db",
   "metadata": {},
   "outputs": [
    {
     "data": {
      "text/plain": [
       "ElasticNet(alpha=1, l1_ratio=1.0, max_iter=10000)"
      ]
     },
     "execution_count": 23,
     "metadata": {},
     "output_type": "execute_result"
    }
   ],
   "source": [
    "elastic_net_reg = ElasticNet(alpha=1, l1_ratio = 1.0, max_iter=10000)\n",
    "elastic_net_reg.fit(X_train_transformed, y_train)"
   ]
  },
  {
   "cell_type": "code",
   "execution_count": 24,
   "id": "ff8ed2b8-6122-4676-96d7-1c00418f007e",
   "metadata": {},
   "outputs": [
    {
     "name": "stdout",
     "output_type": "stream",
     "text": [
      "ElasticNet Regression:\n",
      "------------------\n",
      "\n",
      "Train RMSE: 280142.214, Test RMSE: 289882.22\n"
     ]
    }
   ],
   "source": [
    "# Calculates ElasticNet regression model performance (RMSE) over train and test set\n",
    "elastic_net_reg_train_test_rmse = get_train_test_rmse(\n",
    "    X_train_transformed, X_test_transformed, y_train, y_test, elastic_net_reg)\n",
    "\n",
    "print(\"ElasticNet Regression:\\n------------------\\n\")\n",
    "print(\"Train RMSE: {}, Test RMSE: {}\".format(elastic_net_reg_train_test_rmse[0], elastic_net_reg_train_test_rmse[1]))"
   ]
  },
  {
   "cell_type": "markdown",
   "id": "76e21382-ea1f-4b8f-82d9-d3a7b44443f1",
   "metadata": {},
   "source": [
    "Above experiments with regularization models shows Ridge Regression to be working better than the others. Best parameter value for _alphas_ can be choosen after applying hyperparameter tuning."
   ]
  },
  {
   "cell_type": "code",
   "execution_count": null,
   "id": "0f82b471-e2fb-4496-9af5-d288f72a7ea1",
   "metadata": {},
   "outputs": [],
   "source": []
  }
 ],
 "metadata": {
  "kernelspec": {
   "display_name": "Python 3 (ipykernel)",
   "language": "python",
   "name": "python3"
  },
  "language_info": {
   "codemirror_mode": {
    "name": "ipython",
    "version": 3
   },
   "file_extension": ".py",
   "mimetype": "text/x-python",
   "name": "python",
   "nbconvert_exporter": "python",
   "pygments_lexer": "ipython3",
   "version": "3.7.12"
  }
 },
 "nbformat": 4,
 "nbformat_minor": 5
}
