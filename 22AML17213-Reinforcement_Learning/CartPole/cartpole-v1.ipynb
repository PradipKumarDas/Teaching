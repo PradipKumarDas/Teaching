{
 "cells": [
  {
   "cell_type": "markdown",
   "id": "ad6e74be",
   "metadata": {},
   "source": [
    "# CartPole: Balancing a Pole on a Moving Cart\n",
    "\n",
    "<div align=\"center\">\n",
    "    <img src=\"./images/cart_pole.gif\" width=\"300\" alt=\"CartPole Environment\">\n",
    "</div>\n",
    "\n",
    "The CartPole problem is a classic control problem where the task is to balance a pole attached by an un-actuated joint to a cart which moves along a frictionless track. The pendulum is placed upright on the cart and the goal is to balance the pole by applying forces in the left and right direction on the cart.\n",
    "\n",
    "An agent gets trained and interacts with the CartPole environment provided by Farama Gymnasium and tries to balance the pole on a moving cart."
   ]
  },
  {
   "cell_type": "markdown",
   "id": "4db56480",
   "metadata": {},
   "source": [
    "## The Environment\n",
    "\n",
    "The environment design for CartPole v1 in Gymnasium environment is as follows."
   ]
  },
  {
   "cell_type": "code",
   "execution_count": 1,
   "id": "b88c9e97",
   "metadata": {},
   "outputs": [
    {
     "name": "stderr",
     "output_type": "stream",
     "text": [
      "2025-09-25 12:06:02.683165: I tensorflow/core/util/port.cc:153] oneDNN custom operations are on. You may see slightly different numerical results due to floating-point round-off errors from different computation orders. To turn them off, set the environment variable `TF_ENABLE_ONEDNN_OPTS=0`.\n",
      "2025-09-25 12:06:02.752438: I tensorflow/core/platform/cpu_feature_guard.cc:210] This TensorFlow binary is optimized to use available CPU instructions in performance-critical operations.\n",
      "To enable the following instructions: AVX2 AVX512F AVX512_VNNI FMA, in other operations, rebuild TensorFlow with the appropriate compiler flags.\n"
     ]
    }
   ],
   "source": [
    "# Imports the necessary libraries\n",
    "\n",
    "import gymnasium as gym                         # The CartPole environment\n",
    "import matplotlib, matplotlib.pyplot as plt     # Plotting a frame of an episode\n",
    "import time                                     # Adding pause between two successive steps in an episode to visualize it better\n",
    "import numpy as np                              # Standard numeric functionalities and computations\n",
    "from collections import defaultdict             # Simplifies creating a dictionary with default values for non-existing keys\n",
    "from collections import deque                   # Queue with appending and popping from both ends\n",
    "import random                                   # Random number generation\n",
    "from itertools import count\n",
    "\n",
    "import tensorflow as tf                         # Building and training neural networks\n",
    "from tensorflow import keras"
   ]
  },
  {
   "cell_type": "code",
   "execution_count": 2,
   "id": "9cc1cbbb",
   "metadata": {},
   "outputs": [],
   "source": [
    "# Creates the CartPole environment along with visual rendering of during the episode\n",
    "env = gym.make('CartPole-v1', render_mode='rgb_array')  # Value 'rgb_array' is needed for visual step recording"
   ]
  },
  {
   "cell_type": "markdown",
   "id": "6b484908",
   "metadata": {},
   "source": [
    "**Observation & Action Space:**"
   ]
  },
  {
   "cell_type": "code",
   "execution_count": 3,
   "id": "6bca7f1c",
   "metadata": {},
   "outputs": [
    {
     "name": "stdout",
     "output_type": "stream",
     "text": [
      "Observation space:  Box([-4.8               -inf -0.41887903        -inf], [4.8               inf 0.41887903        inf], (4,), float32)\n",
      "Action space:  Discrete(2)\n"
     ]
    }
   ],
   "source": [
    "# The observation space consists of 4 continuous values the ranges of which are mentoined below:\n",
    "\n",
    "# [-4.8, 4.8]       (Cart position of cart on track. The episode terminates if the cart leaves the (-2.4, 2.4) range.\n",
    "# [-Inf, Inf]       (Cart velocity)\n",
    "# [-0.418, 0.418]   (Pole angle. Units are in radians. ±0.418 rad is equal to ±24°. The episode terminates if the pole angle is more than ±12° (±0.209 rad).)\n",
    "# [-Inf, Inf]       (Pole angular velocity)\n",
    "\n",
    "print(\"Observation space: \", env.observation_space)\n",
    "\n",
    "# Shows action space of the environment. Two discrete actions are 0 (Move cart to left) and 1 (Move cart to right)\n",
    "print(\"Action space: \", env.action_space)"
   ]
  },
  {
   "cell_type": "markdown",
   "id": "7fef9fe7",
   "metadata": {},
   "source": [
    "**Rewards:**\n",
    "By default, a reward of **+1** is given for every step taken, including the termination step. The default reward threshold is **500** due to the time limit on the environment.\n",
    "\n",
    "**Episode Termination:** The episode ends if the pole angle is greater than **±12°** or cart position is greater than **±2.4** (center of the cart reaches the edge of the display) or episode length is greater than **500**."
   ]
  },
  {
   "cell_type": "code",
   "execution_count": 4,
   "id": "0d1ae606",
   "metadata": {},
   "outputs": [
    {
     "name": "stdout",
     "output_type": "stream",
     "text": [
      "Initial observation:  [-0.03260717  0.03884414  0.03323567  0.03092082]\n",
      "Cart position: -0.033, Cart velocity: 0.039,       Pole angle: 0.033, Pole angular velocity: 0.031\n"
     ]
    }
   ],
   "source": [
    "observation, info = env.reset()    # Resets the environment to start a new episode\n",
    "\n",
    "print(\"Initial observation: \", observation)\n",
    "print(f\"Cart position: {observation[0]:.3f}, Cart velocity: {observation[1]:.3f}, \\\n",
    "      Pole angle: {observation[2]:.3f}, Pole angular velocity: {observation[3]:.3f}\")"
   ]
  },
  {
   "cell_type": "code",
   "execution_count": 5,
   "id": "766f6f67",
   "metadata": {},
   "outputs": [
    {
     "data": {
      "image/png": "[encoded data removed]",
      "text/plain": [
       "<Figure size 640x480 with 1 Axes>"
      ]
     },
     "metadata": {},
     "output_type": "display_data"
    }
   ],
   "source": [
    "# Let's now visualize the initial state of the environment to correspond to the initial observation value received above\n",
    "\n",
    "plt.imshow(env.render())\n",
    "plt.axis('off')\n",
    "plt.title('Initial Environment State')\n",
    "plt.show()"
   ]
  },
  {
   "cell_type": "markdown",
   "id": "902d8704",
   "metadata": {},
   "source": [
    "## Balancing the Pole with Random Actions\n",
    "\n",
    "Balancing the pole with random actions (0 to move left and 1 to move right) over an episode."
   ]
  },
  {
   "cell_type": "code",
   "execution_count": 6,
   "id": "e2f0be90",
   "metadata": {},
   "outputs": [
    {
     "name": "stdout",
     "output_type": "stream",
     "text": [
      "Episode is completed. Total reward: 46.0, Steps taken: 46\n"
     ]
    }
   ],
   "source": [
    "env.reset()\n",
    "\n",
    "# Wraps the environment to record statistics e.g. total reward, step count for one episode\n",
    "# To calculate manually, uncomment the relevant lines below\n",
    "env = gym.wrappers.RecordEpisodeStatistics(env, buffer_length=1)\n",
    "\n",
    "terminated = False          # Tracks if the episode is over to stop the loop\n",
    "# total_reward = 0          # Uncomment to accumulate rewards for an episode manually\n",
    "# step_count = 0            # Unceomment to count total steps taken in an episode manually\n",
    "\n",
    "while not terminated:\n",
    "    action = env.action_space.sample()      # Samples an  action randomly. Returns 0 (move left) or 1 (move right).\n",
    "    \n",
    "    # step_count += 1                       # Uncomment to increment step counter manually\n",
    "\n",
    "    # Takes a step with the sampled action. It returns five values:\n",
    "    # 1. observation: Array of 4 values [cart_position, cart_velocity, pole_angle, pole_angular_velocity]\n",
    "    # 2. reward: +1 for every step taken, including the terminal state\n",
    "    # 3. terminated: True if pole angle > ±12° or cart position > ±2.4 units\n",
    "    # 4. truncated: True if episode length >= 500 timesteps (default in CartPole v1)\n",
    "    # 5. info: Additional information (empty dictionary in CartPole v1)\n",
    "    observation, reward, terminated, truncated, info = env.step(action)\n",
    "\n",
    "    # total_reward += reward                # Uncomment to accumulate rewards manually.\n",
    "    \n",
    "    terminated = terminated or truncated    # Checks if the episode is over\n",
    "\n",
    "print(f\"Episode is completed. Total reward: {env.return_queue[0]}, Steps taken: {env.length_queue[0]}\")"
   ]
  },
  {
   "cell_type": "code",
   "execution_count": 7,
   "id": "634dfac9",
   "metadata": {},
   "outputs": [],
   "source": [
    "env.close() # Closes the environment to free up resources"
   ]
  },
  {
   "cell_type": "markdown",
   "id": "0c61d114",
   "metadata": {},
   "source": [
    "Now, an intelligent agent will be build to keep the pole balanced for longer period of time resulting larger total rewards over each episode."
   ]
  },
  {
   "cell_type": "markdown",
   "id": "15708f40",
   "metadata": {},
   "source": [
    "## The Q-Learning Agent\n",
    "\n",
    "An agent gets trained using Q-learning to develop a policy that tells the agent which action to take in each situation to maximize long-term rewards. The key Q-learning components are:\n",
    "\n",
    "1. **Q-Table**: Maps state-action pairs to expected rewards\n",
    "2. **ε-greedy Policy**: Balance exploration and exploitation\n",
    "3. **Learning Rate (α)**: Controls how much new information overrides old\n",
    "4. **Discount Factor (γ)**: Balances immediate vs future rewards\n",
    "5. **Exploration Decay**: Gradually reduce random actions"
   ]
  },
  {
   "cell_type": "markdown",
   "id": "faec0331",
   "metadata": {},
   "source": [
    "**State Space Discretization**\n",
    "Since CartPole has continuous state space, so it must be discretized into bins as follows.\n",
    "- Cart Position: [-4.8, 4.8] → 8 bins\n",
    "- Cart Velocity: [-4, 4] → 8 bins\n",
    "- Pole Angle: [-0.418, 0.418] → 8 bins\n",
    "- Pole Angular Velocity: [-4, 4] → 8 bins"
   ]
  },
  {
   "cell_type": "code",
   "execution_count": 2,
   "id": "4a9a46ba",
   "metadata": {},
   "outputs": [],
   "source": [
    "class QLearningAgent:\n",
    "    \"\"\"Q-learning agent for the CartPole v1 environment.\"\"\"\n",
    "\n",
    "    def __init__(self, env, learning_rate=0.1, discount_factor=0.95, \n",
    "                 initial_epsilon=1.0, epsilon_decay=0.995, final_epsilon=0.01):\n",
    "        \"\"\"\n",
    "        Initialize the Q-learning agent for the CartPole v1 environment.\n",
    "        \n",
    "        Args:\n",
    "            env: The CartPole v1 environment\n",
    "            learning_rate: How quickly the agent learns from new experiences (α)\n",
    "            discount_factor: How much future rewards are valued (γ)\n",
    "            initial_epsilon: Starting exploration rate\n",
    "            epsilon_decay: Rate at which exploration decreases\n",
    "            final_epsilon: Minimum exploration rate\n",
    "        \"\"\"\n",
    "        self.env = env\n",
    "        self.learning_rate = learning_rate\n",
    "        self.discount_factor = discount_factor\n",
    "        self.epsilon = initial_epsilon\n",
    "        self.epsilon_decay = epsilon_decay\n",
    "        self.final_epsilon = final_epsilon\n",
    "        \n",
    "        # Defines the state space discretization\n",
    "        self.n_bins = 8                     # Number of bins (same being used here for all state variables)\n",
    "        self.state_bins = {\n",
    "            'cart_position': np.linspace(-4.8, 4.8, self.n_bins),\n",
    "            'cart_velocity': np.linspace(-4, 4, self.n_bins),\n",
    "            'pole_angle': np.linspace(-0.418, 0.418, self.n_bins),\n",
    "            'pole_angular_velocity': np.linspace(-4, 4, self.n_bins)\n",
    "        }\n",
    "        \n",
    "        # Initialize Q-table with optimistic initial values (1.0) to encourage exploration\n",
    "        self.q_table = defaultdict(lambda: np.ones(env.action_space.n))\n",
    "        \n",
    "        self.training_rewards = []          # Track learning progress over episodes\n",
    "        \n",
    "    def discretize_state(self, observation):\n",
    "        \"\"\"\n",
    "        Convert continuous state values to discrete state values.\n",
    "        \n",
    "        Args:\n",
    "            observation: [cart position, cart velocity, pole angle, pole angular velocity]\n",
    "            \n",
    "        Returns:\n",
    "            tuple: Discretized state representation\n",
    "        \"\"\"\n",
    "\n",
    "        discretized = []\n",
    "        for i, (name, bins) in enumerate(self.state_bins.items()):\n",
    "            discretized.append(np.digitize(observation[i], bins))\n",
    "        \n",
    "        return tuple(discretized)\n",
    "    \n",
    "    def get_action(self, state):\n",
    "        \"\"\"\n",
    "        Choose action using ε-greedy policy.\n",
    "        \n",
    "        Args:\n",
    "            state: Current state (discretized)\n",
    "            \n",
    "        Returns:\n",
    "            int: Chosen action (0: left, 1: right)\n",
    "        \"\"\"\n",
    "    \n",
    "        if np.random.random() < self.epsilon:       # Explores by choosing random action\n",
    "            return self.env.action_space.sample()\n",
    "    \n",
    "        return np.argmax(self.q_table[state])       # Exploits by choosing best action based on Q-values\n",
    "    \n",
    "    def update_q_value(self, state, action, reward, next_state, terminated):\n",
    "        \"\"\"\n",
    "        Updates Q-value for state-action pair using the Bellman equation.\n",
    "        \n",
    "        Args:\n",
    "            state: Current state\n",
    "            action: Action taken\n",
    "            reward: Reward received\n",
    "            next_state: Next state\n",
    "            terminated: Whether episode ended\n",
    "        \"\"\"\n",
    "\n",
    "        # Gets best future value (0 if terminated)\n",
    "        best_next_value = 0 if terminated else np.max(self.q_table[next_state])\n",
    "        \n",
    "        # Calculates target Q-value using Bellman equation\n",
    "        target_q = reward + self.discount_factor * best_next_value\n",
    "        \n",
    "        # Gets the current q_value for the state-action pair, calculates the delta and then\n",
    "        # apply learning rate to update Q_value for the state-action pair.\n",
    "        current_q = self.q_table[state][action]\n",
    "        self.q_table[state][action] = current_q + self.learning_rate * (target_q - current_q)\n",
    "    \n",
    "    def decay_epsilon(self):\n",
    "        \"\"\"Decays exploration rate by a multiplication factor\"\"\"\n",
    "        self.epsilon = max(self.final_epsilon, \n",
    "                          self.epsilon * self.epsilon_decay)\n",
    "    \n",
    "    def train(self, n_episodes=1000):\n",
    "        \"\"\"\n",
    "        Trains the agent for a specified number of episodes.\n",
    "        \n",
    "        Args:\n",
    "            n_episodes: Number of training episodes\n",
    "\n",
    "        Returns:\n",
    "            list: Rewards obtained in each of the specified number of episodes\n",
    "            list: Steps taken in each of the specified number of episodes\n",
    "        \"\"\"\n",
    "\n",
    "        total_rewards = []                      # Store rewards for current episodes\n",
    "        total_steps = []                              # Store steps for current episodes\n",
    "\n",
    "        for episode in range(n_episodes):\n",
    "            total_reward, steps = self.train_episode()\n",
    "            total_rewards.append(total_reward)\n",
    "            total_steps.append(steps)\n",
    "\n",
    "        return total_rewards, total_steps\n",
    "    \n",
    "    def train_episode(self):\n",
    "        \"\"\"\n",
    "        Trains the agent for one episode.\n",
    "        \n",
    "        Returns:\n",
    "            float: Total reward for the episode\n",
    "            int: Steps taken in the episode\n",
    "        \"\"\"\n",
    "        \n",
    "        state, _ = self.env.reset()                 # Resets environment and gets initial state\n",
    "        state = self.discretize_state(state)        # Discretizes the initial state\n",
    "        total_reward = 0                            # Tracks total reward for the episode\n",
    "        steps = 0                                   # Tracks steps taken in the episode\n",
    "        done = False                                # Tracks if the episode is over to stop the loop\n",
    "        \n",
    "        while not done:\n",
    "            action = self.get_action(state)         # Chooses action using ε-greedy policy\n",
    "            next_observation, reward, terminated, truncated, _ = self.env.step(action)  # Takes action and receives feedback\n",
    "            \n",
    "            next_state = self.discretize_state(next_observation)                # Discretizes the new state\n",
    "            self.update_q_value(state, action, reward, next_state, terminated)  # Learns by updating Q-table\n",
    "            \n",
    "            state = next_state                      # Next state becomes current state\n",
    "            total_reward += reward                  # Accumulates reward for the current episode\n",
    "            steps += 1                              # Increments step count\n",
    "            done = terminated or truncated          # Checks if the episode is over\n",
    "        \n",
    "        self.decay_epsilon()                        # Decays exploration rate after episode\n",
    "        \n",
    "        self.training_rewards.append(total_reward)  # Stores total reward for the episode for later reference\n",
    "        \n",
    "        return total_reward, steps                  # Returns total reward and steps for the current episode"
   ]
  },
  {
   "cell_type": "markdown",
   "id": "ce778668",
   "metadata": {},
   "source": [
    "### Training the Q-Learning Agent\n",
    "\n",
    "Let's create an instance of our Q-learning agent and train it over multiple episodes."
   ]
  },
  {
   "cell_type": "code",
   "execution_count": 3,
   "id": "817a7f80",
   "metadata": {},
   "outputs": [],
   "source": [
    "# NOTE: Training the agent may take a few minutes to complete.\n",
    "\n",
    "n_episodes = 10000                      # Number of episodes to train the agent\n",
    "\n",
    "env = gym.make('CartPole-v1')           # Creates the CartPole environment\n",
    "\n",
    "# Creates the agent\n",
    "agent = QLearningAgent(env, \n",
    "             learning_rate=0.1,         # Learning rate\n",
    "             discount_factor=0.95,      # Discount factor\n",
    "             initial_epsilon=1.0,       # Initial exploration rate\n",
    "             epsilon_decay=0.995,       # Exploration decay rate\n",
    "             final_epsilon=0.01)        # Minimum exploration rate\n",
    "\n",
    "# Trains the agent. It may take a few minutes to complete.\n",
    "total_rewards, total_steps = agent.train(n_episodes)\n",
    "\n",
    "env.close()                             # Closes the environment to free up resources"
   ]
  },
  {
   "cell_type": "code",
   "execution_count": 4,
   "id": "562088de",
   "metadata": {},
   "outputs": [
    {
     "data": {
      "image/png": "[encoded data removed]",
      "text/plain": [
       "<Figure size 640x480 with 1 Axes>"
      ]
     },
     "metadata": {},
     "output_type": "display_data"
    }
   ],
   "source": [
    "window_size = 500\n",
    "\n",
    "# There could be high variance in rewards over episodes due to exploration-exploitation trade-off.\n",
    "# To make sense of the rewards trend, the curve is plotted over a rolling mean with a window size of 500 episodes.\n",
    "rolling_mean = np.convolve(total_rewards, np.ones(window_size)/window_size, mode='valid')   # \n",
    "plt.plot(rolling_mean)\n",
    "plt.xlabel('Episodes')\n",
    "plt.ylabel('Total Rewards')\n",
    "plt.title(f'Training Performance: Total Rewards (rolling mean of window size={window_size})')\n",
    "plt.show()"
   ]
  },
  {
   "cell_type": "markdown",
   "id": "3b17732b",
   "metadata": {},
   "source": [
    "### Evaluating the Trained Q-Learning Agent\n",
    "Generalizing trained agent's performance by running a few evaluation episodes with rendering enabled and no exploration (ε = 0)."
   ]
  },
  {
   "cell_type": "code",
   "execution_count": null,
   "id": "c9dd1116",
   "metadata": {},
   "outputs": [
    {
     "name": "stdout",
     "output_type": "stream",
     "text": [
      "Evaluation Episode 1: Reward = 139.0, Steps = 139\n",
      "Evaluation Episode 2: Reward = 150.0, Steps = 150\n",
      "Evaluation Episode 3: Reward = 148.0, Steps = 148\n",
      "Evaluation Episode 4: Reward = 142.0, Steps = 142\n",
      "Evaluation Episode 5: Reward = 147.0, Steps = 147\n",
      "\n",
      "Average Evaluation Reward: 145.20\n"
     ]
    }
   ],
   "source": [
    "# Create environment for evaluation with rendering mode (dependency on `pygame` package) \n",
    "# to visualize the agent's peformance.\n",
    "env = gym.make('CartPole-v1', render_mode='human')\n",
    "\n",
    "n_eval_episodes = 5                         # Number of evaluation episodes\n",
    "eval_total_rewards = []\n",
    "eval_total_steps = []\n",
    "\n",
    "for episode in range(n_eval_episodes):\n",
    "    state, _ = env.reset()\n",
    "    state = agent.discretize_state(state)\n",
    "    episode_reward = 0\n",
    "    episode_steps = 0\n",
    "    terminated = False\n",
    "    \n",
    "    while not terminated:\n",
    "        action = np.argmax(agent.q_table[state])    # Chooses best action based on learned Q-values (with no exploration)\n",
    "        \n",
    "        next_observation, reward, terminated, truncated, _ = env.step(action)   # Takes action and receives feedback\n",
    "        next_state = agent.discretize_state(next_observation)                   # Discretizes the new state\n",
    "        \n",
    "        state = next_state                  # Next state becomes current state\n",
    "        episode_reward += reward            # Accumulates reward for the current episode\n",
    "        episode_steps += 1                  # Increments step count\n",
    "        terminated = terminated or truncated      # Checks if the episode is over\n",
    "        \n",
    "        time.sleep(0.01)    # Adds a small delay to better visualize the agent's behavior\n",
    "    \n",
    "    eval_total_rewards.append(episode_reward)\n",
    "    eval_total_steps.append(episode_steps)\n",
    "    print(f\"Evaluation Episode {episode + 1}: Reward = {episode_reward}, Steps = {episode_steps}\")\n",
    "\n",
    "print(f\"\\nAverage Evaluation Reward: {np.mean(eval_total_rewards):.2f}\")\n",
    "\n",
    "env.close()    # Closes the evaluation environment to free up resources"
   ]
  },
  {
   "cell_type": "markdown",
   "id": "14aff9f0",
   "metadata": {},
   "source": [
    "It shows that averaged rewards received by the trained agent is much more than the average rewards received when just random actions were taken as experimented in the beginning of this notebook."
   ]
  },
  {
   "cell_type": "markdown",
   "id": "01dbfde4",
   "metadata": {},
   "source": [
    "## The Q-Network Agent\n",
    "\n",
    "In this notebook, a Q-Network agent is implemented using TensorFlow. Q-Network is better suited for environments with continuous state spaces like CartPole because it eliminates the need for state discretization by generalizing across similar states and capturing complex state-action relationships.\n",
    "\n",
    "The implementation includes the following parts:\n",
    "\n",
    "- **Neural Network:** The neural network consists of fully connected layers with inputs equal to the number of state observations and outputs equal to the number of actions from the actions space.\n",
    "\n",
    "- **Experience Replay:** The agent observes state transition when it takes actions against a present state and stores these transitions as data to train neural network model.\n",
    "\n",
    "- **Target Network with Soft Updates:** To stabilize training, two networks are maintained - a policy network and a target network. The target network is used to compute target Q-values and is updated slowly (τ = 0.005) to track the policy network, reducing oscillations in training.\n",
    "\n",
    "- **Epsilon-greedy Exploration:** Balances between exploring new actions (random) and exploiting learned knowledge (using network predictions) with a decaying exploration rate."
   ]
  },
  {
   "cell_type": "code",
   "execution_count": 2,
   "id": "d368f1e8",
   "metadata": {},
   "outputs": [],
   "source": [
    "# Shows model's training performance live during training\n",
    "\n",
    "is_ipython = 'inline' in matplotlib.get_backend()   # Makes plot interactive to show learning progress in real-time\n",
    "if is_ipython:\n",
    "    from IPython import display\n",
    "plt.ion()                                           # Switches 'on' interactive mode of plot\n",
    "\n",
    "env = gym.make(\"CartPole-v1\")                       # Creates the CartPole environment"
   ]
  },
  {
   "cell_type": "markdown",
   "id": "98b975f2",
   "metadata": {},
   "source": [
    "### Experience Replay"
   ]
  },
  {
   "cell_type": "code",
   "execution_count": 3,
   "id": "9871f41a",
   "metadata": {},
   "outputs": [],
   "source": [
    "class ReplayMemory:\n",
    "    \"\"\"Stores state transitions and samples them randomly.\"\"\"\n",
    "\n",
    "    def __init__(self, capacity):\n",
    "        \"\"\"\n",
    "        Allocates memory to store state transitions up to the specified capacity.\n",
    "        \n",
    "        Args:\n",
    "            capacity: Maximum number of transitions to store\n",
    "        \"\"\"\n",
    "        self.memory = deque(maxlen=capacity)\n",
    "    \n",
    "    def push(self, state, action, next_state, reward, done):\n",
    "        \"\"\"\n",
    "        Saves a state transition\n",
    "\n",
    "        Args:\n",
    "            state: Current state\n",
    "            action: Action taken\n",
    "            next_state: Next state transitioned to\n",
    "            reward: Reward received\n",
    "            done: Whether the episode ended\n",
    "        \"\"\"\n",
    "        self.memory.append((state, action, next_state, reward, done))\n",
    "    \n",
    "    def sample(self, batch_size):\n",
    "        \"\"\"\n",
    "        Sample a batch of transitions\n",
    "        \n",
    "        Args:\n",
    "            batch_size: Number of transitions to sample out\n",
    "        \n",
    "        Returns:\n",
    "            tuple: Batches of (states, actions, next_states, rewards, dones)\n",
    "        \"\"\"\n",
    "        batch = random.sample(self.memory, batch_size)\n",
    "        \n",
    "        # Converts list of tuples to tuple of lists as part of preprocessing for training\n",
    "        states, actions, next_states, rewards, dones = map(np.array, zip(*batch))\n",
    "        \n",
    "        return states, actions, next_states, rewards, dones\n",
    "    \n",
    "    def __len__(self):\n",
    "        return len(self.memory)"
   ]
  },
  {
   "cell_type": "markdown",
   "id": "f01f88af",
   "metadata": {},
   "source": [
    "### Q-Network Model\n",
    "\n",
    "The network takes the state as input and outputs Q-values for each possible action."
   ]
  },
  {
   "cell_type": "code",
   "execution_count": 4,
   "id": "1872a139",
   "metadata": {},
   "outputs": [],
   "source": [
    "class QNetwork(tf.keras.Model):\n",
    "    \"\"\"Fully connnected feed-forward neural network to approximate Q-values.\"\"\"\n",
    "    \n",
    "    def __init__(self, n_observations, n_actions):\n",
    "        \"\"\"\n",
    "        Initializes the dense layers.\n",
    "        \n",
    "        Args:\n",
    "            n_observations: Number of state observations (input dimensions)\n",
    "            n_actions: Number of possible actions (output dimensions)\n",
    "        \"\"\"\n",
    "        super(QNetwork, self).__init__()\n",
    "        self.layer1 = tf.keras.layers.Dense(128, activation='relu')\n",
    "        self.layer2 = tf.keras.layers.Dense(128, activation='relu')\n",
    "        self.layer3 = tf.keras.layers.Dense(n_actions)\n",
    "        \n",
    "    def call(self, x):\n",
    "        \"\"\"\n",
    "        Passes forward through the network.\n",
    "\n",
    "        Args:\n",
    "            x: Input states\n",
    "\n",
    "        Returns:\n",
    "            Tensor: Q-values for each action\n",
    "        \"\"\"\n",
    "        x = self.layer1(x)\n",
    "        x = self.layer2(x)\n",
    "        return self.layer3(x)"
   ]
  },
  {
   "cell_type": "code",
   "execution_count": 5,
   "id": "5d7baeac",
   "metadata": {},
   "outputs": [],
   "source": [
    "state, info = env.reset()                           # Resets the environment to start a new episode\n",
    "\n",
    "n_actions = env.action_space.n                      # Gets the number of actions\n",
    "n_observations = len(state)                         # Gets the number of observations\n",
    "\n",
    "policy_net = QNetwork(n_observations, n_actions)    # Creates policy network\n",
    "target_net = QNetwork(n_observations, n_actions)    # Create target network\n",
    "\n",
    "target_net.set_weights(policy_net.get_weights())    # Copies weights from policy net to target net"
   ]
  },
  {
   "cell_type": "markdown",
   "id": "c806a972",
   "metadata": {},
   "source": [
    "### Training Parameters and Utilities"
   ]
  },
  {
   "cell_type": "code",
   "execution_count": 6,
   "id": "7cf0e14c",
   "metadata": {},
   "outputs": [
    {
     "name": "stderr",
     "output_type": "stream",
     "text": [
      "2025-09-25 12:06:38.384861: E external/local_xla/xla/stream_executor/cuda/cuda_platform.cc:51] failed call to cuInit: INTERNAL: CUDA error: Failed call to cuInit: UNKNOWN ERROR (303)\n"
     ]
    }
   ],
   "source": [
    "# Hyperparameters\n",
    "BATCH_SIZE = 128\n",
    "GAMMA = 0.99                        # Discount factor\n",
    "EPS_START = 0.9                     # Starting value of epsilon (for exploration)\n",
    "EPS_END = 0.01                      # Final value of epsilon\n",
    "EPS_DECAY = 2500                    # Decay rate for epsilon\n",
    "TAU = 0.005                         # For soft update of target network parameters\n",
    "LEARNING_RATE = 3e-4                # Learning rate\n",
    "\n",
    "memory = ReplayMemory(10000)        # Initializes replay memory\n",
    "\n",
    "optimizer = tf.keras.optimizers.AdamW(learning_rate=LEARNING_RATE)      # Initializes optimizer\n",
    "\n",
    "# Tracking variables\n",
    "steps_done = 0\n",
    "total_reward = []\n",
    "\n",
    "def select_action(state):\n",
    "    \"\"\"\n",
    "    Selects action using epsilon-greedy action selection method.\n",
    "    \n",
    "    Args:\n",
    "        state: Current state\n",
    "\n",
    "    Returns:\n",
    "        int: Chosen action (0: left, 1: right)\n",
    "    \"\"\"\n",
    "    global steps_done\n",
    "    sample = random.random()\n",
    "    eps_threshold = EPS_END + (EPS_START - EPS_END) * np.exp(-1. * steps_done / EPS_DECAY)\n",
    "    steps_done += 1\n",
    "    \n",
    "    if sample > eps_threshold:                  # Exploits Q-values learened by policy network\n",
    "        state_tensor = tf.convert_to_tensor(state, dtype=tf.float32)\n",
    "        state_tensor = tf.expand_dims(state_tensor, 0)\n",
    "        q_values = policy_net(state_tensor)\n",
    "        return tf.argmax(q_values[0]).numpy()   # Returns the action with highest Q-value\n",
    "    else:\n",
    "        return env.action_space.sample()        # Returns random action as part of exploration\n",
    "\n",
    "def plot_total_rewards(show_result=False):\n",
    "    \"\"\"\n",
    "    Plots the total rewards received in each episode\n",
    "\n",
    "    Args:\n",
    "        show_result: If True, shows the final result plot (without clearing previous outputs)\n",
    "    \"\"\"\n",
    "    plt.figure(1)\n",
    "    plt.clf()\n",
    "    plt.xlabel('Episodes')\n",
    "    plt.ylabel('Total Reward')\n",
    "    plt.title('Training Performance')\n",
    "    plt.plot(total_reward)\n",
    "    \n",
    "    plt.pause(0.001)    # Pauses for plots to get updated\n",
    "    \n",
    "    if is_ipython:\n",
    "        if not show_result:\n",
    "            display.display(plt.gcf())\n",
    "            display.clear_output(wait=True)\n",
    "        else:\n",
    "            display.display(plt.gcf())"
   ]
  },
  {
   "cell_type": "markdown",
   "id": "31f74e0f",
   "metadata": {},
   "source": [
    "### Training Loop"
   ]
  },
  {
   "cell_type": "code",
   "execution_count": null,
   "id": "7f6e13be",
   "metadata": {},
   "outputs": [],
   "source": [
    "@tf.function\n",
    "def train_step(states, actions, next_states, rewards, dones):\n",
    "    \"\"\"\n",
    "    Single optimization step\n",
    "    \n",
    "    Args:\n",
    "        states: Batch of current states\n",
    "        actions: Batch of actions taken\n",
    "        next_states: Batch of next states\n",
    "        rewards: Batch of rewards received\n",
    "        dones: Batch of episode completion flags\n",
    "\n",
    "    Returns:\n",
    "        Tensor: Computed loss for the batch\n",
    "    \"\"\"\n",
    "\n",
    "    actions_one_hot = tf.one_hot(actions, n_actions)    # Convert actions to one-hot vectors for gathering\n",
    "    \n",
    "    with tf.GradientTape() as tape:\n",
    "        # Computes current Q-values\n",
    "        current_q_values = policy_net(states)\n",
    "        current_q_values = tf.reduce_sum(current_q_values * actions_one_hot, axis=1)\n",
    "        \n",
    "        # Computes next Q-values using target network\n",
    "        next_q_values = target_net(next_states)\n",
    "        next_q_values = tf.reduce_max(next_q_values, axis=1)\n",
    "        \n",
    "        # Computes expected Q-values\n",
    "        expected_q_values = rewards + GAMMA * next_q_values * (1 - tf.cast(dones, tf.float32))\n",
    "        \n",
    "        # Computes (Huber) loss as it acts like the mean squared error when the error is small, \n",
    "        # but like the mean absolute error when the error is large - this makes it more robust to\n",
    "        # outliers when the estimates of Q-values are very noisy. \n",
    "        loss = tf.keras.losses.Huber()(expected_q_values, current_q_values)\n",
    "    \n",
    "    grads = tape.gradient(loss, policy_net.trainable_variables)             # Computes gradients\n",
    "    grads = [tf.clip_by_value(grad, -100, 100) for grad in grads]           # Clips gradients\n",
    "    optimizer.apply_gradients(zip(grads, policy_net.trainable_variables))   # Updates policy network weights\n",
    "    \n",
    "    return loss     # Returns the computed loss\n",
    "\n",
    "def optimize_model():\n",
    "    \"\"\"Perform one step of optimization\"\"\"\n",
    "    \n",
    "    if len(memory) < BATCH_SIZE:\n",
    "        return\n",
    "    \n",
    "    states, actions, next_states, rewards, dones = memory.sample(BATCH_SIZE)    # Samples from replay memory\n",
    "    \n",
    "    # Converts samples to tensors\n",
    "    states = tf.convert_to_tensor(states, dtype=tf.float32)\n",
    "    actions = tf.convert_to_tensor(actions, dtype=tf.int64)\n",
    "    next_states = tf.convert_to_tensor(next_states, dtype=tf.float32)\n",
    "    rewards = tf.convert_to_tensor(rewards, dtype=tf.float32)\n",
    "    dones = tf.convert_to_tensor(dones, dtype=tf.bool)\n",
    "    \n",
    "    loss = train_step(states, actions, next_states, rewards, dones)    # Performs training step\n",
    "    \n",
    "    # Performs soft updates to target network\n",
    "    \n",
    "    target_weights = target_net.get_weights()\n",
    "    policy_weights = policy_net.get_weights()\n",
    "    \n",
    "    # The target network is updated at every step with a soft update controlled\n",
    "    # by the defined hyperparameter `TAU`.\n",
    "    for i in range(len(target_weights)):\n",
    "        target_weights[i] = TAU * policy_weights[i] + (1 - TAU) * target_weights[i]\n",
    "    \n",
    "    target_net.set_weights(target_weights)"
   ]
  },
  {
   "cell_type": "code",
   "execution_count": 8,
   "id": "b9684e9e",
   "metadata": {},
   "outputs": [
    {
     "data": {
      "image/png": "[encoded data removed]",
      "text/plain": [
       "<Figure size 640x480 with 1 Axes>"
      ]
     },
     "metadata": {},
     "output_type": "display_data"
    },
    {
     "data": {
      "text/plain": [
       "<Figure size 640x480 with 0 Axes>"
      ]
     },
     "metadata": {},
     "output_type": "display_data"
    },
    {
     "data": {
      "text/plain": [
       "<Figure size 640x480 with 0 Axes>"
      ]
     },
     "metadata": {},
     "output_type": "display_data"
    },
    {
     "name": "stdout",
     "output_type": "stream",
     "text": [
      "Model training was completed.\n"
     ]
    }
   ],
   "source": [
    "# NOTE: Following steps to train the model may take a few tens of minutes to complete on CPUs.\n",
    "\n",
    "n_episodes = 600    # Number of episodes\n",
    "\n",
    "# Trains the models over the specified number of episodes\n",
    "for episode in range(n_episodes):\n",
    "    state, info = env.reset()\n",
    "    episode_reward = 0\n",
    "    done = False\n",
    "\n",
    "    while not done:\n",
    "        # Selects and performs action\n",
    "        action = select_action(state)\n",
    "        next_state, reward, terminated, truncated, _ = env.step(action)\n",
    "        done = terminated or truncated\n",
    "        \n",
    "        memory.push(state, action, next_state, reward, done)   # Store the transition in memory\n",
    "        \n",
    "        state = next_state          # Next state becomes current state\n",
    "\n",
    "        if not done:                # Rewards increments only if episode is not done\n",
    "            episode_reward += reward\n",
    "        \n",
    "        optimize_model()            # Performs one step of optimization\n",
    "        \n",
    "        if done:                    # Total rewards get stored and plot gets updated once episode is done\n",
    "            total_reward.append(episode_reward)\n",
    "            plot_total_rewards()\n",
    "            break\n",
    "            \n",
    "plot_total_rewards(show_result=True)\n",
    "plt.ioff()                              # Switches 'off' interactive mode of plot\n",
    "plt.show()\n",
    "\n",
    "print('Model training was completed.')\n"
   ]
  },
  {
   "cell_type": "code",
   "execution_count": 9,
   "id": "bfb5d47b",
   "metadata": {},
   "outputs": [],
   "source": [
    "env.close() # Closes the environment to free up resources"
   ]
  },
  {
   "cell_type": "markdown",
   "id": "fcbf8d80",
   "metadata": {},
   "source": [
    "### Evaluating the Trained Q-Network Agent"
   ]
  },
  {
   "cell_type": "code",
   "execution_count": null,
   "id": "15dc9520",
   "metadata": {},
   "outputs": [
    {
     "name": "stdout",
     "output_type": "stream",
     "text": [
      "Evaluation Episode 1: Reward = 500.0\n",
      "Evaluation Episode 2: Reward = 500.0\n",
      "Evaluation Episode 2: Reward = 500.0\n",
      "Evaluation Episode 3: Reward = 500.0\n",
      "Evaluation Episode 3: Reward = 500.0\n",
      "Evaluation Episode 4: Reward = 500.0\n",
      "Evaluation Episode 4: Reward = 500.0\n",
      "Evaluation Episode 5: Reward = 500.0\n",
      "\n",
      "Average Evaluation Reward: 500.00\n",
      "Evaluation Episode 5: Reward = 500.0\n",
      "\n",
      "Average Evaluation Reward: 500.00\n"
     ]
    }
   ],
   "source": [
    "# Creates environment for evaluation with rendering\n",
    "env = gym.make('CartPole-v1', render_mode='human')\n",
    "\n",
    "# Runs evaluation episodes\n",
    "n_eval_episodes = 5\n",
    "eval_rewards = []\n",
    "\n",
    "for episode in range(n_eval_episodes):\n",
    "    state, _ = env.reset()\n",
    "\n",
    "    episode_reward = 0      # Accumulates reward for the current episode\n",
    "    done = False            # Checks if the episode is over\n",
    "    \n",
    "    while not done:\n",
    "        state_tensor = tf.convert_to_tensor(state, dtype=tf.float32)\n",
    "        state_tensor = tf.expand_dims(state_tensor, 0)\n",
    "        q_values = target_net(state_tensor)                 # Uses target network for evaluation (without exploration)\n",
    "        action = tf.argmax(q_values[0]).numpy()\n",
    "            \n",
    "        next_state, reward, terminated, truncated, _ = env.step(action)     # Takes the action\n",
    "        \n",
    "        state = next_state                                  # Next state becomes current state\n",
    "        episode_reward += reward            \n",
    "        done = terminated or truncated      \n",
    "        \n",
    "    eval_rewards.append(episode_reward)     # Stores total reward for the episode\n",
    "    print(f\"Evaluation Episode {episode + 1}: Reward = {episode_reward}\")\n",
    "\n",
    "print(f\"\\nAverage Evaluation Reward: {np.mean(eval_rewards):.2f}\")\n",
    "\n",
    "env.close()     # Closes the evaluation environment"
   ]
  },
  {
   "cell_type": "markdown",
   "id": "f6f0adbc",
   "metadata": {},
   "source": [
    "The above performance shows that Q-Network agent outperformed non-neural network based Q-Learing agent by significant mergin."
   ]
  }
 ],
 "metadata": {
  "kernelspec": {
   "display_name": "reinforcement_learning_2",
   "language": "python",
   "name": "python3"
  },
  "language_info": {
   "codemirror_mode": {
    "name": "ipython",
    "version": 3
   },
   "file_extension": ".py",
   "mimetype": "text/x-python",
   "name": "python",
   "nbconvert_exporter": "python",
   "pygments_lexer": "ipython3",
   "version": "3.13.7"
  }
 },
 "nbformat": 4,
 "nbformat_minor": 5
}
