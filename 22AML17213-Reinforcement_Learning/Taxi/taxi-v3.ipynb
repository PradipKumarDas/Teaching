{
 "cells": [
  {
   "cell_type": "markdown",
   "id": "38b4aad0",
   "metadata": {},
   "source": [
    "# Smart Taxi\n",
    "\n",
    "<div align=\"center\">\n",
    "    <img src=\"./images/taxi.gif\" width=\"300\" alt=\"CartPole Environment\">\n",
    "</div>\n",
    "\n",
    "A taxi navigates in a grid world, pickes up a passenger and drops off at one of four locations."
   ]
  },
  {
   "cell_type": "markdown",
   "id": "c7e4d3de",
   "metadata": {},
   "source": [
    "## The Environment\n",
    "\n",
    "There are four designated pick-up and drop-off locations (Red, Green, Yellow and Blue) in the 5x5 grid world. The taxi starts off at a random square and the passenger at one of the designated locations. The goal is move the taxi to the passenger’s location, pick up the passenger, move to the passenger’s desired destination, and drop off the passenger. Once the passenger is dropped off, the episode ends. The player receives positive rewards for successfully dropping-off the passenger at the correct location. Negative rewards for incorrect attempts to pick-up/drop-off passenger and for each step where another reward is not received.\n",
    "\n",
    "**State Space/Observations:** There are 500 (25x5x4) discrete states since there are 25 taxi positions, 5 possible locations of the passenger (including the case when the passenger is in the taxi), and 4 destination locations. Destination on the map are represented with the first letter of the color. Passenger locations: 0 (Red), 1 (Green), 2 (Yellow), 3 (Blue), and 4 (Onboard/In taxi). Destinations: 0 (Red), 1 (Green), 2 (Yellow), 3 (Blue)\n",
    "\n",
    "**Action Space:** 6 discrete actions.\n",
    "0: Move South, 1: Move North, 2: Move East, 3: Move West, 4: Pickup passenger and 5: Drop off passenger\n",
    "\n",
    "**Rewards:** -1 per step (default reward with time penalty), +20 for successful drop-off, -10 for illegal pickup/drop-off actions. There will be default reward for illegal moves (such as moving towards barriers) with state unchanged.\n",
    "\n",
    "**Starting State:** There are 300 possible initial states: 25 taxi positions, 4 passenger locations (excluding inside the taxi) and 3 destinations (excluding the passenger’s current location).\n",
    "\n",
    "**Episode Termination:** Episode terminates (1) when taxi drops off the passenger successfully or the episode is truncated (1) when length of the episode reaches 200."
   ]
  },
  {
   "cell_type": "code",
   "execution_count": 1,
   "id": "8899a6eb",
   "metadata": {},
   "outputs": [
    {
     "name": "stdout",
     "output_type": "stream",
     "text": [
      "Action Space: Discrete(6)\n",
      "Observation Space: Discrete(500)\n"
     ]
    }
   ],
   "source": [
    "import gymnasium as gym\n",
    "\n",
    "# Creates the Taxi-v3 environment\n",
    "env = gym.make(\"Taxi-v3\", render_mode=\"ansi\")\n",
    "\n",
    "# Show environment details\n",
    "print(\"Action Space:\", env.action_space)\n",
    "print(\"Observation Space:\", env.observation_space)"
   ]
  },
  {
   "cell_type": "code",
   "execution_count": 4,
   "id": "66913094",
   "metadata": {},
   "outputs": [
    {
     "name": "stdout",
     "output_type": "stream",
     "text": [
      "Initial Observation: 386\n",
      "Decoded Initial Observation [taxi row, taxi column, passenger location, destination]: [3, 4, 1, 2]\n"
     ]
    }
   ],
   "source": [
    "# Resets the environment to an initial state and returns the initial observation\n",
    "initial_observation, info = env.reset()\n",
    "print(\"Initial Observation:\", initial_observation)\n",
    "print(\"Decoded Initial Observation [taxi row, taxi column, passenger location, destination]:\", list(env.unwrapped.decode(initial_observation)))"
   ]
  },
  {
   "cell_type": "code",
   "execution_count": 5,
   "id": "e66c23e3",
   "metadata": {},
   "outputs": [
    {
     "name": "stdout",
     "output_type": "stream",
     "text": [
      "+---------+\n",
      "|R: | : :\u001b[34;1mG\u001b[0m|\n",
      "| : | : : |\n",
      "| : : : : |\n",
      "| | : | :\u001b[43m \u001b[0m|\n",
      "|\u001b[35mY\u001b[0m| : |B: |\n",
      "+---------+\n",
      "\n",
      "\n"
     ]
    }
   ],
   "source": [
    "# Render the initial state of the environment\n",
    "print(env.render())"
   ]
  },
  {
   "cell_type": "markdown",
   "id": "97648dbb",
   "metadata": {},
   "source": [
    "Passenger and destination location are rendered as blue and magenta, respectively."
   ]
  },
  {
   "cell_type": "code",
   "execution_count": 6,
   "id": "ee293800",
   "metadata": {},
   "outputs": [
    {
     "name": "stdout",
     "output_type": "stream",
     "text": [
      "\n",
      "Transition dynamics for each of the six actions from the initial state:\n"
     ]
    },
    {
     "data": {
      "text/plain": [
       "{0: [(1.0, 486, -1, False)],\n",
       " 1: [(1.0, 286, -1, False)],\n",
       " 2: [(1.0, 386, -1, False)],\n",
       " 3: [(1.0, 366, -1, False)],\n",
       " 4: [(1.0, 386, -10, False)],\n",
       " 5: [(1.0, 386, -10, False)]}"
      ]
     },
     "execution_count": 6,
     "metadata": {},
     "output_type": "execute_result"
    }
   ],
   "source": [
    "# Looking into the transition table to know the transition dynamics \n",
    "# with respect to the actions taken from the current state\n",
    "print(\"\\nTransition dynamics for each of the six actions from the initial state:\")\n",
    "env.unwrapped.P[initial_observation]"
   ]
  },
  {
   "cell_type": "markdown",
   "id": "91bb099d",
   "metadata": {},
   "source": [
    "The four-variable tuble in each row represents (state-change probability, next_state, reward, epiosode over)\n"
   ]
  },
  {
   "cell_type": "markdown",
   "id": "7dcc2c22",
   "metadata": {},
   "source": [
    "## Random Actions\n",
    "Takes random actions, visualizes the environment after each action and measures the performance.\n"
   ]
  },
  {
   "cell_type": "code",
   "execution_count": null,
   "id": "65d77347",
   "metadata": {},
   "outputs": [
    {
     "name": "stdout",
     "output_type": "stream",
     "text": [
      "+---------+\n",
      "|\u001b[43mR\u001b[0m: | : :\u001b[34;1mG\u001b[0m|\n",
      "| : | : : |\n",
      "| : : : : |\n",
      "| | : | : |\n",
      "|\u001b[35mY\u001b[0m| : |B: |\n",
      "+---------+\n",
      "  (West)\n",
      "\n"
     ]
    }
   ],
   "source": [
    "import time\n",
    "from IPython.display import clear_output\n",
    "import numpy as np\n",
    "\n",
    "# It now takes random actions, visualizes the environment after each action and measures the performance\n",
    "\n",
    "done = False        # To track the end of the episode\n",
    "\n",
    "env = gym.wrappers.RecordEpisodeStatistics(env, buffer_length=1)   # To record episode statistics\n",
    "\n",
    "while not done:     # Loops until the episode ends\n",
    "    action = env.action_space.sample()  # Samples a random action\n",
    "    \n",
    "    # Takes the action and returns the results\n",
    "    next_state, reward, terminated, truncated, info = env.step(action) # terminated: drops-off the passenger at the correct location; truncated: max steps reached\n",
    "    \n",
    "    print(env.render())     # Renders the environment after taking the action\n",
    "    time.sleep(0.05)        # Pauses for a second to visualize the rendering\n",
    "    clear_output(wait=True) # Clears the output to update the rendering\n",
    "\n",
    "    done = terminated or truncated  # Episode ends if terminated or truncated"
   ]
  },
  {
   "cell_type": "markdown",
   "id": "18c56fab",
   "metadata": {},
   "source": [
    "The rendered observation shows the the passenger was not dropped-off in destination and the episode was over either due to limit (which is 200 steps) reached or drop-off action was taken in any state other than destination state."
   ]
  },
  {
   "cell_type": "code",
   "execution_count": 8,
   "id": "2f514950",
   "metadata": {},
   "outputs": [
    {
     "name": "stdout",
     "output_type": "stream",
     "text": [
      "Performance of random actions in one episode:\n",
      "Steps: 200, Rewards: -758.0\n"
     ]
    }
   ],
   "source": [
    "# Measuring the performance\n",
    "print(\"Performance of random actions in one episode:\\nSteps: {0}, Rewards: {1}\".format(\n",
    "    env.length_queue[0], env.return_queue[0]))"
   ]
  },
  {
   "cell_type": "markdown",
   "id": "94adbc3b",
   "metadata": {},
   "source": [
    "The same exercise of random actions can also be extended over multiple episodes to generalize and to show ineffectiveness of random action in this problem settings."
   ]
  },
  {
   "cell_type": "code",
   "execution_count": null,
   "id": "0f85a9e4",
   "metadata": {},
   "outputs": [
    {
     "name": "stdout",
     "output_type": "stream",
     "text": [
      "Evaluation Episode 1: Reward = -686, Steps = 200\n",
      "Evaluation Episode 2: Reward = -803, Steps = 200\n",
      "Evaluation Episode 3: Reward = -821, Steps = 200\n",
      "Evaluation Episode 4: Reward = -920, Steps = 200\n",
      "Evaluation Episode 5: Reward = -821, Steps = 200\n",
      "\n",
      "Average Evaluation Reward: -810.20\n",
      "Average Evaluation Steps: 200.00\n"
     ]
    }
   ],
   "source": [
    "n_eval_episodes = 5  # Number of episodes to run\n",
    "eval_rewards = []\n",
    "eval_episode_steps = []\n",
    "\n",
    "env.reset()  # Resets the environment to an initial state\n",
    "\n",
    "# Instead of auto-recording of statistics, rewards and steps are tracked manually here\n",
    "#env = gym.wrappers.RecordEpisodeStatistics(env, buffer_length=n_eval_episodes)   \n",
    "\n",
    "for episode in range(n_eval_episodes):\n",
    "    done = False        # To track the end of the episode\n",
    "    episode_rewards = 0  # To accumulate rewards in the episode\n",
    "    episode_steps = 0   # To count steps in the episode\n",
    "\n",
    "    while not done:     # Loops until the episode ends\n",
    "        action = env.action_space.sample()  # Samples a random action\n",
    "        \n",
    "        # Takes the action and returns the results\n",
    "        next_state, reward, terminated, truncated, info = env.step(action)\n",
    "\n",
    "        episode_rewards += reward        # Accumulates the reward\n",
    "        episode_steps += 1              # Increments the step count\n",
    "        \n",
    "        done = terminated or truncated  # Episode ends if terminated or truncated\n",
    "\n",
    "    eval_rewards.append(episode_rewards)        # Appends the total reward of the episode\n",
    "    eval_episode_steps.append(episode_steps)   # Appends the total steps of the episode\n",
    "    print(f\"Evaluation Episode {episode + 1}: Reward = {episode_rewards}, Steps = {episode_steps}\")\n",
    "\n",
    "    env.reset()  # Resets the environment for the next episode\n",
    "\n",
    "print(f\"\\nAverage Evaluation Reward: {np.mean(eval_rewards):.2f}\")\n",
    "print(f\"Average Evaluation Steps: {np.mean(eval_episode_steps):.2f}\")\n"
   ]
  },
  {
   "cell_type": "markdown",
   "id": "c046a64e",
   "metadata": {},
   "source": [
    "## The Agent\n",
    "\n",
    "Now we'll implement the Q-learning agent with methods for action selection, Q-value updates, and exploration decay. The Q-learning update rule is given by:\n",
    "\n",
    "$Q(s,a) \\leftarrow Q(s,a) + \\alpha[R + \\gamma \\max_{a'} Q(s',a') - Q(s,a)]$\n",
    "\n",
    "Where:\n",
    "- $Q(s,a)$: Q-value for state $s$ and action $a$\n",
    "- $\\alpha$: Learning rate (0 to 1)\n",
    "- $R$: Immediate reward\n",
    "- $\\gamma$: Discount factor (0 to 1)\n",
    "- $s'$: Next state\n",
    "- $\\max_{a'} Q(s',a')$: Maximum Q-value for next state\n",
    "- $[R + \\gamma \\max_{a'} Q(s',a') - Q(s,a)]$: Temporal-difference (TD) error\n",
    "\n"
   ]
  },
  {
   "cell_type": "code",
   "execution_count": 10,
   "id": "c1046bb6",
   "metadata": {},
   "outputs": [],
   "source": [
    "from collections import defaultdict\n",
    "\n",
    "class TaxiAgent:\n",
    "    \"\"\" A Q-learning agent for the Taxi-v3 environment. \"\"\"\n",
    "    \n",
    "    def __init__(self, env, lr, initial_epsilon, epsilon_decay, final_epsilon, discount_factor):\n",
    "        \"\"\"\n",
    "        Initializes the TaxiAgent with the given parameters.\n",
    "        Args:\n",
    "            env: The Taxi-v3 environment.\n",
    "            lr (float): Learning rate (0 to 1).\n",
    "            initial_epsilon (float): Initial exploration rate (0 to 1).\n",
    "            epsilon_decay (float): Decay rate for exploration (0 to 1).\n",
    "            final_epsilon (float): Minimum exploration rate (0 to 1).\n",
    "            discount_factor (float): Discount factor for future rewards (0 to 1).\n",
    "        \"\"\"\n",
    "        self.env = env\n",
    "        self.lr = lr\n",
    "        self.epsilon = initial_epsilon\n",
    "        self.epsilon_decay = epsilon_decay\n",
    "        self.final_epsilon = final_epsilon\n",
    "        self.discount_factor = discount_factor\n",
    "\n",
    "        self.q_table = defaultdict(lambda: np.zeros(env.action_space.n))    # Initializes Q-table with zeros\n",
    "\n",
    "        # Tracks performance metrics during training\n",
    "        self.training_rewards = []  # Stores rewards per episode during training\n",
    "        self.training_steps = []    # Stores steps per episode during training\n",
    "\n",
    "    def get_action(self, state):\n",
    "        \"\"\"\n",
    "        Selects an action using the epsilon-greedy policy.\n",
    "        \n",
    "        Args:\n",
    "            state (int): The current state of the environment.\n",
    "\n",
    "        Returns:\n",
    "            action (int): The action selected.\n",
    "        \"\"\"\n",
    "\n",
    "        if np.random.rand() < self.epsilon:         # Explores by sampling a random action\n",
    "            return self.env.action_space.sample()\n",
    "        elif np.sum(self.q_table[state]) == 0:      # Also explores by sampling a random action when all Q-values are zero\n",
    "            return self.env.action_space.sample()\n",
    "        else:\n",
    "            return np.argmax(self.q_table[state])   # Exploits by selecting the action with max Q-value\n",
    "\n",
    "    def update_q_value(self, state, action, reward, next_state, done):\n",
    "        \"\"\"\n",
    "        Updates the Q-value for a given state-action pair using the Q-learning update rule.\n",
    "        \n",
    "        Args:\n",
    "            state (int): The current state.\n",
    "            action (int): The action taken.\n",
    "            reward (float): The reward received after taking the action.\n",
    "            next_state (int): The state reached after taking the action.\n",
    "            done (bool): Whether the episode has ended.\n",
    "        \"\"\"\n",
    "        best_next_action = np.argmax(self.q_table[next_state])\n",
    "        td_target = reward + (self.discount_factor * self.q_table[next_state][best_next_action] * (not done))\n",
    "        td_delta = td_target - self.q_table[state][action]\n",
    "        self.q_table[state][action] += self.lr * td_delta\n",
    "\n",
    "    def decay_epsilon(self):\n",
    "        \"\"\"Decays the exploration rate (epsilon) after each episode.\"\"\"\n",
    "        if self.epsilon > self.final_epsilon:\n",
    "            self.epsilon *= self.epsilon_decay\n",
    "            self.epsilon = max(self.epsilon, self.final_epsilon)\n",
    "\n",
    "    def train(self, n_episodes):\n",
    "        \"\"\"\n",
    "        Trains the agent using the Q-learning algorithm over a specified number of episodes.\n",
    "        \n",
    "        Args:\n",
    "            n_episodes (int): The number of episodes to train the agent.\n",
    "        \"\"\"\n",
    "\n",
    "        training_rewards = []  # Stores rewards per episode during training\n",
    "        training_steps = []    # Stores steps per episode during training\n",
    "\n",
    "        # Loops over specified number of episodes\n",
    "        for episode in range(n_episodes):\n",
    "            state, info = self.env.reset()      # Resets the environment to an initial state\n",
    "            episode_reward = 0                  # To accumulate rewards in the episode\n",
    "            episode_steps = 0                   # To count steps in the episode\n",
    "\n",
    "            done = False                        # Loops until the episode ends\n",
    "\n",
    "            while not done:\n",
    "                action = self.get_action(state)\n",
    "                next_state, reward, terminated, truncated, info = self.env.step(action)\n",
    "\n",
    "                self.update_q_value(state, action, reward, next_state, terminated or truncated)\n",
    "\n",
    "                state = next_state\n",
    "                episode_reward += reward\n",
    "                episode_steps += 1\n",
    "\n",
    "                done = terminated or truncated\n",
    "            \n",
    "            training_rewards.append(episode_reward)\n",
    "            training_steps.append(episode_steps)\n",
    "\n",
    "            self.decay_epsilon()\n",
    "\n",
    "        return training_rewards, training_steps     # Returns training metrics\n"
   ]
  },
  {
   "cell_type": "markdown",
   "id": "e96277af",
   "metadata": {},
   "source": [
    "## Training the Agent"
   ]
  },
  {
   "cell_type": "code",
   "execution_count": 11,
   "id": "b3edc5ad",
   "metadata": {},
   "outputs": [
    {
     "name": "stdout",
     "output_type": "stream",
     "text": [
      "Training completed over 20000 episodes.\n"
     ]
    }
   ],
   "source": [
    "# Initializes the TaxiAgent with specified hyperparameters\n",
    "agent = TaxiAgent(\n",
    "    env=env,\n",
    "    lr=0.1,\n",
    "    initial_epsilon=1.0,\n",
    "    epsilon_decay=0.9,\n",
    "    final_epsilon=0.01,\n",
    "    discount_factor=0.95\n",
    ")\n",
    "\n",
    "n_train_episodes = 20000                                            # Number of training episodes\n",
    "training_rewards, training_steps = agent.train(n_train_episodes)    # Trains the agent over specified number of episodes\n",
    "print(f\"Training completed over {n_train_episodes} episodes.\")"
   ]
  },
  {
   "cell_type": "markdown",
   "id": "ab4c9096",
   "metadata": {},
   "source": [
    "### Analyzing the Trained Agent"
   ]
  },
  {
   "cell_type": "code",
   "execution_count": null,
   "id": "720352d0",
   "metadata": {},
   "outputs": [
    {
     "data": {
      "image/png": "[encoded data removed]",
      "text/plain": [
       "<Figure size 1000x500 with 2 Axes>"
      ]
     },
     "metadata": {},
     "output_type": "display_data"
    }
   ],
   "source": [
    "# Plots the average training rewards and steps per episode\n",
    "import matplotlib.pyplot as plt\n",
    "plt.figure(figsize=(10, 5))\n",
    "\n",
    "plt.subplot(1, 2, 1)\n",
    "plt.plot(np.convolve(training_rewards, np.ones(100)/100, mode='valid'))\n",
    "plt.title('Average Training Rewards (100-episode moving average)')\n",
    "plt.xlabel('Episodes')\n",
    "plt.ylabel('Average Reward')\n",
    "\n",
    "plt.subplot(1, 2, 2)\n",
    "plt.plot(np.convolve(training_steps, np.ones(100)/100, mode='valid'))\n",
    "plt.title('Average Training Steps (100-episode moving average)')\n",
    "plt.xlabel('Episodes')\n",
    "plt.ylabel('Average Steps')\n",
    "\n",
    "plt.tight_layout()\n",
    "plt.show()\n"
   ]
  },
  {
   "cell_type": "markdown",
   "id": "cda77850",
   "metadata": {},
   "source": [
    "## Evaluating the Trained Agent"
   ]
  },
  {
   "cell_type": "markdown",
   "id": "3b176093",
   "metadata": {},
   "source": [
    "Let's now manually check if the Q-table has appropriate Q-values for possible actions against the specified state before analyzing the agent generally."
   ]
  },
  {
   "cell_type": "code",
   "execution_count": 14,
   "id": "58d36cea",
   "metadata": {},
   "outputs": [
    {
     "name": "stdout",
     "output_type": "stream",
     "text": [
      "+---------+\n",
      "|R: | : :\u001b[35mG\u001b[0m|\n",
      "| : | : : |\n",
      "| :\u001b[43m \u001b[0m: : : |\n",
      "| | : | : |\n",
      "|Y| : |\u001b[34;1mB\u001b[0m: |\n",
      "+---------+\n",
      "\n",
      "\n"
     ]
    }
   ],
   "source": [
    "# Resets the environment and renders the initial state\n",
    "initial_state, _ = env.reset()\n",
    "print(env.render())"
   ]
  },
  {
   "cell_type": "code",
   "execution_count": 15,
   "id": "5b5b81b5",
   "metadata": {},
   "outputs": [
    {
     "name": "stdout",
     "output_type": "stream",
     "text": [
      "[taxi row, taxi column, passenger location, destination]: [2, 1, 3, 1]\n"
     ]
    }
   ],
   "source": [
    "# Decodes the initial state to understand current taxi location, passenger location, and destination\n",
    "print(\"[taxi row, taxi column, passenger location, destination]:\", list(env.unwrapped.decode(initial_state)))"
   ]
  },
  {
   "cell_type": "code",
   "execution_count": 16,
   "id": "60260812",
   "metadata": {},
   "outputs": [
    {
     "data": {
      "text/plain": [
       "array([-4.06975889, -4.08081047,  3.94947757, -4.05874779, -5.08002407,\n",
       "       -4.1587415 ])"
      ]
     },
     "execution_count": 16,
     "metadata": {},
     "output_type": "execute_result"
    }
   ],
   "source": [
    "agent.q_table[initial_state]  # Displays the Q-values for the initial state"
   ]
  },
  {
   "cell_type": "markdown",
   "id": "d69679ec",
   "metadata": {},
   "source": [
    "Amongst all the Q-values, the one against the action to move to the \"east\" direction has the highest value justifying the correct move with respect to visual state representation in the above cell confirming appropriate training of the agent.\n",
    "\n",
    "Now, perform the generalized analysis the agent by evaluating it over few episodes."
   ]
  },
  {
   "cell_type": "code",
   "execution_count": 18,
   "id": "07092769",
   "metadata": {},
   "outputs": [
    {
     "name": "stdout",
     "output_type": "stream",
     "text": [
      "Evaluation Episode 1: Reward = 10, Steps = 11\n",
      "Evaluation Episode 2: Reward = 7, Steps = 14\n",
      "Evaluation Episode 3: Reward = 6, Steps = 15\n",
      "Evaluation Episode 4: Reward = 10, Steps = 11\n",
      "Evaluation Episode 5: Reward = 6, Steps = 15\n",
      "\n",
      "Average Evaluation Reward: 7.80\n",
      "Average Evaluation Steps: 13.20\n"
     ]
    }
   ],
   "source": [
    "# Evaluates the trained agent over specified number of episodes\n",
    "\n",
    "n_eval_episodes = 5         # Number of episodes to run\n",
    "eval_rewards = []           # Stores rewards per episode during evaluation\n",
    "eval_episode_steps = []     # Stores steps per episode during evaluation\n",
    "\n",
    "# Loops over specified number of episodes\n",
    "for episode in range(n_eval_episodes):\n",
    "    done = False                            # Tracks the end of the episode\n",
    "    episode_rewards = 0                      # Accumulates rewards in the episode\n",
    "    episode_steps = 0                       # Counts steps in the episode\n",
    "\n",
    "    state, _ = env.reset()                  # Resets the environment to an initial state in every episode\n",
    "\n",
    "    # Loops until the episode ends\n",
    "    while not done:\n",
    "        action = agent.get_action(state)    # Selects action using the agent's policy\n",
    "        \n",
    "        next_state, reward, terminated, truncated, info = env.step(action)     # Takes the action and returns the results\n",
    "\n",
    "        episode_rewards += reward            # Accumulates the reward\n",
    "        episode_steps += 1                  # Increments the step count\n",
    "        \n",
    "        done = terminated or truncated      # Episode ends if terminated or truncated\n",
    "\n",
    "        state = next_state                  # Updates the current state\n",
    "\n",
    "    eval_rewards.append(episode_rewards)        # Appends the total reward of the episode\n",
    "    eval_episode_steps.append(episode_steps)    # Appends the total steps of the episode\n",
    "    print(f\"Evaluation Episode {episode + 1}: Reward = {episode_rewards}, Steps = {episode_steps}\")\n",
    "    \n",
    "print(f\"\\nAverage Evaluation Reward: {np.mean(eval_rewards):.2f}\")\n",
    "print(f\"Average Evaluation Steps: {np.mean(eval_episode_steps):.2f}\")\n"
   ]
  },
  {
   "cell_type": "markdown",
   "id": "290ab37b",
   "metadata": {},
   "source": [
    "The above performance of the agent over 5-episode evaluation is much higher than the performance of random actions recorded in the beginning of this notebook."
   ]
  },
  {
   "cell_type": "code",
   "execution_count": 19,
   "id": "cad57fa8",
   "metadata": {},
   "outputs": [],
   "source": [
    "env.close()     # Closes the environment to release resources"
   ]
  }
 ],
 "metadata": {
  "kernelspec": {
   "display_name": "reinforcement_learning_2",
   "language": "python",
   "name": "python3"
  },
  "language_info": {
   "codemirror_mode": {
    "name": "ipython",
    "version": 3
   },
   "file_extension": ".py",
   "mimetype": "text/x-python",
   "name": "python",
   "nbconvert_exporter": "python",
   "pygments_lexer": "ipython3",
   "version": "3.13.7"
  }
 },
 "nbformat": 4,
 "nbformat_minor": 5
}
