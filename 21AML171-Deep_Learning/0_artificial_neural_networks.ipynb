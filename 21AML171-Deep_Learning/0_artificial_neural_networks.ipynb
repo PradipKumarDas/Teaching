{
 "cells": [
  {
   "cell_type": "markdown",
   "id": "48a34035-94f5-4b00-8a1f-4a36eca85783",
   "metadata": {},
   "source": [
    "# Introduction to Artificial Neural Networks"
   ]
  },
  {
   "cell_type": "markdown",
   "id": "144e2ff4-2773-4b17-8760-3dd051bef656",
   "metadata": {},
   "source": [
    "## The Perceptron"
   ]
  },
  {
   "cell_type": "code",
   "execution_count": 4,
   "id": "83afe8bc-e8d6-45f8-ad3d-6e7c3cfea902",
   "metadata": {
    "tags": []
   },
   "outputs": [],
   "source": [
    "# Imports required packages\n",
    "\n",
    "import numpy as np\n",
    "from sklearn.datasets import load_iris\n",
    "from sklearn.linear_model import Perceptron"
   ]
  },
  {
   "cell_type": "code",
   "execution_count": null,
   "id": "37232a86-4ddf-4c07-a7a2-50951be86a4a",
   "metadata": {},
   "outputs": [],
   "source": [
    "# Loads iris dataset\n",
    "iris = load_iris(as_frame=True)"
   ]
  },
  {
   "cell_type": "code",
   "execution_count": 10,
   "id": "9c5f213a-9c5e-4578-9b2b-e3b48478040a",
   "metadata": {
    "tags": []
   },
   "outputs": [
    {
     "data": {
      "text/html": [
       "<div>\n",
       "<style scoped>\n",
       "    .dataframe tbody tr th:only-of-type {\n",
       "        vertical-align: middle;\n",
       "    }\n",
       "\n",
       "    .dataframe tbody tr th {\n",
       "        vertical-align: top;\n",
       "    }\n",
       "\n",
       "    .dataframe thead th {\n",
       "        text-align: right;\n",
       "    }\n",
       "</style>\n",
       "<table border=\"1\" class=\"dataframe\">\n",
       "  <thead>\n",
       "    <tr style=\"text-align: right;\">\n",
       "      <th></th>\n",
       "      <th>sepal length (cm)</th>\n",
       "      <th>sepal width (cm)</th>\n",
       "      <th>petal length (cm)</th>\n",
       "      <th>petal width (cm)</th>\n",
       "    </tr>\n",
       "  </thead>\n",
       "  <tbody>\n",
       "    <tr>\n",
       "      <th>0</th>\n",
       "      <td>5.1</td>\n",
       "      <td>3.5</td>\n",
       "      <td>1.4</td>\n",
       "      <td>0.2</td>\n",
       "    </tr>\n",
       "    <tr>\n",
       "      <th>1</th>\n",
       "      <td>4.9</td>\n",
       "      <td>3.0</td>\n",
       "      <td>1.4</td>\n",
       "      <td>0.2</td>\n",
       "    </tr>\n",
       "    <tr>\n",
       "      <th>2</th>\n",
       "      <td>4.7</td>\n",
       "      <td>3.2</td>\n",
       "      <td>1.3</td>\n",
       "      <td>0.2</td>\n",
       "    </tr>\n",
       "    <tr>\n",
       "      <th>3</th>\n",
       "      <td>4.6</td>\n",
       "      <td>3.1</td>\n",
       "      <td>1.5</td>\n",
       "      <td>0.2</td>\n",
       "    </tr>\n",
       "    <tr>\n",
       "      <th>4</th>\n",
       "      <td>5.0</td>\n",
       "      <td>3.6</td>\n",
       "      <td>1.4</td>\n",
       "      <td>0.2</td>\n",
       "    </tr>\n",
       "    <tr>\n",
       "      <th>...</th>\n",
       "      <td>...</td>\n",
       "      <td>...</td>\n",
       "      <td>...</td>\n",
       "      <td>...</td>\n",
       "    </tr>\n",
       "    <tr>\n",
       "      <th>145</th>\n",
       "      <td>6.7</td>\n",
       "      <td>3.0</td>\n",
       "      <td>5.2</td>\n",
       "      <td>2.3</td>\n",
       "    </tr>\n",
       "    <tr>\n",
       "      <th>146</th>\n",
       "      <td>6.3</td>\n",
       "      <td>2.5</td>\n",
       "      <td>5.0</td>\n",
       "      <td>1.9</td>\n",
       "    </tr>\n",
       "    <tr>\n",
       "      <th>147</th>\n",
       "      <td>6.5</td>\n",
       "      <td>3.0</td>\n",
       "      <td>5.2</td>\n",
       "      <td>2.0</td>\n",
       "    </tr>\n",
       "    <tr>\n",
       "      <th>148</th>\n",
       "      <td>6.2</td>\n",
       "      <td>3.4</td>\n",
       "      <td>5.4</td>\n",
       "      <td>2.3</td>\n",
       "    </tr>\n",
       "    <tr>\n",
       "      <th>149</th>\n",
       "      <td>5.9</td>\n",
       "      <td>3.0</td>\n",
       "      <td>5.1</td>\n",
       "      <td>1.8</td>\n",
       "    </tr>\n",
       "  </tbody>\n",
       "</table>\n",
       "<p>150 rows × 4 columns</p>\n",
       "</div>"
      ],
      "text/plain": [
       "     sepal length (cm)  sepal width (cm)  petal length (cm)  petal width (cm)\n",
       "0                  5.1               3.5                1.4               0.2\n",
       "1                  4.9               3.0                1.4               0.2\n",
       "2                  4.7               3.2                1.3               0.2\n",
       "3                  4.6               3.1                1.5               0.2\n",
       "4                  5.0               3.6                1.4               0.2\n",
       "..                 ...               ...                ...               ...\n",
       "145                6.7               3.0                5.2               2.3\n",
       "146                6.3               2.5                5.0               1.9\n",
       "147                6.5               3.0                5.2               2.0\n",
       "148                6.2               3.4                5.4               2.3\n",
       "149                5.9               3.0                5.1               1.8\n",
       "\n",
       "[150 rows x 4 columns]"
      ]
     },
     "metadata": {},
     "output_type": "display_data"
    }
   ],
   "source": [
    "# Function load_iris function returns a bunch of objects containing data, target, \n",
    "# target names, description and feature names. The following shows the dataset object\n",
    "\n",
    "display(iris.data)"
   ]
  },
  {
   "cell_type": "code",
   "execution_count": 20,
   "id": "132a2d21-9ea9-4f2e-9e3a-e7475b457dd2",
   "metadata": {
    "tags": []
   },
   "outputs": [
    {
     "data": {
      "text/plain": [
       "0      0\n",
       "1      0\n",
       "2      0\n",
       "3      0\n",
       "4      0\n",
       "      ..\n",
       "145    2\n",
       "146    2\n",
       "147    2\n",
       "148    2\n",
       "149    2\n",
       "Name: target, Length: 150, dtype: int64"
      ]
     },
     "metadata": {},
     "output_type": "display_data"
    }
   ],
   "source": [
    "# and the following lists the target against each flower instance.\n",
    "display(iris.target)"
   ]
  },
  {
   "cell_type": "code",
   "execution_count": 52,
   "id": "4146bbdb-1581-4770-afbd-911301242b8b",
   "metadata": {
    "tags": []
   },
   "outputs": [
    {
     "name": "stdout",
     "output_type": "stream",
     "text": [
      "['setosa' 'versicolor' 'virginica']\n"
     ]
    }
   ],
   "source": [
    "# Prints the flower species that each instance either belongs to\n",
    "print(iris.target_names)"
   ]
  },
  {
   "cell_type": "code",
   "execution_count": 22,
   "id": "aeb0ab35-74a5-4120-b206-ca793b737ea2",
   "metadata": {
    "tags": []
   },
   "outputs": [
    {
     "data": {
      "text/html": [
       "<style>#sk-container-id-1 {color: black;background-color: white;}#sk-container-id-1 pre{padding: 0;}#sk-container-id-1 div.sk-toggleable {background-color: white;}#sk-container-id-1 label.sk-toggleable__label {cursor: pointer;display: block;width: 100%;margin-bottom: 0;padding: 0.3em;box-sizing: border-box;text-align: center;}#sk-container-id-1 label.sk-toggleable__label-arrow:before {content: \"▸\";float: left;margin-right: 0.25em;color: #696969;}#sk-container-id-1 label.sk-toggleable__label-arrow:hover:before {color: black;}#sk-container-id-1 div.sk-estimator:hover label.sk-toggleable__label-arrow:before {color: black;}#sk-container-id-1 div.sk-toggleable__content {max-height: 0;max-width: 0;overflow: hidden;text-align: left;background-color: #f0f8ff;}#sk-container-id-1 div.sk-toggleable__content pre {margin: 0.2em;color: black;border-radius: 0.25em;background-color: #f0f8ff;}#sk-container-id-1 input.sk-toggleable__control:checked~div.sk-toggleable__content {max-height: 200px;max-width: 100%;overflow: auto;}#sk-container-id-1 input.sk-toggleable__control:checked~label.sk-toggleable__label-arrow:before {content: \"▾\";}#sk-container-id-1 div.sk-estimator input.sk-toggleable__control:checked~label.sk-toggleable__label {background-color: #d4ebff;}#sk-container-id-1 div.sk-label input.sk-toggleable__control:checked~label.sk-toggleable__label {background-color: #d4ebff;}#sk-container-id-1 input.sk-hidden--visually {border: 0;clip: rect(1px 1px 1px 1px);clip: rect(1px, 1px, 1px, 1px);height: 1px;margin: -1px;overflow: hidden;padding: 0;position: absolute;width: 1px;}#sk-container-id-1 div.sk-estimator {font-family: monospace;background-color: #f0f8ff;border: 1px dotted black;border-radius: 0.25em;box-sizing: border-box;margin-bottom: 0.5em;}#sk-container-id-1 div.sk-estimator:hover {background-color: #d4ebff;}#sk-container-id-1 div.sk-parallel-item::after {content: \"\";width: 100%;border-bottom: 1px solid gray;flex-grow: 1;}#sk-container-id-1 div.sk-label:hover label.sk-toggleable__label {background-color: #d4ebff;}#sk-container-id-1 div.sk-serial::before {content: \"\";position: absolute;border-left: 1px solid gray;box-sizing: border-box;top: 0;bottom: 0;left: 50%;z-index: 0;}#sk-container-id-1 div.sk-serial {display: flex;flex-direction: column;align-items: center;background-color: white;padding-right: 0.2em;padding-left: 0.2em;position: relative;}#sk-container-id-1 div.sk-item {position: relative;z-index: 1;}#sk-container-id-1 div.sk-parallel {display: flex;align-items: stretch;justify-content: center;background-color: white;position: relative;}#sk-container-id-1 div.sk-item::before, #sk-container-id-1 div.sk-parallel-item::before {content: \"\";position: absolute;border-left: 1px solid gray;box-sizing: border-box;top: 0;bottom: 0;left: 50%;z-index: -1;}#sk-container-id-1 div.sk-parallel-item {display: flex;flex-direction: column;z-index: 1;position: relative;background-color: white;}#sk-container-id-1 div.sk-parallel-item:first-child::after {align-self: flex-end;width: 50%;}#sk-container-id-1 div.sk-parallel-item:last-child::after {align-self: flex-start;width: 50%;}#sk-container-id-1 div.sk-parallel-item:only-child::after {width: 0;}#sk-container-id-1 div.sk-dashed-wrapped {border: 1px dashed gray;margin: 0 0.4em 0.5em 0.4em;box-sizing: border-box;padding-bottom: 0.4em;background-color: white;}#sk-container-id-1 div.sk-label label {font-family: monospace;font-weight: bold;display: inline-block;line-height: 1.2em;}#sk-container-id-1 div.sk-label-container {text-align: center;}#sk-container-id-1 div.sk-container {/* jupyter's `normalize.less` sets `[hidden] { display: none; }` but bootstrap.min.css set `[hidden] { display: none !important; }` so we also need the `!important` here to be able to override the default hidden behavior on the sphinx rendered scikit-learn.org. See: https://github.com/scikit-learn/scikit-learn/issues/21755 */display: inline-block !important;position: relative;}#sk-container-id-1 div.sk-text-repr-fallback {display: none;}</style><div id=\"sk-container-id-1\" class=\"sk-top-container\"><div class=\"sk-text-repr-fallback\"><pre>Perceptron(random_state=42)</pre><b>In a Jupyter environment, please rerun this cell to show the HTML representation or trust the notebook. <br />On GitHub, the HTML representation is unable to render, please try loading this page with nbviewer.org.</b></div><div class=\"sk-container\" hidden><div class=\"sk-item\"><div class=\"sk-estimator sk-toggleable\"><input class=\"sk-toggleable__control sk-hidden--visually\" id=\"sk-estimator-id-1\" type=\"checkbox\" checked><label for=\"sk-estimator-id-1\" class=\"sk-toggleable__label sk-toggleable__label-arrow\">Perceptron</label><div class=\"sk-toggleable__content\"><pre>Perceptron(random_state=42)</pre></div></div></div></div></div>"
      ],
      "text/plain": [
       "Perceptron(random_state=42)"
      ]
     },
     "execution_count": 22,
     "metadata": {},
     "output_type": "execute_result"
    }
   ],
   "source": [
    "# Creates Perceptron classifier instance and the model gets fitted on the four features of the\n",
    "# dataset. The trained model will then can be used to predict any new iris species.\n",
    "\n",
    "per_clf = Perceptron(random_state=42)\n",
    "per_clf.fit(iris.data, iris.target)"
   ]
  },
  {
   "cell_type": "code",
   "execution_count": 36,
   "id": "7b9a0293-0695-49cc-9943-75c44aab7e11",
   "metadata": {
    "tags": []
   },
   "outputs": [],
   "source": [
    "# Seperates flowers species wise\n",
    "\n",
    "setosa = iris.data[iris.target == 0]\n",
    "versicolor = iris.data[iris.target == 1]\n",
    "virginica = iris.data[iris.target == 2]"
   ]
  },
  {
   "cell_type": "code",
   "execution_count": 86,
   "id": "4b138c96-9c22-4138-a71f-a1832f99dc12",
   "metadata": {
    "tags": []
   },
   "outputs": [
    {
     "data": {
      "text/plain": [
       "array([0, 1, 0, 0, 0, 0, 0, 0, 1, 1, 0, 0, 1, 0, 0, 0, 0, 0, 0, 0, 1, 0,\n",
       "       0, 0, 0, 1, 0, 0, 0, 0, 1, 0, 0, 0, 1, 0, 0, 0, 0, 0, 0, 1, 0, 0,\n",
       "       0, 1, 0, 0, 0, 0])"
      ]
     },
     "execution_count": 86,
     "metadata": {},
     "output_type": "execute_result"
    }
   ],
   "source": [
    "# Now, check if the model can predict iris setosa\n",
    "per_clf.predict(setosa)"
   ]
  },
  {
   "cell_type": "code",
   "execution_count": 84,
   "id": "59d2021d-e49a-4bec-98e9-0f19e9507e49",
   "metadata": {
    "tags": []
   },
   "outputs": [
    {
     "data": {
      "text/plain": [
       "array([1, 1, 1, 1, 1, 1, 1, 1, 1, 1, 1, 1, 1, 1, 1, 1, 1, 1, 1, 1, 1, 1,\n",
       "       1, 1, 1, 1, 1, 1, 1, 1, 1, 1, 1, 1, 1, 1, 1, 1, 1, 1, 1, 1, 1, 1,\n",
       "       1, 1, 1, 1, 1, 1])"
      ]
     },
     "execution_count": 84,
     "metadata": {},
     "output_type": "execute_result"
    }
   ],
   "source": [
    "# Similarly, model predicts iris versicolor,\n",
    "per_clf.predict(versicolor)"
   ]
  },
  {
   "cell_type": "code",
   "execution_count": 72,
   "id": "2fc13b6c-07be-4f41-a3e7-099c15918a48",
   "metadata": {
    "tags": []
   },
   "outputs": [
    {
     "data": {
      "text/plain": [
       "array([2, 1, 1, 1, 1, 1, 1, 1, 1, 1, 1, 1, 1, 1, 2, 1, 1, 1, 1, 1, 1, 1,\n",
       "       1, 1, 1, 1, 1, 1, 1, 1, 1, 1, 1, 1, 1, 1, 1, 1, 1, 1, 1, 1, 1, 1,\n",
       "       1, 1, 1, 1, 1, 1])"
      ]
     },
     "execution_count": 72,
     "metadata": {},
     "output_type": "execute_result"
    }
   ],
   "source": [
    "# and the model predicts iris virginica\n",
    "per_clf.predict(virginica)"
   ]
  },
  {
   "cell_type": "markdown",
   "id": "6d495a90-ab55-42b2-b411-702719a0fd33",
   "metadata": {
    "tags": []
   },
   "source": [
    "It is observed from the above predictions is that model perfomance is better in predicting iris setosa and iris versilor than in predicting virginica."
   ]
  },
  {
   "cell_type": "code",
   "execution_count": null,
   "id": "5fa95bc6-d19f-455d-8260-356d7d697e22",
   "metadata": {},
   "outputs": [],
   "source": []
  },
  {
   "cell_type": "markdown",
   "id": "46b291a9-df4d-4351-a5ab-64347d3eed3b",
   "metadata": {},
   "source": [
    "## The Multilayer Perceptron (MLP) with Scikit-Learn"
   ]
  },
  {
   "cell_type": "markdown",
   "id": "fe94bef3-c8f0-4a34-9ef1-a46e4a765b4e",
   "metadata": {},
   "source": [
    "### Regression MLP"
   ]
  },
  {
   "cell_type": "code",
   "execution_count": 168,
   "id": "07c6859f-0f08-4be6-a604-4d546a06b083",
   "metadata": {
    "tags": []
   },
   "outputs": [],
   "source": [
    "# Imports required packages\n",
    "from sklearn.datasets import fetch_california_housing\n",
    "from sklearn.model_selection import train_test_split\n",
    "from sklearn.neural_network import MLPRegressor\n",
    "from sklearn.preprocessing import StandardScaler\n",
    "from sklearn.metrics import mean_squared_error"
   ]
  },
  {
   "cell_type": "code",
   "execution_count": 107,
   "id": "90f66c03-f1bf-4808-87a5-e93397fa6769",
   "metadata": {
    "tags": []
   },
   "outputs": [],
   "source": [
    "# Loads Californial housing dataset. May take few seconds to download \n",
    "# if the data is not already cached locally\n",
    "\n",
    "housing = fetch_california_housing(as_frame=True)"
   ]
  },
  {
   "cell_type": "code",
   "execution_count": 103,
   "id": "1f4d44d9-ae1a-4c64-89b1-d2cbcaf24e64",
   "metadata": {
    "tags": []
   },
   "outputs": [
    {
     "name": "stdout",
     "output_type": "stream",
     "text": [
      "(20640, 8)\n"
     ]
    }
   ],
   "source": [
    "# Checks the shape of the dataset\n",
    "print(housing.data.shape)"
   ]
  },
  {
   "cell_type": "code",
   "execution_count": 117,
   "id": "68158cbf-b457-45a5-82d6-f77c1afcc3b0",
   "metadata": {
    "tags": []
   },
   "outputs": [
    {
     "data": {
      "text/html": [
       "<div>\n",
       "<style scoped>\n",
       "    .dataframe tbody tr th:only-of-type {\n",
       "        vertical-align: middle;\n",
       "    }\n",
       "\n",
       "    .dataframe tbody tr th {\n",
       "        vertical-align: top;\n",
       "    }\n",
       "\n",
       "    .dataframe thead th {\n",
       "        text-align: right;\n",
       "    }\n",
       "</style>\n",
       "<table border=\"1\" class=\"dataframe\">\n",
       "  <thead>\n",
       "    <tr style=\"text-align: right;\">\n",
       "      <th></th>\n",
       "      <th>MedInc</th>\n",
       "      <th>HouseAge</th>\n",
       "      <th>AveRooms</th>\n",
       "      <th>AveBedrms</th>\n",
       "      <th>Population</th>\n",
       "      <th>AveOccup</th>\n",
       "      <th>Latitude</th>\n",
       "      <th>Longitude</th>\n",
       "    </tr>\n",
       "  </thead>\n",
       "  <tbody>\n",
       "    <tr>\n",
       "      <th>0</th>\n",
       "      <td>8.3252</td>\n",
       "      <td>41.0</td>\n",
       "      <td>6.984127</td>\n",
       "      <td>1.023810</td>\n",
       "      <td>322.0</td>\n",
       "      <td>2.555556</td>\n",
       "      <td>37.88</td>\n",
       "      <td>-122.23</td>\n",
       "    </tr>\n",
       "    <tr>\n",
       "      <th>1</th>\n",
       "      <td>8.3014</td>\n",
       "      <td>21.0</td>\n",
       "      <td>6.238137</td>\n",
       "      <td>0.971880</td>\n",
       "      <td>2401.0</td>\n",
       "      <td>2.109842</td>\n",
       "      <td>37.86</td>\n",
       "      <td>-122.22</td>\n",
       "    </tr>\n",
       "    <tr>\n",
       "      <th>2</th>\n",
       "      <td>7.2574</td>\n",
       "      <td>52.0</td>\n",
       "      <td>8.288136</td>\n",
       "      <td>1.073446</td>\n",
       "      <td>496.0</td>\n",
       "      <td>2.802260</td>\n",
       "      <td>37.85</td>\n",
       "      <td>-122.24</td>\n",
       "    </tr>\n",
       "    <tr>\n",
       "      <th>3</th>\n",
       "      <td>5.6431</td>\n",
       "      <td>52.0</td>\n",
       "      <td>5.817352</td>\n",
       "      <td>1.073059</td>\n",
       "      <td>558.0</td>\n",
       "      <td>2.547945</td>\n",
       "      <td>37.85</td>\n",
       "      <td>-122.25</td>\n",
       "    </tr>\n",
       "    <tr>\n",
       "      <th>4</th>\n",
       "      <td>3.8462</td>\n",
       "      <td>52.0</td>\n",
       "      <td>6.281853</td>\n",
       "      <td>1.081081</td>\n",
       "      <td>565.0</td>\n",
       "      <td>2.181467</td>\n",
       "      <td>37.85</td>\n",
       "      <td>-122.25</td>\n",
       "    </tr>\n",
       "    <tr>\n",
       "      <th>...</th>\n",
       "      <td>...</td>\n",
       "      <td>...</td>\n",
       "      <td>...</td>\n",
       "      <td>...</td>\n",
       "      <td>...</td>\n",
       "      <td>...</td>\n",
       "      <td>...</td>\n",
       "      <td>...</td>\n",
       "    </tr>\n",
       "    <tr>\n",
       "      <th>20635</th>\n",
       "      <td>1.5603</td>\n",
       "      <td>25.0</td>\n",
       "      <td>5.045455</td>\n",
       "      <td>1.133333</td>\n",
       "      <td>845.0</td>\n",
       "      <td>2.560606</td>\n",
       "      <td>39.48</td>\n",
       "      <td>-121.09</td>\n",
       "    </tr>\n",
       "    <tr>\n",
       "      <th>20636</th>\n",
       "      <td>2.5568</td>\n",
       "      <td>18.0</td>\n",
       "      <td>6.114035</td>\n",
       "      <td>1.315789</td>\n",
       "      <td>356.0</td>\n",
       "      <td>3.122807</td>\n",
       "      <td>39.49</td>\n",
       "      <td>-121.21</td>\n",
       "    </tr>\n",
       "    <tr>\n",
       "      <th>20637</th>\n",
       "      <td>1.7000</td>\n",
       "      <td>17.0</td>\n",
       "      <td>5.205543</td>\n",
       "      <td>1.120092</td>\n",
       "      <td>1007.0</td>\n",
       "      <td>2.325635</td>\n",
       "      <td>39.43</td>\n",
       "      <td>-121.22</td>\n",
       "    </tr>\n",
       "    <tr>\n",
       "      <th>20638</th>\n",
       "      <td>1.8672</td>\n",
       "      <td>18.0</td>\n",
       "      <td>5.329513</td>\n",
       "      <td>1.171920</td>\n",
       "      <td>741.0</td>\n",
       "      <td>2.123209</td>\n",
       "      <td>39.43</td>\n",
       "      <td>-121.32</td>\n",
       "    </tr>\n",
       "    <tr>\n",
       "      <th>20639</th>\n",
       "      <td>2.3886</td>\n",
       "      <td>16.0</td>\n",
       "      <td>5.254717</td>\n",
       "      <td>1.162264</td>\n",
       "      <td>1387.0</td>\n",
       "      <td>2.616981</td>\n",
       "      <td>39.37</td>\n",
       "      <td>-121.24</td>\n",
       "    </tr>\n",
       "  </tbody>\n",
       "</table>\n",
       "<p>20640 rows × 8 columns</p>\n",
       "</div>"
      ],
      "text/plain": [
       "       MedInc  HouseAge  AveRooms  AveBedrms  Population  AveOccup  Latitude  \\\n",
       "0      8.3252      41.0  6.984127   1.023810       322.0  2.555556     37.88   \n",
       "1      8.3014      21.0  6.238137   0.971880      2401.0  2.109842     37.86   \n",
       "2      7.2574      52.0  8.288136   1.073446       496.0  2.802260     37.85   \n",
       "3      5.6431      52.0  5.817352   1.073059       558.0  2.547945     37.85   \n",
       "4      3.8462      52.0  6.281853   1.081081       565.0  2.181467     37.85   \n",
       "...       ...       ...       ...        ...         ...       ...       ...   \n",
       "20635  1.5603      25.0  5.045455   1.133333       845.0  2.560606     39.48   \n",
       "20636  2.5568      18.0  6.114035   1.315789       356.0  3.122807     39.49   \n",
       "20637  1.7000      17.0  5.205543   1.120092      1007.0  2.325635     39.43   \n",
       "20638  1.8672      18.0  5.329513   1.171920       741.0  2.123209     39.43   \n",
       "20639  2.3886      16.0  5.254717   1.162264      1387.0  2.616981     39.37   \n",
       "\n",
       "       Longitude  \n",
       "0        -122.23  \n",
       "1        -122.22  \n",
       "2        -122.24  \n",
       "3        -122.25  \n",
       "4        -122.25  \n",
       "...          ...  \n",
       "20635    -121.09  \n",
       "20636    -121.21  \n",
       "20637    -121.22  \n",
       "20638    -121.32  \n",
       "20639    -121.24  \n",
       "\n",
       "[20640 rows x 8 columns]"
      ]
     },
     "metadata": {},
     "output_type": "display_data"
    }
   ],
   "source": [
    "# Checks the features of the housing dataset\n",
    "display(housing.data)"
   ]
  },
  {
   "cell_type": "code",
   "execution_count": 119,
   "id": "5277f899-d04e-4809-a389-6597b2ffcabb",
   "metadata": {
    "tags": []
   },
   "outputs": [
    {
     "data": {
      "text/plain": [
       "0        4.526\n",
       "1        3.585\n",
       "2        3.521\n",
       "3        3.413\n",
       "4        3.422\n",
       "         ...  \n",
       "20635    0.781\n",
       "20636    0.771\n",
       "20637    0.923\n",
       "20638    0.847\n",
       "20639    0.894\n",
       "Name: MedHouseVal, Length: 20640, dtype: float64"
      ]
     },
     "metadata": {},
     "output_type": "display_data"
    }
   ],
   "source": [
    "# Checks the target of the housing dataset\n",
    "display(housing.target)"
   ]
  },
  {
   "cell_type": "code",
   "execution_count": 129,
   "id": "0f813e9d-211b-4b1a-9356-025781f830c3",
   "metadata": {
    "tags": []
   },
   "outputs": [],
   "source": [
    "# Splits the dataset into train and test dataset\n",
    "X_train_full, X_test, y_train_full, y_test = train_test_split(\n",
    "    housing.data, housing.target, test_size=0.25, random_state=42)"
   ]
  },
  {
   "cell_type": "code",
   "execution_count": 135,
   "id": "d4d351f2-e167-404b-af29-af630e35de3a",
   "metadata": {
    "tags": []
   },
   "outputs": [
    {
     "data": {
      "text/plain": [
       "(15480, 8)"
      ]
     },
     "execution_count": 135,
     "metadata": {},
     "output_type": "execute_result"
    }
   ],
   "source": [
    "# Checks the shape of the full train dataset\n",
    "X_train_full.shape"
   ]
  },
  {
   "cell_type": "code",
   "execution_count": 131,
   "id": "55e2e412-b8b2-4054-8f28-a229af25ffe9",
   "metadata": {
    "tags": []
   },
   "outputs": [],
   "source": [
    "# Splits train dataset further to seperate 25% instances to be used as validation set\n",
    "X_train, X_val, y_train, y_val = train_test_split(\n",
    "    X_train_full, y_train_full, test_size=0.25, random_state=42)"
   ]
  },
  {
   "cell_type": "code",
   "execution_count": 139,
   "id": "c07a50bf-9e0b-4c8c-9cbd-4b9547eaa4f2",
   "metadata": {
    "tags": []
   },
   "outputs": [
    {
     "name": "stdout",
     "output_type": "stream",
     "text": [
      "Shape of the train dataset:  (11610, 8) \n",
      "Shape of the validation dataset: (3870, 8)\n"
     ]
    }
   ],
   "source": [
    "# Checks the shape of the train and validation dataset\n",
    "print(\"Shape of the train dataset: \", X_train.shape, \n",
    "      \"\\nShape of the validation dataset:\", X_val.shape)"
   ]
  },
  {
   "cell_type": "code",
   "execution_count": 143,
   "id": "cddeb3a2-9a04-40af-a4b6-f881b5d8a90d",
   "metadata": {
    "tags": []
   },
   "outputs": [],
   "source": [
    "# Creates MLP regressor instance and the model gets trained on the training dataset\n",
    "mlp_reg = MLPRegressor(\n",
    "    hidden_layer_sizes=[50, 50, 50], activation=\"relu\", random_state=42)\n"
   ]
  },
  {
   "cell_type": "code",
   "execution_count": 147,
   "id": "1b913562-b9cb-4446-b261-8cce0e22626e",
   "metadata": {
    "tags": []
   },
   "outputs": [],
   "source": [
    "# But before training, the data needs to be standardised\n",
    "standard_scaler = StandardScaler()\n",
    "X_trained_sclaled = standard_scaler.fit_transform(X_train)"
   ]
  },
  {
   "cell_type": "code",
   "execution_count": 155,
   "id": "96eb86c0-8789-4396-af71-1db2c71ab357",
   "metadata": {
    "tags": []
   },
   "outputs": [
    {
     "name": "stdout",
     "output_type": "stream",
     "text": [
      "[[-0.19397883 -1.07781319 -0.94338545  0.01485314  0.02073335 -0.57291624\n",
      "   0.92926047 -1.42215523]\n",
      " [ 0.75198318 -1.868895    0.40547793 -0.23327682  1.8614649   0.20516532\n",
      "  -0.91654738  1.09666969]\n",
      " [-0.41469108  0.02970134  0.81808819  1.05678372 -0.08786707 -0.29983271\n",
      "   1.30872858 -1.697027  ]\n",
      " [ 1.71889557 -1.31513773  0.32664379 -0.2195511  -0.33792183 -0.11146632\n",
      "  -0.98213446  0.94174197]\n",
      " [-0.96207212 -1.23602955 -0.05625791 -0.031244    1.70905926 -0.30256989\n",
      "  -0.80411238  1.32656244]]\n"
     ]
    }
   ],
   "source": [
    "# Shows few of the scaled instances\n",
    "print(X_trained_sclaled[:5])"
   ]
  },
  {
   "cell_type": "code",
   "execution_count": 157,
   "id": "22af6db4-75ae-425f-9ebd-c4f56548498d",
   "metadata": {
    "tags": []
   },
   "outputs": [
    {
     "data": {
      "text/html": [
       "<style>#sk-container-id-2 {color: black;background-color: white;}#sk-container-id-2 pre{padding: 0;}#sk-container-id-2 div.sk-toggleable {background-color: white;}#sk-container-id-2 label.sk-toggleable__label {cursor: pointer;display: block;width: 100%;margin-bottom: 0;padding: 0.3em;box-sizing: border-box;text-align: center;}#sk-container-id-2 label.sk-toggleable__label-arrow:before {content: \"▸\";float: left;margin-right: 0.25em;color: #696969;}#sk-container-id-2 label.sk-toggleable__label-arrow:hover:before {color: black;}#sk-container-id-2 div.sk-estimator:hover label.sk-toggleable__label-arrow:before {color: black;}#sk-container-id-2 div.sk-toggleable__content {max-height: 0;max-width: 0;overflow: hidden;text-align: left;background-color: #f0f8ff;}#sk-container-id-2 div.sk-toggleable__content pre {margin: 0.2em;color: black;border-radius: 0.25em;background-color: #f0f8ff;}#sk-container-id-2 input.sk-toggleable__control:checked~div.sk-toggleable__content {max-height: 200px;max-width: 100%;overflow: auto;}#sk-container-id-2 input.sk-toggleable__control:checked~label.sk-toggleable__label-arrow:before {content: \"▾\";}#sk-container-id-2 div.sk-estimator input.sk-toggleable__control:checked~label.sk-toggleable__label {background-color: #d4ebff;}#sk-container-id-2 div.sk-label input.sk-toggleable__control:checked~label.sk-toggleable__label {background-color: #d4ebff;}#sk-container-id-2 input.sk-hidden--visually {border: 0;clip: rect(1px 1px 1px 1px);clip: rect(1px, 1px, 1px, 1px);height: 1px;margin: -1px;overflow: hidden;padding: 0;position: absolute;width: 1px;}#sk-container-id-2 div.sk-estimator {font-family: monospace;background-color: #f0f8ff;border: 1px dotted black;border-radius: 0.25em;box-sizing: border-box;margin-bottom: 0.5em;}#sk-container-id-2 div.sk-estimator:hover {background-color: #d4ebff;}#sk-container-id-2 div.sk-parallel-item::after {content: \"\";width: 100%;border-bottom: 1px solid gray;flex-grow: 1;}#sk-container-id-2 div.sk-label:hover label.sk-toggleable__label {background-color: #d4ebff;}#sk-container-id-2 div.sk-serial::before {content: \"\";position: absolute;border-left: 1px solid gray;box-sizing: border-box;top: 0;bottom: 0;left: 50%;z-index: 0;}#sk-container-id-2 div.sk-serial {display: flex;flex-direction: column;align-items: center;background-color: white;padding-right: 0.2em;padding-left: 0.2em;position: relative;}#sk-container-id-2 div.sk-item {position: relative;z-index: 1;}#sk-container-id-2 div.sk-parallel {display: flex;align-items: stretch;justify-content: center;background-color: white;position: relative;}#sk-container-id-2 div.sk-item::before, #sk-container-id-2 div.sk-parallel-item::before {content: \"\";position: absolute;border-left: 1px solid gray;box-sizing: border-box;top: 0;bottom: 0;left: 50%;z-index: -1;}#sk-container-id-2 div.sk-parallel-item {display: flex;flex-direction: column;z-index: 1;position: relative;background-color: white;}#sk-container-id-2 div.sk-parallel-item:first-child::after {align-self: flex-end;width: 50%;}#sk-container-id-2 div.sk-parallel-item:last-child::after {align-self: flex-start;width: 50%;}#sk-container-id-2 div.sk-parallel-item:only-child::after {width: 0;}#sk-container-id-2 div.sk-dashed-wrapped {border: 1px dashed gray;margin: 0 0.4em 0.5em 0.4em;box-sizing: border-box;padding-bottom: 0.4em;background-color: white;}#sk-container-id-2 div.sk-label label {font-family: monospace;font-weight: bold;display: inline-block;line-height: 1.2em;}#sk-container-id-2 div.sk-label-container {text-align: center;}#sk-container-id-2 div.sk-container {/* jupyter's `normalize.less` sets `[hidden] { display: none; }` but bootstrap.min.css set `[hidden] { display: none !important; }` so we also need the `!important` here to be able to override the default hidden behavior on the sphinx rendered scikit-learn.org. See: https://github.com/scikit-learn/scikit-learn/issues/21755 */display: inline-block !important;position: relative;}#sk-container-id-2 div.sk-text-repr-fallback {display: none;}</style><div id=\"sk-container-id-2\" class=\"sk-top-container\"><div class=\"sk-text-repr-fallback\"><pre>MLPRegressor(hidden_layer_sizes=[50, 50, 50], random_state=42)</pre><b>In a Jupyter environment, please rerun this cell to show the HTML representation or trust the notebook. <br />On GitHub, the HTML representation is unable to render, please try loading this page with nbviewer.org.</b></div><div class=\"sk-container\" hidden><div class=\"sk-item\"><div class=\"sk-estimator sk-toggleable\"><input class=\"sk-toggleable__control sk-hidden--visually\" id=\"sk-estimator-id-2\" type=\"checkbox\" checked><label for=\"sk-estimator-id-2\" class=\"sk-toggleable__label sk-toggleable__label-arrow\">MLPRegressor</label><div class=\"sk-toggleable__content\"><pre>MLPRegressor(hidden_layer_sizes=[50, 50, 50], random_state=42)</pre></div></div></div></div></div>"
      ],
      "text/plain": [
       "MLPRegressor(hidden_layer_sizes=[50, 50, 50], random_state=42)"
      ]
     },
     "execution_count": 157,
     "metadata": {},
     "output_type": "execute_result"
    }
   ],
   "source": [
    "# Now, the model gets trained with the scaled train dataset\n",
    "# Note that the training make take several minutes to complete\n",
    "\n",
    "mlp_reg.fit(X_trained_sclaled, y_train)"
   ]
  },
  {
   "cell_type": "code",
   "execution_count": 160,
   "id": "43b596b6-bbfa-4e9b-9dc3-8aff97ed57e1",
   "metadata": {
    "tags": []
   },
   "outputs": [],
   "source": [
    "# Let's now check the model performance on the validation data\n",
    "\n",
    "# Like train dataset, the validation data also gets scaled first, and\n",
    "X_val_scaled = standard_scaler.transform(X_val)\n",
    "\n",
    "# then model performs prediction on these instances\n",
    "predictions_val = mlp_reg.predict(X_val_scaled)"
   ]
  },
  {
   "cell_type": "code",
   "execution_count": 166,
   "id": "1efb8ec0-ffb0-4e49-93ed-64dbb9b65fd1",
   "metadata": {
    "tags": []
   },
   "outputs": [
    {
     "name": "stdout",
     "output_type": "stream",
     "text": [
      "[1.28463736 2.3567012  1.37453837 2.02070033 3.10107312 1.81135689\n",
      " 2.06033509 2.49663661 0.88914495 5.33612461]\n"
     ]
    }
   ],
   "source": [
    "# Shows few of predictions on validation instances\n",
    "print(predictions_val[:10])"
   ]
  },
  {
   "cell_type": "code",
   "execution_count": 170,
   "id": "c1afbf74-c72b-4b06-95e1-c6eb5480aadf",
   "metadata": {
    "tags": []
   },
   "outputs": [
    {
     "name": "stdout",
     "output_type": "stream",
     "text": [
      "0.5053326657966256\n"
     ]
    }
   ],
   "source": [
    "# Now, metric Root Mean Squared Error (RMSE) is used to measure the model performance on validation data\n",
    "rmse_val = mean_squared_error(y_val, predictions_val, squared=False)\n",
    "print(rmse_val)"
   ]
  },
  {
   "cell_type": "code",
   "execution_count": null,
   "id": "da476425-cb43-43d6-97f2-f198da702f47",
   "metadata": {},
   "outputs": [],
   "source": []
  },
  {
   "cell_type": "markdown",
   "id": "2c3088ec-ef4d-4ba2-abb9-9a2f2f5d64f2",
   "metadata": {},
   "source": [
    "### Classification MLP"
   ]
  },
  {
   "cell_type": "markdown",
   "id": "0f7665ec-80a0-4063-900f-cf5210d9b27d",
   "metadata": {},
   "source": [
    "The following experiment will continue on iris dataset to address multiclass classification problem. This time MLP will be used instead of Perceptron used in early experiment."
   ]
  },
  {
   "cell_type": "code",
   "execution_count": 217,
   "id": "73a35610-75d9-43dc-9789-07f8341c1f07",
   "metadata": {
    "tags": []
   },
   "outputs": [],
   "source": [
    "# Imports required packages\n",
    "from sklearn.neural_network import MLPClassifier\n",
    "from sklearn.metrics import accuracy_score"
   ]
  },
  {
   "cell_type": "code",
   "execution_count": 181,
   "id": "935b2205-4403-4325-b442-57ae12b44ed6",
   "metadata": {
    "tags": []
   },
   "outputs": [],
   "source": [
    "# Splits the dataset into train and test dataset\n",
    "X_train, X_test, y_train, y_test = train_test_split(\n",
    "    iris.data, iris.target, test_size=0.2, random_state=42, stratify=iris.target)"
   ]
  },
  {
   "cell_type": "code",
   "execution_count": 207,
   "id": "2f96116d-cc4e-4433-a327-4d5dc1567487",
   "metadata": {
    "tags": []
   },
   "outputs": [],
   "source": [
    "# But before training, the data needs to be standardised\n",
    "standard_scaler = StandardScaler()\n",
    "X_train_scaled = standard_scaler.fit_transform(X_train)"
   ]
  },
  {
   "cell_type": "code",
   "execution_count": 209,
   "id": "d272c78f-aca4-490a-9fef-043d2ac281e4",
   "metadata": {
    "tags": []
   },
   "outputs": [
    {
     "data": {
      "text/html": [
       "<style>#sk-container-id-12 {color: black;background-color: white;}#sk-container-id-12 pre{padding: 0;}#sk-container-id-12 div.sk-toggleable {background-color: white;}#sk-container-id-12 label.sk-toggleable__label {cursor: pointer;display: block;width: 100%;margin-bottom: 0;padding: 0.3em;box-sizing: border-box;text-align: center;}#sk-container-id-12 label.sk-toggleable__label-arrow:before {content: \"▸\";float: left;margin-right: 0.25em;color: #696969;}#sk-container-id-12 label.sk-toggleable__label-arrow:hover:before {color: black;}#sk-container-id-12 div.sk-estimator:hover label.sk-toggleable__label-arrow:before {color: black;}#sk-container-id-12 div.sk-toggleable__content {max-height: 0;max-width: 0;overflow: hidden;text-align: left;background-color: #f0f8ff;}#sk-container-id-12 div.sk-toggleable__content pre {margin: 0.2em;color: black;border-radius: 0.25em;background-color: #f0f8ff;}#sk-container-id-12 input.sk-toggleable__control:checked~div.sk-toggleable__content {max-height: 200px;max-width: 100%;overflow: auto;}#sk-container-id-12 input.sk-toggleable__control:checked~label.sk-toggleable__label-arrow:before {content: \"▾\";}#sk-container-id-12 div.sk-estimator input.sk-toggleable__control:checked~label.sk-toggleable__label {background-color: #d4ebff;}#sk-container-id-12 div.sk-label input.sk-toggleable__control:checked~label.sk-toggleable__label {background-color: #d4ebff;}#sk-container-id-12 input.sk-hidden--visually {border: 0;clip: rect(1px 1px 1px 1px);clip: rect(1px, 1px, 1px, 1px);height: 1px;margin: -1px;overflow: hidden;padding: 0;position: absolute;width: 1px;}#sk-container-id-12 div.sk-estimator {font-family: monospace;background-color: #f0f8ff;border: 1px dotted black;border-radius: 0.25em;box-sizing: border-box;margin-bottom: 0.5em;}#sk-container-id-12 div.sk-estimator:hover {background-color: #d4ebff;}#sk-container-id-12 div.sk-parallel-item::after {content: \"\";width: 100%;border-bottom: 1px solid gray;flex-grow: 1;}#sk-container-id-12 div.sk-label:hover label.sk-toggleable__label {background-color: #d4ebff;}#sk-container-id-12 div.sk-serial::before {content: \"\";position: absolute;border-left: 1px solid gray;box-sizing: border-box;top: 0;bottom: 0;left: 50%;z-index: 0;}#sk-container-id-12 div.sk-serial {display: flex;flex-direction: column;align-items: center;background-color: white;padding-right: 0.2em;padding-left: 0.2em;position: relative;}#sk-container-id-12 div.sk-item {position: relative;z-index: 1;}#sk-container-id-12 div.sk-parallel {display: flex;align-items: stretch;justify-content: center;background-color: white;position: relative;}#sk-container-id-12 div.sk-item::before, #sk-container-id-12 div.sk-parallel-item::before {content: \"\";position: absolute;border-left: 1px solid gray;box-sizing: border-box;top: 0;bottom: 0;left: 50%;z-index: -1;}#sk-container-id-12 div.sk-parallel-item {display: flex;flex-direction: column;z-index: 1;position: relative;background-color: white;}#sk-container-id-12 div.sk-parallel-item:first-child::after {align-self: flex-end;width: 50%;}#sk-container-id-12 div.sk-parallel-item:last-child::after {align-self: flex-start;width: 50%;}#sk-container-id-12 div.sk-parallel-item:only-child::after {width: 0;}#sk-container-id-12 div.sk-dashed-wrapped {border: 1px dashed gray;margin: 0 0.4em 0.5em 0.4em;box-sizing: border-box;padding-bottom: 0.4em;background-color: white;}#sk-container-id-12 div.sk-label label {font-family: monospace;font-weight: bold;display: inline-block;line-height: 1.2em;}#sk-container-id-12 div.sk-label-container {text-align: center;}#sk-container-id-12 div.sk-container {/* jupyter's `normalize.less` sets `[hidden] { display: none; }` but bootstrap.min.css set `[hidden] { display: none !important; }` so we also need the `!important` here to be able to override the default hidden behavior on the sphinx rendered scikit-learn.org. See: https://github.com/scikit-learn/scikit-learn/issues/21755 */display: inline-block !important;position: relative;}#sk-container-id-12 div.sk-text-repr-fallback {display: none;}</style><div id=\"sk-container-id-12\" class=\"sk-top-container\"><div class=\"sk-text-repr-fallback\"><pre>MLPClassifier(hidden_layer_sizes=[5], max_iter=2000, random_state=42)</pre><b>In a Jupyter environment, please rerun this cell to show the HTML representation or trust the notebook. <br />On GitHub, the HTML representation is unable to render, please try loading this page with nbviewer.org.</b></div><div class=\"sk-container\" hidden><div class=\"sk-item\"><div class=\"sk-estimator sk-toggleable\"><input class=\"sk-toggleable__control sk-hidden--visually\" id=\"sk-estimator-id-12\" type=\"checkbox\" checked><label for=\"sk-estimator-id-12\" class=\"sk-toggleable__label sk-toggleable__label-arrow\">MLPClassifier</label><div class=\"sk-toggleable__content\"><pre>MLPClassifier(hidden_layer_sizes=[5], max_iter=2000, random_state=42)</pre></div></div></div></div></div>"
      ],
      "text/plain": [
       "MLPClassifier(hidden_layer_sizes=[5], max_iter=2000, random_state=42)"
      ]
     },
     "execution_count": 209,
     "metadata": {},
     "output_type": "execute_result"
    }
   ],
   "source": [
    "# Creates MLP classifier instance and the model gets trained on the training dataset\n",
    "\n",
    "mlp_clf = MLPClassifier(\n",
    "    hidden_layer_sizes=[5], activation=\"relu\", max_iter=2000, random_state=42)\n",
    "\n",
    "mlp_clf.fit(X_train_scaled, y_train)"
   ]
  },
  {
   "cell_type": "code",
   "execution_count": 211,
   "id": "7c169de3-391c-4c48-ae41-16e1121c4a1d",
   "metadata": {
    "tags": []
   },
   "outputs": [],
   "source": [
    "# Let's now check the model performance on the test data\n",
    "\n",
    "# Like train dataset, the test data also gets scaled first, and\n",
    "X_test_scaled = standard_scaler.transform(X_test)\n",
    "\n",
    "# then model performs prediction on these instances\n",
    "predictions_test = mlp_clf.predict(X_test_scaled)"
   ]
  },
  {
   "cell_type": "code",
   "execution_count": 219,
   "id": "7c097e2c-aa8c-4c30-a0e7-9ab89f045c04",
   "metadata": {
    "tags": []
   },
   "outputs": [
    {
     "name": "stdout",
     "output_type": "stream",
     "text": [
      "0.9666666666666667\n"
     ]
    }
   ],
   "source": [
    "# Now, metric accuracy is used to measure the model performance on test data\n",
    "print(accuracy_score(y_test, predictions_test))"
   ]
  },
  {
   "cell_type": "markdown",
   "id": "230e01cd-c83a-4297-9d35-3a6c6e3628fe",
   "metadata": {},
   "source": [
    "It was noticed that MLP performed much better than the Perceptron classifier."
   ]
  },
  {
   "cell_type": "code",
   "execution_count": null,
   "id": "ce7239ad-7715-4d3c-ba84-be99724888ba",
   "metadata": {},
   "outputs": [],
   "source": []
  },
  {
   "cell_type": "markdown",
   "id": "86a2235c-2ad2-4c2b-9a33-2aab71e1ed3a",
   "metadata": {},
   "source": [
    "## The MLP with Keras"
   ]
  },
  {
   "cell_type": "markdown",
   "id": "0897a766-75d4-4066-bb54-9d12fd5af4bc",
   "metadata": {},
   "source": [
    "### Classification MLP With Keras Sequential API"
   ]
  },
  {
   "cell_type": "code",
   "execution_count": 40,
   "id": "23bb79c6-7437-4d02-ab5e-6110571a1f29",
   "metadata": {
    "tags": []
   },
   "outputs": [],
   "source": [
    "# Imports required packages\n",
    "\n",
    "import pandas as pd\n",
    "import numpy as np\n",
    "import tensorflow as tf\n",
    "from tensorflow.keras.datasets import fashion_mnist\n",
    "from sklearn.datasets import fetch_california_housing\n",
    "import matplotlib.pyplot as plt\n",
    "from sklearn.model_selection import train_test_split\n",
    "from pathlib import Path\n",
    "from time import strftime"
   ]
  },
  {
   "cell_type": "code",
   "execution_count": 239,
   "id": "8e9b954b-b1ed-4a97-96e8-2d22d1c63d6d",
   "metadata": {
    "tags": []
   },
   "outputs": [
    {
     "name": "stdout",
     "output_type": "stream",
     "text": [
      "Downloading data from https://storage.googleapis.com/tensorflow/tf-keras-datasets/train-labels-idx1-ubyte.gz\n",
      "29515/29515 [==============================] - 0s 2us/step\n",
      "Downloading data from https://storage.googleapis.com/tensorflow/tf-keras-datasets/train-images-idx3-ubyte.gz\n",
      "26421880/26421880 [==============================] - 5s 0us/step\n",
      "Downloading data from https://storage.googleapis.com/tensorflow/tf-keras-datasets/t10k-labels-idx1-ubyte.gz\n",
      "5148/5148 [==============================] - 0s 0us/step\n",
      "Downloading data from https://storage.googleapis.com/tensorflow/tf-keras-datasets/t10k-images-idx3-ubyte.gz\n",
      "4422102/4422102 [==============================] - 2s 0us/step\n"
     ]
    }
   ],
   "source": [
    "# Loads fashion mnist dataset\n",
    "fashion = fashion_mnist.load_data()"
   ]
  },
  {
   "cell_type": "code",
   "execution_count": 247,
   "id": "c05825b1-083d-4ab9-8811-899d5a382383",
   "metadata": {
    "tags": []
   },
   "outputs": [],
   "source": [
    "# Considering dataset is organized in tuple, items are referenced as follows\n",
    "(X_train_full, y_train_full), (X_test, y_test) = fashion"
   ]
  },
  {
   "cell_type": "code",
   "execution_count": 267,
   "id": "5b77ca94-cb51-4c36-897d-cb9619d08179",
   "metadata": {
    "tags": []
   },
   "outputs": [],
   "source": [
    "# Each training and test example is assigned to one of the following labels.\n",
    "class_names = [\"T-shirt/top\", \"Trouser\", \"Pullover\", \"Dress\", \"Coat\", \"Sandal\", \\\n",
    "               \"Shirt\", \"Sneaker\", \"Bag\", \"Ankle boot\"]"
   ]
  },
  {
   "cell_type": "code",
   "execution_count": 249,
   "id": "ec9452d3-6558-4418-9ad9-5d8653c01d6d",
   "metadata": {
    "tags": []
   },
   "outputs": [
    {
     "name": "stdout",
     "output_type": "stream",
     "text": [
      "Train dataset shape: (60000, 28, 28) \n",
      "Test dataset shape: (10000, 28, 28)\n"
     ]
    }
   ],
   "source": [
    "# Checks the shape of the datasets\n",
    "print(\"Train dataset shape:\", X_train_full.shape,\n",
    "      \"\\nTest dataset shape:\", X_test.shape)"
   ]
  },
  {
   "cell_type": "code",
   "execution_count": 269,
   "id": "c6aca5f3-0368-415c-835e-5dd7e64badb6",
   "metadata": {
    "tags": []
   },
   "outputs": [
    {
     "data": {
      "image/png": "[encoded data removed]",
      "text/plain": [
       "<Figure size 1200x480 with 40 Axes>"
      ]
     },
     "metadata": {},
     "output_type": "display_data"
    }
   ],
   "source": [
    "# Visualizes the dataset by plotting few images\n",
    "\n",
    "n_rows = 4\n",
    "n_cols = 10\n",
    "plt.figure(figsize=(n_cols * 1.2, n_rows * 1.2))\n",
    "for row in range(n_rows):\n",
    "    for col in range(n_cols):\n",
    "        index = n_cols * row + col\n",
    "        plt.subplot(n_rows, n_cols, index + 1)\n",
    "        plt.imshow(X_train_full[index], cmap=\"binary\", interpolation=\"nearest\")\n",
    "        plt.axis('off')\n",
    "        plt.title(class_names[y_train_full[index]])\n",
    "plt.subplots_adjust(wspace=0.2, hspace=0.5)\n",
    "plt.show()"
   ]
  },
  {
   "cell_type": "code",
   "execution_count": 255,
   "id": "474f99f9-58bb-4dad-9894-39fd7d92f1eb",
   "metadata": {
    "tags": []
   },
   "outputs": [],
   "source": [
    "# Splits train dataset further to seperate 5000 instances to be used as validation set\n",
    "\n",
    "X_train, X_val, y_train, y_val = train_test_split(\n",
    "    X_train_full, y_train_full, test_size=5000, random_state=42, stratify=y_train_full)"
   ]
  },
  {
   "cell_type": "code",
   "execution_count": 275,
   "id": "44a6abd4-1bea-4cba-baa5-215d53cb62d6",
   "metadata": {
    "tags": []
   },
   "outputs": [
    {
     "name": "stdout",
     "output_type": "stream",
     "text": [
      "uint8\n"
     ]
    }
   ],
   "source": [
    "# Checks how image pixel intensities are represented in the dataset\n",
    "print(X_train.dtype)"
   ]
  },
  {
   "cell_type": "code",
   "execution_count": 287,
   "id": "2b9f6629-dc5f-4128-a2f7-db710bc14975",
   "metadata": {
    "tags": []
   },
   "outputs": [
    {
     "name": "stdout",
     "output_type": "stream",
     "text": [
      "Min. value: 0 , Max. value: 255\n"
     ]
    }
   ],
   "source": [
    "# Pixel intensities are observed to be represented as integers\n",
    "# Now, shows minimum and maximum values in an image\n",
    "print(\"Min. value:\", X_train[0].min(), \", Max. value:\", X_train[0].max())"
   ]
  },
  {
   "cell_type": "code",
   "execution_count": 289,
   "id": "c9b8e291-372b-4430-9a74-e6f9b4fe5cad",
   "metadata": {
    "tags": []
   },
   "outputs": [],
   "source": [
    "# Pixel intensities are hence scaled down to range 0 to 1 for all instances\n",
    "X_train, X_val, X_test = X_train/255.0, X_val/255.0, X_test/255.0"
   ]
  },
  {
   "cell_type": "code",
   "execution_count": null,
   "id": "b74a7a4d-cece-4a53-9b71-6f809241f73d",
   "metadata": {},
   "outputs": [],
   "source": []
  },
  {
   "cell_type": "markdown",
   "id": "4d031185-88e1-4f39-a24b-3b4459d544a9",
   "metadata": {},
   "source": [
    "**Modeling with Sequential API**"
   ]
  },
  {
   "cell_type": "code",
   "execution_count": 294,
   "id": "4a06bd9b-6d82-4122-bcce-7b272ac0c451",
   "metadata": {
    "tags": []
   },
   "outputs": [
    {
     "name": "stderr",
     "output_type": "stream",
     "text": [
      "2024-08-18 22:31:24.136479: I tensorflow/core/common_runtime/process_util.cc:146] Creating new thread pool with default inter op setting: 2. Tune using inter_op_parallelism_threads for best performance.\n"
     ]
    }
   ],
   "source": [
    "# Random seed for TensorFlow is set to reproduce the following model\n",
    "tf.random.set_seed(42)\n",
    "\n",
    "# Creates an empty model\n",
    "model = tf.keras.Sequential()\n",
    "\n",
    "# All layers are added to the model sequentially\n",
    "\n",
    "model.add(tf.keras.layers.Input(shape=[28,28]))\n",
    "model.add(tf.keras.layers.Flatten())    # Flattens 2D image into 1D\n",
    "model.add(tf.keras.layers.Dense(300, activation=\"relu\"))\n",
    "model.add(tf.keras.layers.Dense(100, activation=\"relu\"))\n",
    "model.add(tf.keras.layers.Dense(10, activation=\"softmax\"))"
   ]
  },
  {
   "cell_type": "code",
   "execution_count": 296,
   "id": "a22e6a7e-3438-47d4-ae60-65e8935f2025",
   "metadata": {
    "tags": []
   },
   "outputs": [
    {
     "name": "stdout",
     "output_type": "stream",
     "text": [
      "Model: \"sequential\"\n",
      "_________________________________________________________________\n",
      " Layer (type)                Output Shape              Param #   \n",
      "=================================================================\n",
      " flatten (Flatten)           (None, 784)               0         \n",
      "                                                                 \n",
      " dense (Dense)               (None, 300)               235500    \n",
      "                                                                 \n",
      " dense_1 (Dense)             (None, 100)               30100     \n",
      "                                                                 \n",
      " dense_2 (Dense)             (None, 10)                1010      \n",
      "                                                                 \n",
      "=================================================================\n",
      "Total params: 266,610\n",
      "Trainable params: 266,610\n",
      "Non-trainable params: 0\n",
      "_________________________________________________________________\n"
     ]
    }
   ],
   "source": [
    "# Prints the summary of the network\n",
    "model.summary()"
   ]
  },
  {
   "cell_type": "code",
   "execution_count": 304,
   "id": "47740444-b39d-4e6a-b04d-effa97198621",
   "metadata": {
    "tags": []
   },
   "outputs": [],
   "source": [
    "# Compiles the model with specified loss function, optimizer and oen or more metrics\n",
    "model.compile(optimizer=\"sgd\", loss=\"sparse_categorical_crossentropy\", metrics=[\"accuracy\"])"
   ]
  },
  {
   "cell_type": "code",
   "execution_count": 306,
   "id": "005ea21d-cd87-49c4-ab5d-b7b301732055",
   "metadata": {
    "tags": []
   },
   "outputs": [
    {
     "name": "stdout",
     "output_type": "stream",
     "text": [
      "Epoch 1/30\n",
      "1719/1719 [==============================] - 12s 7ms/step - loss: 0.7280 - accuracy: 0.7575 - val_loss: 0.4942 - val_accuracy: 0.8282\n",
      "Epoch 2/30\n",
      "1719/1719 [==============================] - 16s 9ms/step - loss: 0.4864 - accuracy: 0.8315 - val_loss: 0.4209 - val_accuracy: 0.8568\n",
      "Epoch 3/30\n",
      "1719/1719 [==============================] - 17s 10ms/step - loss: 0.4411 - accuracy: 0.8441 - val_loss: 0.3941 - val_accuracy: 0.8692\n",
      "Epoch 4/30\n",
      "1719/1719 [==============================] - 15s 9ms/step - loss: 0.4128 - accuracy: 0.8550 - val_loss: 0.3767 - val_accuracy: 0.8722\n",
      "Epoch 5/30\n",
      "1719/1719 [==============================] - 18s 11ms/step - loss: 0.3944 - accuracy: 0.8613 - val_loss: 0.3850 - val_accuracy: 0.8600\n",
      "Epoch 6/30\n",
      "1719/1719 [==============================] - 17s 10ms/step - loss: 0.3787 - accuracy: 0.8651 - val_loss: 0.3561 - val_accuracy: 0.8730\n",
      "Epoch 7/30\n",
      "1719/1719 [==============================] - 16s 9ms/step - loss: 0.3658 - accuracy: 0.8706 - val_loss: 0.3412 - val_accuracy: 0.8780\n",
      "Epoch 8/30\n",
      "1719/1719 [==============================] - 13s 8ms/step - loss: 0.3549 - accuracy: 0.8738 - val_loss: 0.3379 - val_accuracy: 0.8802\n",
      "Epoch 9/30\n",
      "1719/1719 [==============================] - 22s 13ms/step - loss: 0.3445 - accuracy: 0.8773 - val_loss: 0.3292 - val_accuracy: 0.8860\n",
      "Epoch 10/30\n",
      "1719/1719 [==============================] - 20s 11ms/step - loss: 0.3363 - accuracy: 0.8790 - val_loss: 0.3242 - val_accuracy: 0.8858\n",
      "Epoch 11/30\n",
      "1719/1719 [==============================] - 16s 9ms/step - loss: 0.3276 - accuracy: 0.8819 - val_loss: 0.3236 - val_accuracy: 0.8822\n",
      "Epoch 12/30\n",
      "1719/1719 [==============================] - 12s 7ms/step - loss: 0.3201 - accuracy: 0.8856 - val_loss: 0.3204 - val_accuracy: 0.8840\n",
      "Epoch 13/30\n",
      "1719/1719 [==============================] - 18s 10ms/step - loss: 0.3124 - accuracy: 0.8877 - val_loss: 0.3185 - val_accuracy: 0.8838\n",
      "Epoch 14/30\n",
      "1719/1719 [==============================] - 23s 13ms/step - loss: 0.3065 - accuracy: 0.8911 - val_loss: 0.3008 - val_accuracy: 0.8890\n",
      "Epoch 15/30\n",
      "1719/1719 [==============================] - 17s 10ms/step - loss: 0.3002 - accuracy: 0.8908 - val_loss: 0.3087 - val_accuracy: 0.8866\n",
      "Epoch 16/30\n",
      "1719/1719 [==============================] - 17s 10ms/step - loss: 0.2936 - accuracy: 0.8938 - val_loss: 0.2983 - val_accuracy: 0.8924\n",
      "Epoch 17/30\n",
      "1719/1719 [==============================] - 19s 11ms/step - loss: 0.2879 - accuracy: 0.8967 - val_loss: 0.2939 - val_accuracy: 0.8950\n",
      "Epoch 18/30\n",
      "1719/1719 [==============================] - 18s 11ms/step - loss: 0.2828 - accuracy: 0.8977 - val_loss: 0.2937 - val_accuracy: 0.8930\n",
      "Epoch 19/30\n",
      "1719/1719 [==============================] - 17s 10ms/step - loss: 0.2765 - accuracy: 0.9004 - val_loss: 0.3038 - val_accuracy: 0.8914\n",
      "Epoch 20/30\n",
      "1719/1719 [==============================] - 12s 7ms/step - loss: 0.2722 - accuracy: 0.9021 - val_loss: 0.2840 - val_accuracy: 0.8990\n",
      "Epoch 21/30\n",
      "1719/1719 [==============================] - 16s 9ms/step - loss: 0.2671 - accuracy: 0.9037 - val_loss: 0.2995 - val_accuracy: 0.8930\n",
      "Epoch 22/30\n",
      "1719/1719 [==============================] - 16s 10ms/step - loss: 0.2621 - accuracy: 0.9052 - val_loss: 0.3125 - val_accuracy: 0.8898\n",
      "Epoch 23/30\n",
      "1719/1719 [==============================] - 23s 13ms/step - loss: 0.2576 - accuracy: 0.9075 - val_loss: 0.2941 - val_accuracy: 0.8980\n",
      "Epoch 24/30\n",
      "1719/1719 [==============================] - 20s 12ms/step - loss: 0.2535 - accuracy: 0.9087 - val_loss: 0.3096 - val_accuracy: 0.8866\n",
      "Epoch 25/30\n",
      "1719/1719 [==============================] - 12s 7ms/step - loss: 0.2489 - accuracy: 0.9102 - val_loss: 0.2857 - val_accuracy: 0.8966\n",
      "Epoch 26/30\n",
      "1719/1719 [==============================] - 15s 9ms/step - loss: 0.2458 - accuracy: 0.9116 - val_loss: 0.2818 - val_accuracy: 0.8952\n",
      "Epoch 27/30\n",
      "1719/1719 [==============================] - 21s 12ms/step - loss: 0.2406 - accuracy: 0.9140 - val_loss: 0.2736 - val_accuracy: 0.9018\n",
      "Epoch 28/30\n",
      "1719/1719 [==============================] - 15s 9ms/step - loss: 0.2368 - accuracy: 0.9150 - val_loss: 0.3029 - val_accuracy: 0.8898\n",
      "Epoch 29/30\n",
      "1719/1719 [==============================] - 15s 9ms/step - loss: 0.2326 - accuracy: 0.9169 - val_loss: 0.3037 - val_accuracy: 0.8882\n",
      "Epoch 30/30\n",
      "1719/1719 [==============================] - 11s 6ms/step - loss: 0.2292 - accuracy: 0.9184 - val_loss: 0.2968 - val_accuracy: 0.8924\n"
     ]
    }
   ],
   "source": [
    "# Trains and evalutes the model\n",
    "\n",
    "history = model.fit(X_train, y_train, epochs=30, validation_data=(X_val, y_val))"
   ]
  },
  {
   "cell_type": "code",
   "execution_count": null,
   "id": "223f16e6-d65f-4880-9f63-1db135543b84",
   "metadata": {},
   "outputs": [],
   "source": []
  },
  {
   "cell_type": "code",
   "execution_count": 322,
   "id": "c258e7d5-a543-4ccd-b3ed-aa88f00f1a6b",
   "metadata": {
    "tags": []
   },
   "outputs": [
    {
     "data": {
      "image/png": "[encoded data removed]",
      "text/plain": [
       "<Figure size 800x500 with 1 Axes>"
      ]
     },
     "metadata": {},
     "output_type": "display_data"
    }
   ],
   "source": [
    "# Plots the learning curve\n",
    "\n",
    "pd.DataFrame(history.history).plot(\n",
    "    figsize=(8,5), grid=True, style=[\"r--\", \"r--.\", \"b-\", \"b-*\"], xlabel=\"Epoch\", xlim=[0, 29], ylim=[0, 1])\n",
    "plt.show()"
   ]
  },
  {
   "cell_type": "code",
   "execution_count": 324,
   "id": "fc120efd-5381-4dc9-8c5b-202408424056",
   "metadata": {
    "tags": []
   },
   "outputs": [
    {
     "name": "stdout",
     "output_type": "stream",
     "text": [
      "313/313 [==============================] - 1s 2ms/step - loss: 0.3541 - accuracy: 0.8741\n"
     ]
    },
    {
     "data": {
      "text/plain": [
       "[0.35405978560447693, 0.8741000294685364]"
      ]
     },
     "execution_count": 324,
     "metadata": {},
     "output_type": "execute_result"
    }
   ],
   "source": [
    "# Now, metric accuracy is used to measure the model performance on test data\n",
    "model.evaluate(X_test, y_test)"
   ]
  },
  {
   "cell_type": "code",
   "execution_count": 332,
   "id": "ba3b66b6-7393-4f63-a7a8-c639b04a06a0",
   "metadata": {
    "tags": []
   },
   "outputs": [
    {
     "name": "stdout",
     "output_type": "stream",
     "text": [
      "313/313 [==============================] - 1s 3ms/step\n"
     ]
    }
   ],
   "source": [
    "# Let's the model predict on test instances\n",
    "predictions_proba_test = model.predict(X_test)"
   ]
  },
  {
   "cell_type": "code",
   "execution_count": 334,
   "id": "14c4c89a-885d-4635-8fe3-e68697b1ebc2",
   "metadata": {
    "tags": []
   },
   "outputs": [
    {
     "data": {
      "text/plain": [
       "array([[0.  , 0.  , 0.  , ..., 0.01, 0.  , 0.99],\n",
       "       [0.  , 0.  , 0.97, ..., 0.  , 0.  , 0.  ],\n",
       "       [0.  , 1.  , 0.  , ..., 0.  , 0.  , 0.  ],\n",
       "       ...,\n",
       "       [0.03, 0.  , 0.  , ..., 0.  , 0.96, 0.  ],\n",
       "       [0.  , 1.  , 0.  , ..., 0.  , 0.  , 0.  ],\n",
       "       [0.  , 0.  , 0.  , ..., 0.  , 0.  , 0.  ]], dtype=float32)"
      ]
     },
     "execution_count": 334,
     "metadata": {},
     "output_type": "execute_result"
    }
   ],
   "source": [
    "# Rounds off the per-class probability to two decimal places\n",
    "predictions_proba_test.round(2)"
   ]
  },
  {
   "cell_type": "code",
   "execution_count": 336,
   "id": "ea5b886c-4871-4922-a30a-9b2343cf9b5e",
   "metadata": {
    "tags": []
   },
   "outputs": [],
   "source": [
    "# Extracts the final predictions from the probability distribution\n",
    "predictions_test = predictions_proba_test.argmax(axis=1)"
   ]
  },
  {
   "cell_type": "code",
   "execution_count": 342,
   "id": "561ec227-e495-4ee4-90b3-d78b7e31cc56",
   "metadata": {
    "tags": []
   },
   "outputs": [
    {
     "data": {
      "text/plain": [
       "array(['Ankle boot', 'Pullover', 'Trouser'], dtype='<U11')"
      ]
     },
     "execution_count": 342,
     "metadata": {},
     "output_type": "execute_result"
    }
   ],
   "source": [
    "# prints class of the first three predicted items from the test dataset\n",
    "np.array(class_names)[predictions_test[:3]]"
   ]
  },
  {
   "cell_type": "code",
   "execution_count": 344,
   "id": "edda4644-f243-4470-b0c3-e0c4c99fa8fd",
   "metadata": {
    "tags": []
   },
   "outputs": [
    {
     "data": {
      "text/plain": [
       "array(['Ankle boot', 'Pullover', 'Trouser'], dtype='<U11')"
      ]
     },
     "execution_count": 344,
     "metadata": {},
     "output_type": "execute_result"
    }
   ],
   "source": [
    "# Now, check the actual class names for these three items from the testing dataset\n",
    "np.array(class_names)[y_test[:3]]"
   ]
  },
  {
   "cell_type": "markdown",
   "id": "35e719f3-5454-419b-bd0c-621f4c6d46f6",
   "metadata": {},
   "source": [
    "It was seen that the classifier actually classified all three images correctly."
   ]
  },
  {
   "cell_type": "code",
   "execution_count": null,
   "id": "361e776e-7985-48d4-bf3f-bc77cfd5ada0",
   "metadata": {},
   "outputs": [],
   "source": []
  },
  {
   "cell_type": "markdown",
   "id": "17287506-ec5f-49e2-b071-7846715c1b1e",
   "metadata": {},
   "source": [
    "### Regression MLP With Keras Sequential API"
   ]
  },
  {
   "cell_type": "code",
   "execution_count": 42,
   "id": "4934744b-1605-4ba2-ac6f-8f2e2ed03292",
   "metadata": {
    "tags": []
   },
   "outputs": [],
   "source": [
    "# Loads Californial housing dataset.\n",
    "housing = fetch_california_housing(as_frame=True)"
   ]
  },
  {
   "cell_type": "code",
   "execution_count": 44,
   "id": "55c49820-a1a3-475f-9965-d108934d8fe2",
   "metadata": {
    "tags": []
   },
   "outputs": [],
   "source": [
    "# Splits the dataset into train and test dataset\n",
    "X_train_full, X_test, y_train_full, y_test = train_test_split(\n",
    "    housing.data, housing.target, test_size=0.25, random_state=42)"
   ]
  },
  {
   "cell_type": "code",
   "execution_count": 46,
   "id": "2309dc73-2ab5-41b9-88a3-2b7f961b4414",
   "metadata": {
    "tags": []
   },
   "outputs": [],
   "source": [
    "# Splits train dataset further to seperate 25% instances to be used as validation set\n",
    "X_train, X_val, y_train, y_val = train_test_split(\n",
    "    X_train_full, y_train_full, test_size=0.25, random_state=42)"
   ]
  },
  {
   "cell_type": "code",
   "execution_count": 372,
   "id": "9ecb74cf-353d-47dd-851c-edf245a6fb9b",
   "metadata": {
    "tags": []
   },
   "outputs": [],
   "source": [
    "# Random seed for TensorFlow is set to reproduce the following model\n",
    "tf.random.set_seed(42)\n",
    "\n",
    "# Creates an empty model\n",
    "model = tf.keras.Sequential()\n",
    "\n",
    "# All layers are added to the model sequentially\n",
    "\n",
    "model.add(tf.keras.layers.Normalization())\n",
    "model.add(tf.keras.layers.Dense(50, activation=\"relu\"))\n",
    "model.add(tf.keras.layers.Dense(50, activation=\"relu\"))\n",
    "model.add(tf.keras.layers.Dense(50, activation=\"relu\"))\n",
    "model.add(tf.keras.layers.Dense(1))"
   ]
  },
  {
   "cell_type": "code",
   "execution_count": 374,
   "id": "a483d641-6e42-40d3-90e4-0a6f058ea790",
   "metadata": {
    "tags": []
   },
   "outputs": [],
   "source": [
    "# Compiles the model with specified loss function, optimizer and oen or more metrics\n",
    "model.compile(\n",
    "    optimizer=tf.keras.optimizers.Adam(learning_rate=1e-3), \n",
    "    loss=\"mse\", \n",
    "    metrics=[\"RootMeanSquaredError\"])"
   ]
  },
  {
   "cell_type": "code",
   "execution_count": 376,
   "id": "9d4de5b8-74ff-474a-9b67-17332daa16d6",
   "metadata": {
    "tags": []
   },
   "outputs": [
    {
     "name": "stdout",
     "output_type": "stream",
     "text": [
      "Epoch 1/20\n",
      "363/363 [==============================] - 2s 4ms/step - loss: 0.8212 - root_mean_squared_error: 0.9062 - val_loss: 0.9721 - val_root_mean_squared_error: 0.9859\n",
      "Epoch 2/20\n",
      "363/363 [==============================] - 1s 3ms/step - loss: 0.3890 - root_mean_squared_error: 0.6237 - val_loss: 1.8968 - val_root_mean_squared_error: 1.3772\n",
      "Epoch 3/20\n",
      "363/363 [==============================] - 1s 3ms/step - loss: 0.3716 - root_mean_squared_error: 0.6096 - val_loss: 0.3309 - val_root_mean_squared_error: 0.5752\n",
      "Epoch 4/20\n",
      "363/363 [==============================] - 1s 4ms/step - loss: 0.3433 - root_mean_squared_error: 0.5859 - val_loss: 0.5711 - val_root_mean_squared_error: 0.7557\n",
      "Epoch 5/20\n",
      "363/363 [==============================] - 1s 3ms/step - loss: 0.3329 - root_mean_squared_error: 0.5770 - val_loss: 0.3708 - val_root_mean_squared_error: 0.6089\n",
      "Epoch 6/20\n",
      "363/363 [==============================] - 1s 3ms/step - loss: 0.3183 - root_mean_squared_error: 0.5641 - val_loss: 1.0649 - val_root_mean_squared_error: 1.0320\n",
      "Epoch 7/20\n",
      "363/363 [==============================] - 1s 3ms/step - loss: 0.3222 - root_mean_squared_error: 0.5676 - val_loss: 0.8936 - val_root_mean_squared_error: 0.9453\n",
      "Epoch 8/20\n",
      "363/363 [==============================] - 1s 3ms/step - loss: 0.3071 - root_mean_squared_error: 0.5542 - val_loss: 6.0475 - val_root_mean_squared_error: 2.4592\n",
      "Epoch 9/20\n",
      "363/363 [==============================] - 1s 2ms/step - loss: 0.3239 - root_mean_squared_error: 0.5691 - val_loss: 1.2638 - val_root_mean_squared_error: 1.1242\n",
      "Epoch 10/20\n",
      "363/363 [==============================] - 1s 3ms/step - loss: 0.3076 - root_mean_squared_error: 0.5546 - val_loss: 0.4293 - val_root_mean_squared_error: 0.6552\n",
      "Epoch 11/20\n",
      "363/363 [==============================] - 1s 2ms/step - loss: 0.2913 - root_mean_squared_error: 0.5397 - val_loss: 0.2769 - val_root_mean_squared_error: 0.5262\n",
      "Epoch 12/20\n",
      "363/363 [==============================] - 1s 3ms/step - loss: 0.2959 - root_mean_squared_error: 0.5439 - val_loss: 0.3125 - val_root_mean_squared_error: 0.5591\n",
      "Epoch 13/20\n",
      "363/363 [==============================] - 1s 3ms/step - loss: 0.2852 - root_mean_squared_error: 0.5341 - val_loss: 0.2953 - val_root_mean_squared_error: 0.5434\n",
      "Epoch 14/20\n",
      "363/363 [==============================] - 1s 4ms/step - loss: 0.2848 - root_mean_squared_error: 0.5336 - val_loss: 0.2737 - val_root_mean_squared_error: 0.5232\n",
      "Epoch 15/20\n",
      "363/363 [==============================] - 1s 4ms/step - loss: 0.2848 - root_mean_squared_error: 0.5336 - val_loss: 0.3027 - val_root_mean_squared_error: 0.5502\n",
      "Epoch 16/20\n",
      "363/363 [==============================] - 1s 3ms/step - loss: 0.2803 - root_mean_squared_error: 0.5294 - val_loss: 0.2779 - val_root_mean_squared_error: 0.5271\n",
      "Epoch 17/20\n",
      "363/363 [==============================] - 1s 3ms/step - loss: 0.2780 - root_mean_squared_error: 0.5273 - val_loss: 1.0083 - val_root_mean_squared_error: 1.0041\n",
      "Epoch 18/20\n",
      "363/363 [==============================] - 1s 4ms/step - loss: 0.2762 - root_mean_squared_error: 0.5255 - val_loss: 0.2920 - val_root_mean_squared_error: 0.5403\n",
      "Epoch 19/20\n",
      "363/363 [==============================] - 1s 4ms/step - loss: 0.2725 - root_mean_squared_error: 0.5220 - val_loss: 0.5741 - val_root_mean_squared_error: 0.7577\n",
      "Epoch 20/20\n",
      "363/363 [==============================] - 1s 3ms/step - loss: 0.2758 - root_mean_squared_error: 0.5251 - val_loss: 0.3117 - val_root_mean_squared_error: 0.5583\n"
     ]
    }
   ],
   "source": [
    "# Normalization layer must be fitted to the training data before the model is fitted\n",
    "model.layers[0].adapt(X_train)\n",
    "\n",
    "# Trains and evalutes the model\n",
    "history = model.fit(X_train, y_train, epochs=20, validation_data=(X_val, y_val))"
   ]
  },
  {
   "cell_type": "code",
   "execution_count": 378,
   "id": "477f47a3-9878-4712-9091-1c07d57dc7d7",
   "metadata": {
    "tags": []
   },
   "outputs": [
    {
     "data": {
      "image/png": "[encoded data removed]",
      "text/plain": [
       "<Figure size 800x500 with 1 Axes>"
      ]
     },
     "metadata": {},
     "output_type": "display_data"
    }
   ],
   "source": [
    "# Plots the learning curve\n",
    "\n",
    "pd.DataFrame(history.history).plot(\n",
    "    figsize=(8,5), grid=True, style=[\"r--\", \"r--.\", \"b-\", \"b-*\"], xlabel=\"Epoch\", xlim=[0, 19])\n",
    "plt.show()\n"
   ]
  },
  {
   "cell_type": "code",
   "execution_count": 380,
   "id": "20c4db71-476c-4edc-b4e8-cd645124b19b",
   "metadata": {
    "tags": []
   },
   "outputs": [
    {
     "name": "stdout",
     "output_type": "stream",
     "text": [
      "162/162 [==============================] - 0s 2ms/step - loss: 0.2861 - root_mean_squared_error: 0.5349\n"
     ]
    },
    {
     "data": {
      "text/plain": [
       "[0.28613370656967163, 0.5349146723747253]"
      ]
     },
     "execution_count": 380,
     "metadata": {},
     "output_type": "execute_result"
    }
   ],
   "source": [
    "# Now, metric RMSE is used to measure the model performance on test data\n",
    "model.evaluate(X_test, y_test)"
   ]
  },
  {
   "cell_type": "code",
   "execution_count": null,
   "id": "7ec87a03-9c99-4b08-9f97-47b86962a077",
   "metadata": {},
   "outputs": [],
   "source": []
  },
  {
   "cell_type": "markdown",
   "id": "9278a457-b26a-4fb8-8b71-da8122695491",
   "metadata": {},
   "source": [
    "### Callbacks & TensorBoard"
   ]
  },
  {
   "cell_type": "code",
   "execution_count": 52,
   "id": "3f9fd9e8-d9d0-4956-a006-ed843a5276ee",
   "metadata": {},
   "outputs": [],
   "source": [
    "# Creates checkpoint to save best weights against model performance on validation \n",
    "# dataset while training\n",
    "\n",
    "save_weights_callback = tf.keras.callbacks.ModelCheckpoint(\n",
    "    \"save_weights_callback\", save_best_only=True)"
   ]
  },
  {
   "cell_type": "code",
   "execution_count": 6,
   "id": "2164333d-0ed0-43ec-8d9f-60afe931d6fb",
   "metadata": {
    "tags": []
   },
   "outputs": [],
   "source": [
    "# Stops training when it measures no progress on the validation set for a specified number of epochs\n",
    "early_stopping_callback = tf.keras.callbacks.EarlyStopping(\n",
    "    patience=5, restore_best_weights=True)"
   ]
  },
  {
   "cell_type": "code",
   "execution_count": 20,
   "id": "f7ef3bb0-8a66-40d5-a34d-1e9373e36f23",
   "metadata": {
    "tags": []
   },
   "outputs": [],
   "source": [
    "def get_run_logdir(logdir=\"logs\"):\n",
    "    \"\"\"\n",
    "    Returns directory path to store all logs into. For convenience, log files for each training-run \n",
    "    gets stored in a folder named as timestamp. By default, it considers the root log folder name\n",
    "    as \"logs\". For otherwise, that needs to be passed in the parameter.\n",
    "    \"\"\"\n",
    "    return Path(logdir) / strftime(\"%Y_%m_%d_%H_%M_%S\")\n"
   ]
  },
  {
   "cell_type": "code",
   "execution_count": 34,
   "id": "22e56e73-88ce-4df4-98f2-e2480cf9a2b1",
   "metadata": {
    "tags": []
   },
   "outputs": [],
   "source": [
    "# Gets the log path for current training run\n",
    "run_logdir = get_run_logdir()\n",
    "\n",
    "# Sets callback for TensorBoard especially to visualize learning curves\n",
    "tensorboard_callback = tf.keras.callbacks.TensorBoard(run_logdir)"
   ]
  },
  {
   "cell_type": "markdown",
   "id": "4c283e63-4f67-4978-9a80-d27a06cd4079",
   "metadata": {},
   "source": [
    "Now, continue with the housing dataset with the same model used in the previous experiment but with callbacks this time."
   ]
  },
  {
   "cell_type": "code",
   "execution_count": 48,
   "id": "2a9f111e-973f-4dec-9b2a-1644de1760fa",
   "metadata": {
    "tags": []
   },
   "outputs": [
    {
     "name": "stderr",
     "output_type": "stream",
     "text": [
      "2024-08-19 09:23:53.944259: I tensorflow/core/common_runtime/process_util.cc:146] Creating new thread pool with default inter op setting: 2. Tune using inter_op_parallelism_threads for best performance.\n"
     ]
    }
   ],
   "source": [
    "# Resets all the keras states\n",
    "tf.keras.backend.clear_session()\n",
    "\n",
    "# Random seed for TensorFlow is set to reproduce the following model\n",
    "tf.random.set_seed(42)\n",
    "\n",
    "# Creates an empty model\n",
    "model = tf.keras.Sequential()\n",
    "\n",
    "# All layers are added to the model sequentially\n",
    "\n",
    "model.add(tf.keras.layers.Normalization())\n",
    "model.add(tf.keras.layers.Dense(50, activation=\"relu\"))\n",
    "model.add(tf.keras.layers.Dense(50, activation=\"relu\"))\n",
    "model.add(tf.keras.layers.Dense(50, activation=\"relu\"))\n",
    "model.add(tf.keras.layers.Dense(1))"
   ]
  },
  {
   "cell_type": "code",
   "execution_count": 50,
   "id": "d4390218-47f1-4e23-a64f-abe03f867113",
   "metadata": {
    "tags": []
   },
   "outputs": [],
   "source": [
    "# Compiles the model with specified loss function, optimizer and oen or more metrics\n",
    "model.compile(\n",
    "    optimizer=tf.keras.optimizers.Adam(learning_rate=1e-3), \n",
    "    loss=\"mse\", \n",
    "    metrics=[\"RootMeanSquaredError\"])"
   ]
  },
  {
   "cell_type": "code",
   "execution_count": 54,
   "id": "ab371083-4d4c-4f50-9c5e-164c9ebe468c",
   "metadata": {
    "tags": []
   },
   "outputs": [
    {
     "name": "stdout",
     "output_type": "stream",
     "text": [
      "Epoch 1/100\n",
      "363/363 [==============================] - ETA: 0s - loss: 0.9036 - root_mean_squared_error: 0.9506"
     ]
    },
    {
     "name": "stderr",
     "output_type": "stream",
     "text": [
      "WARNING:absl:Found untraced functions such as _update_step_xla while saving (showing 1 of 1). These functions will not be directly callable after loading.\n"
     ]
    },
    {
     "name": "stdout",
     "output_type": "stream",
     "text": [
      "INFO:tensorflow:Assets written to: save_weights_callback/assets\n"
     ]
    },
    {
     "name": "stderr",
     "output_type": "stream",
     "text": [
      "INFO:tensorflow:Assets written to: save_weights_callback/assets\n"
     ]
    },
    {
     "name": "stdout",
     "output_type": "stream",
     "text": [
      "363/363 [==============================] - 3s 7ms/step - loss: 0.9036 - root_mean_squared_error: 0.9506 - val_loss: 0.4150 - val_root_mean_squared_error: 0.6442\n",
      "Epoch 2/100\n",
      "363/363 [==============================] - 2s 4ms/step - loss: 0.3717 - root_mean_squared_error: 0.6097 - val_loss: 0.7792 - val_root_mean_squared_error: 0.8827\n",
      "Epoch 3/100\n",
      "363/363 [==============================] - ETA: 0s - loss: 0.3515 - root_mean_squared_error: 0.5929"
     ]
    },
    {
     "name": "stderr",
     "output_type": "stream",
     "text": [
      "WARNING:absl:Found untraced functions such as _update_step_xla while saving (showing 1 of 1). These functions will not be directly callable after loading.\n"
     ]
    },
    {
     "name": "stdout",
     "output_type": "stream",
     "text": [
      "INFO:tensorflow:Assets written to: save_weights_callback/assets\n"
     ]
    },
    {
     "name": "stderr",
     "output_type": "stream",
     "text": [
      "INFO:tensorflow:Assets written to: save_weights_callback/assets\n"
     ]
    },
    {
     "name": "stdout",
     "output_type": "stream",
     "text": [
      "363/363 [==============================] - 3s 7ms/step - loss: 0.3515 - root_mean_squared_error: 0.5929 - val_loss: 0.3461 - val_root_mean_squared_error: 0.5883\n",
      "Epoch 4/100\n",
      "363/363 [==============================] - 1s 3ms/step - loss: 0.3420 - root_mean_squared_error: 0.5848 - val_loss: 0.9717 - val_root_mean_squared_error: 0.9857\n",
      "Epoch 5/100\n",
      "363/363 [==============================] - 1s 4ms/step - loss: 0.3277 - root_mean_squared_error: 0.5725 - val_loss: 0.5438 - val_root_mean_squared_error: 0.7374\n",
      "Epoch 6/100\n",
      "363/363 [==============================] - 1s 3ms/step - loss: 0.3210 - root_mean_squared_error: 0.5666 - val_loss: 1.7632 - val_root_mean_squared_error: 1.3278\n",
      "Epoch 7/100\n",
      "363/363 [==============================] - 1s 3ms/step - loss: 0.3277 - root_mean_squared_error: 0.5725 - val_loss: 0.6731 - val_root_mean_squared_error: 0.8205\n",
      "Epoch 8/100\n",
      "363/363 [==============================] - 1s 3ms/step - loss: 0.3087 - root_mean_squared_error: 0.5556 - val_loss: 2.0012 - val_root_mean_squared_error: 1.4146\n",
      "Epoch 9/100\n",
      "363/363 [==============================] - 1s 4ms/step - loss: 0.3068 - root_mean_squared_error: 0.5539 - val_loss: 0.4557 - val_root_mean_squared_error: 0.6751\n",
      "Epoch 10/100\n",
      "363/363 [==============================] - 1s 4ms/step - loss: 0.2942 - root_mean_squared_error: 0.5424 - val_loss: 1.2465 - val_root_mean_squared_error: 1.1165\n",
      "Epoch 11/100\n",
      "351/363 [============================>.] - ETA: 0s - loss: 0.2847 - root_mean_squared_error: 0.5336"
     ]
    },
    {
     "name": "stderr",
     "output_type": "stream",
     "text": [
      "WARNING:absl:Found untraced functions such as _update_step_xla while saving (showing 1 of 1). These functions will not be directly callable after loading.\n"
     ]
    },
    {
     "name": "stdout",
     "output_type": "stream",
     "text": [
      "INFO:tensorflow:Assets written to: save_weights_callback/assets\n"
     ]
    },
    {
     "name": "stderr",
     "output_type": "stream",
     "text": [
      "INFO:tensorflow:Assets written to: save_weights_callback/assets\n"
     ]
    },
    {
     "name": "stdout",
     "output_type": "stream",
     "text": [
      "363/363 [==============================] - 2s 6ms/step - loss: 0.2897 - root_mean_squared_error: 0.5382 - val_loss: 0.3434 - val_root_mean_squared_error: 0.5860\n",
      "Epoch 12/100\n",
      "363/363 [==============================] - 1s 3ms/step - loss: 0.2935 - root_mean_squared_error: 0.5418 - val_loss: 0.6415 - val_root_mean_squared_error: 0.8010\n",
      "Epoch 13/100\n",
      "355/363 [============================>.] - ETA: 0s - loss: 0.2820 - root_mean_squared_error: 0.5310"
     ]
    },
    {
     "name": "stderr",
     "output_type": "stream",
     "text": [
      "WARNING:absl:Found untraced functions such as _update_step_xla while saving (showing 1 of 1). These functions will not be directly callable after loading.\n"
     ]
    },
    {
     "name": "stdout",
     "output_type": "stream",
     "text": [
      "INFO:tensorflow:Assets written to: save_weights_callback/assets\n"
     ]
    },
    {
     "name": "stderr",
     "output_type": "stream",
     "text": [
      "INFO:tensorflow:Assets written to: save_weights_callback/assets\n"
     ]
    },
    {
     "name": "stdout",
     "output_type": "stream",
     "text": [
      "363/363 [==============================] - 2s 4ms/step - loss: 0.2817 - root_mean_squared_error: 0.5307 - val_loss: 0.2815 - val_root_mean_squared_error: 0.5306\n",
      "Epoch 14/100\n",
      "363/363 [==============================] - 1s 4ms/step - loss: 0.2778 - root_mean_squared_error: 0.5271 - val_loss: 0.5325 - val_root_mean_squared_error: 0.7297\n",
      "Epoch 15/100\n",
      "363/363 [==============================] - 1s 3ms/step - loss: 0.2788 - root_mean_squared_error: 0.5280 - val_loss: 0.3269 - val_root_mean_squared_error: 0.5717\n",
      "Epoch 16/100\n",
      "363/363 [==============================] - 1s 4ms/step - loss: 0.2744 - root_mean_squared_error: 0.5238 - val_loss: 0.4235 - val_root_mean_squared_error: 0.6507\n",
      "Epoch 17/100\n",
      "363/363 [==============================] - ETA: 0s - loss: 0.2718 - root_mean_squared_error: 0.5213"
     ]
    },
    {
     "name": "stderr",
     "output_type": "stream",
     "text": [
      "WARNING:absl:Found untraced functions such as _update_step_xla while saving (showing 1 of 1). These functions will not be directly callable after loading.\n"
     ]
    },
    {
     "name": "stdout",
     "output_type": "stream",
     "text": [
      "INFO:tensorflow:Assets written to: save_weights_callback/assets\n"
     ]
    },
    {
     "name": "stderr",
     "output_type": "stream",
     "text": [
      "INFO:tensorflow:Assets written to: save_weights_callback/assets\n"
     ]
    },
    {
     "name": "stdout",
     "output_type": "stream",
     "text": [
      "363/363 [==============================] - 2s 6ms/step - loss: 0.2718 - root_mean_squared_error: 0.5213 - val_loss: 0.2803 - val_root_mean_squared_error: 0.5294\n",
      "Epoch 18/100\n",
      "363/363 [==============================] - 1s 3ms/step - loss: 0.2664 - root_mean_squared_error: 0.5161 - val_loss: 0.4709 - val_root_mean_squared_error: 0.6862\n",
      "Epoch 19/100\n",
      "363/363 [==============================] - 1s 4ms/step - loss: 0.2675 - root_mean_squared_error: 0.5172 - val_loss: 0.3717 - val_root_mean_squared_error: 0.6097\n",
      "Epoch 20/100\n",
      "363/363 [==============================] - 1s 3ms/step - loss: 0.2684 - root_mean_squared_error: 0.5181 - val_loss: 0.4596 - val_root_mean_squared_error: 0.6779\n",
      "Epoch 21/100\n",
      "363/363 [==============================] - 1s 3ms/step - loss: 0.2623 - root_mean_squared_error: 0.5121 - val_loss: 0.3249 - val_root_mean_squared_error: 0.5700\n",
      "Epoch 22/100\n",
      "348/363 [===========================>..] - ETA: 0s - loss: 0.2550 - root_mean_squared_error: 0.5049"
     ]
    },
    {
     "name": "stderr",
     "output_type": "stream",
     "text": [
      "WARNING:absl:Found untraced functions such as _update_step_xla while saving (showing 1 of 1). These functions will not be directly callable after loading.\n"
     ]
    },
    {
     "name": "stdout",
     "output_type": "stream",
     "text": [
      "INFO:tensorflow:Assets written to: save_weights_callback/assets\n"
     ]
    },
    {
     "name": "stderr",
     "output_type": "stream",
     "text": [
      "INFO:tensorflow:Assets written to: save_weights_callback/assets\n"
     ]
    },
    {
     "name": "stdout",
     "output_type": "stream",
     "text": [
      "363/363 [==============================] - 2s 4ms/step - loss: 0.2579 - root_mean_squared_error: 0.5078 - val_loss: 0.2695 - val_root_mean_squared_error: 0.5191\n",
      "Epoch 23/100\n",
      "363/363 [==============================] - 1s 3ms/step - loss: 0.2549 - root_mean_squared_error: 0.5049 - val_loss: 0.2814 - val_root_mean_squared_error: 0.5305\n",
      "Epoch 24/100\n",
      "363/363 [==============================] - 1s 3ms/step - loss: 0.2557 - root_mean_squared_error: 0.5057 - val_loss: 0.2920 - val_root_mean_squared_error: 0.5403\n",
      "Epoch 25/100\n",
      "363/363 [==============================] - 1s 3ms/step - loss: 0.2536 - root_mean_squared_error: 0.5036 - val_loss: 0.3012 - val_root_mean_squared_error: 0.5488\n",
      "Epoch 26/100\n",
      "363/363 [==============================] - 1s 4ms/step - loss: 0.2520 - root_mean_squared_error: 0.5020 - val_loss: 0.2704 - val_root_mean_squared_error: 0.5200\n",
      "Epoch 27/100\n",
      "356/363 [============================>.] - ETA: 0s - loss: 0.2480 - root_mean_squared_error: 0.4980"
     ]
    },
    {
     "name": "stderr",
     "output_type": "stream",
     "text": [
      "WARNING:absl:Found untraced functions such as _update_step_xla while saving (showing 1 of 1). These functions will not be directly callable after loading.\n"
     ]
    },
    {
     "name": "stdout",
     "output_type": "stream",
     "text": [
      "INFO:tensorflow:Assets written to: save_weights_callback/assets\n"
     ]
    },
    {
     "name": "stderr",
     "output_type": "stream",
     "text": [
      "INFO:tensorflow:Assets written to: save_weights_callback/assets\n"
     ]
    },
    {
     "name": "stdout",
     "output_type": "stream",
     "text": [
      "363/363 [==============================] - 2s 4ms/step - loss: 0.2486 - root_mean_squared_error: 0.4986 - val_loss: 0.2691 - val_root_mean_squared_error: 0.5187\n",
      "Epoch 28/100\n",
      "363/363 [==============================] - 1s 2ms/step - loss: 0.2500 - root_mean_squared_error: 0.5000 - val_loss: 0.4507 - val_root_mean_squared_error: 0.6714\n",
      "Epoch 29/100\n",
      "363/363 [==============================] - 1s 2ms/step - loss: 0.2469 - root_mean_squared_error: 0.4969 - val_loss: 0.4855 - val_root_mean_squared_error: 0.6968\n",
      "Epoch 30/100\n",
      "363/363 [==============================] - 1s 3ms/step - loss: 0.2468 - root_mean_squared_error: 0.4968 - val_loss: 0.3271 - val_root_mean_squared_error: 0.5719\n",
      "Epoch 31/100\n",
      "347/363 [===========================>..] - ETA: 0s - loss: 0.2490 - root_mean_squared_error: 0.4990"
     ]
    },
    {
     "name": "stderr",
     "output_type": "stream",
     "text": [
      "WARNING:absl:Found untraced functions such as _update_step_xla while saving (showing 1 of 1). These functions will not be directly callable after loading.\n"
     ]
    },
    {
     "name": "stdout",
     "output_type": "stream",
     "text": [
      "INFO:tensorflow:Assets written to: save_weights_callback/assets\n"
     ]
    },
    {
     "name": "stderr",
     "output_type": "stream",
     "text": [
      "INFO:tensorflow:Assets written to: save_weights_callback/assets\n"
     ]
    },
    {
     "name": "stdout",
     "output_type": "stream",
     "text": [
      "363/363 [==============================] - 1s 4ms/step - loss: 0.2482 - root_mean_squared_error: 0.4982 - val_loss: 0.2586 - val_root_mean_squared_error: 0.5085\n",
      "Epoch 32/100\n",
      "363/363 [==============================] - 1s 3ms/step - loss: 0.2441 - root_mean_squared_error: 0.4940 - val_loss: 0.3775 - val_root_mean_squared_error: 0.6144\n",
      "Epoch 33/100\n",
      "363/363 [==============================] - 1s 3ms/step - loss: 0.2411 - root_mean_squared_error: 0.4911 - val_loss: 0.2789 - val_root_mean_squared_error: 0.5281\n",
      "Epoch 34/100\n",
      "363/363 [==============================] - 1s 4ms/step - loss: 0.2376 - root_mean_squared_error: 0.4874 - val_loss: 0.3101 - val_root_mean_squared_error: 0.5569\n",
      "Epoch 35/100\n",
      "363/363 [==============================] - 1s 3ms/step - loss: 0.2400 - root_mean_squared_error: 0.4899 - val_loss: 0.2902 - val_root_mean_squared_error: 0.5387\n",
      "Epoch 36/100\n",
      "363/363 [==============================] - 1s 3ms/step - loss: 0.2478 - root_mean_squared_error: 0.4978 - val_loss: 0.2646 - val_root_mean_squared_error: 0.5144\n",
      "Epoch 37/100\n",
      "363/363 [==============================] - 1s 3ms/step - loss: 0.2414 - root_mean_squared_error: 0.4913 - val_loss: 0.4971 - val_root_mean_squared_error: 0.7051\n",
      "Epoch 38/100\n",
      "363/363 [==============================] - 1s 2ms/step - loss: 0.2384 - root_mean_squared_error: 0.4883 - val_loss: 0.2660 - val_root_mean_squared_error: 0.5158\n",
      "Epoch 39/100\n",
      "347/363 [===========================>..] - ETA: 0s - loss: 0.2323 - root_mean_squared_error: 0.4820"
     ]
    },
    {
     "name": "stderr",
     "output_type": "stream",
     "text": [
      "WARNING:absl:Found untraced functions such as _update_step_xla while saving (showing 1 of 1). These functions will not be directly callable after loading.\n"
     ]
    },
    {
     "name": "stdout",
     "output_type": "stream",
     "text": [
      "INFO:tensorflow:Assets written to: save_weights_callback/assets\n"
     ]
    },
    {
     "name": "stderr",
     "output_type": "stream",
     "text": [
      "INFO:tensorflow:Assets written to: save_weights_callback/assets\n"
     ]
    },
    {
     "name": "stdout",
     "output_type": "stream",
     "text": [
      "363/363 [==============================] - 2s 5ms/step - loss: 0.2342 - root_mean_squared_error: 0.4839 - val_loss: 0.2543 - val_root_mean_squared_error: 0.5043\n",
      "Epoch 40/100\n",
      "363/363 [==============================] - 1s 2ms/step - loss: 0.2311 - root_mean_squared_error: 0.4807 - val_loss: 0.2764 - val_root_mean_squared_error: 0.5257\n",
      "Epoch 41/100\n",
      "363/363 [==============================] - 1s 3ms/step - loss: 0.2315 - root_mean_squared_error: 0.4811 - val_loss: 0.2560 - val_root_mean_squared_error: 0.5060\n",
      "Epoch 42/100\n",
      "363/363 [==============================] - 1s 3ms/step - loss: 0.2290 - root_mean_squared_error: 0.4786 - val_loss: 0.2937 - val_root_mean_squared_error: 0.5420\n",
      "Epoch 43/100\n",
      "363/363 [==============================] - 1s 3ms/step - loss: 0.2304 - root_mean_squared_error: 0.4800 - val_loss: 0.3020 - val_root_mean_squared_error: 0.5496\n",
      "Epoch 44/100\n",
      "363/363 [==============================] - 1s 3ms/step - loss: 0.2305 - root_mean_squared_error: 0.4801 - val_loss: 0.2728 - val_root_mean_squared_error: 0.5223\n",
      "Epoch 45/100\n",
      "363/363 [==============================] - 1s 4ms/step - loss: 0.2285 - root_mean_squared_error: 0.4780 - val_loss: 0.2673 - val_root_mean_squared_error: 0.5171\n",
      "Epoch 46/100\n",
      "363/363 [==============================] - 2s 5ms/step - loss: 0.2268 - root_mean_squared_error: 0.4763 - val_loss: 0.2741 - val_root_mean_squared_error: 0.5236\n",
      "Epoch 47/100\n",
      "363/363 [==============================] - 1s 4ms/step - loss: 0.2256 - root_mean_squared_error: 0.4750 - val_loss: 0.3609 - val_root_mean_squared_error: 0.6007\n",
      "Epoch 48/100\n",
      "363/363 [==============================] - 1s 3ms/step - loss: 0.2255 - root_mean_squared_error: 0.4748 - val_loss: 0.2813 - val_root_mean_squared_error: 0.5304\n",
      "Epoch 49/100\n",
      "363/363 [==============================] - 1s 4ms/step - loss: 0.2238 - root_mean_squared_error: 0.4731 - val_loss: 0.5283 - val_root_mean_squared_error: 0.7268\n"
     ]
    }
   ],
   "source": [
    "# Normalization layer must be fitted to the training data before the model is fitted\n",
    "model.layers[0].adapt(X_train)\n",
    "\n",
    "# Trains and evalutes the model\n",
    "history = model.fit(\n",
    "    X_train, y_train, \n",
    "    epochs=100,    # set to a large value to auto-stop training when there is no progress \n",
    "    validation_data=(X_val, y_val), \n",
    "    callbacks=[save_weights_callback, early_stopping_callback, tensorboard_callback])"
   ]
  },
  {
   "cell_type": "code",
   "execution_count": 56,
   "id": "78fe9631-5c3e-4fd9-aafe-6817643840f0",
   "metadata": {
    "tags": []
   },
   "outputs": [
    {
     "name": "stdout",
     "output_type": "stream",
     "text": [
      "162/162 [==============================] - 0s 2ms/step - loss: 0.2660 - root_mean_squared_error: 0.5158\n"
     ]
    },
    {
     "data": {
      "text/plain": [
       "[0.26600080728530884, 0.5157526731491089]"
      ]
     },
     "execution_count": 56,
     "metadata": {},
     "output_type": "execute_result"
    }
   ],
   "source": [
    "# After early stopping for the training, let's measure the model performance on test data\n",
    "model.evaluate(X_test, y_test)"
   ]
  },
  {
   "cell_type": "code",
   "execution_count": null,
   "id": "f507747a-59cc-44bf-b1be-deeaf4a02fac",
   "metadata": {},
   "outputs": [],
   "source": []
  }
 ],
 "metadata": {
  "kernelspec": {
   "display_name": "Python 3 (ipykernel)",
   "language": "python",
   "name": "python3"
  },
  "language_info": {
   "codemirror_mode": {
    "name": "ipython",
    "version": 3
   },
   "file_extension": ".py",
   "mimetype": "text/x-python",
   "name": "python",
   "nbconvert_exporter": "python",
   "pygments_lexer": "ipython3",
   "version": "3.11.5"
  }
 },
 "nbformat": 4,
 "nbformat_minor": 5
}
