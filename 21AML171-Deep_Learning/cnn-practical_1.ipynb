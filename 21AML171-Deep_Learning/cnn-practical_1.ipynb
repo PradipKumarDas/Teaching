{
 "cells": [
  {
   "cell_type": "markdown",
   "id": "1497e505-8972-4013-848a-92f72a877939",
   "metadata": {},
   "source": [
    "# Convolutional Neural Networks"
   ]
  },
  {
   "cell_type": "markdown",
   "id": "6fff69fa-f45c-4331-97bf-61f80c61feb2",
   "metadata": {},
   "source": [
    "## Practical 1"
   ]
  },
  {
   "cell_type": "markdown",
   "id": "1e4dc920-0ce7-457f-9799-220b09a9085a",
   "metadata": {},
   "source": [
    "_**Building a Convolutional Neural Network (CNN) from Scratch on MNIST dataset.**_"
   ]
  },
  {
   "cell_type": "markdown",
   "id": "320377b3-b440-47b6-8ce1-ed6509ca59c1",
   "metadata": {},
   "source": [
    "NOTE: This notebook is recommended to run on GPU to save time during model training."
   ]
  },
  {
   "cell_type": "code",
   "execution_count": 22,
   "id": "e2db8509-5e71-4c8d-92f5-099b3bc8b4ea",
   "metadata": {
    "tags": []
   },
   "outputs": [],
   "source": [
    "# Imports required packages\n",
    "\n",
    "import numpy as np\n",
    "import tensorflow as tf\n",
    "from tensorflow.keras.datasets import mnist"
   ]
  },
  {
   "cell_type": "code",
   "execution_count": 8,
   "id": "9edad4f8-a057-42a5-a0fa-418f333c431f",
   "metadata": {
    "tags": []
   },
   "outputs": [
    {
     "name": "stdout",
     "output_type": "stream",
     "text": [
      "Downloading data from https://storage.googleapis.com/tensorflow/tf-keras-datasets/mnist.npz\n",
      "11490434/11490434 [==============================] - 3s 0us/step\n"
     ]
    }
   ],
   "source": [
    "# Loads MNIST dataset\n",
    "# NOTE: Downloading for the first time may take few minutes to complete\n",
    "\n",
    "mnist = tf.keras.datasets.mnist.load_data()"
   ]
  },
  {
   "cell_type": "code",
   "execution_count": 10,
   "id": "5758463b-2679-456a-947a-d363af6fbfc5",
   "metadata": {
    "tags": []
   },
   "outputs": [],
   "source": [
    "# Considering dataset is organized in tuple, items are referenced as follows\n",
    "(X_train_full, y_train_full), (X_test, y_test) = mnist"
   ]
  },
  {
   "cell_type": "code",
   "execution_count": 12,
   "id": "31b7fd53-f378-4198-ab67-54f45a33eea7",
   "metadata": {
    "tags": []
   },
   "outputs": [
    {
     "name": "stdout",
     "output_type": "stream",
     "text": [
      "Full training set shape: (60000, 28, 28)\n",
      "Test set shape: (10000, 28, 28)\n"
     ]
    }
   ],
   "source": [
    "# Checks the shape of the datasets\n",
    "\n",
    "print(\"Full training set shape:\", X_train_full.shape)\n",
    "print(\"Test set shape:\", X_test.shape)"
   ]
  },
  {
   "cell_type": "code",
   "execution_count": 14,
   "id": "07b5fde8-eeab-4c3a-99b8-314d56700892",
   "metadata": {
    "tags": []
   },
   "outputs": [],
   "source": [
    "# Normalizes the data between 0 and 1 for effective neural network model training\n",
    "X_train_full = X_train_full / 255.\n",
    "X_test = X_test / 255."
   ]
  },
  {
   "cell_type": "code",
   "execution_count": 16,
   "id": "f0c5c1af-63da-4dfe-a35a-63d89c8cbbdb",
   "metadata": {
    "tags": []
   },
   "outputs": [],
   "source": [
    "# Splits train dataset further to seperate 5000 instances to be used as validation set\n",
    "\n",
    "X_train, X_val = X_train_full[:-5000], X_train_full[-5000:]\n",
    "y_train, y_val = y_train_full[:-5000], y_train_full[-5000:]"
   ]
  },
  {
   "cell_type": "code",
   "execution_count": 24,
   "id": "239472ff-641d-4028-88f0-53651e9a5c3d",
   "metadata": {
    "tags": []
   },
   "outputs": [],
   "source": [
    "# To match the input shape of the CNN model, a channel dimention gets added to each dataset\n",
    "\n",
    "X_train = X_train[..., np.newaxis]\n",
    "X_val = X_val[..., np.newaxis]\n",
    "X_test = X_test[..., np.newaxis]"
   ]
  },
  {
   "cell_type": "code",
   "execution_count": 26,
   "id": "5d8ce832-449f-42b1-ab41-3639bcb63199",
   "metadata": {
    "tags": []
   },
   "outputs": [
    {
     "data": {
      "text/plain": [
       "(55000, 28, 28, 1)"
      ]
     },
     "execution_count": 26,
     "metadata": {},
     "output_type": "execute_result"
    }
   ],
   "source": [
    "# Checks for the updated shape\n",
    "X_train.shape"
   ]
  },
  {
   "cell_type": "code",
   "execution_count": 28,
   "id": "ca088df4-4438-4766-a65e-3d8d4a8d4422",
   "metadata": {
    "tags": []
   },
   "outputs": [
    {
     "name": "stderr",
     "output_type": "stream",
     "text": [
      "2024-08-28 10:29:00.610493: I tensorflow/core/common_runtime/process_util.cc:146] Creating new thread pool with default inter op setting: 2. Tune using inter_op_parallelism_threads for best performance.\n"
     ]
    }
   ],
   "source": [
    "# Creates CNN model by having convoluted, pooling, dropout and dense layer in the specified order for this experiment.\n",
    "# Each convoluted layer is further initialized with specific kernel size, padding, activation and initialization.\n",
    "\n",
    "tf.random.set_seed(42)\n",
    "\n",
    "model = tf.keras.Sequential([\n",
    "    tf.keras.layers.Conv2D(32, kernel_size=3, padding=\"same\", activation=\"relu\", kernel_initializer=\"he_normal\"),\n",
    "    tf.keras.layers.Conv2D(64, kernel_size=3, padding=\"same\", activation=\"relu\", kernel_initializer=\"he_normal\"),\n",
    "    tf.keras.layers.MaxPool2D(),\n",
    "    tf.keras.layers.Flatten(),\n",
    "    tf.keras.layers.Dropout(0.25),\n",
    "    tf.keras.layers.Dense(128, activation=\"relu\", kernel_initializer=\"he_normal\"),\n",
    "    tf.keras.layers.Dropout(0.5),\n",
    "    tf.keras.layers.Dense(10, activation=\"softmax\")\n",
    "])\n",
    "\n",
    "model.compile(loss=\"sparse_categorical_crossentropy\", optimizer=\"nadam\", metrics=[\"accuracy\"])"
   ]
  },
  {
   "cell_type": "code",
   "execution_count": 30,
   "id": "30ff7b3b-0fb4-495e-bf08-b21cbaf12976",
   "metadata": {
    "tags": []
   },
   "outputs": [
    {
     "name": "stdout",
     "output_type": "stream",
     "text": [
      "Epoch 1/10\n",
      "1719/1719 [==============================] - 516s 300ms/step - loss: 0.1911 - accuracy: 0.9420 - val_loss: 0.0433 - val_accuracy: 0.9878\n",
      "Epoch 2/10\n",
      "1719/1719 [==============================] - 514s 299ms/step - loss: 0.0795 - accuracy: 0.9751 - val_loss: 0.0449 - val_accuracy: 0.9868\n",
      "Epoch 3/10\n",
      "1719/1719 [==============================] - 512s 298ms/step - loss: 0.0601 - accuracy: 0.9819 - val_loss: 0.0329 - val_accuracy: 0.9922\n",
      "Epoch 4/10\n",
      "1719/1719 [==============================] - 493s 287ms/step - loss: 0.0477 - accuracy: 0.9851 - val_loss: 0.0364 - val_accuracy: 0.9902\n",
      "Epoch 5/10\n",
      "1719/1719 [==============================] - 487s 283ms/step - loss: 0.0408 - accuracy: 0.9871 - val_loss: 0.0325 - val_accuracy: 0.9916\n",
      "Epoch 6/10\n",
      "1719/1719 [==============================] - 478s 278ms/step - loss: 0.0344 - accuracy: 0.9892 - val_loss: 0.0450 - val_accuracy: 0.9906\n",
      "Epoch 7/10\n",
      "1719/1719 [==============================] - 511s 297ms/step - loss: 0.0297 - accuracy: 0.9907 - val_loss: 0.0370 - val_accuracy: 0.9920\n",
      "Epoch 8/10\n",
      "1719/1719 [==============================] - 494s 287ms/step - loss: 0.0282 - accuracy: 0.9910 - val_loss: 0.0361 - val_accuracy: 0.9914\n",
      "Epoch 9/10\n",
      "1719/1719 [==============================] - 518s 302ms/step - loss: 0.0249 - accuracy: 0.9922 - val_loss: 0.0403 - val_accuracy: 0.9932\n",
      "Epoch 10/10\n",
      "1719/1719 [==============================] - 533s 310ms/step - loss: 0.0235 - accuracy: 0.9925 - val_loss: 0.0370 - val_accuracy: 0.9920\n"
     ]
    },
    {
     "data": {
      "text/plain": [
       "<keras.callbacks.History at 0x7a43d43eacd0>"
      ]
     },
     "execution_count": 30,
     "metadata": {},
     "output_type": "execute_result"
    }
   ],
   "source": [
    "# Fits the model.\n",
    "model.fit(X_train, y_train, epochs=10, validation_data=(X_val, y_val))"
   ]
  },
  {
   "cell_type": "code",
   "execution_count": 49,
   "id": "996d90d0-1235-41b8-a229-1234571afd8b",
   "metadata": {
    "tags": []
   },
   "outputs": [
    {
     "name": "stderr",
     "output_type": "stream",
     "text": [
      "2024-08-28 11:53:42.973180: I tensorflow/core/common_runtime/executor.cc:1197] [/device:CPU:0] (DEBUG INFO) Executor start aborting (this does not indicate an error and you can ignore this message): INVALID_ARGUMENT: You must feed a value for placeholder tensor 'inputs' with dtype float and shape [?,12544]\n",
      "\t [[{{node inputs}}]]\n",
      "2024-08-28 11:53:42.980319: I tensorflow/core/common_runtime/executor.cc:1197] [/device:CPU:0] (DEBUG INFO) Executor start aborting (this does not indicate an error and you can ignore this message): INVALID_ARGUMENT: You must feed a value for placeholder tensor 'inputs' with dtype float and shape [?,128]\n",
      "\t [[{{node inputs}}]]\n",
      "2024-08-28 11:53:43.100294: I tensorflow/core/common_runtime/executor.cc:1197] [/device:CPU:0] (DEBUG INFO) Executor start aborting (this does not indicate an error and you can ignore this message): INVALID_ARGUMENT: You must feed a value for placeholder tensor 'inputs' with dtype float and shape [?,12544]\n",
      "\t [[{{node inputs}}]]\n",
      "2024-08-28 11:53:43.117217: I tensorflow/core/common_runtime/executor.cc:1197] [/device:CPU:0] (DEBUG INFO) Executor start aborting (this does not indicate an error and you can ignore this message): INVALID_ARGUMENT: You must feed a value for placeholder tensor 'inputs' with dtype float and shape [?,128]\n",
      "\t [[{{node inputs}}]]\n",
      "WARNING:absl:Found untraced functions such as _jit_compiled_convolution_op, _jit_compiled_convolution_op, _update_step_xla while saving (showing 3 of 3). These functions will not be directly callable after loading.\n"
     ]
    },
    {
     "name": "stdout",
     "output_type": "stream",
     "text": [
      "INFO:tensorflow:Assets written to: ./models/my_mnist_cnn_model/assets\n"
     ]
    },
    {
     "name": "stderr",
     "output_type": "stream",
     "text": [
      "INFO:tensorflow:Assets written to: ./models/my_mnist_cnn_model/assets\n"
     ]
    }
   ],
   "source": [
    "# Saves the trained model for later reference\n",
    "# NOTE: Make sure the folder \"models\" exists under the current working directory\n",
    "\n",
    "model.save(\"./models/my_mnist_cnn_model.keras\")"
   ]
  },
  {
   "cell_type": "code",
   "execution_count": 51,
   "id": "6711031f-da80-49cc-8c9b-aa864ce84c80",
   "metadata": {
    "tags": []
   },
   "outputs": [
    {
     "name": "stdout",
     "output_type": "stream",
     "text": [
      "313/313 [==============================] - 6s 18ms/step - loss: 0.0245 - accuracy: 0.9933\n"
     ]
    },
    {
     "data": {
      "text/plain": [
       "[0.024464121088385582, 0.9933000206947327]"
      ]
     },
     "execution_count": 51,
     "metadata": {},
     "output_type": "execute_result"
    }
   ],
   "source": [
    "# Evaluates the model on test dataset\n",
    "model.evaluate(X_test, y_test)"
   ]
  },
  {
   "cell_type": "markdown",
   "id": "4fca83a7-0b63-4514-bd38-001aa3d6d84a",
   "metadata": {},
   "source": [
    "Accuracy of the model is observed to be 99.33% on the test dataset."
   ]
  },
  {
   "cell_type": "code",
   "execution_count": null,
   "id": "4705eb20-ed1f-49d5-9cc8-7c7a26e18aea",
   "metadata": {},
   "outputs": [],
   "source": []
  }
 ],
 "metadata": {
  "kernelspec": {
   "display_name": "Python 3 (ipykernel)",
   "language": "python",
   "name": "python3"
  },
  "language_info": {
   "codemirror_mode": {
    "name": "ipython",
    "version": 3
   },
   "file_extension": ".py",
   "mimetype": "text/x-python",
   "name": "python",
   "nbconvert_exporter": "python",
   "pygments_lexer": "ipython3",
   "version": "3.11.5"
  }
 },
 "nbformat": 4,
 "nbformat_minor": 5
}
