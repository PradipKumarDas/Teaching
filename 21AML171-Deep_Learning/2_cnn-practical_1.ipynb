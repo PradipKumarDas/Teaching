{
 "cells": [
  {
   "cell_type": "markdown",
   "id": "1497e505-8972-4013-848a-92f72a877939",
   "metadata": {},
   "source": [
    "# BUILDING A CONVOLUTIONAL NEURAL NETWORK FROM SCRATCH\n",
    "\n",
    "_**Building a Convolutional Neural Network (CNN) from Scratch on MNIST dataset and Evaluating its Performance.**_\n",
    "\n",
    "This experiment uses MNIST dataset that consists of 60,000 28x28 grayscale images of the 10 digits, along with a test set of 10,000 images."
   ]
  },
  {
   "cell_type": "code",
   "execution_count": 42,
   "id": "e2db8509-5e71-4c8d-92f5-099b3bc8b4ea",
   "metadata": {
    "tags": []
   },
   "outputs": [],
   "source": [
    "# Imports required modules and methods\n",
    "\n",
    "import numpy as np\n",
    "from sklearn.model_selection import train_test_split\n",
    "import tensorflow as tf\n",
    "import matplotlib.pyplot as plt"
   ]
  },
  {
   "cell_type": "markdown",
   "id": "9a37bc75",
   "metadata": {},
   "source": [
    "## Loading & Analyzing Data"
   ]
  },
  {
   "cell_type": "code",
   "execution_count": 2,
   "id": "9edad4f8-a057-42a5-a0fa-418f333c431f",
   "metadata": {
    "tags": []
   },
   "outputs": [],
   "source": [
    "# Loads MNIST dataset\n",
    "# NOTE: Downloading for the first time may take few minutes to complete\n",
    "\n",
    "mnist = tf.keras.datasets.mnist.load_data()"
   ]
  },
  {
   "cell_type": "code",
   "execution_count": 3,
   "id": "5758463b-2679-456a-947a-d363af6fbfc5",
   "metadata": {
    "tags": []
   },
   "outputs": [],
   "source": [
    "# Considering dataset is organized in tuple, items are referenced as follows\n",
    "(X_train_full, y_train_full), (X_test, y_test) = mnist"
   ]
  },
  {
   "cell_type": "code",
   "execution_count": 4,
   "id": "31b7fd53-f378-4198-ab67-54f45a33eea7",
   "metadata": {
    "tags": []
   },
   "outputs": [
    {
     "name": "stdout",
     "output_type": "stream",
     "text": [
      "Full training set shape: (60000, 28, 28)\n",
      "Test set shape: (10000, 28, 28)\n"
     ]
    }
   ],
   "source": [
    "# Checks the shape of the datasets\n",
    "\n",
    "print(\"Full training set shape:\", X_train_full.shape)\n",
    "print(\"Test set shape:\", X_test.shape)"
   ]
  },
  {
   "cell_type": "code",
   "execution_count": 16,
   "id": "81662416",
   "metadata": {},
   "outputs": [
    {
     "data": {
      "text/plain": [
       "dtype('uint8')"
      ]
     },
     "execution_count": 16,
     "metadata": {},
     "output_type": "execute_result"
    }
   ],
   "source": [
    "# Checks the type of the array\n",
    "X_train_full.dtype"
   ]
  },
  {
   "cell_type": "markdown",
   "id": "ecfff350",
   "metadata": {},
   "source": [
    "## Preprocessing Data"
   ]
  },
  {
   "cell_type": "code",
   "execution_count": 17,
   "id": "07b5fde8-eeab-4c3a-99b8-314d56700892",
   "metadata": {
    "tags": []
   },
   "outputs": [],
   "source": [
    "# As with dtype 'uint8', the data can range from 0 to 255, it transforms the data to fit \n",
    "# within a specific range like between 0 and 1, in this case, for effective neural network model training\n",
    "\n",
    "X_train_full = X_train_full / 255.\n",
    "X_test = X_test / 255."
   ]
  },
  {
   "cell_type": "code",
   "execution_count": 18,
   "id": "2ef7b4dc",
   "metadata": {},
   "outputs": [],
   "source": [
    "# Splits train dataset further with stratification to seperate 5000 instances to be used as validation set\n",
    "\n",
    "X_train, X_val, y_train, y_val = train_test_split(\n",
    "    X_train_full, y_train_full, test_size=5000, random_state=42, stratify=y_train_full)"
   ]
  },
  {
   "cell_type": "code",
   "execution_count": 33,
   "id": "53a0ec51",
   "metadata": {},
   "outputs": [],
   "source": [
    "# To match the input shape requirement of the CNN model, a channel dimention gets added to each dataset\n",
    "\n",
    "X_train = np.expand_dims(X_train, axis=-1)\n",
    "X_val = np.expand_dims(X_val, axis=-1)\n",
    "X_test = np.expand_dims(X_test, axis=-1)"
   ]
  },
  {
   "cell_type": "code",
   "execution_count": 34,
   "id": "5d8ce832-449f-42b1-ab41-3639bcb63199",
   "metadata": {
    "tags": []
   },
   "outputs": [
    {
     "data": {
      "text/plain": [
       "(55000, 28, 28, 1)"
      ]
     },
     "execution_count": 34,
     "metadata": {},
     "output_type": "execute_result"
    }
   ],
   "source": [
    "# Checks for the updated shape\n",
    "X_train.shape"
   ]
  },
  {
   "cell_type": "markdown",
   "id": "4875dcc4",
   "metadata": {},
   "source": [
    "## Modeling\n",
    "\n",
    "**NOTE:** To make it possible to train the model on CPU and within permitted timeline in an classroom setting, the model complexity was kept low by setting relatively lesser number of outputs in the hidden layers. The below model's prediction performance can be improved to an extent by setting more number of outputs in those layers, but in this case, the training should be over accelerated hardware such as GPU(s) to complete training faster."
   ]
  },
  {
   "cell_type": "code",
   "execution_count": 49,
   "id": "ca088df4-4438-4766-a65e-3d8d4a8d4422",
   "metadata": {
    "tags": []
   },
   "outputs": [],
   "source": [
    "# Sets the global random seed for operations that rely on a random seed\n",
    "tf.random.set_seed(42)\n",
    "\n",
    "# Creates CNN model by having convoluted, pooling, dropout and dense layer in the specified order for this experiment.\n",
    "# Each convoluted layer is further initialized with specific kernel size, padding, activation and initialization.\n",
    "model = tf.keras.Sequential([\n",
    "    tf.keras.layers.Conv2D(16, kernel_size=3, padding=\"same\", activation=\"relu\", kernel_initializer=\"he_normal\"),\n",
    "    tf.keras.layers.Conv2D(32, kernel_size=3, padding=\"same\", activation=\"relu\", kernel_initializer=\"he_normal\"),\n",
    "    tf.keras.layers.MaxPool2D(),\n",
    "    tf.keras.layers.Flatten(),\n",
    "    tf.keras.layers.Dropout(0.25),\n",
    "    tf.keras.layers.Dense(64, activation=\"relu\", kernel_initializer=\"he_normal\"),\n",
    "    tf.keras.layers.Dropout(0.5),\n",
    "    tf.keras.layers.Dense(10, activation=\"softmax\")\n",
    "])\n",
    "\n",
    "# Sets the model optimizer and compiles it with specific loss function and metric\n",
    "model.compile(loss=\"sparse_categorical_crossentropy\", optimizer=\"nadam\", metrics=[\"accuracy\"])"
   ]
  },
  {
   "cell_type": "code",
   "execution_count": 50,
   "id": "30ff7b3b-0fb4-495e-bf08-b21cbaf12976",
   "metadata": {
    "tags": []
   },
   "outputs": [
    {
     "name": "stdout",
     "output_type": "stream",
     "text": [
      "Epoch 1/50\n",
      "\u001b[1m1719/1719\u001b[0m \u001b[32m━━━━━━━━━━━━━━━━━━━━\u001b[0m\u001b[37m\u001b[0m \u001b[1m20s\u001b[0m 11ms/step - accuracy: 0.8440 - loss: 0.4934 - val_accuracy: 0.9782 - val_loss: 0.0715\n",
      "Epoch 2/50\n",
      "\u001b[1m1719/1719\u001b[0m \u001b[32m━━━━━━━━━━━━━━━━━━━━\u001b[0m\u001b[37m\u001b[0m \u001b[1m19s\u001b[0m 11ms/step - accuracy: 0.9575 - loss: 0.1409 - val_accuracy: 0.9848 - val_loss: 0.0576\n",
      "Epoch 3/50\n",
      "\u001b[1m1719/1719\u001b[0m \u001b[32m━━━━━━━━━━━━━━━━━━━━\u001b[0m\u001b[37m\u001b[0m \u001b[1m18s\u001b[0m 10ms/step - accuracy: 0.9692 - loss: 0.1036 - val_accuracy: 0.9872 - val_loss: 0.0462\n",
      "Epoch 4/50\n",
      "\u001b[1m1719/1719\u001b[0m \u001b[32m━━━━━━━━━━━━━━━━━━━━\u001b[0m\u001b[37m\u001b[0m \u001b[1m19s\u001b[0m 11ms/step - accuracy: 0.9737 - loss: 0.0877 - val_accuracy: 0.9886 - val_loss: 0.0472\n",
      "Epoch 5/50\n",
      "\u001b[1m1719/1719\u001b[0m \u001b[32m━━━━━━━━━━━━━━━━━━━━\u001b[0m\u001b[37m\u001b[0m \u001b[1m19s\u001b[0m 11ms/step - accuracy: 0.9763 - loss: 0.0769 - val_accuracy: 0.9854 - val_loss: 0.0496\n",
      "Epoch 6/50\n",
      "\u001b[1m1719/1719\u001b[0m \u001b[32m━━━━━━━━━━━━━━━━━━━━\u001b[0m\u001b[37m\u001b[0m \u001b[1m19s\u001b[0m 11ms/step - accuracy: 0.9786 - loss: 0.0669 - val_accuracy: 0.9876 - val_loss: 0.0413\n",
      "Epoch 7/50\n",
      "\u001b[1m1719/1719\u001b[0m \u001b[32m━━━━━━━━━━━━━━━━━━━━\u001b[0m\u001b[37m\u001b[0m \u001b[1m19s\u001b[0m 11ms/step - accuracy: 0.9811 - loss: 0.0594 - val_accuracy: 0.9888 - val_loss: 0.0397\n",
      "Epoch 8/50\n",
      "\u001b[1m1719/1719\u001b[0m \u001b[32m━━━━━━━━━━━━━━━━━━━━\u001b[0m\u001b[37m\u001b[0m \u001b[1m18s\u001b[0m 11ms/step - accuracy: 0.9821 - loss: 0.0566 - val_accuracy: 0.9882 - val_loss: 0.0444\n",
      "Epoch 9/50\n",
      "\u001b[1m1719/1719\u001b[0m \u001b[32m━━━━━━━━━━━━━━━━━━━━\u001b[0m\u001b[37m\u001b[0m \u001b[1m18s\u001b[0m 11ms/step - accuracy: 0.9837 - loss: 0.0497 - val_accuracy: 0.9876 - val_loss: 0.0418\n",
      "Epoch 10/50\n",
      "\u001b[1m1719/1719\u001b[0m \u001b[32m━━━━━━━━━━━━━━━━━━━━\u001b[0m\u001b[37m\u001b[0m \u001b[1m18s\u001b[0m 11ms/step - accuracy: 0.9853 - loss: 0.0467 - val_accuracy: 0.9874 - val_loss: 0.0412\n",
      "Epoch 11/50\n",
      "\u001b[1m1719/1719\u001b[0m \u001b[32m━━━━━━━━━━━━━━━━━━━━\u001b[0m\u001b[37m\u001b[0m \u001b[1m18s\u001b[0m 11ms/step - accuracy: 0.9857 - loss: 0.0462 - val_accuracy: 0.9882 - val_loss: 0.0487\n",
      "Epoch 12/50\n",
      "\u001b[1m1719/1719\u001b[0m \u001b[32m━━━━━━━━━━━━━━━━━━━━\u001b[0m\u001b[37m\u001b[0m \u001b[1m18s\u001b[0m 10ms/step - accuracy: 0.9850 - loss: 0.0452 - val_accuracy: 0.9896 - val_loss: 0.0436\n",
      "Epoch 13/50\n",
      "\u001b[1m1719/1719\u001b[0m \u001b[32m━━━━━━━━━━━━━━━━━━━━\u001b[0m\u001b[37m\u001b[0m \u001b[1m18s\u001b[0m 11ms/step - accuracy: 0.9878 - loss: 0.0385 - val_accuracy: 0.9884 - val_loss: 0.0459\n",
      "Epoch 14/50\n",
      "\u001b[1m1719/1719\u001b[0m \u001b[32m━━━━━━━━━━━━━━━━━━━━\u001b[0m\u001b[37m\u001b[0m \u001b[1m18s\u001b[0m 10ms/step - accuracy: 0.9882 - loss: 0.0368 - val_accuracy: 0.9884 - val_loss: 0.0448\n",
      "Epoch 15/50\n",
      "\u001b[1m1719/1719\u001b[0m \u001b[32m━━━━━━━━━━━━━━━━━━━━\u001b[0m\u001b[37m\u001b[0m \u001b[1m18s\u001b[0m 10ms/step - accuracy: 0.9887 - loss: 0.0344 - val_accuracy: 0.9882 - val_loss: 0.0570\n",
      "Epoch 16/50\n",
      "\u001b[1m1719/1719\u001b[0m \u001b[32m━━━━━━━━━━━━━━━━━━━━\u001b[0m\u001b[37m\u001b[0m \u001b[1m18s\u001b[0m 10ms/step - accuracy: 0.9890 - loss: 0.0352 - val_accuracy: 0.9888 - val_loss: 0.0466\n",
      "Epoch 17/50\n",
      "\u001b[1m1719/1719\u001b[0m \u001b[32m━━━━━━━━━━━━━━━━━━━━\u001b[0m\u001b[37m\u001b[0m \u001b[1m18s\u001b[0m 10ms/step - accuracy: 0.9884 - loss: 0.0347 - val_accuracy: 0.9886 - val_loss: 0.0516\n"
     ]
    }
   ],
   "source": [
    "# Fits the model with model checkpoint and early stopping configured\n",
    "history = model.fit(X_train, y_train, \n",
    "                    epochs=50, \n",
    "                    validation_data=(X_val, y_val),\n",
    "                    callbacks=[\n",
    "                        tf.keras.callbacks.ModelCheckpoint(\"./model_weights/my_mnist_model.keras\", save_best_only=True),\n",
    "                        tf.keras.callbacks.EarlyStopping(patience=10, restore_best_weights=True)\n",
    "                    ])"
   ]
  },
  {
   "cell_type": "code",
   "execution_count": 51,
   "id": "6d25a6fe",
   "metadata": {},
   "outputs": [],
   "source": [
    "# Saves the trained model for later reference\n",
    "# NOTE: Make sure the folder \"models\" exists under the current working directory\n",
    "\n",
    "model.save(\"./models/my_mnist_cnn_model.keras\")"
   ]
  },
  {
   "cell_type": "markdown",
   "id": "f48e24d2",
   "metadata": {},
   "source": [
    "### Performance Analysis\n",
    "Visualizes the learning progress and finally evaluates model's performance on test set"
   ]
  },
  {
   "cell_type": "code",
   "execution_count": 52,
   "id": "05ec848f",
   "metadata": {},
   "outputs": [
    {
     "data": {
      "image/png": "[encoded data removed]",
      "text/plain": [
       "<Figure size 640x480 with 1 Axes>"
      ]
     },
     "metadata": {},
     "output_type": "display_data"
    }
   ],
   "source": [
    "# Plots the learning curve of the above model\n",
    "\n",
    "plt.plot(history.history[\"loss\"], label=\"Train loss\")\n",
    "plt.plot(history.history[\"val_loss\"], label=\"Validation loss\")\n",
    "plt.xlabel(\"Epochs\")\n",
    "plt.ylabel(\"Loss\")\n",
    "plt.legend()\n",
    "plt.title(\"Learning Curve\")\n",
    "\n",
    "plt.show()"
   ]
  },
  {
   "cell_type": "code",
   "execution_count": null,
   "id": "6711031f-da80-49cc-8c9b-aa864ce84c80",
   "metadata": {
    "tags": []
   },
   "outputs": [
    {
     "name": "stdout",
     "output_type": "stream",
     "text": [
      "\u001b[1m313/313\u001b[0m \u001b[32m━━━━━━━━━━━━━━━━━━━━\u001b[0m\u001b[37m\u001b[0m \u001b[1m1s\u001b[0m 3ms/step - accuracy: 0.9882 - loss: 0.0407\n"
     ]
    },
    {
     "data": {
      "text/plain": [
       "[0.03556995838880539, 0.9904000163078308]"
      ]
     },
     "execution_count": 41,
     "metadata": {},
     "output_type": "execute_result"
    }
   ],
   "source": [
    "# Evaluates the model on test set\n",
    "model_test_performance = model.evaluate(X_test, y_test)\n",
    "\n",
    "print(\"Test Performance [Accuracy]: {:.3f}\")\n",
    "print(\"{:.3f} [Model without BN layers]\".format(model_test_performance[1]))"
   ]
  },
  {
   "cell_type": "markdown",
   "id": "55936717",
   "metadata": {},
   "source": [
    "**Observations:**\n",
    "\n",
    "- Model training was stopped after 16th epochs considering no improvement over previous best performance for specified number of training iterations (epochs).\n",
    "\n",
    "- The best validation performance was observed during 6th ecochs and the model started overfitting beyond that.\n",
    "\n",
    "- The test set performance by the best model was 99.04%.\n",
    "\n"
   ]
  },
  {
   "cell_type": "code",
   "execution_count": null,
   "id": "4705eb20-ed1f-49d5-9cc8-7c7a26e18aea",
   "metadata": {},
   "outputs": [],
   "source": []
  }
 ],
 "metadata": {
  "kernelspec": {
   "display_name": "keras3",
   "language": "python",
   "name": "python3"
  },
  "language_info": {
   "codemirror_mode": {
    "name": "ipython",
    "version": 3
   },
   "file_extension": ".py",
   "mimetype": "text/x-python",
   "name": "python",
   "nbconvert_exporter": "python",
   "pygments_lexer": "ipython3",
   "version": "3.12.8"
  }
 },
 "nbformat": 4,
 "nbformat_minor": 5
}
