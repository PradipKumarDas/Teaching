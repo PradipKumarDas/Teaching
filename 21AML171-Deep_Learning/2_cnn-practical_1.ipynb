{
 "cells": [
  {
   "cell_type": "markdown",
   "id": "1497e505-8972-4013-848a-92f72a877939",
   "metadata": {},
   "source": [
    "# BUILDING A CONVOLUTIONAL NEURAL NETWORK FROM SCRATCH\n",
    "\n",
    "_**Building a Convolutional Neural Network (CNN) from Scratch on MNIST dataset and Evaluating its Performance.**_\n",
    "\n",
    "This experiment uses MNIST dataset that consists of 60,000 28x28 grayscale images of the 10 digits, along with a test set of 10,000 images."
   ]
  },
  {
   "cell_type": "code",
   "execution_count": 2,
   "id": "e2db8509-5e71-4c8d-92f5-099b3bc8b4ea",
   "metadata": {
    "tags": []
   },
   "outputs": [
    {
     "name": "stderr",
     "output_type": "stream",
     "text": [
      "2025-02-19 08:40:04.781359: I tensorflow/core/util/port.cc:153] oneDNN custom operations are on. You may see slightly different numerical results due to floating-point round-off errors from different computation orders. To turn them off, set the environment variable `TF_ENABLE_ONEDNN_OPTS=0`.\n",
      "2025-02-19 08:40:04.790404: I external/local_xla/xla/tsl/cuda/cudart_stub.cc:32] Could not find cuda drivers on your machine, GPU will not be used.\n",
      "2025-02-19 08:40:04.880215: I external/local_xla/xla/tsl/cuda/cudart_stub.cc:32] Could not find cuda drivers on your machine, GPU will not be used.\n",
      "2025-02-19 08:40:04.958631: E external/local_xla/xla/stream_executor/cuda/cuda_fft.cc:477] Unable to register cuFFT factory: Attempting to register factory for plugin cuFFT when one has already been registered\n",
      "WARNING: All log messages before absl::InitializeLog() is called are written to STDERR\n",
      "E0000 00:00:1739934605.034581    6654 cuda_dnn.cc:8310] Unable to register cuDNN factory: Attempting to register factory for plugin cuDNN when one has already been registered\n",
      "E0000 00:00:1739934605.056568    6654 cuda_blas.cc:1418] Unable to register cuBLAS factory: Attempting to register factory for plugin cuBLAS when one has already been registered\n",
      "2025-02-19 08:40:05.221891: I tensorflow/core/platform/cpu_feature_guard.cc:210] This TensorFlow binary is optimized to use available CPU instructions in performance-critical operations.\n",
      "To enable the following instructions: AVX2 AVX512F AVX512_VNNI FMA, in other operations, rebuild TensorFlow with the appropriate compiler flags.\n"
     ]
    }
   ],
   "source": [
    "# Imports required modules and methods\n",
    "\n",
    "import numpy as np\n",
    "from sklearn.model_selection import train_test_split\n",
    "import tensorflow as tf\n",
    "import matplotlib.pyplot as plt"
   ]
  },
  {
   "cell_type": "markdown",
   "id": "9a37bc75",
   "metadata": {},
   "source": [
    "## Loading & Analyzing Data"
   ]
  },
  {
   "cell_type": "code",
   "execution_count": 3,
   "id": "9edad4f8-a057-42a5-a0fa-418f333c431f",
   "metadata": {
    "tags": []
   },
   "outputs": [],
   "source": [
    "# Loads MNIST dataset\n",
    "# NOTE: Downloading for the first time may take few minutes to complete\n",
    "\n",
    "mnist = tf.keras.datasets.mnist.load_data()"
   ]
  },
  {
   "cell_type": "code",
   "execution_count": 4,
   "id": "5758463b-2679-456a-947a-d363af6fbfc5",
   "metadata": {
    "tags": []
   },
   "outputs": [],
   "source": [
    "# Considering dataset is organized in tuple, items are referenced as follows\n",
    "(X_train_full, y_train_full), (X_test, y_test) = mnist"
   ]
  },
  {
   "cell_type": "code",
   "execution_count": 5,
   "id": "31b7fd53-f378-4198-ab67-54f45a33eea7",
   "metadata": {
    "tags": []
   },
   "outputs": [
    {
     "name": "stdout",
     "output_type": "stream",
     "text": [
      "Full training set shape: (60000, 28, 28)\n",
      "Test set shape: (10000, 28, 28)\n"
     ]
    }
   ],
   "source": [
    "# Checks the shape of the datasets\n",
    "\n",
    "print(\"Full training set shape:\", X_train_full.shape)\n",
    "print(\"Test set shape:\", X_test.shape)"
   ]
  },
  {
   "cell_type": "code",
   "execution_count": 6,
   "id": "81662416",
   "metadata": {},
   "outputs": [
    {
     "data": {
      "text/plain": [
       "dtype('uint8')"
      ]
     },
     "execution_count": 6,
     "metadata": {},
     "output_type": "execute_result"
    }
   ],
   "source": [
    "# Checks the type of the array\n",
    "X_train_full.dtype"
   ]
  },
  {
   "cell_type": "markdown",
   "id": "ecfff350",
   "metadata": {},
   "source": [
    "## Preprocessing Data"
   ]
  },
  {
   "cell_type": "code",
   "execution_count": 7,
   "id": "07b5fde8-eeab-4c3a-99b8-314d56700892",
   "metadata": {
    "tags": []
   },
   "outputs": [],
   "source": [
    "# As with dtype 'uint8', the data can range from 0 to 255, it transforms the data to fit \n",
    "# within a specific range like between 0 and 1, in this case, for effective neural network model training\n",
    "\n",
    "X_train_full = X_train_full / 255.\n",
    "X_test = X_test / 255."
   ]
  },
  {
   "cell_type": "code",
   "execution_count": 8,
   "id": "2ef7b4dc",
   "metadata": {},
   "outputs": [],
   "source": [
    "# Splits train dataset further with stratification to seperate 5000 instances to be used as validation set\n",
    "\n",
    "X_train, X_val, y_train, y_val = train_test_split(\n",
    "    X_train_full, y_train_full, test_size=5000, random_state=42, stratify=y_train_full)"
   ]
  },
  {
   "cell_type": "code",
   "execution_count": 9,
   "id": "53a0ec51",
   "metadata": {},
   "outputs": [],
   "source": [
    "# To match the input shape requirement of the CNN model, a channel dimention gets added to each dataset\n",
    "\n",
    "X_train = np.expand_dims(X_train, axis=-1)\n",
    "X_val = np.expand_dims(X_val, axis=-1)\n",
    "X_test = np.expand_dims(X_test, axis=-1)"
   ]
  },
  {
   "cell_type": "code",
   "execution_count": 10,
   "id": "5d8ce832-449f-42b1-ab41-3639bcb63199",
   "metadata": {
    "tags": []
   },
   "outputs": [
    {
     "data": {
      "text/plain": [
       "(55000, 28, 28, 1)"
      ]
     },
     "execution_count": 10,
     "metadata": {},
     "output_type": "execute_result"
    }
   ],
   "source": [
    "# Checks for the updated shape\n",
    "X_train.shape"
   ]
  },
  {
   "cell_type": "markdown",
   "id": "4875dcc4",
   "metadata": {},
   "source": [
    "## Modeling\n",
    "\n",
    "**NOTE:** To make it possible to train the model on CPU and within permitted timeline in an classroom setting, the model complexity was kept low by setting relatively lesser number of outputs in the hidden layers. The below model's prediction performance can be improved to an extent by setting more number of outputs in those layers, but in this case, the training should be over accelerated hardware such as GPU(s) to complete training faster."
   ]
  },
  {
   "cell_type": "code",
   "execution_count": 11,
   "id": "ca088df4-4438-4766-a65e-3d8d4a8d4422",
   "metadata": {
    "tags": []
   },
   "outputs": [
    {
     "name": "stderr",
     "output_type": "stream",
     "text": [
      "2025-02-19 08:40:37.462096: E external/local_xla/xla/stream_executor/cuda/cuda_driver.cc:152] failed call to cuInit: INTERNAL: CUDA error: Failed call to cuInit: UNKNOWN ERROR (303)\n"
     ]
    }
   ],
   "source": [
    "# Sets the global random seed for operations that rely on a random seed\n",
    "tf.random.set_seed(42)\n",
    "\n",
    "# Creates CNN model by having convoluted, pooling, dropout and dense layer in the specified order for this experiment.\n",
    "# Each convoluted layer is further initialized with specific kernel size, padding, activation and initialization.\n",
    "model = tf.keras.Sequential([\n",
    "    tf.keras.layers.Conv2D(16, kernel_size=3, padding=\"same\", activation=\"relu\", kernel_initializer=\"he_normal\"),\n",
    "    tf.keras.layers.Conv2D(32, kernel_size=3, padding=\"same\", activation=\"relu\", kernel_initializer=\"he_normal\"),\n",
    "    tf.keras.layers.MaxPool2D(),\n",
    "    tf.keras.layers.Flatten(),\n",
    "    tf.keras.layers.Dropout(0.25),\n",
    "    tf.keras.layers.Dense(64, activation=\"relu\", kernel_initializer=\"he_normal\"),\n",
    "    tf.keras.layers.Dropout(0.5),\n",
    "    tf.keras.layers.Dense(10, activation=\"softmax\")\n",
    "])\n",
    "\n",
    "# Sets the model optimizer and compiles it with specific loss function and metric\n",
    "model.compile(loss=\"sparse_categorical_crossentropy\", optimizer=\"nadam\", metrics=[\"accuracy\"])"
   ]
  },
  {
   "cell_type": "code",
   "execution_count": 12,
   "id": "30ff7b3b-0fb4-495e-bf08-b21cbaf12976",
   "metadata": {
    "tags": []
   },
   "outputs": [
    {
     "name": "stdout",
     "output_type": "stream",
     "text": [
      "Epoch 1/50\n",
      "\u001b[1m1719/1719\u001b[0m \u001b[32m━━━━━━━━━━━━━━━━━━━━\u001b[0m\u001b[37m\u001b[0m \u001b[1m16s\u001b[0m 8ms/step - accuracy: 0.8420 - loss: 0.5026 - val_accuracy: 0.9792 - val_loss: 0.0675\n",
      "Epoch 2/50\n",
      "\u001b[1m1719/1719\u001b[0m \u001b[32m━━━━━━━━━━━━━━━━━━━━\u001b[0m\u001b[37m\u001b[0m \u001b[1m18s\u001b[0m 11ms/step - accuracy: 0.9604 - loss: 0.1365 - val_accuracy: 0.9830 - val_loss: 0.0571\n",
      "Epoch 3/50\n",
      "\u001b[1m1719/1719\u001b[0m \u001b[32m━━━━━━━━━━━━━━━━━━━━\u001b[0m\u001b[37m\u001b[0m \u001b[1m17s\u001b[0m 10ms/step - accuracy: 0.9682 - loss: 0.1059 - val_accuracy: 0.9874 - val_loss: 0.0520\n",
      "Epoch 4/50\n",
      "\u001b[1m1719/1719\u001b[0m \u001b[32m━━━━━━━━━━━━━━━━━━━━\u001b[0m\u001b[37m\u001b[0m \u001b[1m26s\u001b[0m 15ms/step - accuracy: 0.9744 - loss: 0.0851 - val_accuracy: 0.9874 - val_loss: 0.0485\n",
      "Epoch 5/50\n",
      "\u001b[1m1719/1719\u001b[0m \u001b[32m━━━━━━━━━━━━━━━━━━━━\u001b[0m\u001b[37m\u001b[0m \u001b[1m26s\u001b[0m 15ms/step - accuracy: 0.9777 - loss: 0.0755 - val_accuracy: 0.9878 - val_loss: 0.0505\n",
      "Epoch 6/50\n",
      "\u001b[1m1719/1719\u001b[0m \u001b[32m━━━━━━━━━━━━━━━━━━━━\u001b[0m\u001b[37m\u001b[0m \u001b[1m14s\u001b[0m 8ms/step - accuracy: 0.9791 - loss: 0.0658 - val_accuracy: 0.9850 - val_loss: 0.0533\n",
      "Epoch 7/50\n",
      "\u001b[1m1719/1719\u001b[0m \u001b[32m━━━━━━━━━━━━━━━━━━━━\u001b[0m\u001b[37m\u001b[0m \u001b[1m14s\u001b[0m 8ms/step - accuracy: 0.9806 - loss: 0.0620 - val_accuracy: 0.9872 - val_loss: 0.0464\n",
      "Epoch 8/50\n",
      "\u001b[1m1719/1719\u001b[0m \u001b[32m━━━━━━━━━━━━━━━━━━━━\u001b[0m\u001b[37m\u001b[0m \u001b[1m14s\u001b[0m 8ms/step - accuracy: 0.9823 - loss: 0.0553 - val_accuracy: 0.9888 - val_loss: 0.0435\n",
      "Epoch 9/50\n",
      "\u001b[1m1719/1719\u001b[0m \u001b[32m━━━━━━━━━━━━━━━━━━━━\u001b[0m\u001b[37m\u001b[0m \u001b[1m14s\u001b[0m 8ms/step - accuracy: 0.9828 - loss: 0.0550 - val_accuracy: 0.9894 - val_loss: 0.0492\n",
      "Epoch 10/50\n",
      "\u001b[1m1719/1719\u001b[0m \u001b[32m━━━━━━━━━━━━━━━━━━━━\u001b[0m\u001b[37m\u001b[0m \u001b[1m14s\u001b[0m 8ms/step - accuracy: 0.9844 - loss: 0.0507 - val_accuracy: 0.9894 - val_loss: 0.0453\n",
      "Epoch 11/50\n",
      "\u001b[1m1719/1719\u001b[0m \u001b[32m━━━━━━━━━━━━━━━━━━━━\u001b[0m\u001b[37m\u001b[0m \u001b[1m14s\u001b[0m 8ms/step - accuracy: 0.9856 - loss: 0.0449 - val_accuracy: 0.9874 - val_loss: 0.0564\n",
      "Epoch 12/50\n",
      "\u001b[1m1719/1719\u001b[0m \u001b[32m━━━━━━━━━━━━━━━━━━━━\u001b[0m\u001b[37m\u001b[0m \u001b[1m14s\u001b[0m 8ms/step - accuracy: 0.9865 - loss: 0.0439 - val_accuracy: 0.9884 - val_loss: 0.0563\n",
      "Epoch 13/50\n",
      "\u001b[1m1719/1719\u001b[0m \u001b[32m━━━━━━━━━━━━━━━━━━━━\u001b[0m\u001b[37m\u001b[0m \u001b[1m14s\u001b[0m 8ms/step - accuracy: 0.9866 - loss: 0.0420 - val_accuracy: 0.9888 - val_loss: 0.0517\n",
      "Epoch 14/50\n",
      "\u001b[1m1719/1719\u001b[0m \u001b[32m━━━━━━━━━━━━━━━━━━━━\u001b[0m\u001b[37m\u001b[0m \u001b[1m14s\u001b[0m 8ms/step - accuracy: 0.9865 - loss: 0.0408 - val_accuracy: 0.9864 - val_loss: 0.0640\n",
      "Epoch 15/50\n",
      "\u001b[1m1719/1719\u001b[0m \u001b[32m━━━━━━━━━━━━━━━━━━━━\u001b[0m\u001b[37m\u001b[0m \u001b[1m14s\u001b[0m 8ms/step - accuracy: 0.9880 - loss: 0.0360 - val_accuracy: 0.9892 - val_loss: 0.0498\n",
      "Epoch 16/50\n",
      "\u001b[1m1719/1719\u001b[0m \u001b[32m━━━━━━━━━━━━━━━━━━━━\u001b[0m\u001b[37m\u001b[0m \u001b[1m14s\u001b[0m 8ms/step - accuracy: 0.9877 - loss: 0.0374 - val_accuracy: 0.9900 - val_loss: 0.0477\n",
      "Epoch 17/50\n",
      "\u001b[1m1719/1719\u001b[0m \u001b[32m━━━━━━━━━━━━━━━━━━━━\u001b[0m\u001b[37m\u001b[0m \u001b[1m14s\u001b[0m 8ms/step - accuracy: 0.9882 - loss: 0.0353 - val_accuracy: 0.9894 - val_loss: 0.0482\n",
      "Epoch 18/50\n",
      "\u001b[1m1719/1719\u001b[0m \u001b[32m━━━━━━━━━━━━━━━━━━━━\u001b[0m\u001b[37m\u001b[0m \u001b[1m14s\u001b[0m 8ms/step - accuracy: 0.9887 - loss: 0.0330 - val_accuracy: 0.9902 - val_loss: 0.0563\n"
     ]
    }
   ],
   "source": [
    "# Fits the model with model checkpoint and early stopping configured\n",
    "history = model.fit(X_train, y_train, \n",
    "                    epochs=50, \n",
    "                    validation_data=(X_val, y_val),\n",
    "                    callbacks=[\n",
    "                        # NOTE: Folder \"model_weights\" must exists under the current working directory\n",
    "                        tf.keras.callbacks.ModelCheckpoint(\"./model_weights/my_mnist_model.keras\", save_best_only=True),\n",
    "                        tf.keras.callbacks.EarlyStopping(patience=10, restore_best_weights=True)\n",
    "                    ])"
   ]
  },
  {
   "cell_type": "code",
   "execution_count": 13,
   "id": "6d25a6fe",
   "metadata": {},
   "outputs": [],
   "source": [
    "# Saves the trained model for later reference\n",
    "# NOTE: Make sure the folder \"models\" exists under the current working directory\n",
    "\n",
    "model.save(\"./models/my_mnist_cnn_model.keras\")"
   ]
  },
  {
   "cell_type": "markdown",
   "id": "f48e24d2",
   "metadata": {},
   "source": [
    "### Performance Analysis\n",
    "Visualizes the learning progress and finally evaluates model's performance on test set"
   ]
  },
  {
   "cell_type": "code",
   "execution_count": 14,
   "id": "05ec848f",
   "metadata": {
    "tags": []
   },
   "outputs": [
    {
     "data": {
      "image/png": "[encoded data removed]",
      "text/plain": [
       "<Figure size 640x480 with 1 Axes>"
      ]
     },
     "metadata": {},
     "output_type": "display_data"
    }
   ],
   "source": [
    "# Plots losses over training iterations [also know as learning curve] of the above model\n",
    "\n",
    "plt.plot(history.history[\"loss\"], label=\"Train loss\")            # Plots training losses\n",
    "plt.plot(history.history[\"val_loss\"], label=\"Validation loss\")   # Plots validation losses\n",
    "plt.xlabel(\"Epochs\")                                             # Plots label for x-axis\n",
    "plt.ylabel(\"Loss\")                                               # Plots label for y-axis\n",
    "plt.legend()                                                     # Shows legends\n",
    "plt.title(\"Learning Curve\")                                      # Prints plot title\n",
    "\n",
    "plt.show()                                                       # Finally, renders the plot"
   ]
  },
  {
   "cell_type": "code",
   "execution_count": 18,
   "id": "6711031f-da80-49cc-8c9b-aa864ce84c80",
   "metadata": {
    "tags": []
   },
   "outputs": [
    {
     "name": "stdout",
     "output_type": "stream",
     "text": [
      "\u001b[1m313/313\u001b[0m \u001b[32m━━━━━━━━━━━━━━━━━━━━\u001b[0m\u001b[37m\u001b[0m \u001b[1m1s\u001b[0m 3ms/step - accuracy: 0.9883 - loss: 0.0387\n",
      "Test Performance [Accuracy]: 99.1%\n"
     ]
    }
   ],
   "source": [
    "# Evaluates the model on test set\n",
    "model_test_performance = model.evaluate(X_test, y_test)\n",
    "\n",
    "print(\"Test Performance [Accuracy]: {:.1f}%\".format(model_test_performance[1] * 100))"
   ]
  },
  {
   "cell_type": "markdown",
   "id": "55936717",
   "metadata": {},
   "source": [
    "**Observations:**\n",
    "\n",
    "- Model training was stopped after 17th epochs considering no improvement over previous best performance for specified number of training iterations (epochs).\n",
    "\n",
    "- The best validation performance was observed during 7th ecochs and the model started overfitting beyond that.\n",
    "\n",
    "- The test set performance by the best model was 99.1%.\n",
    "\n"
   ]
  }
 ],
 "metadata": {
  "kernelspec": {
   "display_name": "keras3",
   "language": "python",
   "name": "python3"
  },
  "language_info": {
   "codemirror_mode": {
    "name": "ipython",
    "version": 3
   },
   "file_extension": ".py",
   "mimetype": "text/x-python",
   "name": "python",
   "nbconvert_exporter": "python",
   "pygments_lexer": "ipython3",
   "version": "3.12.8"
  }
 },
 "nbformat": 4,
 "nbformat_minor": 5
}
