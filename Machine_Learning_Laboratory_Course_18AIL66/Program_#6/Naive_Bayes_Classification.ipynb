{
 "cells": [
  {
   "cell_type": "markdown",
   "id": "66654cc5-fc00-4ce6-af2b-6cc1ad24a896",
   "metadata": {},
   "source": [
    "# Naive Bayes Classification"
   ]
  },
  {
   "cell_type": "markdown",
   "id": "4f0868b8-babe-4b27-aa4d-8d8e5a23bba1",
   "metadata": {},
   "source": [
    "The naive Bayes classifier applies to learning tasks where each instance x is described by a conjunction of attribute values and where the target function $f(x)$ can take on any value from some finite set $V$. A set of training examples of the target function is provided, and a new instance is presented, described by the tuple of attribute values $(a_1,a_2,...,a_n)$. The learner is asked to predict the target value, or classification, for this new instance.\n",
    "\n",
    "The Bayesian approach to classifying the new instance is to assign the most probable target value, $v_{NB}$, given the attribute values $(a_1,a_2,...,a_n)$ that describe\n",
    "the instance is \n",
    "\n",
    "$$v_{NB} = argmax_{v_{j}∈V}P(v_j|a_1,a_2,...,a_n)$$\n",
    "\n",
    "The expression is rewritten using Bayes theorem.\n",
    "\n",
    "$$v_{NB} = argmax_{v_{j}∈V} \\frac{P(a_1,a_2,...,a_n|v_j)P(v_j)}{P(a_1,a_2,...,a_n)}$$\n",
    "\n",
    "$$=argmax_{v_{j}∈V} P(a_1,a_2,...,a_n|v_j) P(v_j)$$\n",
    "\n",
    "With the assumption that the attribute values are conditionally independent given the target value, the probability of observing conjunction $a_1,a_2,...,a_n$ is just the product of the probabilities for the individual attributes as shown in the expression below.\n",
    "\n",
    "$$P(a_1,a_2,...,a_n|v_j) = \\prod_iP(a_i|v_i)$$\n",
    "\n",
    "Now, substituting this into previous equation, we get\n",
    "\n",
    "$$v_{NB} = argmax_{v_{j}∈V} (\\prod_iP(a_i|v_i)) P(v_j)$$\n",
    "\n",
    "$$v_{NB} = argmax_{v_{j}∈V} P(v_j) \\prod_iP(a_i|v_i)$$\n",
    "\n",
    "And, the above expression is the **Naive Bayes Classifier**.\n"
   ]
  },
  {
   "cell_type": "code",
   "execution_count": 77,
   "id": "9971ab3f-6fbc-4fde-8778-cc9e75e54d96",
   "metadata": {},
   "outputs": [],
   "source": [
    "# Imports required packages\n",
    "import numpy as np\n",
    "import pandas as pd"
   ]
  },
  {
   "cell_type": "code",
   "execution_count": 2,
   "id": "bdc27459-2503-4c90-a262-fede1ae2390c",
   "metadata": {},
   "outputs": [],
   "source": [
    "# Loads data\n",
    "data = pd.read_csv(\"../../Data/playtennis.csv\")"
   ]
  },
  {
   "cell_type": "code",
   "execution_count": 79,
   "id": "fcdd5c78-3d51-410f-9abb-d65e2dc5bb8a",
   "metadata": {},
   "outputs": [
    {
     "data": {
      "text/html": [
       "<div>\n",
       "<style scoped>\n",
       "    .dataframe tbody tr th:only-of-type {\n",
       "        vertical-align: middle;\n",
       "    }\n",
       "\n",
       "    .dataframe tbody tr th {\n",
       "        vertical-align: top;\n",
       "    }\n",
       "\n",
       "    .dataframe thead th {\n",
       "        text-align: right;\n",
       "    }\n",
       "</style>\n",
       "<table border=\"1\" class=\"dataframe\">\n",
       "  <thead>\n",
       "    <tr style=\"text-align: right;\">\n",
       "      <th></th>\n",
       "      <th>Outlook</th>\n",
       "      <th>Temperature</th>\n",
       "      <th>Humidity</th>\n",
       "      <th>Wind</th>\n",
       "      <th>PlayTennis</th>\n",
       "    </tr>\n",
       "  </thead>\n",
       "  <tbody>\n",
       "    <tr>\n",
       "      <th>0</th>\n",
       "      <td>Sunny</td>\n",
       "      <td>Hot</td>\n",
       "      <td>High</td>\n",
       "      <td>Weak</td>\n",
       "      <td>No</td>\n",
       "    </tr>\n",
       "    <tr>\n",
       "      <th>1</th>\n",
       "      <td>Sunny</td>\n",
       "      <td>Hot</td>\n",
       "      <td>High</td>\n",
       "      <td>Strong</td>\n",
       "      <td>No</td>\n",
       "    </tr>\n",
       "    <tr>\n",
       "      <th>2</th>\n",
       "      <td>Overcast</td>\n",
       "      <td>Hot</td>\n",
       "      <td>High</td>\n",
       "      <td>Weak</td>\n",
       "      <td>Yes</td>\n",
       "    </tr>\n",
       "    <tr>\n",
       "      <th>3</th>\n",
       "      <td>Rain</td>\n",
       "      <td>Mild</td>\n",
       "      <td>High</td>\n",
       "      <td>Weak</td>\n",
       "      <td>Yes</td>\n",
       "    </tr>\n",
       "    <tr>\n",
       "      <th>4</th>\n",
       "      <td>Rain</td>\n",
       "      <td>Cool</td>\n",
       "      <td>Normal</td>\n",
       "      <td>Weak</td>\n",
       "      <td>Yes</td>\n",
       "    </tr>\n",
       "    <tr>\n",
       "      <th>5</th>\n",
       "      <td>Rain</td>\n",
       "      <td>Cool</td>\n",
       "      <td>Normal</td>\n",
       "      <td>Strong</td>\n",
       "      <td>No</td>\n",
       "    </tr>\n",
       "    <tr>\n",
       "      <th>6</th>\n",
       "      <td>Overcast</td>\n",
       "      <td>Cool</td>\n",
       "      <td>Normal</td>\n",
       "      <td>Strong</td>\n",
       "      <td>Yes</td>\n",
       "    </tr>\n",
       "    <tr>\n",
       "      <th>7</th>\n",
       "      <td>Sunny</td>\n",
       "      <td>Mild</td>\n",
       "      <td>High</td>\n",
       "      <td>Weak</td>\n",
       "      <td>No</td>\n",
       "    </tr>\n",
       "    <tr>\n",
       "      <th>8</th>\n",
       "      <td>Sunny</td>\n",
       "      <td>Cool</td>\n",
       "      <td>Normal</td>\n",
       "      <td>Weak</td>\n",
       "      <td>Yes</td>\n",
       "    </tr>\n",
       "    <tr>\n",
       "      <th>9</th>\n",
       "      <td>Rain</td>\n",
       "      <td>Mild</td>\n",
       "      <td>Normal</td>\n",
       "      <td>Weak</td>\n",
       "      <td>Yes</td>\n",
       "    </tr>\n",
       "    <tr>\n",
       "      <th>10</th>\n",
       "      <td>Sunny</td>\n",
       "      <td>Mild</td>\n",
       "      <td>Normal</td>\n",
       "      <td>Strong</td>\n",
       "      <td>Yes</td>\n",
       "    </tr>\n",
       "    <tr>\n",
       "      <th>11</th>\n",
       "      <td>Overcast</td>\n",
       "      <td>Mild</td>\n",
       "      <td>High</td>\n",
       "      <td>Strong</td>\n",
       "      <td>Yes</td>\n",
       "    </tr>\n",
       "    <tr>\n",
       "      <th>12</th>\n",
       "      <td>Overcast</td>\n",
       "      <td>Hot</td>\n",
       "      <td>Normal</td>\n",
       "      <td>Weak</td>\n",
       "      <td>Yes</td>\n",
       "    </tr>\n",
       "    <tr>\n",
       "      <th>13</th>\n",
       "      <td>Rain</td>\n",
       "      <td>Mild</td>\n",
       "      <td>High</td>\n",
       "      <td>Strong</td>\n",
       "      <td>No</td>\n",
       "    </tr>\n",
       "  </tbody>\n",
       "</table>\n",
       "</div>"
      ],
      "text/plain": [
       "     Outlook Temperature Humidity    Wind PlayTennis\n",
       "0      Sunny         Hot     High    Weak         No\n",
       "1      Sunny         Hot     High  Strong         No\n",
       "2   Overcast         Hot     High    Weak        Yes\n",
       "3       Rain        Mild     High    Weak        Yes\n",
       "4       Rain        Cool   Normal    Weak        Yes\n",
       "5       Rain        Cool   Normal  Strong         No\n",
       "6   Overcast        Cool   Normal  Strong        Yes\n",
       "7      Sunny        Mild     High    Weak         No\n",
       "8      Sunny        Cool   Normal    Weak        Yes\n",
       "9       Rain        Mild   Normal    Weak        Yes\n",
       "10     Sunny        Mild   Normal  Strong        Yes\n",
       "11  Overcast        Mild     High  Strong        Yes\n",
       "12  Overcast         Hot   Normal    Weak        Yes\n",
       "13      Rain        Mild     High  Strong         No"
      ]
     },
     "metadata": {},
     "output_type": "display_data"
    }
   ],
   "source": [
    "# Shows few rows from the data\n",
    "display(data)"
   ]
  },
  {
   "cell_type": "code",
   "execution_count": 6,
   "id": "5ee3ac96-2af1-4269-9665-70d4aab7fd43",
   "metadata": {},
   "outputs": [
    {
     "name": "stdout",
     "output_type": "stream",
     "text": [
      "(14, 6)\n"
     ]
    }
   ],
   "source": [
    "# Gets the shape of the data\n",
    "print(data.shape)"
   ]
  },
  {
   "cell_type": "code",
   "execution_count": 12,
   "id": "1f467fe8-9872-446b-95a8-edcd6e24fadb",
   "metadata": {},
   "outputs": [],
   "source": [
    "# Removes the column \"Day\" as it is not relevant to the model\n",
    "data.drop([\"Day\"], axis=1, inplace=True)"
   ]
  },
  {
   "cell_type": "code",
   "execution_count": 72,
   "id": "b215c3d6-2296-4af0-92ec-cb925dae124e",
   "metadata": {},
   "outputs": [],
   "source": [
    "def naive_bayes_predict(data, target_name, test_instance):\n",
    "    \"\"\"\n",
    "    Predicts the target value for the test instance\n",
    "    \n",
    "    Parameters:\n",
    "    -----------\n",
    "    data: DataFrame\n",
    "        Data set for Naive Bayes classifier to learn cencept from\n",
    "    target_name: str\n",
    "        Name of the target in the data set\n",
    "    test_instance: dict\n",
    "        Test instance attribute values\n",
    "        \n",
    "    Returns\n",
    "    -------\n",
    "    dict\n",
    "        Probability for each target value\n",
    "    \"\"\"\n",
    "    \n",
    "    # Counts the unique values in the target\n",
    "    target_value_counts = data[target_name].value_counts().to_dict()\n",
    "    \n",
    "    # Calculates the frequency with which each target value occurs in the data\n",
    "    proba_target_values = (data[\"PlayTennis\"].value_counts()/data.shape[0]).to_dict()\n",
    "    \n",
    "    # Iterate through each of the target value to calculate the probability against it\n",
    "    for target, value_count in target_value_counts.items():\n",
    "        attrib_proba_given_target_proba = 1\n",
    "        \n",
    "        # Filters the data set against target value\n",
    "        data_subset = data[data[target_name] == target]\n",
    "        \n",
    "        # Calculates product of probabilities for each attribute\n",
    "        # in test instance given probability of the target\n",
    "        for attrib, value in test_instance.items():\n",
    "            attrib_value_conditional_proba = data_subset[data_subset[attrib] == value].shape[0] / data_subset.shape[0]\n",
    "            attrib_proba_given_target_proba *= attrib_value_conditional_proba\n",
    "        \n",
    "        # Calculates probailities of test instance attributes for a given target probability,\n",
    "        # and stores it in a dictionary for later reference\n",
    "        target_value_proba = proba_target_values[target] * attrib_proba_given_target_proba       \n",
    "        predicted_target_values[target] = target_value_proba\n",
    "        \n",
    "    return predicted_target_values"
   ]
  },
  {
   "cell_type": "code",
   "execution_count": 73,
   "id": "789e8233-4163-46aa-b694-24ebf9b9afa5",
   "metadata": {},
   "outputs": [],
   "source": [
    "# Creates a test instance\n",
    "test_instance = {\"Outlook\": \"Sunny\", \"Temperature\": \"Cool\", \"Humidity\": \"High\", \"Wind\": \"Strong\"}"
   ]
  },
  {
   "cell_type": "code",
   "execution_count": 76,
   "id": "c8d87dad-369b-4c6f-9d71-dd22101687a8",
   "metadata": {},
   "outputs": [
    {
     "name": "stdout",
     "output_type": "stream",
     "text": [
      "{'Yes': 0.005291005291005291, 'No': 0.02057142857142857}\n"
     ]
    }
   ],
   "source": [
    "# Performs prediction\n",
    "prediction = naive_bayes_predict(data.copy(), \"PlayTennis\", test_instance)\n",
    "print(prediction)"
   ]
  },
  {
   "cell_type": "code",
   "execution_count": null,
   "id": "82d8f0f5-c6ad-436b-b879-8098cc2e82cf",
   "metadata": {},
   "outputs": [],
   "source": []
  }
 ],
 "metadata": {
  "kernelspec": {
   "display_name": "Python 3 (ipykernel)",
   "language": "python",
   "name": "python3"
  },
  "language_info": {
   "codemirror_mode": {
    "name": "ipython",
    "version": 3
   },
   "file_extension": ".py",
   "mimetype": "text/x-python",
   "name": "python",
   "nbconvert_exporter": "python",
   "pygments_lexer": "ipython3",
   "version": "3.10.9"
  }
 },
 "nbformat": 4,
 "nbformat_minor": 5
}
