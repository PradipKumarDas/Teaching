{
 "cells": [
  {
   "cell_type": "markdown",
   "id": "d25855e4-2ff0-4b4c-8e6f-0f0dda52d001",
   "metadata": {},
   "source": [
    "# Training Deep Neural Networks"
   ]
  },
  {
   "cell_type": "markdown",
   "id": "48b3a997-9f29-40eb-8272-ca93dec32c61",
   "metadata": {},
   "source": [
    "**_Experimenting with SELU to Build a self-regularized network and to check it performs better than the network with ReLU._**\n"
   ]
  },
  {
   "cell_type": "code",
   "execution_count": 7,
   "id": "82af1ed7-849f-4a30-9c59-c3b8ed3bdda0",
   "metadata": {
    "tags": []
   },
   "outputs": [],
   "source": [
    "# Imports required packages\n",
    "\n",
    "import pandas as pd\n",
    "import tensorflow as tf\n",
    "from tensorflow.keras.datasets import fashion_mnist\n",
    "from tensorflow.keras.datasets import cifar10\n",
    "from sklearn.model_selection import train_test_split\n",
    "import matplotlib.pyplot as plt"
   ]
  },
  {
   "cell_type": "code",
   "execution_count": 16,
   "id": "9a686e2d-fd07-481c-aa9d-24507215c6b2",
   "metadata": {
    "tags": []
   },
   "outputs": [],
   "source": [
    "# Loads fashion mnist dataset\n",
    "fashion = fashion_mnist.load_data()"
   ]
  },
  {
   "cell_type": "code",
   "execution_count": 63,
   "id": "160ef91a-da4b-4836-93f7-86337a95d38c",
   "metadata": {
    "tags": []
   },
   "outputs": [],
   "source": [
    "# Considering dataset is organized in tuple, items are referenced as follows\n",
    "(X_train_full, y_train_full), (X_test, y_test) = fashion"
   ]
  },
  {
   "cell_type": "code",
   "execution_count": 65,
   "id": "7f112359-b595-4c84-8d58-5e8485a9c3c1",
   "metadata": {
    "tags": []
   },
   "outputs": [],
   "source": [
    "# Each training and test example is assigned to one of the following labels.\n",
    "class_names = [\"T-shirt/top\", \"Trouser\", \"Pullover\", \"Dress\", \"Coat\", \"Sandal\", \\\n",
    "               \"Shirt\", \"Sneaker\", \"Bag\", \"Ankle boot\"]"
   ]
  },
  {
   "cell_type": "code",
   "execution_count": 67,
   "id": "dd5e618b-d60a-499c-9bcc-1eedb4c97ff6",
   "metadata": {
    "tags": []
   },
   "outputs": [],
   "source": [
    "# Splits train dataset further to seperate 5000 instances to be used as validation set\n",
    "\n",
    "X_train, X_val, y_train, y_val = train_test_split(\n",
    "    X_train_full, y_train_full, test_size=5000, random_state=42, stratify=y_train_full)"
   ]
  },
  {
   "cell_type": "code",
   "execution_count": 69,
   "id": "658f1eef-5e43-4fde-b6e3-9c9550383b36",
   "metadata": {
    "tags": []
   },
   "outputs": [],
   "source": [
    "# Pixel intensities are hence scaled down to range 0 to 1 for all instances\n",
    "X_train, X_val, X_test = X_train/255.0, X_val/255.0, X_test/255.0"
   ]
  },
  {
   "cell_type": "code",
   "execution_count": 71,
   "id": "75236a8d-c37c-43df-a42a-f1f7f744032b",
   "metadata": {
    "tags": []
   },
   "outputs": [],
   "source": [
    "# Standardizes the input data\n",
    "pixel_means = X_train.mean(axis=0, keepdims=True)\n",
    "pixel_stds = X_train.std(axis=0, keepdims=True)\n",
    "\n",
    "X_train_scaled = (X_train - pixel_means) / pixel_stds\n",
    "X_val_scaled = (X_val - pixel_means) / pixel_stds\n",
    "X_test_scaled = (X_test - pixel_means) / pixel_stds"
   ]
  },
  {
   "cell_type": "code",
   "execution_count": 73,
   "id": "8d26613b-7bb2-438e-b700-f5abc525a944",
   "metadata": {
    "tags": []
   },
   "outputs": [],
   "source": [
    "# Creates a model with SELU\n",
    "\n",
    "tf.random.set_seed(42)\n",
    "model = tf.keras.Sequential()\n",
    "model.add(tf.keras.layers.Flatten(input_shape=[28, 28]))\n",
    "for layer in range(100):\n",
    "    model.add(tf.keras.layers.Dense(\n",
    "        100, activation=\"selu\", kernel_initializer=\"lecun_normal\"))\n",
    "model.add(tf.keras.layers.Dense(10, activation=\"softmax\"))"
   ]
  },
  {
   "cell_type": "code",
   "execution_count": 75,
   "id": "a59e076e-4be0-4a08-9d1b-5ceb5b31fd3e",
   "metadata": {
    "tags": []
   },
   "outputs": [],
   "source": [
    "# Compiles the model\n",
    "\n",
    "model.compile(\n",
    "    optimizer=tf.keras.optimizers.SGD(0.001),\n",
    "    loss=\"sparse_categorical_crossentropy\",\n",
    "    metrics=[\"accuracy\"])"
   ]
  },
  {
   "cell_type": "code",
   "execution_count": 77,
   "id": "f6b211b2-0867-4f8e-a018-68cf96aa48b5",
   "metadata": {
    "tags": []
   },
   "outputs": [
    {
     "name": "stdout",
     "output_type": "stream",
     "text": [
      "Epoch 1/10\n",
      "1719/1719 [==============================] - 76s 42ms/step - loss: 1.3539 - accuracy: 0.4716 - val_loss: 0.9082 - val_accuracy: 0.6514\n",
      "Epoch 2/10\n",
      "1719/1719 [==============================] - 69s 40ms/step - loss: 0.8078 - accuracy: 0.7041 - val_loss: 0.8215 - val_accuracy: 0.6822\n",
      "Epoch 3/10\n",
      "1719/1719 [==============================] - 64s 37ms/step - loss: 0.7129 - accuracy: 0.7360 - val_loss: 0.6742 - val_accuracy: 0.7456\n",
      "Epoch 4/10\n",
      "1719/1719 [==============================] - 73s 42ms/step - loss: 0.6286 - accuracy: 0.7727 - val_loss: 0.5639 - val_accuracy: 0.7960\n",
      "Epoch 5/10\n",
      "1719/1719 [==============================] - 66s 38ms/step - loss: 0.5736 - accuracy: 0.7909 - val_loss: 0.6095 - val_accuracy: 0.7852\n",
      "Epoch 6/10\n",
      "1719/1719 [==============================] - 55s 32ms/step - loss: 0.5581 - accuracy: 0.7976 - val_loss: 0.5805 - val_accuracy: 0.7780\n",
      "Epoch 7/10\n",
      "1719/1719 [==============================] - 70s 40ms/step - loss: 0.5372 - accuracy: 0.8065 - val_loss: 0.5093 - val_accuracy: 0.8172\n",
      "Epoch 8/10\n",
      "1719/1719 [==============================] - 76s 44ms/step - loss: 0.5004 - accuracy: 0.8215 - val_loss: 0.4510 - val_accuracy: 0.8482\n",
      "Epoch 9/10\n",
      "1719/1719 [==============================] - 71s 42ms/step - loss: 0.4653 - accuracy: 0.8374 - val_loss: 0.4475 - val_accuracy: 0.8458\n",
      "Epoch 10/10\n",
      "1719/1719 [==============================] - 81s 47ms/step - loss: 0.4819 - accuracy: 0.8322 - val_loss: 0.6052 - val_accuracy: 0.7744\n"
     ]
    }
   ],
   "source": [
    "# Trains the model\n",
    "history_selu = model.fit(X_train_scaled, y_train, epochs=10, validation_data=(X_val_scaled, y_val))"
   ]
  },
  {
   "cell_type": "code",
   "execution_count": 105,
   "id": "bfc61401-c349-4a48-8883-70c630ea0cc5",
   "metadata": {
    "tags": []
   },
   "outputs": [
    {
     "data": {
      "image/png": "[encoded data removed]",
      "text/plain": [
       "<Figure size 800x500 with 1 Axes>"
      ]
     },
     "metadata": {},
     "output_type": "display_data"
    }
   ],
   "source": [
    "# Plots the learning curve\n",
    "\n",
    "pd.DataFrame(history_selu.history).plot(\n",
    "    figsize=(8,5), grid=True, style=[\"r--\", \"r--.\", \"b-\", \"b-*\"], xlabel=\"Epoch\", xlim=[0, 9], ylim=[0.0, 2.5])\n",
    "plt.show()"
   ]
  },
  {
   "cell_type": "markdown",
   "id": "64b51469-86d3-438a-9a83-fa3a414bd025",
   "metadata": {},
   "source": [
    "Now, let's check the model's learning over ReLU activation function"
   ]
  },
  {
   "cell_type": "code",
   "execution_count": 95,
   "id": "76288585-4b07-409b-a4c3-6b0c4c15db69",
   "metadata": {
    "tags": []
   },
   "outputs": [],
   "source": [
    "# Clear keras backend before proceeding with new modeling\n",
    "\n",
    "tf.keras.backend.clear_session()\n",
    "tf.random.set_seed(42)"
   ]
  },
  {
   "cell_type": "code",
   "execution_count": 97,
   "id": "bfddf791-f5d3-4fe4-b942-1e7704829392",
   "metadata": {
    "tags": []
   },
   "outputs": [
    {
     "name": "stdout",
     "output_type": "stream",
     "text": [
      "Epoch 1/10\n",
      "1719/1719 [==============================] - 72s 40ms/step - loss: 2.1178 - accuracy: 0.1910 - val_loss: 1.9019 - val_accuracy: 0.2646\n",
      "Epoch 2/10\n",
      "1719/1719 [==============================] - 59s 34ms/step - loss: 1.4896 - accuracy: 0.3781 - val_loss: 1.1366 - val_accuracy: 0.5306\n",
      "Epoch 3/10\n",
      "1719/1719 [==============================] - 70s 41ms/step - loss: 1.0881 - accuracy: 0.5548 - val_loss: 1.0356 - val_accuracy: 0.5750\n",
      "Epoch 4/10\n",
      "1719/1719 [==============================] - 61s 36ms/step - loss: 0.9366 - accuracy: 0.6304 - val_loss: 0.8280 - val_accuracy: 0.6886\n",
      "Epoch 5/10\n",
      "1719/1719 [==============================] - 65s 38ms/step - loss: 0.8594 - accuracy: 0.6727 - val_loss: 0.9748 - val_accuracy: 0.6048\n",
      "Epoch 6/10\n",
      "1719/1719 [==============================] - 58s 34ms/step - loss: 0.8003 - accuracy: 0.7015 - val_loss: 0.6693 - val_accuracy: 0.7648\n",
      "Epoch 7/10\n",
      "1719/1719 [==============================] - 60s 35ms/step - loss: 0.7362 - accuracy: 0.7298 - val_loss: 0.5950 - val_accuracy: 0.7750\n",
      "Epoch 8/10\n",
      "1719/1719 [==============================] - 59s 34ms/step - loss: 0.6434 - accuracy: 0.7682 - val_loss: 0.5677 - val_accuracy: 0.8016\n",
      "Epoch 9/10\n",
      "1719/1719 [==============================] - 61s 36ms/step - loss: 0.6926 - accuracy: 0.7551 - val_loss: 0.6025 - val_accuracy: 0.7904\n",
      "Epoch 10/10\n",
      "1719/1719 [==============================] - 65s 38ms/step - loss: 0.6114 - accuracy: 0.7817 - val_loss: 0.6676 - val_accuracy: 0.7524\n"
     ]
    }
   ],
   "source": [
    "# Creates a same deep dense model, but with ReLU this time\n",
    "\n",
    "model = tf.keras.Sequential()\n",
    "model.add(tf.keras.layers.Flatten(input_shape=[28, 28]))\n",
    "for layer in range(100):\n",
    "    model.add(tf.keras.layers.Dense(\n",
    "        100, activation=\"relu\", kernel_initializer=\"he_normal\"))\n",
    "model.add(tf.keras.layers.Dense(10, activation=\"softmax\"))\n",
    "\n",
    "# Compiles the model\n",
    "model.compile(\n",
    "    optimizer=tf.keras.optimizers.SGD(0.001),\n",
    "    loss=\"sparse_categorical_crossentropy\",\n",
    "    metrics=[\"accuracy\"])\n",
    "\n",
    "# Trains the model\n",
    "history_relu = model.fit(X_train_scaled, y_train, epochs=10, validation_data=(X_val_scaled, y_val))"
   ]
  },
  {
   "cell_type": "code",
   "execution_count": 103,
   "id": "fc65d29c-d55d-48d9-a6de-586d6286abf9",
   "metadata": {
    "tags": []
   },
   "outputs": [
    {
     "data": {
      "image/png": "[encoded data removed]",
      "text/plain": [
       "<Figure size 800x500 with 1 Axes>"
      ]
     },
     "metadata": {},
     "output_type": "display_data"
    }
   ],
   "source": [
    "# Plots the learning curve\n",
    "\n",
    "pd.DataFrame(history_relu.history).plot(\n",
    "    figsize=(8,5), grid=True, style=[\"r--\", \"r--.\", \"b-\", \"b-*\"], xlabel=\"Epoch\", xlim=[0, 9], ylim=[0.0, 2.5])\n",
    "plt.show()"
   ]
  },
  {
   "cell_type": "markdown",
   "id": "eb05fe4f-f1ee-48ee-8329-665ffbd802a7",
   "metadata": {},
   "source": [
    "**Observation from the above experiment:**\n",
    "\n",
    "1. Learning during initial epocs for network with SELU was better than that of the network with ReLU.\n",
    "2. Model with SELU had relative better overall performance (validation accuracy) than the model with ReLU."
   ]
  },
  {
   "cell_type": "code",
   "execution_count": 111,
   "id": "84417093-8865-44ff-abb2-18527423ca07",
   "metadata": {
    "tags": []
   },
   "outputs": [
    {
     "name": "stdout",
     "output_type": "stream",
     "text": [
      "Downloading data from https://www.cs.toronto.edu/~kriz/cifar-10-python.tar.gz\n",
      "170498071/170498071 [==============================] - 1238s 7us/step\n"
     ]
    }
   ],
   "source": [
    "# Loads CIFAR10 dataset\n",
    "# Note that first time download may take several minutes to complete\n",
    "\n",
    "cifar10 = cifar10.load_data()"
   ]
  },
  {
   "cell_type": "code",
   "execution_count": 136,
   "id": "336b0555-b7fb-4e74-b189-41984fc83b87",
   "metadata": {
    "tags": []
   },
   "outputs": [],
   "source": [
    "# Considering dataset is organized in tuple, items are referenced as follows\n",
    "(X_train_full, y_train_full), (X_test, y_test) = cifar10"
   ]
  },
  {
   "cell_type": "code",
   "execution_count": 146,
   "id": "78c33f00-b4c3-44d4-8228-221abd81fbb5",
   "metadata": {
    "tags": []
   },
   "outputs": [],
   "source": [
    "# Each training and test example is assigned to one of the following labels.\n",
    "class_names = [\"airplanes\", \"cars\", \"birds\", \"cats\", \"deer\", \"dogs\", \"frogs\", \\\n",
    "               \"horses\", \"ships\", \"trucks\"]"
   ]
  },
  {
   "cell_type": "code",
   "execution_count": 162,
   "id": "e740718d-6738-47b1-8aed-ff879be3bc6f",
   "metadata": {
    "tags": []
   },
   "outputs": [
    {
     "data": {
      "image/png": "[encoded data removed]",
      "text/plain": [
       "<Figure size 1200x480 with 40 Axes>"
      ]
     },
     "metadata": {},
     "output_type": "display_data"
    }
   ],
   "source": [
    "# Visualizes the dataset by plotting few images\n",
    "\n",
    "n_rows = 4\n",
    "n_cols = 10\n",
    "plt.figure(figsize=(n_cols * 1.2, n_rows * 1.2))\n",
    "for row in range(n_rows):\n",
    "    for col in range(n_cols):\n",
    "        index = n_cols * row + col\n",
    "        plt.subplot(n_rows, n_cols, index + 1)\n",
    "        plt.imshow(X_train_full[index], interpolation=\"nearest\")\n",
    "        plt.axis('off')\n",
    "        plt.title(class_names[y_train_full[index][0]])\n",
    "plt.subplots_adjust(wspace=0.2, hspace=0.5)\n",
    "plt.show()"
   ]
  },
  {
   "cell_type": "code",
   "execution_count": null,
   "id": "71c05721-6c3a-4b42-9d97-ce1ec7a97ccf",
   "metadata": {},
   "outputs": [],
   "source": []
  },
  {
   "cell_type": "code",
   "execution_count": null,
   "id": "a4371363-fee3-4d32-a347-8349982b8812",
   "metadata": {},
   "outputs": [],
   "source": []
  },
  {
   "cell_type": "code",
   "execution_count": null,
   "id": "6cbb2880-ade8-4ef3-80ac-dea3fac4f585",
   "metadata": {},
   "outputs": [],
   "source": []
  },
  {
   "cell_type": "code",
   "execution_count": null,
   "id": "4c438f9d-af41-4c82-9d3f-52fac81ec55d",
   "metadata": {},
   "outputs": [],
   "source": []
  },
  {
   "cell_type": "markdown",
   "id": "a4291724-ab84-49bf-ba78-3807353c2f66",
   "metadata": {},
   "source": [
    "**_Implementing transfer learning over an existing pretrained model to create a new model to accomplish similar task and compare performance._**"
   ]
  },
  {
   "cell_type": "code",
   "execution_count": null,
   "id": "edd81bf5-c1a8-46ec-be00-106ecc6abd6b",
   "metadata": {},
   "outputs": [],
   "source": []
  },
  {
   "cell_type": "code",
   "execution_count": null,
   "id": "d01195e8-110d-4fee-8529-02a91c6c2f89",
   "metadata": {},
   "outputs": [],
   "source": []
  },
  {
   "cell_type": "code",
   "execution_count": null,
   "id": "825a903d-9851-4efe-9d1c-dc4da4a6e839",
   "metadata": {},
   "outputs": [],
   "source": []
  },
  {
   "cell_type": "code",
   "execution_count": null,
   "id": "ebecafae-a616-4b7c-8186-485b154d6d47",
   "metadata": {},
   "outputs": [],
   "source": []
  },
  {
   "cell_type": "code",
   "execution_count": null,
   "id": "8fbe57d8-2819-45cf-9c42-146ea9a8db56",
   "metadata": {},
   "outputs": [],
   "source": []
  },
  {
   "cell_type": "code",
   "execution_count": null,
   "id": "d4bf0182-3a28-44fd-b9f5-c567dc88b387",
   "metadata": {},
   "outputs": [],
   "source": []
  },
  {
   "cell_type": "markdown",
   "id": "b255e27e-1ac5-49b5-9389-9af9ba671542",
   "metadata": {},
   "source": []
  },
  {
   "cell_type": "code",
   "execution_count": null,
   "id": "b5b65121-c8a5-4dc3-95e5-5eba0ba70be4",
   "metadata": {},
   "outputs": [],
   "source": []
  },
  {
   "cell_type": "code",
   "execution_count": null,
   "id": "1a5f1bbc-4c1a-47e4-8fcb-e70f3c7a05b8",
   "metadata": {},
   "outputs": [],
   "source": []
  },
  {
   "cell_type": "code",
   "execution_count": null,
   "id": "7985d928-2cc1-41eb-8bda-34bcab16afae",
   "metadata": {},
   "outputs": [],
   "source": []
  },
  {
   "cell_type": "code",
   "execution_count": null,
   "id": "0aea2e3c-6675-4a16-9324-4708d6510ae4",
   "metadata": {},
   "outputs": [],
   "source": []
  },
  {
   "cell_type": "code",
   "execution_count": null,
   "id": "d23e4294-730c-49e9-af3f-82bf27974fa8",
   "metadata": {},
   "outputs": [],
   "source": []
  },
  {
   "cell_type": "markdown",
   "id": "a3fed759-d3fc-4541-8483-6a4450d12843",
   "metadata": {},
   "source": [
    "## Practical 1"
   ]
  },
  {
   "cell_type": "markdown",
   "id": "c796df2b-07fb-4106-8a01-c86bb7e067ee",
   "metadata": {},
   "source": [
    "_**Build a neural network of appropriate depth on CIFAR10 dataset with He initialization, Swish activation function, Nadam optimizer and early stopping. Compare this model’s learning curve on its convergence, performance and training time with another model with bath normalization layer added.**_"
   ]
  },
  {
   "cell_type": "code",
   "execution_count": 36,
   "id": "13f09618-ff01-4c9b-8aea-70b428d97c0b",
   "metadata": {},
   "outputs": [],
   "source": [
    "# Imports required packages\n",
    "\n",
    "import pandas as pd\n",
    "import tensorflow as tf\n",
    "from tensorflow.keras.datasets import fashion_mnist\n",
    "from tensorflow.keras.datasets import cifar10\n",
    "from sklearn.model_selection import train_test_split\n",
    "from pathlib import Path\n",
    "from time import strftime\n",
    "import matplotlib.pyplot as plt"
   ]
  },
  {
   "cell_type": "code",
   "execution_count": 9,
   "id": "cd944603-19ba-4c7e-8bab-4efdc0992fc2",
   "metadata": {
    "tags": []
   },
   "outputs": [],
   "source": [
    "# Loads CIFAR10 dataset\n",
    "# Note that first time download may take several minutes to complete\n",
    "\n",
    "cifar10 = cifar10.load_data()"
   ]
  },
  {
   "cell_type": "code",
   "execution_count": 10,
   "id": "d5c61d8c-4464-4059-8ab0-6960b02f442f",
   "metadata": {
    "tags": []
   },
   "outputs": [],
   "source": [
    "# Considering dataset is organized in tuple, items are referenced as follows\n",
    "(X_train_full, y_train_full), (X_test, y_test) = cifar10"
   ]
  },
  {
   "cell_type": "code",
   "execution_count": 11,
   "id": "6bafa3b4-3205-42fb-9525-9cf1b5a18bc8",
   "metadata": {
    "tags": []
   },
   "outputs": [
    {
     "name": "stdout",
     "output_type": "stream",
     "text": [
      "Shape of the training dataset: (50000, 32, 32, 3)\n",
      "Shape of the test dataset: (10000, 32, 32, 3)\n"
     ]
    }
   ],
   "source": [
    "# Checks the shape of the training and test dataset\n",
    "print(\"Shape of the training dataset:\", X_train_full.shape)\n",
    "print(\"Shape of the test dataset:\", X_test.shape)"
   ]
  },
  {
   "cell_type": "code",
   "execution_count": 15,
   "id": "0c4068d0-df78-4e95-bb25-b106c294ea64",
   "metadata": {
    "tags": []
   },
   "outputs": [],
   "source": [
    "# Splits train dataset further to seperate 5000 instances to be used as validation set\n",
    "\n",
    "X_train, X_val, y_train, y_val = train_test_split(\n",
    "    X_train_full, y_train_full, test_size=5000, random_state=42, stratify=y_train_full)"
   ]
  },
  {
   "cell_type": "code",
   "execution_count": 16,
   "id": "b37373fd-0324-4acc-9800-35a080203310",
   "metadata": {
    "tags": []
   },
   "outputs": [],
   "source": [
    "# Each training and test example is assigned to one of the following labels.\n",
    "class_names = [\"airplanes\", \"cars\", \"birds\", \"cats\", \"deer\", \"dogs\", \"frogs\", \\\n",
    "               \"horses\", \"ships\", \"trucks\"]"
   ]
  },
  {
   "cell_type": "markdown",
   "id": "5919c99b-6f3b-48df-a322-bb2cbad8e2e3",
   "metadata": {},
   "source": [
    "Creates a dense neural network model with specific activation and kernel initializer."
   ]
  },
  {
   "cell_type": "code",
   "execution_count": 20,
   "id": "dd87e721-305c-4099-89b6-14c77f9ad22b",
   "metadata": {},
   "outputs": [
    {
     "name": "stderr",
     "output_type": "stream",
     "text": [
      "2024-08-27 13:39:06.653849: I tensorflow/core/common_runtime/process_util.cc:146] Creating new thread pool with default inter op setting: 2. Tune using inter_op_parallelism_threads for best performance.\n"
     ]
    }
   ],
   "source": [
    "tf.random.set_seed(42)\n",
    "\n",
    "model = tf.keras.Sequential()\n",
    "model.add(tf.keras.layers.Flatten(input_shape=[32, 32, 3]))\n",
    "for _ in range(20):\n",
    "    model.add(tf.keras.layers.Dense(100, activation=\"swish\", kernel_initializer=\"he_normal\"))"
   ]
  },
  {
   "cell_type": "code",
   "execution_count": 53,
   "id": "1c025f3d-3848-46d6-8373-5ab694fdf599",
   "metadata": {
    "tags": []
   },
   "outputs": [],
   "source": [
    "model.add(tf.keras.layers.Dense(10, activation=\"softmax\"))"
   ]
  },
  {
   "cell_type": "code",
   "execution_count": 55,
   "id": "22880583-37bd-432e-ad77-e873b624c4ff",
   "metadata": {
    "tags": []
   },
   "outputs": [],
   "source": [
    "optimizer = tf.keras.optimizers.Nadam(learning_rate=5e-5)\n",
    "model.compile(loss=\"sparse_categorical_crossentropy\", optimizer=optimizer, metrics=[\"accuracy\"])"
   ]
  },
  {
   "cell_type": "code",
   "execution_count": null,
   "id": "26f4da1b-7a11-489d-a55f-35bde01df783",
   "metadata": {},
   "outputs": [],
   "source": []
  },
  {
   "cell_type": "markdown",
   "id": "455a2ea6-7633-4a9e-9cb4-9285283fee5b",
   "metadata": {},
   "source": [
    "**Creates callbacks for model checkpoints, early stopping and TensorBoard.**"
   ]
  },
  {
   "cell_type": "code",
   "execution_count": 27,
   "id": "92789f12-0fb5-4a36-9f6b-1889ec8a5087",
   "metadata": {
    "tags": []
   },
   "outputs": [],
   "source": [
    "def get_logdir(logdir=\"logs\"):\n",
    "    \"\"\"\n",
    "    Returns directory path to store all logs into\n",
    "    \"\"\"\n",
    "    return Path(logdir) / strftime(\"%Y_%m_%d_%H_%M_%S\")"
   ]
  },
  {
   "cell_type": "code",
   "execution_count": 45,
   "id": "d7728ff2-e479-4b61-86b1-8d2c31406577",
   "metadata": {
    "tags": []
   },
   "outputs": [],
   "source": [
    "logdir = get_logdir()"
   ]
  },
  {
   "cell_type": "code",
   "execution_count": 49,
   "id": "38fb28d0-7cdc-49a4-b026-eee4eec3bab1",
   "metadata": {},
   "outputs": [],
   "source": [
    "model_checkpoint_callback = tf.keras.callbacks.ModelCheckpoint(\"./model_weights/my_cifar10_model\", save_best_only=True)\n",
    "early_stopping_callback = tf.keras.callbacks.EarlyStopping(patience=20, restore_best_weights=True)\n",
    "#run_index = 1 # increment every time you train the model\n",
    "#run_logdir =  get_logdir() #Path() / \"my_cifar10_logs\" / f\"run_{run_index:03d}\"\n",
    "tensorboard_callback = tf.keras.callbacks.TensorBoard(logdir)\n",
    "callbacks = [early_stopping_callback, model_checkpoint_callback, tensorboard_callback]"
   ]
  },
  {
   "cell_type": "code",
   "execution_count": 40,
   "id": "18eb6079-9c59-43a3-ac36-964e7a111ab4",
   "metadata": {},
   "outputs": [
    {
     "data": {
      "text/html": [
       "\n",
       "      <iframe id=\"tensorboard-frame-91d35cd00bfd1568\" width=\"100%\" height=\"800\" frameborder=\"0\">\n",
       "      </iframe>\n",
       "      <script>\n",
       "        (function() {\n",
       "          const frame = document.getElementById(\"tensorboard-frame-91d35cd00bfd1568\");\n",
       "          const url = new URL(\"/\", window.location);\n",
       "          const port = 6006;\n",
       "          if (port) {\n",
       "            url.port = port;\n",
       "          }\n",
       "          frame.src = url;\n",
       "        })();\n",
       "      </script>\n",
       "    "
      ],
      "text/plain": [
       "<IPython.core.display.HTML object>"
      ]
     },
     "metadata": {},
     "output_type": "display_data"
    }
   ],
   "source": [
    "%load_ext tensorboard\n",
    "%tensorboard --logdir=./logs"
   ]
  },
  {
   "cell_type": "code",
   "execution_count": 57,
   "id": "706f91b0-c961-4ab4-9d95-b760e3e86c01",
   "metadata": {},
   "outputs": [
    {
     "name": "stdout",
     "output_type": "stream",
     "text": [
      "Epoch 1/100\n",
      "1406/1407 [============================>.] - ETA: 0s - loss: 3.5538 - accuracy: 0.1724"
     ]
    },
    {
     "name": "stderr",
     "output_type": "stream",
     "text": [
      "WARNING:absl:Found untraced functions such as _update_step_xla while saving (showing 1 of 1). These functions will not be directly callable after loading.\n"
     ]
    },
    {
     "name": "stdout",
     "output_type": "stream",
     "text": [
      "INFO:tensorflow:Assets written to: ./model_weights/my_cifar10_model/assets\n"
     ]
    },
    {
     "name": "stderr",
     "output_type": "stream",
     "text": [
      "INFO:tensorflow:Assets written to: ./model_weights/my_cifar10_model/assets\n"
     ]
    },
    {
     "name": "stdout",
     "output_type": "stream",
     "text": [
      "1407/1407 [==============================] - 60s 39ms/step - loss: 3.5535 - accuracy: 0.1724 - val_loss: 2.1294 - val_accuracy: 0.2256\n",
      "Epoch 2/100\n",
      "1407/1407 [==============================] - ETA: 0s - loss: 2.0543 - accuracy: 0.2411"
     ]
    },
    {
     "name": "stderr",
     "output_type": "stream",
     "text": [
      "WARNING:absl:Found untraced functions such as _update_step_xla while saving (showing 1 of 1). These functions will not be directly callable after loading.\n"
     ]
    },
    {
     "name": "stdout",
     "output_type": "stream",
     "text": [
      "INFO:tensorflow:Assets written to: ./model_weights/my_cifar10_model/assets\n"
     ]
    },
    {
     "name": "stderr",
     "output_type": "stream",
     "text": [
      "INFO:tensorflow:Assets written to: ./model_weights/my_cifar10_model/assets\n"
     ]
    },
    {
     "name": "stdout",
     "output_type": "stream",
     "text": [
      "1407/1407 [==============================] - 49s 35ms/step - loss: 2.0543 - accuracy: 0.2411 - val_loss: 1.9738 - val_accuracy: 0.2750\n",
      "Epoch 3/100\n",
      "1405/1407 [============================>.] - ETA: 0s - loss: 1.9503 - accuracy: 0.2815"
     ]
    },
    {
     "name": "stderr",
     "output_type": "stream",
     "text": [
      "WARNING:absl:Found untraced functions such as _update_step_xla while saving (showing 1 of 1). These functions will not be directly callable after loading.\n"
     ]
    },
    {
     "name": "stdout",
     "output_type": "stream",
     "text": [
      "INFO:tensorflow:Assets written to: ./model_weights/my_cifar10_model/assets\n"
     ]
    },
    {
     "name": "stderr",
     "output_type": "stream",
     "text": [
      "INFO:tensorflow:Assets written to: ./model_weights/my_cifar10_model/assets\n"
     ]
    },
    {
     "name": "stdout",
     "output_type": "stream",
     "text": [
      "1407/1407 [==============================] - 49s 35ms/step - loss: 1.9503 - accuracy: 0.2815 - val_loss: 1.9001 - val_accuracy: 0.3036\n",
      "Epoch 4/100\n",
      "1406/1407 [============================>.] - ETA: 0s - loss: 1.8683 - accuracy: 0.3165"
     ]
    },
    {
     "name": "stderr",
     "output_type": "stream",
     "text": [
      "WARNING:absl:Found untraced functions such as _update_step_xla while saving (showing 1 of 1). These functions will not be directly callable after loading.\n"
     ]
    },
    {
     "name": "stdout",
     "output_type": "stream",
     "text": [
      "INFO:tensorflow:Assets written to: ./model_weights/my_cifar10_model/assets\n"
     ]
    },
    {
     "name": "stderr",
     "output_type": "stream",
     "text": [
      "INFO:tensorflow:Assets written to: ./model_weights/my_cifar10_model/assets\n"
     ]
    },
    {
     "name": "stdout",
     "output_type": "stream",
     "text": [
      "1407/1407 [==============================] - 55s 39ms/step - loss: 1.8683 - accuracy: 0.3166 - val_loss: 1.8604 - val_accuracy: 0.3196\n",
      "Epoch 5/100\n",
      "1407/1407 [==============================] - ETA: 0s - loss: 1.8040 - accuracy: 0.3453"
     ]
    },
    {
     "name": "stderr",
     "output_type": "stream",
     "text": [
      "WARNING:absl:Found untraced functions such as _update_step_xla while saving (showing 1 of 1). These functions will not be directly callable after loading.\n"
     ]
    },
    {
     "name": "stdout",
     "output_type": "stream",
     "text": [
      "INFO:tensorflow:Assets written to: ./model_weights/my_cifar10_model/assets\n"
     ]
    },
    {
     "name": "stderr",
     "output_type": "stream",
     "text": [
      "INFO:tensorflow:Assets written to: ./model_weights/my_cifar10_model/assets\n"
     ]
    },
    {
     "name": "stdout",
     "output_type": "stream",
     "text": [
      "1407/1407 [==============================] - 53s 38ms/step - loss: 1.8040 - accuracy: 0.3453 - val_loss: 1.8097 - val_accuracy: 0.3458\n",
      "Epoch 6/100\n",
      "1407/1407 [==============================] - ETA: 0s - loss: 1.7481 - accuracy: 0.3672"
     ]
    },
    {
     "name": "stderr",
     "output_type": "stream",
     "text": [
      "WARNING:absl:Found untraced functions such as _update_step_xla while saving (showing 1 of 1). These functions will not be directly callable after loading.\n"
     ]
    },
    {
     "name": "stdout",
     "output_type": "stream",
     "text": [
      "INFO:tensorflow:Assets written to: ./model_weights/my_cifar10_model/assets\n"
     ]
    },
    {
     "name": "stderr",
     "output_type": "stream",
     "text": [
      "INFO:tensorflow:Assets written to: ./model_weights/my_cifar10_model/assets\n"
     ]
    },
    {
     "name": "stdout",
     "output_type": "stream",
     "text": [
      "1407/1407 [==============================] - 59s 42ms/step - loss: 1.7481 - accuracy: 0.3672 - val_loss: 1.7572 - val_accuracy: 0.3684\n",
      "Epoch 7/100\n",
      "1407/1407 [==============================] - 48s 34ms/step - loss: 1.7027 - accuracy: 0.3879 - val_loss: 1.7735 - val_accuracy: 0.3494\n",
      "Epoch 8/100\n",
      "1407/1407 [==============================] - ETA: 0s - loss: 1.6681 - accuracy: 0.3982"
     ]
    },
    {
     "name": "stderr",
     "output_type": "stream",
     "text": [
      "WARNING:absl:Found untraced functions such as _update_step_xla while saving (showing 1 of 1). These functions will not be directly callable after loading.\n"
     ]
    },
    {
     "name": "stdout",
     "output_type": "stream",
     "text": [
      "INFO:tensorflow:Assets written to: ./model_weights/my_cifar10_model/assets\n"
     ]
    },
    {
     "name": "stderr",
     "output_type": "stream",
     "text": [
      "INFO:tensorflow:Assets written to: ./model_weights/my_cifar10_model/assets\n"
     ]
    },
    {
     "name": "stdout",
     "output_type": "stream",
     "text": [
      "1407/1407 [==============================] - 52s 37ms/step - loss: 1.6681 - accuracy: 0.3982 - val_loss: 1.6646 - val_accuracy: 0.4088\n",
      "Epoch 9/100\n",
      "1406/1407 [============================>.] - ETA: 0s - loss: 1.6399 - accuracy: 0.4124"
     ]
    },
    {
     "name": "stderr",
     "output_type": "stream",
     "text": [
      "WARNING:absl:Found untraced functions such as _update_step_xla while saving (showing 1 of 1). These functions will not be directly callable after loading.\n"
     ]
    },
    {
     "name": "stdout",
     "output_type": "stream",
     "text": [
      "INFO:tensorflow:Assets written to: ./model_weights/my_cifar10_model/assets\n"
     ]
    },
    {
     "name": "stderr",
     "output_type": "stream",
     "text": [
      "INFO:tensorflow:Assets written to: ./model_weights/my_cifar10_model/assets\n"
     ]
    },
    {
     "name": "stdout",
     "output_type": "stream",
     "text": [
      "1407/1407 [==============================] - 46s 33ms/step - loss: 1.6398 - accuracy: 0.4124 - val_loss: 1.6594 - val_accuracy: 0.4060\n",
      "Epoch 10/100\n",
      "1404/1407 [============================>.] - ETA: 0s - loss: 1.6122 - accuracy: 0.4214"
     ]
    },
    {
     "name": "stderr",
     "output_type": "stream",
     "text": [
      "WARNING:absl:Found untraced functions such as _update_step_xla while saving (showing 1 of 1). These functions will not be directly callable after loading.\n"
     ]
    },
    {
     "name": "stdout",
     "output_type": "stream",
     "text": [
      "INFO:tensorflow:Assets written to: ./model_weights/my_cifar10_model/assets\n"
     ]
    },
    {
     "name": "stderr",
     "output_type": "stream",
     "text": [
      "INFO:tensorflow:Assets written to: ./model_weights/my_cifar10_model/assets\n"
     ]
    },
    {
     "name": "stdout",
     "output_type": "stream",
     "text": [
      "1407/1407 [==============================] - 39s 28ms/step - loss: 1.6121 - accuracy: 0.4214 - val_loss: 1.6299 - val_accuracy: 0.4184\n",
      "Epoch 11/100\n",
      "1407/1407 [==============================] - ETA: 0s - loss: 1.5885 - accuracy: 0.4299"
     ]
    },
    {
     "name": "stderr",
     "output_type": "stream",
     "text": [
      "WARNING:absl:Found untraced functions such as _update_step_xla while saving (showing 1 of 1). These functions will not be directly callable after loading.\n"
     ]
    },
    {
     "name": "stdout",
     "output_type": "stream",
     "text": [
      "INFO:tensorflow:Assets written to: ./model_weights/my_cifar10_model/assets\n"
     ]
    },
    {
     "name": "stderr",
     "output_type": "stream",
     "text": [
      "INFO:tensorflow:Assets written to: ./model_weights/my_cifar10_model/assets\n"
     ]
    },
    {
     "name": "stdout",
     "output_type": "stream",
     "text": [
      "1407/1407 [==============================] - 48s 34ms/step - loss: 1.5885 - accuracy: 0.4299 - val_loss: 1.6213 - val_accuracy: 0.4138\n",
      "Epoch 12/100\n",
      "1407/1407 [==============================] - ETA: 0s - loss: 1.5638 - accuracy: 0.4405"
     ]
    },
    {
     "name": "stderr",
     "output_type": "stream",
     "text": [
      "WARNING:absl:Found untraced functions such as _update_step_xla while saving (showing 1 of 1). These functions will not be directly callable after loading.\n"
     ]
    },
    {
     "name": "stdout",
     "output_type": "stream",
     "text": [
      "INFO:tensorflow:Assets written to: ./model_weights/my_cifar10_model/assets\n"
     ]
    },
    {
     "name": "stderr",
     "output_type": "stream",
     "text": [
      "INFO:tensorflow:Assets written to: ./model_weights/my_cifar10_model/assets\n"
     ]
    },
    {
     "name": "stdout",
     "output_type": "stream",
     "text": [
      "1407/1407 [==============================] - 39s 28ms/step - loss: 1.5638 - accuracy: 0.4405 - val_loss: 1.6054 - val_accuracy: 0.4240\n",
      "Epoch 13/100\n",
      "1407/1407 [==============================] - ETA: 0s - loss: 1.5486 - accuracy: 0.4447"
     ]
    },
    {
     "name": "stderr",
     "output_type": "stream",
     "text": [
      "WARNING:absl:Found untraced functions such as _update_step_xla while saving (showing 1 of 1). These functions will not be directly callable after loading.\n"
     ]
    },
    {
     "name": "stdout",
     "output_type": "stream",
     "text": [
      "INFO:tensorflow:Assets written to: ./model_weights/my_cifar10_model/assets\n"
     ]
    },
    {
     "name": "stderr",
     "output_type": "stream",
     "text": [
      "INFO:tensorflow:Assets written to: ./model_weights/my_cifar10_model/assets\n"
     ]
    },
    {
     "name": "stdout",
     "output_type": "stream",
     "text": [
      "1407/1407 [==============================] - 46s 33ms/step - loss: 1.5486 - accuracy: 0.4447 - val_loss: 1.5790 - val_accuracy: 0.4296\n",
      "Epoch 14/100\n",
      "1407/1407 [==============================] - 41s 29ms/step - loss: 1.5272 - accuracy: 0.4531 - val_loss: 1.5979 - val_accuracy: 0.4248\n",
      "Epoch 15/100\n",
      "1407/1407 [==============================] - 40s 29ms/step - loss: 1.5091 - accuracy: 0.4605 - val_loss: 1.5984 - val_accuracy: 0.4278\n",
      "Epoch 16/100\n",
      "1406/1407 [============================>.] - ETA: 0s - loss: 1.4949 - accuracy: 0.4662"
     ]
    },
    {
     "name": "stderr",
     "output_type": "stream",
     "text": [
      "WARNING:absl:Found untraced functions such as _update_step_xla while saving (showing 1 of 1). These functions will not be directly callable after loading.\n"
     ]
    },
    {
     "name": "stdout",
     "output_type": "stream",
     "text": [
      "INFO:tensorflow:Assets written to: ./model_weights/my_cifar10_model/assets\n"
     ]
    },
    {
     "name": "stderr",
     "output_type": "stream",
     "text": [
      "INFO:tensorflow:Assets written to: ./model_weights/my_cifar10_model/assets\n"
     ]
    },
    {
     "name": "stdout",
     "output_type": "stream",
     "text": [
      "1407/1407 [==============================] - 48s 34ms/step - loss: 1.4950 - accuracy: 0.4662 - val_loss: 1.5751 - val_accuracy: 0.4360\n",
      "Epoch 17/100\n",
      "1407/1407 [==============================] - 39s 28ms/step - loss: 1.4800 - accuracy: 0.4703 - val_loss: 1.5934 - val_accuracy: 0.4212\n",
      "Epoch 18/100\n",
      "1405/1407 [============================>.] - ETA: 0s - loss: 1.4670 - accuracy: 0.4762"
     ]
    },
    {
     "name": "stderr",
     "output_type": "stream",
     "text": [
      "WARNING:absl:Found untraced functions such as _update_step_xla while saving (showing 1 of 1). These functions will not be directly callable after loading.\n"
     ]
    },
    {
     "name": "stdout",
     "output_type": "stream",
     "text": [
      "INFO:tensorflow:Assets written to: ./model_weights/my_cifar10_model/assets\n"
     ]
    },
    {
     "name": "stderr",
     "output_type": "stream",
     "text": [
      "INFO:tensorflow:Assets written to: ./model_weights/my_cifar10_model/assets\n"
     ]
    },
    {
     "name": "stdout",
     "output_type": "stream",
     "text": [
      "1407/1407 [==============================] - 39s 28ms/step - loss: 1.4668 - accuracy: 0.4763 - val_loss: 1.5735 - val_accuracy: 0.4392\n",
      "Epoch 19/100\n",
      "1406/1407 [============================>.] - ETA: 0s - loss: 1.4544 - accuracy: 0.4790"
     ]
    },
    {
     "name": "stderr",
     "output_type": "stream",
     "text": [
      "WARNING:absl:Found untraced functions such as _update_step_xla while saving (showing 1 of 1). These functions will not be directly callable after loading.\n"
     ]
    },
    {
     "name": "stdout",
     "output_type": "stream",
     "text": [
      "INFO:tensorflow:Assets written to: ./model_weights/my_cifar10_model/assets\n"
     ]
    },
    {
     "name": "stderr",
     "output_type": "stream",
     "text": [
      "INFO:tensorflow:Assets written to: ./model_weights/my_cifar10_model/assets\n"
     ]
    },
    {
     "name": "stdout",
     "output_type": "stream",
     "text": [
      "1407/1407 [==============================] - 44s 31ms/step - loss: 1.4545 - accuracy: 0.4790 - val_loss: 1.5664 - val_accuracy: 0.4496\n",
      "Epoch 20/100\n",
      "1407/1407 [==============================] - 46s 33ms/step - loss: 1.4414 - accuracy: 0.4865 - val_loss: 1.5818 - val_accuracy: 0.4354\n",
      "Epoch 21/100\n",
      "1407/1407 [==============================] - ETA: 0s - loss: 1.4279 - accuracy: 0.4920"
     ]
    },
    {
     "name": "stderr",
     "output_type": "stream",
     "text": [
      "WARNING:absl:Found untraced functions such as _update_step_xla while saving (showing 1 of 1). These functions will not be directly callable after loading.\n"
     ]
    },
    {
     "name": "stdout",
     "output_type": "stream",
     "text": [
      "INFO:tensorflow:Assets written to: ./model_weights/my_cifar10_model/assets\n"
     ]
    },
    {
     "name": "stderr",
     "output_type": "stream",
     "text": [
      "INFO:tensorflow:Assets written to: ./model_weights/my_cifar10_model/assets\n"
     ]
    },
    {
     "name": "stdout",
     "output_type": "stream",
     "text": [
      "1407/1407 [==============================] - 49s 35ms/step - loss: 1.4279 - accuracy: 0.4920 - val_loss: 1.5515 - val_accuracy: 0.4460\n",
      "Epoch 22/100\n",
      "1407/1407 [==============================] - 39s 28ms/step - loss: 1.4172 - accuracy: 0.4925 - val_loss: 1.5652 - val_accuracy: 0.4468\n",
      "Epoch 23/100\n",
      "1404/1407 [============================>.] - ETA: 0s - loss: 1.4064 - accuracy: 0.4977"
     ]
    },
    {
     "name": "stderr",
     "output_type": "stream",
     "text": [
      "WARNING:absl:Found untraced functions such as _update_step_xla while saving (showing 1 of 1). These functions will not be directly callable after loading.\n"
     ]
    },
    {
     "name": "stdout",
     "output_type": "stream",
     "text": [
      "INFO:tensorflow:Assets written to: ./model_weights/my_cifar10_model/assets\n"
     ]
    },
    {
     "name": "stderr",
     "output_type": "stream",
     "text": [
      "INFO:tensorflow:Assets written to: ./model_weights/my_cifar10_model/assets\n"
     ]
    },
    {
     "name": "stdout",
     "output_type": "stream",
     "text": [
      "1407/1407 [==============================] - 42s 30ms/step - loss: 1.4060 - accuracy: 0.4978 - val_loss: 1.5403 - val_accuracy: 0.4456\n",
      "Epoch 24/100\n",
      "1405/1407 [============================>.] - ETA: 0s - loss: 1.3975 - accuracy: 0.5002"
     ]
    },
    {
     "name": "stderr",
     "output_type": "stream",
     "text": [
      "WARNING:absl:Found untraced functions such as _update_step_xla while saving (showing 1 of 1). These functions will not be directly callable after loading.\n"
     ]
    },
    {
     "name": "stdout",
     "output_type": "stream",
     "text": [
      "INFO:tensorflow:Assets written to: ./model_weights/my_cifar10_model/assets\n"
     ]
    },
    {
     "name": "stderr",
     "output_type": "stream",
     "text": [
      "INFO:tensorflow:Assets written to: ./model_weights/my_cifar10_model/assets\n"
     ]
    },
    {
     "name": "stdout",
     "output_type": "stream",
     "text": [
      "1407/1407 [==============================] - 43s 31ms/step - loss: 1.3974 - accuracy: 0.5002 - val_loss: 1.5276 - val_accuracy: 0.4544\n",
      "Epoch 25/100\n",
      "1407/1407 [==============================] - 46s 32ms/step - loss: 1.3862 - accuracy: 0.5036 - val_loss: 1.5320 - val_accuracy: 0.4508\n",
      "Epoch 26/100\n",
      "1407/1407 [==============================] - 40s 29ms/step - loss: 1.3745 - accuracy: 0.5103 - val_loss: 1.5471 - val_accuracy: 0.4578\n",
      "Epoch 27/100\n",
      "1406/1407 [============================>.] - ETA: 0s - loss: 1.3663 - accuracy: 0.5108"
     ]
    },
    {
     "name": "stderr",
     "output_type": "stream",
     "text": [
      "WARNING:absl:Found untraced functions such as _update_step_xla while saving (showing 1 of 1). These functions will not be directly callable after loading.\n"
     ]
    },
    {
     "name": "stdout",
     "output_type": "stream",
     "text": [
      "INFO:tensorflow:Assets written to: ./model_weights/my_cifar10_model/assets\n"
     ]
    },
    {
     "name": "stderr",
     "output_type": "stream",
     "text": [
      "INFO:tensorflow:Assets written to: ./model_weights/my_cifar10_model/assets\n"
     ]
    },
    {
     "name": "stdout",
     "output_type": "stream",
     "text": [
      "1407/1407 [==============================] - 50s 35ms/step - loss: 1.3663 - accuracy: 0.5108 - val_loss: 1.5275 - val_accuracy: 0.4662\n",
      "Epoch 28/100\n",
      "1406/1407 [============================>.] - ETA: 0s - loss: 1.3552 - accuracy: 0.5155"
     ]
    },
    {
     "name": "stderr",
     "output_type": "stream",
     "text": [
      "WARNING:absl:Found untraced functions such as _update_step_xla while saving (showing 1 of 1). These functions will not be directly callable after loading.\n"
     ]
    },
    {
     "name": "stdout",
     "output_type": "stream",
     "text": [
      "INFO:tensorflow:Assets written to: ./model_weights/my_cifar10_model/assets\n"
     ]
    },
    {
     "name": "stderr",
     "output_type": "stream",
     "text": [
      "INFO:tensorflow:Assets written to: ./model_weights/my_cifar10_model/assets\n"
     ]
    },
    {
     "name": "stdout",
     "output_type": "stream",
     "text": [
      "1407/1407 [==============================] - 46s 33ms/step - loss: 1.3552 - accuracy: 0.5155 - val_loss: 1.5023 - val_accuracy: 0.4692\n",
      "Epoch 29/100\n",
      "1407/1407 [==============================] - 40s 29ms/step - loss: 1.3459 - accuracy: 0.5173 - val_loss: 1.5215 - val_accuracy: 0.4674\n",
      "Epoch 30/100\n",
      "1407/1407 [==============================] - 44s 31ms/step - loss: 1.3350 - accuracy: 0.5238 - val_loss: 1.5346 - val_accuracy: 0.4600\n",
      "Epoch 31/100\n",
      "1407/1407 [==============================] - 40s 28ms/step - loss: 1.3278 - accuracy: 0.5248 - val_loss: 1.5167 - val_accuracy: 0.4668\n",
      "Epoch 32/100\n",
      "1407/1407 [==============================] - 43s 30ms/step - loss: 1.3188 - accuracy: 0.5287 - val_loss: 1.5455 - val_accuracy: 0.4516\n",
      "Epoch 33/100\n",
      "1407/1407 [==============================] - 45s 32ms/step - loss: 1.3091 - accuracy: 0.5317 - val_loss: 1.5499 - val_accuracy: 0.4578\n",
      "Epoch 34/100\n",
      "1407/1407 [==============================] - 41s 29ms/step - loss: 1.3024 - accuracy: 0.5351 - val_loss: 1.5146 - val_accuracy: 0.4722\n",
      "Epoch 35/100\n",
      "1407/1407 [==============================] - 40s 29ms/step - loss: 1.2923 - accuracy: 0.5378 - val_loss: 1.5305 - val_accuracy: 0.4638\n",
      "Epoch 36/100\n",
      "1407/1407 [==============================] - 38s 27ms/step - loss: 1.2848 - accuracy: 0.5416 - val_loss: 1.5366 - val_accuracy: 0.4616\n",
      "Epoch 37/100\n",
      "1407/1407 [==============================] - 45s 32ms/step - loss: 1.2747 - accuracy: 0.5440 - val_loss: 1.5333 - val_accuracy: 0.4614\n",
      "Epoch 38/100\n",
      "1407/1407 [==============================] - 39s 28ms/step - loss: 1.2685 - accuracy: 0.5452 - val_loss: 1.5113 - val_accuracy: 0.4744\n",
      "Epoch 39/100\n",
      "1407/1407 [==============================] - 42s 30ms/step - loss: 1.2639 - accuracy: 0.5509 - val_loss: 1.5083 - val_accuracy: 0.4704\n",
      "Epoch 40/100\n",
      "1407/1407 [==============================] - 44s 31ms/step - loss: 1.2509 - accuracy: 0.5527 - val_loss: 1.5316 - val_accuracy: 0.4690\n",
      "Epoch 41/100\n",
      "1407/1407 [==============================] - 42s 30ms/step - loss: 1.2479 - accuracy: 0.5529 - val_loss: 1.5165 - val_accuracy: 0.4742\n",
      "Epoch 42/100\n",
      "1407/1407 [==============================] - 42s 30ms/step - loss: 1.2375 - accuracy: 0.5586 - val_loss: 1.5232 - val_accuracy: 0.4744\n",
      "Epoch 43/100\n",
      "1407/1407 [==============================] - 49s 35ms/step - loss: 1.2312 - accuracy: 0.5585 - val_loss: 1.5433 - val_accuracy: 0.4700\n",
      "Epoch 44/100\n",
      "1407/1407 [==============================] - 42s 30ms/step - loss: 1.2247 - accuracy: 0.5603 - val_loss: 1.5576 - val_accuracy: 0.4616\n",
      "Epoch 45/100\n",
      "1407/1407 [==============================] - 48s 34ms/step - loss: 1.2181 - accuracy: 0.5626 - val_loss: 1.5341 - val_accuracy: 0.4686\n",
      "Epoch 46/100\n",
      "1407/1407 [==============================] - 41s 29ms/step - loss: 1.2068 - accuracy: 0.5672 - val_loss: 1.5565 - val_accuracy: 0.4676\n",
      "Epoch 47/100\n",
      "1407/1407 [==============================] - 46s 33ms/step - loss: 1.2000 - accuracy: 0.5693 - val_loss: 1.5300 - val_accuracy: 0.4738\n",
      "Epoch 48/100\n",
      "1407/1407 [==============================] - 46s 33ms/step - loss: 1.1940 - accuracy: 0.5739 - val_loss: 1.5657 - val_accuracy: 0.4622\n"
     ]
    },
    {
     "data": {
      "text/plain": [
       "<keras.callbacks.History at 0x78a6438a7450>"
      ]
     },
     "execution_count": 57,
     "metadata": {},
     "output_type": "execute_result"
    }
   ],
   "source": [
    "model.fit(X_train, y_train, epochs=100, validation_data=(X_val, y_val), callbacks=callbacks)"
   ]
  },
  {
   "cell_type": "code",
   "execution_count": 64,
   "id": "56f27055-e362-4a38-8591-fce79b274516",
   "metadata": {},
   "outputs": [
    {
     "name": "stdout",
     "output_type": "stream",
     "text": [
      "157/157 [==============================] - 1s 6ms/step - loss: 1.5023 - accuracy: 0.4692\n"
     ]
    },
    {
     "data": {
      "text/plain": [
       "[1.5023068189620972, 0.4691999852657318]"
      ]
     },
     "execution_count": 64,
     "metadata": {},
     "output_type": "execute_result"
    }
   ],
   "source": [
    "model.evaluate(X_val, y_val)"
   ]
  },
  {
   "cell_type": "markdown",
   "id": "c779936f-9650-48ab-8fd9-79a2f013c92b",
   "metadata": {},
   "source": [
    "**Now, adds batch normalization layer after every Dense layer (and before the activation function), except for the output layer.**"
   ]
  },
  {
   "cell_type": "code",
   "execution_count": 67,
   "id": "c0b64a68-3d49-4edf-898b-f0f4bfab7355",
   "metadata": {},
   "outputs": [],
   "source": [
    "# Resets all the keras states\n",
    "tf.keras.backend.clear_session()\n",
    "\n",
    "tf.random.set_seed(42)\n",
    "\n",
    "model = tf.keras.Sequential()\n",
    "model.add(tf.keras.layers.Flatten(input_shape=[32, 32, 3]))\n",
    "for _ in range(20):\n",
    "    model.add(tf.keras.layers.Dense(100, kernel_initializer=\"he_normal\"))\n",
    "    model.add(tf.keras.layers.BatchNormalization())\n",
    "    model.add(tf.keras.layers.Activation(\"swish\"))\n",
    "    \n",
    "model.add(tf.keras.layers.Dense(10, activation=\"softmax\"))\n",
    "\n",
    "optimizer = tf.keras.optimizers.Nadam(learning_rate=5e-4)\n",
    "model.compile(loss=\"sparse_categorical_crossentropy\", optimizer=optimizer, metrics=[\"accuracy\"])\n"
   ]
  },
  {
   "cell_type": "code",
   "execution_count": 69,
   "id": "6d4fd5d6-cb24-473e-b18d-5cc7d427281a",
   "metadata": {
    "tags": []
   },
   "outputs": [],
   "source": [
    "logdir = get_logdir()"
   ]
  },
  {
   "cell_type": "code",
   "execution_count": 73,
   "id": "2966a2a9-a13f-4238-9c8e-5de90268925a",
   "metadata": {
    "tags": []
   },
   "outputs": [],
   "source": [
    "model_checkpoint_callback = tf.keras.callbacks.ModelCheckpoint(\"./model_weights/my_cifar10_bn_model\", save_best_only=True)\n",
    "early_stopping_callback = tf.keras.callbacks.EarlyStopping(patience=20, restore_best_weights=True)\n",
    "tensorboard_callback = tf.keras.callbacks.TensorBoard(logdir)\n",
    "callbacks = [early_stopping_callback, model_checkpoint_callback, tensorboard_callback]"
   ]
  },
  {
   "cell_type": "code",
   "execution_count": 77,
   "id": "6ba2983e-1f0f-4999-b0ad-30718312e645",
   "metadata": {
    "tags": []
   },
   "outputs": [
    {
     "name": "stdout",
     "output_type": "stream",
     "text": [
      "Epoch 1/100\n",
      "1407/1407 [==============================] - ETA: 0s - loss: 2.0326 - accuracy: 0.2520"
     ]
    },
    {
     "name": "stderr",
     "output_type": "stream",
     "text": [
      "WARNING:absl:Found untraced functions such as _update_step_xla while saving (showing 1 of 1). These functions will not be directly callable after loading.\n"
     ]
    },
    {
     "name": "stdout",
     "output_type": "stream",
     "text": [
      "INFO:tensorflow:Assets written to: ./model_weights/my_cifar10_bn_model/assets\n"
     ]
    },
    {
     "name": "stderr",
     "output_type": "stream",
     "text": [
      "INFO:tensorflow:Assets written to: ./model_weights/my_cifar10_bn_model/assets\n"
     ]
    },
    {
     "name": "stdout",
     "output_type": "stream",
     "text": [
      "1407/1407 [==============================] - 81s 51ms/step - loss: 2.0326 - accuracy: 0.2520 - val_loss: 2.0919 - val_accuracy: 0.2450\n",
      "Epoch 2/100\n",
      "1406/1407 [============================>.] - ETA: 0s - loss: 1.7808 - accuracy: 0.3579"
     ]
    },
    {
     "name": "stderr",
     "output_type": "stream",
     "text": [
      "WARNING:absl:Found untraced functions such as _update_step_xla while saving (showing 1 of 1). These functions will not be directly callable after loading.\n"
     ]
    },
    {
     "name": "stdout",
     "output_type": "stream",
     "text": [
      "INFO:tensorflow:Assets written to: ./model_weights/my_cifar10_bn_model/assets\n"
     ]
    },
    {
     "name": "stderr",
     "output_type": "stream",
     "text": [
      "INFO:tensorflow:Assets written to: ./model_weights/my_cifar10_bn_model/assets\n"
     ]
    },
    {
     "name": "stdout",
     "output_type": "stream",
     "text": [
      "1407/1407 [==============================] - 76s 54ms/step - loss: 1.7809 - accuracy: 0.3579 - val_loss: 1.8972 - val_accuracy: 0.3144\n",
      "Epoch 3/100\n",
      "1407/1407 [==============================] - 64s 46ms/step - loss: 1.6762 - accuracy: 0.4017 - val_loss: 2.1602 - val_accuracy: 0.2828\n",
      "Epoch 4/100\n",
      "1406/1407 [============================>.] - ETA: 0s - loss: 1.6169 - accuracy: 0.4216"
     ]
    },
    {
     "name": "stderr",
     "output_type": "stream",
     "text": [
      "WARNING:absl:Found untraced functions such as _update_step_xla while saving (showing 1 of 1). These functions will not be directly callable after loading.\n"
     ]
    },
    {
     "name": "stdout",
     "output_type": "stream",
     "text": [
      "INFO:tensorflow:Assets written to: ./model_weights/my_cifar10_bn_model/assets\n"
     ]
    },
    {
     "name": "stderr",
     "output_type": "stream",
     "text": [
      "INFO:tensorflow:Assets written to: ./model_weights/my_cifar10_bn_model/assets\n"
     ]
    },
    {
     "name": "stdout",
     "output_type": "stream",
     "text": [
      "1407/1407 [==============================] - 70s 50ms/step - loss: 1.6168 - accuracy: 0.4216 - val_loss: 1.6511 - val_accuracy: 0.4002\n",
      "Epoch 5/100\n",
      "1407/1407 [==============================] - 62s 44ms/step - loss: 1.5509 - accuracy: 0.4475 - val_loss: 1.7401 - val_accuracy: 0.3726\n",
      "Epoch 6/100\n",
      "1407/1407 [==============================] - 57s 41ms/step - loss: 1.5074 - accuracy: 0.4622 - val_loss: 1.6567 - val_accuracy: 0.4228\n",
      "Epoch 7/100\n",
      "1407/1407 [==============================] - ETA: 0s - loss: 1.4615 - accuracy: 0.4838"
     ]
    },
    {
     "name": "stderr",
     "output_type": "stream",
     "text": [
      "WARNING:absl:Found untraced functions such as _update_step_xla while saving (showing 1 of 1). These functions will not be directly callable after loading.\n"
     ]
    },
    {
     "name": "stdout",
     "output_type": "stream",
     "text": [
      "INFO:tensorflow:Assets written to: ./model_weights/my_cifar10_bn_model/assets\n"
     ]
    },
    {
     "name": "stderr",
     "output_type": "stream",
     "text": [
      "INFO:tensorflow:Assets written to: ./model_weights/my_cifar10_bn_model/assets\n"
     ]
    },
    {
     "name": "stdout",
     "output_type": "stream",
     "text": [
      "1407/1407 [==============================] - 65s 46ms/step - loss: 1.4615 - accuracy: 0.4838 - val_loss: 1.5529 - val_accuracy: 0.4598\n",
      "Epoch 8/100\n",
      "1407/1407 [==============================] - 59s 42ms/step - loss: 1.4242 - accuracy: 0.4959 - val_loss: 1.6062 - val_accuracy: 0.4242\n",
      "Epoch 9/100\n",
      "1407/1407 [==============================] - 60s 43ms/step - loss: 1.3815 - accuracy: 0.5099 - val_loss: 1.5775 - val_accuracy: 0.4436\n",
      "Epoch 10/100\n",
      "1407/1407 [==============================] - ETA: 0s - loss: 1.3534 - accuracy: 0.5201"
     ]
    },
    {
     "name": "stderr",
     "output_type": "stream",
     "text": [
      "WARNING:absl:Found untraced functions such as _update_step_xla while saving (showing 1 of 1). These functions will not be directly callable after loading.\n"
     ]
    },
    {
     "name": "stdout",
     "output_type": "stream",
     "text": [
      "INFO:tensorflow:Assets written to: ./model_weights/my_cifar10_bn_model/assets\n"
     ]
    },
    {
     "name": "stderr",
     "output_type": "stream",
     "text": [
      "INFO:tensorflow:Assets written to: ./model_weights/my_cifar10_bn_model/assets\n"
     ]
    },
    {
     "name": "stdout",
     "output_type": "stream",
     "text": [
      "1407/1407 [==============================] - 63s 45ms/step - loss: 1.3534 - accuracy: 0.5201 - val_loss: 1.4841 - val_accuracy: 0.4678\n",
      "Epoch 11/100\n",
      "1407/1407 [==============================] - 62s 44ms/step - loss: 1.3270 - accuracy: 0.5308 - val_loss: 1.6689 - val_accuracy: 0.4124\n",
      "Epoch 12/100\n",
      "1407/1407 [==============================] - 53s 38ms/step - loss: 1.2989 - accuracy: 0.5409 - val_loss: 1.7644 - val_accuracy: 0.4234\n",
      "Epoch 13/100\n",
      "1406/1407 [============================>.] - ETA: 0s - loss: 1.2702 - accuracy: 0.5479"
     ]
    },
    {
     "name": "stderr",
     "output_type": "stream",
     "text": [
      "WARNING:absl:Found untraced functions such as _update_step_xla while saving (showing 1 of 1). These functions will not be directly callable after loading.\n"
     ]
    },
    {
     "name": "stdout",
     "output_type": "stream",
     "text": [
      "INFO:tensorflow:Assets written to: ./model_weights/my_cifar10_bn_model/assets\n"
     ]
    },
    {
     "name": "stderr",
     "output_type": "stream",
     "text": [
      "INFO:tensorflow:Assets written to: ./model_weights/my_cifar10_bn_model/assets\n"
     ]
    },
    {
     "name": "stdout",
     "output_type": "stream",
     "text": [
      "1407/1407 [==============================] - 67s 47ms/step - loss: 1.2702 - accuracy: 0.5478 - val_loss: 1.4416 - val_accuracy: 0.4828\n",
      "Epoch 14/100\n",
      "1407/1407 [==============================] - 54s 39ms/step - loss: 1.2465 - accuracy: 0.5568 - val_loss: 1.5086 - val_accuracy: 0.4736\n",
      "Epoch 15/100\n",
      "1406/1407 [============================>.] - ETA: 0s - loss: 1.2255 - accuracy: 0.5658"
     ]
    },
    {
     "name": "stderr",
     "output_type": "stream",
     "text": [
      "WARNING:absl:Found untraced functions such as _update_step_xla while saving (showing 1 of 1). These functions will not be directly callable after loading.\n"
     ]
    },
    {
     "name": "stdout",
     "output_type": "stream",
     "text": [
      "INFO:tensorflow:Assets written to: ./model_weights/my_cifar10_bn_model/assets\n"
     ]
    },
    {
     "name": "stderr",
     "output_type": "stream",
     "text": [
      "INFO:tensorflow:Assets written to: ./model_weights/my_cifar10_bn_model/assets\n"
     ]
    },
    {
     "name": "stdout",
     "output_type": "stream",
     "text": [
      "1407/1407 [==============================] - 64s 45ms/step - loss: 1.2255 - accuracy: 0.5658 - val_loss: 1.4116 - val_accuracy: 0.5010\n",
      "Epoch 16/100\n",
      "1407/1407 [==============================] - 57s 40ms/step - loss: 1.1979 - accuracy: 0.5756 - val_loss: 1.5581 - val_accuracy: 0.4842\n",
      "Epoch 17/100\n",
      "1407/1407 [==============================] - 56s 40ms/step - loss: 1.1825 - accuracy: 0.5845 - val_loss: 1.5083 - val_accuracy: 0.4832\n",
      "Epoch 18/100\n",
      "1407/1407 [==============================] - 57s 40ms/step - loss: 1.1705 - accuracy: 0.5871 - val_loss: 1.5098 - val_accuracy: 0.4804\n",
      "Epoch 19/100\n",
      "1407/1407 [==============================] - 60s 42ms/step - loss: 1.1497 - accuracy: 0.5938 - val_loss: 1.4398 - val_accuracy: 0.5080\n",
      "Epoch 20/100\n",
      "1407/1407 [==============================] - 56s 40ms/step - loss: 1.1362 - accuracy: 0.5980 - val_loss: 1.4424 - val_accuracy: 0.4988\n",
      "Epoch 21/100\n",
      "1407/1407 [==============================] - 55s 39ms/step - loss: 1.1158 - accuracy: 0.6059 - val_loss: 1.4624 - val_accuracy: 0.4972\n",
      "Epoch 22/100\n",
      "1407/1407 [==============================] - 59s 42ms/step - loss: 1.1013 - accuracy: 0.6106 - val_loss: 1.5558 - val_accuracy: 0.4738\n",
      "Epoch 23/100\n",
      "1407/1407 [==============================] - 55s 39ms/step - loss: 1.0871 - accuracy: 0.6184 - val_loss: 1.4805 - val_accuracy: 0.4956\n",
      "Epoch 24/100\n",
      "1407/1407 [==============================] - 55s 39ms/step - loss: 1.0742 - accuracy: 0.6204 - val_loss: 1.5385 - val_accuracy: 0.4888\n",
      "Epoch 25/100\n",
      "1407/1407 [==============================] - 58s 41ms/step - loss: 1.0595 - accuracy: 0.6257 - val_loss: 1.5630 - val_accuracy: 0.4836\n",
      "Epoch 26/100\n",
      "1407/1407 [==============================] - 53s 38ms/step - loss: 1.0427 - accuracy: 0.6326 - val_loss: 1.5266 - val_accuracy: 0.4938\n",
      "Epoch 27/100\n",
      "1407/1407 [==============================] - 56s 40ms/step - loss: 1.0330 - accuracy: 0.6363 - val_loss: 1.5052 - val_accuracy: 0.5050\n",
      "Epoch 28/100\n",
      "1407/1407 [==============================] - 58s 41ms/step - loss: 1.0189 - accuracy: 0.6404 - val_loss: 1.4510 - val_accuracy: 0.5036\n",
      "Epoch 29/100\n",
      "1407/1407 [==============================] - 60s 43ms/step - loss: 1.0001 - accuracy: 0.6443 - val_loss: 1.4785 - val_accuracy: 0.5072\n",
      "Epoch 30/100\n",
      "1407/1407 [==============================] - 56s 40ms/step - loss: 0.9922 - accuracy: 0.6478 - val_loss: 1.7585 - val_accuracy: 0.4622\n",
      "Epoch 31/100\n",
      "1407/1407 [==============================] - 63s 45ms/step - loss: 0.9845 - accuracy: 0.6509 - val_loss: 1.5317 - val_accuracy: 0.4986\n",
      "Epoch 32/100\n",
      "1407/1407 [==============================] - 62s 44ms/step - loss: 0.9768 - accuracy: 0.6550 - val_loss: 1.5224 - val_accuracy: 0.4924\n",
      "Epoch 33/100\n",
      "1407/1407 [==============================] - 61s 43ms/step - loss: 0.9637 - accuracy: 0.6592 - val_loss: 1.5291 - val_accuracy: 0.4946\n",
      "Epoch 34/100\n",
      "1407/1407 [==============================] - 61s 43ms/step - loss: 0.9534 - accuracy: 0.6610 - val_loss: 1.6324 - val_accuracy: 0.4622\n",
      "Epoch 35/100\n",
      "1407/1407 [==============================] - 57s 40ms/step - loss: 0.9370 - accuracy: 0.6696 - val_loss: 1.5227 - val_accuracy: 0.5068\n"
     ]
    },
    {
     "data": {
      "text/plain": [
       "<keras.callbacks.History at 0x78a5f6b5a190>"
      ]
     },
     "execution_count": 77,
     "metadata": {},
     "output_type": "execute_result"
    }
   ],
   "source": [
    "model.fit(X_train, y_train, epochs=100, validation_data=(X_val, y_val), callbacks=callbacks)"
   ]
  },
  {
   "cell_type": "code",
   "execution_count": 82,
   "id": "e36dec51-a40e-4e0f-8035-2bcca5b82860",
   "metadata": {
    "tags": []
   },
   "outputs": [
    {
     "name": "stdout",
     "output_type": "stream",
     "text": [
      "157/157 [==============================] - 3s 16ms/step - loss: 1.4116 - accuracy: 0.5010\n"
     ]
    },
    {
     "data": {
      "text/plain": [
       "[1.4116411209106445, 0.5009999871253967]"
      ]
     },
     "execution_count": 82,
     "metadata": {},
     "output_type": "execute_result"
    }
   ],
   "source": [
    "model.evaluate(X_val, y_val)"
   ]
  },
  {
   "cell_type": "markdown",
   "id": "3e9ddb95-4036-4240-a6e7-27f3faf3809a",
   "metadata": {},
   "source": [
    "**Observations:**\n",
    "\n",
    "- The previous model took 27 epochs to reach the lowest validation loss, while the new model achieved that same loss in just 9 epochs and continued to make progress until the 14th epoch. The BN layers stabilized training and allowed us to use a much larger learning rate, so convergence was faster.\n",
    "\n",
    "- The final model is also much better, with 50.1% validation accuracy instead of 46.91%.\n",
    "\n",
    "- Although the model converged much faster, each epoch took about 60s instead of 50s, because of the extra computations required by the BN layers. But overall the training time (wall time) to reach the best model was shortened from 28 minutes to 18 minutes."
   ]
  },
  {
   "cell_type": "code",
   "execution_count": null,
   "id": "ae1e4ec0-63a7-43c3-992c-5d85af641e20",
   "metadata": {},
   "outputs": [],
   "source": []
  }
 ],
 "metadata": {
  "kernelspec": {
   "display_name": "Python 3 (ipykernel)",
   "language": "python",
   "name": "python3"
  },
  "language_info": {
   "codemirror_mode": {
    "name": "ipython",
    "version": 3
   },
   "file_extension": ".py",
   "mimetype": "text/x-python",
   "name": "python",
   "nbconvert_exporter": "python",
   "pygments_lexer": "ipython3",
   "version": "3.11.5"
  }
 },
 "nbformat": 4,
 "nbformat_minor": 5
}
