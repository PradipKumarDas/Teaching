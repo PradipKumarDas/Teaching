{
 "cells": [
  {
   "cell_type": "markdown",
   "id": "1cc419ee-a12c-4b90-b98e-c58fa1c98e00",
   "metadata": {},
   "source": [
    "# BUDGET CLASSIFICATION USING DECISION TREES\n",
    "\n",
    "_**Classifying budget level of movies for production companies based on parameters such as country, director, genre, expected revienue, main star, etc.**_\n",
    "Data card is available at https://www.kaggle.com/datasets/danielgrijalvas/movies."
   ]
  },
  {
   "cell_type": "code",
   "execution_count": 2,
   "id": "ffee58fb-6e1f-4e47-8e0c-7d06804cf229",
   "metadata": {
    "tags": []
   },
   "outputs": [],
   "source": [
    "# Imports required packages\n",
    "\n",
    "import numpy as np\n",
    "import pandas as pd\n",
    "\n",
    "import re\n",
    "\n",
    "from sklearn.model_selection import train_test_split\n",
    "\n",
    "from sklearn.compose import ColumnTransformer\n",
    "from sklearn.pipeline import Pipeline\n",
    "\n",
    "from sklearn.preprocessing import OneHotEncoder\n",
    "\n",
    "from sklearn.ensemble import RandomForestClassifier\n",
    "\n",
    "import matplotlib.pyplot as plt\n",
    "from sklearn.metrics import ConfusionMatrixDisplay, accuracy_score"
   ]
  },
  {
   "cell_type": "markdown",
   "id": "88abfd4c-a70b-491c-a880-659292471778",
   "metadata": {},
   "source": [
    "## Data Collection"
   ]
  },
  {
   "cell_type": "code",
   "execution_count": 4,
   "id": "15525bec-13e8-4294-a851-573713a257f7",
   "metadata": {
    "tags": []
   },
   "outputs": [],
   "source": [
    "# Loads dataset from csv file\n",
    "movies = pd.read_csv(\"../Data/movies.csv\")"
   ]
  },
  {
   "cell_type": "code",
   "execution_count": 5,
   "id": "f8f2612b-f5d0-45ab-8854-81ace1921e5c",
   "metadata": {
    "tags": []
   },
   "outputs": [
    {
     "data": {
      "text/html": [
       "<div>\n",
       "<style scoped>\n",
       "    .dataframe tbody tr th:only-of-type {\n",
       "        vertical-align: middle;\n",
       "    }\n",
       "\n",
       "    .dataframe tbody tr th {\n",
       "        vertical-align: top;\n",
       "    }\n",
       "\n",
       "    .dataframe thead th {\n",
       "        text-align: right;\n",
       "    }\n",
       "</style>\n",
       "<table border=\"1\" class=\"dataframe\">\n",
       "  <thead>\n",
       "    <tr style=\"text-align: right;\">\n",
       "      <th></th>\n",
       "      <th>name</th>\n",
       "      <th>rating</th>\n",
       "      <th>genre</th>\n",
       "      <th>year</th>\n",
       "      <th>released</th>\n",
       "      <th>score</th>\n",
       "      <th>votes</th>\n",
       "      <th>director</th>\n",
       "      <th>writer</th>\n",
       "      <th>star</th>\n",
       "      <th>country</th>\n",
       "      <th>budget</th>\n",
       "      <th>gross</th>\n",
       "      <th>company</th>\n",
       "      <th>runtime</th>\n",
       "    </tr>\n",
       "  </thead>\n",
       "  <tbody>\n",
       "    <tr>\n",
       "      <th>0</th>\n",
       "      <td>The Shining</td>\n",
       "      <td>R</td>\n",
       "      <td>Drama</td>\n",
       "      <td>1980</td>\n",
       "      <td>June 13, 1980 (United States)</td>\n",
       "      <td>8.4</td>\n",
       "      <td>927000.0</td>\n",
       "      <td>Stanley Kubrick</td>\n",
       "      <td>Stephen King</td>\n",
       "      <td>Jack Nicholson</td>\n",
       "      <td>United Kingdom</td>\n",
       "      <td>19000000.0</td>\n",
       "      <td>46998772.0</td>\n",
       "      <td>Warner Bros.</td>\n",
       "      <td>146.0</td>\n",
       "    </tr>\n",
       "    <tr>\n",
       "      <th>1</th>\n",
       "      <td>The Blue Lagoon</td>\n",
       "      <td>R</td>\n",
       "      <td>Adventure</td>\n",
       "      <td>1980</td>\n",
       "      <td>July 2, 1980 (United States)</td>\n",
       "      <td>5.8</td>\n",
       "      <td>65000.0</td>\n",
       "      <td>Randal Kleiser</td>\n",
       "      <td>Henry De Vere Stacpoole</td>\n",
       "      <td>Brooke Shields</td>\n",
       "      <td>United States</td>\n",
       "      <td>4500000.0</td>\n",
       "      <td>58853106.0</td>\n",
       "      <td>Columbia Pictures</td>\n",
       "      <td>104.0</td>\n",
       "    </tr>\n",
       "    <tr>\n",
       "      <th>2</th>\n",
       "      <td>Star Wars: Episode V - The Empire Strikes Back</td>\n",
       "      <td>PG</td>\n",
       "      <td>Action</td>\n",
       "      <td>1980</td>\n",
       "      <td>June 20, 1980 (United States)</td>\n",
       "      <td>8.7</td>\n",
       "      <td>1200000.0</td>\n",
       "      <td>Irvin Kershner</td>\n",
       "      <td>Leigh Brackett</td>\n",
       "      <td>Mark Hamill</td>\n",
       "      <td>United States</td>\n",
       "      <td>18000000.0</td>\n",
       "      <td>538375067.0</td>\n",
       "      <td>Lucasfilm</td>\n",
       "      <td>124.0</td>\n",
       "    </tr>\n",
       "    <tr>\n",
       "      <th>3</th>\n",
       "      <td>Airplane!</td>\n",
       "      <td>PG</td>\n",
       "      <td>Comedy</td>\n",
       "      <td>1980</td>\n",
       "      <td>July 2, 1980 (United States)</td>\n",
       "      <td>7.7</td>\n",
       "      <td>221000.0</td>\n",
       "      <td>Jim Abrahams</td>\n",
       "      <td>Jim Abrahams</td>\n",
       "      <td>Robert Hays</td>\n",
       "      <td>United States</td>\n",
       "      <td>3500000.0</td>\n",
       "      <td>83453539.0</td>\n",
       "      <td>Paramount Pictures</td>\n",
       "      <td>88.0</td>\n",
       "    </tr>\n",
       "    <tr>\n",
       "      <th>4</th>\n",
       "      <td>Caddyshack</td>\n",
       "      <td>R</td>\n",
       "      <td>Comedy</td>\n",
       "      <td>1980</td>\n",
       "      <td>July 25, 1980 (United States)</td>\n",
       "      <td>7.3</td>\n",
       "      <td>108000.0</td>\n",
       "      <td>Harold Ramis</td>\n",
       "      <td>Brian Doyle-Murray</td>\n",
       "      <td>Chevy Chase</td>\n",
       "      <td>United States</td>\n",
       "      <td>6000000.0</td>\n",
       "      <td>39846344.0</td>\n",
       "      <td>Orion Pictures</td>\n",
       "      <td>98.0</td>\n",
       "    </tr>\n",
       "  </tbody>\n",
       "</table>\n",
       "</div>"
      ],
      "text/plain": [
       "                                             name rating      genre  year  \\\n",
       "0                                     The Shining      R      Drama  1980   \n",
       "1                                 The Blue Lagoon      R  Adventure  1980   \n",
       "2  Star Wars: Episode V - The Empire Strikes Back     PG     Action  1980   \n",
       "3                                       Airplane!     PG     Comedy  1980   \n",
       "4                                      Caddyshack      R     Comedy  1980   \n",
       "\n",
       "                        released  score      votes         director  \\\n",
       "0  June 13, 1980 (United States)    8.4   927000.0  Stanley Kubrick   \n",
       "1   July 2, 1980 (United States)    5.8    65000.0   Randal Kleiser   \n",
       "2  June 20, 1980 (United States)    8.7  1200000.0   Irvin Kershner   \n",
       "3   July 2, 1980 (United States)    7.7   221000.0     Jim Abrahams   \n",
       "4  July 25, 1980 (United States)    7.3   108000.0     Harold Ramis   \n",
       "\n",
       "                    writer            star         country      budget  \\\n",
       "0             Stephen King  Jack Nicholson  United Kingdom  19000000.0   \n",
       "1  Henry De Vere Stacpoole  Brooke Shields   United States   4500000.0   \n",
       "2           Leigh Brackett     Mark Hamill   United States  18000000.0   \n",
       "3             Jim Abrahams     Robert Hays   United States   3500000.0   \n",
       "4       Brian Doyle-Murray     Chevy Chase   United States   6000000.0   \n",
       "\n",
       "         gross             company  runtime  \n",
       "0   46998772.0        Warner Bros.    146.0  \n",
       "1   58853106.0   Columbia Pictures    104.0  \n",
       "2  538375067.0           Lucasfilm    124.0  \n",
       "3   83453539.0  Paramount Pictures     88.0  \n",
       "4   39846344.0      Orion Pictures     98.0  "
      ]
     },
     "metadata": {},
     "output_type": "display_data"
    }
   ],
   "source": [
    "# Displays few of the data samples\n",
    "display(movies.head())"
   ]
  },
  {
   "cell_type": "markdown",
   "id": "1a2bc929-4dae-4767-8c0d-cd5c9d68ad0e",
   "metadata": {},
   "source": [
    "## Exploratory Data Analysis (EDA)"
   ]
  },
  {
   "cell_type": "code",
   "execution_count": 7,
   "id": "947a89dc-0afe-433b-87bb-c0347a3effa3",
   "metadata": {
    "tags": []
   },
   "outputs": [
    {
     "name": "stdout",
     "output_type": "stream",
     "text": [
      "<class 'pandas.core.frame.DataFrame'>\n",
      "RangeIndex: 7668 entries, 0 to 7667\n",
      "Data columns (total 15 columns):\n",
      " #   Column    Non-Null Count  Dtype  \n",
      "---  ------    --------------  -----  \n",
      " 0   name      7668 non-null   object \n",
      " 1   rating    7591 non-null   object \n",
      " 2   genre     7668 non-null   object \n",
      " 3   year      7668 non-null   int64  \n",
      " 4   released  7666 non-null   object \n",
      " 5   score     7665 non-null   float64\n",
      " 6   votes     7665 non-null   float64\n",
      " 7   director  7668 non-null   object \n",
      " 8   writer    7665 non-null   object \n",
      " 9   star      7667 non-null   object \n",
      " 10  country   7665 non-null   object \n",
      " 11  budget    5497 non-null   float64\n",
      " 12  gross     7479 non-null   float64\n",
      " 13  company   7651 non-null   object \n",
      " 14  runtime   7664 non-null   float64\n",
      "dtypes: float64(5), int64(1), object(9)\n",
      "memory usage: 898.7+ KB\n"
     ]
    }
   ],
   "source": [
    "# Checks for basic information about the dataset\n",
    "\n",
    "movies.info()"
   ]
  },
  {
   "cell_type": "markdown",
   "id": "160e5bdf-af0d-46d1-9cbe-ad1e46d49e94",
   "metadata": {},
   "source": [
    "**Observations from the basic information are**\n",
    "\n",
    "- Features are of both numeric and non-numeric\n",
    "- Most features have missing values\n",
    "- Important attribute 'budget' has quite a few missing values"
   ]
  },
  {
   "cell_type": "code",
   "execution_count": 9,
   "id": "1e67160e-f558-4e1b-b1fc-dcc194a8bb57",
   "metadata": {
    "tags": []
   },
   "outputs": [
    {
     "data": {
      "text/html": [
       "<div>\n",
       "<style scoped>\n",
       "    .dataframe tbody tr th:only-of-type {\n",
       "        vertical-align: middle;\n",
       "    }\n",
       "\n",
       "    .dataframe tbody tr th {\n",
       "        vertical-align: top;\n",
       "    }\n",
       "\n",
       "    .dataframe thead th {\n",
       "        text-align: right;\n",
       "    }\n",
       "</style>\n",
       "<table border=\"1\" class=\"dataframe\">\n",
       "  <thead>\n",
       "    <tr style=\"text-align: right;\">\n",
       "      <th></th>\n",
       "      <th>year</th>\n",
       "      <th>score</th>\n",
       "      <th>votes</th>\n",
       "      <th>budget</th>\n",
       "      <th>gross</th>\n",
       "      <th>runtime</th>\n",
       "    </tr>\n",
       "  </thead>\n",
       "  <tbody>\n",
       "    <tr>\n",
       "      <th>count</th>\n",
       "      <td>7668.000000</td>\n",
       "      <td>7665.000000</td>\n",
       "      <td>7.665000e+03</td>\n",
       "      <td>5.497000e+03</td>\n",
       "      <td>7.479000e+03</td>\n",
       "      <td>7664.000000</td>\n",
       "    </tr>\n",
       "    <tr>\n",
       "      <th>mean</th>\n",
       "      <td>2000.405451</td>\n",
       "      <td>6.390411</td>\n",
       "      <td>8.810850e+04</td>\n",
       "      <td>3.558988e+07</td>\n",
       "      <td>7.850054e+07</td>\n",
       "      <td>107.261613</td>\n",
       "    </tr>\n",
       "    <tr>\n",
       "      <th>std</th>\n",
       "      <td>11.153508</td>\n",
       "      <td>0.968842</td>\n",
       "      <td>1.633238e+05</td>\n",
       "      <td>4.145730e+07</td>\n",
       "      <td>1.657251e+08</td>\n",
       "      <td>18.581247</td>\n",
       "    </tr>\n",
       "    <tr>\n",
       "      <th>min</th>\n",
       "      <td>1980.000000</td>\n",
       "      <td>1.900000</td>\n",
       "      <td>7.000000e+00</td>\n",
       "      <td>3.000000e+03</td>\n",
       "      <td>3.090000e+02</td>\n",
       "      <td>55.000000</td>\n",
       "    </tr>\n",
       "    <tr>\n",
       "      <th>25%</th>\n",
       "      <td>1991.000000</td>\n",
       "      <td>5.800000</td>\n",
       "      <td>9.100000e+03</td>\n",
       "      <td>1.000000e+07</td>\n",
       "      <td>4.532056e+06</td>\n",
       "      <td>95.000000</td>\n",
       "    </tr>\n",
       "    <tr>\n",
       "      <th>50%</th>\n",
       "      <td>2000.000000</td>\n",
       "      <td>6.500000</td>\n",
       "      <td>3.300000e+04</td>\n",
       "      <td>2.050000e+07</td>\n",
       "      <td>2.020576e+07</td>\n",
       "      <td>104.000000</td>\n",
       "    </tr>\n",
       "    <tr>\n",
       "      <th>75%</th>\n",
       "      <td>2010.000000</td>\n",
       "      <td>7.100000</td>\n",
       "      <td>9.300000e+04</td>\n",
       "      <td>4.500000e+07</td>\n",
       "      <td>7.601669e+07</td>\n",
       "      <td>116.000000</td>\n",
       "    </tr>\n",
       "    <tr>\n",
       "      <th>max</th>\n",
       "      <td>2020.000000</td>\n",
       "      <td>9.300000</td>\n",
       "      <td>2.400000e+06</td>\n",
       "      <td>3.560000e+08</td>\n",
       "      <td>2.847246e+09</td>\n",
       "      <td>366.000000</td>\n",
       "    </tr>\n",
       "  </tbody>\n",
       "</table>\n",
       "</div>"
      ],
      "text/plain": [
       "              year        score         votes        budget         gross  \\\n",
       "count  7668.000000  7665.000000  7.665000e+03  5.497000e+03  7.479000e+03   \n",
       "mean   2000.405451     6.390411  8.810850e+04  3.558988e+07  7.850054e+07   \n",
       "std      11.153508     0.968842  1.633238e+05  4.145730e+07  1.657251e+08   \n",
       "min    1980.000000     1.900000  7.000000e+00  3.000000e+03  3.090000e+02   \n",
       "25%    1991.000000     5.800000  9.100000e+03  1.000000e+07  4.532056e+06   \n",
       "50%    2000.000000     6.500000  3.300000e+04  2.050000e+07  2.020576e+07   \n",
       "75%    2010.000000     7.100000  9.300000e+04  4.500000e+07  7.601669e+07   \n",
       "max    2020.000000     9.300000  2.400000e+06  3.560000e+08  2.847246e+09   \n",
       "\n",
       "           runtime  \n",
       "count  7664.000000  \n",
       "mean    107.261613  \n",
       "std      18.581247  \n",
       "min      55.000000  \n",
       "25%      95.000000  \n",
       "50%     104.000000  \n",
       "75%     116.000000  \n",
       "max     366.000000  "
      ]
     },
     "execution_count": 9,
     "metadata": {},
     "output_type": "execute_result"
    }
   ],
   "source": [
    "# Checks for the descriptive statistics of the dataset\n",
    "movies.describe()"
   ]
  },
  {
   "cell_type": "code",
   "execution_count": 10,
   "id": "18002176-6194-418f-9f4a-5c07e3b303f0",
   "metadata": {
    "tags": []
   },
   "outputs": [
    {
     "data": {
      "text/plain": [
       "name           0\n",
       "rating        77\n",
       "genre          0\n",
       "year           0\n",
       "released       2\n",
       "score          3\n",
       "votes          3\n",
       "director       0\n",
       "writer         3\n",
       "star           1\n",
       "country        3\n",
       "budget      2171\n",
       "gross        189\n",
       "company       17\n",
       "runtime        4\n",
       "dtype: int64"
      ]
     },
     "execution_count": 10,
     "metadata": {},
     "output_type": "execute_result"
    }
   ],
   "source": [
    "# Checks for attributes having missing values in the dataset\n",
    "movies.isnull().sum()"
   ]
  },
  {
   "cell_type": "markdown",
   "id": "3a4ac059-a321-45b0-ad64-1815913c4228",
   "metadata": {},
   "source": [
    "As **_budget_** will be considered as dependant attribute in this experiment, instances having missing values for this attribute need to be removed."
   ]
  },
  {
   "cell_type": "markdown",
   "id": "6e75546d-fc79-47b6-90f6-9132af28df6f",
   "metadata": {},
   "source": [
    "**Checks for the values in each categorical attribute**"
   ]
  },
  {
   "cell_type": "code",
   "execution_count": 13,
   "id": "5ae43a4d-03d3-438d-b554-1c3971078752",
   "metadata": {
    "tags": []
   },
   "outputs": [
    {
     "data": {
      "text/plain": [
       "rating\n",
       "R            3697\n",
       "PG-13        2112\n",
       "PG           1252\n",
       "Not Rated     283\n",
       "G             153\n",
       "Unrated        52\n",
       "NC-17          23\n",
       "TV-MA           9\n",
       "TV-PG           5\n",
       "X               3\n",
       "Approved        1\n",
       "TV-14           1\n",
       "Name: count, dtype: int64"
      ]
     },
     "execution_count": 13,
     "metadata": {},
     "output_type": "execute_result"
    }
   ],
   "source": [
    "movies.rating.value_counts()"
   ]
  },
  {
   "cell_type": "code",
   "execution_count": null,
   "id": "44eca5c2-28f8-4b8e-a2ad-21b5af585d85",
   "metadata": {},
   "outputs": [],
   "source": []
  },
  {
   "cell_type": "code",
   "execution_count": 14,
   "id": "c8245063-fd32-4404-bd51-52ded3a2eb1f",
   "metadata": {
    "tags": []
   },
   "outputs": [
    {
     "data": {
      "text/plain": [
       "genre\n",
       "Comedy       2245\n",
       "Action       1705\n",
       "Drama        1518\n",
       "Crime         551\n",
       "Biography     443\n",
       "Adventure     427\n",
       "Animation     338\n",
       "Horror        322\n",
       "Fantasy        44\n",
       "Mystery        20\n",
       "Thriller       16\n",
       "Family         11\n",
       "Sci-Fi         10\n",
       "Romance        10\n",
       "Western         3\n",
       "Musical         2\n",
       "Music           1\n",
       "History         1\n",
       "Sport           1\n",
       "Name: count, dtype: int64"
      ]
     },
     "execution_count": 14,
     "metadata": {},
     "output_type": "execute_result"
    }
   ],
   "source": [
    "movies.genre.value_counts()"
   ]
  },
  {
   "cell_type": "code",
   "execution_count": null,
   "id": "614b0bb2-0308-4452-a173-9a35a0f2a32f",
   "metadata": {},
   "outputs": [],
   "source": []
  },
  {
   "cell_type": "code",
   "execution_count": 15,
   "id": "4f54b4c6-b9c8-4b49-ad80-cf283642f6b1",
   "metadata": {
    "tags": []
   },
   "outputs": [
    {
     "data": {
      "text/plain": [
       "released\n",
       "October 4, 1991 (United States)       9\n",
       "May 17, 2019 (United States)          9\n",
       "February 14, 1986 (United States)     9\n",
       "October 21, 1988 (United States)      8\n",
       "October 11, 2002 (United States)      8\n",
       "                                     ..\n",
       "December 25, 2020 (United States)     1\n",
       "August 30, 2019 (United Kingdom)      1\n",
       "December 20, 2019 (China)             1\n",
       "September 27, 2019 (United States)    1\n",
       "August 8, 2019 (Germany)              1\n",
       "Name: count, Length: 3414, dtype: int64"
      ]
     },
     "execution_count": 15,
     "metadata": {},
     "output_type": "execute_result"
    }
   ],
   "source": [
    "movies.released.value_counts()"
   ]
  },
  {
   "cell_type": "markdown",
   "id": "c5acf0ba-5f33-45ed-ae2d-5afdb25f374c",
   "metadata": {},
   "source": [
    "As **_released_** attribute contains country in which the moview was released, the name of the releasing country should be extracted."
   ]
  },
  {
   "cell_type": "code",
   "execution_count": null,
   "id": "72ca4a5e-340e-40b6-bca3-3445a445fc87",
   "metadata": {},
   "outputs": [],
   "source": []
  },
  {
   "cell_type": "code",
   "execution_count": 17,
   "id": "4aac9a3f-6c93-4564-a57e-971bda7fb5b7",
   "metadata": {
    "tags": []
   },
   "outputs": [
    {
     "data": {
      "text/plain": [
       "director\n",
       "Woody Allen         38\n",
       "Clint Eastwood      31\n",
       "Directors           28\n",
       "Steven Spielberg    27\n",
       "Ron Howard          24\n",
       "                    ..\n",
       "Gary Sinyor          1\n",
       "Chris Roberts        1\n",
       "Hiroyuki Okiura      1\n",
       "Martha Fiennes       1\n",
       "Mark Illsley         1\n",
       "Name: count, Length: 2949, dtype: int64"
      ]
     },
     "execution_count": 17,
     "metadata": {},
     "output_type": "execute_result"
    }
   ],
   "source": [
    "movies.director.value_counts()"
   ]
  },
  {
   "cell_type": "code",
   "execution_count": 18,
   "id": "419a4f18-deae-4707-945e-e1509323879c",
   "metadata": {
    "tags": []
   },
   "outputs": [
    {
     "data": {
      "text/plain": [
       "<Axes: xlabel='director'>"
      ]
     },
     "execution_count": 18,
     "metadata": {},
     "output_type": "execute_result"
    },
    {
     "data": {
      "image/png": "[encoded data removed]",
      "text/plain": [
       "<Figure size 640x480 with 1 Axes>"
      ]
     },
     "metadata": {},
     "output_type": "display_data"
    }
   ],
   "source": [
    "# As shown above, dataset contains movies directed by 2949 unique directors.\n",
    "# Few of the top directors' movie counts are show below.\n",
    "\n",
    "movies.director.value_counts()[:10].plot(rot=45)"
   ]
  },
  {
   "cell_type": "code",
   "execution_count": 19,
   "id": "50831834-17dc-4c83-9358-f35a22f99989",
   "metadata": {
    "tags": []
   },
   "outputs": [],
   "source": [
    "# Top directors' names are stored into a list for later use\n",
    "top_directors = movies.director.value_counts()[:10].index.tolist()\n",
    "\n",
    "# All other directors are named as 'Other'\n",
    "top_directors.append(\"Other\")"
   ]
  },
  {
   "cell_type": "code",
   "execution_count": null,
   "id": "fa28ab9d-6d25-4181-811e-6f95079141a8",
   "metadata": {},
   "outputs": [],
   "source": []
  },
  {
   "cell_type": "code",
   "execution_count": 20,
   "id": "d8cf1db9-efa9-4576-9270-0cec7b0ed4ea",
   "metadata": {
    "tags": []
   },
   "outputs": [
    {
     "data": {
      "text/plain": [
       "writer\n",
       "Woody Allen         37\n",
       "Stephen King        31\n",
       "Luc Besson          26\n",
       "John Hughes         25\n",
       "David Mamet         15\n",
       "                    ..\n",
       "Roxanne Benjamin     1\n",
       "Chao Wang            1\n",
       "Su-jin Park          1\n",
       "Mark Bramble         1\n",
       "Noel Ashman          1\n",
       "Name: count, Length: 4535, dtype: int64"
      ]
     },
     "execution_count": 20,
     "metadata": {},
     "output_type": "execute_result"
    }
   ],
   "source": [
    "movies.writer.value_counts()"
   ]
  },
  {
   "cell_type": "code",
   "execution_count": 21,
   "id": "ea85d300-dc01-4071-9efb-9ab35f56496a",
   "metadata": {
    "tags": []
   },
   "outputs": [
    {
     "data": {
      "text/plain": [
       "<Axes: xlabel='writer'>"
      ]
     },
     "execution_count": 21,
     "metadata": {},
     "output_type": "execute_result"
    },
    {
     "data": {
      "image/png": "[encoded data removed]",
      "text/plain": [
       "<Figure size 640x480 with 1 Axes>"
      ]
     },
     "metadata": {},
     "output_type": "display_data"
    }
   ],
   "source": [
    "# As shown above, dataset contains movies written by 4535 unique writers.\n",
    "# Few of the top writers' movie counts are show below.\n",
    "\n",
    "movies.writer.value_counts()[:10].plot(rot=45)"
   ]
  },
  {
   "cell_type": "code",
   "execution_count": 22,
   "id": "c63d579f-11bb-49d6-b39f-1979e09b5a9b",
   "metadata": {
    "tags": []
   },
   "outputs": [],
   "source": [
    "# Top wrters' names are stored into a list for later use\n",
    "top_writers = movies.writer.value_counts()[:10].index.tolist()\n",
    "\n",
    "# All other writers are named as 'Other'\n",
    "top_writers.append(\"Other\")"
   ]
  },
  {
   "cell_type": "code",
   "execution_count": null,
   "id": "08a0da69-f3de-4742-96c5-167b3469bead",
   "metadata": {},
   "outputs": [],
   "source": []
  },
  {
   "cell_type": "code",
   "execution_count": 23,
   "id": "4b4d972f-8760-4e4b-bdcc-42b13a1cecb4",
   "metadata": {
    "tags": []
   },
   "outputs": [
    {
     "data": {
      "text/plain": [
       "star\n",
       "Nicolas Cage           43\n",
       "Tom Hanks              41\n",
       "Robert De Niro         41\n",
       "Denzel Washington      37\n",
       "Tom Cruise             34\n",
       "                       ..\n",
       "Bonnie Langford         1\n",
       "Francesco Di Napoli     1\n",
       "Kartik Aaryan           1\n",
       "Juan Barberini          1\n",
       "Michael Roark           1\n",
       "Name: count, Length: 2814, dtype: int64"
      ]
     },
     "execution_count": 23,
     "metadata": {},
     "output_type": "execute_result"
    }
   ],
   "source": [
    "movies.star.value_counts()"
   ]
  },
  {
   "cell_type": "code",
   "execution_count": 24,
   "id": "17a67320-faf3-4a3b-94d4-7c046ef11f46",
   "metadata": {
    "tags": []
   },
   "outputs": [
    {
     "data": {
      "text/plain": [
       "<Axes: xlabel='star'>"
      ]
     },
     "execution_count": 24,
     "metadata": {},
     "output_type": "execute_result"
    },
    {
     "data": {
      "image/png": "[encoded data removed]",
      "text/plain": [
       "<Figure size 640x480 with 1 Axes>"
      ]
     },
     "metadata": {},
     "output_type": "display_data"
    }
   ],
   "source": [
    "# As shown above, dataset contains movies acted by 2814 unique stars.\n",
    "# Few of the top stars' movie counts are show below.\n",
    "\n",
    "movies.star.value_counts()[:50].plot(rot=45)"
   ]
  },
  {
   "cell_type": "code",
   "execution_count": 25,
   "id": "61824bad-2ba0-4946-a087-bfc111e5e15a",
   "metadata": {
    "tags": []
   },
   "outputs": [],
   "source": [
    "# Top stars' names are stored into a list for later use\n",
    "top_stars = movies.star.value_counts()[:50].index.tolist()\n",
    "\n",
    "# All other stars are named as 'Other'\n",
    "top_stars.append(\"Other\")"
   ]
  },
  {
   "cell_type": "code",
   "execution_count": null,
   "id": "d21135a8-ed33-48e7-a30a-90792c8a6069",
   "metadata": {},
   "outputs": [],
   "source": []
  },
  {
   "cell_type": "code",
   "execution_count": 26,
   "id": "7d8fe51d-f195-4846-a20a-c1540e5f1cdc",
   "metadata": {
    "tags": []
   },
   "outputs": [
    {
     "data": {
      "text/plain": [
       "country\n",
       "United States                     5475\n",
       "United Kingdom                     816\n",
       "France                             279\n",
       "Canada                             190\n",
       "Germany                            117\n",
       "Australia                           92\n",
       "Japan                               81\n",
       "India                               62\n",
       "Italy                               61\n",
       "Spain                               47\n",
       "Hong Kong                           45\n",
       "Ireland                             43\n",
       "China                               40\n",
       "South Korea                         35\n",
       "Denmark                             32\n",
       "Sweden                              25\n",
       "New Zealand                         25\n",
       "Mexico                              22\n",
       "West Germany                        12\n",
       "Netherlands                         12\n",
       "Norway                              12\n",
       "Iran                                10\n",
       "Switzerland                         10\n",
       "Russia                               8\n",
       "Belgium                              8\n",
       "South Africa                         8\n",
       "Argentina                            8\n",
       "Czech Republic                       8\n",
       "Taiwan                               7\n",
       "Hungary                              6\n",
       "Thailand                             6\n",
       "Brazil                               6\n",
       "Israel                               5\n",
       "Austria                              5\n",
       "Yugoslavia                           5\n",
       "Poland                               4\n",
       "Turkey                               3\n",
       "Philippines                          3\n",
       "Finland                              3\n",
       "Chile                                2\n",
       "Soviet Union                         2\n",
       "Vietnam                              2\n",
       "Portugal                             2\n",
       "United Arab Emirates                 2\n",
       "Iceland                              2\n",
       "Greece                               2\n",
       "Federal Republic of Yugoslavia       2\n",
       "Indonesia                            2\n",
       "Libya                                1\n",
       "Jamaica                              1\n",
       "Republic of Macedonia                1\n",
       "Serbia                               1\n",
       "Aruba                                1\n",
       "Colombia                             1\n",
       "Romania                              1\n",
       "Kenya                                1\n",
       "Panama                               1\n",
       "Malta                                1\n",
       "Lebanon                              1\n",
       "Name: count, dtype: int64"
      ]
     },
     "execution_count": 26,
     "metadata": {},
     "output_type": "execute_result"
    }
   ],
   "source": [
    "movies.country.value_counts()"
   ]
  },
  {
   "cell_type": "code",
   "execution_count": 27,
   "id": "c86d593c-dac1-4da1-a035-ff8cd3063368",
   "metadata": {
    "tags": []
   },
   "outputs": [],
   "source": [
    "# Top countries' names are stored into a list for later use\n",
    "top_countries = movies.country.value_counts()[:5].index.tolist()\n",
    "\n",
    "# All other countries are named as 'Other'\n",
    "top_countries.append(\"Other\")"
   ]
  },
  {
   "cell_type": "code",
   "execution_count": null,
   "id": "aecdcc51-d486-4f6c-a0ae-f884787d41aa",
   "metadata": {},
   "outputs": [],
   "source": []
  },
  {
   "cell_type": "code",
   "execution_count": 28,
   "id": "08993d01-726a-4715-b134-b3dd28e1c5a5",
   "metadata": {
    "tags": []
   },
   "outputs": [
    {
     "data": {
      "text/plain": [
       "company\n",
       "Universal Pictures          377\n",
       "Warner Bros.                334\n",
       "Columbia Pictures           332\n",
       "Paramount Pictures          320\n",
       "Twentieth Century Fox       240\n",
       "                           ... \n",
       "Oxford Film Company           1\n",
       "Greek Film Center             1\n",
       "Republic Pictures (II)        1\n",
       "Farabi Cinema Foundation      1\n",
       "NDF International             1\n",
       "Name: count, Length: 2385, dtype: int64"
      ]
     },
     "execution_count": 28,
     "metadata": {},
     "output_type": "execute_result"
    }
   ],
   "source": [
    "movies.company.value_counts()"
   ]
  },
  {
   "cell_type": "code",
   "execution_count": 29,
   "id": "d2d1f791-cd9b-4c2c-b243-abfb046ce09a",
   "metadata": {
    "tags": []
   },
   "outputs": [
    {
     "data": {
      "text/plain": [
       "<Axes: xlabel='company'>"
      ]
     },
     "execution_count": 29,
     "metadata": {},
     "output_type": "execute_result"
    },
    {
     "data": {
      "image/png": "[encoded data removed]",
      "text/plain": [
       "<Figure size 640x480 with 1 Axes>"
      ]
     },
     "metadata": {},
     "output_type": "display_data"
    }
   ],
   "source": [
    "# As shown above, dataset contains movies produced by 2385 unique companies.\n",
    "# Few of the top companies' movie counts are show below.\n",
    "\n",
    "movies.company.value_counts()[:20].plot(rot=45)"
   ]
  },
  {
   "cell_type": "code",
   "execution_count": 30,
   "id": "82340053-de83-477b-9aa3-44a8ccc2b368",
   "metadata": {
    "tags": []
   },
   "outputs": [],
   "source": [
    "# Top companies' names are stored into a list for later use\n",
    "top_companies = movies.company.value_counts()[:20].index.tolist()\n",
    "\n",
    "# All other companies are named as 'Other'\n",
    "top_companies.append(\"Other\")"
   ]
  },
  {
   "cell_type": "code",
   "execution_count": null,
   "id": "3198a8fd-a80a-4972-a343-db314a5024fb",
   "metadata": {},
   "outputs": [],
   "source": []
  },
  {
   "cell_type": "markdown",
   "id": "955640d1-76f3-4bee-93a0-652f74945da9",
   "metadata": {},
   "source": [
    "## Data Preparation"
   ]
  },
  {
   "cell_type": "markdown",
   "id": "933fe3c6-4594-49ca-af66-b1d5f26f3f9a",
   "metadata": {},
   "source": [
    "### Checking for Duplicate Instances"
   ]
  },
  {
   "cell_type": "code",
   "execution_count": 33,
   "id": "81f6fc9d-0f33-4b3b-9e87-5d430033f327",
   "metadata": {
    "tags": []
   },
   "outputs": [],
   "source": [
    "# Drops duplicate instances, if any\n",
    "movies.drop_duplicates(keep='first', inplace=True)"
   ]
  },
  {
   "cell_type": "markdown",
   "id": "0e50fe18-4b2e-43cb-8dce-e3a309afa537",
   "metadata": {},
   "source": [
    "### Removing Non-required Attributes"
   ]
  },
  {
   "cell_type": "code",
   "execution_count": 35,
   "id": "1d39905a-a7ee-409b-8ec2-2bf0c6d5f2f0",
   "metadata": {
    "tags": []
   },
   "outputs": [],
   "source": [
    "# Drops attribute 'name' from the dataset as it is an 'identifier'-like\n",
    "\n",
    "movies.drop([\"name\"], axis=1, inplace=True)"
   ]
  },
  {
   "cell_type": "markdown",
   "id": "5f06e8bc-09b3-43fb-9ea4-def814c92e8e",
   "metadata": {},
   "source": [
    "### Removing Instances with Missing Values"
   ]
  },
  {
   "cell_type": "code",
   "execution_count": 37,
   "id": "f4ecc614-1a6b-4830-bfc1-f2db3d024d46",
   "metadata": {
    "tags": []
   },
   "outputs": [],
   "source": [
    "# Deletes the instances for missing 'budget' values. Other instances with missing values also\n",
    "# get deleted considering these instances are just tiny portion of the dataset\n",
    "# 'ranting': 1.0%, 'released': 0.02%, 'score': 0.03%, 'votes': 0.03%, 'writer': 0.03%,\n",
    "# 'star': 0.01%, 'country': 0.03%, 'gross': 2%, 'company': 0.2%, 'runtime': 0.05%\n",
    "\n",
    "movies.dropna(inplace=True)"
   ]
  },
  {
   "cell_type": "code",
   "execution_count": 38,
   "id": "9fc305db-2afb-4e67-b12f-57f33c69e3e9",
   "metadata": {
    "tags": []
   },
   "outputs": [
    {
     "data": {
      "text/plain": [
       "(5421, 14)"
      ]
     },
     "execution_count": 38,
     "metadata": {},
     "output_type": "execute_result"
    }
   ],
   "source": [
    "# Checks the shape of the dataset after removing instances with missing values\n",
    "\n",
    "movies.shape"
   ]
  },
  {
   "cell_type": "markdown",
   "id": "43c504fb-c6b8-4f4b-9a84-de169d35c5eb",
   "metadata": {},
   "source": [
    "### Updating Specific Categorical Attributes"
   ]
  },
  {
   "cell_type": "code",
   "execution_count": 40,
   "id": "d0dfd5cc-6305-40f3-afb9-e1fdfed35c91",
   "metadata": {
    "tags": []
   },
   "outputs": [],
   "source": [
    "# Attribute 'released' constains combined information for both movie releasing date and releasing country.\n",
    "# Only releasing country gets extracted considering releasing date to be closed to values in attribute 'year'.\n",
    "\n",
    "movies.released = movies.released.apply(lambda r: re.findall(r'\\((.*?)\\)', r)[0])"
   ]
  },
  {
   "cell_type": "code",
   "execution_count": 41,
   "id": "8cbb93d9-5586-4df4-b613-488d13f53ebe",
   "metadata": {
    "tags": []
   },
   "outputs": [
    {
     "data": {
      "text/plain": [
       "released\n",
       "United States           5076\n",
       "United Kingdom            87\n",
       "France                    41\n",
       "Germany                   25\n",
       "Australia                 14\n",
       "Spain                     14\n",
       "Canada                    13\n",
       "Japan                     12\n",
       "Italy                     10\n",
       "South Korea               10\n",
       "Denmark                    9\n",
       "Brazil                     9\n",
       "Argentina                  7\n",
       "Russia                     6\n",
       "China                      6\n",
       "Netherlands                6\n",
       "Israel                     6\n",
       "Greece                     5\n",
       "Singapore                  4\n",
       "South Africa               4\n",
       "Ireland                    4\n",
       "Norway                     4\n",
       "Iceland                    4\n",
       "Hong Kong                  4\n",
       "India                      3\n",
       "Taiwan                     3\n",
       "Sweden                     3\n",
       "Mexico                     3\n",
       "Belgium                    2\n",
       "Portugal                   2\n",
       "Poland                     2\n",
       "Iran                       2\n",
       "Bulgaria                   2\n",
       "Lebanon                    2\n",
       "Turkey                     2\n",
       "Philippines                2\n",
       "Croatia                    2\n",
       "Finland                    1\n",
       "Austria                    1\n",
       "New Zealand                1\n",
       "Malaysia                   1\n",
       "Bahrain                    1\n",
       "Czech Republic             1\n",
       "Latvia                     1\n",
       "Thailand                   1\n",
       "United Arab Emirates       1\n",
       "Bahamas                    1\n",
       "Hungary                    1\n",
       "Name: count, dtype: int64"
      ]
     },
     "execution_count": 41,
     "metadata": {},
     "output_type": "execute_result"
    }
   ],
   "source": [
    "# Checks the occurances of countries\n",
    "movies.released.value_counts()"
   ]
  },
  {
   "cell_type": "code",
   "execution_count": 42,
   "id": "28ea8d81-8d54-4ddd-916a-f8b1f9a58750",
   "metadata": {
    "tags": []
   },
   "outputs": [],
   "source": [
    "# As 'United States' holds more than 90% of all the movie releasing countries,\n",
    "# all other countries are considered as 'Other' as they hold a tiny portion of share for this attribute.\n",
    "\n",
    "top_releasing_countries = [\"United States\", \"Other\"]"
   ]
  },
  {
   "cell_type": "code",
   "execution_count": null,
   "id": "84fbf4b5-9090-462c-9dbd-65c7c6b6572d",
   "metadata": {},
   "outputs": [],
   "source": []
  },
  {
   "cell_type": "markdown",
   "id": "e41153ad-9087-410d-afa3-4499b40b2a8f",
   "metadata": {},
   "source": [
    "**Updates all the specific attributes with their _top_ values found in the previous steps**"
   ]
  },
  {
   "cell_type": "code",
   "execution_count": 44,
   "id": "b5cb238a-0fa5-462f-9a40-9ca94ef3de2b",
   "metadata": {
    "tags": []
   },
   "outputs": [],
   "source": [
    "movies.released = movies.released.apply(\n",
    "    lambda r: r if (top_releasing_countries.count(r) > 0) else \"Other\")"
   ]
  },
  {
   "cell_type": "code",
   "execution_count": 45,
   "id": "f4272b54-60b4-4704-b0cf-cbdb8a162be5",
   "metadata": {
    "tags": []
   },
   "outputs": [],
   "source": [
    "movies.director = movies.director.apply(\n",
    "    lambda d: d if (top_directors.count(d) > 0) else \"Other\")"
   ]
  },
  {
   "cell_type": "code",
   "execution_count": 46,
   "id": "5779d848-795d-4755-b9f9-041f2192cb4d",
   "metadata": {
    "tags": []
   },
   "outputs": [],
   "source": [
    "movies.writer = movies.writer.apply(\n",
    "    lambda w: w if (top_writers.count(w) > 0) else \"Other\")"
   ]
  },
  {
   "cell_type": "code",
   "execution_count": 47,
   "id": "c72853a4-231f-4a6f-a812-2d7d72d59fb6",
   "metadata": {
    "tags": []
   },
   "outputs": [],
   "source": [
    "movies.star = movies.star.apply(\n",
    "    lambda s: s if (top_stars.count(s) > 0) else \"Other\")"
   ]
  },
  {
   "cell_type": "code",
   "execution_count": 48,
   "id": "7c2e9fdf-5dc0-4eb8-b22d-ae6fbe27be9c",
   "metadata": {
    "tags": []
   },
   "outputs": [],
   "source": [
    "movies.country = movies.country.apply(\n",
    "    lambda c: c if (top_countries.count(c) > 0) else \"Other\")"
   ]
  },
  {
   "cell_type": "code",
   "execution_count": 49,
   "id": "9f05d620-8765-4a28-a782-807ae8cb0864",
   "metadata": {
    "tags": []
   },
   "outputs": [],
   "source": [
    "movies.company = movies.company.apply(\n",
    "    lambda c: c if (top_companies.count(c) > 0) else \"Other\")"
   ]
  },
  {
   "cell_type": "code",
   "execution_count": null,
   "id": "280e5df5-1f9e-4805-bb7d-0b5864079203",
   "metadata": {},
   "outputs": [],
   "source": []
  },
  {
   "cell_type": "markdown",
   "id": "2b897f0f-eaa3-4a8a-832c-87a2f0883281",
   "metadata": {},
   "source": [
    "### Preparing Target"
   ]
  },
  {
   "cell_type": "code",
   "execution_count": 51,
   "id": "d05deb69-ae38-41e3-8c73-f2f042dd3adf",
   "metadata": {
    "tags": []
   },
   "outputs": [
    {
     "data": {
      "text/plain": [
       "<Axes: ylabel='Frequency'>"
      ]
     },
     "execution_count": 51,
     "metadata": {},
     "output_type": "execute_result"
    },
    {
     "data": {
      "image/png": "[encoded data removed]",
      "text/plain": [
       "<Figure size 640x480 with 1 Axes>"
      ]
     },
     "metadata": {},
     "output_type": "display_data"
    }
   ],
   "source": [
    "# Checks for the budget distribution\n",
    "movies.budget.plot(kind='hist')"
   ]
  },
  {
   "cell_type": "code",
   "execution_count": 52,
   "id": "a1a64ddf-a9c3-4956-b8bc-4ecebd0f5fb5",
   "metadata": {
    "tags": []
   },
   "outputs": [],
   "source": [
    "# Segmenting budget values into bins or labels for equal distribution during \n",
    "# train-test dataset seperation and to be used as target in this classification experiment.\n",
    "movies[\"budget_level\"] = pd.cut(movies.budget,\n",
    "       bins=[0., 25000000., 50000000., 75000000., 100000000., 125000000., 150000000., 175000000., 200000000., 225000000., np.inf],\n",
    "       labels=[1, 2, 3, 4, 5, 6, 7, 8, 9, 10])"
   ]
  },
  {
   "cell_type": "code",
   "execution_count": 53,
   "id": "c7ab1c65-340c-4121-92d1-cbeaf57e4c1f",
   "metadata": {},
   "outputs": [],
   "source": [
    "# Drops the 'budget' attribute as no more required after binning\n",
    "movies.drop([\"budget\"], axis=1, inplace=True)"
   ]
  },
  {
   "cell_type": "code",
   "execution_count": null,
   "id": "b1f67a8c-4b84-40c9-856a-0037d2e878c6",
   "metadata": {},
   "outputs": [],
   "source": []
  },
  {
   "cell_type": "markdown",
   "id": "de4f0af3-5772-49bb-8ecc-864cc9b61a44",
   "metadata": {},
   "source": [
    "### Preparing Test Dataset"
   ]
  },
  {
   "cell_type": "code",
   "execution_count": 105,
   "id": "9d30d772-d9b4-4fdc-8064-6ef79f727eba",
   "metadata": {
    "tags": []
   },
   "outputs": [],
   "source": [
    "# Splits dataset into train and test dataset\n",
    "X_train, X_test = train_test_split(\n",
    "    movies, test_size=0.20, random_state=42, stratify=movies[\"budget_level\"])"
   ]
  },
  {
   "cell_type": "code",
   "execution_count": 107,
   "id": "a2d55fd9-a2b9-4185-aba3-ab0eca574c20",
   "metadata": {
    "tags": []
   },
   "outputs": [],
   "source": [
    "# Seperates target attribute from train dataset\n",
    "y_train = X_train.budget_level.copy()\n",
    "X_train.drop([\"budget_level\"], axis=1, inplace=True)"
   ]
  },
  {
   "cell_type": "code",
   "execution_count": 109,
   "id": "e9b592ac-9edc-4e83-8250-564c145a52f2",
   "metadata": {
    "tags": []
   },
   "outputs": [],
   "source": [
    "# Seperates target attribute from test dataset\n",
    "y_test = X_test.budget_level.copy()\n",
    "X_test.drop([\"budget_level\"], axis=1, inplace=True)"
   ]
  },
  {
   "cell_type": "code",
   "execution_count": null,
   "id": "aedb6d05-b4a4-407b-a5cf-70bd5b5d62f4",
   "metadata": {},
   "outputs": [],
   "source": []
  },
  {
   "cell_type": "markdown",
   "id": "fb87f57f-3c08-4ebf-b706-66adeb8a9a12",
   "metadata": {},
   "source": [
    "## Modeling"
   ]
  },
  {
   "cell_type": "code",
   "execution_count": 113,
   "id": "248e62e2-1a88-4619-bcc1-e46bc61103a4",
   "metadata": {
    "tags": []
   },
   "outputs": [],
   "source": [
    "# Stores names of the categorical attributes for later use in pipeline\n",
    "categorical_attributes = [\"rating\", \"genre\", \"released\", \"director\", \"writer\", \"star\", \"country\", \"company\"]"
   ]
  },
  {
   "cell_type": "code",
   "execution_count": 115,
   "id": "3350cac5-97cd-47ad-82f9-3fe3ec910ae9",
   "metadata": {
    "tags": []
   },
   "outputs": [],
   "source": [
    "# Configures transformation for categorical attributes\n",
    "column_transformer = ColumnTransformer([\n",
    "    # To call categorical pipeline for categorical attribute\n",
    "    (\"categorical_pipeline\", OneHotEncoder(sparse_output=False, handle_unknown='ignore'), categorical_attributes)])"
   ]
  },
  {
   "cell_type": "code",
   "execution_count": 117,
   "id": "ceadd9dd-8baf-4745-a35f-2c3552bd85a1",
   "metadata": {
    "tags": []
   },
   "outputs": [],
   "source": [
    "# Configures model pipeline containing attributes transformer and model\n",
    "model_pipeline = Pipeline([\n",
    "    (\"data_transformation\", column_transformer),\n",
    "    (\"modeling\", RandomForestClassifier(oob_score=True, random_state=42))\n",
    "])"
   ]
  },
  {
   "cell_type": "code",
   "execution_count": 119,
   "id": "d8861033-4b3b-49bf-ab1d-aff95539763c",
   "metadata": {
    "tags": []
   },
   "outputs": [
    {
     "data": {
      "text/html": [
       "<style>#sk-container-id-1 {color: black;background-color: white;}#sk-container-id-1 pre{padding: 0;}#sk-container-id-1 div.sk-toggleable {background-color: white;}#sk-container-id-1 label.sk-toggleable__label {cursor: pointer;display: block;width: 100%;margin-bottom: 0;padding: 0.3em;box-sizing: border-box;text-align: center;}#sk-container-id-1 label.sk-toggleable__label-arrow:before {content: \"▸\";float: left;margin-right: 0.25em;color: #696969;}#sk-container-id-1 label.sk-toggleable__label-arrow:hover:before {color: black;}#sk-container-id-1 div.sk-estimator:hover label.sk-toggleable__label-arrow:before {color: black;}#sk-container-id-1 div.sk-toggleable__content {max-height: 0;max-width: 0;overflow: hidden;text-align: left;background-color: #f0f8ff;}#sk-container-id-1 div.sk-toggleable__content pre {margin: 0.2em;color: black;border-radius: 0.25em;background-color: #f0f8ff;}#sk-container-id-1 input.sk-toggleable__control:checked~div.sk-toggleable__content {max-height: 200px;max-width: 100%;overflow: auto;}#sk-container-id-1 input.sk-toggleable__control:checked~label.sk-toggleable__label-arrow:before {content: \"▾\";}#sk-container-id-1 div.sk-estimator input.sk-toggleable__control:checked~label.sk-toggleable__label {background-color: #d4ebff;}#sk-container-id-1 div.sk-label input.sk-toggleable__control:checked~label.sk-toggleable__label {background-color: #d4ebff;}#sk-container-id-1 input.sk-hidden--visually {border: 0;clip: rect(1px 1px 1px 1px);clip: rect(1px, 1px, 1px, 1px);height: 1px;margin: -1px;overflow: hidden;padding: 0;position: absolute;width: 1px;}#sk-container-id-1 div.sk-estimator {font-family: monospace;background-color: #f0f8ff;border: 1px dotted black;border-radius: 0.25em;box-sizing: border-box;margin-bottom: 0.5em;}#sk-container-id-1 div.sk-estimator:hover {background-color: #d4ebff;}#sk-container-id-1 div.sk-parallel-item::after {content: \"\";width: 100%;border-bottom: 1px solid gray;flex-grow: 1;}#sk-container-id-1 div.sk-label:hover label.sk-toggleable__label {background-color: #d4ebff;}#sk-container-id-1 div.sk-serial::before {content: \"\";position: absolute;border-left: 1px solid gray;box-sizing: border-box;top: 0;bottom: 0;left: 50%;z-index: 0;}#sk-container-id-1 div.sk-serial {display: flex;flex-direction: column;align-items: center;background-color: white;padding-right: 0.2em;padding-left: 0.2em;position: relative;}#sk-container-id-1 div.sk-item {position: relative;z-index: 1;}#sk-container-id-1 div.sk-parallel {display: flex;align-items: stretch;justify-content: center;background-color: white;position: relative;}#sk-container-id-1 div.sk-item::before, #sk-container-id-1 div.sk-parallel-item::before {content: \"\";position: absolute;border-left: 1px solid gray;box-sizing: border-box;top: 0;bottom: 0;left: 50%;z-index: -1;}#sk-container-id-1 div.sk-parallel-item {display: flex;flex-direction: column;z-index: 1;position: relative;background-color: white;}#sk-container-id-1 div.sk-parallel-item:first-child::after {align-self: flex-end;width: 50%;}#sk-container-id-1 div.sk-parallel-item:last-child::after {align-self: flex-start;width: 50%;}#sk-container-id-1 div.sk-parallel-item:only-child::after {width: 0;}#sk-container-id-1 div.sk-dashed-wrapped {border: 1px dashed gray;margin: 0 0.4em 0.5em 0.4em;box-sizing: border-box;padding-bottom: 0.4em;background-color: white;}#sk-container-id-1 div.sk-label label {font-family: monospace;font-weight: bold;display: inline-block;line-height: 1.2em;}#sk-container-id-1 div.sk-label-container {text-align: center;}#sk-container-id-1 div.sk-container {/* jupyter's `normalize.less` sets `[hidden] { display: none; }` but bootstrap.min.css set `[hidden] { display: none !important; }` so we also need the `!important` here to be able to override the default hidden behavior on the sphinx rendered scikit-learn.org. See: https://github.com/scikit-learn/scikit-learn/issues/21755 */display: inline-block !important;position: relative;}#sk-container-id-1 div.sk-text-repr-fallback {display: none;}</style><div id=\"sk-container-id-1\" class=\"sk-top-container\"><div class=\"sk-text-repr-fallback\"><pre>Pipeline(steps=[(&#x27;data_transformation&#x27;,\n",
       "                 ColumnTransformer(transformers=[(&#x27;categorical_pipeline&#x27;,\n",
       "                                                  OneHotEncoder(handle_unknown=&#x27;ignore&#x27;,\n",
       "                                                                sparse_output=False),\n",
       "                                                  [&#x27;rating&#x27;, &#x27;genre&#x27;,\n",
       "                                                   &#x27;released&#x27;, &#x27;director&#x27;,\n",
       "                                                   &#x27;writer&#x27;, &#x27;star&#x27;, &#x27;country&#x27;,\n",
       "                                                   &#x27;company&#x27;])])),\n",
       "                (&#x27;modeling&#x27;,\n",
       "                 RandomForestClassifier(oob_score=True, random_state=42))])</pre><b>In a Jupyter environment, please rerun this cell to show the HTML representation or trust the notebook. <br />On GitHub, the HTML representation is unable to render, please try loading this page with nbviewer.org.</b></div><div class=\"sk-container\" hidden><div class=\"sk-item sk-dashed-wrapped\"><div class=\"sk-label-container\"><div class=\"sk-label sk-toggleable\"><input class=\"sk-toggleable__control sk-hidden--visually\" id=\"sk-estimator-id-1\" type=\"checkbox\" ><label for=\"sk-estimator-id-1\" class=\"sk-toggleable__label sk-toggleable__label-arrow\">Pipeline</label><div class=\"sk-toggleable__content\"><pre>Pipeline(steps=[(&#x27;data_transformation&#x27;,\n",
       "                 ColumnTransformer(transformers=[(&#x27;categorical_pipeline&#x27;,\n",
       "                                                  OneHotEncoder(handle_unknown=&#x27;ignore&#x27;,\n",
       "                                                                sparse_output=False),\n",
       "                                                  [&#x27;rating&#x27;, &#x27;genre&#x27;,\n",
       "                                                   &#x27;released&#x27;, &#x27;director&#x27;,\n",
       "                                                   &#x27;writer&#x27;, &#x27;star&#x27;, &#x27;country&#x27;,\n",
       "                                                   &#x27;company&#x27;])])),\n",
       "                (&#x27;modeling&#x27;,\n",
       "                 RandomForestClassifier(oob_score=True, random_state=42))])</pre></div></div></div><div class=\"sk-serial\"><div class=\"sk-item sk-dashed-wrapped\"><div class=\"sk-label-container\"><div class=\"sk-label sk-toggleable\"><input class=\"sk-toggleable__control sk-hidden--visually\" id=\"sk-estimator-id-2\" type=\"checkbox\" ><label for=\"sk-estimator-id-2\" class=\"sk-toggleable__label sk-toggleable__label-arrow\">data_transformation: ColumnTransformer</label><div class=\"sk-toggleable__content\"><pre>ColumnTransformer(transformers=[(&#x27;categorical_pipeline&#x27;,\n",
       "                                 OneHotEncoder(handle_unknown=&#x27;ignore&#x27;,\n",
       "                                               sparse_output=False),\n",
       "                                 [&#x27;rating&#x27;, &#x27;genre&#x27;, &#x27;released&#x27;, &#x27;director&#x27;,\n",
       "                                  &#x27;writer&#x27;, &#x27;star&#x27;, &#x27;country&#x27;, &#x27;company&#x27;])])</pre></div></div></div><div class=\"sk-parallel\"><div class=\"sk-parallel-item\"><div class=\"sk-item\"><div class=\"sk-label-container\"><div class=\"sk-label sk-toggleable\"><input class=\"sk-toggleable__control sk-hidden--visually\" id=\"sk-estimator-id-3\" type=\"checkbox\" ><label for=\"sk-estimator-id-3\" class=\"sk-toggleable__label sk-toggleable__label-arrow\">categorical_pipeline</label><div class=\"sk-toggleable__content\"><pre>[&#x27;rating&#x27;, &#x27;genre&#x27;, &#x27;released&#x27;, &#x27;director&#x27;, &#x27;writer&#x27;, &#x27;star&#x27;, &#x27;country&#x27;, &#x27;company&#x27;]</pre></div></div></div><div class=\"sk-serial\"><div class=\"sk-item\"><div class=\"sk-estimator sk-toggleable\"><input class=\"sk-toggleable__control sk-hidden--visually\" id=\"sk-estimator-id-4\" type=\"checkbox\" ><label for=\"sk-estimator-id-4\" class=\"sk-toggleable__label sk-toggleable__label-arrow\">OneHotEncoder</label><div class=\"sk-toggleable__content\"><pre>OneHotEncoder(handle_unknown=&#x27;ignore&#x27;, sparse_output=False)</pre></div></div></div></div></div></div></div></div><div class=\"sk-item\"><div class=\"sk-estimator sk-toggleable\"><input class=\"sk-toggleable__control sk-hidden--visually\" id=\"sk-estimator-id-5\" type=\"checkbox\" ><label for=\"sk-estimator-id-5\" class=\"sk-toggleable__label sk-toggleable__label-arrow\">RandomForestClassifier</label><div class=\"sk-toggleable__content\"><pre>RandomForestClassifier(oob_score=True, random_state=42)</pre></div></div></div></div></div></div></div>"
      ],
      "text/plain": [
       "Pipeline(steps=[('data_transformation',\n",
       "                 ColumnTransformer(transformers=[('categorical_pipeline',\n",
       "                                                  OneHotEncoder(handle_unknown='ignore',\n",
       "                                                                sparse_output=False),\n",
       "                                                  ['rating', 'genre',\n",
       "                                                   'released', 'director',\n",
       "                                                   'writer', 'star', 'country',\n",
       "                                                   'company'])])),\n",
       "                ('modeling',\n",
       "                 RandomForestClassifier(oob_score=True, random_state=42))])"
      ]
     },
     "execution_count": 119,
     "metadata": {},
     "output_type": "execute_result"
    }
   ],
   "source": [
    "# Fits the model over pipeline\n",
    "model_pipeline.fit(X_train, y_train)"
   ]
  },
  {
   "cell_type": "markdown",
   "id": "2921bf1b-680b-45b1-a999-229341dc4612",
   "metadata": {},
   "source": [
    "### Prediction and Performance Analysis"
   ]
  },
  {
   "cell_type": "markdown",
   "id": "6e66a051-ce65-4a81-b2e2-95fbacf336dc",
   "metadata": {},
   "source": [
    "**Predicting on train dataset and performing performance**"
   ]
  },
  {
   "cell_type": "code",
   "execution_count": 129,
   "id": "e293f0eb-4bb3-4dba-a19f-6a4a8c324d00",
   "metadata": {},
   "outputs": [
    {
     "data": {
      "text/plain": [
       "array([3, 1, 1, ..., 1, 1, 2])"
      ]
     },
     "execution_count": 129,
     "metadata": {},
     "output_type": "execute_result"
    }
   ],
   "source": [
    "# Makes predictions on train data\n",
    "y_train_predictions = model_pipeline.predict(X_train)\n",
    "\n",
    "# Shows few of the predictions\n",
    "y_train_predictions"
   ]
  },
  {
   "cell_type": "code",
   "execution_count": 131,
   "id": "148c9c35-ba20-4c0b-8177-a8f39b9eb2d2",
   "metadata": {
    "tags": []
   },
   "outputs": [
    {
     "data": {
      "text/plain": [
       "0.7659132841328413"
      ]
     },
     "execution_count": 131,
     "metadata": {},
     "output_type": "execute_result"
    }
   ],
   "source": [
    "# Performs accuracy score against train data\n",
    "accuracy_score(y_train, y_train_predictions)"
   ]
  },
  {
   "cell_type": "markdown",
   "id": "7fda5fbb-8197-4571-be15-2796586feaac",
   "metadata": {},
   "source": [
    "**Predicting on test dataset and performing performance**"
   ]
  },
  {
   "cell_type": "code",
   "execution_count": 121,
   "id": "22af17f4-9da5-4832-8554-bb4d6fcfb963",
   "metadata": {
    "tags": []
   },
   "outputs": [],
   "source": [
    "# Makes predictions on test data\n",
    "y_test_predictions = model_pipeline.predict(X_test)"
   ]
  },
  {
   "cell_type": "code",
   "execution_count": 123,
   "id": "f128c44b-723e-48ee-8a2b-619989f52125",
   "metadata": {
    "tags": []
   },
   "outputs": [
    {
     "data": {
      "text/plain": [
       "array([1, 1, 1, ..., 1, 3, 2])"
      ]
     },
     "execution_count": 123,
     "metadata": {},
     "output_type": "execute_result"
    }
   ],
   "source": [
    "# Shows few of the predictions\n",
    "y_test_predictions"
   ]
  },
  {
   "cell_type": "code",
   "execution_count": 125,
   "id": "48a85406-3de3-4dbd-bb10-9b28991eaadc",
   "metadata": {
    "tags": []
   },
   "outputs": [
    {
     "data": {
      "text/plain": [
       "0.5741935483870968"
      ]
     },
     "execution_count": 125,
     "metadata": {},
     "output_type": "execute_result"
    }
   ],
   "source": [
    "# Performs accuracy score against test data\n",
    "accuracy_score(y_test, y_test_predictions)"
   ]
  },
  {
   "cell_type": "code",
   "execution_count": null,
   "id": "f4793933-43b5-4009-ab0f-d1ef10b6ccab",
   "metadata": {},
   "outputs": [],
   "source": []
  }
 ],
 "metadata": {
  "kernelspec": {
   "display_name": "Python 3 (ipykernel)",
   "language": "python",
   "name": "python3"
  },
  "language_info": {
   "codemirror_mode": {
    "name": "ipython",
    "version": 3
   },
   "file_extension": ".py",
   "mimetype": "text/x-python",
   "name": "python",
   "nbconvert_exporter": "python",
   "pygments_lexer": "ipython3",
   "version": "3.11.7"
  }
 },
 "nbformat": 4,
 "nbformat_minor": 5
}
