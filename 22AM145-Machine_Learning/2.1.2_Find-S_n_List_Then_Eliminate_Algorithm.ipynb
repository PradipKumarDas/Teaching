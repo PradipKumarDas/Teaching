{
 "cells": [
  {
   "cell_type": "markdown",
   "id": "31ad1c3b-d548-4b6a-b039-9bdc945f2493",
   "metadata": {},
   "source": [
    "# FIND-S and LIST-THEN-ELIMINATION Algorithm in Concept Learning\n",
    "\n",
    "Finding a (Maximally) Specific Hypothesis in Concept Learning\n",
    "\n",
    "_Concept learning by searching through potential hypotheses space by taking advantage of natually occurring structure over the hypothesis space - a general to specific ordering of hypotheses using Find-S and List-Then-Elimination algorithm._"
   ]
  },
  {
   "cell_type": "code",
   "execution_count": 3,
   "id": "0cd37500-d642-46f5-aa9e-c20b5cf20dbf",
   "metadata": {
    "tags": []
   },
   "outputs": [],
   "source": [
    "# imports required packages\n",
    "\n",
    "import pandas as pd\n",
    "import numpy as np\n",
    "import itertools"
   ]
  },
  {
   "cell_type": "markdown",
   "id": "9f6f77f1-fe89-4444-9cd7-03990209487c",
   "metadata": {},
   "source": [
    "## Preparing Data"
   ]
  },
  {
   "cell_type": "code",
   "execution_count": 5,
   "id": "699e8f8c-b5ca-4058-8c8f-f1ed79049221",
   "metadata": {
    "tags": []
   },
   "outputs": [],
   "source": [
    "# Reads relevant data\n",
    "\n",
    "data = pd.read_csv(\"../Data/enjoysport.csv\")"
   ]
  },
  {
   "cell_type": "code",
   "execution_count": 6,
   "id": "d9d8be27-9fdb-4fe7-b5bc-0134811247a7",
   "metadata": {
    "tags": []
   },
   "outputs": [
    {
     "data": {
      "text/html": [
       "<div>\n",
       "<style scoped>\n",
       "    .dataframe tbody tr th:only-of-type {\n",
       "        vertical-align: middle;\n",
       "    }\n",
       "\n",
       "    .dataframe tbody tr th {\n",
       "        vertical-align: top;\n",
       "    }\n",
       "\n",
       "    .dataframe thead th {\n",
       "        text-align: right;\n",
       "    }\n",
       "</style>\n",
       "<table border=\"1\" class=\"dataframe\">\n",
       "  <thead>\n",
       "    <tr style=\"text-align: right;\">\n",
       "      <th></th>\n",
       "      <th>Sky</th>\n",
       "      <th>AirTemp</th>\n",
       "      <th>Humidity</th>\n",
       "      <th>Wind</th>\n",
       "      <th>Water</th>\n",
       "      <th>Forecast</th>\n",
       "      <th>EnjoySport</th>\n",
       "    </tr>\n",
       "  </thead>\n",
       "  <tbody>\n",
       "    <tr>\n",
       "      <th>0</th>\n",
       "      <td>Sunny</td>\n",
       "      <td>Warm</td>\n",
       "      <td>Normal</td>\n",
       "      <td>Strong</td>\n",
       "      <td>Warm</td>\n",
       "      <td>Same</td>\n",
       "      <td>Yes</td>\n",
       "    </tr>\n",
       "    <tr>\n",
       "      <th>1</th>\n",
       "      <td>Sunny</td>\n",
       "      <td>Warm</td>\n",
       "      <td>High</td>\n",
       "      <td>Strong</td>\n",
       "      <td>Warm</td>\n",
       "      <td>Same</td>\n",
       "      <td>Yes</td>\n",
       "    </tr>\n",
       "    <tr>\n",
       "      <th>2</th>\n",
       "      <td>Rainy</td>\n",
       "      <td>Cold</td>\n",
       "      <td>High</td>\n",
       "      <td>Strong</td>\n",
       "      <td>Warm</td>\n",
       "      <td>Change</td>\n",
       "      <td>No</td>\n",
       "    </tr>\n",
       "    <tr>\n",
       "      <th>3</th>\n",
       "      <td>Sunny</td>\n",
       "      <td>Warm</td>\n",
       "      <td>High</td>\n",
       "      <td>Strong</td>\n",
       "      <td>Cool</td>\n",
       "      <td>Change</td>\n",
       "      <td>Yes</td>\n",
       "    </tr>\n",
       "  </tbody>\n",
       "</table>\n",
       "</div>"
      ],
      "text/plain": [
       "     Sky AirTemp Humidity    Wind Water Forecast EnjoySport\n",
       "0  Sunny    Warm   Normal  Strong  Warm     Same        Yes\n",
       "1  Sunny    Warm     High  Strong  Warm     Same        Yes\n",
       "2  Rainy    Cold     High  Strong  Warm   Change         No\n",
       "3  Sunny    Warm     High  Strong  Cool   Change        Yes"
      ]
     },
     "metadata": {},
     "output_type": "display_data"
    }
   ],
   "source": [
    "# Views the data\n",
    "\n",
    "display(data)"
   ]
  },
  {
   "cell_type": "code",
   "execution_count": 7,
   "id": "f8118984-f1db-4f5c-ab93-82f54be45461",
   "metadata": {
    "tags": []
   },
   "outputs": [],
   "source": [
    "# X represents a set of instances over which concept of learning is defined\n",
    "\n",
    "X = data.copy()"
   ]
  },
  {
   "cell_type": "code",
   "execution_count": 8,
   "id": "5e12ea4d-ca64-4b50-a195-c3d17e11883a",
   "metadata": {
    "tags": []
   },
   "outputs": [],
   "source": [
    "# Stores target in a seperate series\n",
    "target = X[\"EnjoySport\"]"
   ]
  },
  {
   "cell_type": "code",
   "execution_count": 9,
   "id": "7e725706-c460-46a8-8d50-30caefbb0284",
   "metadata": {
    "tags": []
   },
   "outputs": [
    {
     "data": {
      "text/plain": [
       "0    Yes\n",
       "1    Yes\n",
       "2     No\n",
       "3    Yes\n",
       "Name: EnjoySport, dtype: object"
      ]
     },
     "metadata": {},
     "output_type": "display_data"
    }
   ],
   "source": [
    "display(target)"
   ]
  },
  {
   "cell_type": "code",
   "execution_count": 10,
   "id": "0a2e0ded-7459-4a99-a584-2e4171e5f6ff",
   "metadata": {
    "tags": []
   },
   "outputs": [],
   "source": [
    "# Removes target from the other attributes\n",
    "\n",
    "X = X.iloc[:,:-1]"
   ]
  },
  {
   "cell_type": "code",
   "execution_count": 11,
   "id": "9dd40c01-9247-444e-9a18-08277b197b0b",
   "metadata": {
    "tags": []
   },
   "outputs": [
    {
     "data": {
      "text/html": [
       "<div>\n",
       "<style scoped>\n",
       "    .dataframe tbody tr th:only-of-type {\n",
       "        vertical-align: middle;\n",
       "    }\n",
       "\n",
       "    .dataframe tbody tr th {\n",
       "        vertical-align: top;\n",
       "    }\n",
       "\n",
       "    .dataframe thead th {\n",
       "        text-align: right;\n",
       "    }\n",
       "</style>\n",
       "<table border=\"1\" class=\"dataframe\">\n",
       "  <thead>\n",
       "    <tr style=\"text-align: right;\">\n",
       "      <th></th>\n",
       "      <th>Sky</th>\n",
       "      <th>AirTemp</th>\n",
       "      <th>Humidity</th>\n",
       "      <th>Wind</th>\n",
       "      <th>Water</th>\n",
       "      <th>Forecast</th>\n",
       "    </tr>\n",
       "  </thead>\n",
       "  <tbody>\n",
       "    <tr>\n",
       "      <th>0</th>\n",
       "      <td>Sunny</td>\n",
       "      <td>Warm</td>\n",
       "      <td>Normal</td>\n",
       "      <td>Strong</td>\n",
       "      <td>Warm</td>\n",
       "      <td>Same</td>\n",
       "    </tr>\n",
       "    <tr>\n",
       "      <th>1</th>\n",
       "      <td>Sunny</td>\n",
       "      <td>Warm</td>\n",
       "      <td>High</td>\n",
       "      <td>Strong</td>\n",
       "      <td>Warm</td>\n",
       "      <td>Same</td>\n",
       "    </tr>\n",
       "    <tr>\n",
       "      <th>2</th>\n",
       "      <td>Rainy</td>\n",
       "      <td>Cold</td>\n",
       "      <td>High</td>\n",
       "      <td>Strong</td>\n",
       "      <td>Warm</td>\n",
       "      <td>Change</td>\n",
       "    </tr>\n",
       "    <tr>\n",
       "      <th>3</th>\n",
       "      <td>Sunny</td>\n",
       "      <td>Warm</td>\n",
       "      <td>High</td>\n",
       "      <td>Strong</td>\n",
       "      <td>Cool</td>\n",
       "      <td>Change</td>\n",
       "    </tr>\n",
       "  </tbody>\n",
       "</table>\n",
       "</div>"
      ],
      "text/plain": [
       "     Sky AirTemp Humidity    Wind Water Forecast\n",
       "0  Sunny    Warm   Normal  Strong  Warm     Same\n",
       "1  Sunny    Warm     High  Strong  Warm     Same\n",
       "2  Rainy    Cold     High  Strong  Warm   Change\n",
       "3  Sunny    Warm     High  Strong  Cool   Change"
      ]
     },
     "metadata": {},
     "output_type": "display_data"
    }
   ],
   "source": [
    "# Shows training examples (without target)\n",
    "\n",
    "display(X)"
   ]
  },
  {
   "cell_type": "markdown",
   "id": "08c94188-bf05-43d5-89b5-41e78b57a676",
   "metadata": {},
   "source": [
    "## Applying Find-S Algorithm to Get Specific Hypothesis"
   ]
  },
  {
   "cell_type": "markdown",
   "id": "530f9b9d-d4cf-48fc-ad85-63e6ee09d327",
   "metadata": {},
   "source": [
    "_**Psedocode for the Find-S algorithm**_\n",
    "\n",
    "1. Initialize _h_ to the most specific hypothesis in _H_\n",
    "2. For each positive training instance _x_\n",
    "    + For each attribute constraint a(i) in _h_\n",
    "        + If the constraint _a(i)_ is satisfied by _x_\n",
    "            + Then do nothing\n",
    "        + Else\n",
    "            + replace _a(i)_ in _h_ by the next more general constraint that is satisfied by x\n",
    "3. Output hypothesis _h_"
   ]
  },
  {
   "cell_type": "code",
   "execution_count": 14,
   "id": "0e7485ba-5b7b-4108-8bb1-1392be8b8880",
   "metadata": {
    "tags": []
   },
   "outputs": [],
   "source": [
    "class FindS():\n",
    "    \"\"\"\n",
    "    Finds specific hypothesis against positive training examples\n",
    "    \"\"\"\n",
    "        \n",
    "    def fit(self, X, target):\n",
    "        \"\"\"\n",
    "        Finds the most specific hypothesis that fits the given positive examples.\n",
    "\n",
    "        Attributes\n",
    "        ----------\n",
    "        X: dataframe\n",
    "            instances of training examples\n",
    "        target: series\n",
    "            the label against each instance\n",
    "\n",
    "        Returns\n",
    "        --------\n",
    "        list\n",
    "            Specific hypothesis\n",
    "        \"\"\"\n",
    "        \n",
    "        # Let's set the hypothesis with the most specific one\n",
    "        self.h = ['Φ', 'Φ', 'Φ', 'Φ', 'Φ', 'Φ']\n",
    "\n",
    "        # Iterates through all examples and tries to generatize from most specific\n",
    "        for idx, x in X.iterrows():            \n",
    "            if target[idx] == \"No\":     # Skips negative examples\n",
    "                continue\n",
    "            \n",
    "            x.reset_index(drop=True, inplace=True)  # Resets existing index\n",
    "            for i, attr in enumerate(x):            # Enumerates each attribute of example\n",
    "                if self.h[i] == 'Φ':\n",
    "                    self.h[i] = attr\n",
    "                elif self.h[i] != attr:\n",
    "                    self.h[i] = '?'\n",
    "    \n"
   ]
  },
  {
   "cell_type": "code",
   "execution_count": 15,
   "id": "329f44d6-d49f-4482-b2e0-b29e755e19c3",
   "metadata": {
    "tags": []
   },
   "outputs": [],
   "source": [
    "# Calls training function passing training data and target\n",
    "\n",
    "find_S = FindS()\n",
    "find_S.fit(X, target)"
   ]
  },
  {
   "cell_type": "code",
   "execution_count": 16,
   "id": "2fa13e7c-c292-450b-98ea-58b30cc8b12f",
   "metadata": {
    "tags": []
   },
   "outputs": [
    {
     "name": "stdout",
     "output_type": "stream",
     "text": [
      "The specific hypothesis is ['Sunny', 'Warm', '?', 'Strong', '?', '?']\n"
     ]
    }
   ],
   "source": [
    "# Shows the hypothesis\n",
    "\n",
    "print(\"The specific hypothesis is\", find_S.h)"
   ]
  },
  {
   "cell_type": "markdown",
   "id": "aa60ce11-891e-4224-9913-75cb9fa20005",
   "metadata": {
    "tags": []
   },
   "source": [
    "## Applying LIST-THEN-ELIMINATION Algorithm to Get Hypotheses Consistent with All Training Examples\n",
    "\n",
    "1. _VersionSpace_ <-- a list containing every hypothesis in _H_\n",
    "2. For each training example, _<x, c(x)>_\n",
    "    - remove from _VersionSpace_ any hypothesis _h_ for which _h_(_x_) != _c_(_x_)\n",
    "3. Output the list of hypotheses in _VersionSpace_"
   ]
  },
  {
   "cell_type": "code",
   "execution_count": 18,
   "id": "f5cce4cc-251a-4391-b980-8ab1b41a7908",
   "metadata": {
    "tags": []
   },
   "outputs": [],
   "source": [
    "# Converts target to bool in type\n",
    "\n",
    "target = target.apply(lambda x: True if x == \"Yes\" else False)"
   ]
  },
  {
   "cell_type": "code",
   "execution_count": 19,
   "id": "2400ef7e-e8b9-4a1b-8e9a-3a527c9f3cc4",
   "metadata": {
    "tags": []
   },
   "outputs": [],
   "source": [
    "class ListThenEliminate():\n",
    "    \"\"\"\n",
    "    From all possible hypotheses space, finds Version Space containing hypotheses \n",
    "    each of which is consistent with all the training examples\n",
    "    \"\"\"\n",
    "        \n",
    "    def fit(self, X, target):\n",
    "        \"\"\"\n",
    "        Attributes\n",
    "        ----------\n",
    "        X : DataFrame\n",
    "            Training examples with all attributes (except target concept)\n",
    "        \n",
    "        target: Series\n",
    "            Target concept of training examples in X\n",
    "\n",
    "        Returns\n",
    "        --------\n",
    "        list\n",
    "            A Version Space consisting hypotheses each of which is consistent of\n",
    "            all the training examples in X\n",
    "        \"\"\"\n",
    "        \n",
    "        # Creating a space of all hypotheses possible by considering \n",
    "        # uniques values of each attribute of training examples\n",
    "        \n",
    "        self.__unique_attributes = [list(li) for li in list(X.apply(pd.Series.unique))]\n",
    "        for li in self.__unique_attributes:\n",
    "            li.append('?')\n",
    "            li.append('Φ')\n",
    "        self.__H = list(itertools.product(*self.__unique_attributes))\n",
    "        \n",
    "        # Version Space containg hypotheses each consistent of all the training examples\n",
    "        self.VersionSpace = []\n",
    "        \n",
    "        for h in self.__H:\n",
    "            if self.__is_consistent(h, (X, target)) == True:\n",
    "                self.VersionSpace.append(h)\n",
    "    \n",
    "    def __is_consistent(self, h, D):\n",
    "        \"\"\"\n",
    "        Checks if the hypothesis h is consistent with all the training exampes in D\n",
    "        \n",
    "        Attributes\n",
    "        -----------\n",
    "            h: list\n",
    "                Hypothesis to test against D\n",
    "            D: tuple\n",
    "                A tuple of all training example with attributes (X: DataFrame) and their repstive concepts (c: Series)\n",
    "            \n",
    "        Returns\n",
    "        --------\n",
    "            True if hyposthesis is consistent with training examples in D, or False otherwise\n",
    "        \"\"\"\n",
    "        \n",
    "        for idx, x in D[0].iterrows():\n",
    "            self.__prediction = self.__predict(h, x)\n",
    "            if self.__prediction == True and D[1][idx] == False:\n",
    "                return False\n",
    "            if self.__prediction == False and D[1][idx] == True:\n",
    "                return False\n",
    "                    \n",
    "        return True\n",
    "    \n",
    "    def __predict(self, h, x):\n",
    "        \"\"\"\n",
    "        Predicts instance x to be positive or negative against hypothesis h\n",
    "        \n",
    "        Atributes\n",
    "        ----------\n",
    "            h: list\n",
    "                Hypothesis to predict against\n",
    "            x: list\n",
    "                Instance to predict for\n",
    "            \n",
    "        Returns\n",
    "        --------\n",
    "            bool\n",
    "                True if the hypothesis h predicts the instance positive, or False otherwise\n",
    "            \n",
    "        \"\"\"\n",
    "\n",
    "        for i, attr in enumerate(x):\n",
    "            if h[i] == 'Φ':\n",
    "                return False\n",
    "            if h[i] == '?':\n",
    "                continue\n",
    "            if h[i] != x.iloc[i]:\n",
    "                return False\n",
    "            \n",
    "        return True"
   ]
  },
  {
   "cell_type": "code",
   "execution_count": 20,
   "id": "f8b0be9e-0a07-4797-a7b9-6677b38faa6f",
   "metadata": {
    "tags": []
   },
   "outputs": [],
   "source": [
    "# Initializes algorithm and trains with training examples\n",
    "\n",
    "list_then_eliminate = ListThenEliminate()\n",
    "list_then_eliminate.fit(X, target)"
   ]
  },
  {
   "cell_type": "code",
   "execution_count": 21,
   "id": "c776ef5a-022f-4c9b-a46f-e45b22c096f5",
   "metadata": {},
   "outputs": [
    {
     "data": {
      "text/plain": [
       "[('Sunny', 'Warm', '?', 'Strong', '?', '?'),\n",
       " ('Sunny', 'Warm', '?', '?', '?', '?'),\n",
       " ('Sunny', '?', '?', 'Strong', '?', '?'),\n",
       " ('Sunny', '?', '?', '?', '?', '?'),\n",
       " ('?', 'Warm', '?', 'Strong', '?', '?'),\n",
       " ('?', 'Warm', '?', '?', '?', '?')]"
      ]
     },
     "metadata": {},
     "output_type": "display_data"
    }
   ],
   "source": [
    "# Shows the version space once training is over\n",
    "display(list_then_eliminate.VersionSpace)"
   ]
  },
  {
   "cell_type": "code",
   "execution_count": null,
   "id": "558156c9-a630-4c25-b368-a7bf8994a716",
   "metadata": {},
   "outputs": [],
   "source": []
  }
 ],
 "metadata": {
  "kernelspec": {
   "display_name": "Python 3 (ipykernel)",
   "language": "python",
   "name": "python3"
  },
  "language_info": {
   "codemirror_mode": {
    "name": "ipython",
    "version": 3
   },
   "file_extension": ".py",
   "mimetype": "text/x-python",
   "name": "python",
   "nbconvert_exporter": "python",
   "pygments_lexer": "ipython3",
   "version": "3.11.7"
  }
 },
 "nbformat": 4,
 "nbformat_minor": 5
}
