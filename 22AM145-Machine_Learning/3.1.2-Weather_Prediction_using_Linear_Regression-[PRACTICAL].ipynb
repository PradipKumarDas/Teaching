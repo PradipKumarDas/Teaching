{
 "cells": [
  {
   "cell_type": "markdown",
   "id": "89a131a9-59e2-450e-bf18-1d0e6d603e53",
   "metadata": {},
   "source": [
    "# WEATHER PREDICTION USING LINEAR REGRESSION\n",
    "\n",
    "_**Predicting apparent temperature using Linear Regression.**_"
   ]
  },
  {
   "cell_type": "code",
   "execution_count": 2,
   "id": "dba88ccf-b33d-4c06-8e7c-bb884b7c7452",
   "metadata": {
    "tags": []
   },
   "outputs": [],
   "source": [
    "# Imports required packages\n",
    "\n",
    "import numpy as np\n",
    "import pandas as pd\n",
    "\n",
    "import matplotlib.pyplot as plt\n",
    "import seaborn as sns\n",
    "\n",
    "from sklearn.model_selection import train_test_split\n",
    "\n",
    "from sklearn.preprocessing import OneHotEncoder, StandardScaler\n",
    "\n",
    "from sklearn.impute import SimpleImputer\n",
    "from sklearn.pipeline import Pipeline\n",
    "from sklearn.compose import ColumnTransformer\n",
    "\n",
    "from sklearn.linear_model import LinearRegression\n",
    "\n",
    "from sklearn.metrics import mean_squared_error"
   ]
  },
  {
   "cell_type": "markdown",
   "id": "6c3d7484-11ae-406e-ac19-722852012094",
   "metadata": {},
   "source": [
    "## Data Collection"
   ]
  },
  {
   "cell_type": "code",
   "execution_count": 4,
   "id": "095dc183-0d45-4a82-9ccd-a1e4a81c1ecf",
   "metadata": {
    "tags": []
   },
   "outputs": [
    {
     "data": {
      "text/html": [
       "<div>\n",
       "<style scoped>\n",
       "    .dataframe tbody tr th:only-of-type {\n",
       "        vertical-align: middle;\n",
       "    }\n",
       "\n",
       "    .dataframe tbody tr th {\n",
       "        vertical-align: top;\n",
       "    }\n",
       "\n",
       "    .dataframe thead th {\n",
       "        text-align: right;\n",
       "    }\n",
       "</style>\n",
       "<table border=\"1\" class=\"dataframe\">\n",
       "  <thead>\n",
       "    <tr style=\"text-align: right;\">\n",
       "      <th></th>\n",
       "      <th>Formatted Date</th>\n",
       "      <th>Summary</th>\n",
       "      <th>Precip Type</th>\n",
       "      <th>Temperature (C)</th>\n",
       "      <th>Apparent Temperature (C)</th>\n",
       "      <th>Humidity</th>\n",
       "      <th>Wind Speed (km/h)</th>\n",
       "      <th>Wind Bearing (degrees)</th>\n",
       "      <th>Visibility (km)</th>\n",
       "      <th>Loud Cover</th>\n",
       "      <th>Pressure (millibars)</th>\n",
       "      <th>Daily Summary</th>\n",
       "    </tr>\n",
       "  </thead>\n",
       "  <tbody>\n",
       "    <tr>\n",
       "      <th>0</th>\n",
       "      <td>2006-04-01 00:00:00.000 +0200</td>\n",
       "      <td>Partly Cloudy</td>\n",
       "      <td>rain</td>\n",
       "      <td>9.472222</td>\n",
       "      <td>7.388889</td>\n",
       "      <td>0.89</td>\n",
       "      <td>14.1197</td>\n",
       "      <td>251.0</td>\n",
       "      <td>15.8263</td>\n",
       "      <td>0.0</td>\n",
       "      <td>1015.13</td>\n",
       "      <td>Partly cloudy throughout the day.</td>\n",
       "    </tr>\n",
       "    <tr>\n",
       "      <th>1</th>\n",
       "      <td>2006-04-01 01:00:00.000 +0200</td>\n",
       "      <td>Partly Cloudy</td>\n",
       "      <td>rain</td>\n",
       "      <td>9.355556</td>\n",
       "      <td>7.227778</td>\n",
       "      <td>0.86</td>\n",
       "      <td>14.2646</td>\n",
       "      <td>259.0</td>\n",
       "      <td>15.8263</td>\n",
       "      <td>0.0</td>\n",
       "      <td>1015.63</td>\n",
       "      <td>Partly cloudy throughout the day.</td>\n",
       "    </tr>\n",
       "    <tr>\n",
       "      <th>2</th>\n",
       "      <td>2006-04-01 02:00:00.000 +0200</td>\n",
       "      <td>Mostly Cloudy</td>\n",
       "      <td>rain</td>\n",
       "      <td>9.377778</td>\n",
       "      <td>9.377778</td>\n",
       "      <td>0.89</td>\n",
       "      <td>3.9284</td>\n",
       "      <td>204.0</td>\n",
       "      <td>14.9569</td>\n",
       "      <td>0.0</td>\n",
       "      <td>1015.94</td>\n",
       "      <td>Partly cloudy throughout the day.</td>\n",
       "    </tr>\n",
       "    <tr>\n",
       "      <th>3</th>\n",
       "      <td>2006-04-01 03:00:00.000 +0200</td>\n",
       "      <td>Partly Cloudy</td>\n",
       "      <td>rain</td>\n",
       "      <td>8.288889</td>\n",
       "      <td>5.944444</td>\n",
       "      <td>0.83</td>\n",
       "      <td>14.1036</td>\n",
       "      <td>269.0</td>\n",
       "      <td>15.8263</td>\n",
       "      <td>0.0</td>\n",
       "      <td>1016.41</td>\n",
       "      <td>Partly cloudy throughout the day.</td>\n",
       "    </tr>\n",
       "    <tr>\n",
       "      <th>4</th>\n",
       "      <td>2006-04-01 04:00:00.000 +0200</td>\n",
       "      <td>Mostly Cloudy</td>\n",
       "      <td>rain</td>\n",
       "      <td>8.755556</td>\n",
       "      <td>6.977778</td>\n",
       "      <td>0.83</td>\n",
       "      <td>11.0446</td>\n",
       "      <td>259.0</td>\n",
       "      <td>15.8263</td>\n",
       "      <td>0.0</td>\n",
       "      <td>1016.51</td>\n",
       "      <td>Partly cloudy throughout the day.</td>\n",
       "    </tr>\n",
       "  </tbody>\n",
       "</table>\n",
       "</div>"
      ],
      "text/plain": [
       "                  Formatted Date        Summary Precip Type  Temperature (C)  \\\n",
       "0  2006-04-01 00:00:00.000 +0200  Partly Cloudy        rain         9.472222   \n",
       "1  2006-04-01 01:00:00.000 +0200  Partly Cloudy        rain         9.355556   \n",
       "2  2006-04-01 02:00:00.000 +0200  Mostly Cloudy        rain         9.377778   \n",
       "3  2006-04-01 03:00:00.000 +0200  Partly Cloudy        rain         8.288889   \n",
       "4  2006-04-01 04:00:00.000 +0200  Mostly Cloudy        rain         8.755556   \n",
       "\n",
       "   Apparent Temperature (C)  Humidity  Wind Speed (km/h)  \\\n",
       "0                  7.388889      0.89            14.1197   \n",
       "1                  7.227778      0.86            14.2646   \n",
       "2                  9.377778      0.89             3.9284   \n",
       "3                  5.944444      0.83            14.1036   \n",
       "4                  6.977778      0.83            11.0446   \n",
       "\n",
       "   Wind Bearing (degrees)  Visibility (km)  Loud Cover  Pressure (millibars)  \\\n",
       "0                   251.0          15.8263         0.0               1015.13   \n",
       "1                   259.0          15.8263         0.0               1015.63   \n",
       "2                   204.0          14.9569         0.0               1015.94   \n",
       "3                   269.0          15.8263         0.0               1016.41   \n",
       "4                   259.0          15.8263         0.0               1016.51   \n",
       "\n",
       "                       Daily Summary  \n",
       "0  Partly cloudy throughout the day.  \n",
       "1  Partly cloudy throughout the day.  \n",
       "2  Partly cloudy throughout the day.  \n",
       "3  Partly cloudy throughout the day.  \n",
       "4  Partly cloudy throughout the day.  "
      ]
     },
     "metadata": {},
     "output_type": "display_data"
    }
   ],
   "source": [
    "# Loads dataset from csv file\n",
    "weather = pd.read_csv(\"../Data/weather_Szeged_2006-2016.csv\")\n",
    "\n",
    "# Displays few of the instances from the dataset\n",
    "display(weather.head())"
   ]
  },
  {
   "cell_type": "markdown",
   "id": "fb217358-e041-4a9b-b56e-1471882d227d",
   "metadata": {},
   "source": [
    "## Exploratory Data Analysis (EDA)"
   ]
  },
  {
   "cell_type": "code",
   "execution_count": 6,
   "id": "8fd65edc-5b0d-4645-8ca8-0bb0c6ba8453",
   "metadata": {
    "tags": []
   },
   "outputs": [
    {
     "name": "stdout",
     "output_type": "stream",
     "text": [
      "<class 'pandas.core.frame.DataFrame'>\n",
      "RangeIndex: 96453 entries, 0 to 96452\n",
      "Data columns (total 12 columns):\n",
      " #   Column                    Non-Null Count  Dtype  \n",
      "---  ------                    --------------  -----  \n",
      " 0   Formatted Date            96453 non-null  object \n",
      " 1   Summary                   96453 non-null  object \n",
      " 2   Precip Type               95936 non-null  object \n",
      " 3   Temperature (C)           96453 non-null  float64\n",
      " 4   Apparent Temperature (C)  96453 non-null  float64\n",
      " 5   Humidity                  96453 non-null  float64\n",
      " 6   Wind Speed (km/h)         96453 non-null  float64\n",
      " 7   Wind Bearing (degrees)    96453 non-null  float64\n",
      " 8   Visibility (km)           96453 non-null  float64\n",
      " 9   Loud Cover                96453 non-null  float64\n",
      " 10  Pressure (millibars)      96453 non-null  float64\n",
      " 11  Daily Summary             96453 non-null  object \n",
      "dtypes: float64(8), object(4)\n",
      "memory usage: 8.8+ MB\n"
     ]
    }
   ],
   "source": [
    "# Checks for basic information about the dataset\n",
    "\n",
    "weather.info()"
   ]
  },
  {
   "cell_type": "markdown",
   "id": "856a498d-695d-4da9-9926-b80dd3c7ac3c",
   "metadata": {},
   "source": [
    "**Observations from the basic dataset information are as follows.**\n",
    "\n",
    "- Column \"Precip Type\" has missing values\n",
    "- Out of 12 columns 4 columns are of non-numeric"
   ]
  },
  {
   "cell_type": "code",
   "execution_count": 8,
   "id": "5ea1a92e-918f-4ab1-b21f-b6b7f05ac9e0",
   "metadata": {
    "tags": []
   },
   "outputs": [
    {
     "data": {
      "text/html": [
       "<div>\n",
       "<style scoped>\n",
       "    .dataframe tbody tr th:only-of-type {\n",
       "        vertical-align: middle;\n",
       "    }\n",
       "\n",
       "    .dataframe tbody tr th {\n",
       "        vertical-align: top;\n",
       "    }\n",
       "\n",
       "    .dataframe thead th {\n",
       "        text-align: right;\n",
       "    }\n",
       "</style>\n",
       "<table border=\"1\" class=\"dataframe\">\n",
       "  <thead>\n",
       "    <tr style=\"text-align: right;\">\n",
       "      <th></th>\n",
       "      <th>Temperature (C)</th>\n",
       "      <th>Apparent Temperature (C)</th>\n",
       "      <th>Humidity</th>\n",
       "      <th>Wind Speed (km/h)</th>\n",
       "      <th>Wind Bearing (degrees)</th>\n",
       "      <th>Visibility (km)</th>\n",
       "      <th>Loud Cover</th>\n",
       "      <th>Pressure (millibars)</th>\n",
       "    </tr>\n",
       "  </thead>\n",
       "  <tbody>\n",
       "    <tr>\n",
       "      <th>count</th>\n",
       "      <td>96453.000000</td>\n",
       "      <td>96453.000000</td>\n",
       "      <td>96453.000000</td>\n",
       "      <td>96453.000000</td>\n",
       "      <td>96453.000000</td>\n",
       "      <td>96453.000000</td>\n",
       "      <td>96453.0</td>\n",
       "      <td>96453.000000</td>\n",
       "    </tr>\n",
       "    <tr>\n",
       "      <th>mean</th>\n",
       "      <td>11.932678</td>\n",
       "      <td>10.855029</td>\n",
       "      <td>0.734899</td>\n",
       "      <td>10.810640</td>\n",
       "      <td>187.509232</td>\n",
       "      <td>10.347325</td>\n",
       "      <td>0.0</td>\n",
       "      <td>1003.235956</td>\n",
       "    </tr>\n",
       "    <tr>\n",
       "      <th>std</th>\n",
       "      <td>9.551546</td>\n",
       "      <td>10.696847</td>\n",
       "      <td>0.195473</td>\n",
       "      <td>6.913571</td>\n",
       "      <td>107.383428</td>\n",
       "      <td>4.192123</td>\n",
       "      <td>0.0</td>\n",
       "      <td>116.969906</td>\n",
       "    </tr>\n",
       "    <tr>\n",
       "      <th>min</th>\n",
       "      <td>-21.822222</td>\n",
       "      <td>-27.716667</td>\n",
       "      <td>0.000000</td>\n",
       "      <td>0.000000</td>\n",
       "      <td>0.000000</td>\n",
       "      <td>0.000000</td>\n",
       "      <td>0.0</td>\n",
       "      <td>0.000000</td>\n",
       "    </tr>\n",
       "    <tr>\n",
       "      <th>25%</th>\n",
       "      <td>4.688889</td>\n",
       "      <td>2.311111</td>\n",
       "      <td>0.600000</td>\n",
       "      <td>5.828200</td>\n",
       "      <td>116.000000</td>\n",
       "      <td>8.339800</td>\n",
       "      <td>0.0</td>\n",
       "      <td>1011.900000</td>\n",
       "    </tr>\n",
       "    <tr>\n",
       "      <th>50%</th>\n",
       "      <td>12.000000</td>\n",
       "      <td>12.000000</td>\n",
       "      <td>0.780000</td>\n",
       "      <td>9.965900</td>\n",
       "      <td>180.000000</td>\n",
       "      <td>10.046400</td>\n",
       "      <td>0.0</td>\n",
       "      <td>1016.450000</td>\n",
       "    </tr>\n",
       "    <tr>\n",
       "      <th>75%</th>\n",
       "      <td>18.838889</td>\n",
       "      <td>18.838889</td>\n",
       "      <td>0.890000</td>\n",
       "      <td>14.135800</td>\n",
       "      <td>290.000000</td>\n",
       "      <td>14.812000</td>\n",
       "      <td>0.0</td>\n",
       "      <td>1021.090000</td>\n",
       "    </tr>\n",
       "    <tr>\n",
       "      <th>max</th>\n",
       "      <td>39.905556</td>\n",
       "      <td>39.344444</td>\n",
       "      <td>1.000000</td>\n",
       "      <td>63.852600</td>\n",
       "      <td>359.000000</td>\n",
       "      <td>16.100000</td>\n",
       "      <td>0.0</td>\n",
       "      <td>1046.380000</td>\n",
       "    </tr>\n",
       "  </tbody>\n",
       "</table>\n",
       "</div>"
      ],
      "text/plain": [
       "       Temperature (C)  Apparent Temperature (C)      Humidity  \\\n",
       "count     96453.000000              96453.000000  96453.000000   \n",
       "mean         11.932678                 10.855029      0.734899   \n",
       "std           9.551546                 10.696847      0.195473   \n",
       "min         -21.822222                -27.716667      0.000000   \n",
       "25%           4.688889                  2.311111      0.600000   \n",
       "50%          12.000000                 12.000000      0.780000   \n",
       "75%          18.838889                 18.838889      0.890000   \n",
       "max          39.905556                 39.344444      1.000000   \n",
       "\n",
       "       Wind Speed (km/h)  Wind Bearing (degrees)  Visibility (km)  Loud Cover  \\\n",
       "count       96453.000000            96453.000000     96453.000000     96453.0   \n",
       "mean           10.810640              187.509232        10.347325         0.0   \n",
       "std             6.913571              107.383428         4.192123         0.0   \n",
       "min             0.000000                0.000000         0.000000         0.0   \n",
       "25%             5.828200              116.000000         8.339800         0.0   \n",
       "50%             9.965900              180.000000        10.046400         0.0   \n",
       "75%            14.135800              290.000000        14.812000         0.0   \n",
       "max            63.852600              359.000000        16.100000         0.0   \n",
       "\n",
       "       Pressure (millibars)  \n",
       "count          96453.000000  \n",
       "mean            1003.235956  \n",
       "std              116.969906  \n",
       "min                0.000000  \n",
       "25%             1011.900000  \n",
       "50%             1016.450000  \n",
       "75%             1021.090000  \n",
       "max             1046.380000  "
      ]
     },
     "execution_count": 8,
     "metadata": {},
     "output_type": "execute_result"
    }
   ],
   "source": [
    "# Checks for the descriptive statistics of the dataset\n",
    "\n",
    "weather.describe()"
   ]
  },
  {
   "cell_type": "markdown",
   "id": "7d6dc3d0-c3a3-4543-816f-8f39589ee67e",
   "metadata": {},
   "source": [
    "Observations from the basic descriptive statistics are as follows.\n",
    "\n",
    "- Column \"Loud Cover\" is single-valued\n",
    "- Columns have different scales"
   ]
  },
  {
   "cell_type": "markdown",
   "id": "669b3b06-3242-4668-a1c6-5b39473dbe97",
   "metadata": {},
   "source": [
    "**Finds values associated with non-numerical/categorical columns.**"
   ]
  },
  {
   "cell_type": "code",
   "execution_count": 11,
   "id": "67a5b5a1-7074-4efc-96f1-686bd8fbbc85",
   "metadata": {
    "tags": []
   },
   "outputs": [
    {
     "name": "stdout",
     "output_type": "stream",
     "text": [
      "Summary\n",
      "Partly Cloudy                          31733\n",
      "Mostly Cloudy                          28094\n",
      "Overcast                               16597\n",
      "Clear                                  10890\n",
      "Foggy                                   7148\n",
      "Breezy and Overcast                      528\n",
      "Breezy and Mostly Cloudy                 516\n",
      "Breezy and Partly Cloudy                 386\n",
      "Dry and Partly Cloudy                     86\n",
      "Windy and Partly Cloudy                   67\n",
      "Light Rain                                63\n",
      "Breezy                                    54\n",
      "Windy and Overcast                        45\n",
      "Humid and Mostly Cloudy                   40\n",
      "Drizzle                                   39\n",
      "Breezy and Foggy                          35\n",
      "Windy and Mostly Cloudy                   35\n",
      "Dry                                       34\n",
      "Humid and Partly Cloudy                   17\n",
      "Dry and Mostly Cloudy                     14\n",
      "Rain                                      10\n",
      "Windy                                      8\n",
      "Humid and Overcast                         7\n",
      "Windy and Foggy                            4\n",
      "Dangerously Windy and Partly Cloudy        1\n",
      "Windy and Dry                              1\n",
      "Breezy and Dry                             1\n",
      "Name: count, dtype: int64\n",
      "\n",
      "Total unique value 27\n"
     ]
    }
   ],
   "source": [
    "# Finds values associated with \"Summary\"\n",
    "\n",
    "print(weather.Summary.value_counts())\n",
    "\n",
    "print(\"\\nTotal unique value\", weather.Summary.nunique())"
   ]
  },
  {
   "cell_type": "code",
   "execution_count": 12,
   "id": "08cc390d-c321-4370-9eb2-a7e0ba358154",
   "metadata": {},
   "outputs": [
    {
     "name": "stdout",
     "output_type": "stream",
     "text": [
      "Precip Type\n",
      "rain    85224\n",
      "snow    10712\n",
      "Name: count, dtype: int64\n",
      "\n",
      "Total unique value 2\n"
     ]
    }
   ],
   "source": [
    "# Finds values associated with \"Precip Type\"\n",
    "\n",
    "print(weather[\"Precip Type\"].value_counts())\n",
    "\n",
    "print(\"\\nTotal unique value\", weather[\"Precip Type\"].nunique())"
   ]
  },
  {
   "cell_type": "code",
   "execution_count": 13,
   "id": "f206c570-cf27-4d46-9506-19cb2e74ced3",
   "metadata": {
    "tags": []
   },
   "outputs": [
    {
     "name": "stdout",
     "output_type": "stream",
     "text": [
      "Daily Summary\n",
      "Mostly cloudy throughout the day.                                                            20085\n",
      "Partly cloudy throughout the day.                                                             9981\n",
      "Partly cloudy until night.                                                                    6169\n",
      "Partly cloudy starting in the morning.                                                        5184\n",
      "Foggy in the morning.                                                                         4201\n",
      "                                                                                             ...  \n",
      "Mostly cloudy until night and breezy starting in the evening continuing until night.            24\n",
      "Mostly cloudy starting in the morning continuing until night and breezy in the afternoon.       24\n",
      "Mostly cloudy starting in the morning and breezy in the evening.                                24\n",
      "Breezy starting in the morning continuing until night.                                          24\n",
      "Foggy starting overnight continuing until morning and breezy in the afternoon.                  23\n",
      "Name: count, Length: 214, dtype: int64\n",
      "\n",
      "Total unique value 214\n"
     ]
    }
   ],
   "source": [
    "# Finds values associated with \"Daily Summary\"\n",
    "\n",
    "print(weather[\"Daily Summary\"].value_counts())\n",
    "\n",
    "print(\"\\nTotal unique value\", weather[\"Daily Summary\"].nunique())"
   ]
  },
  {
   "cell_type": "code",
   "execution_count": 14,
   "id": "6911f4bb-ede7-4e3d-94df-63361c8d6420",
   "metadata": {
    "tags": []
   },
   "outputs": [
    {
     "data": {
      "text/plain": [
       "Summary            0\n",
       "Precip Type      517\n",
       "Daily Summary      0\n",
       "dtype: int64"
      ]
     },
     "execution_count": 14,
     "metadata": {},
     "output_type": "execute_result"
    }
   ],
   "source": [
    "# Check for missing values against each categorical column\n",
    "\n",
    "weather[[\"Summary\", \"Precip Type\", \"Daily Summary\"]].isnull().sum()"
   ]
  },
  {
   "cell_type": "code",
   "execution_count": 15,
   "id": "a7a0bc11-d180-4ab9-a809-ccee2b6eea33",
   "metadata": {
    "tags": []
   },
   "outputs": [
    {
     "data": {
      "image/png": "[encoded data removed]",
      "text/plain": [
       "<Figure size 1500x800 with 9 Axes>"
      ]
     },
     "metadata": {},
     "output_type": "display_data"
    }
   ],
   "source": [
    "# Initializes default Seaborn theme\n",
    "sns.set_theme()\n",
    "\n",
    "# Plot histogram of each numeric feature analyze distribution of data\n",
    "weather.hist(bins=50, figsize=(15,8))\n",
    "plt.show()"
   ]
  },
  {
   "cell_type": "markdown",
   "id": "1ac766e7-a54b-4c15-a9a7-d4e0233e46f8",
   "metadata": {},
   "source": [
    "From the above distribution, feature \"Humidity\", \"Wind Speed (km/h)\" and \"Pressure (millibars)\" could have outliers.\n",
    "A boxplot of each of these features are plotted below for further analysis."
   ]
  },
  {
   "cell_type": "code",
   "execution_count": 17,
   "id": "fe32cdf9-503e-4ce2-bf9c-32f1d82b380a",
   "metadata": {
    "tags": []
   },
   "outputs": [
    {
     "data": {
      "image/png": "[encoded data removed]",
      "text/plain": [
       "<Figure size 640x480 with 1 Axes>"
      ]
     },
     "metadata": {},
     "output_type": "display_data"
    }
   ],
   "source": [
    "sns.boxplot(weather.Humidity)\n",
    "plt.show()"
   ]
  },
  {
   "cell_type": "markdown",
   "id": "389820cc-434d-4d9e-a559-7caa77b26439",
   "metadata": {},
   "source": [
    "Only therRows with above-zero humidity are to be considered."
   ]
  },
  {
   "cell_type": "code",
   "execution_count": 19,
   "id": "10575ef1-5446-4c83-9182-bd7f1212b94e",
   "metadata": {
    "tags": []
   },
   "outputs": [
    {
     "data": {
      "image/png": "[encoded data removed]",
      "text/plain": [
       "<Figure size 640x480 with 1 Axes>"
      ]
     },
     "metadata": {},
     "output_type": "display_data"
    }
   ],
   "source": [
    "sns.boxplot(weather[\"Wind Speed (km/h)\"])\n",
    "plt.show()"
   ]
  },
  {
   "cell_type": "markdown",
   "id": "fa7fc4fe-6be3-4480-9549-86f85e190843",
   "metadata": {
    "tags": []
   },
   "source": [
    "Only the rows with less than 60 km/h wind speed are to be considered."
   ]
  },
  {
   "cell_type": "code",
   "execution_count": 21,
   "id": "1bce9d49-4425-45dd-b0cb-bddf5c62ac2e",
   "metadata": {
    "tags": []
   },
   "outputs": [
    {
     "data": {
      "image/png": "[encoded data removed]",
      "text/plain": [
       "<Figure size 640x480 with 1 Axes>"
      ]
     },
     "metadata": {},
     "output_type": "display_data"
    }
   ],
   "source": [
    "sns.boxplot(weather[\"Pressure (millibars)\"])\n",
    "plt.show()"
   ]
  },
  {
   "cell_type": "markdown",
   "id": "a2d92362-ffed-4033-9bc8-a2b260366a4b",
   "metadata": {},
   "source": [
    "Only the rows with above-zero pressure (millibars) are to be considered.\n",
    "\n",
    "All the outliers identified above will be dropped in the following section."
   ]
  },
  {
   "cell_type": "markdown",
   "id": "8d06abf5-7014-4b55-97b4-6d22d68d40e8",
   "metadata": {},
   "source": [
    "## Preparing Data"
   ]
  },
  {
   "cell_type": "markdown",
   "id": "f1faa6d6-1c2a-4866-9fca-9457c78b4384",
   "metadata": {},
   "source": [
    "### Checking for Duplicates and Single-valued Columns"
   ]
  },
  {
   "cell_type": "markdown",
   "id": "b9fadad1-26ac-4ffc-941d-615cd781fca0",
   "metadata": {},
   "source": [
    "**Removes duplicate observations, if any**"
   ]
  },
  {
   "cell_type": "code",
   "execution_count": 26,
   "id": "f904d1b2-65e8-43d8-ac15-561e62d68e59",
   "metadata": {
    "tags": []
   },
   "outputs": [
    {
     "name": "stdout",
     "output_type": "stream",
     "text": [
      "There are 24 duplicates in the datsset\n",
      "\n",
      "Duplicate observations were deleted.\n",
      "\n",
      "Data shape after duplicate removal: (96429, 12)\n"
     ]
    }
   ],
   "source": [
    "# Checks for duplicate observations\n",
    "duplicate_count = sum(weather.duplicated())\n",
    "print(\"There are\", duplicate_count, \"duplicates in the datsset\")\n",
    "\n",
    "# Deletes the duplicate data, if found\n",
    "if duplicate_count > 0:\n",
    "    weather.drop_duplicates(inplace=True)\n",
    "    print(\"\\nDuplicate observations were deleted.\")\n",
    "    # Prints the shape of data before removal of duplicate\n",
    "    print(\"\\nData shape after duplicate removal:\", weather.shape)"
   ]
  },
  {
   "cell_type": "markdown",
   "id": "531894d6-7960-41a3-84d8-c0fdeb0981aa",
   "metadata": {},
   "source": [
    "**Removes single-valued columns**"
   ]
  },
  {
   "cell_type": "code",
   "execution_count": 28,
   "id": "931f7865-bf8b-44fa-90d6-f1b6a7862d63",
   "metadata": {
    "tags": []
   },
   "outputs": [
    {
     "name": "stdout",
     "output_type": "stream",
     "text": [
      "There are 1 single_valued columns in the dataset.\n",
      "\n",
      "Single-valued columns were removed.\n",
      "\n",
      "Data shape after single-value column removal: (96429, 11)\n"
     ]
    }
   ],
   "source": [
    "# Gets number of unique values for each column\n",
    "unique_values_per_attrib = weather.nunique()\n",
    "\n",
    "# Marks columns to delete\n",
    "single_value_columns = [i for i, value_count in enumerate(unique_values_per_attrib) if value_count == 1]\n",
    "print(\"There are\", len(single_value_columns), \"single_valued columns in the dataset.\")\n",
    "\n",
    "# Deletes single-value columns, if exist\n",
    "if len(single_value_columns) > 0:\n",
    "    weather.drop(weather.columns[single_value_columns], axis=1, inplace=True)\n",
    "    print(\"\\nSingle-valued columns were removed.\")\n",
    "    # Prints the shape of data after removal of single-value columns\n",
    "    print(\"\\nData shape after single-value column removal:\", weather.shape)"
   ]
  },
  {
   "cell_type": "markdown",
   "id": "a52ef20c-0c56-47b3-b95e-ec45376f5c32",
   "metadata": {},
   "source": [
    "### Removing Outliers"
   ]
  },
  {
   "cell_type": "code",
   "execution_count": 30,
   "id": "4987ffc8-44c8-47f7-902c-6dba5f9b1ca4",
   "metadata": {
    "tags": []
   },
   "outputs": [],
   "source": [
    "# Removes the outliers as found from the ealier analysis\n",
    "\n",
    "weather = weather[weather['Humidity'] != 0.0]\n",
    "weather = weather[weather['Wind Speed (km/h)'] <= 60]\n",
    "weather = weather[weather['Pressure (millibars)'] > 0]"
   ]
  },
  {
   "cell_type": "markdown",
   "id": "3486364b-7db3-4597-bd37-3cdfbeef52a2",
   "metadata": {},
   "source": [
    "### Removes Other Columns and Rows"
   ]
  },
  {
   "cell_type": "code",
   "execution_count": 32,
   "id": "4c0a6cbc-e2dc-42f7-9c97-9c55a6a37179",
   "metadata": {
    "tags": []
   },
   "outputs": [],
   "source": [
    "# Removes column \"Formatted Date\" as no time-series analysis is being performed.\n",
    "\n",
    "weather.drop(columns=[\"Formatted Date\"], axis=1, inplace=True)"
   ]
  },
  {
   "cell_type": "code",
   "execution_count": 33,
   "id": "95a2fa95-7f3f-4f71-bf7f-e87500a3e137",
   "metadata": {
    "tags": []
   },
   "outputs": [],
   "source": [
    "# As number of rows with missing \"Precip Type\" is just a tiny portion of \n",
    "# total number of rows, those rows are gets removed\n",
    "\n",
    "weather.dropna(subset=[\"Precip Type\"], axis=0, inplace=True)"
   ]
  },
  {
   "cell_type": "code",
   "execution_count": null,
   "id": "281eb263-bed9-4f24-89c4-87df9790dd94",
   "metadata": {},
   "outputs": [],
   "source": []
  },
  {
   "cell_type": "code",
   "execution_count": 34,
   "id": "38751bc0-f309-4153-8341-5061ea4f86c8",
   "metadata": {
    "tags": []
   },
   "outputs": [],
   "source": [
    "# Resets index of the DataFrame to have continguous index numbers before further processing\n",
    "weather.reset_index(inplace=True, drop=True)"
   ]
  },
  {
   "cell_type": "code",
   "execution_count": 35,
   "id": "a30d9744-ead7-4283-be5f-248f9bfaf667",
   "metadata": {
    "tags": []
   },
   "outputs": [
    {
     "name": "stdout",
     "output_type": "stream",
     "text": [
      "(94601, 10)\n"
     ]
    }
   ],
   "source": [
    "#Shows the post-preprocessing shape of the data\n",
    "print(weather.shape)"
   ]
  },
  {
   "cell_type": "markdown",
   "id": "dd33fc04-8757-4a2e-8cc8-ace975c665b6",
   "metadata": {},
   "source": [
    "### Seperating Test Set"
   ]
  },
  {
   "cell_type": "markdown",
   "id": "b990a497-d30d-49b6-83f0-8f591c6aa288",
   "metadata": {},
   "source": [
    "**To ensure same distribution both in training and test dataset and to make test dataset representative of the population, stratified sampling over column \"Temperature (C)\" was consisdered.**"
   ]
  },
  {
   "cell_type": "code",
   "execution_count": 38,
   "id": "fd797b02-b3c3-46f6-9d8e-a1bda375a6f9",
   "metadata": {
    "tags": []
   },
   "outputs": [],
   "source": [
    "# Creates a column on which stratification will be based on. Essentially, it is a column\n",
    "# having values each would be a temperature bin that an instance will be associated to.\n",
    "\n",
    "weather[\"Temperature_bin\"] = pd.cut(\n",
    "    weather[\"Temperature (C)\"],                       # Values to be binned\n",
    "    bins=[-30., -10., 0.0, 10., 20., 30., np.inf],    # Creates six bins\n",
    "    labels=[1, 2, 3, 4, 5, 6])                        # Associates labels to each bin"
   ]
  },
  {
   "cell_type": "code",
   "execution_count": 39,
   "id": "7a8534a9-69d2-4aad-8251-8d994e0b367f",
   "metadata": {
    "tags": []
   },
   "outputs": [],
   "source": [
    "# Splits data into train and test dataset applying stratification\n",
    "\n",
    "train_set, test_set = train_test_split(\n",
    "    weather, test_size = 0.2, stratify = weather[\"Temperature_bin\"], random_state=42)"
   ]
  },
  {
   "cell_type": "code",
   "execution_count": 40,
   "id": "f8c37dca-2cda-4a84-bc6e-618c67a9c588",
   "metadata": {
    "tags": []
   },
   "outputs": [],
   "source": [
    "# Removes intermediate attribute 'median_income_bin' after stratification\n",
    "# as this would no more be required\n",
    "\n",
    "train_set.drop(\"Temperature_bin\", axis=1, inplace=True)\n",
    "test_set.drop(\"Temperature_bin\", axis=1, inplace=True)"
   ]
  },
  {
   "cell_type": "markdown",
   "id": "83f795f1-2498-4c32-8726-ef199a330dc0",
   "metadata": {},
   "source": [
    "### Seperating Target Column"
   ]
  },
  {
   "cell_type": "code",
   "execution_count": 42,
   "id": "dfb37cbd-2309-4c0f-adf5-4af18204ae42",
   "metadata": {
    "tags": []
   },
   "outputs": [],
   "source": [
    "# Seperates target from features for both training and test set\n",
    "\n",
    "X_train = train_set.drop(\"Apparent Temperature (C)\", axis = 1)\n",
    "target_train = train_set[\"Apparent Temperature (C)\"].copy()\n",
    "\n",
    "X_test = test_set.drop(\"Apparent Temperature (C)\", axis = 1)\n",
    "target_test = test_set[\"Apparent Temperature (C)\"].copy()"
   ]
  },
  {
   "cell_type": "markdown",
   "id": "9b5823ad-c45f-4946-abd0-aacdfecbf444",
   "metadata": {},
   "source": [
    "### Transforming Data"
   ]
  },
  {
   "cell_type": "markdown",
   "id": "0d688563-776c-4835-8236-087dfe2c3ecd",
   "metadata": {},
   "source": [
    "#### Transforming Training Data"
   ]
  },
  {
   "cell_type": "markdown",
   "id": "4799f797-7c61-48da-8407-ed79df981a98",
   "metadata": {},
   "source": [
    "**Creating transformation pipeline to impute missing and scale numeric data in training dataset**"
   ]
  },
  {
   "cell_type": "code",
   "execution_count": 46,
   "id": "b6370414-08ac-4a92-aa27-808f7cfad259",
   "metadata": {
    "tags": []
   },
   "outputs": [],
   "source": [
    "# Sets list of numerical and categorical attributes\n",
    "\n",
    "cat_attribs = [\"Summary\", \"Precip Type\", \"Daily Summary\"]\n",
    "num_attribs = list(X_train.columns)\n",
    "num_attribs.remove(cat_attribs[0])\n",
    "num_attribs.remove(cat_attribs[1])\n",
    "num_attribs.remove(cat_attribs[2])"
   ]
  },
  {
   "cell_type": "code",
   "execution_count": 47,
   "id": "1796d060-4c8a-4292-aa60-28642a58b11c",
   "metadata": {
    "tags": []
   },
   "outputs": [],
   "source": [
    "# Setting data transformation pipeline for numerical attributes\n",
    "# Note that featue scaling is NOT required for algorithms to be used here\n",
    "\n",
    "num_pipeline = Pipeline([\n",
    "    (\"imputer\", SimpleImputer(strategy=\"median\")),\n",
    "    #(\"std_scaler\", StandardScaler())    # Not required\n",
    "])"
   ]
  },
  {
   "cell_type": "code",
   "execution_count": 48,
   "id": "7f104ac8-dc0c-424d-8f68-b1904731fb97",
   "metadata": {
    "tags": []
   },
   "outputs": [],
   "source": [
    "# Transforms both numerical and categorical attritues by using ColumnTransformer. \n",
    "\n",
    "full_pipeline = ColumnTransformer([\n",
    "    (\"num\", num_pipeline, num_attribs),      # Uses sub-pipeline already defined above\n",
    "    (\"cat\", OneHotEncoder(), cat_attribs)])  # Considering OneHot encoding will just be fine for handful values\n",
    "\n",
    "X_train_transformed = full_pipeline.fit_transform(X_train)"
   ]
  },
  {
   "cell_type": "code",
   "execution_count": 49,
   "id": "a2619228-0841-4aea-ae7e-6c223123a65a",
   "metadata": {
    "tags": []
   },
   "outputs": [
    {
     "data": {
      "text/plain": [
       "(75680, 248)"
      ]
     },
     "execution_count": 49,
     "metadata": {},
     "output_type": "execute_result"
    }
   ],
   "source": [
    "# Checks for the shape of the transformed training dataset\n",
    "\n",
    "X_train_transformed.shape"
   ]
  },
  {
   "cell_type": "markdown",
   "id": "2749aa94-dfdf-4f9a-9faf-b620c6356115",
   "metadata": {},
   "source": [
    "#### Transforming Testing Data"
   ]
  },
  {
   "cell_type": "code",
   "execution_count": 51,
   "id": "e3f3a88a-3544-4e63-b2e0-1606d0acfee4",
   "metadata": {
    "tags": []
   },
   "outputs": [],
   "source": [
    "X_test_transformed = full_pipeline.transform(X_test)"
   ]
  },
  {
   "cell_type": "code",
   "execution_count": 52,
   "id": "65e22a9e-c1c3-4894-8c67-1cc74144034b",
   "metadata": {
    "tags": []
   },
   "outputs": [
    {
     "data": {
      "text/plain": [
       "(18921, 248)"
      ]
     },
     "execution_count": 52,
     "metadata": {},
     "output_type": "execute_result"
    }
   ],
   "source": [
    "# Checks for the shape of the transformed testing dataset\n",
    "\n",
    "X_test_transformed.shape"
   ]
  },
  {
   "cell_type": "code",
   "execution_count": null,
   "id": "ada6911e-bfda-47d7-92e8-faf497cdb156",
   "metadata": {},
   "outputs": [],
   "source": []
  },
  {
   "cell_type": "markdown",
   "id": "409c62f5-bbf7-4f39-93fc-c59b553c2dfa",
   "metadata": {},
   "source": [
    "## Modeling"
   ]
  },
  {
   "cell_type": "markdown",
   "id": "3cdbfdd6-b71b-4de8-bfeb-8fe9cd6fa7b2",
   "metadata": {},
   "source": [
    "### Modeling Using Closed Form Approach"
   ]
  },
  {
   "cell_type": "markdown",
   "id": "c5a80388-3d69-4cc7-aa63-540858be9164",
   "metadata": {},
   "source": [
    "**Using Singular Value Decomposition (SVD) Approach over LinearRegression (LR) Algorithm**"
   ]
  },
  {
   "cell_type": "code",
   "execution_count": 56,
   "id": "c6c50729-a8c9-459b-ae58-f143e591acda",
   "metadata": {
    "tags": []
   },
   "outputs": [
    {
     "data": {
      "text/html": [
       "<style>#sk-container-id-1 {color: black;background-color: white;}#sk-container-id-1 pre{padding: 0;}#sk-container-id-1 div.sk-toggleable {background-color: white;}#sk-container-id-1 label.sk-toggleable__label {cursor: pointer;display: block;width: 100%;margin-bottom: 0;padding: 0.3em;box-sizing: border-box;text-align: center;}#sk-container-id-1 label.sk-toggleable__label-arrow:before {content: \"▸\";float: left;margin-right: 0.25em;color: #696969;}#sk-container-id-1 label.sk-toggleable__label-arrow:hover:before {color: black;}#sk-container-id-1 div.sk-estimator:hover label.sk-toggleable__label-arrow:before {color: black;}#sk-container-id-1 div.sk-toggleable__content {max-height: 0;max-width: 0;overflow: hidden;text-align: left;background-color: #f0f8ff;}#sk-container-id-1 div.sk-toggleable__content pre {margin: 0.2em;color: black;border-radius: 0.25em;background-color: #f0f8ff;}#sk-container-id-1 input.sk-toggleable__control:checked~div.sk-toggleable__content {max-height: 200px;max-width: 100%;overflow: auto;}#sk-container-id-1 input.sk-toggleable__control:checked~label.sk-toggleable__label-arrow:before {content: \"▾\";}#sk-container-id-1 div.sk-estimator input.sk-toggleable__control:checked~label.sk-toggleable__label {background-color: #d4ebff;}#sk-container-id-1 div.sk-label input.sk-toggleable__control:checked~label.sk-toggleable__label {background-color: #d4ebff;}#sk-container-id-1 input.sk-hidden--visually {border: 0;clip: rect(1px 1px 1px 1px);clip: rect(1px, 1px, 1px, 1px);height: 1px;margin: -1px;overflow: hidden;padding: 0;position: absolute;width: 1px;}#sk-container-id-1 div.sk-estimator {font-family: monospace;background-color: #f0f8ff;border: 1px dotted black;border-radius: 0.25em;box-sizing: border-box;margin-bottom: 0.5em;}#sk-container-id-1 div.sk-estimator:hover {background-color: #d4ebff;}#sk-container-id-1 div.sk-parallel-item::after {content: \"\";width: 100%;border-bottom: 1px solid gray;flex-grow: 1;}#sk-container-id-1 div.sk-label:hover label.sk-toggleable__label {background-color: #d4ebff;}#sk-container-id-1 div.sk-serial::before {content: \"\";position: absolute;border-left: 1px solid gray;box-sizing: border-box;top: 0;bottom: 0;left: 50%;z-index: 0;}#sk-container-id-1 div.sk-serial {display: flex;flex-direction: column;align-items: center;background-color: white;padding-right: 0.2em;padding-left: 0.2em;position: relative;}#sk-container-id-1 div.sk-item {position: relative;z-index: 1;}#sk-container-id-1 div.sk-parallel {display: flex;align-items: stretch;justify-content: center;background-color: white;position: relative;}#sk-container-id-1 div.sk-item::before, #sk-container-id-1 div.sk-parallel-item::before {content: \"\";position: absolute;border-left: 1px solid gray;box-sizing: border-box;top: 0;bottom: 0;left: 50%;z-index: -1;}#sk-container-id-1 div.sk-parallel-item {display: flex;flex-direction: column;z-index: 1;position: relative;background-color: white;}#sk-container-id-1 div.sk-parallel-item:first-child::after {align-self: flex-end;width: 50%;}#sk-container-id-1 div.sk-parallel-item:last-child::after {align-self: flex-start;width: 50%;}#sk-container-id-1 div.sk-parallel-item:only-child::after {width: 0;}#sk-container-id-1 div.sk-dashed-wrapped {border: 1px dashed gray;margin: 0 0.4em 0.5em 0.4em;box-sizing: border-box;padding-bottom: 0.4em;background-color: white;}#sk-container-id-1 div.sk-label label {font-family: monospace;font-weight: bold;display: inline-block;line-height: 1.2em;}#sk-container-id-1 div.sk-label-container {text-align: center;}#sk-container-id-1 div.sk-container {/* jupyter's `normalize.less` sets `[hidden] { display: none; }` but bootstrap.min.css set `[hidden] { display: none !important; }` so we also need the `!important` here to be able to override the default hidden behavior on the sphinx rendered scikit-learn.org. See: https://github.com/scikit-learn/scikit-learn/issues/21755 */display: inline-block !important;position: relative;}#sk-container-id-1 div.sk-text-repr-fallback {display: none;}</style><div id=\"sk-container-id-1\" class=\"sk-top-container\"><div class=\"sk-text-repr-fallback\"><pre>LinearRegression()</pre><b>In a Jupyter environment, please rerun this cell to show the HTML representation or trust the notebook. <br />On GitHub, the HTML representation is unable to render, please try loading this page with nbviewer.org.</b></div><div class=\"sk-container\" hidden><div class=\"sk-item\"><div class=\"sk-estimator sk-toggleable\"><input class=\"sk-toggleable__control sk-hidden--visually\" id=\"sk-estimator-id-1\" type=\"checkbox\" checked><label for=\"sk-estimator-id-1\" class=\"sk-toggleable__label sk-toggleable__label-arrow\">LinearRegression</label><div class=\"sk-toggleable__content\"><pre>LinearRegression()</pre></div></div></div></div></div>"
      ],
      "text/plain": [
       "LinearRegression()"
      ]
     },
     "execution_count": 56,
     "metadata": {},
     "output_type": "execute_result"
    }
   ],
   "source": [
    "# Fits a LinearRegression model\n",
    "\n",
    "lr_model = LinearRegression()\n",
    "lr_model.fit(X_train_transformed, target_train)"
   ]
  },
  {
   "cell_type": "code",
   "execution_count": 57,
   "id": "cb6011f7-a611-492a-89ba-f5b9796871ae",
   "metadata": {
    "tags": []
   },
   "outputs": [],
   "source": [
    "# Performs predictions on both training and testing dataset\n",
    "\n",
    "predictions_train_lr = lr_model.predict(X_train_transformed)\n",
    "predictions_test_lr = lr_model.predict(X_test_transformed)"
   ]
  },
  {
   "cell_type": "code",
   "execution_count": 58,
   "id": "d1d67138-01a2-485d-ae63-63354dac2a14",
   "metadata": {},
   "outputs": [],
   "source": [
    "rmse_train_lr = np.sqrt(mean_squared_error(target_train, predictions_train_lr))\n",
    "rmse_test_lr = np.sqrt(mean_squared_error(target_test, predictions_test_lr))"
   ]
  },
  {
   "cell_type": "markdown",
   "id": "97e528e1-6ab4-4884-aef2-9c067a06be7b",
   "metadata": {},
   "source": [
    "### Analyzing Model Performance\n",
    "_Note that cross validation was not used for not being useful for closed form modeling approaches._"
   ]
  },
  {
   "cell_type": "code",
   "execution_count": 60,
   "id": "f707d9d0-489f-43a1-b797-7b956c32721d",
   "metadata": {
    "tags": []
   },
   "outputs": [
    {
     "name": "stdout",
     "output_type": "stream",
     "text": [
      "Linear Regression Model Peroformance (in RMSE):\n",
      "\n",
      "Train Error: 1.020689167767875\n",
      "Test Error: 1.0258968637870924\n"
     ]
    }
   ],
   "source": [
    "# Shows Linear Regression model performance on both datasets\n",
    "\n",
    "print(\"Linear Regression Model Peroformance (in RMSE):\\n\")\n",
    "print(\"Train Error:\", rmse_train_lr)\n",
    "print(\"Test Error:\", rmse_test_lr)"
   ]
  },
  {
   "cell_type": "code",
   "execution_count": 61,
   "id": "724737b3-47dc-4cd2-8b16-37a8ce4408e6",
   "metadata": {
    "tags": []
   },
   "outputs": [
    {
     "data": {
      "text/html": [
       "<div>\n",
       "<style scoped>\n",
       "    .dataframe tbody tr th:only-of-type {\n",
       "        vertical-align: middle;\n",
       "    }\n",
       "\n",
       "    .dataframe tbody tr th {\n",
       "        vertical-align: top;\n",
       "    }\n",
       "\n",
       "    .dataframe thead th {\n",
       "        text-align: right;\n",
       "    }\n",
       "</style>\n",
       "<table border=\"1\" class=\"dataframe\">\n",
       "  <thead>\n",
       "    <tr style=\"text-align: right;\">\n",
       "      <th></th>\n",
       "      <th>Actual Target</th>\n",
       "      <th>LR Prediction</th>\n",
       "      <th>LR Prediction Error:</th>\n",
       "    </tr>\n",
       "  </thead>\n",
       "  <tbody>\n",
       "    <tr>\n",
       "      <th>25807</th>\n",
       "      <td>33.416667</td>\n",
       "      <td>34.382143</td>\n",
       "      <td>0.965476</td>\n",
       "    </tr>\n",
       "    <tr>\n",
       "      <th>17685</th>\n",
       "      <td>4.888889</td>\n",
       "      <td>4.681233</td>\n",
       "      <td>0.207656</td>\n",
       "    </tr>\n",
       "    <tr>\n",
       "      <th>43544</th>\n",
       "      <td>22.961111</td>\n",
       "      <td>22.212714</td>\n",
       "      <td>0.748397</td>\n",
       "    </tr>\n",
       "    <tr>\n",
       "      <th>5206</th>\n",
       "      <td>-0.850000</td>\n",
       "      <td>0.373410</td>\n",
       "      <td>1.223410</td>\n",
       "    </tr>\n",
       "    <tr>\n",
       "      <th>8039</th>\n",
       "      <td>24.027778</td>\n",
       "      <td>23.539891</td>\n",
       "      <td>0.487886</td>\n",
       "    </tr>\n",
       "    <tr>\n",
       "      <th>64563</th>\n",
       "      <td>28.283333</td>\n",
       "      <td>28.084429</td>\n",
       "      <td>0.198904</td>\n",
       "    </tr>\n",
       "    <tr>\n",
       "      <th>12763</th>\n",
       "      <td>18.566667</td>\n",
       "      <td>18.718571</td>\n",
       "      <td>0.151905</td>\n",
       "    </tr>\n",
       "    <tr>\n",
       "      <th>78005</th>\n",
       "      <td>23.933333</td>\n",
       "      <td>22.997296</td>\n",
       "      <td>0.936037</td>\n",
       "    </tr>\n",
       "    <tr>\n",
       "      <th>72905</th>\n",
       "      <td>17.266667</td>\n",
       "      <td>16.726743</td>\n",
       "      <td>0.539924</td>\n",
       "    </tr>\n",
       "    <tr>\n",
       "      <th>11702</th>\n",
       "      <td>-1.716667</td>\n",
       "      <td>-0.629759</td>\n",
       "      <td>1.086908</td>\n",
       "    </tr>\n",
       "  </tbody>\n",
       "</table>\n",
       "</div>"
      ],
      "text/plain": [
       "       Actual Target  LR Prediction  LR Prediction Error:\n",
       "25807      33.416667      34.382143              0.965476\n",
       "17685       4.888889       4.681233              0.207656\n",
       "43544      22.961111      22.212714              0.748397\n",
       "5206       -0.850000       0.373410              1.223410\n",
       "8039       24.027778      23.539891              0.487886\n",
       "64563      28.283333      28.084429              0.198904\n",
       "12763      18.566667      18.718571              0.151905\n",
       "78005      23.933333      22.997296              0.936037\n",
       "72905      17.266667      16.726743              0.539924\n",
       "11702      -1.716667      -0.629759              1.086908"
      ]
     },
     "execution_count": 61,
     "metadata": {},
     "output_type": "execute_result"
    }
   ],
   "source": [
    "# Shows models' prediction and prediction error side-by-side \n",
    "# on few of the instances from the test dataset\n",
    "\n",
    "pd.DataFrame({\n",
    "    \"Actual Target\": target_test, \n",
    "    \"LR Prediction\": predictions_test_lr, \n",
    "    \"LR Prediction Error:\": np.abs(target_test - predictions_test_lr)\n",
    "}).head(10)"
   ]
  },
  {
   "cell_type": "code",
   "execution_count": null,
   "id": "72f3cb82-72f2-4147-874b-1607db2fc3f2",
   "metadata": {},
   "outputs": [],
   "source": []
  }
 ],
 "metadata": {
  "kernelspec": {
   "display_name": "Python 3 (ipykernel)",
   "language": "python",
   "name": "python3"
  },
  "language_info": {
   "codemirror_mode": {
    "name": "ipython",
    "version": 3
   },
   "file_extension": ".py",
   "mimetype": "text/x-python",
   "name": "python",
   "nbconvert_exporter": "python",
   "pygments_lexer": "ipython3",
   "version": "3.11.7"
  }
 },
 "nbformat": 4,
 "nbformat_minor": 5
}
