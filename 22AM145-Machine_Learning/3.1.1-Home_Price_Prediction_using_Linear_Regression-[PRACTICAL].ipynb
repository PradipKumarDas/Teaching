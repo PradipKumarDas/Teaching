{
 "cells": [
  {
   "cell_type": "markdown",
   "id": "89a131a9-59e2-450e-bf18-1d0e6d603e53",
   "metadata": {},
   "source": [
    "# HOME PRICE PREDICTION USING LINEAR REGRESSION\n",
    "\n",
    "_**Predicting home prices using Linear Regression.**_"
   ]
  },
  {
   "cell_type": "code",
   "execution_count": 2,
   "id": "dba88ccf-b33d-4c06-8e7c-bb884b7c7452",
   "metadata": {
    "tags": []
   },
   "outputs": [],
   "source": [
    "# Imports required packages\n",
    "\n",
    "import numpy as np\n",
    "import pandas as pd\n",
    "\n",
    "from sklearn.model_selection import train_test_split\n",
    "\n",
    "from sklearn.preprocessing import OneHotEncoder, StandardScaler\n",
    "\n",
    "from sklearn.impute import SimpleImputer\n",
    "from sklearn.pipeline import Pipeline\n",
    "from sklearn.compose import ColumnTransformer\n",
    "\n",
    "from sklearn.linear_model import LinearRegression\n",
    "\n",
    "from sklearn.metrics import mean_squared_error"
   ]
  },
  {
   "cell_type": "markdown",
   "id": "6c3d7484-11ae-406e-ac19-722852012094",
   "metadata": {},
   "source": [
    "## Data Collection"
   ]
  },
  {
   "cell_type": "code",
   "execution_count": 4,
   "id": "095dc183-0d45-4a82-9ccd-a1e4a81c1ecf",
   "metadata": {
    "tags": []
   },
   "outputs": [
    {
     "data": {
      "text/html": [
       "<div>\n",
       "<style scoped>\n",
       "    .dataframe tbody tr th:only-of-type {\n",
       "        vertical-align: middle;\n",
       "    }\n",
       "\n",
       "    .dataframe tbody tr th {\n",
       "        vertical-align: top;\n",
       "    }\n",
       "\n",
       "    .dataframe thead th {\n",
       "        text-align: right;\n",
       "    }\n",
       "</style>\n",
       "<table border=\"1\" class=\"dataframe\">\n",
       "  <thead>\n",
       "    <tr style=\"text-align: right;\">\n",
       "      <th></th>\n",
       "      <th>longitude</th>\n",
       "      <th>latitude</th>\n",
       "      <th>housing_median_age</th>\n",
       "      <th>total_rooms</th>\n",
       "      <th>total_bedrooms</th>\n",
       "      <th>population</th>\n",
       "      <th>households</th>\n",
       "      <th>median_income</th>\n",
       "      <th>median_house_value</th>\n",
       "      <th>ocean_proximity</th>\n",
       "    </tr>\n",
       "  </thead>\n",
       "  <tbody>\n",
       "    <tr>\n",
       "      <th>0</th>\n",
       "      <td>-122.23</td>\n",
       "      <td>37.88</td>\n",
       "      <td>41.0</td>\n",
       "      <td>880.0</td>\n",
       "      <td>129.0</td>\n",
       "      <td>322.0</td>\n",
       "      <td>126.0</td>\n",
       "      <td>8.3252</td>\n",
       "      <td>452600.0</td>\n",
       "      <td>NEAR BAY</td>\n",
       "    </tr>\n",
       "    <tr>\n",
       "      <th>1</th>\n",
       "      <td>-122.22</td>\n",
       "      <td>37.86</td>\n",
       "      <td>21.0</td>\n",
       "      <td>7099.0</td>\n",
       "      <td>1106.0</td>\n",
       "      <td>2401.0</td>\n",
       "      <td>1138.0</td>\n",
       "      <td>8.3014</td>\n",
       "      <td>358500.0</td>\n",
       "      <td>NEAR BAY</td>\n",
       "    </tr>\n",
       "    <tr>\n",
       "      <th>2</th>\n",
       "      <td>-122.24</td>\n",
       "      <td>37.85</td>\n",
       "      <td>52.0</td>\n",
       "      <td>1467.0</td>\n",
       "      <td>190.0</td>\n",
       "      <td>496.0</td>\n",
       "      <td>177.0</td>\n",
       "      <td>7.2574</td>\n",
       "      <td>352100.0</td>\n",
       "      <td>NEAR BAY</td>\n",
       "    </tr>\n",
       "    <tr>\n",
       "      <th>3</th>\n",
       "      <td>-122.25</td>\n",
       "      <td>37.85</td>\n",
       "      <td>52.0</td>\n",
       "      <td>1274.0</td>\n",
       "      <td>235.0</td>\n",
       "      <td>558.0</td>\n",
       "      <td>219.0</td>\n",
       "      <td>5.6431</td>\n",
       "      <td>341300.0</td>\n",
       "      <td>NEAR BAY</td>\n",
       "    </tr>\n",
       "    <tr>\n",
       "      <th>4</th>\n",
       "      <td>-122.25</td>\n",
       "      <td>37.85</td>\n",
       "      <td>52.0</td>\n",
       "      <td>1627.0</td>\n",
       "      <td>280.0</td>\n",
       "      <td>565.0</td>\n",
       "      <td>259.0</td>\n",
       "      <td>3.8462</td>\n",
       "      <td>342200.0</td>\n",
       "      <td>NEAR BAY</td>\n",
       "    </tr>\n",
       "  </tbody>\n",
       "</table>\n",
       "</div>"
      ],
      "text/plain": [
       "   longitude  latitude  housing_median_age  total_rooms  total_bedrooms  \\\n",
       "0    -122.23     37.88                41.0        880.0           129.0   \n",
       "1    -122.22     37.86                21.0       7099.0          1106.0   \n",
       "2    -122.24     37.85                52.0       1467.0           190.0   \n",
       "3    -122.25     37.85                52.0       1274.0           235.0   \n",
       "4    -122.25     37.85                52.0       1627.0           280.0   \n",
       "\n",
       "   population  households  median_income  median_house_value ocean_proximity  \n",
       "0       322.0       126.0         8.3252            452600.0        NEAR BAY  \n",
       "1      2401.0      1138.0         8.3014            358500.0        NEAR BAY  \n",
       "2       496.0       177.0         7.2574            352100.0        NEAR BAY  \n",
       "3       558.0       219.0         5.6431            341300.0        NEAR BAY  \n",
       "4       565.0       259.0         3.8462            342200.0        NEAR BAY  "
      ]
     },
     "metadata": {},
     "output_type": "display_data"
    }
   ],
   "source": [
    "# Loads dataset from csv file\n",
    "housing = pd.read_csv(\"../Data/housing/housing.csv\")\n",
    "\n",
    "# Displays few of the instances from the dataset\n",
    "display(housing.head())"
   ]
  },
  {
   "cell_type": "markdown",
   "id": "fb217358-e041-4a9b-b56e-1471882d227d",
   "metadata": {},
   "source": [
    "## Exploratory Data Analysis (EDA)"
   ]
  },
  {
   "cell_type": "code",
   "execution_count": 6,
   "id": "8fd65edc-5b0d-4645-8ca8-0bb0c6ba8453",
   "metadata": {
    "tags": []
   },
   "outputs": [
    {
     "name": "stdout",
     "output_type": "stream",
     "text": [
      "<class 'pandas.core.frame.DataFrame'>\n",
      "RangeIndex: 20640 entries, 0 to 20639\n",
      "Data columns (total 10 columns):\n",
      " #   Column              Non-Null Count  Dtype  \n",
      "---  ------              --------------  -----  \n",
      " 0   longitude           20640 non-null  float64\n",
      " 1   latitude            20640 non-null  float64\n",
      " 2   housing_median_age  20640 non-null  float64\n",
      " 3   total_rooms         20640 non-null  float64\n",
      " 4   total_bedrooms      20433 non-null  float64\n",
      " 5   population          20640 non-null  float64\n",
      " 6   households          20640 non-null  float64\n",
      " 7   median_income       20640 non-null  float64\n",
      " 8   median_house_value  20640 non-null  float64\n",
      " 9   ocean_proximity     20640 non-null  object \n",
      "dtypes: float64(9), object(1)\n",
      "memory usage: 1.6+ MB\n"
     ]
    }
   ],
   "source": [
    "# Checks for basic information about the dataset\n",
    "\n",
    "housing.info()"
   ]
  },
  {
   "cell_type": "code",
   "execution_count": 7,
   "id": "5ea1a92e-918f-4ab1-b21f-b6b7f05ac9e0",
   "metadata": {
    "tags": []
   },
   "outputs": [
    {
     "data": {
      "text/html": [
       "<div>\n",
       "<style scoped>\n",
       "    .dataframe tbody tr th:only-of-type {\n",
       "        vertical-align: middle;\n",
       "    }\n",
       "\n",
       "    .dataframe tbody tr th {\n",
       "        vertical-align: top;\n",
       "    }\n",
       "\n",
       "    .dataframe thead th {\n",
       "        text-align: right;\n",
       "    }\n",
       "</style>\n",
       "<table border=\"1\" class=\"dataframe\">\n",
       "  <thead>\n",
       "    <tr style=\"text-align: right;\">\n",
       "      <th></th>\n",
       "      <th>longitude</th>\n",
       "      <th>latitude</th>\n",
       "      <th>housing_median_age</th>\n",
       "      <th>total_rooms</th>\n",
       "      <th>total_bedrooms</th>\n",
       "      <th>population</th>\n",
       "      <th>households</th>\n",
       "      <th>median_income</th>\n",
       "      <th>median_house_value</th>\n",
       "    </tr>\n",
       "  </thead>\n",
       "  <tbody>\n",
       "    <tr>\n",
       "      <th>count</th>\n",
       "      <td>20640.000000</td>\n",
       "      <td>20640.000000</td>\n",
       "      <td>20640.000000</td>\n",
       "      <td>20640.000000</td>\n",
       "      <td>20433.000000</td>\n",
       "      <td>20640.000000</td>\n",
       "      <td>20640.000000</td>\n",
       "      <td>20640.000000</td>\n",
       "      <td>20640.000000</td>\n",
       "    </tr>\n",
       "    <tr>\n",
       "      <th>mean</th>\n",
       "      <td>-119.569704</td>\n",
       "      <td>35.631861</td>\n",
       "      <td>28.639486</td>\n",
       "      <td>2635.763081</td>\n",
       "      <td>537.870553</td>\n",
       "      <td>1425.476744</td>\n",
       "      <td>499.539680</td>\n",
       "      <td>3.870671</td>\n",
       "      <td>206855.816909</td>\n",
       "    </tr>\n",
       "    <tr>\n",
       "      <th>std</th>\n",
       "      <td>2.003532</td>\n",
       "      <td>2.135952</td>\n",
       "      <td>12.585558</td>\n",
       "      <td>2181.615252</td>\n",
       "      <td>421.385070</td>\n",
       "      <td>1132.462122</td>\n",
       "      <td>382.329753</td>\n",
       "      <td>1.899822</td>\n",
       "      <td>115395.615874</td>\n",
       "    </tr>\n",
       "    <tr>\n",
       "      <th>min</th>\n",
       "      <td>-124.350000</td>\n",
       "      <td>32.540000</td>\n",
       "      <td>1.000000</td>\n",
       "      <td>2.000000</td>\n",
       "      <td>1.000000</td>\n",
       "      <td>3.000000</td>\n",
       "      <td>1.000000</td>\n",
       "      <td>0.499900</td>\n",
       "      <td>14999.000000</td>\n",
       "    </tr>\n",
       "    <tr>\n",
       "      <th>25%</th>\n",
       "      <td>-121.800000</td>\n",
       "      <td>33.930000</td>\n",
       "      <td>18.000000</td>\n",
       "      <td>1447.750000</td>\n",
       "      <td>296.000000</td>\n",
       "      <td>787.000000</td>\n",
       "      <td>280.000000</td>\n",
       "      <td>2.563400</td>\n",
       "      <td>119600.000000</td>\n",
       "    </tr>\n",
       "    <tr>\n",
       "      <th>50%</th>\n",
       "      <td>-118.490000</td>\n",
       "      <td>34.260000</td>\n",
       "      <td>29.000000</td>\n",
       "      <td>2127.000000</td>\n",
       "      <td>435.000000</td>\n",
       "      <td>1166.000000</td>\n",
       "      <td>409.000000</td>\n",
       "      <td>3.534800</td>\n",
       "      <td>179700.000000</td>\n",
       "    </tr>\n",
       "    <tr>\n",
       "      <th>75%</th>\n",
       "      <td>-118.010000</td>\n",
       "      <td>37.710000</td>\n",
       "      <td>37.000000</td>\n",
       "      <td>3148.000000</td>\n",
       "      <td>647.000000</td>\n",
       "      <td>1725.000000</td>\n",
       "      <td>605.000000</td>\n",
       "      <td>4.743250</td>\n",
       "      <td>264725.000000</td>\n",
       "    </tr>\n",
       "    <tr>\n",
       "      <th>max</th>\n",
       "      <td>-114.310000</td>\n",
       "      <td>41.950000</td>\n",
       "      <td>52.000000</td>\n",
       "      <td>39320.000000</td>\n",
       "      <td>6445.000000</td>\n",
       "      <td>35682.000000</td>\n",
       "      <td>6082.000000</td>\n",
       "      <td>15.000100</td>\n",
       "      <td>500001.000000</td>\n",
       "    </tr>\n",
       "  </tbody>\n",
       "</table>\n",
       "</div>"
      ],
      "text/plain": [
       "          longitude      latitude  housing_median_age   total_rooms  \\\n",
       "count  20640.000000  20640.000000        20640.000000  20640.000000   \n",
       "mean    -119.569704     35.631861           28.639486   2635.763081   \n",
       "std        2.003532      2.135952           12.585558   2181.615252   \n",
       "min     -124.350000     32.540000            1.000000      2.000000   \n",
       "25%     -121.800000     33.930000           18.000000   1447.750000   \n",
       "50%     -118.490000     34.260000           29.000000   2127.000000   \n",
       "75%     -118.010000     37.710000           37.000000   3148.000000   \n",
       "max     -114.310000     41.950000           52.000000  39320.000000   \n",
       "\n",
       "       total_bedrooms    population    households  median_income  \\\n",
       "count    20433.000000  20640.000000  20640.000000   20640.000000   \n",
       "mean       537.870553   1425.476744    499.539680       3.870671   \n",
       "std        421.385070   1132.462122    382.329753       1.899822   \n",
       "min          1.000000      3.000000      1.000000       0.499900   \n",
       "25%        296.000000    787.000000    280.000000       2.563400   \n",
       "50%        435.000000   1166.000000    409.000000       3.534800   \n",
       "75%        647.000000   1725.000000    605.000000       4.743250   \n",
       "max       6445.000000  35682.000000   6082.000000      15.000100   \n",
       "\n",
       "       median_house_value  \n",
       "count        20640.000000  \n",
       "mean        206855.816909  \n",
       "std         115395.615874  \n",
       "min          14999.000000  \n",
       "25%         119600.000000  \n",
       "50%         179700.000000  \n",
       "75%         264725.000000  \n",
       "max         500001.000000  "
      ]
     },
     "execution_count": 7,
     "metadata": {},
     "output_type": "execute_result"
    }
   ],
   "source": [
    "# Checks for the descriptive statistics of the dataset\n",
    "\n",
    "housing.describe()"
   ]
  },
  {
   "cell_type": "markdown",
   "id": "7d6dc3d0-c3a3-4543-816f-8f39589ee67e",
   "metadata": {},
   "source": [
    "The basic information and descriptive statistics show that the dataseet has \n",
    "- little more than 20,000 instances in it\n",
    "- missing values in 'total_bedrooms'\n",
    "- columns have different scales"
   ]
  },
  {
   "cell_type": "code",
   "execution_count": 9,
   "id": "60ca6e34-07cc-469e-bf64-e142fbde0569",
   "metadata": {},
   "outputs": [
    {
     "data": {
      "text/plain": [
       "ocean_proximity\n",
       "<1H OCEAN     9136\n",
       "INLAND        6551\n",
       "NEAR OCEAN    2658\n",
       "NEAR BAY      2290\n",
       "ISLAND           5\n",
       "Name: count, dtype: int64"
      ]
     },
     "execution_count": 9,
     "metadata": {},
     "output_type": "execute_result"
    }
   ],
   "source": [
    "# Knowing type of the column \"ocean_proximity\" as 'object', \n",
    "# let's find values associated with this column\n",
    "\n",
    "housing.ocean_proximity.value_counts()"
   ]
  },
  {
   "cell_type": "code",
   "execution_count": null,
   "id": "08cc390d-c321-4370-9eb2-a7e0ba358154",
   "metadata": {},
   "outputs": [],
   "source": []
  },
  {
   "cell_type": "markdown",
   "id": "8d06abf5-7014-4b55-97b4-6d22d68d40e8",
   "metadata": {},
   "source": [
    "## Preparing Data"
   ]
  },
  {
   "cell_type": "markdown",
   "id": "a52ef20c-0c56-47b3-b95e-ec45376f5c32",
   "metadata": {},
   "source": [
    "### Checking for Duplicates and Single-valued Columns"
   ]
  },
  {
   "cell_type": "markdown",
   "id": "b9fadad1-26ac-4ffc-941d-615cd781fca0",
   "metadata": {},
   "source": [
    "**First, removes duplicate observations, if any**"
   ]
  },
  {
   "cell_type": "code",
   "execution_count": 13,
   "id": "f904d1b2-65e8-43d8-ac15-561e62d68e59",
   "metadata": {
    "tags": []
   },
   "outputs": [
    {
     "name": "stdout",
     "output_type": "stream",
     "text": [
      "There are 0 duplicates in the datsset\n"
     ]
    }
   ],
   "source": [
    "# Checks for duplicate observations\n",
    "duplicate_count = sum(housing.duplicated())\n",
    "print(\"There are\", duplicate_count, \"duplicates in the datsset\")\n",
    "\n",
    "# Deletes the duplicate data, if found\n",
    "if duplicate_count > 0:\n",
    "    housing.drop_duplicates(inplace=True)\n",
    "    print(\"\\n\\tDuplicate observations were deleted.\")\n",
    "    # Prints the shape of data before removal of duplicate\n",
    "    print(\"\\n\\tData shape after duplicate removal:\", housing.shape)"
   ]
  },
  {
   "cell_type": "markdown",
   "id": "531894d6-7960-41a3-84d8-c0fdeb0981aa",
   "metadata": {},
   "source": [
    "**Then removes single-valued columns**"
   ]
  },
  {
   "cell_type": "code",
   "execution_count": 15,
   "id": "931f7865-bf8b-44fa-90d6-f1b6a7862d63",
   "metadata": {
    "tags": []
   },
   "outputs": [
    {
     "name": "stdout",
     "output_type": "stream",
     "text": [
      "There are 0 single_valued columns in the datsset\n"
     ]
    }
   ],
   "source": [
    "# Gets number of unique values for each column\n",
    "unique_values_per_attrib = housing.nunique()\n",
    "\n",
    "# Records columns to delete\n",
    "single_value_columns = [i for i, value_count in enumerate(unique_values_per_attrib) if value_count == 1]\n",
    "print(\"There are\", len(single_value_columns), \"single_valued columns in the datsset\")\n",
    "\n",
    "# Deletes single-value columns, if exist\n",
    "if len(single_value_columns) > 0:\n",
    "    housing.drop(single_value_columns, axis=1, inplace=True)\n",
    "    print(\"\\n\\tSingle-valued columns were removed.\")\n",
    "    # Prints the shape of data after removal of single-value columns\n",
    "    print(\"\\n\\tData shape after single-value column removal:\", housing.shape)"
   ]
  },
  {
   "cell_type": "markdown",
   "id": "dd33fc04-8757-4a2e-8cc8-ace975c665b6",
   "metadata": {},
   "source": [
    "### Seperating Test Set"
   ]
  },
  {
   "cell_type": "markdown",
   "id": "b990a497-d30d-49b6-83f0-8f591c6aa288",
   "metadata": {},
   "source": [
    "**To ensure same distribution both in training and test dataset and to make test dataset representative of the population, stratified sampling over column \"median_income\" was consisdered.**"
   ]
  },
  {
   "cell_type": "code",
   "execution_count": 18,
   "id": "fd797b02-b3c3-46f6-9d8e-a1bda375a6f9",
   "metadata": {
    "tags": []
   },
   "outputs": [],
   "source": [
    "# Creates a column on which stratification will be based on. Essentially, it is a column having values each\n",
    "# would be a income bin that an instance will be associated to.\n",
    "\n",
    "housing[\"median_income_bin\"] = pd.cut(\n",
    "    housing[\"median_income\"],                # Values to be binned - 'median income' in this case\n",
    "    bins=[0., 1.5, 3.0, 4.5, 6., np.inf],    # Creates six bins\n",
    "    labels=[1, 2, 3, 4, 5])                  # Associates labels to each bin"
   ]
  },
  {
   "cell_type": "code",
   "execution_count": 19,
   "id": "7a8534a9-69d2-4aad-8251-8d994e0b367f",
   "metadata": {
    "tags": []
   },
   "outputs": [],
   "source": [
    "# Splits data into train and test dataset applying stratification\n",
    "\n",
    "train_set, test_set = train_test_split(\n",
    "    housing, test_size = 0.2, stratify = housing[\"median_income_bin\"], random_state=42)"
   ]
  },
  {
   "cell_type": "code",
   "execution_count": 20,
   "id": "f8c37dca-2cda-4a84-bc6e-618c67a9c588",
   "metadata": {
    "tags": []
   },
   "outputs": [],
   "source": [
    "# Removes intermediate attribute 'median_income_bin' after stratification\n",
    "# as this would no more be required\n",
    "\n",
    "train_set.drop(\"median_income_bin\", axis=1, inplace=True)\n",
    "test_set.drop(\"median_income_bin\", axis=1, inplace=True)"
   ]
  },
  {
   "cell_type": "markdown",
   "id": "83f795f1-2498-4c32-8726-ef199a330dc0",
   "metadata": {},
   "source": [
    "### Seperating Target Column"
   ]
  },
  {
   "cell_type": "code",
   "execution_count": 22,
   "id": "dfb37cbd-2309-4c0f-adf5-4af18204ae42",
   "metadata": {
    "tags": []
   },
   "outputs": [],
   "source": [
    "# Seperates target from features for both training and test set\n",
    "\n",
    "X_train = train_set.drop(\"median_house_value\", axis = 1)\n",
    "target_train = train_set[\"median_house_value\"].copy()\n",
    "\n",
    "X_test = test_set.drop(\"median_house_value\", axis = 1)\n",
    "target_test = test_set[\"median_house_value\"].copy()"
   ]
  },
  {
   "cell_type": "markdown",
   "id": "9b5823ad-c45f-4946-abd0-aacdfecbf444",
   "metadata": {},
   "source": [
    "### Transforming Data"
   ]
  },
  {
   "cell_type": "markdown",
   "id": "0d688563-776c-4835-8236-087dfe2c3ecd",
   "metadata": {},
   "source": [
    "#### Transforming Training Data"
   ]
  },
  {
   "cell_type": "markdown",
   "id": "4799f797-7c61-48da-8407-ed79df981a98",
   "metadata": {},
   "source": [
    "**Creating transformation pipeline to impute missing and scale numeric data in training dataset**"
   ]
  },
  {
   "cell_type": "code",
   "execution_count": 26,
   "id": "b6370414-08ac-4a92-aa27-808f7cfad259",
   "metadata": {
    "tags": []
   },
   "outputs": [],
   "source": [
    "# Sets list of numerical and categorical attributes\n",
    "\n",
    "cat_attribs = [\"ocean_proximity\"]\n",
    "num_attribs = list(X_train.columns)\n",
    "num_attribs.remove(cat_attribs[0])"
   ]
  },
  {
   "cell_type": "code",
   "execution_count": 27,
   "id": "1796d060-4c8a-4292-aa60-28642a58b11c",
   "metadata": {
    "tags": []
   },
   "outputs": [],
   "source": [
    "# Setting data transformation pipeline for numerical attributes\n",
    "# Note that featue scaling is NOT required for algorithms to be used here\n",
    "\n",
    "num_pipeline = Pipeline([\n",
    "    (\"imputer\", SimpleImputer(strategy=\"median\")),\n",
    "    #(\"std_scaler\", StandardScaler())    # Not required\n",
    "])"
   ]
  },
  {
   "cell_type": "code",
   "execution_count": 28,
   "id": "7f104ac8-dc0c-424d-8f68-b1904731fb97",
   "metadata": {
    "tags": []
   },
   "outputs": [],
   "source": [
    "# Transforms both numerical and categorical attritues by using ColumnTransformer. \n",
    "# This transformer can also have \n",
    "\n",
    "full_pipeline = ColumnTransformer([\n",
    "    (\"num\", num_pipeline, num_attribs),      # Uses sub-pipeline already defined above\n",
    "    (\"cat\", OneHotEncoder(), cat_attribs)])  # Considering OneHot encoding will just be fine for handful values\n",
    "\n",
    "X_train_transformed = full_pipeline.fit_transform(X_train)"
   ]
  },
  {
   "cell_type": "code",
   "execution_count": 29,
   "id": "a2619228-0841-4aea-ae7e-6c223123a65a",
   "metadata": {
    "tags": []
   },
   "outputs": [
    {
     "data": {
      "text/plain": [
       "(16512, 13)"
      ]
     },
     "execution_count": 29,
     "metadata": {},
     "output_type": "execute_result"
    }
   ],
   "source": [
    "# Checks for the shape of the transformed training dataset\n",
    "\n",
    "X_train_transformed.shape"
   ]
  },
  {
   "cell_type": "markdown",
   "id": "2749aa94-dfdf-4f9a-9faf-b620c6356115",
   "metadata": {},
   "source": [
    "#### Transforming Testing Data"
   ]
  },
  {
   "cell_type": "code",
   "execution_count": 31,
   "id": "e3f3a88a-3544-4e63-b2e0-1606d0acfee4",
   "metadata": {
    "tags": []
   },
   "outputs": [],
   "source": [
    "X_test_transformed = full_pipeline.transform(X_test)"
   ]
  },
  {
   "cell_type": "code",
   "execution_count": 32,
   "id": "65e22a9e-c1c3-4894-8c67-1cc74144034b",
   "metadata": {
    "tags": []
   },
   "outputs": [
    {
     "data": {
      "text/plain": [
       "(4128, 13)"
      ]
     },
     "execution_count": 32,
     "metadata": {},
     "output_type": "execute_result"
    }
   ],
   "source": [
    "# Checks for the shape of the transformed testing dataset\n",
    "\n",
    "X_test_transformed.shape"
   ]
  },
  {
   "cell_type": "code",
   "execution_count": null,
   "id": "ada6911e-bfda-47d7-92e8-faf497cdb156",
   "metadata": {},
   "outputs": [],
   "source": []
  },
  {
   "cell_type": "markdown",
   "id": "409c62f5-bbf7-4f39-93fc-c59b553c2dfa",
   "metadata": {},
   "source": [
    "## Modeling"
   ]
  },
  {
   "cell_type": "markdown",
   "id": "3cdbfdd6-b71b-4de8-bfeb-8fe9cd6fa7b2",
   "metadata": {},
   "source": [
    "### Modeling Using Closed Form Approach"
   ]
  },
  {
   "cell_type": "markdown",
   "id": "ebbbd715-f9a4-4739-88da-86e931f3a823",
   "metadata": {},
   "source": [
    "**Using Normal Equation**\n",
    "$\\hat{\\theta} = (X^TX)^{-1}X^Ty$"
   ]
  },
  {
   "cell_type": "code",
   "execution_count": 44,
   "id": "262c0a9c-8544-4957-9d6c-ccc48c2ac866",
   "metadata": {
    "tags": []
   },
   "outputs": [
    {
     "name": "stdout",
     "output_type": "stream",
     "text": [
      "[-2.66831122e+04 -2.54597874e+04  1.04270174e+03 -3.82448600e+00\n",
      "  6.20155695e+01 -4.58931291e+01  9.81139214e+01  3.86221869e+04\n",
      " -2.25044381e+06 -2.29012999e+06 -2.01230789e+06 -2.25412504e+06\n",
      " -2.24674472e+06]\n"
     ]
    }
   ],
   "source": [
    "# Estimates for model coefficents/parameters/weights (often denoted by θ)\n",
    "\n",
    "theta_ne = np.linalg.inv(X_train_transformed.T @ X_train_transformed) @ X_train_transformed.T @ target_train\n",
    "\n",
    "\"\"\"\n",
    "The same expression mentioined above can also be represented like the one below.\n",
    "\n",
    "theta = np.linalg.inv(\n",
    "    X_train_transformed.T.dot(X_train_transformed)).dot(\n",
    "        X_train_transformed.T).dot(X_train_target)\n",
    "\"\"\"\n",
    "\n",
    "# Shows θ values for normal equation (ne)\n",
    "print(theta_ne)"
   ]
  },
  {
   "cell_type": "code",
   "execution_count": 46,
   "id": "bb822886-fbc3-4f5a-a8b1-8594d75ed8d0",
   "metadata": {
    "tags": []
   },
   "outputs": [],
   "source": [
    "# Performs predictions on both training and testing dataset by linearly combinining features\n",
    "\n",
    "predictions_train_ne = X_train_transformed.dot(theta_ne)\n",
    "predictions_test_ne = X_test_transformed.dot(theta_ne)"
   ]
  },
  {
   "cell_type": "code",
   "execution_count": 48,
   "id": "820ac2cc-f2af-4844-a859-332b9663ba51",
   "metadata": {
    "tags": []
   },
   "outputs": [],
   "source": [
    "# Evaluates Normal Equation model performance on both training and testing dataset\n",
    "\n",
    "rmse_train_ne = np.sqrt(mean_squared_error(target_train, predictions_train_ne))\n",
    "rmse_test_ne = np.sqrt(mean_squared_error(target_test, predictions_test_ne))"
   ]
  },
  {
   "cell_type": "code",
   "execution_count": null,
   "id": "c61f134f-4885-4cb7-be9c-48c698cd2f01",
   "metadata": {},
   "outputs": [],
   "source": []
  },
  {
   "cell_type": "markdown",
   "id": "c5a80388-3d69-4cc7-aa63-540858be9164",
   "metadata": {},
   "source": [
    "**Using Singular Value Decomposition (SVD) Approach over LinearRegression (LR) Algorithm**"
   ]
  },
  {
   "cell_type": "code",
   "execution_count": 54,
   "id": "c6c50729-a8c9-459b-ae58-f143e591acda",
   "metadata": {
    "tags": []
   },
   "outputs": [
    {
     "data": {
      "text/html": [
       "<style>#sk-container-id-1 {color: black;background-color: white;}#sk-container-id-1 pre{padding: 0;}#sk-container-id-1 div.sk-toggleable {background-color: white;}#sk-container-id-1 label.sk-toggleable__label {cursor: pointer;display: block;width: 100%;margin-bottom: 0;padding: 0.3em;box-sizing: border-box;text-align: center;}#sk-container-id-1 label.sk-toggleable__label-arrow:before {content: \"▸\";float: left;margin-right: 0.25em;color: #696969;}#sk-container-id-1 label.sk-toggleable__label-arrow:hover:before {color: black;}#sk-container-id-1 div.sk-estimator:hover label.sk-toggleable__label-arrow:before {color: black;}#sk-container-id-1 div.sk-toggleable__content {max-height: 0;max-width: 0;overflow: hidden;text-align: left;background-color: #f0f8ff;}#sk-container-id-1 div.sk-toggleable__content pre {margin: 0.2em;color: black;border-radius: 0.25em;background-color: #f0f8ff;}#sk-container-id-1 input.sk-toggleable__control:checked~div.sk-toggleable__content {max-height: 200px;max-width: 100%;overflow: auto;}#sk-container-id-1 input.sk-toggleable__control:checked~label.sk-toggleable__label-arrow:before {content: \"▾\";}#sk-container-id-1 div.sk-estimator input.sk-toggleable__control:checked~label.sk-toggleable__label {background-color: #d4ebff;}#sk-container-id-1 div.sk-label input.sk-toggleable__control:checked~label.sk-toggleable__label {background-color: #d4ebff;}#sk-container-id-1 input.sk-hidden--visually {border: 0;clip: rect(1px 1px 1px 1px);clip: rect(1px, 1px, 1px, 1px);height: 1px;margin: -1px;overflow: hidden;padding: 0;position: absolute;width: 1px;}#sk-container-id-1 div.sk-estimator {font-family: monospace;background-color: #f0f8ff;border: 1px dotted black;border-radius: 0.25em;box-sizing: border-box;margin-bottom: 0.5em;}#sk-container-id-1 div.sk-estimator:hover {background-color: #d4ebff;}#sk-container-id-1 div.sk-parallel-item::after {content: \"\";width: 100%;border-bottom: 1px solid gray;flex-grow: 1;}#sk-container-id-1 div.sk-label:hover label.sk-toggleable__label {background-color: #d4ebff;}#sk-container-id-1 div.sk-serial::before {content: \"\";position: absolute;border-left: 1px solid gray;box-sizing: border-box;top: 0;bottom: 0;left: 50%;z-index: 0;}#sk-container-id-1 div.sk-serial {display: flex;flex-direction: column;align-items: center;background-color: white;padding-right: 0.2em;padding-left: 0.2em;position: relative;}#sk-container-id-1 div.sk-item {position: relative;z-index: 1;}#sk-container-id-1 div.sk-parallel {display: flex;align-items: stretch;justify-content: center;background-color: white;position: relative;}#sk-container-id-1 div.sk-item::before, #sk-container-id-1 div.sk-parallel-item::before {content: \"\";position: absolute;border-left: 1px solid gray;box-sizing: border-box;top: 0;bottom: 0;left: 50%;z-index: -1;}#sk-container-id-1 div.sk-parallel-item {display: flex;flex-direction: column;z-index: 1;position: relative;background-color: white;}#sk-container-id-1 div.sk-parallel-item:first-child::after {align-self: flex-end;width: 50%;}#sk-container-id-1 div.sk-parallel-item:last-child::after {align-self: flex-start;width: 50%;}#sk-container-id-1 div.sk-parallel-item:only-child::after {width: 0;}#sk-container-id-1 div.sk-dashed-wrapped {border: 1px dashed gray;margin: 0 0.4em 0.5em 0.4em;box-sizing: border-box;padding-bottom: 0.4em;background-color: white;}#sk-container-id-1 div.sk-label label {font-family: monospace;font-weight: bold;display: inline-block;line-height: 1.2em;}#sk-container-id-1 div.sk-label-container {text-align: center;}#sk-container-id-1 div.sk-container {/* jupyter's `normalize.less` sets `[hidden] { display: none; }` but bootstrap.min.css set `[hidden] { display: none !important; }` so we also need the `!important` here to be able to override the default hidden behavior on the sphinx rendered scikit-learn.org. See: https://github.com/scikit-learn/scikit-learn/issues/21755 */display: inline-block !important;position: relative;}#sk-container-id-1 div.sk-text-repr-fallback {display: none;}</style><div id=\"sk-container-id-1\" class=\"sk-top-container\"><div class=\"sk-text-repr-fallback\"><pre>LinearRegression()</pre><b>In a Jupyter environment, please rerun this cell to show the HTML representation or trust the notebook. <br />On GitHub, the HTML representation is unable to render, please try loading this page with nbviewer.org.</b></div><div class=\"sk-container\" hidden><div class=\"sk-item\"><div class=\"sk-estimator sk-toggleable\"><input class=\"sk-toggleable__control sk-hidden--visually\" id=\"sk-estimator-id-1\" type=\"checkbox\" checked><label for=\"sk-estimator-id-1\" class=\"sk-toggleable__label sk-toggleable__label-arrow\">LinearRegression</label><div class=\"sk-toggleable__content\"><pre>LinearRegression()</pre></div></div></div></div></div>"
      ],
      "text/plain": [
       "LinearRegression()"
      ]
     },
     "execution_count": 54,
     "metadata": {},
     "output_type": "execute_result"
    }
   ],
   "source": [
    "# Fits a LinearRegression model\n",
    "\n",
    "lr_model = LinearRegression()\n",
    "lr_model.fit(X_train_transformed, target_train)"
   ]
  },
  {
   "cell_type": "code",
   "execution_count": 56,
   "id": "c76ffef4-03a9-4b33-8fa6-20d13714a648",
   "metadata": {},
   "outputs": [
    {
     "name": "stdout",
     "output_type": "stream",
     "text": [
      "Linear Regression Model Parameters:\n",
      "\n",
      "Intercept: -2210750.2918442874\n",
      "Coefficients: [-2.66831122e+04 -2.54597874e+04  1.04270174e+03 -3.82448600e+00\n",
      "  6.20155695e+01 -4.58931291e+01  9.81139214e+01  3.86221869e+04\n",
      " -3.96935229e+04 -7.93796990e+04  1.98442398e+05 -4.33747507e+04\n",
      " -3.59944258e+04]\n"
     ]
    }
   ],
   "source": [
    "print(\"Linear Regression Model Parameters:\\n\")\n",
    "print(\"Intercept:\", lr_model.intercept_)\n",
    "print(\"Coefficients:\", lr_model.coef_)"
   ]
  },
  {
   "cell_type": "code",
   "execution_count": 58,
   "id": "cb6011f7-a611-492a-89ba-f5b9796871ae",
   "metadata": {
    "tags": []
   },
   "outputs": [],
   "source": [
    "# Performs predictions on both training and testing dataset\n",
    "\n",
    "predictions_train_lr = lr_model.predict(X_train_transformed)\n",
    "predictions_test_lr = lr_model.predict(X_test_transformed)"
   ]
  },
  {
   "cell_type": "code",
   "execution_count": 62,
   "id": "d1d67138-01a2-485d-ae63-63354dac2a14",
   "metadata": {},
   "outputs": [],
   "source": [
    "rmse_train_lr = np.sqrt(mean_squared_error(target_train, predictions_train_lr))\n",
    "rmse_test_lr = np.sqrt(mean_squared_error(target_test, predictions_test_lr))"
   ]
  },
  {
   "cell_type": "markdown",
   "id": "97e528e1-6ab4-4884-aef2-9c067a06be7b",
   "metadata": {},
   "source": [
    "### Analyzing Model Performance\n",
    "_Note that cross validation was not used for not being useful for closed form modeling approaches._"
   ]
  },
  {
   "cell_type": "code",
   "execution_count": 65,
   "id": "2d03ec8f-a316-4db4-8e81-cc3de89f2457",
   "metadata": {
    "tags": []
   },
   "outputs": [
    {
     "name": "stdout",
     "output_type": "stream",
     "text": [
      "Prediction Performance (in RMSE) using Normal Equation:\n",
      "\n",
      "Train Error: 68232.83515124217\n",
      "Test Error: 71002.83776916377\n"
     ]
    }
   ],
   "source": [
    "# Shows Normal Equation model performance on both datasets\n",
    "\n",
    "print(\"Prediction Performance (in RMSE) using Normal Equation:\\n\")\n",
    "print(\"Train Error:\", rmse_train_ne)\n",
    "print(\"Test Error:\", rmse_test_ne)"
   ]
  },
  {
   "cell_type": "code",
   "execution_count": 67,
   "id": "f707d9d0-489f-43a1-b797-7b956c32721d",
   "metadata": {
    "tags": []
   },
   "outputs": [
    {
     "name": "stdout",
     "output_type": "stream",
     "text": [
      "Linear Regression Model Peroformance (in RMSE):\n",
      "\n",
      "Train Error: 68232.83515124217\n",
      "Test Error: 71002.83776920402\n"
     ]
    }
   ],
   "source": [
    "# Shows Linear Regression model performance on both datasets\n",
    "\n",
    "print(\"Linear Regression Model Peroformance (in RMSE):\\n\")\n",
    "print(\"Train Error:\", rmse_train_lr)\n",
    "print(\"Test Error:\", rmse_test_lr)"
   ]
  },
  {
   "cell_type": "code",
   "execution_count": 69,
   "id": "724737b3-47dc-4cd2-8b16-37a8ce4408e6",
   "metadata": {
    "tags": []
   },
   "outputs": [
    {
     "data": {
      "text/html": [
       "<div>\n",
       "<style scoped>\n",
       "    .dataframe tbody tr th:only-of-type {\n",
       "        vertical-align: middle;\n",
       "    }\n",
       "\n",
       "    .dataframe tbody tr th {\n",
       "        vertical-align: top;\n",
       "    }\n",
       "\n",
       "    .dataframe thead th {\n",
       "        text-align: right;\n",
       "    }\n",
       "</style>\n",
       "<table border=\"1\" class=\"dataframe\">\n",
       "  <thead>\n",
       "    <tr style=\"text-align: right;\">\n",
       "      <th></th>\n",
       "      <th>Actual Target</th>\n",
       "      <th>Normal Eq. Prediction</th>\n",
       "      <th>LR Prediction</th>\n",
       "      <th>Normal Eq. Prediction Error</th>\n",
       "      <th>LR Prediction Error:</th>\n",
       "    </tr>\n",
       "  </thead>\n",
       "  <tbody>\n",
       "    <tr>\n",
       "      <th>3905</th>\n",
       "      <td>397700.0</td>\n",
       "      <td>383993.915928</td>\n",
       "      <td>383993.915926</td>\n",
       "      <td>13706.084072</td>\n",
       "      <td>13706.084074</td>\n",
       "    </tr>\n",
       "    <tr>\n",
       "      <th>16821</th>\n",
       "      <td>202900.0</td>\n",
       "      <td>252310.540685</td>\n",
       "      <td>252310.540684</td>\n",
       "      <td>49410.540685</td>\n",
       "      <td>49410.540684</td>\n",
       "    </tr>\n",
       "    <tr>\n",
       "      <th>2900</th>\n",
       "      <td>310000.0</td>\n",
       "      <td>372503.598094</td>\n",
       "      <td>372503.598092</td>\n",
       "      <td>62503.598094</td>\n",
       "      <td>62503.598092</td>\n",
       "    </tr>\n",
       "    <tr>\n",
       "      <th>7193</th>\n",
       "      <td>314300.0</td>\n",
       "      <td>279372.702016</td>\n",
       "      <td>279372.702014</td>\n",
       "      <td>34927.297984</td>\n",
       "      <td>34927.297986</td>\n",
       "    </tr>\n",
       "    <tr>\n",
       "      <th>13928</th>\n",
       "      <td>187500.0</td>\n",
       "      <td>225899.332765</td>\n",
       "      <td>225899.332762</td>\n",
       "      <td>38399.332765</td>\n",
       "      <td>38399.332762</td>\n",
       "    </tr>\n",
       "    <tr>\n",
       "      <th>6523</th>\n",
       "      <td>141700.0</td>\n",
       "      <td>212940.693079</td>\n",
       "      <td>212940.693078</td>\n",
       "      <td>71240.693079</td>\n",
       "      <td>71240.693078</td>\n",
       "    </tr>\n",
       "    <tr>\n",
       "      <th>33</th>\n",
       "      <td>104900.0</td>\n",
       "      <td>163517.459664</td>\n",
       "      <td>163517.459662</td>\n",
       "      <td>58617.459664</td>\n",
       "      <td>58617.459662</td>\n",
       "    </tr>\n",
       "    <tr>\n",
       "      <th>15996</th>\n",
       "      <td>275100.0</td>\n",
       "      <td>346138.250216</td>\n",
       "      <td>346138.250214</td>\n",
       "      <td>71038.250216</td>\n",
       "      <td>71038.250214</td>\n",
       "    </tr>\n",
       "    <tr>\n",
       "      <th>18212</th>\n",
       "      <td>167000.0</td>\n",
       "      <td>257846.468207</td>\n",
       "      <td>257846.468205</td>\n",
       "      <td>90846.468207</td>\n",
       "      <td>90846.468205</td>\n",
       "    </tr>\n",
       "    <tr>\n",
       "      <th>10083</th>\n",
       "      <td>457700.0</td>\n",
       "      <td>258190.496189</td>\n",
       "      <td>258190.496187</td>\n",
       "      <td>199509.503811</td>\n",
       "      <td>199509.503813</td>\n",
       "    </tr>\n",
       "  </tbody>\n",
       "</table>\n",
       "</div>"
      ],
      "text/plain": [
       "       Actual Target  Normal Eq. Prediction  LR Prediction  \\\n",
       "3905        397700.0          383993.915928  383993.915926   \n",
       "16821       202900.0          252310.540685  252310.540684   \n",
       "2900        310000.0          372503.598094  372503.598092   \n",
       "7193        314300.0          279372.702016  279372.702014   \n",
       "13928       187500.0          225899.332765  225899.332762   \n",
       "6523        141700.0          212940.693079  212940.693078   \n",
       "33          104900.0          163517.459664  163517.459662   \n",
       "15996       275100.0          346138.250216  346138.250214   \n",
       "18212       167000.0          257846.468207  257846.468205   \n",
       "10083       457700.0          258190.496189  258190.496187   \n",
       "\n",
       "       Normal Eq. Prediction Error  LR Prediction Error:  \n",
       "3905                  13706.084072          13706.084074  \n",
       "16821                 49410.540685          49410.540684  \n",
       "2900                  62503.598094          62503.598092  \n",
       "7193                  34927.297984          34927.297986  \n",
       "13928                 38399.332765          38399.332762  \n",
       "6523                  71240.693079          71240.693078  \n",
       "33                    58617.459664          58617.459662  \n",
       "15996                 71038.250216          71038.250214  \n",
       "18212                 90846.468207          90846.468205  \n",
       "10083                199509.503811         199509.503813  "
      ]
     },
     "execution_count": 69,
     "metadata": {},
     "output_type": "execute_result"
    }
   ],
   "source": [
    "# Shows both models' prediction and prediction error side-by-side \n",
    "# on few of the instances from the test dataset\n",
    "\n",
    "pd.DataFrame({\n",
    "    \"Actual Target\": target_test, \n",
    "    \"Normal Eq. Prediction\": predictions_test_ne, \n",
    "    \"LR Prediction\": predictions_test_lr, \n",
    "    \"Normal Eq. Prediction Error\": np.abs(target_test - predictions_test_ne), \n",
    "    \"LR Prediction Error:\": np.abs(target_test - predictions_test_lr)\n",
    "}).head(10)"
   ]
  },
  {
   "cell_type": "code",
   "execution_count": null,
   "id": "72f3cb82-72f2-4147-874b-1607db2fc3f2",
   "metadata": {},
   "outputs": [],
   "source": []
  }
 ],
 "metadata": {
  "kernelspec": {
   "display_name": "Python 3 (ipykernel)",
   "language": "python",
   "name": "python3"
  },
  "language_info": {
   "codemirror_mode": {
    "name": "ipython",
    "version": 3
   },
   "file_extension": ".py",
   "mimetype": "text/x-python",
   "name": "python",
   "nbconvert_exporter": "python",
   "pygments_lexer": "ipython3",
   "version": "3.11.7"
  }
 },
 "nbformat": 4,
 "nbformat_minor": 5
}
