{
 "cells": [
  {
   "cell_type": "markdown",
   "metadata": {},
   "source": [
    "# CANDIDATE-ELIMINATION Learning Algorithm in Concept Learning\n",
    "\n",
    "_Finding set of all hypotheses consistent with training examples._"
   ]
  },
  {
   "cell_type": "code",
   "execution_count": 2,
   "metadata": {
    "tags": []
   },
   "outputs": [],
   "source": [
    "# imports required packages\n",
    "\n",
    "import pandas as pd\n",
    "import numpy as np"
   ]
  },
  {
   "cell_type": "markdown",
   "metadata": {},
   "source": [
    "## Preparing Data"
   ]
  },
  {
   "cell_type": "code",
   "execution_count": 4,
   "metadata": {
    "tags": []
   },
   "outputs": [],
   "source": [
    "# Reads relevant data\n",
    "\n",
    "data = pd.read_csv(\"../Data/enjoysport.csv\")"
   ]
  },
  {
   "cell_type": "code",
   "execution_count": 5,
   "metadata": {
    "tags": []
   },
   "outputs": [
    {
     "data": {
      "text/html": [
       "<div>\n",
       "<style scoped>\n",
       "    .dataframe tbody tr th:only-of-type {\n",
       "        vertical-align: middle;\n",
       "    }\n",
       "\n",
       "    .dataframe tbody tr th {\n",
       "        vertical-align: top;\n",
       "    }\n",
       "\n",
       "    .dataframe thead th {\n",
       "        text-align: right;\n",
       "    }\n",
       "</style>\n",
       "<table border=\"1\" class=\"dataframe\">\n",
       "  <thead>\n",
       "    <tr style=\"text-align: right;\">\n",
       "      <th></th>\n",
       "      <th>Sky</th>\n",
       "      <th>AirTemp</th>\n",
       "      <th>Humidity</th>\n",
       "      <th>Wind</th>\n",
       "      <th>Water</th>\n",
       "      <th>Forecast</th>\n",
       "      <th>EnjoySport</th>\n",
       "    </tr>\n",
       "  </thead>\n",
       "  <tbody>\n",
       "    <tr>\n",
       "      <th>0</th>\n",
       "      <td>Sunny</td>\n",
       "      <td>Warm</td>\n",
       "      <td>Normal</td>\n",
       "      <td>Strong</td>\n",
       "      <td>Warm</td>\n",
       "      <td>Same</td>\n",
       "      <td>Yes</td>\n",
       "    </tr>\n",
       "    <tr>\n",
       "      <th>1</th>\n",
       "      <td>Sunny</td>\n",
       "      <td>Warm</td>\n",
       "      <td>High</td>\n",
       "      <td>Strong</td>\n",
       "      <td>Warm</td>\n",
       "      <td>Same</td>\n",
       "      <td>Yes</td>\n",
       "    </tr>\n",
       "    <tr>\n",
       "      <th>2</th>\n",
       "      <td>Rainy</td>\n",
       "      <td>Cold</td>\n",
       "      <td>High</td>\n",
       "      <td>Strong</td>\n",
       "      <td>Warm</td>\n",
       "      <td>Change</td>\n",
       "      <td>No</td>\n",
       "    </tr>\n",
       "    <tr>\n",
       "      <th>3</th>\n",
       "      <td>Sunny</td>\n",
       "      <td>Warm</td>\n",
       "      <td>High</td>\n",
       "      <td>Strong</td>\n",
       "      <td>Cool</td>\n",
       "      <td>Change</td>\n",
       "      <td>Yes</td>\n",
       "    </tr>\n",
       "  </tbody>\n",
       "</table>\n",
       "</div>"
      ],
      "text/plain": [
       "     Sky AirTemp Humidity    Wind Water Forecast EnjoySport\n",
       "0  Sunny    Warm   Normal  Strong  Warm     Same        Yes\n",
       "1  Sunny    Warm     High  Strong  Warm     Same        Yes\n",
       "2  Rainy    Cold     High  Strong  Warm   Change         No\n",
       "3  Sunny    Warm     High  Strong  Cool   Change        Yes"
      ]
     },
     "metadata": {},
     "output_type": "display_data"
    }
   ],
   "source": [
    "# Views the data\n",
    "\n",
    "display(data)"
   ]
  },
  {
   "cell_type": "code",
   "execution_count": 6,
   "metadata": {
    "tags": []
   },
   "outputs": [],
   "source": [
    "# X represents a set of instances over which concept of learning is defined\n",
    "\n",
    "X = data.copy()"
   ]
  },
  {
   "cell_type": "code",
   "execution_count": 7,
   "metadata": {
    "tags": []
   },
   "outputs": [],
   "source": [
    "# X represents a set of instances over which concept of learning is defined\n",
    "\n",
    "X = np.array(data.iloc[:,0:-1])"
   ]
  },
  {
   "cell_type": "code",
   "execution_count": 8,
   "metadata": {
    "tags": []
   },
   "outputs": [
    {
     "data": {
      "text/plain": [
       "array([['Sunny', 'Warm', 'Normal', 'Strong', 'Warm', 'Same'],\n",
       "       ['Sunny', 'Warm', 'High', 'Strong', 'Warm', 'Same'],\n",
       "       ['Rainy', 'Cold', 'High', 'Strong', 'Warm', 'Change'],\n",
       "       ['Sunny', 'Warm', 'High', 'Strong', 'Cool', 'Change']],\n",
       "      dtype=object)"
      ]
     },
     "metadata": {},
     "output_type": "display_data"
    }
   ],
   "source": [
    "# Shows training examples (without target)\n",
    "\n",
    "display(X)"
   ]
  },
  {
   "cell_type": "code",
   "execution_count": 9,
   "metadata": {
    "tags": []
   },
   "outputs": [],
   "source": [
    "# Seperates target in an array\n",
    "target = np.array(data.iloc[:,-1])"
   ]
  },
  {
   "cell_type": "code",
   "execution_count": 10,
   "metadata": {
    "tags": []
   },
   "outputs": [
    {
     "data": {
      "text/plain": [
       "array(['Yes', 'Yes', 'No', 'Yes'], dtype=object)"
      ]
     },
     "metadata": {},
     "output_type": "display_data"
    }
   ],
   "source": [
    "display(target)"
   ]
  },
  {
   "cell_type": "markdown",
   "metadata": {},
   "source": [
    "## Applying Candidate-Elimination Algorithm to Get Specific & General Hopothesis Boundary Sets"
   ]
  },
  {
   "cell_type": "markdown",
   "metadata": {},
   "source": [
    "_**Psedocode for the Candidate-Elimination algorithm**_\n",
    "\n",
    "1. Initialize G to the set of maximally general hypotheses in H\n",
    "2. Initialize S to the set of maximally specific hypotheses in H\n",
    "3. For each training example d, do\n",
    "    - If d is a positive example\n",
    "        - Remove from G any hypothesis inconsistent with d\n",
    "        - For each hypothesis s in S that is not consistent with d ,-\n",
    "            - Remove s from S\n",
    "            - Add to S all minimal generalizations h of s such that\n",
    "                - h is consistent with d, and some member of G is more general than h\n",
    "            - Remove from S any hypothesis that is more general than another hypothesis in S\n",
    "    - If d is a negative example\n",
    "        - Remove from S any hypothesis inconsistent with d\n",
    "        - For each hypothesis g in G that is not consistent with d\n",
    "            - Remove g from G\n",
    "            - Add to G all minimal specializations h of g such that\n",
    "                - h is consistent with d, and some member of S is more specific than h\n",
    "            - Remove from G any hypothesis that is less general than another hypothesis in G"
   ]
  },
  {
   "cell_type": "code",
   "execution_count": 13,
   "metadata": {
    "tags": []
   },
   "outputs": [],
   "source": [
    "class CandidateElimination():\n",
    "    \"\"\"\n",
    "    Encapsulates the Candidate-Elimination algorithm \n",
    "    \"\"\"    \n",
    "\n",
    "    def fit(self, X, target):\n",
    "        \"\"\"\n",
    "        Finding specific and general boundary sets of hypotheses consistent with training examples.\n",
    "        \n",
    "        Attributes\n",
    "        ----------\n",
    "        X: dataframe\n",
    "            instances of training examples\n",
    "        target: series\n",
    "            the label against each instance\n",
    "        \"\"\"\n",
    "\n",
    "        # Initializes boundry for specific hypothesis\n",
    "        specific_h = ['Φ' for i in range(X.shape[1])]\n",
    "\n",
    "        # Initializes boundry for general hypotheses\n",
    "        general_h = [[\"?\" for i in range(X.shape[1])] for i in range(X.shape[1])]\n",
    "\n",
    "        print(\"\\nInitialization:\\nSpecific Boundary: {}\\nGeneral Boundary: {}\".format(\n",
    "            specific_h, general_h))\n",
    "\n",
    "        # Iterates through the example instances\n",
    "        for i, x in enumerate(X):\n",
    "            print(\"\\nAfter Instance #\", i+1 , \":\", x, \"[POSITIVE]\" if target[i] == \"Yes\" else \"[NEGATIVE]\")\n",
    "\n",
    "            if target[i] == \"Yes\":\n",
    "                for i, attr in enumerate(x): \n",
    "                    if specific_h[i] == 'Φ':\n",
    "                        specific_h[i] = attr\n",
    "                    elif attr != specific_h[i]:                    \n",
    "                        specific_h[i] ='?'                     \n",
    "                        general_h[i][i] ='?'               \n",
    "\n",
    "            elif target[i] == \"No\":\n",
    "                for i, attr in enumerate(x):\n",
    "                    if attr != specific_h[i]:                    \n",
    "                        general_h[i][i] = specific_h[i]                \n",
    "                    else:                    \n",
    "                        general_h[i][i] = '?'                     \n",
    "\n",
    "            print(\"Specific Boundary:\", specific_h)         \n",
    "            print(\"Generic Boundary:\", general_h)\n",
    "\n",
    "        # Removes most general hypotheses from the general boundry set\n",
    "        most_general_h = [\"?\" for i in range(X.shape[1])]\n",
    "        indices = [i for i, val in enumerate(general_h) if val == most_general_h]    \n",
    "        for i in indices:\n",
    "            general_h.remove(most_general_h) \n",
    "\n",
    "        return specific_h, general_h "
   ]
  },
  {
   "cell_type": "code",
   "execution_count": 14,
   "metadata": {
    "tags": []
   },
   "outputs": [
    {
     "name": "stdout",
     "output_type": "stream",
     "text": [
      "\n",
      "Initialization:\n",
      "Specific Boundary: ['Φ', 'Φ', 'Φ', 'Φ', 'Φ', 'Φ']\n",
      "General Boundary: [['?', '?', '?', '?', '?', '?'], ['?', '?', '?', '?', '?', '?'], ['?', '?', '?', '?', '?', '?'], ['?', '?', '?', '?', '?', '?'], ['?', '?', '?', '?', '?', '?'], ['?', '?', '?', '?', '?', '?']]\n",
      "\n",
      "After Instance # 1 : ['Sunny' 'Warm' 'Normal' 'Strong' 'Warm' 'Same'] [POSITIVE]\n",
      "Specific Boundary: ['Sunny', 'Warm', 'Normal', 'Strong', 'Warm', 'Same']\n",
      "Generic Boundary: [['?', '?', '?', '?', '?', '?'], ['?', '?', '?', '?', '?', '?'], ['?', '?', '?', '?', '?', '?'], ['?', '?', '?', '?', '?', '?'], ['?', '?', '?', '?', '?', '?'], ['?', '?', '?', '?', '?', '?']]\n",
      "\n",
      "After Instance # 2 : ['Sunny' 'Warm' 'High' 'Strong' 'Warm' 'Same'] [POSITIVE]\n",
      "Specific Boundary: ['Sunny', 'Warm', '?', 'Strong', 'Warm', 'Same']\n",
      "Generic Boundary: [['?', '?', '?', '?', '?', '?'], ['?', '?', '?', '?', '?', '?'], ['?', '?', '?', '?', '?', '?'], ['?', '?', '?', '?', '?', '?'], ['?', '?', '?', '?', '?', '?'], ['?', '?', '?', '?', '?', '?']]\n",
      "\n",
      "After Instance # 3 : ['Rainy' 'Cold' 'High' 'Strong' 'Warm' 'Change'] [NEGATIVE]\n",
      "Specific Boundary: ['Sunny', 'Warm', '?', 'Strong', 'Warm', 'Same']\n",
      "Generic Boundary: [['Sunny', '?', '?', '?', '?', '?'], ['?', 'Warm', '?', '?', '?', '?'], ['?', '?', '?', '?', '?', '?'], ['?', '?', '?', '?', '?', '?'], ['?', '?', '?', '?', '?', '?'], ['?', '?', '?', '?', '?', 'Same']]\n",
      "\n",
      "After Instance # 4 : ['Sunny' 'Warm' 'High' 'Strong' 'Cool' 'Change'] [POSITIVE]\n",
      "Specific Boundary: ['Sunny', 'Warm', '?', 'Strong', '?', '?']\n",
      "Generic Boundary: [['Sunny', '?', '?', '?', '?', '?'], ['?', 'Warm', '?', '?', '?', '?'], ['?', '?', '?', '?', '?', '?'], ['?', '?', '?', '?', '?', '?'], ['?', '?', '?', '?', '?', '?'], ['?', '?', '?', '?', '?', '?']]\n"
     ]
    }
   ],
   "source": [
    "# Instantiate algorithm and fits the training examples\n",
    "\n",
    "candidate_elimination = CandidateElimination()\n",
    "\n",
    "specific_boundary, general_boundary = candidate_elimination.fit(X, target)"
   ]
  },
  {
   "cell_type": "code",
   "execution_count": 15,
   "metadata": {
    "tags": []
   },
   "outputs": [
    {
     "name": "stdout",
     "output_type": "stream",
     "text": [
      "Hypothesis in Specific Boundary: ['Sunny', 'Warm', '?', 'Strong', '?', '?'] \n",
      "\n",
      "Hypotheses in General Boundary: [['Sunny', '?', '?', '?', '?', '?'], ['?', 'Warm', '?', '?', '?', '?']]\n"
     ]
    }
   ],
   "source": [
    "# Shows both specific and general boundary sets\n",
    "\n",
    "print(\"Hypothesis in Specific Boundary:\", specific_boundary, \"\\n\")\n",
    "print(\"Hypotheses in General Boundary:\", general_boundary)"
   ]
  },
  {
   "cell_type": "code",
   "execution_count": null,
   "metadata": {},
   "outputs": [],
   "source": []
  }
 ],
 "metadata": {
  "kernelspec": {
   "display_name": "Python 3 (ipykernel)",
   "language": "python",
   "name": "python3"
  },
  "language_info": {
   "codemirror_mode": {
    "name": "ipython",
    "version": 3
   },
   "file_extension": ".py",
   "mimetype": "text/x-python",
   "name": "python",
   "nbconvert_exporter": "python",
   "pygments_lexer": "ipython3",
   "version": "3.11.7"
  }
 },
 "nbformat": 4,
 "nbformat_minor": 4
}
