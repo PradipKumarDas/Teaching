{
 "cells": [
  {
   "cell_type": "markdown",
   "id": "2c29bfc6-8ec8-4987-b36e-781f0f997e28",
   "metadata": {},
   "source": [
    "# MULTILAYER PERCEPTRON USING KERAS"
   ]
  },
  {
   "cell_type": "markdown",
   "id": "c11e5e11-bc19-4023-9ef3-b7e90042461f",
   "metadata": {
    "tags": []
   },
   "source": [
    "## The Perceptron"
   ]
  },
  {
   "cell_type": "code",
   "execution_count": 1,
   "id": "d04e4b5a-03b1-464e-ace9-f4e1daef6010",
   "metadata": {
    "tags": []
   },
   "outputs": [
    {
     "name": "stderr",
     "output_type": "stream",
     "text": [
      "2024-02-12 20:43:39.747995: I tensorflow/core/platform/cpu_feature_guard.cc:182] This TensorFlow binary is optimized to use available CPU instructions in performance-critical operations.\n",
      "To enable the following instructions: SSE4.1 SSE4.2 AVX AVX2 FMA, in other operations, rebuild TensorFlow with the appropriate compiler flags.\n"
     ]
    }
   ],
   "source": [
    "import numpy as np\n",
    "import pandas as pd\n",
    "\n",
    "from sklearn.datasets import load_iris, fetch_california_housing\n",
    "from sklearn.linear_model import Perceptron\n",
    "from sklearn.model_selection import train_test_split\n",
    "from sklearn.preprocessing import StandardScaler\n",
    "from sklearn.metrics import mean_squared_error\n",
    "from sklearn.pipeline import make_pipeline\n",
    "\n",
    "from sklearn.neural_network import MLPClassifier, MLPRegressor\n",
    "import tensorflow as tf\n",
    "import keras_tuner as kt\n",
    "\n",
    "import datetime\n",
    "import matplotlib.pyplot as plt"
   ]
  },
  {
   "cell_type": "code",
   "execution_count": 2,
   "id": "52eb70dd-32fe-4956-b20d-ddf212d827e7",
   "metadata": {
    "tags": []
   },
   "outputs": [],
   "source": [
    "# Loads the dataset\n",
    "\n",
    "iris = load_iris(as_frame=True)\n",
    "\n",
    "# Prepares training dataset\n",
    "X = iris.data[[\"petal length (cm)\", \"petal width (cm)\"]].values\n",
    "y = (iris.target == 0)    # Iris setosa is labelled as zero"
   ]
  },
  {
   "cell_type": "code",
   "execution_count": 3,
   "id": "d21aa9b6-01e1-4db5-9d16-a2ec6c1fa167",
   "metadata": {
    "tags": []
   },
   "outputs": [
    {
     "data": {
      "text/html": [
       "<style>#sk-container-id-1 {color: black;}#sk-container-id-1 pre{padding: 0;}#sk-container-id-1 div.sk-toggleable {background-color: white;}#sk-container-id-1 label.sk-toggleable__label {cursor: pointer;display: block;width: 100%;margin-bottom: 0;padding: 0.3em;box-sizing: border-box;text-align: center;}#sk-container-id-1 label.sk-toggleable__label-arrow:before {content: \"▸\";float: left;margin-right: 0.25em;color: #696969;}#sk-container-id-1 label.sk-toggleable__label-arrow:hover:before {color: black;}#sk-container-id-1 div.sk-estimator:hover label.sk-toggleable__label-arrow:before {color: black;}#sk-container-id-1 div.sk-toggleable__content {max-height: 0;max-width: 0;overflow: hidden;text-align: left;background-color: #f0f8ff;}#sk-container-id-1 div.sk-toggleable__content pre {margin: 0.2em;color: black;border-radius: 0.25em;background-color: #f0f8ff;}#sk-container-id-1 input.sk-toggleable__control:checked~div.sk-toggleable__content {max-height: 200px;max-width: 100%;overflow: auto;}#sk-container-id-1 input.sk-toggleable__control:checked~label.sk-toggleable__label-arrow:before {content: \"▾\";}#sk-container-id-1 div.sk-estimator input.sk-toggleable__control:checked~label.sk-toggleable__label {background-color: #d4ebff;}#sk-container-id-1 div.sk-label input.sk-toggleable__control:checked~label.sk-toggleable__label {background-color: #d4ebff;}#sk-container-id-1 input.sk-hidden--visually {border: 0;clip: rect(1px 1px 1px 1px);clip: rect(1px, 1px, 1px, 1px);height: 1px;margin: -1px;overflow: hidden;padding: 0;position: absolute;width: 1px;}#sk-container-id-1 div.sk-estimator {font-family: monospace;background-color: #f0f8ff;border: 1px dotted black;border-radius: 0.25em;box-sizing: border-box;margin-bottom: 0.5em;}#sk-container-id-1 div.sk-estimator:hover {background-color: #d4ebff;}#sk-container-id-1 div.sk-parallel-item::after {content: \"\";width: 100%;border-bottom: 1px solid gray;flex-grow: 1;}#sk-container-id-1 div.sk-label:hover label.sk-toggleable__label {background-color: #d4ebff;}#sk-container-id-1 div.sk-serial::before {content: \"\";position: absolute;border-left: 1px solid gray;box-sizing: border-box;top: 0;bottom: 0;left: 50%;z-index: 0;}#sk-container-id-1 div.sk-serial {display: flex;flex-direction: column;align-items: center;background-color: white;padding-right: 0.2em;padding-left: 0.2em;position: relative;}#sk-container-id-1 div.sk-item {position: relative;z-index: 1;}#sk-container-id-1 div.sk-parallel {display: flex;align-items: stretch;justify-content: center;background-color: white;position: relative;}#sk-container-id-1 div.sk-item::before, #sk-container-id-1 div.sk-parallel-item::before {content: \"\";position: absolute;border-left: 1px solid gray;box-sizing: border-box;top: 0;bottom: 0;left: 50%;z-index: -1;}#sk-container-id-1 div.sk-parallel-item {display: flex;flex-direction: column;z-index: 1;position: relative;background-color: white;}#sk-container-id-1 div.sk-parallel-item:first-child::after {align-self: flex-end;width: 50%;}#sk-container-id-1 div.sk-parallel-item:last-child::after {align-self: flex-start;width: 50%;}#sk-container-id-1 div.sk-parallel-item:only-child::after {width: 0;}#sk-container-id-1 div.sk-dashed-wrapped {border: 1px dashed gray;margin: 0 0.4em 0.5em 0.4em;box-sizing: border-box;padding-bottom: 0.4em;background-color: white;}#sk-container-id-1 div.sk-label label {font-family: monospace;font-weight: bold;display: inline-block;line-height: 1.2em;}#sk-container-id-1 div.sk-label-container {text-align: center;}#sk-container-id-1 div.sk-container {/* jupyter's `normalize.less` sets `[hidden] { display: none; }` but bootstrap.min.css set `[hidden] { display: none !important; }` so we also need the `!important` here to be able to override the default hidden behavior on the sphinx rendered scikit-learn.org. See: https://github.com/scikit-learn/scikit-learn/issues/21755 */display: inline-block !important;position: relative;}#sk-container-id-1 div.sk-text-repr-fallback {display: none;}</style><div id=\"sk-container-id-1\" class=\"sk-top-container\"><div class=\"sk-text-repr-fallback\"><pre>Perceptron(random_state=42)</pre><b>In a Jupyter environment, please rerun this cell to show the HTML representation or trust the notebook. <br />On GitHub, the HTML representation is unable to render, please try loading this page with nbviewer.org.</b></div><div class=\"sk-container\" hidden><div class=\"sk-item\"><div class=\"sk-estimator sk-toggleable\"><input class=\"sk-toggleable__control sk-hidden--visually\" id=\"sk-estimator-id-1\" type=\"checkbox\" checked><label for=\"sk-estimator-id-1\" class=\"sk-toggleable__label sk-toggleable__label-arrow\">Perceptron</label><div class=\"sk-toggleable__content\"><pre>Perceptron(random_state=42)</pre></div></div></div></div></div>"
      ],
      "text/plain": [
       "Perceptron(random_state=42)"
      ]
     },
     "execution_count": 3,
     "metadata": {},
     "output_type": "execute_result"
    }
   ],
   "source": [
    "# Builds and fits the model\n",
    "\n",
    "perceptron_clf = Perceptron(random_state=42)\n",
    "perceptron_clf.fit(X, y)"
   ]
  },
  {
   "cell_type": "code",
   "execution_count": 4,
   "id": "8d634536-3506-4fd7-a55c-480cb234efd9",
   "metadata": {
    "tags": []
   },
   "outputs": [
    {
     "name": "stdout",
     "output_type": "stream",
     "text": [
      "[ True False]\n"
     ]
    }
   ],
   "source": [
    "# Performs predictions for two instances\n",
    "\n",
    "X_new = [[2, 0.5], [3, 1]]\n",
    "predictions = perceptron_clf.predict(X_new) # predicts True and False for these 2 flowers\n",
    "\n",
    "print(predictions)"
   ]
  },
  {
   "cell_type": "markdown",
   "id": "ef30bd5b-7e8d-4797-ab0d-791a3b79d59f",
   "metadata": {
    "jp-MarkdownHeadingCollapsed": true,
    "tags": []
   },
   "source": [
    "## The Multilayer Perceptron and Backpropagation"
   ]
  },
  {
   "cell_type": "markdown",
   "id": "9e11b2ba-e05c-4a01-963f-45d671753eed",
   "metadata": {},
   "source": [
    "### Regression MLPs"
   ]
  },
  {
   "cell_type": "code",
   "execution_count": 6,
   "id": "9aa73e25-1aed-435c-be95-c914392bec69",
   "metadata": {
    "tags": []
   },
   "outputs": [],
   "source": [
    "# Loads the dataset\n",
    "housing = fetch_california_housing()\n",
    "\n",
    "# Prepares training and testing dataset\n",
    "X_train_full, X_test, y_train_full, y_test = train_test_split(\n",
    "    housing.data, housing.target, random_state=42)\n",
    "\n",
    "# Takes out validation dataset from training dataset\n",
    "X_train, X_val, y_train, y_val = train_test_split(\n",
    "    X_train_full, y_train_full, random_state=42)"
   ]
  },
  {
   "cell_type": "code",
   "execution_count": 7,
   "id": "547440f0-770a-4a16-8b8d-cf6aa0cb37ef",
   "metadata": {
    "tags": []
   },
   "outputs": [
    {
     "name": "stdout",
     "output_type": "stream",
     "text": [
      "0.5211279195574301\n"
     ]
    }
   ],
   "source": [
    "# Creates the model and pipeline\n",
    "mlp_reg = MLPRegressor(hidden_layer_sizes=[50, 50, 50], random_state=42)\n",
    "pipeline = make_pipeline(StandardScaler(), mlp_reg)\n",
    "\n",
    "# Fits the model\n",
    "pipeline.fit(X_train, y_train)\n",
    "\n",
    "# Performs predictions on test dataset\n",
    "predictions = pipeline.predict(X_test)\n",
    "\n",
    "# Measure model performance on test dataset\n",
    "rmse = mean_squared_error(y_test, predictions, squared=False)\n",
    "print(rmse)"
   ]
  },
  {
   "cell_type": "markdown",
   "id": "8e039246-901d-431d-ae31-0f9df4e90fb4",
   "metadata": {},
   "source": [
    "### Classification MLPs"
   ]
  },
  {
   "cell_type": "code",
   "execution_count": 9,
   "id": "6ac1968a-883f-4b8e-99da-fc4dd9717848",
   "metadata": {
    "tags": []
   },
   "outputs": [],
   "source": [
    "# Prepares training and testing dataset\n",
    "X_train_full, X_test, y_train_full, y_test = train_test_split(\n",
    "    iris.data, iris.target, test_size=0.1, random_state=42)\n",
    "\n",
    "# Takes out validation dataset from training dataset\n",
    "X_train, X_val, y_train, y_val = train_test_split(\n",
    "    X_train_full, y_train_full, test_size=0.1, random_state=42)"
   ]
  },
  {
   "cell_type": "code",
   "execution_count": 10,
   "id": "c65210f2-3949-44cd-bc9e-3add4a94ea26",
   "metadata": {
    "tags": []
   },
   "outputs": [
    {
     "name": "stdout",
     "output_type": "stream",
     "text": [
      "1.0\n"
     ]
    }
   ],
   "source": [
    "# Creates the model and pipeline\n",
    "mlp_clf = MLPClassifier(hidden_layer_sizes=[5], max_iter=10000, random_state=42)\n",
    "pipeline = make_pipeline(StandardScaler(), mlp_clf)\n",
    "\n",
    "# Fits the model\n",
    "pipeline.fit(X_train, y_train)\n",
    "\n",
    "# Measure model performance on test dataset\n",
    "accuracy = pipeline.score(X_test, y_test)\n",
    "print(accuracy)"
   ]
  },
  {
   "cell_type": "markdown",
   "id": "16ea3707-faa1-4b57-a8e6-248d722898aa",
   "metadata": {},
   "source": [
    "## Implementing MLPs with Keras"
   ]
  },
  {
   "cell_type": "markdown",
   "id": "1110e5af-0877-4e03-a787-192f7d939409",
   "metadata": {},
   "source": [
    "### Building an Image Classifier Using the Sequential API"
   ]
  },
  {
   "cell_type": "markdown",
   "id": "3b7cdbf3-8f4a-412a-9b1d-9a00bf0bd004",
   "metadata": {},
   "source": [
    "#### Using Keras to load the dataset"
   ]
  },
  {
   "cell_type": "markdown",
   "id": "bf264711-77cd-48fe-965a-40179b0b9120",
   "metadata": {},
   "source": [
    "Let's start by loading the fashion MNIST dataset. The dataset is already split between a training set (60,000 images) and a test set (10,000 images), but it can be useful to split the training set further to have a validation set. 55,000 images be used for training, and 5,000 for validation."
   ]
  },
  {
   "cell_type": "code",
   "execution_count": null,
   "id": "e33de27d-c2e6-4e92-b5d2-b37a5be4bcc2",
   "metadata": {},
   "outputs": [],
   "source": [
    "# Loads the dataset\n",
    "fashion_mnist = tf.keras.datasets.fashion_mnist.load_data()"
   ]
  },
  {
   "cell_type": "code",
   "execution_count": null,
   "id": "51f122de-6146-4a9b-b0b9-6ebdab3ee482",
   "metadata": {
    "scrolled": true
   },
   "outputs": [],
   "source": [
    "# Extracts training and testing dataset\n",
    "(X_train_full, y_train_full), (X_test, y_test) = fashion_mnist\n",
    "\n",
    "# Takes out validation dataset from training dataset\n",
    "X_train, X_val, y_train, y_val = train_test_split(\n",
    "    X_train_full, y_train_full, test_size=5000, random_state=42, stratify=y_train_full)"
   ]
  },
  {
   "cell_type": "markdown",
   "id": "8e65a643-d086-4e3b-b573-a78891cdc823",
   "metadata": {},
   "source": [
    "#### Exploring the dataset"
   ]
  },
  {
   "cell_type": "code",
   "execution_count": 15,
   "id": "da83e20f-f6f6-4723-a33a-a6c586c23d88",
   "metadata": {},
   "outputs": [
    {
     "name": "stdout",
     "output_type": "stream",
     "text": [
      "(55000, 28, 28)\n"
     ]
    }
   ],
   "source": [
    "# Checks the training set size\n",
    "print(X_train.shape)"
   ]
  },
  {
   "cell_type": "markdown",
   "id": "4fa82cc2-f406-4a28-95b2-d8c772554380",
   "metadata": {},
   "source": [
    "Training set contains 55,000 grayscale images, each 28x28 pixels."
   ]
  },
  {
   "cell_type": "code",
   "execution_count": 16,
   "id": "88b5ebc9-141c-47f3-829a-ce2d7d506adc",
   "metadata": {},
   "outputs": [
    {
     "name": "stdout",
     "output_type": "stream",
     "text": [
      "uint8\n"
     ]
    }
   ],
   "source": [
    "# Checks each pixel intensity\n",
    "print(X_train.dtype)"
   ]
  },
  {
   "cell_type": "markdown",
   "id": "c8593696-6ec1-4bdf-a2e7-9be601ad3cfe",
   "metadata": {},
   "source": [
    "Each pixel is represented as a byte (0 to 255):"
   ]
  },
  {
   "cell_type": "code",
   "execution_count": 17,
   "id": "67f0fa09-fe5f-4a74-ab40-173a305143f0",
   "metadata": {},
   "outputs": [],
   "source": [
    "# Scales the training, validation and testing data\n",
    "X_train, X_val, X_test = X_train/255., X_val/255., X_test/255."
   ]
  },
  {
   "cell_type": "code",
   "execution_count": 18,
   "id": "d8f7d2ef-fa9b-41b4-b882-04caab65cae5",
   "metadata": {},
   "outputs": [
    {
     "data": {
      "text/plain": [
       "array([9, 2, 1, ..., 8, 1, 5], dtype=uint8)"
      ]
     },
     "execution_count": 18,
     "metadata": {},
     "output_type": "execute_result"
    }
   ],
   "source": [
    "# Prints the category indexes\n",
    "y_test"
   ]
  },
  {
   "cell_type": "code",
   "execution_count": 19,
   "id": "8457a72c-6628-4388-8bcc-462d04c3a205",
   "metadata": {},
   "outputs": [],
   "source": [
    "# Sets the categories against their indexes\n",
    "categories = [\"T-shirt/top\", \"Trouser\", \"Pullover\", \"Dress\", \"Coat\",\n",
    "              \"Sandal\", \"Shirt\", \"Sneaker\", \"Bag\", \"Ankle boot\"]"
   ]
  },
  {
   "cell_type": "code",
   "execution_count": 20,
   "id": "3c23cfbd-cf37-4071-895f-89b1857f224c",
   "metadata": {},
   "outputs": [
    {
     "data": {
      "image/png": "[encoded data removed]",
      "text/plain": [
       "<Figure size 640x480 with 1 Axes>"
      ]
     },
     "metadata": {},
     "output_type": "display_data"
    },
    {
     "data": {
      "text/plain": [
       "'T-shirt/top'"
      ]
     },
     "execution_count": 20,
     "metadata": {},
     "output_type": "execute_result"
    }
   ],
   "source": [
    "# Now, shows the image of the fashion category from the first training instance\n",
    "\n",
    "plt.imshow(X_train[0], cmap=\"binary\")\n",
    "plt.axis('off')\n",
    "plt.show()\n",
    "\n",
    "categories[y_train[0]]"
   ]
  },
  {
   "cell_type": "code",
   "execution_count": 21,
   "id": "02eebd82-b4a9-49ee-aaf1-a89282cb8812",
   "metadata": {},
   "outputs": [
    {
     "data": {
      "image/png": "[encoded data removed]",
      "text/plain": [
       "<Figure size 1000x400 with 40 Axes>"
      ]
     },
     "metadata": {},
     "output_type": "display_data"
    }
   ],
   "source": [
    "# Prints few of the fasion categories from the training data set\n",
    "n_rows = 4\n",
    "n_cols = 10\n",
    "#plt.figure(figsize=(n_cols * 1.2, n_rows * 1.2))\n",
    "plt.figure(figsize=(n_cols, n_rows))\n",
    "for row in range(n_rows):\n",
    "    for col in range(n_cols):\n",
    "        index = n_cols * row + col\n",
    "        plt.subplot(n_rows, n_cols, index + 1)\n",
    "        plt.imshow(X_train[index], cmap=\"binary\", interpolation=\"nearest\")\n",
    "        plt.axis('off')\n",
    "        plt.title(categories[y_train[index]])\n",
    "plt.subplots_adjust(wspace=0.2, hspace=0.5)\n",
    "plt.show()"
   ]
  },
  {
   "cell_type": "markdown",
   "id": "ba22d8e3-e34a-4955-94b0-94374cd06e79",
   "metadata": {},
   "source": [
    "#### Creating the model using the Sequential API"
   ]
  },
  {
   "cell_type": "code",
   "execution_count": 22,
   "id": "ef1b7d6d-fff5-4af8-b5ba-6ef001bc5907",
   "metadata": {},
   "outputs": [
    {
     "name": "stderr",
     "output_type": "stream",
     "text": [
      "2024-02-12 00:11:41.636760: I tensorflow/core/common_runtime/process_util.cc:146] Creating new thread pool with default inter op setting: 2. Tune using inter_op_parallelism_threads for best performance.\n"
     ]
    }
   ],
   "source": [
    "# Ensures the random weights of the hidden layers and the output layer will be\n",
    "# the same every time the notebook is run\n",
    "tf.random.set_seed(42)\n",
    "\n",
    "# Creates a Sequential model for neural networks composed of a single\n",
    "# stack of layers connected sequentially. This is called the sequential API.\n",
    "model = tf.keras.Sequential()\n",
    "\n",
    "# First layer (an Input layer) gets created and added into the model.\n",
    "model.add(tf.keras.layers.Input(shape=[28, 28]))\n",
    "\n",
    "# A flatten layer converts each input image into a 1D array 784 elements from  # 28 x 28 matrix.\n",
    "model.add(tf.keras.layers.Flatten())\n",
    "\n",
    "# A Dense hidden layer with 300 neurons with ReLU activation function gets added. \n",
    "# Each Dense layer manages its own weight matrix, containing all the connection weights between\n",
    "# the neurons and their inputs. It also manages a vector of bias terms (one per neuron).\n",
    "model.add(tf.keras.layers.Dense(300, activation=\"relu\"))\n",
    "\n",
    "# A second Dense hidden layer with 100 neurons with ReLU activation function also gets added.\n",
    "model.add(tf.keras.layers.Dense(100, activation=\"relu\"))\n",
    "\n",
    "# A Dense output layer with 10 neurons (one per class) with softmax activation \n",
    "# function gets added because the classes are exclusive.\n",
    "model.add(tf.keras.layers.Dense(10, activation=\"softmax\"))"
   ]
  },
  {
   "cell_type": "code",
   "execution_count": 23,
   "id": "975d9a10-1a17-4162-a4a9-1f3ef4dc3803",
   "metadata": {},
   "outputs": [
    {
     "name": "stdout",
     "output_type": "stream",
     "text": [
      "Model: \"sequential\"\n",
      "_________________________________________________________________\n",
      " Layer (type)                Output Shape              Param #   \n",
      "=================================================================\n",
      " flatten (Flatten)           (None, 784)               0         \n",
      "                                                                 \n",
      " dense (Dense)               (None, 300)               235500    \n",
      "                                                                 \n",
      " dense_1 (Dense)             (None, 100)               30100     \n",
      "                                                                 \n",
      " dense_2 (Dense)             (None, 10)                1010      \n",
      "                                                                 \n",
      "=================================================================\n",
      "Total params: 266,610\n",
      "Trainable params: 266,610\n",
      "Non-trainable params: 0\n",
      "_________________________________________________________________\n"
     ]
    }
   ],
   "source": [
    "# Shows the model summary\n",
    "model.summary()"
   ]
  },
  {
   "cell_type": "code",
   "execution_count": 24,
   "id": "b9fe46e0-d81c-4f80-8099-f2f40ce6805b",
   "metadata": {},
   "outputs": [
    {
     "data": {
      "image/png": "[encoded data removed]",
      "text/plain": [
       "<IPython.core.display.Image object>"
      ]
     },
     "execution_count": 24,
     "metadata": {},
     "output_type": "execute_result"
    }
   ],
   "source": [
    "# Visualizes the model architecture\n",
    "# NOTE: This visualization has dependency on package PyPlot and GraphViz\n",
    "tf.keras.utils.plot_model(model, show_shapes=True)"
   ]
  },
  {
   "cell_type": "code",
   "execution_count": 25,
   "id": "be0b2ce6-2fb2-4687-9e18-52d7321dad00",
   "metadata": {},
   "outputs": [],
   "source": [
    "# Compiles the model\n",
    "model.compile(loss=\"sparse_categorical_crossentropy\", optimizer=\"sgd\", metrics=[\"accuracy\"])"
   ]
  },
  {
   "cell_type": "markdown",
   "id": "166572ae-e571-4144-ae36-467e2d36c204",
   "metadata": {},
   "source": [
    "#### Training and Evaluating the model"
   ]
  },
  {
   "cell_type": "code",
   "execution_count": 26,
   "id": "929e92c0-ebfa-40a9-96a6-9f07bca84602",
   "metadata": {},
   "outputs": [
    {
     "name": "stdout",
     "output_type": "stream",
     "text": [
      "Epoch 1/30\n",
      "1719/1719 [==============================] - 20s 11ms/step - loss: 0.7130 - accuracy: 0.7638 - val_loss: 0.4948 - val_accuracy: 0.8262\n",
      "Epoch 2/30\n",
      "1719/1719 [==============================] - 25s 14ms/step - loss: 0.4878 - accuracy: 0.8303 - val_loss: 0.4253 - val_accuracy: 0.8556\n",
      "Epoch 3/30\n",
      "1719/1719 [==============================] - 18s 11ms/step - loss: 0.4465 - accuracy: 0.8420 - val_loss: 0.4004 - val_accuracy: 0.8646\n",
      "Epoch 4/30\n",
      "1719/1719 [==============================] - 18s 11ms/step - loss: 0.4176 - accuracy: 0.8536 - val_loss: 0.3824 - val_accuracy: 0.8692\n",
      "Epoch 5/30\n",
      "1719/1719 [==============================] - 19s 11ms/step - loss: 0.3986 - accuracy: 0.8607 - val_loss: 0.3824 - val_accuracy: 0.8664\n",
      "Epoch 6/30\n",
      "1719/1719 [==============================] - 17s 10ms/step - loss: 0.3825 - accuracy: 0.8645 - val_loss: 0.3586 - val_accuracy: 0.8748\n",
      "Epoch 7/30\n",
      "1719/1719 [==============================] - 19s 11ms/step - loss: 0.3691 - accuracy: 0.8686 - val_loss: 0.3417 - val_accuracy: 0.8784\n",
      "Epoch 8/30\n",
      "1719/1719 [==============================] - 18s 10ms/step - loss: 0.3575 - accuracy: 0.8726 - val_loss: 0.3372 - val_accuracy: 0.8820\n",
      "Epoch 9/30\n",
      "1719/1719 [==============================] - 18s 10ms/step - loss: 0.3460 - accuracy: 0.8771 - val_loss: 0.3293 - val_accuracy: 0.8902\n",
      "Epoch 10/30\n",
      "1719/1719 [==============================] - 19s 11ms/step - loss: 0.3377 - accuracy: 0.8780 - val_loss: 0.3257 - val_accuracy: 0.8858\n",
      "Epoch 11/30\n",
      "1719/1719 [==============================] - 16s 9ms/step - loss: 0.3283 - accuracy: 0.8827 - val_loss: 0.3216 - val_accuracy: 0.8868\n",
      "Epoch 12/30\n",
      "1719/1719 [==============================] - 17s 10ms/step - loss: 0.3197 - accuracy: 0.8856 - val_loss: 0.3255 - val_accuracy: 0.8846\n",
      "Epoch 13/30\n",
      "1719/1719 [==============================] - 19s 11ms/step - loss: 0.3120 - accuracy: 0.8878 - val_loss: 0.3139 - val_accuracy: 0.8898\n",
      "Epoch 14/30\n",
      "1719/1719 [==============================] - 23s 13ms/step - loss: 0.3056 - accuracy: 0.8910 - val_loss: 0.3013 - val_accuracy: 0.8910\n",
      "Epoch 15/30\n",
      "1719/1719 [==============================] - 15s 9ms/step - loss: 0.2986 - accuracy: 0.8914 - val_loss: 0.3079 - val_accuracy: 0.8898\n",
      "Epoch 16/30\n",
      "1719/1719 [==============================] - 19s 11ms/step - loss: 0.2920 - accuracy: 0.8942 - val_loss: 0.2974 - val_accuracy: 0.8942\n",
      "Epoch 17/30\n",
      "1719/1719 [==============================] - 17s 10ms/step - loss: 0.2860 - accuracy: 0.8964 - val_loss: 0.2940 - val_accuracy: 0.8946\n",
      "Epoch 18/30\n",
      "1719/1719 [==============================] - 18s 11ms/step - loss: 0.2807 - accuracy: 0.8982 - val_loss: 0.2982 - val_accuracy: 0.8936\n",
      "Epoch 19/30\n",
      "1719/1719 [==============================] - 22s 13ms/step - loss: 0.2737 - accuracy: 0.9008 - val_loss: 0.3046 - val_accuracy: 0.8922\n",
      "Epoch 20/30\n",
      "1719/1719 [==============================] - 21s 12ms/step - loss: 0.2690 - accuracy: 0.9029 - val_loss: 0.2841 - val_accuracy: 0.8990\n",
      "Epoch 21/30\n",
      "1719/1719 [==============================] - 19s 11ms/step - loss: 0.2641 - accuracy: 0.9047 - val_loss: 0.3037 - val_accuracy: 0.8904\n",
      "Epoch 22/30\n",
      "1719/1719 [==============================] - 18s 11ms/step - loss: 0.2592 - accuracy: 0.9062 - val_loss: 0.3022 - val_accuracy: 0.8934\n",
      "Epoch 23/30\n",
      "1719/1719 [==============================] - 19s 11ms/step - loss: 0.2545 - accuracy: 0.9092 - val_loss: 0.2895 - val_accuracy: 0.8960\n",
      "Epoch 24/30\n",
      "1719/1719 [==============================] - 16s 9ms/step - loss: 0.2503 - accuracy: 0.9087 - val_loss: 0.3109 - val_accuracy: 0.8888\n",
      "Epoch 25/30\n",
      "1719/1719 [==============================] - 22s 13ms/step - loss: 0.2454 - accuracy: 0.9113 - val_loss: 0.2807 - val_accuracy: 0.9018\n",
      "Epoch 26/30\n",
      "1719/1719 [==============================] - 17s 10ms/step - loss: 0.2425 - accuracy: 0.9122 - val_loss: 0.2782 - val_accuracy: 0.8990\n",
      "Epoch 27/30\n",
      "1719/1719 [==============================] - 22s 13ms/step - loss: 0.2373 - accuracy: 0.9146 - val_loss: 0.2773 - val_accuracy: 0.9012\n",
      "Epoch 28/30\n",
      "1719/1719 [==============================] - 24s 14ms/step - loss: 0.2331 - accuracy: 0.9162 - val_loss: 0.3009 - val_accuracy: 0.8880\n",
      "Epoch 29/30\n",
      "1719/1719 [==============================] - 16s 9ms/step - loss: 0.2291 - accuracy: 0.9165 - val_loss: 0.3152 - val_accuracy: 0.8880\n",
      "Epoch 30/30\n",
      "1719/1719 [==============================] - 18s 10ms/step - loss: 0.2252 - accuracy: 0.9179 - val_loss: 0.2986 - val_accuracy: 0.8926\n"
     ]
    }
   ],
   "source": [
    "# Fits the model\n",
    "history = model.fit(X_train, y_train, epochs=30, validation_data=(X_val, y_val))"
   ]
  },
  {
   "cell_type": "code",
   "execution_count": 27,
   "id": "4411f336-3cbd-46e4-9b0d-9ac159b2af4b",
   "metadata": {},
   "outputs": [
    {
     "data": {
      "image/png": "[encoded data removed]",
      "text/plain": [
       "<Figure size 800x500 with 1 Axes>"
      ]
     },
     "metadata": {},
     "output_type": "display_data"
    }
   ],
   "source": [
    "# Visualizing the learning curves\n",
    "\n",
    "pd.DataFrame(history.history).plot(\n",
    "    figsize=(8, 5), xlim=[0, 29], ylim=[0, 1], grid=True, xlabel=\"Epoch\",\n",
    "    style=[\"r--\", \"r--.\", \"b-\", \"b-*\"])\n",
    "plt.show()"
   ]
  },
  {
   "cell_type": "code",
   "execution_count": 28,
   "id": "8389f802-2c4a-435c-aa70-c7fbb24ef809",
   "metadata": {},
   "outputs": [
    {
     "name": "stdout",
     "output_type": "stream",
     "text": [
      "313/313 [==============================] - 2s 8ms/step - loss: 0.3526 - accuracy: 0.8744\n"
     ]
    },
    {
     "data": {
      "text/plain": [
       "[0.35259848833084106, 0.8744000196456909]"
      ]
     },
     "execution_count": 28,
     "metadata": {},
     "output_type": "execute_result"
    }
   ],
   "source": [
    "# Evaluating the model\n",
    "model.evaluate(X_test, y_test)"
   ]
  },
  {
   "cell_type": "markdown",
   "id": "5533db85-d8f6-4a10-ae08-e327af084d3a",
   "metadata": {},
   "source": [
    "#### Using the model to make predictions"
   ]
  },
  {
   "cell_type": "code",
   "execution_count": 29,
   "id": "206b35ca-d2d2-4a24-8df1-3afa96aa0286",
   "metadata": {},
   "outputs": [
    {
     "name": "stdout",
     "output_type": "stream",
     "text": [
      "1/1 [==============================] - 0s 124ms/step\n",
      "[[0.   0.   0.   0.   0.   0.01 0.   0.01 0.   0.98]\n",
      " [0.   0.   0.99 0.   0.01 0.   0.   0.   0.   0.  ]\n",
      " [0.   1.   0.   0.   0.   0.   0.   0.   0.   0.  ]]\n"
     ]
    }
   ],
   "source": [
    "# Takes first three instance from test set to make predictions\n",
    "\n",
    "X_new = X_test[:3]\n",
    "y_proba = model.predict(X_new)  # Gets the probability distribution for prediction\n",
    "print(y_proba.round(2))"
   ]
  },
  {
   "cell_type": "code",
   "execution_count": 30,
   "id": "0e46b5da-ab67-4bc4-b9f5-daa025c7074d",
   "metadata": {},
   "outputs": [
    {
     "data": {
      "text/plain": [
       "array([9, 2, 1])"
      ]
     },
     "execution_count": 30,
     "metadata": {},
     "output_type": "execute_result"
    }
   ],
   "source": [
    "# Extracts category index against the highest probability from the probability distribution\n",
    "y_pred = y_proba.argmax(axis=-1)\n",
    "y_pred"
   ]
  },
  {
   "cell_type": "code",
   "execution_count": 31,
   "id": "978aa58c-0902-4d3c-a073-593709fcdb97",
   "metadata": {},
   "outputs": [
    {
     "data": {
      "text/plain": [
       "array(['Ankle boot', 'Pullover', 'Trouser'], dtype='<U11')"
      ]
     },
     "execution_count": 31,
     "metadata": {},
     "output_type": "execute_result"
    }
   ],
   "source": [
    "# Shows the predicted categories\n",
    "\n",
    "np.array(categories)[y_pred]"
   ]
  },
  {
   "cell_type": "code",
   "execution_count": 32,
   "id": "252cb702-455c-42d3-be60-e975221ca63d",
   "metadata": {},
   "outputs": [
    {
     "data": {
      "image/png": "[encoded data removed]",
      "text/plain": [
       "<Figure size 640x480 with 3 Axes>"
      ]
     },
     "metadata": {},
     "output_type": "display_data"
    }
   ],
   "source": [
    "# Visualize the category images to ensure about correct predictions\n",
    "\n",
    "for index, image in enumerate(X_new):\n",
    "    plt.subplot(1, 3, index + 1)\n",
    "    plt.imshow(image, cmap=\"binary\", interpolation=\"nearest\")\n",
    "    plt.axis('off')\n",
    "    plt.title(categories[y_test[index]])\n",
    "plt.show()"
   ]
  },
  {
   "cell_type": "markdown",
   "id": "63018330-9fe4-46d0-9f53-2ea9c920dbcd",
   "metadata": {},
   "source": [
    "### Building a Regressor Using Sequential API"
   ]
  },
  {
   "cell_type": "markdown",
   "id": "33fb20b6-5b7a-4c54-877c-de629c0baef0",
   "metadata": {},
   "source": [
    "#### Loads the dataset"
   ]
  },
  {
   "cell_type": "code",
   "execution_count": 33,
   "id": "e4449d78-2f2f-49a6-86bc-b4af83dfde52",
   "metadata": {},
   "outputs": [],
   "source": [
    "housing = fetch_california_housing()"
   ]
  },
  {
   "cell_type": "code",
   "execution_count": 34,
   "id": "bc7e1fbf-8ef1-462e-8efd-72485081eb6c",
   "metadata": {},
   "outputs": [],
   "source": [
    "# Prepares training and testing dataset\n",
    "X_train_full, X_test, y_train_full, y_test = train_test_split(\n",
    "    housing.data, housing.target, random_state=42)\n",
    "\n",
    "# Takes out validation dataset from training dataset\n",
    "X_train, X_val, y_train, y_val = train_test_split(\n",
    "    X_train_full, y_train_full, random_state=42)"
   ]
  },
  {
   "cell_type": "code",
   "execution_count": 35,
   "id": "085f0d0d-6043-48d5-97c3-ab849d3dd8e5",
   "metadata": {},
   "outputs": [
    {
     "data": {
      "text/plain": [
       "(11610, 8)"
      ]
     },
     "execution_count": 35,
     "metadata": {},
     "output_type": "execute_result"
    }
   ],
   "source": [
    "# Checks the size of the training dataset\n",
    "X_train.shape"
   ]
  },
  {
   "cell_type": "markdown",
   "id": "b9fc4c3e-53ea-4010-bf00-719d1259d30f",
   "metadata": {},
   "source": [
    "#### Creating the model using the Sequential API"
   ]
  },
  {
   "cell_type": "code",
   "execution_count": 36,
   "id": "6baa4337-ae47-44db-9244-1c255f197e22",
   "metadata": {},
   "outputs": [],
   "source": [
    "# reset the name counters\n",
    "tf.random.set_seed(42)\n",
    "\n",
    "# Builds the model\n",
    "norm_layer = tf.keras.layers.Normalization(input_shape=X_train.shape[1:])\n",
    "model = tf.keras.Sequential([\n",
    "    norm_layer,\n",
    "    tf.keras.layers.Dense(50, activation=\"relu\"),\n",
    "    tf.keras.layers.Dense(50, activation=\"relu\"),\n",
    "    tf.keras.layers.Dense(50, activation=\"relu\"),\n",
    "    tf.keras.layers.Dense(1)\n",
    "])\n",
    "\n",
    "optimizer = tf.keras.optimizers.Adam(learning_rate=1e-3)\n",
    "model.compile(loss=\"mse\", optimizer=optimizer, metrics=[\"RootMeanSquaredError\"])"
   ]
  },
  {
   "cell_type": "markdown",
   "id": "5e31abf9-8f09-4281-8317-55e5b63b0edf",
   "metadata": {},
   "source": [
    "#### Training and Evaluating the model"
   ]
  },
  {
   "cell_type": "code",
   "execution_count": 37,
   "id": "18ac9a44-6ae1-45ad-8c28-46e9cdf00279",
   "metadata": {},
   "outputs": [
    {
     "name": "stdout",
     "output_type": "stream",
     "text": [
      "Epoch 1/20\n",
      "363/363 [==============================] - 2s 4ms/step - loss: 0.8272 - root_mean_squared_error: 0.9095 - val_loss: 0.3862 - val_root_mean_squared_error: 0.6214\n",
      "Epoch 2/20\n",
      "363/363 [==============================] - 1s 3ms/step - loss: 0.3749 - root_mean_squared_error: 0.6123 - val_loss: 2.0085 - val_root_mean_squared_error: 1.4172\n",
      "Epoch 3/20\n",
      "363/363 [==============================] - 1s 3ms/step - loss: 0.3632 - root_mean_squared_error: 0.6026 - val_loss: 0.4093 - val_root_mean_squared_error: 0.6398\n",
      "Epoch 4/20\n",
      "363/363 [==============================] - 1s 3ms/step - loss: 0.3371 - root_mean_squared_error: 0.5806 - val_loss: 0.7461 - val_root_mean_squared_error: 0.8638\n",
      "Epoch 5/20\n",
      "363/363 [==============================] - 1s 3ms/step - loss: 0.3268 - root_mean_squared_error: 0.5716 - val_loss: 7.4891 - val_root_mean_squared_error: 2.7366\n",
      "Epoch 6/20\n",
      "363/363 [==============================] - 1s 3ms/step - loss: 0.3729 - root_mean_squared_error: 0.6107 - val_loss: 0.6080 - val_root_mean_squared_error: 0.7797\n",
      "Epoch 7/20\n",
      "363/363 [==============================] - 1s 3ms/step - loss: 0.3158 - root_mean_squared_error: 0.5619 - val_loss: 1.1586 - val_root_mean_squared_error: 1.0764\n",
      "Epoch 8/20\n",
      "363/363 [==============================] - 2s 4ms/step - loss: 0.3114 - root_mean_squared_error: 0.5580 - val_loss: 2.1647 - val_root_mean_squared_error: 1.4713\n",
      "Epoch 9/20\n",
      "363/363 [==============================] - 1s 3ms/step - loss: 0.3127 - root_mean_squared_error: 0.5592 - val_loss: 2.2390 - val_root_mean_squared_error: 1.4963\n",
      "Epoch 10/20\n",
      "363/363 [==============================] - 1s 3ms/step - loss: 0.3178 - root_mean_squared_error: 0.5638 - val_loss: 0.4651 - val_root_mean_squared_error: 0.6819\n",
      "Epoch 11/20\n",
      "363/363 [==============================] - 1s 4ms/step - loss: 0.2922 - root_mean_squared_error: 0.5405 - val_loss: 0.4128 - val_root_mean_squared_error: 0.6425\n",
      "Epoch 12/20\n",
      "363/363 [==============================] - 1s 4ms/step - loss: 0.2991 - root_mean_squared_error: 0.5469 - val_loss: 0.3165 - val_root_mean_squared_error: 0.5626\n",
      "Epoch 13/20\n",
      "363/363 [==============================] - 1s 3ms/step - loss: 0.2865 - root_mean_squared_error: 0.5352 - val_loss: 0.4730 - val_root_mean_squared_error: 0.6877\n",
      "Epoch 14/20\n",
      "363/363 [==============================] - 1s 3ms/step - loss: 0.2851 - root_mean_squared_error: 0.5340 - val_loss: 0.3280 - val_root_mean_squared_error: 0.5727\n",
      "Epoch 15/20\n",
      "363/363 [==============================] - 1s 3ms/step - loss: 0.2844 - root_mean_squared_error: 0.5333 - val_loss: 0.8719 - val_root_mean_squared_error: 0.9337\n",
      "Epoch 16/20\n",
      "363/363 [==============================] - 1s 3ms/step - loss: 0.2835 - root_mean_squared_error: 0.5325 - val_loss: 0.3402 - val_root_mean_squared_error: 0.5833\n",
      "Epoch 17/20\n",
      "363/363 [==============================] - 1s 3ms/step - loss: 0.2819 - root_mean_squared_error: 0.5309 - val_loss: 0.9791 - val_root_mean_squared_error: 0.9895\n",
      "Epoch 18/20\n",
      "363/363 [==============================] - 1s 3ms/step - loss: 0.2791 - root_mean_squared_error: 0.5283 - val_loss: 0.2889 - val_root_mean_squared_error: 0.5375\n",
      "Epoch 19/20\n",
      "363/363 [==============================] - 1s 3ms/step - loss: 0.2736 - root_mean_squared_error: 0.5230 - val_loss: 0.3350 - val_root_mean_squared_error: 0.5788\n",
      "Epoch 20/20\n",
      "363/363 [==============================] - 1s 4ms/step - loss: 0.2741 - root_mean_squared_error: 0.5235 - val_loss: 0.2767 - val_root_mean_squared_error: 0.5260\n"
     ]
    }
   ],
   "source": [
    "# Learns feature means and standard deviations\n",
    "norm_layer.adapt(X_train)\n",
    "\n",
    "# Fits the model\n",
    "history = model.fit(X_train, y_train, epochs=20, validation_data=(X_val, y_val))"
   ]
  },
  {
   "cell_type": "code",
   "execution_count": 38,
   "id": "5dd6c222-db61-4f73-81a4-70346391784e",
   "metadata": {},
   "outputs": [
    {
     "name": "stdout",
     "output_type": "stream",
     "text": [
      "162/162 [==============================] - 1s 3ms/step - loss: 0.2872 - root_mean_squared_error: 0.5359\n",
      "0.5359127521514893\n"
     ]
    }
   ],
   "source": [
    "# Evaluates the model\n",
    "mse_test, rmse_test = model.evaluate(X_test, y_test)\n",
    "print(rmse_test)"
   ]
  },
  {
   "cell_type": "markdown",
   "id": "887ba44a-1570-4871-a046-0bfc248bd909",
   "metadata": {},
   "source": [
    "#### Using the model to make predictions"
   ]
  },
  {
   "cell_type": "code",
   "execution_count": 39,
   "id": "f6419b66-6a33-4bc9-88dc-27386b0b4220",
   "metadata": {},
   "outputs": [
    {
     "name": "stdout",
     "output_type": "stream",
     "text": [
      "1/1 [==============================] - 0s 72ms/step\n",
      "[[0.5803019]\n",
      " [1.1937593]\n",
      " [4.8521442]]\n"
     ]
    }
   ],
   "source": [
    "# Takes first three instance from test set to make predictions\n",
    "X_new = X_test[:3]\n",
    "y_pred = model.predict(X_new)\n",
    "print(y_pred)"
   ]
  },
  {
   "cell_type": "markdown",
   "id": "9a2cf734-de77-4a56-89d7-1578dd4814fa",
   "metadata": {},
   "source": [
    "### Building Complex Models using the Functional API"
   ]
  },
  {
   "cell_type": "markdown",
   "id": "73017890-9600-432d-9e6e-360942e0a6fb",
   "metadata": {},
   "source": [
    "#### Loads the dataset"
   ]
  },
  {
   "cell_type": "code",
   "execution_count": 3,
   "id": "d55bd6ed-946c-41b1-bda2-47e3f5c72f3e",
   "metadata": {},
   "outputs": [],
   "source": [
    "housing = fetch_california_housing()\n",
    "\n",
    "# Prepares training and testing dataset\n",
    "X_train_full, X_test, y_train_full, y_test = train_test_split(\n",
    "    housing.data, housing.target, random_state=42)\n",
    "\n",
    "# Takes out validation dataset from training dataset\n",
    "X_train, X_val, y_train, y_val = train_test_split(\n",
    "    X_train_full, y_train_full, random_state=42)"
   ]
  },
  {
   "cell_type": "markdown",
   "id": "da490c2c-c1cd-462e-bef1-517470f6097c",
   "metadata": {},
   "source": [
    "#### Creating the model using Functional API"
   ]
  },
  {
   "cell_type": "code",
   "execution_count": 2,
   "id": "ce3ae5de-0dbe-4817-aa5b-602f092fe77b",
   "metadata": {},
   "outputs": [],
   "source": [
    "# reset the name counters\n",
    "tf.keras.backend.clear_session()\n",
    "\n",
    "tf.random.set_seed(42)"
   ]
  },
  {
   "cell_type": "code",
   "execution_count": 4,
   "id": "4c1f61e1-25a7-4af3-99e2-15dffd0c117c",
   "metadata": {},
   "outputs": [],
   "source": [
    "# Builds the layers\n",
    "\n",
    "normalization_layer = tf.keras.layers.Normalization()\n",
    "hidden_layer1 = tf.keras.layers.Dense(30, activation=\"relu\")\n",
    "hidden_layer2 = tf.keras.layers.Dense(30, activation=\"relu\")\n",
    "concat_layer = tf.keras.layers.Concatenate()\n",
    "output_layer = tf.keras.layers.Dense(1)"
   ]
  },
  {
   "cell_type": "code",
   "execution_count": 5,
   "id": "00f5a7dd-32b6-40ec-9d50-c571c2722a0e",
   "metadata": {},
   "outputs": [
    {
     "name": "stderr",
     "output_type": "stream",
     "text": [
      "2024-02-12 11:56:59.937222: I tensorflow/core/common_runtime/process_util.cc:146] Creating new thread pool with default inter op setting: 2. Tune using inter_op_parallelism_threads for best performance.\n"
     ]
    }
   ],
   "source": [
    "# Organizes the layers\n",
    "\n",
    "input_ = tf.keras.layers.Input(shape=X_train.shape[1:])\n",
    "normalized = normalization_layer(input_)\n",
    "hidden1 = hidden_layer1(normalized)\n",
    "hidden2 = hidden_layer2(hidden1)\n",
    "concat = concat_layer([normalized, hidden2])\n",
    "output = output_layer(concat)\n",
    "\n",
    "model = tf.keras.Model(inputs=[input_], outputs=[output])"
   ]
  },
  {
   "cell_type": "code",
   "execution_count": 6,
   "id": "9dd4615a-bd0d-4eab-9f63-a008478f7bb7",
   "metadata": {},
   "outputs": [
    {
     "name": "stdout",
     "output_type": "stream",
     "text": [
      "Model: \"model\"\n",
      "__________________________________________________________________________________________________\n",
      " Layer (type)                   Output Shape         Param #     Connected to                     \n",
      "==================================================================================================\n",
      " input_1 (InputLayer)           [(None, 8)]          0           []                               \n",
      "                                                                                                  \n",
      " normalization (Normalization)  (None, 8)            17          ['input_1[0][0]']                \n",
      "                                                                                                  \n",
      " dense (Dense)                  (None, 30)           270         ['normalization[0][0]']          \n",
      "                                                                                                  \n",
      " dense_1 (Dense)                (None, 30)           930         ['dense[0][0]']                  \n",
      "                                                                                                  \n",
      " concatenate (Concatenate)      (None, 38)           0           ['normalization[0][0]',          \n",
      "                                                                  'dense_1[0][0]']                \n",
      "                                                                                                  \n",
      " dense_2 (Dense)                (None, 1)            39          ['concatenate[0][0]']            \n",
      "                                                                                                  \n",
      "==================================================================================================\n",
      "Total params: 1,256\n",
      "Trainable params: 1,239\n",
      "Non-trainable params: 17\n",
      "__________________________________________________________________________________________________\n"
     ]
    }
   ],
   "source": [
    "# Shows the model summary\n",
    "model.summary()"
   ]
  },
  {
   "cell_type": "markdown",
   "id": "765774e9-dc9c-4f6f-8eae-358e6445f718",
   "metadata": {},
   "source": [
    "#### Training and Evaluating the model"
   ]
  },
  {
   "cell_type": "code",
   "execution_count": 7,
   "id": "acf63f09-bd69-4d70-8509-bf8da2c7a2e9",
   "metadata": {},
   "outputs": [],
   "source": [
    "# Compiles the model\n",
    "optimizer = tf.keras.optimizers.Adam(learning_rate=1e-3)\n",
    "model.compile(loss=\"mse\", optimizer=optimizer, metrics=[\"RootMeanSquaredError\"])"
   ]
  },
  {
   "cell_type": "code",
   "execution_count": 8,
   "id": "8c16ffaa-ee77-4530-8870-c6b3c66e908b",
   "metadata": {},
   "outputs": [
    {
     "name": "stdout",
     "output_type": "stream",
     "text": [
      "Epoch 1/20\n",
      "363/363 [==============================] - 3s 6ms/step - loss: 1.5428 - root_mean_squared_error: 1.2421 - val_loss: 0.6306 - val_root_mean_squared_error: 0.7941\n",
      "Epoch 2/20\n",
      "363/363 [==============================] - 2s 4ms/step - loss: 0.4437 - root_mean_squared_error: 0.6661 - val_loss: 0.5398 - val_root_mean_squared_error: 0.7347\n",
      "Epoch 3/20\n",
      "363/363 [==============================] - 1s 3ms/step - loss: 0.3969 - root_mean_squared_error: 0.6300 - val_loss: 0.4009 - val_root_mean_squared_error: 0.6331\n",
      "Epoch 4/20\n",
      "363/363 [==============================] - 2s 4ms/step - loss: 0.3737 - root_mean_squared_error: 0.6113 - val_loss: 0.5996 - val_root_mean_squared_error: 0.7744\n",
      "Epoch 5/20\n",
      "363/363 [==============================] - 1s 4ms/step - loss: 0.3604 - root_mean_squared_error: 0.6003 - val_loss: 0.4062 - val_root_mean_squared_error: 0.6373\n",
      "Epoch 6/20\n",
      "363/363 [==============================] - 1s 4ms/step - loss: 0.3532 - root_mean_squared_error: 0.5943 - val_loss: 0.5757 - val_root_mean_squared_error: 0.7587\n",
      "Epoch 7/20\n",
      "363/363 [==============================] - 1s 4ms/step - loss: 0.3455 - root_mean_squared_error: 0.5878 - val_loss: 0.7767 - val_root_mean_squared_error: 0.8813\n",
      "Epoch 8/20\n",
      "363/363 [==============================] - 1s 4ms/step - loss: 0.3401 - root_mean_squared_error: 0.5832 - val_loss: 2.7267 - val_root_mean_squared_error: 1.6513\n",
      "Epoch 9/20\n",
      "363/363 [==============================] - 1s 4ms/step - loss: 0.3427 - root_mean_squared_error: 0.5854 - val_loss: 3.5821 - val_root_mean_squared_error: 1.8926\n",
      "Epoch 10/20\n",
      "363/363 [==============================] - 1s 4ms/step - loss: 0.3625 - root_mean_squared_error: 0.6021 - val_loss: 1.1883 - val_root_mean_squared_error: 1.0901\n",
      "Epoch 11/20\n",
      "363/363 [==============================] - 1s 4ms/step - loss: 0.3297 - root_mean_squared_error: 0.5742 - val_loss: 0.5498 - val_root_mean_squared_error: 0.7415\n",
      "Epoch 12/20\n",
      "363/363 [==============================] - 1s 3ms/step - loss: 0.3312 - root_mean_squared_error: 0.5755 - val_loss: 0.4991 - val_root_mean_squared_error: 0.7065\n",
      "Epoch 13/20\n",
      "363/363 [==============================] - 1s 3ms/step - loss: 0.3221 - root_mean_squared_error: 0.5675 - val_loss: 0.6734 - val_root_mean_squared_error: 0.8206\n",
      "Epoch 14/20\n",
      "363/363 [==============================] - 1s 3ms/step - loss: 0.3235 - root_mean_squared_error: 0.5688 - val_loss: 0.6422 - val_root_mean_squared_error: 0.8014\n",
      "Epoch 15/20\n",
      "363/363 [==============================] - 2s 4ms/step - loss: 0.3189 - root_mean_squared_error: 0.5647 - val_loss: 1.0898 - val_root_mean_squared_error: 1.0439\n",
      "Epoch 16/20\n",
      "363/363 [==============================] - 2s 4ms/step - loss: 0.3210 - root_mean_squared_error: 0.5665 - val_loss: 1.4080 - val_root_mean_squared_error: 1.1866\n",
      "Epoch 17/20\n",
      "363/363 [==============================] - 1s 3ms/step - loss: 0.3211 - root_mean_squared_error: 0.5666 - val_loss: 1.8161 - val_root_mean_squared_error: 1.3476\n",
      "Epoch 18/20\n",
      "363/363 [==============================] - 1s 3ms/step - loss: 0.3169 - root_mean_squared_error: 0.5629 - val_loss: 0.8982 - val_root_mean_squared_error: 0.9477\n",
      "Epoch 19/20\n",
      "363/363 [==============================] - 1s 3ms/step - loss: 0.3151 - root_mean_squared_error: 0.5614 - val_loss: 1.1115 - val_root_mean_squared_error: 1.0543\n",
      "Epoch 20/20\n",
      "363/363 [==============================] - 1s 3ms/step - loss: 0.3142 - root_mean_squared_error: 0.5606 - val_loss: 0.4837 - val_root_mean_squared_error: 0.6955\n"
     ]
    }
   ],
   "source": [
    "# Fits the model\n",
    "normalization_layer.adapt(X_train)\n",
    "history = model.fit(X_train, y_train, epochs=20, validation_data=(X_val, y_val))"
   ]
  },
  {
   "cell_type": "code",
   "execution_count": 9,
   "id": "1904f482-6153-4707-9b37-0e6b5cfd52a6",
   "metadata": {},
   "outputs": [
    {
     "name": "stdout",
     "output_type": "stream",
     "text": [
      "162/162 [==============================] - 0s 2ms/step - loss: 0.3113 - root_mean_squared_error: 0.5580\n",
      "[0.31133005023002625, 0.5579695701599121]\n"
     ]
    }
   ],
   "source": [
    "# Evaluates the model\n",
    "mse_test = model.evaluate(X_test, y_test)\n",
    "print(mse_test)"
   ]
  },
  {
   "cell_type": "code",
   "execution_count": 10,
   "id": "99a2bfea-1e3a-4025-a4d6-ac3be0f1f985",
   "metadata": {},
   "outputs": [
    {
     "name": "stdout",
     "output_type": "stream",
     "text": [
      "1/1 [==============================] - 0s 96ms/step\n",
      "[[0.4887748]\n",
      " [1.2239927]\n",
      " [4.5495086]]\n"
     ]
    }
   ],
   "source": [
    "# Takes first three instance from test set to make predictions\n",
    "X_new = X_test[:3]\n",
    "y_pred = model.predict(X_new)\n",
    "print(y_pred)"
   ]
  },
  {
   "cell_type": "markdown",
   "id": "ff71563d-17ab-4117-bb2c-608ecb6adc1c",
   "metadata": {},
   "source": [
    "#### Handling Multiple Outputs\n",
    "Sending different subsets of input features through the wide or deep paths.\n",
    "It sends 5 features (features 0 to 4) through wide path, and 6 features (features 2 to 7) through the deep path."
   ]
  },
  {
   "cell_type": "code",
   "execution_count": 11,
   "id": "804a5604-d9a7-4bf0-b4e6-727c36eeb65b",
   "metadata": {},
   "outputs": [],
   "source": [
    "# reset the name counters\n",
    "tf.keras.backend.clear_session()\n",
    "\n",
    "tf.random.set_seed(42)"
   ]
  },
  {
   "cell_type": "code",
   "execution_count": 12,
   "id": "93a34383-defc-4562-b6c8-48a3bf72a5a9",
   "metadata": {},
   "outputs": [],
   "source": [
    "# Builds the layers\n",
    "\n",
    "input_wide = tf.keras.layers.Input(shape=[5])  # features 0 to 4\n",
    "input_deep = tf.keras.layers.Input(shape=[6])  # features 2 to 7\n",
    "\n",
    "norm_layer_wide = tf.keras.layers.Normalization()\n",
    "norm_layer_deep = tf.keras.layers.Normalization()\n",
    "norm_wide = norm_layer_wide(input_wide)\n",
    "norm_deep = norm_layer_deep(input_deep)\n",
    "\n",
    "hidden1 = tf.keras.layers.Dense(30, activation=\"relu\")(norm_deep)\n",
    "hidden2 = tf.keras.layers.Dense(30, activation=\"relu\")(hidden1)\n",
    "\n",
    "concat = tf.keras.layers.concatenate([norm_wide, hidden2])\n",
    "\n",
    "output = tf.keras.layers.Dense(1)(concat)\n",
    "\n",
    "model = tf.keras.Model(inputs=[input_wide, input_deep], outputs=[output])"
   ]
  },
  {
   "cell_type": "code",
   "execution_count": 14,
   "id": "49d7bd9f-ef96-43df-8fb0-7b6c7f6ad250",
   "metadata": {},
   "outputs": [],
   "source": [
    "# Compiles the model\n",
    "optimizer = tf.keras.optimizers.Adam(learning_rate=1e-3)\n",
    "model.compile(loss=\"mse\", optimizer=optimizer, metrics=[\"RootMeanSquaredError\"])"
   ]
  },
  {
   "cell_type": "code",
   "execution_count": 15,
   "id": "41dfb3ec-f229-4bda-a5bb-464c27749328",
   "metadata": {},
   "outputs": [
    {
     "name": "stdout",
     "output_type": "stream",
     "text": [
      "Epoch 1/20\n",
      "363/363 [==============================] - 2s 4ms/step - loss: 1.5143 - root_mean_squared_error: 1.2306 - val_loss: 4.0228 - val_root_mean_squared_error: 2.0057\n",
      "Epoch 2/20\n",
      "363/363 [==============================] - 1s 3ms/step - loss: 0.4908 - root_mean_squared_error: 0.7006 - val_loss: 1.1207 - val_root_mean_squared_error: 1.0586\n",
      "Epoch 3/20\n",
      "363/363 [==============================] - 2s 4ms/step - loss: 0.4264 - root_mean_squared_error: 0.6530 - val_loss: 0.4734 - val_root_mean_squared_error: 0.6880\n",
      "Epoch 4/20\n",
      "363/363 [==============================] - 1s 4ms/step - loss: 0.4078 - root_mean_squared_error: 0.6386 - val_loss: 0.3755 - val_root_mean_squared_error: 0.6128\n",
      "Epoch 5/20\n",
      "363/363 [==============================] - 1s 3ms/step - loss: 0.3965 - root_mean_squared_error: 0.6297 - val_loss: 0.3766 - val_root_mean_squared_error: 0.6137\n",
      "Epoch 6/20\n",
      "363/363 [==============================] - 2s 4ms/step - loss: 0.3865 - root_mean_squared_error: 0.6217 - val_loss: 0.3669 - val_root_mean_squared_error: 0.6057\n",
      "Epoch 7/20\n",
      "363/363 [==============================] - 1s 4ms/step - loss: 0.3800 - root_mean_squared_error: 0.6164 - val_loss: 0.3482 - val_root_mean_squared_error: 0.5901\n",
      "Epoch 8/20\n",
      "363/363 [==============================] - 2s 4ms/step - loss: 0.3661 - root_mean_squared_error: 0.6051 - val_loss: 0.3615 - val_root_mean_squared_error: 0.6012\n",
      "Epoch 9/20\n",
      "363/363 [==============================] - 1s 3ms/step - loss: 0.3577 - root_mean_squared_error: 0.5981 - val_loss: 0.5829 - val_root_mean_squared_error: 0.7635\n",
      "Epoch 10/20\n",
      "363/363 [==============================] - 1s 3ms/step - loss: 0.3580 - root_mean_squared_error: 0.5983 - val_loss: 0.4379 - val_root_mean_squared_error: 0.6618\n",
      "Epoch 11/20\n",
      "363/363 [==============================] - 1s 3ms/step - loss: 0.3492 - root_mean_squared_error: 0.5910 - val_loss: 0.4360 - val_root_mean_squared_error: 0.6603\n",
      "Epoch 12/20\n",
      "363/363 [==============================] - 1s 4ms/step - loss: 0.3489 - root_mean_squared_error: 0.5907 - val_loss: 0.4155 - val_root_mean_squared_error: 0.6446\n",
      "Epoch 13/20\n",
      "363/363 [==============================] - 1s 4ms/step - loss: 0.3434 - root_mean_squared_error: 0.5860 - val_loss: 0.8283 - val_root_mean_squared_error: 0.9101\n",
      "Epoch 14/20\n",
      "363/363 [==============================] - 2s 4ms/step - loss: 0.3437 - root_mean_squared_error: 0.5863 - val_loss: 2.5122 - val_root_mean_squared_error: 1.5850\n",
      "Epoch 15/20\n",
      "363/363 [==============================] - 1s 4ms/step - loss: 0.3494 - root_mean_squared_error: 0.5911 - val_loss: 5.2102 - val_root_mean_squared_error: 2.2826\n",
      "Epoch 16/20\n",
      "363/363 [==============================] - 1s 3ms/step - loss: 0.3626 - root_mean_squared_error: 0.6022 - val_loss: 1.9767 - val_root_mean_squared_error: 1.4060\n",
      "Epoch 17/20\n",
      "363/363 [==============================] - 1s 3ms/step - loss: 0.3472 - root_mean_squared_error: 0.5893 - val_loss: 0.8420 - val_root_mean_squared_error: 0.9176\n",
      "Epoch 18/20\n",
      "363/363 [==============================] - 1s 4ms/step - loss: 0.3305 - root_mean_squared_error: 0.5749 - val_loss: 0.3204 - val_root_mean_squared_error: 0.5660\n",
      "Epoch 19/20\n",
      "363/363 [==============================] - 2s 4ms/step - loss: 0.3294 - root_mean_squared_error: 0.5739 - val_loss: 0.4017 - val_root_mean_squared_error: 0.6338\n",
      "Epoch 20/20\n",
      "363/363 [==============================] - 1s 4ms/step - loss: 0.3275 - root_mean_squared_error: 0.5723 - val_loss: 0.3115 - val_root_mean_squared_error: 0.5581\n"
     ]
    }
   ],
   "source": [
    "# Trains and evaluates the model\n",
    "\n",
    "X_train_wide, X_train_deep = X_train[:, :5], X_train[:, 2:]\n",
    "X_val_wide, X_val_deep = X_val[:, :5], X_val[:, 2:]\n",
    "X_test_wide, X_test_deep = X_test[:, :5], X_test[:, 2:]\n",
    "\n",
    "norm_layer_wide.adapt(X_train_wide)\n",
    "norm_layer_deep.adapt(X_train_deep)\n",
    "\n",
    "history = model.fit((X_train_wide, X_train_deep), y_train, epochs=20,\n",
    "                    validation_data=((X_val_wide, X_val_deep), y_val))"
   ]
  },
  {
   "cell_type": "code",
   "execution_count": 16,
   "id": "0258fa93-a475-49dd-ab0d-bd04449534f3",
   "metadata": {},
   "outputs": [
    {
     "name": "stdout",
     "output_type": "stream",
     "text": [
      "162/162 [==============================] - 1s 4ms/step - loss: 0.3280 - root_mean_squared_error: 0.5727\n",
      "[0.3280080258846283, 0.5727198719978333]\n"
     ]
    }
   ],
   "source": [
    "# Evauates the model\n",
    "\n",
    "X_new_wide, X_new_deep = X_test_wide[:3], X_test_deep[:3]\n",
    "mse_test = model.evaluate((X_test_wide, X_test_deep), y_test)\n",
    "print(mse_test)"
   ]
  },
  {
   "cell_type": "markdown",
   "id": "b5122c78-ca55-4cdb-b751-3231d23905d3",
   "metadata": {},
   "source": [
    "### Saving and Restoring the Model"
   ]
  },
  {
   "cell_type": "code",
   "execution_count": 17,
   "id": "41907e84-520c-4a23-bca8-6cec927efb5f",
   "metadata": {},
   "outputs": [
    {
     "name": "stderr",
     "output_type": "stream",
     "text": [
      "WARNING:absl:Found untraced functions such as _update_step_xla while saving (showing 1 of 1). These functions will not be directly callable after loading.\n"
     ]
    },
    {
     "name": "stdout",
     "output_type": "stream",
     "text": [
      "INFO:tensorflow:Assets written to: my_MLP_regression_model/assets\n"
     ]
    },
    {
     "name": "stderr",
     "output_type": "stream",
     "text": [
      "INFO:tensorflow:Assets written to: my_MLP_regression_model/assets\n"
     ]
    }
   ],
   "source": [
    "# Saves the model\n",
    "model.save(\"my_MLP_regression_model\", save_format=\"tf\")"
   ]
  },
  {
   "cell_type": "code",
   "execution_count": 20,
   "id": "ace510c7-7986-4873-966a-268ae9e5be1e",
   "metadata": {},
   "outputs": [],
   "source": [
    "# Loads the model back\n",
    "model = tf.keras.models.load_model(\"my_MLP_regression_model\")"
   ]
  },
  {
   "cell_type": "code",
   "execution_count": 27,
   "id": "0c4ddb2a-a023-4eb7-a31c-5d0aeca0190d",
   "metadata": {},
   "outputs": [
    {
     "name": "stdout",
     "output_type": "stream",
     "text": [
      "162/162 [==============================] - 0s 2ms/step\n"
     ]
    }
   ],
   "source": [
    "# Makes predictions after model was loaded\n",
    "y_pred = model.predict((X_test_wide, X_test_deep))"
   ]
  },
  {
   "cell_type": "markdown",
   "id": "a54cd97e-b89d-4f5c-a4e8-22a3f7c51499",
   "metadata": {},
   "source": [
    "### Using Callbacks"
   ]
  },
  {
   "cell_type": "code",
   "execution_count": 28,
   "id": "4fb60c73-590e-4520-8294-48e2c0eff148",
   "metadata": {},
   "outputs": [
    {
     "name": "stdout",
     "output_type": "stream",
     "text": [
      "Epoch 1/10\n",
      "363/363 [==============================] - 3s 6ms/step - loss: 0.3265 - root_mean_squared_error: 0.5714 - val_loss: 0.6619 - val_root_mean_squared_error: 0.8136\n",
      "Epoch 2/10\n",
      "363/363 [==============================] - 2s 5ms/step - loss: 0.3308 - root_mean_squared_error: 0.5752 - val_loss: 1.0362 - val_root_mean_squared_error: 1.0179\n",
      "Epoch 3/10\n",
      "363/363 [==============================] - 2s 5ms/step - loss: 0.3266 - root_mean_squared_error: 0.5715 - val_loss: 0.5679 - val_root_mean_squared_error: 0.7536\n",
      "Epoch 4/10\n",
      "363/363 [==============================] - 2s 5ms/step - loss: 0.3236 - root_mean_squared_error: 0.5689 - val_loss: 1.1729 - val_root_mean_squared_error: 1.0830\n",
      "Epoch 5/10\n",
      "363/363 [==============================] - 1s 3ms/step - loss: 0.3259 - root_mean_squared_error: 0.5709 - val_loss: 1.5420 - val_root_mean_squared_error: 1.2418\n",
      "Epoch 6/10\n",
      "363/363 [==============================] - 1s 3ms/step - loss: 0.3292 - root_mean_squared_error: 0.5737 - val_loss: 0.7782 - val_root_mean_squared_error: 0.8822\n",
      "Epoch 7/10\n",
      "363/363 [==============================] - 1s 3ms/step - loss: 0.3192 - root_mean_squared_error: 0.5650 - val_loss: 0.3223 - val_root_mean_squared_error: 0.5677\n",
      "Epoch 8/10\n",
      "363/363 [==============================] - 1s 3ms/step - loss: 0.3140 - root_mean_squared_error: 0.5604 - val_loss: 0.4384 - val_root_mean_squared_error: 0.6621\n",
      "Epoch 9/10\n",
      "363/363 [==============================] - 1s 3ms/step - loss: 0.3118 - root_mean_squared_error: 0.5584 - val_loss: 0.3032 - val_root_mean_squared_error: 0.5507\n",
      "Epoch 10/10\n",
      "363/363 [==============================] - 1s 3ms/step - loss: 0.3155 - root_mean_squared_error: 0.5617 - val_loss: 0.3912 - val_root_mean_squared_error: 0.6255\n"
     ]
    }
   ],
   "source": [
    "# Configures the checkpoint\n",
    "checkpoint_cb = tf.keras.callbacks.ModelCheckpoint(\"my_checkpoints\", save_weights_only=True)\n",
    "\n",
    "# Fits the model with checkpoint callback set\n",
    "history = model.fit(\n",
    "    (X_train_wide, X_train_deep), (y_train, y_train), epochs=10,\n",
    "    validation_data=((X_val_wide, X_val_deep), (y_val, y_val)),\n",
    "    callbacks=[checkpoint_cb])"
   ]
  },
  {
   "cell_type": "code",
   "execution_count": 29,
   "id": "8fce3f9d-f73b-400c-a3be-d4c60a6a8fb3",
   "metadata": {},
   "outputs": [
    {
     "name": "stdout",
     "output_type": "stream",
     "text": [
      "Epoch 1/100\n",
      "363/363 [==============================] - 2s 5ms/step - loss: 0.3110 - root_mean_squared_error: 0.5577 - val_loss: 0.3645 - val_root_mean_squared_error: 0.6037\n",
      "Epoch 2/100\n",
      "363/363 [==============================] - 2s 4ms/step - loss: 0.3113 - root_mean_squared_error: 0.5579 - val_loss: 0.8973 - val_root_mean_squared_error: 0.9473\n",
      "Epoch 3/100\n",
      "363/363 [==============================] - 1s 4ms/step - loss: 0.3161 - root_mean_squared_error: 0.5623 - val_loss: 0.5264 - val_root_mean_squared_error: 0.7256\n",
      "Epoch 4/100\n",
      "363/363 [==============================] - 2s 6ms/step - loss: 0.3127 - root_mean_squared_error: 0.5592 - val_loss: 1.1359 - val_root_mean_squared_error: 1.0658\n",
      "Epoch 5/100\n",
      "363/363 [==============================] - 2s 4ms/step - loss: 0.3157 - root_mean_squared_error: 0.5618 - val_loss: 1.2456 - val_root_mean_squared_error: 1.1160\n",
      "Epoch 6/100\n",
      "363/363 [==============================] - 1s 4ms/step - loss: 0.3145 - root_mean_squared_error: 0.5608 - val_loss: 0.6281 - val_root_mean_squared_error: 0.7925\n",
      "Epoch 7/100\n",
      "363/363 [==============================] - 1s 4ms/step - loss: 0.3081 - root_mean_squared_error: 0.5551 - val_loss: 0.3077 - val_root_mean_squared_error: 0.5547\n",
      "Epoch 8/100\n",
      "363/363 [==============================] - 1s 4ms/step - loss: 0.3042 - root_mean_squared_error: 0.5515 - val_loss: 0.3427 - val_root_mean_squared_error: 0.5854\n",
      "Epoch 9/100\n",
      "363/363 [==============================] - 2s 4ms/step - loss: 0.3022 - root_mean_squared_error: 0.5497 - val_loss: 0.2982 - val_root_mean_squared_error: 0.5461\n",
      "Epoch 10/100\n",
      "363/363 [==============================] - 2s 5ms/step - loss: 0.3053 - root_mean_squared_error: 0.5526 - val_loss: 0.3328 - val_root_mean_squared_error: 0.5769\n",
      "Epoch 11/100\n",
      "363/363 [==============================] - 2s 5ms/step - loss: 0.3011 - root_mean_squared_error: 0.5487 - val_loss: 0.2993 - val_root_mean_squared_error: 0.5471\n",
      "Epoch 12/100\n",
      "363/363 [==============================] - 2s 4ms/step - loss: 0.3043 - root_mean_squared_error: 0.5517 - val_loss: 0.7120 - val_root_mean_squared_error: 0.8438\n",
      "Epoch 13/100\n",
      "363/363 [==============================] - 2s 4ms/step - loss: 0.3035 - root_mean_squared_error: 0.5509 - val_loss: 0.5467 - val_root_mean_squared_error: 0.7394\n",
      "Epoch 14/100\n",
      "363/363 [==============================] - 1s 3ms/step - loss: 0.3021 - root_mean_squared_error: 0.5496 - val_loss: 0.9093 - val_root_mean_squared_error: 0.9536\n",
      "Epoch 15/100\n",
      "363/363 [==============================] - 1s 3ms/step - loss: 0.3033 - root_mean_squared_error: 0.5507 - val_loss: 0.6271 - val_root_mean_squared_error: 0.7919\n",
      "Epoch 16/100\n",
      "363/363 [==============================] - 1s 4ms/step - loss: 0.3018 - root_mean_squared_error: 0.5493 - val_loss: 0.7644 - val_root_mean_squared_error: 0.8743\n",
      "Epoch 17/100\n",
      "363/363 [==============================] - 2s 4ms/step - loss: 0.3038 - root_mean_squared_error: 0.5512 - val_loss: 0.4413 - val_root_mean_squared_error: 0.6643\n",
      "Epoch 18/100\n",
      "363/363 [==============================] - 1s 4ms/step - loss: 0.2991 - root_mean_squared_error: 0.5469 - val_loss: 0.8562 - val_root_mean_squared_error: 0.9253\n",
      "Epoch 19/100\n",
      "363/363 [==============================] - 1s 4ms/step - loss: 0.3024 - root_mean_squared_error: 0.5499 - val_loss: 0.4639 - val_root_mean_squared_error: 0.6811\n"
     ]
    }
   ],
   "source": [
    "# Configures early stopping\n",
    "early_stopping_cb = tf.keras.callbacks.EarlyStopping(patience=10, restore_best_weights=True)\n",
    "\n",
    "# Fits the model with both checkpoint and early stopping callback set\n",
    "history = model.fit(\n",
    "    (X_train_wide, X_train_deep), (y_train, y_train), epochs=100,\n",
    "    validation_data=((X_val_wide, X_val_deep), (y_val, y_val)),\n",
    "    callbacks=[checkpoint_cb, early_stopping_cb])"
   ]
  },
  {
   "cell_type": "markdown",
   "id": "12b999fe-89fb-437f-9e9c-e90506f914c0",
   "metadata": {},
   "source": [
    "### Using TensorBoard for Visualization"
   ]
  },
  {
   "cell_type": "code",
   "execution_count": 31,
   "id": "6e60f188-48ef-44c0-b0c7-3368e7a95a79",
   "metadata": {},
   "outputs": [],
   "source": [
    "# reset the name counters\n",
    "tf.keras.backend.clear_session()\n",
    "\n",
    "tf.random.set_seed(42)"
   ]
  },
  {
   "cell_type": "code",
   "execution_count": 32,
   "id": "84534763-dbac-4642-85b7-0d92a7d75989",
   "metadata": {},
   "outputs": [],
   "source": [
    "# Buils model using Sequential API\n",
    "\n",
    "norm_layer = tf.keras.layers.Normalization(input_shape=X_train.shape[1:])\n",
    "model = tf.keras.Sequential([\n",
    "    norm_layer,\n",
    "    tf.keras.layers.Dense(30, activation=\"relu\"),\n",
    "    tf.keras.layers.Dense(30, activation=\"relu\"),\n",
    "    tf.keras.layers.Dense(1)\n",
    "])"
   ]
  },
  {
   "cell_type": "code",
   "execution_count": 33,
   "id": "102b996c-80a6-4f03-9f7e-19243cccbbc6",
   "metadata": {},
   "outputs": [],
   "source": [
    "# Compiles the model\n",
    "\n",
    "optimizer = tf.keras.optimizers.SGD(learning_rate=1e-3)\n",
    "model.compile(loss=\"mse\", optimizer=optimizer, metrics=[\"RootMeanSquaredError\"])"
   ]
  },
  {
   "cell_type": "code",
   "execution_count": 38,
   "id": "aea18084-afeb-4cfa-9ca4-29accea2a2dd",
   "metadata": {},
   "outputs": [
    {
     "name": "stdout",
     "output_type": "stream",
     "text": [
      "Epoch 1/20\n"
     ]
    },
    {
     "name": "stderr",
     "output_type": "stream",
     "text": [
      "2024-02-12 15:19:51.569072: I tensorflow/tsl/profiler/lib/profiler_session.cc:104] Profiler session initializing.\n",
      "2024-02-12 15:19:51.569151: I tensorflow/tsl/profiler/lib/profiler_session.cc:119] Profiler session started.\n",
      "2024-02-12 15:19:51.569913: I tensorflow/tsl/profiler/lib/profiler_session.cc:131] Profiler session tear down.\n"
     ]
    },
    {
     "name": "stdout",
     "output_type": "stream",
     "text": [
      "134/363 [==========>...................] - ETA: 0s - loss: 3.3321 - root_mean_squared_error: 1.8254"
     ]
    },
    {
     "name": "stderr",
     "output_type": "stream",
     "text": [
      "2024-02-12 15:19:52.304718: I tensorflow/tsl/profiler/lib/profiler_session.cc:104] Profiler session initializing.\n",
      "2024-02-12 15:19:52.304780: I tensorflow/tsl/profiler/lib/profiler_session.cc:119] Profiler session started.\n"
     ]
    },
    {
     "name": "stdout",
     "output_type": "stream",
     "text": [
      "229/363 [=================>............] - ETA: 0s - loss: 3.1019 - root_mean_squared_error: 1.7612"
     ]
    },
    {
     "name": "stderr",
     "output_type": "stream",
     "text": [
      "2024-02-12 15:19:53.122193: I tensorflow/tsl/profiler/lib/profiler_session.cc:70] Profiler session collecting data.\n",
      "2024-02-12 15:19:53.153610: I tensorflow/tsl/profiler/lib/profiler_session.cc:131] Profiler session tear down.\n",
      "2024-02-12 15:19:53.158700: I tensorflow/tsl/profiler/rpc/client/save_profile.cc:144] Collecting XSpace to repository: ./logs/2024.02.12-15:19:51/plugins/profile/2024_02_12_15_19_53/pradip-Lenovo-V15-G4-AMN.xplane.pb\n"
     ]
    },
    {
     "name": "stdout",
     "output_type": "stream",
     "text": [
      "363/363 [==============================] - 2s 6ms/step - loss: 2.4238 - root_mean_squared_error: 1.5569 - val_loss: 1.8063 - val_root_mean_squared_error: 1.3440\n",
      "Epoch 2/20\n",
      "363/363 [==============================] - 1s 3ms/step - loss: 0.7659 - root_mean_squared_error: 0.8752 - val_loss: 0.7471 - val_root_mean_squared_error: 0.8643\n",
      "Epoch 3/20\n",
      "363/363 [==============================] - 1s 4ms/step - loss: 0.6568 - root_mean_squared_error: 0.8104 - val_loss: 0.6814 - val_root_mean_squared_error: 0.8255\n",
      "Epoch 4/20\n",
      "363/363 [==============================] - 1s 4ms/step - loss: 0.6168 - root_mean_squared_error: 0.7854 - val_loss: 0.5633 - val_root_mean_squared_error: 0.7506\n",
      "Epoch 5/20\n",
      "363/363 [==============================] - 1s 4ms/step - loss: 0.5861 - root_mean_squared_error: 0.7656 - val_loss: 0.5383 - val_root_mean_squared_error: 0.7337\n",
      "Epoch 6/20\n",
      "363/363 [==============================] - 1s 4ms/step - loss: 0.5586 - root_mean_squared_error: 0.7474 - val_loss: 0.5096 - val_root_mean_squared_error: 0.7139\n",
      "Epoch 7/20\n",
      "363/363 [==============================] - 1s 3ms/step - loss: 0.5351 - root_mean_squared_error: 0.7315 - val_loss: 0.4937 - val_root_mean_squared_error: 0.7026\n",
      "Epoch 8/20\n",
      "363/363 [==============================] - 2s 5ms/step - loss: 0.5143 - root_mean_squared_error: 0.7172 - val_loss: 0.4779 - val_root_mean_squared_error: 0.6913\n",
      "Epoch 9/20\n",
      "363/363 [==============================] - 2s 5ms/step - loss: 0.4954 - root_mean_squared_error: 0.7039 - val_loss: 0.4550 - val_root_mean_squared_error: 0.6746\n",
      "Epoch 10/20\n",
      "363/363 [==============================] - 1s 4ms/step - loss: 0.4797 - root_mean_squared_error: 0.6926 - val_loss: 0.4390 - val_root_mean_squared_error: 0.6626\n",
      "Epoch 11/20\n",
      "363/363 [==============================] - 1s 3ms/step - loss: 0.4670 - root_mean_squared_error: 0.6834 - val_loss: 0.4898 - val_root_mean_squared_error: 0.6999\n",
      "Epoch 12/20\n",
      "363/363 [==============================] - 2s 4ms/step - loss: 0.4558 - root_mean_squared_error: 0.6751 - val_loss: 0.4192 - val_root_mean_squared_error: 0.6475\n",
      "Epoch 13/20\n",
      "363/363 [==============================] - 1s 4ms/step - loss: 0.4465 - root_mean_squared_error: 0.6682 - val_loss: 0.4240 - val_root_mean_squared_error: 0.6512\n",
      "Epoch 14/20\n",
      "363/363 [==============================] - 1s 3ms/step - loss: 0.4386 - root_mean_squared_error: 0.6623 - val_loss: 0.4217 - val_root_mean_squared_error: 0.6494\n",
      "Epoch 15/20\n",
      "363/363 [==============================] - 2s 5ms/step - loss: 0.4319 - root_mean_squared_error: 0.6572 - val_loss: 0.4366 - val_root_mean_squared_error: 0.6608\n",
      "Epoch 16/20\n",
      "363/363 [==============================] - 2s 5ms/step - loss: 0.4263 - root_mean_squared_error: 0.6529 - val_loss: 0.4095 - val_root_mean_squared_error: 0.6399\n",
      "Epoch 17/20\n",
      "363/363 [==============================] - 1s 4ms/step - loss: 0.4214 - root_mean_squared_error: 0.6491 - val_loss: 0.4563 - val_root_mean_squared_error: 0.6755\n",
      "Epoch 18/20\n",
      "363/363 [==============================] - 1s 4ms/step - loss: 0.4170 - root_mean_squared_error: 0.6457 - val_loss: 0.4659 - val_root_mean_squared_error: 0.6826\n",
      "Epoch 19/20\n",
      "363/363 [==============================] - 2s 4ms/step - loss: 0.4129 - root_mean_squared_error: 0.6425 - val_loss: 0.4246 - val_root_mean_squared_error: 0.6516\n",
      "Epoch 20/20\n",
      "363/363 [==============================] - 1s 4ms/step - loss: 0.4095 - root_mean_squared_error: 0.6399 - val_loss: 0.5240 - val_root_mean_squared_error: 0.7239\n"
     ]
    }
   ],
   "source": [
    "# Adapts to train data by finding its feature wise mean and variance\n",
    "norm_layer.adapt(X_train)\n",
    "\n",
    "# Create log dir for TensorBoard to store logs\n",
    "log_dir = \"./logs/\" + datetime.datetime.now().strftime(\"%Y.%m.%d-%H:%M:%S\")\n",
    "tensorboard_cb = tf.keras.callbacks.TensorBoard(log_dir, profile_batch=(100, 200))\n",
    "\n",
    "# Trains the model\n",
    "history = model.fit(X_train, y_train, epochs=20,\n",
    "                    validation_data=(X_val, y_val),\n",
    "                    callbacks=[tensorboard_cb])"
   ]
  },
  {
   "cell_type": "code",
   "execution_count": null,
   "id": "56dc67aa-c9fb-4171-b4a3-34372242409f",
   "metadata": {},
   "outputs": [],
   "source": []
  },
  {
   "cell_type": "markdown",
   "id": "d0e2a77b-470a-4264-9597-b0bdbb387efd",
   "metadata": {},
   "source": [
    "The following magic command loads TensorBoard directly into the Jupyter\n",
    "\n",
    "%load_ext tensorboard\n",
    "\n",
    "%tensorboard --logdir=./logs\n",
    "\n",
    "TensorBoard can also be accessed through browser by executing the following command in the terminal.\n",
    "\n",
    "tensorboard --logdir=./logs"
   ]
  },
  {
   "cell_type": "markdown",
   "id": "310e9755-c3f1-492b-b059-d248873c564b",
   "metadata": {},
   "source": [
    "## Fine-Tuning Neural Network Hyperparameters"
   ]
  },
  {
   "cell_type": "markdown",
   "id": "a691a7b6-6d03-45d7-bfb3-cf86bc47cf08",
   "metadata": {},
   "source": [
    "#### Loads the dataset"
   ]
  },
  {
   "cell_type": "code",
   "execution_count": 2,
   "id": "86931267-ec3d-4090-8538-c309139b2634",
   "metadata": {},
   "outputs": [],
   "source": [
    "fashion_mnist = tf.keras.datasets.fashion_mnist.load_data()"
   ]
  },
  {
   "cell_type": "code",
   "execution_count": 3,
   "id": "7c04ea72-dd38-449f-b601-d9131dfc34f0",
   "metadata": {},
   "outputs": [],
   "source": [
    "# Prepares training and testing dataset\n",
    "\n",
    "(X_train_full, y_train_full), (X_test, y_test) = fashion_mnist\n",
    "\n",
    "# Takes out validation dataset from training dataset\n",
    "X_train, X_val, y_train, y_val = train_test_split(\n",
    "    X_train_full, y_train_full, test_size=5000, random_state=42, stratify=y_train_full)"
   ]
  },
  {
   "cell_type": "markdown",
   "id": "b7af32e3-2bbf-4cfb-b276-338ca9718a91",
   "metadata": {},
   "source": [
    "#### Searching for hyperparameters"
   ]
  },
  {
   "cell_type": "code",
   "execution_count": 4,
   "id": "80b3d979-e10c-4985-8313-25b34af4dfd7",
   "metadata": {},
   "outputs": [],
   "source": [
    "def build_model(hp):\n",
    "    \"\"\"\n",
    "    A callable that takes hyperparameters and returns a model instance\n",
    "    \"\"\"\n",
    "    \n",
    "    n_hidden = hp.Int(\"n_hidden\", min_value=0, max_value=8, default=2)\n",
    "    n_neurons = hp.Int(\"n_neurons\", min_value=16, max_value=256)\n",
    "    \n",
    "    learning_rate = hp.Float(\"learning_rate\", min_value=1e-4, \n",
    "                             max_value=1e-2, sampling=\"log\")\n",
    "    \n",
    "    optimizer = hp.Choice(\"optimizer\", values=[\"sgd\", \"adam\"])\n",
    "    if optimizer == \"sgd\":\n",
    "        optimizer = tf.keras.optimizers.SGD(learning_rate=learning_rate)\n",
    "    else:\n",
    "        optimizer = tf.keras.optimizers.Adam(learning_rate=learning_rate)\n",
    "\n",
    "    # Builds the modes from the above hyperparameters\n",
    "    model = tf.keras.Sequential()\n",
    "    model.add(tf.keras.layers.Flatten())\n",
    "    for _ in range(n_hidden):\n",
    "        model.add(tf.keras.layers.Dense(n_neurons, activation=\"relu\"))\n",
    "    model.add(tf.keras.layers.Dense(10, activation=\"softmax\"))\n",
    "    model.compile(loss=\"sparse_categorical_crossentropy\", \n",
    "                  optimizer=optimizer, metrics=[\"accuracy\"])\n",
    "    \n",
    "    return model"
   ]
  },
  {
   "cell_type": "code",
   "execution_count": 5,
   "id": "2c9c3ceb-099a-4209-af51-78af7225879f",
   "metadata": {},
   "outputs": [],
   "source": [
    "# reset the name counters\n",
    "tf.keras.backend.clear_session()\n",
    "tf.random.set_seed(42)"
   ]
  },
  {
   "cell_type": "code",
   "execution_count": 6,
   "id": "372ce920-4357-47fb-9a63-eff71f63f4b1",
   "metadata": {},
   "outputs": [
    {
     "name": "stdout",
     "output_type": "stream",
     "text": [
      "Trial 5 Complete [00h 01m 35s]\n",
      "val_accuracy: 0.847000002861023\n",
      "\n",
      "Best val_accuracy So Far: 0.8695999979972839\n",
      "Total elapsed time: 00h 11m 07s\n"
     ]
    }
   ],
   "source": [
    "# Performs a basic random search for hyperparameters\n",
    "\n",
    "random_search_tuner = kt.RandomSearch(\n",
    "    build_model, objective=\"val_accuracy\", max_trials=5, overwrite=True,\n",
    "    directory=\"my_fashion_mnist\", project_name=\"my_hyperparameters_randome_search\", seed=42)\n",
    "\n",
    "random_search_tuner.search(X_train, y_train, epochs=10, validation_data=(X_val, y_val))"
   ]
  },
  {
   "cell_type": "code",
   "execution_count": 7,
   "id": "62842dc9-950e-4c56-8db0-36476616a05d",
   "metadata": {},
   "outputs": [],
   "source": [
    "# Receives top 3 models\n",
    "top3_models = random_search_tuner.get_best_models(num_models=3)\n",
    "\n",
    "best_model = top3_models[0]  # The best models"
   ]
  },
  {
   "cell_type": "code",
   "execution_count": 8,
   "id": "a108db3b-2e10-4dae-83f5-e5ebc26ef701",
   "metadata": {},
   "outputs": [
    {
     "data": {
      "text/plain": [
       "{'n_hidden': 7,\n",
       " 'n_neurons': 100,\n",
       " 'learning_rate': 0.0012482904754698163,\n",
       " 'optimizer': 'sgd'}"
      ]
     },
     "execution_count": 8,
     "metadata": {},
     "output_type": "execute_result"
    }
   ],
   "source": [
    "# Receives hyperparameters for top 3 models\n",
    "\n",
    "top3_params = random_search_tuner.get_best_hyperparameters(num_trials=3)\n",
    "top3_params[0].values  # best hyperparameter values"
   ]
  },
  {
   "cell_type": "code",
   "execution_count": 9,
   "id": "7a7ffe7c-2245-4714-9e2b-2e0414fac52c",
   "metadata": {},
   "outputs": [
    {
     "name": "stdout",
     "output_type": "stream",
     "text": [
      "Trial 1 summary\n",
      "Hyperparameters:\n",
      "n_hidden: 7\n",
      "n_neurons: 100\n",
      "learning_rate: 0.0012482904754698163\n",
      "optimizer: sgd\n",
      "Score: 0.8695999979972839\n"
     ]
    }
   ],
   "source": [
    "# Gets the best trial\n",
    "best_trial = random_search_tuner.oracle.get_best_trials(num_trials=1)[0]\n",
    "best_trial.summary()"
   ]
  },
  {
   "cell_type": "code",
   "execution_count": 10,
   "id": "a949ae1c-27c4-448c-bd72-a481a3e79041",
   "metadata": {},
   "outputs": [
    {
     "data": {
      "text/plain": [
       "0.8695999979972839"
      ]
     },
     "execution_count": 10,
     "metadata": {},
     "output_type": "execute_result"
    }
   ],
   "source": [
    "# Metrics can also be accessed directly\n",
    "best_trial.metrics.get_last_value(\"val_accuracy\")"
   ]
  },
  {
   "cell_type": "markdown",
   "id": "943bd1fd-7c96-420d-9018-e41b9d347fa1",
   "metadata": {},
   "source": [
    "#### Retraining and Evaluating the model"
   ]
  },
  {
   "cell_type": "code",
   "execution_count": 11,
   "id": "ff884ceb-1fa3-4a8d-b0ff-9017d09732ce",
   "metadata": {},
   "outputs": [
    {
     "name": "stdout",
     "output_type": "stream",
     "text": [
      "Epoch 1/10\n",
      "1875/1875 [==============================] - 26s 14ms/step - loss: 0.3365 - accuracy: 0.8766\n",
      "Epoch 2/10\n",
      "1875/1875 [==============================] - 16s 8ms/step - loss: 0.3265 - accuracy: 0.8793\n",
      "Epoch 3/10\n",
      "1875/1875 [==============================] - 17s 9ms/step - loss: 0.3164 - accuracy: 0.8827\n",
      "Epoch 4/10\n",
      "1875/1875 [==============================] - 16s 8ms/step - loss: 0.3086 - accuracy: 0.8861\n",
      "Epoch 5/10\n",
      "1875/1875 [==============================] - 14s 8ms/step - loss: 0.3023 - accuracy: 0.8895\n",
      "Epoch 6/10\n",
      "1875/1875 [==============================] - 19s 10ms/step - loss: 0.2954 - accuracy: 0.8907\n",
      "Epoch 7/10\n",
      "1875/1875 [==============================] - 18s 9ms/step - loss: 0.2881 - accuracy: 0.8941\n",
      "Epoch 8/10\n",
      "1875/1875 [==============================] - 13s 7ms/step - loss: 0.2829 - accuracy: 0.8953\n",
      "Epoch 9/10\n",
      "1875/1875 [==============================] - 14s 7ms/step - loss: 0.2766 - accuracy: 0.8979\n",
      "Epoch 10/10\n",
      "1875/1875 [==============================] - 15s 8ms/step - loss: 0.2728 - accuracy: 0.9000\n"
     ]
    },
    {
     "data": {
      "text/plain": [
       "<keras.callbacks.History at 0x7ff6e1f9dd50>"
      ]
     },
     "execution_count": 11,
     "metadata": {},
     "output_type": "execute_result"
    }
   ],
   "source": [
    "# Training can be continued for a few epochs on the full training set\n",
    "best_model.fit(X_train_full, y_train_full, epochs=10)"
   ]
  },
  {
   "cell_type": "code",
   "execution_count": 12,
   "id": "5b40d965-9236-4293-81a9-f66ebd557d32",
   "metadata": {},
   "outputs": [
    {
     "name": "stdout",
     "output_type": "stream",
     "text": [
      "313/313 [==============================] - 3s 8ms/step - loss: 0.4025 - accuracy: 0.8573\n",
      "0.8572999835014343\n"
     ]
    }
   ],
   "source": [
    "# Evaluates the model\n",
    "test_loss, test_accuracy = best_model.evaluate(X_test, y_test)\n",
    "print(test_accuracy)"
   ]
  },
  {
   "cell_type": "code",
   "execution_count": null,
   "id": "adb22bbb-37c8-4185-856e-6e1ab6e54a21",
   "metadata": {},
   "outputs": [],
   "source": []
  }
 ],
 "metadata": {
  "kernelspec": {
   "display_name": "Python 3 (ipykernel)",
   "language": "python",
   "name": "python3"
  },
  "language_info": {
   "codemirror_mode": {
    "name": "ipython",
    "version": 3
   },
   "file_extension": ".py",
   "mimetype": "text/x-python",
   "name": "python",
   "nbconvert_exporter": "python",
   "pygments_lexer": "ipython3",
   "version": "3.11.5"
  }
 },
 "nbformat": 4,
 "nbformat_minor": 5
}
