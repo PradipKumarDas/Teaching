{
 "cells": [
  {
   "cell_type": "markdown",
   "id": "822ba288-3b75-412a-9319-6af3faadc618",
   "metadata": {
    "editable": true,
    "id": "822ba288-3b75-412a-9319-6af3faadc618",
    "slideshow": {
     "slide_type": ""
    },
    "tags": []
   },
   "source": [
    "# FORECASTING USING BASELINE MODELS"
   ]
  },
  {
   "cell_type": "markdown",
   "id": "da6661bf-3f4c-4462-bcc6-2ac629327c34",
   "metadata": {
    "id": "da6661bf-3f4c-4462-bcc6-2ac629327c34"
   },
   "source": [
    "_**Consider appropriate time-series dataset and forecast using baseline models.**_"
   ]
  },
  {
   "cell_type": "markdown",
   "id": "3c49fd58-bfdb-4d74-8dbc-394a5ffcb778",
   "metadata": {
    "id": "wyLSTHcEG-nc"
   },
   "source": [
    "In this experiment, the following naive approaches will be used to create baselines models to forecast the quarterly EPS of Johnson & Johnson.\n",
    "\n",
    "1) Historical mean of the entire train set\n",
    "2) Historical mean of the last year in the train set\n",
    "3) Last known value of the train set\n",
    "4) Naive seasonality\n"
   ]
  },
  {
   "cell_type": "code",
   "execution_count": 1,
   "id": "5a03235b-9bf0-4288-80a1-e36feae64a27",
   "metadata": {
    "tags": []
   },
   "outputs": [],
   "source": [
    "# Imports packages\n",
    "\n",
    "import numpy as np\n",
    "import pandas as pd\n",
    "from sklearn.metrics import mean_absolute_percentage_error\n",
    "import matplotlib.pyplot as plt"
   ]
  },
  {
   "cell_type": "markdown",
   "id": "6937a7ec-986e-4289-9f01-b37e998f79cf",
   "metadata": {},
   "source": [
    "### Retrieving & Analyzing the Data\n",
    "\n",
    "The dataset that was considered in this experiment represents the quarterly earnings per share (EPS) in US dollars of Johnson & Johnson stock from 1960 to 1980."
   ]
  },
  {
   "cell_type": "code",
   "execution_count": 2,
   "id": "64fbad27-3d41-4211-95cb-35c5387c38db",
   "metadata": {
    "editable": true,
    "scrolled": true,
    "slideshow": {
     "slide_type": ""
    },
    "tags": []
   },
   "outputs": [
    {
     "data": {
      "text/html": [
       "<div>\n",
       "<style scoped>\n",
       "    .dataframe tbody tr th:only-of-type {\n",
       "        vertical-align: middle;\n",
       "    }\n",
       "\n",
       "    .dataframe tbody tr th {\n",
       "        vertical-align: top;\n",
       "    }\n",
       "\n",
       "    .dataframe thead th {\n",
       "        text-align: right;\n",
       "    }\n",
       "</style>\n",
       "<table border=\"1\" class=\"dataframe\">\n",
       "  <thead>\n",
       "    <tr style=\"text-align: right;\">\n",
       "      <th></th>\n",
       "      <th>date</th>\n",
       "      <th>data</th>\n",
       "    </tr>\n",
       "  </thead>\n",
       "  <tbody>\n",
       "    <tr>\n",
       "      <th>0</th>\n",
       "      <td>1960-01-01</td>\n",
       "      <td>0.71</td>\n",
       "    </tr>\n",
       "    <tr>\n",
       "      <th>1</th>\n",
       "      <td>1960-04-01</td>\n",
       "      <td>0.63</td>\n",
       "    </tr>\n",
       "    <tr>\n",
       "      <th>2</th>\n",
       "      <td>1960-07-02</td>\n",
       "      <td>0.85</td>\n",
       "    </tr>\n",
       "    <tr>\n",
       "      <th>3</th>\n",
       "      <td>1960-10-01</td>\n",
       "      <td>0.44</td>\n",
       "    </tr>\n",
       "    <tr>\n",
       "      <th>4</th>\n",
       "      <td>1961-01-01</td>\n",
       "      <td>0.61</td>\n",
       "    </tr>\n",
       "  </tbody>\n",
       "</table>\n",
       "</div>"
      ],
      "text/plain": [
       "         date  data\n",
       "0  1960-01-01  0.71\n",
       "1  1960-04-01  0.63\n",
       "2  1960-07-02  0.85\n",
       "3  1960-10-01  0.44\n",
       "4  1961-01-01  0.61"
      ]
     },
     "metadata": {},
     "output_type": "display_data"
    }
   ],
   "source": [
    "# Loads the dataset\n",
    "eps = pd.read_csv(\"../Data/time-series/johnson_&_johnson_stock_EPS.csv\")\n",
    "\n",
    "# Shows few instances from top\n",
    "display(eps.head())"
   ]
  },
  {
   "cell_type": "code",
   "execution_count": 3,
   "id": "ec2ab7cb-536b-4f24-9307-022267ab64a7",
   "metadata": {
    "tags": []
   },
   "outputs": [
    {
     "data": {
      "text/html": [
       "<div>\n",
       "<style scoped>\n",
       "    .dataframe tbody tr th:only-of-type {\n",
       "        vertical-align: middle;\n",
       "    }\n",
       "\n",
       "    .dataframe tbody tr th {\n",
       "        vertical-align: top;\n",
       "    }\n",
       "\n",
       "    .dataframe thead th {\n",
       "        text-align: right;\n",
       "    }\n",
       "</style>\n",
       "<table border=\"1\" class=\"dataframe\">\n",
       "  <thead>\n",
       "    <tr style=\"text-align: right;\">\n",
       "      <th></th>\n",
       "      <th>date</th>\n",
       "      <th>data</th>\n",
       "    </tr>\n",
       "  </thead>\n",
       "  <tbody>\n",
       "    <tr>\n",
       "      <th>79</th>\n",
       "      <td>1979-10-01</td>\n",
       "      <td>9.99</td>\n",
       "    </tr>\n",
       "    <tr>\n",
       "      <th>80</th>\n",
       "      <td>1980-01-01</td>\n",
       "      <td>16.20</td>\n",
       "    </tr>\n",
       "    <tr>\n",
       "      <th>81</th>\n",
       "      <td>1980-04-01</td>\n",
       "      <td>14.67</td>\n",
       "    </tr>\n",
       "    <tr>\n",
       "      <th>82</th>\n",
       "      <td>1980-07-02</td>\n",
       "      <td>16.02</td>\n",
       "    </tr>\n",
       "    <tr>\n",
       "      <th>83</th>\n",
       "      <td>1980-10-01</td>\n",
       "      <td>11.61</td>\n",
       "    </tr>\n",
       "  </tbody>\n",
       "</table>\n",
       "</div>"
      ],
      "text/plain": [
       "          date   data\n",
       "79  1979-10-01   9.99\n",
       "80  1980-01-01  16.20\n",
       "81  1980-04-01  14.67\n",
       "82  1980-07-02  16.02\n",
       "83  1980-10-01  11.61"
      ]
     },
     "metadata": {},
     "output_type": "display_data"
    }
   ],
   "source": [
    "# Shows few instances from bottom\n",
    "display(eps.tail())"
   ]
  },
  {
   "cell_type": "code",
   "execution_count": 4,
   "id": "e8ebcdcf-4d67-4a6d-9d25-e833ed4eb994",
   "metadata": {
    "tags": []
   },
   "outputs": [
    {
     "name": "stdout",
     "output_type": "stream",
     "text": [
      "(84, 2)\n"
     ]
    }
   ],
   "source": [
    "# Checks the shape of the dataset\n",
    "print(eps.shape)"
   ]
  },
  {
   "cell_type": "code",
   "execution_count": 5,
   "id": "40e54121-d44c-4a89-9602-e43bf9159976",
   "metadata": {
    "tags": []
   },
   "outputs": [
    {
     "name": "stdout",
     "output_type": "stream",
     "text": [
      "            data\n",
      "count  84.000000\n",
      "mean    4.799762\n",
      "std     4.309991\n",
      "min     0.440000\n",
      "25%     1.247500\n",
      "50%     3.510000\n",
      "75%     7.132500\n",
      "max    16.200000\n"
     ]
    }
   ],
   "source": [
    "# Checks the descriptive statistics of the dataset\n",
    "print(eps.describe())"
   ]
  },
  {
   "cell_type": "code",
   "execution_count": 6,
   "id": "57cc8254-b0e2-49c7-a5de-13f003421a4c",
   "metadata": {},
   "outputs": [
    {
     "data": {
      "text/plain": [
       "Text(0.5, 1.0, 'Quarterly EPS of Johnson & Johnson')"
      ]
     },
     "execution_count": 6,
     "metadata": {},
     "output_type": "execute_result"
    },
    {
     "data": {
      "image/png": "[encoded data removed]",
      "text/plain": [
       "<Figure size 640x480 with 1 Axes>"
      ]
     },
     "metadata": {},
     "output_type": "display_data"
    }
   ],
   "source": [
    "# Plots the dataset to visualize it\n",
    "\n",
    "plt.plot(eps['date'], eps['data'])\n",
    "plt.xlabel('Date')\n",
    "plt.ylabel('Earnings per share (USD)')\n",
    "plt.xticks(\n",
    "    np.arange(0, 81, 8),                                                # Sets the location of the ticks\n",
    "    [1960, 1962, 1964, 1966, 1968, 1970, 1972, 1974, 1976, 1978, 1980], # Sets the labels for each tick location\n",
    "    rotation=45                                                         # Rotates the tick labels (at given degree) to enhance ligibility\n",
    ")\n",
    "plt.axvspan(80, 83, color='#808080', alpha=0.2)   # Highlights forecasting region\n",
    "plt.title(\"Quarterly EPS of Johnson & Johnson\")   # Sets plot title"
   ]
  },
  {
   "cell_type": "markdown",
   "id": "de4ddac6-606e-4fc2-8ec1-74966e105107",
   "metadata": {},
   "source": [
    "The forecasting period is illustrated by the gray zone in above figure."
   ]
  },
  {
   "cell_type": "markdown",
   "id": "8367396e-158d-4062-982c-24a37f06b0b4",
   "metadata": {
    "jp-MarkdownHeadingCollapsed": true
   },
   "source": [
    "**Below ones are the findings out of the above figure.**\n",
    "1. It has a trend since EPS is increasing over time.\n",
    "2. There is a seasonality, since there are peaks and troughs (a low point between two high points) repeated over the course of a year, or four quarters."
   ]
  },
  {
   "cell_type": "markdown",
   "id": "a1bfd80d-c4d7-42dd-8163-953300df2804",
   "metadata": {},
   "source": [
    "### Preparing Datasets"
   ]
  },
  {
   "cell_type": "code",
   "execution_count": 7,
   "id": "df6833df-ae48-44c7-aa3a-4f1dbc9fa56a",
   "metadata": {
    "tags": []
   },
   "outputs": [],
   "source": [
    "# Splits data into train and test set.\n",
    "\n",
    "X_train = eps[:-4]    # Contain EPS data for all quarters except the last four.\n",
    "X_test = eps[-4:]     # Contains the EPS data only the last four quarters."
   ]
  },
  {
   "cell_type": "code",
   "execution_count": 8,
   "id": "81adc90d-4c9e-40a3-96fd-f176f0eb710e",
   "metadata": {
    "tags": []
   },
   "outputs": [
    {
     "data": {
      "text/html": [
       "<div>\n",
       "<style scoped>\n",
       "    .dataframe tbody tr th:only-of-type {\n",
       "        vertical-align: middle;\n",
       "    }\n",
       "\n",
       "    .dataframe tbody tr th {\n",
       "        vertical-align: top;\n",
       "    }\n",
       "\n",
       "    .dataframe thead th {\n",
       "        text-align: right;\n",
       "    }\n",
       "</style>\n",
       "<table border=\"1\" class=\"dataframe\">\n",
       "  <thead>\n",
       "    <tr style=\"text-align: right;\">\n",
       "      <th></th>\n",
       "      <th>date</th>\n",
       "      <th>data</th>\n",
       "    </tr>\n",
       "  </thead>\n",
       "  <tbody>\n",
       "    <tr>\n",
       "      <th>0</th>\n",
       "      <td>1960-01-01</td>\n",
       "      <td>0.71</td>\n",
       "    </tr>\n",
       "    <tr>\n",
       "      <th>1</th>\n",
       "      <td>1960-04-01</td>\n",
       "      <td>0.63</td>\n",
       "    </tr>\n",
       "    <tr>\n",
       "      <th>2</th>\n",
       "      <td>1960-07-02</td>\n",
       "      <td>0.85</td>\n",
       "    </tr>\n",
       "    <tr>\n",
       "      <th>3</th>\n",
       "      <td>1960-10-01</td>\n",
       "      <td>0.44</td>\n",
       "    </tr>\n",
       "    <tr>\n",
       "      <th>4</th>\n",
       "      <td>1961-01-01</td>\n",
       "      <td>0.61</td>\n",
       "    </tr>\n",
       "    <tr>\n",
       "      <th>...</th>\n",
       "      <td>...</td>\n",
       "      <td>...</td>\n",
       "    </tr>\n",
       "    <tr>\n",
       "      <th>75</th>\n",
       "      <td>1978-10-01</td>\n",
       "      <td>8.91</td>\n",
       "    </tr>\n",
       "    <tr>\n",
       "      <th>76</th>\n",
       "      <td>1979-01-01</td>\n",
       "      <td>14.04</td>\n",
       "    </tr>\n",
       "    <tr>\n",
       "      <th>77</th>\n",
       "      <td>1979-04-02</td>\n",
       "      <td>12.96</td>\n",
       "    </tr>\n",
       "    <tr>\n",
       "      <th>78</th>\n",
       "      <td>1979-07-02</td>\n",
       "      <td>14.85</td>\n",
       "    </tr>\n",
       "    <tr>\n",
       "      <th>79</th>\n",
       "      <td>1979-10-01</td>\n",
       "      <td>9.99</td>\n",
       "    </tr>\n",
       "  </tbody>\n",
       "</table>\n",
       "<p>80 rows × 2 columns</p>\n",
       "</div>"
      ],
      "text/plain": [
       "          date   data\n",
       "0   1960-01-01   0.71\n",
       "1   1960-04-01   0.63\n",
       "2   1960-07-02   0.85\n",
       "3   1960-10-01   0.44\n",
       "4   1961-01-01   0.61\n",
       "..         ...    ...\n",
       "75  1978-10-01   8.91\n",
       "76  1979-01-01  14.04\n",
       "77  1979-04-02  12.96\n",
       "78  1979-07-02  14.85\n",
       "79  1979-10-01   9.99\n",
       "\n",
       "[80 rows x 2 columns]"
      ]
     },
     "metadata": {},
     "output_type": "display_data"
    }
   ],
   "source": [
    "# Checks the train dataset\n",
    "\n",
    "display(X_train)"
   ]
  },
  {
   "cell_type": "code",
   "execution_count": 9,
   "id": "32a5108e-2720-4b95-86d0-81386bc16add",
   "metadata": {
    "scrolled": true,
    "tags": []
   },
   "outputs": [
    {
     "data": {
      "text/html": [
       "<div>\n",
       "<style scoped>\n",
       "    .dataframe tbody tr th:only-of-type {\n",
       "        vertical-align: middle;\n",
       "    }\n",
       "\n",
       "    .dataframe tbody tr th {\n",
       "        vertical-align: top;\n",
       "    }\n",
       "\n",
       "    .dataframe thead th {\n",
       "        text-align: right;\n",
       "    }\n",
       "</style>\n",
       "<table border=\"1\" class=\"dataframe\">\n",
       "  <thead>\n",
       "    <tr style=\"text-align: right;\">\n",
       "      <th></th>\n",
       "      <th>date</th>\n",
       "      <th>data</th>\n",
       "    </tr>\n",
       "  </thead>\n",
       "  <tbody>\n",
       "    <tr>\n",
       "      <th>80</th>\n",
       "      <td>1980-01-01</td>\n",
       "      <td>16.20</td>\n",
       "    </tr>\n",
       "    <tr>\n",
       "      <th>81</th>\n",
       "      <td>1980-04-01</td>\n",
       "      <td>14.67</td>\n",
       "    </tr>\n",
       "    <tr>\n",
       "      <th>82</th>\n",
       "      <td>1980-07-02</td>\n",
       "      <td>16.02</td>\n",
       "    </tr>\n",
       "    <tr>\n",
       "      <th>83</th>\n",
       "      <td>1980-10-01</td>\n",
       "      <td>11.61</td>\n",
       "    </tr>\n",
       "  </tbody>\n",
       "</table>\n",
       "</div>"
      ],
      "text/plain": [
       "          date   data\n",
       "80  1980-01-01  16.20\n",
       "81  1980-04-01  14.67\n",
       "82  1980-07-02  16.02\n",
       "83  1980-10-01  11.61"
      ]
     },
     "metadata": {},
     "output_type": "display_data"
    }
   ],
   "source": [
    "# Checks the test dataset\n",
    "\n",
    "display(X_test)"
   ]
  },
  {
   "cell_type": "markdown",
   "id": "04996e5f-d959-4705-af29-57cc5a598872",
   "metadata": {
    "tags": []
   },
   "source": [
    "### Forecasting using Historical  Mean of the Entire Train Set\n",
    "It simply computes the mean of the values over a certain period and assume that future values will be equal to that mean. In the context of predicting the EPS for Johnson & Johnson, the assumption will be like \n",
    "\n",
    "_The average EPS between 1960 and 1979 was USD 4.31. Therefore, it is expected that the EPS over the next four quarters of 1980to be equal to USD 4.31 per quarter._"
   ]
  },
  {
   "cell_type": "code",
   "execution_count": 10,
   "id": "ffc8d2dc-495c-4fbb-9528-3a49ea661937",
   "metadata": {
    "tags": []
   },
   "outputs": [
    {
     "name": "stdout",
     "output_type": "stream",
     "text": [
      "$ 4.31\n"
     ]
    }
   ],
   "source": [
    "# Calculates the historical mean of the entire train set\n",
    "hist_mean = np.mean(X_train['data'])\n",
    "\n",
    "print(\"$\", round(hist_mean,2))"
   ]
  },
  {
   "cell_type": "markdown",
   "id": "c240f128-a4c2-4966-95cc-4809073bd579",
   "metadata": {},
   "source": [
    "This means that from 1960 to the end of 1979, the quarterly EPS of Johnson & Johnson was **\\$4.31** on average."
   ]
  },
  {
   "cell_type": "code",
   "execution_count": 11,
   "id": "0827adb6-2cdd-4d3a-b17f-d6316f76a7c7",
   "metadata": {
    "tags": []
   },
   "outputs": [
    {
     "name": "stderr",
     "output_type": "stream",
     "text": [
      "/tmp/ipykernel_325053/445827354.py:4: SettingWithCopyWarning: \n",
      "A value is trying to be set on a copy of a slice from a DataFrame.\n",
      "Try using .loc[row_indexer,col_indexer] = value instead\n",
      "\n",
      "See the caveats in the documentation: https://pandas.pydata.org/pandas-docs/stable/user_guide/indexing.html#returning-a-view-versus-a-copy\n",
      "  X_test.loc[:, \"forecast_mean\"] = hist_mean\n"
     ]
    },
    {
     "data": {
      "text/html": [
       "<div>\n",
       "<style scoped>\n",
       "    .dataframe tbody tr th:only-of-type {\n",
       "        vertical-align: middle;\n",
       "    }\n",
       "\n",
       "    .dataframe tbody tr th {\n",
       "        vertical-align: top;\n",
       "    }\n",
       "\n",
       "    .dataframe thead th {\n",
       "        text-align: right;\n",
       "    }\n",
       "</style>\n",
       "<table border=\"1\" class=\"dataframe\">\n",
       "  <thead>\n",
       "    <tr style=\"text-align: right;\">\n",
       "      <th></th>\n",
       "      <th>date</th>\n",
       "      <th>data</th>\n",
       "      <th>forecast_mean</th>\n",
       "    </tr>\n",
       "  </thead>\n",
       "  <tbody>\n",
       "    <tr>\n",
       "      <th>80</th>\n",
       "      <td>1980-01-01</td>\n",
       "      <td>16.20</td>\n",
       "      <td>4.3085</td>\n",
       "    </tr>\n",
       "    <tr>\n",
       "      <th>81</th>\n",
       "      <td>1980-04-01</td>\n",
       "      <td>14.67</td>\n",
       "      <td>4.3085</td>\n",
       "    </tr>\n",
       "    <tr>\n",
       "      <th>82</th>\n",
       "      <td>1980-07-02</td>\n",
       "      <td>16.02</td>\n",
       "      <td>4.3085</td>\n",
       "    </tr>\n",
       "    <tr>\n",
       "      <th>83</th>\n",
       "      <td>1980-10-01</td>\n",
       "      <td>11.61</td>\n",
       "      <td>4.3085</td>\n",
       "    </tr>\n",
       "  </tbody>\n",
       "</table>\n",
       "</div>"
      ],
      "text/plain": [
       "          date   data  forecast_mean\n",
       "80  1980-01-01  16.20         4.3085\n",
       "81  1980-04-01  14.67         4.3085\n",
       "82  1980-07-02  16.02         4.3085\n",
       "83  1980-10-01  11.61         4.3085"
      ]
     },
     "metadata": {},
     "output_type": "display_data"
    }
   ],
   "source": [
    "# Creates a new column that holds the historical mean of the train set \n",
    "# to naively forecast this value for each quarter of 1980.\n",
    "\n",
    "X_test.loc[:, \"forecast_mean\"] = hist_mean\n",
    "\n",
    "display(X_test)"
   ]
  },
  {
   "cell_type": "code",
   "execution_count": 12,
   "id": "fd587d32-b895-4849-b602-f8a5f1c54db7",
   "metadata": {
    "tags": []
   },
   "outputs": [
    {
     "name": "stdout",
     "output_type": "stream",
     "text": [
      "0.7\n"
     ]
    }
   ],
   "source": [
    "# Evaluates forecasting performance\n",
    "hist_mean_mape = mean_absolute_percentage_error(X_test[\"data\"], X_test[\"forecast_mean\"])\n",
    "\n",
    "print(round(hist_mean_mape,2))"
   ]
  },
  {
   "cell_type": "code",
   "execution_count": 13,
   "id": "d8d8d09c-53ad-4d6c-b981-db702e80dad3",
   "metadata": {
    "tags": []
   },
   "outputs": [
    {
     "data": {
      "text/plain": [
       "Text(0.5, 1.0, 'Forecasting using Historical Mean.')"
      ]
     },
     "execution_count": 13,
     "metadata": {},
     "output_type": "execute_result"
    },
    {
     "data": {
      "image/png": "[encoded data removed]",
      "text/plain": [
       "<Figure size 640x480 with 1 Axes>"
      ]
     },
     "metadata": {},
     "output_type": "display_data"
    }
   ],
   "source": [
    "# Plots the forecasting\n",
    "\n",
    "plt.plot(X_train['date'], X_train['data'], 'g-.', label='Train')\n",
    "plt.plot(X_test['date'], X_test['data'], 'b-', label='Test')\n",
    "plt.plot(X_test['date'], X_test['forecast_mean'], 'r--', label='Predicted')\n",
    "plt.xlabel('Date')\n",
    "plt.ylabel('Earnings per share (USD)')\n",
    "plt.axvspan(80, 83, color='#808080', alpha=0.2)\n",
    "plt.xticks(np.arange(0, 85, 8), [1960, 1962, 1964, 1966, 1968, 1970, 1972, 1974, 1976, 1978, 1980], rotation=45)\n",
    "plt.legend()\n",
    "plt.title(\"Forecasting using Historical Mean.\")\n"
   ]
  },
  {
   "cell_type": "code",
   "execution_count": null,
   "id": "21387143-51e0-4b4d-9eb7-b0f19e856919",
   "metadata": {},
   "outputs": [],
   "source": []
  },
  {
   "cell_type": "markdown",
   "id": "e641cb90-91f0-4e45-8f71-c73b1e127f44",
   "metadata": {
    "tags": []
   },
   "source": [
    "### Forecasting using Last Year's Mean\n",
    "\n",
    "It was found that forecasting using entire historical mean did not do well because earlier values do not seem to be predictive of future values in the long term because of the positive trend component in the dataset. Earlier values are too small to be representative of the new level the EPS reaches toward the end of 1979 and onwards. The followings experiment by taking the mean of the last year in the training set to forecast each quarter in the following year. The assumption will be like\n",
    "\n",
    "_If the EPS is USD 0.71 for this quarter, then the EPS will also be USD 0.71 for next quarter._"
   ]
  },
  {
   "cell_type": "code",
   "execution_count": 14,
   "id": "5be45ec3-5bad-4366-82ea-7883556fa996",
   "metadata": {
    "tags": []
   },
   "outputs": [
    {
     "name": "stdout",
     "output_type": "stream",
     "text": [
      "$ 12.96\n"
     ]
    }
   ],
   "source": [
    "# Calculates the mean of the four quarters in last year [1979] in train set \n",
    "last_year_mean = np.mean(X_train.data[-4:])\n",
    "\n",
    "print(\"$\", round(last_year_mean, 2))"
   ]
  },
  {
   "cell_type": "code",
   "execution_count": 15,
   "id": "9bdb3291-35c9-4ef1-9a3a-2641efccf52f",
   "metadata": {
    "tags": []
   },
   "outputs": [
    {
     "name": "stderr",
     "output_type": "stream",
     "text": [
      "/tmp/ipykernel_325053/1630128810.py:4: SettingWithCopyWarning: \n",
      "A value is trying to be set on a copy of a slice from a DataFrame.\n",
      "Try using .loc[row_indexer,col_indexer] = value instead\n",
      "\n",
      "See the caveats in the documentation: https://pandas.pydata.org/pandas-docs/stable/user_guide/indexing.html#returning-a-view-versus-a-copy\n",
      "  X_test.loc[:, 'forecast_last_year_mean'] = last_year_mean\n"
     ]
    }
   ],
   "source": [
    "# Creates a new column that holds the mean of the last 4 quarters \n",
    "# in 1979 to naively forecast this value for each quarter of 1980.\n",
    "\n",
    "X_test.loc[:, 'forecast_last_year_mean'] = last_year_mean"
   ]
  },
  {
   "cell_type": "code",
   "execution_count": 16,
   "id": "90a2e50b-8f98-4497-9e08-7d9f22181687",
   "metadata": {
    "tags": []
   },
   "outputs": [
    {
     "data": {
      "text/html": [
       "<div>\n",
       "<style scoped>\n",
       "    .dataframe tbody tr th:only-of-type {\n",
       "        vertical-align: middle;\n",
       "    }\n",
       "\n",
       "    .dataframe tbody tr th {\n",
       "        vertical-align: top;\n",
       "    }\n",
       "\n",
       "    .dataframe thead th {\n",
       "        text-align: right;\n",
       "    }\n",
       "</style>\n",
       "<table border=\"1\" class=\"dataframe\">\n",
       "  <thead>\n",
       "    <tr style=\"text-align: right;\">\n",
       "      <th></th>\n",
       "      <th>date</th>\n",
       "      <th>data</th>\n",
       "      <th>forecast_mean</th>\n",
       "      <th>forecast_last_year_mean</th>\n",
       "    </tr>\n",
       "  </thead>\n",
       "  <tbody>\n",
       "    <tr>\n",
       "      <th>80</th>\n",
       "      <td>1980-01-01</td>\n",
       "      <td>16.20</td>\n",
       "      <td>4.3085</td>\n",
       "      <td>12.96</td>\n",
       "    </tr>\n",
       "    <tr>\n",
       "      <th>81</th>\n",
       "      <td>1980-04-01</td>\n",
       "      <td>14.67</td>\n",
       "      <td>4.3085</td>\n",
       "      <td>12.96</td>\n",
       "    </tr>\n",
       "    <tr>\n",
       "      <th>82</th>\n",
       "      <td>1980-07-02</td>\n",
       "      <td>16.02</td>\n",
       "      <td>4.3085</td>\n",
       "      <td>12.96</td>\n",
       "    </tr>\n",
       "    <tr>\n",
       "      <th>83</th>\n",
       "      <td>1980-10-01</td>\n",
       "      <td>11.61</td>\n",
       "      <td>4.3085</td>\n",
       "      <td>12.96</td>\n",
       "    </tr>\n",
       "  </tbody>\n",
       "</table>\n",
       "</div>"
      ],
      "text/plain": [
       "          date   data  forecast_mean  forecast_last_year_mean\n",
       "80  1980-01-01  16.20         4.3085                    12.96\n",
       "81  1980-04-01  14.67         4.3085                    12.96\n",
       "82  1980-07-02  16.02         4.3085                    12.96\n",
       "83  1980-10-01  11.61         4.3085                    12.96"
      ]
     },
     "metadata": {},
     "output_type": "display_data"
    }
   ],
   "source": [
    "display(X_test)"
   ]
  },
  {
   "cell_type": "code",
   "execution_count": 17,
   "id": "24f93a68-5777-427d-ab2e-29751b17e9ef",
   "metadata": {
    "tags": []
   },
   "outputs": [
    {
     "name": "stdout",
     "output_type": "stream",
     "text": [
      "0.155963680725103\n"
     ]
    }
   ],
   "source": [
    "# Evaluates forecasting performance\n",
    "last_year_mean_mape = mean_absolute_percentage_error(X_test[\"data\"], X_test[\"forecast_last_year_mean\"])\n",
    "\n",
    "print(last_year_mean_mape)"
   ]
  },
  {
   "cell_type": "code",
   "execution_count": 18,
   "id": "93d617c6-3c00-4600-b186-6a49009208b2",
   "metadata": {
    "tags": []
   },
   "outputs": [
    {
     "data": {
      "text/plain": [
       "Text(0.5, 1.0, 'Forecasting using the Last Year Mean.')"
      ]
     },
     "execution_count": 18,
     "metadata": {},
     "output_type": "execute_result"
    },
    {
     "data": {
      "image/png": "[encoded data removed]",
      "text/plain": [
       "<Figure size 640x480 with 1 Axes>"
      ]
     },
     "metadata": {},
     "output_type": "display_data"
    }
   ],
   "source": [
    "# Plots the forecasting\n",
    "\n",
    "plt.plot(X_train['date'], X_train['data'], 'g-.', label='Train')\n",
    "plt.plot(X_test['date'], X_test['data'], 'b-', label='Test')\n",
    "plt.plot(X_test['date'], X_test['forecast_last_year_mean'], 'r--', label='Predicted')\n",
    "plt.xlabel('Date')\n",
    "plt.ylabel('Earnings per share (USD)')\n",
    "plt.axvspan(80, 83, color='#808080', alpha=0.2)\n",
    "plt.xticks(np.arange(0, 85, 8), [1960, 1962, 1964, 1966, 1968, 1970, 1972, 1974, 1976, 1978, 1980], rotation=45)\n",
    "plt.legend()\n",
    "plt.title(\"Forecasting using the Last Year Mean.\")\n"
   ]
  },
  {
   "cell_type": "markdown",
   "id": "e0a01de8-5de6-45d7-bfcf-2e2de829a334",
   "metadata": {},
   "source": [
    "This new simple baseline is a clear improvement over the previous one as MAPE was decreased from 70% to 15.6%."
   ]
  },
  {
   "cell_type": "markdown",
   "id": "ba1ac063-f905-4608-9f0d-d881a4e150c1",
   "metadata": {
    "tags": []
   },
   "source": [
    "### Forecasting using Last Known Value\n",
    "\n",
    "As best baseline has been the mean of the last recorded year in our training set, the next hypothesis that could be tested is that using the last known value of the training set as a baseline model if it provides better forecasts. The assumption will be like\n",
    "\n",
    "_If the EPS is dollar 9.99 for the last quarter of 1979, then the EPS will also be dollar 9.99 for next four quarters._"
   ]
  },
  {
   "cell_type": "code",
   "execution_count": 19,
   "id": "a0032832-afca-42b7-b242-d1ad7fc823fb",
   "metadata": {
    "tags": []
   },
   "outputs": [
    {
     "name": "stdout",
     "output_type": "stream",
     "text": [
      "$ 9.99\n"
     ]
    }
   ],
   "source": [
    "# Gets the last known value of the train set, which corresponds to the EPS for the last quarter of 1979.\n",
    "last_value = X_train.data.iloc[-1]\n",
    "\n",
    "print(\"$\", round(last_value, 2))"
   ]
  },
  {
   "cell_type": "code",
   "execution_count": 20,
   "id": "a358a40a-f1d1-4387-b189-c93fd05a35e8",
   "metadata": {
    "tags": []
   },
   "outputs": [
    {
     "name": "stderr",
     "output_type": "stream",
     "text": [
      "/tmp/ipykernel_325053/899375005.py:4: SettingWithCopyWarning: \n",
      "A value is trying to be set on a copy of a slice from a DataFrame.\n",
      "Try using .loc[row_indexer,col_indexer] = value instead\n",
      "\n",
      "See the caveats in the documentation: https://pandas.pydata.org/pandas-docs/stable/user_guide/indexing.html#returning-a-view-versus-a-copy\n",
      "  X_test.loc[:, 'forecast_last_value'] = last_value\n"
     ]
    }
   ],
   "source": [
    "# Creates a new column that holds the the last value of the last 4 quarter\n",
    "# in 1979 to naively forecast this value for each quarter of 1980.\n",
    "\n",
    "X_test.loc[:, 'forecast_last_value'] = last_value"
   ]
  },
  {
   "cell_type": "code",
   "execution_count": 21,
   "id": "4cfb8cac-1843-4cac-a75c-b19c8e809b6e",
   "metadata": {
    "tags": []
   },
   "outputs": [
    {
     "data": {
      "text/html": [
       "<div>\n",
       "<style scoped>\n",
       "    .dataframe tbody tr th:only-of-type {\n",
       "        vertical-align: middle;\n",
       "    }\n",
       "\n",
       "    .dataframe tbody tr th {\n",
       "        vertical-align: top;\n",
       "    }\n",
       "\n",
       "    .dataframe thead th {\n",
       "        text-align: right;\n",
       "    }\n",
       "</style>\n",
       "<table border=\"1\" class=\"dataframe\">\n",
       "  <thead>\n",
       "    <tr style=\"text-align: right;\">\n",
       "      <th></th>\n",
       "      <th>date</th>\n",
       "      <th>data</th>\n",
       "      <th>forecast_mean</th>\n",
       "      <th>forecast_last_year_mean</th>\n",
       "      <th>forecast_last_value</th>\n",
       "    </tr>\n",
       "  </thead>\n",
       "  <tbody>\n",
       "    <tr>\n",
       "      <th>80</th>\n",
       "      <td>1980-01-01</td>\n",
       "      <td>16.20</td>\n",
       "      <td>4.3085</td>\n",
       "      <td>12.96</td>\n",
       "      <td>9.99</td>\n",
       "    </tr>\n",
       "    <tr>\n",
       "      <th>81</th>\n",
       "      <td>1980-04-01</td>\n",
       "      <td>14.67</td>\n",
       "      <td>4.3085</td>\n",
       "      <td>12.96</td>\n",
       "      <td>9.99</td>\n",
       "    </tr>\n",
       "    <tr>\n",
       "      <th>82</th>\n",
       "      <td>1980-07-02</td>\n",
       "      <td>16.02</td>\n",
       "      <td>4.3085</td>\n",
       "      <td>12.96</td>\n",
       "      <td>9.99</td>\n",
       "    </tr>\n",
       "    <tr>\n",
       "      <th>83</th>\n",
       "      <td>1980-10-01</td>\n",
       "      <td>11.61</td>\n",
       "      <td>4.3085</td>\n",
       "      <td>12.96</td>\n",
       "      <td>9.99</td>\n",
       "    </tr>\n",
       "  </tbody>\n",
       "</table>\n",
       "</div>"
      ],
      "text/plain": [
       "          date   data  forecast_mean  forecast_last_year_mean  \\\n",
       "80  1980-01-01  16.20         4.3085                    12.96   \n",
       "81  1980-04-01  14.67         4.3085                    12.96   \n",
       "82  1980-07-02  16.02         4.3085                    12.96   \n",
       "83  1980-10-01  11.61         4.3085                    12.96   \n",
       "\n",
       "    forecast_last_value  \n",
       "80                 9.99  \n",
       "81                 9.99  \n",
       "82                 9.99  \n",
       "83                 9.99  "
      ]
     },
     "metadata": {},
     "output_type": "display_data"
    }
   ],
   "source": [
    "display(X_test)"
   ]
  },
  {
   "cell_type": "code",
   "execution_count": 22,
   "id": "3806915b-20d0-459a-8df4-1d7266bb374b",
   "metadata": {
    "tags": []
   },
   "outputs": [
    {
     "name": "stdout",
     "output_type": "stream",
     "text": [
      "0.30457277908606534\n"
     ]
    }
   ],
   "source": [
    "# Evaluates forecasting performance\n",
    "last_value_mape = mean_absolute_percentage_error(X_test[\"data\"], X_test[\"forecast_last_value\"])\n",
    "\n",
    "print(last_value_mape)"
   ]
  },
  {
   "cell_type": "code",
   "execution_count": 23,
   "id": "da84e4b7-17c2-4b41-9e1a-42557e73c437",
   "metadata": {
    "tags": []
   },
   "outputs": [
    {
     "data": {
      "text/plain": [
       "Text(0.5, 1.0, 'Forecasting using the Last Known Value.')"
      ]
     },
     "execution_count": 23,
     "metadata": {},
     "output_type": "execute_result"
    },
    {
     "data": {
      "image/png": "[encoded data removed]",
      "text/plain": [
       "<Figure size 640x480 with 1 Axes>"
      ]
     },
     "metadata": {},
     "output_type": "display_data"
    }
   ],
   "source": [
    "# Plots the forecasting\n",
    "\n",
    "plt.plot(X_train['date'], X_train['data'], 'g-.', label='Train')\n",
    "plt.plot(X_test['date'], X_test['data'], 'b-', label='Test')\n",
    "plt.plot(X_test['date'], X_test['forecast_last_value'], 'r--', label='Predicted')\n",
    "plt.xlabel('Date')\n",
    "plt.ylabel('Earnings per share (USD)')\n",
    "plt.axvspan(80, 83, color='#808080', alpha=0.2)\n",
    "plt.xticks(np.arange(0, 85, 8), [1960, 1962, 1964, 1966, 1968, 1970, 1972, 1974, 1976, 1978, 1980], rotation=45)\n",
    "plt.legend()\n",
    "plt.title(\"Forecasting using the Last Known Value.\")\n"
   ]
  },
  {
   "cell_type": "markdown",
   "id": "b3d0421d-c59c-443b-b0f1-4297eec3fd0c",
   "metadata": {},
   "source": [
    "The new hypothesis with a MAPE of 30.45% did not improve upon the last baseline that was built since and it achieved a MAPE of 15.60%."
   ]
  },
  {
   "cell_type": "markdown",
   "id": "cceb5ac7-f61d-44f5-907f-02fac91e31c5",
   "metadata": {
    "tags": []
   },
   "source": [
    "### Forecasting using Naive Seasonality\n",
    "\n",
    "As there is clear cyclical patterns in the data, this component can be considered to build a new baseline model using seasonality. The assumption will be like\n",
    "\n",
    "_If the EPS is dollar 14.04 for the first quarter of 1979, then the EPS for the first quarter of 1980 will also be dollar 14.04._"
   ]
  },
  {
   "cell_type": "code",
   "execution_count": 24,
   "id": "d878bcfb-20c7-4ec0-a313-a19b7435d226",
   "metadata": {
    "tags": []
   },
   "outputs": [
    {
     "name": "stderr",
     "output_type": "stream",
     "text": [
      "/tmp/ipykernel_325053/3836507777.py:4: SettingWithCopyWarning: \n",
      "A value is trying to be set on a copy of a slice from a DataFrame.\n",
      "Try using .loc[row_indexer,col_indexer] = value instead\n",
      "\n",
      "See the caveats in the documentation: https://pandas.pydata.org/pandas-docs/stable/user_guide/indexing.html#returning-a-view-versus-a-copy\n",
      "  X_test.loc[:, 'forecast_last_quarter'] = X_train['data'][-4:].values\n"
     ]
    }
   ],
   "source": [
    "# Copies last four values of the train set, which correspond to the four quarters of 1979,\n",
    "# and assigning them to the corresponding quarters in 1980. \n",
    "\n",
    "X_test.loc[:, 'forecast_last_quarter'] = X_train['data'][-4:].values"
   ]
  },
  {
   "cell_type": "code",
   "execution_count": 25,
   "id": "78bdd3db-0ec5-4544-a681-0ff166fc5284",
   "metadata": {
    "tags": []
   },
   "outputs": [
    {
     "data": {
      "text/html": [
       "<div>\n",
       "<style scoped>\n",
       "    .dataframe tbody tr th:only-of-type {\n",
       "        vertical-align: middle;\n",
       "    }\n",
       "\n",
       "    .dataframe tbody tr th {\n",
       "        vertical-align: top;\n",
       "    }\n",
       "\n",
       "    .dataframe thead th {\n",
       "        text-align: right;\n",
       "    }\n",
       "</style>\n",
       "<table border=\"1\" class=\"dataframe\">\n",
       "  <thead>\n",
       "    <tr style=\"text-align: right;\">\n",
       "      <th></th>\n",
       "      <th>date</th>\n",
       "      <th>data</th>\n",
       "      <th>forecast_mean</th>\n",
       "      <th>forecast_last_year_mean</th>\n",
       "      <th>forecast_last_value</th>\n",
       "      <th>forecast_last_quarter</th>\n",
       "    </tr>\n",
       "  </thead>\n",
       "  <tbody>\n",
       "    <tr>\n",
       "      <th>80</th>\n",
       "      <td>1980-01-01</td>\n",
       "      <td>16.20</td>\n",
       "      <td>4.3085</td>\n",
       "      <td>12.96</td>\n",
       "      <td>9.99</td>\n",
       "      <td>14.04</td>\n",
       "    </tr>\n",
       "    <tr>\n",
       "      <th>81</th>\n",
       "      <td>1980-04-01</td>\n",
       "      <td>14.67</td>\n",
       "      <td>4.3085</td>\n",
       "      <td>12.96</td>\n",
       "      <td>9.99</td>\n",
       "      <td>12.96</td>\n",
       "    </tr>\n",
       "    <tr>\n",
       "      <th>82</th>\n",
       "      <td>1980-07-02</td>\n",
       "      <td>16.02</td>\n",
       "      <td>4.3085</td>\n",
       "      <td>12.96</td>\n",
       "      <td>9.99</td>\n",
       "      <td>14.85</td>\n",
       "    </tr>\n",
       "    <tr>\n",
       "      <th>83</th>\n",
       "      <td>1980-10-01</td>\n",
       "      <td>11.61</td>\n",
       "      <td>4.3085</td>\n",
       "      <td>12.96</td>\n",
       "      <td>9.99</td>\n",
       "      <td>9.99</td>\n",
       "    </tr>\n",
       "  </tbody>\n",
       "</table>\n",
       "</div>"
      ],
      "text/plain": [
       "          date   data  forecast_mean  forecast_last_year_mean  \\\n",
       "80  1980-01-01  16.20         4.3085                    12.96   \n",
       "81  1980-04-01  14.67         4.3085                    12.96   \n",
       "82  1980-07-02  16.02         4.3085                    12.96   \n",
       "83  1980-10-01  11.61         4.3085                    12.96   \n",
       "\n",
       "    forecast_last_value  forecast_last_quarter  \n",
       "80                 9.99                  14.04  \n",
       "81                 9.99                  12.96  \n",
       "82                 9.99                  14.85  \n",
       "83                 9.99                   9.99  "
      ]
     },
     "metadata": {},
     "output_type": "display_data"
    }
   ],
   "source": [
    "display(X_test)"
   ]
  },
  {
   "cell_type": "code",
   "execution_count": 26,
   "id": "af0441b0-940e-4b99-97c5-06709c05712d",
   "metadata": {
    "tags": []
   },
   "outputs": [
    {
     "name": "stdout",
     "output_type": "stream",
     "text": [
      "0.11561658552433654\n"
     ]
    }
   ],
   "source": [
    "# Evaluates forecasting performance\n",
    "last_quarter_mape = mean_absolute_percentage_error(X_test[\"data\"], X_test[\"forecast_last_quarter\"])\n",
    "\n",
    "print(last_quarter_mape)"
   ]
  },
  {
   "cell_type": "code",
   "execution_count": 27,
   "id": "0991a1d3-81ca-4d28-908d-d2c74010202c",
   "metadata": {
    "tags": []
   },
   "outputs": [
    {
     "data": {
      "text/plain": [
       "Text(0.5, 1.0, 'Forecasting using the Last Quarter Value.')"
      ]
     },
     "execution_count": 27,
     "metadata": {},
     "output_type": "execute_result"
    },
    {
     "data": {
      "image/png": "[encoded data removed]",
      "text/plain": [
       "<Figure size 640x480 with 1 Axes>"
      ]
     },
     "metadata": {},
     "output_type": "display_data"
    }
   ],
   "source": [
    "# Plots the forecasting\n",
    "\n",
    "plt.plot(X_train['date'], X_train['data'], 'g-.', label='Train')\n",
    "plt.plot(X_test['date'], X_test['data'], 'b-', label='Test')\n",
    "plt.plot(X_test['date'], X_test['forecast_last_quarter'], 'r--', label='Predicted')\n",
    "plt.xlabel('Date')\n",
    "plt.ylabel('Earnings per share (USD)')\n",
    "plt.axvspan(80, 83, color='#808080', alpha=0.2)\n",
    "plt.xticks(np.arange(0, 85, 8), [1960, 1962, 1964, 1966, 1968, 1970, 1972, 1974, 1976, 1978, 1980], rotation=45)\n",
    "plt.legend()\n",
    "plt.title(\"Forecasting using the Last Quarter Value.\")\n"
   ]
  },
  {
   "cell_type": "markdown",
   "id": "49df1467-a402-4d70-8703-faea95bbc30d",
   "metadata": {},
   "source": [
    "This gives us a MAPE of 11.56%, which is the lowest MAPE from all the baselines so far."
   ]
  },
  {
   "cell_type": "code",
   "execution_count": 28,
   "id": "4f76257c-e1f7-4ea2-a9fe-9b5251b55a95",
   "metadata": {
    "tags": []
   },
   "outputs": [
    {
     "data": {
      "text/plain": [
       "Text(0.5, 1.0, 'Performance [MAPE] of the Baselines Models')"
      ]
     },
     "execution_count": 28,
     "metadata": {},
     "output_type": "execute_result"
    },
    {
     "data": {
      "image/png": "[encoded data removed]",
      "text/plain": [
       "<Figure size 640x480 with 1 Axes>"
      ]
     },
     "metadata": {},
     "output_type": "display_data"
    }
   ],
   "source": [
    "x = ['hist_mean', 'last_year_mean', 'last_value', 'naive_seasonal']\n",
    "y = [hist_mean_mape, last_year_mean_mape, last_value_mape, last_quarter_mape]\n",
    "\n",
    "plt.bar(x, y)\n",
    "plt.xlabel('Baselines')\n",
    "plt.ylabel('MAPE (%)')\n",
    "\n",
    "for idx, val in enumerate(y):\n",
    "    plt.text(x=idx, y=val+0.05, s=round(val, 2), ha=\"center\")\n",
    "    \n",
    "plt.title(\"Performance [MAPE] of the Baselines Models\")\n",
    "plt.tight_layout()\n",
    "plt.show()"
   ]
  },
  {
   "cell_type": "markdown",
   "id": "5acd82df-c1ef-408a-911d-c1e5e503c40b",
   "metadata": {},
   "source": [
    "### Observations [IN DRAFT]\n",
    "\n",
    "- In general, future values depend on past values, but not those too far back in time. It was evident from the fact that predicting the mean EPS from 1960 to 1979 yielded worse forecasts than predicting the mean EPS over 1979. \n",
    "\n",
    "- naive seasonal forecast resulted in the lowest MAPE of all the base\u0002lines we built in this chapter. This means that seasonality has a significant impact on future values, since repeating the last season into the future yields fairly accurate forecasts - clearly observe a cyclical pattern being repeated every year in figure - Seasonal effects will have to be considered when we develop a more complex forecasting model\n",
    "\n",
    "a baseline model serves as a basis for comparison compare the MAPE from a complex model against the MAPE of our naive seasonal forecast. If the MAPE of a complex model is lower than 11.56%, then we’ll know that we have a better-performing model."
   ]
  },
  {
   "cell_type": "code",
   "execution_count": null,
   "id": "b1628449-a2f9-4173-95b4-0a30d30e351c",
   "metadata": {},
   "outputs": [],
   "source": []
  }
 ],
 "metadata": {
  "accelerator": "GPU",
  "colab": {
   "gpuType": "T4",
   "provenance": []
  },
  "kernelspec": {
   "display_name": "Python 3 (ipykernel)",
   "language": "python",
   "name": "python3"
  },
  "language_info": {
   "codemirror_mode": {
    "name": "ipython",
    "version": 3
   },
   "file_extension": ".py",
   "mimetype": "text/x-python",
   "name": "python",
   "nbconvert_exporter": "python",
   "pygments_lexer": "ipython3",
   "version": "3.11.5"
  },
  "widgets": {
   "application/vnd.jupyter.widget-state+json": {
    "0bc81992e66445808609adecb89de190": {
     "model_module": "@jupyter-widgets/base",
     "model_module_version": "1.2.0",
     "model_name": "LayoutModel",
     "state": {
      "_model_module": "@jupyter-widgets/base",
      "_model_module_version": "1.2.0",
      "_model_name": "LayoutModel",
      "_view_count": null,
      "_view_module": "@jupyter-widgets/base",
      "_view_module_version": "1.2.0",
      "_view_name": "LayoutView",
      "align_content": null,
      "align_items": null,
      "align_self": null,
      "border": null,
      "bottom": null,
      "display": null,
      "flex": null,
      "flex_flow": null,
      "grid_area": null,
      "grid_auto_columns": null,
      "grid_auto_flow": null,
      "grid_auto_rows": null,
      "grid_column": null,
      "grid_gap": null,
      "grid_row": null,
      "grid_template_areas": null,
      "grid_template_columns": null,
      "grid_template_rows": null,
      "height": null,
      "justify_content": null,
      "justify_items": null,
      "left": null,
      "margin": null,
      "max_height": null,
      "max_width": null,
      "min_height": null,
      "min_width": null,
      "object_fit": null,
      "object_position": null,
      "order": null,
      "overflow": null,
      "overflow_x": null,
      "overflow_y": null,
      "padding": null,
      "right": null,
      "top": null,
      "visibility": null,
      "width": null
     }
    },
    "1dd3ea6cfda94af8a6482441bb688904": {
     "model_module": "@jupyter-widgets/controls",
     "model_module_version": "1.5.0",
     "model_name": "DescriptionStyleModel",
     "state": {
      "_model_module": "@jupyter-widgets/controls",
      "_model_module_version": "1.5.0",
      "_model_name": "DescriptionStyleModel",
      "_view_count": null,
      "_view_module": "@jupyter-widgets/base",
      "_view_module_version": "1.2.0",
      "_view_name": "StyleView",
      "description_width": ""
     }
    },
    "35ce083a927c4b07bd6d3387e75f8a7b": {
     "model_module": "@jupyter-widgets/controls",
     "model_module_version": "1.5.0",
     "model_name": "HTMLModel",
     "state": {
      "_dom_classes": [],
      "_model_module": "@jupyter-widgets/controls",
      "_model_module_version": "1.5.0",
      "_model_name": "HTMLModel",
      "_view_count": null,
      "_view_module": "@jupyter-widgets/controls",
      "_view_module_version": "1.5.0",
      "_view_name": "HTMLView",
      "description": "",
      "description_tooltip": null,
      "layout": "IPY_MODEL_f65f8c160a7c4543944d39c3de95867c",
      "placeholder": "​",
      "style": "IPY_MODEL_3d1f307dfc36427caf471e6c430b2fd5",
      "value": " 5/5 [00:20&lt;00:00,  4.05s/ file]"
     }
    },
    "3d1f307dfc36427caf471e6c430b2fd5": {
     "model_module": "@jupyter-widgets/controls",
     "model_module_version": "1.5.0",
     "model_name": "DescriptionStyleModel",
     "state": {
      "_model_module": "@jupyter-widgets/controls",
      "_model_module_version": "1.5.0",
      "_model_name": "DescriptionStyleModel",
      "_view_count": null,
      "_view_module": "@jupyter-widgets/base",
      "_view_module_version": "1.2.0",
      "_view_name": "StyleView",
      "description_width": ""
     }
    },
    "5263bde574af458b972ad5e10117a772": {
     "model_module": "@jupyter-widgets/controls",
     "model_module_version": "1.5.0",
     "model_name": "ProgressStyleModel",
     "state": {
      "_model_module": "@jupyter-widgets/controls",
      "_model_module_version": "1.5.0",
      "_model_name": "ProgressStyleModel",
      "_view_count": null,
      "_view_module": "@jupyter-widgets/base",
      "_view_module_version": "1.2.0",
      "_view_name": "StyleView",
      "bar_color": null,
      "description_width": ""
     }
    },
    "82b5516d1bfe445e815f585354ae1a5a": {
     "model_module": "@jupyter-widgets/base",
     "model_module_version": "1.2.0",
     "model_name": "LayoutModel",
     "state": {
      "_model_module": "@jupyter-widgets/base",
      "_model_module_version": "1.2.0",
      "_model_name": "LayoutModel",
      "_view_count": null,
      "_view_module": "@jupyter-widgets/base",
      "_view_module_version": "1.2.0",
      "_view_name": "LayoutView",
      "align_content": null,
      "align_items": null,
      "align_self": null,
      "border": null,
      "bottom": null,
      "display": null,
      "flex": null,
      "flex_flow": null,
      "grid_area": null,
      "grid_auto_columns": null,
      "grid_auto_flow": null,
      "grid_auto_rows": null,
      "grid_column": null,
      "grid_gap": null,
      "grid_row": null,
      "grid_template_areas": null,
      "grid_template_columns": null,
      "grid_template_rows": null,
      "height": null,
      "justify_content": null,
      "justify_items": null,
      "left": null,
      "margin": null,
      "max_height": null,
      "max_width": null,
      "min_height": null,
      "min_width": null,
      "object_fit": null,
      "object_position": null,
      "order": null,
      "overflow": null,
      "overflow_x": null,
      "overflow_y": null,
      "padding": null,
      "right": null,
      "top": null,
      "visibility": null,
      "width": null
     }
    },
    "8919da2eb4804e9a9f45403e12684971": {
     "model_module": "@jupyter-widgets/controls",
     "model_module_version": "1.5.0",
     "model_name": "HBoxModel",
     "state": {
      "_dom_classes": [],
      "_model_module": "@jupyter-widgets/controls",
      "_model_module_version": "1.5.0",
      "_model_name": "HBoxModel",
      "_view_count": null,
      "_view_module": "@jupyter-widgets/controls",
      "_view_module_version": "1.5.0",
      "_view_name": "HBoxView",
      "box_style": "",
      "children": [
       "IPY_MODEL_a252729d136743a69e598471cd1be6d2",
       "IPY_MODEL_c285ce08c1de446fb8b5a6b7cada6081",
       "IPY_MODEL_35ce083a927c4b07bd6d3387e75f8a7b"
      ],
      "layout": "IPY_MODEL_b3997e24989646af9b565b0eb83ea167"
     }
    },
    "a252729d136743a69e598471cd1be6d2": {
     "model_module": "@jupyter-widgets/controls",
     "model_module_version": "1.5.0",
     "model_name": "HTMLModel",
     "state": {
      "_dom_classes": [],
      "_model_module": "@jupyter-widgets/controls",
      "_model_module_version": "1.5.0",
      "_model_name": "HTMLModel",
      "_view_count": null,
      "_view_module": "@jupyter-widgets/controls",
      "_view_module_version": "1.5.0",
      "_view_name": "HTMLView",
      "description": "",
      "description_tooltip": null,
      "layout": "IPY_MODEL_0bc81992e66445808609adecb89de190",
      "placeholder": "​",
      "style": "IPY_MODEL_1dd3ea6cfda94af8a6482441bb688904",
      "value": "Dl Completed...: 100%"
     }
    },
    "b3997e24989646af9b565b0eb83ea167": {
     "model_module": "@jupyter-widgets/base",
     "model_module_version": "1.2.0",
     "model_name": "LayoutModel",
     "state": {
      "_model_module": "@jupyter-widgets/base",
      "_model_module_version": "1.2.0",
      "_model_name": "LayoutModel",
      "_view_count": null,
      "_view_module": "@jupyter-widgets/base",
      "_view_module_version": "1.2.0",
      "_view_name": "LayoutView",
      "align_content": null,
      "align_items": null,
      "align_self": null,
      "border": null,
      "bottom": null,
      "display": null,
      "flex": null,
      "flex_flow": null,
      "grid_area": null,
      "grid_auto_columns": null,
      "grid_auto_flow": null,
      "grid_auto_rows": null,
      "grid_column": null,
      "grid_gap": null,
      "grid_row": null,
      "grid_template_areas": null,
      "grid_template_columns": null,
      "grid_template_rows": null,
      "height": null,
      "justify_content": null,
      "justify_items": null,
      "left": null,
      "margin": null,
      "max_height": null,
      "max_width": null,
      "min_height": null,
      "min_width": null,
      "object_fit": null,
      "object_position": null,
      "order": null,
      "overflow": null,
      "overflow_x": null,
      "overflow_y": null,
      "padding": null,
      "right": null,
      "top": null,
      "visibility": null,
      "width": null
     }
    },
    "c285ce08c1de446fb8b5a6b7cada6081": {
     "model_module": "@jupyter-widgets/controls",
     "model_module_version": "1.5.0",
     "model_name": "FloatProgressModel",
     "state": {
      "_dom_classes": [],
      "_model_module": "@jupyter-widgets/controls",
      "_model_module_version": "1.5.0",
      "_model_name": "FloatProgressModel",
      "_view_count": null,
      "_view_module": "@jupyter-widgets/controls",
      "_view_module_version": "1.5.0",
      "_view_name": "ProgressView",
      "bar_style": "success",
      "description": "",
      "description_tooltip": null,
      "layout": "IPY_MODEL_82b5516d1bfe445e815f585354ae1a5a",
      "max": 5,
      "min": 0,
      "orientation": "horizontal",
      "style": "IPY_MODEL_5263bde574af458b972ad5e10117a772",
      "value": 5
     }
    },
    "f65f8c160a7c4543944d39c3de95867c": {
     "model_module": "@jupyter-widgets/base",
     "model_module_version": "1.2.0",
     "model_name": "LayoutModel",
     "state": {
      "_model_module": "@jupyter-widgets/base",
      "_model_module_version": "1.2.0",
      "_model_name": "LayoutModel",
      "_view_count": null,
      "_view_module": "@jupyter-widgets/base",
      "_view_module_version": "1.2.0",
      "_view_name": "LayoutView",
      "align_content": null,
      "align_items": null,
      "align_self": null,
      "border": null,
      "bottom": null,
      "display": null,
      "flex": null,
      "flex_flow": null,
      "grid_area": null,
      "grid_auto_columns": null,
      "grid_auto_flow": null,
      "grid_auto_rows": null,
      "grid_column": null,
      "grid_gap": null,
      "grid_row": null,
      "grid_template_areas": null,
      "grid_template_columns": null,
      "grid_template_rows": null,
      "height": null,
      "justify_content": null,
      "justify_items": null,
      "left": null,
      "margin": null,
      "max_height": null,
      "max_width": null,
      "min_height": null,
      "min_width": null,
      "object_fit": null,
      "object_position": null,
      "order": null,
      "overflow": null,
      "overflow_x": null,
      "overflow_y": null,
      "padding": null,
      "right": null,
      "top": null,
      "visibility": null,
      "width": null
     }
    }
   }
  }
 },
 "nbformat": 4,
 "nbformat_minor": 5
}
