{
 "cells": [
  {
   "cell_type": "markdown",
   "id": "2c29bfc6-8ec8-4987-b36e-781f0f997e28",
   "metadata": {
    "tags": []
   },
   "source": [
    "# CLASSIFICATION & REGRESSION MULTILAYER PERCEPTRON USING KERAS FUNCTIONAL API\n",
    "\n",
    "_**Use Keras sequential API to build and train a multiclass image classifier model, perform classification, and then evaluate performance.**_"
   ]
  },
  {
   "cell_type": "markdown",
   "id": "9a2cf734-de77-4a56-89d7-1578dd4814fa",
   "metadata": {},
   "source": [
    "## Building Complex Models using the Functional API"
   ]
  },
  {
   "cell_type": "code",
   "execution_count": 33,
   "id": "482e531d-7e23-4321-9750-e045e1b39cb8",
   "metadata": {
    "tags": []
   },
   "outputs": [],
   "source": [
    "# Imports required packages\n",
    "\n",
    "from sklearn.datasets import fetch_california_housing\n",
    "\n",
    "from sklearn.model_selection import train_test_split\n",
    "\n",
    "import tensorflow as tf"
   ]
  },
  {
   "cell_type": "markdown",
   "id": "73017890-9600-432d-9e6e-360942e0a6fb",
   "metadata": {},
   "source": [
    "### Loading Dataset"
   ]
  },
  {
   "cell_type": "code",
   "execution_count": 25,
   "id": "d55bd6ed-946c-41b1-bda2-47e3f5c72f3e",
   "metadata": {
    "tags": []
   },
   "outputs": [],
   "source": [
    "housing = fetch_california_housing()\n",
    "\n",
    "# Prepares training and testing dataset\n",
    "X_train_full, X_test, y_train_full, y_test = train_test_split(housing.data, housing.target, random_state=42)\n",
    "\n",
    "# Takes out validation dataset from training dataset\n",
    "X_train, X_val, y_train, y_val = train_test_split(X_train_full, y_train_full, random_state=42)"
   ]
  },
  {
   "cell_type": "markdown",
   "id": "da490c2c-c1cd-462e-bef1-517470f6097c",
   "metadata": {},
   "source": [
    "### Creating Model using Functional API"
   ]
  },
  {
   "cell_type": "code",
   "execution_count": 36,
   "id": "ce3ae5de-0dbe-4817-aa5b-602f092fe77b",
   "metadata": {
    "tags": []
   },
   "outputs": [],
   "source": [
    "# reset the name counters\n",
    "tf.keras.backend.clear_session()\n",
    "\n",
    "tf.random.set_seed(42)"
   ]
  },
  {
   "cell_type": "code",
   "execution_count": 39,
   "id": "4c1f61e1-25a7-4af3-99e2-15dffd0c117c",
   "metadata": {
    "tags": []
   },
   "outputs": [],
   "source": [
    "# Builds the layers\n",
    "\n",
    "input_ = tf.keras.layers.Input(shape=[8])\n",
    "normalization_layer = tf.keras.layers.Normalization()\n",
    "hidden_layer1 = tf.keras.layers.Dense(30, activation=\"relu\")\n",
    "hidden_layer2 = tf.keras.layers.Dense(30, activation=\"relu\")\n",
    "concat_layer = tf.keras.layers.Concatenate()\n",
    "output_layer = tf.keras.layers.Dense(1)"
   ]
  },
  {
   "cell_type": "code",
   "execution_count": 41,
   "id": "00f5a7dd-32b6-40ec-9d50-c571c2722a0e",
   "metadata": {
    "tags": []
   },
   "outputs": [
    {
     "name": "stderr",
     "output_type": "stream",
     "text": [
      "2024-12-10 04:46:34.273401: I tensorflow/core/common_runtime/process_util.cc:146] Creating new thread pool with default inter op setting: 2. Tune using inter_op_parallelism_threads for best performance.\n"
     ]
    }
   ],
   "source": [
    "# Organizes the layers\n",
    "\n",
    "normalized = normalization_layer(input_)\n",
    "hidden1 = hidden_layer1(normalized)\n",
    "hidden2 = hidden_layer2(hidden1)\n",
    "concat = concat_layer([normalized, hidden2])\n",
    "output = output_layer(concat)\n",
    "\n",
    "model = tf.keras.Model(inputs=[input_], outputs=[output])"
   ]
  },
  {
   "cell_type": "code",
   "execution_count": 43,
   "id": "9dd4615a-bd0d-4eab-9f63-a008478f7bb7",
   "metadata": {
    "tags": []
   },
   "outputs": [
    {
     "name": "stdout",
     "output_type": "stream",
     "text": [
      "Model: \"model\"\n",
      "__________________________________________________________________________________________________\n",
      " Layer (type)                   Output Shape         Param #     Connected to                     \n",
      "==================================================================================================\n",
      " input_1 (InputLayer)           [(None, 8)]          0           []                               \n",
      "                                                                                                  \n",
      " normalization (Normalization)  (None, 8)            17          ['input_1[0][0]']                \n",
      "                                                                                                  \n",
      " dense (Dense)                  (None, 30)           270         ['normalization[0][0]']          \n",
      "                                                                                                  \n",
      " dense_1 (Dense)                (None, 30)           930         ['dense[0][0]']                  \n",
      "                                                                                                  \n",
      " concatenate (Concatenate)      (None, 38)           0           ['normalization[0][0]',          \n",
      "                                                                  'dense_1[0][0]']                \n",
      "                                                                                                  \n",
      " dense_2 (Dense)                (None, 1)            39          ['concatenate[0][0]']            \n",
      "                                                                                                  \n",
      "==================================================================================================\n",
      "Total params: 1,256\n",
      "Trainable params: 1,239\n",
      "Non-trainable params: 17\n",
      "__________________________________________________________________________________________________\n"
     ]
    }
   ],
   "source": [
    "# Shows the model summary\n",
    "model.summary()"
   ]
  },
  {
   "cell_type": "markdown",
   "id": "765774e9-dc9c-4f6f-8eae-358e6445f718",
   "metadata": {},
   "source": [
    "### Training and Evaluating the model"
   ]
  },
  {
   "cell_type": "code",
   "execution_count": 46,
   "id": "acf63f09-bd69-4d70-8509-bf8da2c7a2e9",
   "metadata": {
    "tags": []
   },
   "outputs": [],
   "source": [
    "# Compiles the model\n",
    "optimizer = tf.keras.optimizers.Adam(learning_rate=1e-3)\n",
    "model.compile(loss=\"mse\", optimizer=optimizer, metrics=[\"RootMeanSquaredError\"])"
   ]
  },
  {
   "cell_type": "code",
   "execution_count": 48,
   "id": "8c16ffaa-ee77-4530-8870-c6b3c66e908b",
   "metadata": {
    "tags": []
   },
   "outputs": [
    {
     "name": "stdout",
     "output_type": "stream",
     "text": [
      "Epoch 1/20\n",
      "363/363 [==============================] - 2s 5ms/step - loss: 1.0630 - root_mean_squared_error: 1.0310 - val_loss: 0.6118 - val_root_mean_squared_error: 0.7822\n",
      "Epoch 2/20\n",
      "363/363 [==============================] - 1s 3ms/step - loss: 0.4522 - root_mean_squared_error: 0.6724 - val_loss: 0.4705 - val_root_mean_squared_error: 0.6859\n",
      "Epoch 3/20\n",
      "363/363 [==============================] - 1s 3ms/step - loss: 0.4057 - root_mean_squared_error: 0.6369 - val_loss: 0.8712 - val_root_mean_squared_error: 0.9334\n",
      "Epoch 4/20\n",
      "363/363 [==============================] - 1s 3ms/step - loss: 0.3823 - root_mean_squared_error: 0.6183 - val_loss: 0.4762 - val_root_mean_squared_error: 0.6901\n",
      "Epoch 5/20\n",
      "363/363 [==============================] - 1s 4ms/step - loss: 0.3674 - root_mean_squared_error: 0.6061 - val_loss: 0.5039 - val_root_mean_squared_error: 0.7099\n",
      "Epoch 6/20\n",
      "363/363 [==============================] - 1s 3ms/step - loss: 0.3549 - root_mean_squared_error: 0.5958 - val_loss: 0.3442 - val_root_mean_squared_error: 0.5867\n",
      "Epoch 7/20\n",
      "363/363 [==============================] - 1s 4ms/step - loss: 0.3471 - root_mean_squared_error: 0.5892 - val_loss: 0.3461 - val_root_mean_squared_error: 0.5883\n",
      "Epoch 8/20\n",
      "363/363 [==============================] - 1s 4ms/step - loss: 0.3399 - root_mean_squared_error: 0.5830 - val_loss: 0.3220 - val_root_mean_squared_error: 0.5675\n",
      "Epoch 9/20\n",
      "363/363 [==============================] - 1s 4ms/step - loss: 0.3362 - root_mean_squared_error: 0.5798 - val_loss: 0.3440 - val_root_mean_squared_error: 0.5865\n",
      "Epoch 10/20\n",
      "363/363 [==============================] - 1s 4ms/step - loss: 0.3322 - root_mean_squared_error: 0.5764 - val_loss: 0.4734 - val_root_mean_squared_error: 0.6881\n",
      "Epoch 11/20\n",
      "363/363 [==============================] - 1s 3ms/step - loss: 0.3253 - root_mean_squared_error: 0.5704 - val_loss: 0.7774 - val_root_mean_squared_error: 0.8817\n",
      "Epoch 12/20\n",
      "363/363 [==============================] - 1s 2ms/step - loss: 0.3366 - root_mean_squared_error: 0.5801 - val_loss: 0.8972 - val_root_mean_squared_error: 0.9472\n",
      "Epoch 13/20\n",
      "363/363 [==============================] - 1s 3ms/step - loss: 0.3223 - root_mean_squared_error: 0.5677 - val_loss: 0.2993 - val_root_mean_squared_error: 0.5471\n",
      "Epoch 14/20\n",
      "363/363 [==============================] - 1s 3ms/step - loss: 0.3164 - root_mean_squared_error: 0.5625 - val_loss: 0.2962 - val_root_mean_squared_error: 0.5443\n",
      "Epoch 15/20\n",
      "363/363 [==============================] - 1s 4ms/step - loss: 0.3156 - root_mean_squared_error: 0.5618 - val_loss: 0.3025 - val_root_mean_squared_error: 0.5500\n",
      "Epoch 16/20\n",
      "363/363 [==============================] - 2s 6ms/step - loss: 0.3146 - root_mean_squared_error: 0.5609 - val_loss: 0.3398 - val_root_mean_squared_error: 0.5829\n",
      "Epoch 17/20\n",
      "363/363 [==============================] - 1s 4ms/step - loss: 0.3104 - root_mean_squared_error: 0.5572 - val_loss: 0.7506 - val_root_mean_squared_error: 0.8664\n",
      "Epoch 18/20\n",
      "363/363 [==============================] - 1s 4ms/step - loss: 0.3105 - root_mean_squared_error: 0.5572 - val_loss: 0.4052 - val_root_mean_squared_error: 0.6365\n",
      "Epoch 19/20\n",
      "363/363 [==============================] - 1s 4ms/step - loss: 0.3046 - root_mean_squared_error: 0.5519 - val_loss: 0.7455 - val_root_mean_squared_error: 0.8634\n",
      "Epoch 20/20\n",
      "363/363 [==============================] - 1s 4ms/step - loss: 0.3155 - root_mean_squared_error: 0.5617 - val_loss: 0.8622 - val_root_mean_squared_error: 0.9285\n"
     ]
    }
   ],
   "source": [
    "# Fits the model\n",
    "normalization_layer.adapt(X_train)\n",
    "history = model.fit(X_train, y_train, epochs=20, validation_data=(X_val, y_val))"
   ]
  },
  {
   "cell_type": "code",
   "execution_count": 50,
   "id": "1904f482-6153-4707-9b37-0e6b5cfd52a6",
   "metadata": {
    "tags": []
   },
   "outputs": [
    {
     "name": "stdout",
     "output_type": "stream",
     "text": [
      "162/162 [==============================] - 1s 3ms/step - loss: 0.3122 - root_mean_squared_error: 0.5588\n",
      "[0.3122352957725525, 0.5587801933288574]\n"
     ]
    }
   ],
   "source": [
    "# Evaluates the model\n",
    "mse_test = model.evaluate(X_test, y_test)\n",
    "print(mse_test)"
   ]
  },
  {
   "cell_type": "code",
   "execution_count": 10,
   "id": "99a2bfea-1e3a-4025-a4d6-ac3be0f1f985",
   "metadata": {},
   "outputs": [
    {
     "name": "stdout",
     "output_type": "stream",
     "text": [
      "1/1 [==============================] - 0s 96ms/step\n",
      "[[0.4887748]\n",
      " [1.2239927]\n",
      " [4.5495086]]\n"
     ]
    }
   ],
   "source": [
    "# Takes first three instance from test set to make predictions\n",
    "X_new = X_test[:3]\n",
    "y_pred = model.predict(X_new)\n",
    "print(y_pred)"
   ]
  },
  {
   "cell_type": "markdown",
   "id": "ff71563d-17ab-4117-bb2c-608ecb6adc1c",
   "metadata": {},
   "source": [
    "### Training Model to Handle Multiple Outputs\n",
    "Sending different subsets of input features through the wide or deep paths.\n",
    "It sends 5 features (features 0 to 4) through wide path, and 6 features (features 2 to 7) through the deep path."
   ]
  },
  {
   "cell_type": "code",
   "execution_count": 11,
   "id": "804a5604-d9a7-4bf0-b4e6-727c36eeb65b",
   "metadata": {},
   "outputs": [],
   "source": [
    "# reset the name counters\n",
    "tf.keras.backend.clear_session()\n",
    "\n",
    "tf.random.set_seed(42)"
   ]
  },
  {
   "cell_type": "code",
   "execution_count": 12,
   "id": "93a34383-defc-4562-b6c8-48a3bf72a5a9",
   "metadata": {},
   "outputs": [],
   "source": [
    "# Builds the layers\n",
    "\n",
    "input_wide = tf.keras.layers.Input(shape=[5])  # features 0 to 4\n",
    "input_deep = tf.keras.layers.Input(shape=[6])  # features 2 to 7\n",
    "\n",
    "norm_layer_wide = tf.keras.layers.Normalization()\n",
    "norm_layer_deep = tf.keras.layers.Normalization()\n",
    "norm_wide = norm_layer_wide(input_wide)\n",
    "norm_deep = norm_layer_deep(input_deep)\n",
    "\n",
    "hidden1 = tf.keras.layers.Dense(30, activation=\"relu\")(norm_deep)\n",
    "hidden2 = tf.keras.layers.Dense(30, activation=\"relu\")(hidden1)\n",
    "\n",
    "concat = tf.keras.layers.concatenate([norm_wide, hidden2])\n",
    "\n",
    "output = tf.keras.layers.Dense(1)(concat)\n",
    "\n",
    "model = tf.keras.Model(inputs=[input_wide, input_deep], outputs=[output])"
   ]
  },
  {
   "cell_type": "code",
   "execution_count": 14,
   "id": "49d7bd9f-ef96-43df-8fb0-7b6c7f6ad250",
   "metadata": {},
   "outputs": [],
   "source": [
    "# Compiles the model\n",
    "optimizer = tf.keras.optimizers.Adam(learning_rate=1e-3)\n",
    "model.compile(loss=\"mse\", optimizer=optimizer, metrics=[\"RootMeanSquaredError\"])"
   ]
  },
  {
   "cell_type": "code",
   "execution_count": 15,
   "id": "41dfb3ec-f229-4bda-a5bb-464c27749328",
   "metadata": {},
   "outputs": [
    {
     "name": "stdout",
     "output_type": "stream",
     "text": [
      "Epoch 1/20\n",
      "363/363 [==============================] - 2s 4ms/step - loss: 1.5143 - root_mean_squared_error: 1.2306 - val_loss: 4.0228 - val_root_mean_squared_error: 2.0057\n",
      "Epoch 2/20\n",
      "363/363 [==============================] - 1s 3ms/step - loss: 0.4908 - root_mean_squared_error: 0.7006 - val_loss: 1.1207 - val_root_mean_squared_error: 1.0586\n",
      "Epoch 3/20\n",
      "363/363 [==============================] - 2s 4ms/step - loss: 0.4264 - root_mean_squared_error: 0.6530 - val_loss: 0.4734 - val_root_mean_squared_error: 0.6880\n",
      "Epoch 4/20\n",
      "363/363 [==============================] - 1s 4ms/step - loss: 0.4078 - root_mean_squared_error: 0.6386 - val_loss: 0.3755 - val_root_mean_squared_error: 0.6128\n",
      "Epoch 5/20\n",
      "363/363 [==============================] - 1s 3ms/step - loss: 0.3965 - root_mean_squared_error: 0.6297 - val_loss: 0.3766 - val_root_mean_squared_error: 0.6137\n",
      "Epoch 6/20\n",
      "363/363 [==============================] - 2s 4ms/step - loss: 0.3865 - root_mean_squared_error: 0.6217 - val_loss: 0.3669 - val_root_mean_squared_error: 0.6057\n",
      "Epoch 7/20\n",
      "363/363 [==============================] - 1s 4ms/step - loss: 0.3800 - root_mean_squared_error: 0.6164 - val_loss: 0.3482 - val_root_mean_squared_error: 0.5901\n",
      "Epoch 8/20\n",
      "363/363 [==============================] - 2s 4ms/step - loss: 0.3661 - root_mean_squared_error: 0.6051 - val_loss: 0.3615 - val_root_mean_squared_error: 0.6012\n",
      "Epoch 9/20\n",
      "363/363 [==============================] - 1s 3ms/step - loss: 0.3577 - root_mean_squared_error: 0.5981 - val_loss: 0.5829 - val_root_mean_squared_error: 0.7635\n",
      "Epoch 10/20\n",
      "363/363 [==============================] - 1s 3ms/step - loss: 0.3580 - root_mean_squared_error: 0.5983 - val_loss: 0.4379 - val_root_mean_squared_error: 0.6618\n",
      "Epoch 11/20\n",
      "363/363 [==============================] - 1s 3ms/step - loss: 0.3492 - root_mean_squared_error: 0.5910 - val_loss: 0.4360 - val_root_mean_squared_error: 0.6603\n",
      "Epoch 12/20\n",
      "363/363 [==============================] - 1s 4ms/step - loss: 0.3489 - root_mean_squared_error: 0.5907 - val_loss: 0.4155 - val_root_mean_squared_error: 0.6446\n",
      "Epoch 13/20\n",
      "363/363 [==============================] - 1s 4ms/step - loss: 0.3434 - root_mean_squared_error: 0.5860 - val_loss: 0.8283 - val_root_mean_squared_error: 0.9101\n",
      "Epoch 14/20\n",
      "363/363 [==============================] - 2s 4ms/step - loss: 0.3437 - root_mean_squared_error: 0.5863 - val_loss: 2.5122 - val_root_mean_squared_error: 1.5850\n",
      "Epoch 15/20\n",
      "363/363 [==============================] - 1s 4ms/step - loss: 0.3494 - root_mean_squared_error: 0.5911 - val_loss: 5.2102 - val_root_mean_squared_error: 2.2826\n",
      "Epoch 16/20\n",
      "363/363 [==============================] - 1s 3ms/step - loss: 0.3626 - root_mean_squared_error: 0.6022 - val_loss: 1.9767 - val_root_mean_squared_error: 1.4060\n",
      "Epoch 17/20\n",
      "363/363 [==============================] - 1s 3ms/step - loss: 0.3472 - root_mean_squared_error: 0.5893 - val_loss: 0.8420 - val_root_mean_squared_error: 0.9176\n",
      "Epoch 18/20\n",
      "363/363 [==============================] - 1s 4ms/step - loss: 0.3305 - root_mean_squared_error: 0.5749 - val_loss: 0.3204 - val_root_mean_squared_error: 0.5660\n",
      "Epoch 19/20\n",
      "363/363 [==============================] - 2s 4ms/step - loss: 0.3294 - root_mean_squared_error: 0.5739 - val_loss: 0.4017 - val_root_mean_squared_error: 0.6338\n",
      "Epoch 20/20\n",
      "363/363 [==============================] - 1s 4ms/step - loss: 0.3275 - root_mean_squared_error: 0.5723 - val_loss: 0.3115 - val_root_mean_squared_error: 0.5581\n"
     ]
    }
   ],
   "source": [
    "# Trains and evaluates the model\n",
    "\n",
    "X_train_wide, X_train_deep = X_train[:, :5], X_train[:, 2:]\n",
    "X_val_wide, X_val_deep = X_val[:, :5], X_val[:, 2:]\n",
    "X_test_wide, X_test_deep = X_test[:, :5], X_test[:, 2:]\n",
    "\n",
    "norm_layer_wide.adapt(X_train_wide)\n",
    "norm_layer_deep.adapt(X_train_deep)\n",
    "\n",
    "history = model.fit((X_train_wide, X_train_deep), y_train, epochs=20,\n",
    "                    validation_data=((X_val_wide, X_val_deep), y_val))"
   ]
  },
  {
   "cell_type": "code",
   "execution_count": 16,
   "id": "0258fa93-a475-49dd-ab0d-bd04449534f3",
   "metadata": {},
   "outputs": [
    {
     "name": "stdout",
     "output_type": "stream",
     "text": [
      "162/162 [==============================] - 1s 4ms/step - loss: 0.3280 - root_mean_squared_error: 0.5727\n",
      "[0.3280080258846283, 0.5727198719978333]\n"
     ]
    }
   ],
   "source": [
    "# Evauates the model\n",
    "\n",
    "X_new_wide, X_new_deep = X_test_wide[:3], X_test_deep[:3]\n",
    "mse_test = model.evaluate((X_test_wide, X_test_deep), y_test)\n",
    "print(mse_test)"
   ]
  },
  {
   "cell_type": "markdown",
   "id": "b5122c78-ca55-4cdb-b751-3231d23905d3",
   "metadata": {},
   "source": [
    "### Saving and Restoring the Model"
   ]
  },
  {
   "cell_type": "code",
   "execution_count": 17,
   "id": "41907e84-520c-4a23-bca8-6cec927efb5f",
   "metadata": {},
   "outputs": [
    {
     "name": "stderr",
     "output_type": "stream",
     "text": [
      "WARNING:absl:Found untraced functions such as _update_step_xla while saving (showing 1 of 1). These functions will not be directly callable after loading.\n"
     ]
    },
    {
     "name": "stdout",
     "output_type": "stream",
     "text": [
      "INFO:tensorflow:Assets written to: my_MLP_regression_model/assets\n"
     ]
    },
    {
     "name": "stderr",
     "output_type": "stream",
     "text": [
      "INFO:tensorflow:Assets written to: my_MLP_regression_model/assets\n"
     ]
    }
   ],
   "source": [
    "# Saves the model\n",
    "model.save(\"my_MLP_regression_model.keras\")"
   ]
  },
  {
   "cell_type": "code",
   "execution_count": 20,
   "id": "ace510c7-7986-4873-966a-268ae9e5be1e",
   "metadata": {},
   "outputs": [],
   "source": [
    "# Loads the model back\n",
    "model = tf.keras.models.load_model(\"my_MLP_regression_model.keras\")"
   ]
  },
  {
   "cell_type": "code",
   "execution_count": 27,
   "id": "0c4ddb2a-a023-4eb7-a31c-5d0aeca0190d",
   "metadata": {},
   "outputs": [
    {
     "name": "stdout",
     "output_type": "stream",
     "text": [
      "162/162 [==============================] - 0s 2ms/step\n"
     ]
    }
   ],
   "source": [
    "# Makes predictions after model was loaded\n",
    "y_pred = model.predict((X_test_wide, X_test_deep))"
   ]
  },
  {
   "cell_type": "markdown",
   "id": "a54cd97e-b89d-4f5c-a4e8-22a3f7c51499",
   "metadata": {},
   "source": [
    "### Using Callbacks"
   ]
  },
  {
   "cell_type": "code",
   "execution_count": 28,
   "id": "4fb60c73-590e-4520-8294-48e2c0eff148",
   "metadata": {},
   "outputs": [
    {
     "name": "stdout",
     "output_type": "stream",
     "text": [
      "Epoch 1/10\n",
      "363/363 [==============================] - 3s 6ms/step - loss: 0.3265 - root_mean_squared_error: 0.5714 - val_loss: 0.6619 - val_root_mean_squared_error: 0.8136\n",
      "Epoch 2/10\n",
      "363/363 [==============================] - 2s 5ms/step - loss: 0.3308 - root_mean_squared_error: 0.5752 - val_loss: 1.0362 - val_root_mean_squared_error: 1.0179\n",
      "Epoch 3/10\n",
      "363/363 [==============================] - 2s 5ms/step - loss: 0.3266 - root_mean_squared_error: 0.5715 - val_loss: 0.5679 - val_root_mean_squared_error: 0.7536\n",
      "Epoch 4/10\n",
      "363/363 [==============================] - 2s 5ms/step - loss: 0.3236 - root_mean_squared_error: 0.5689 - val_loss: 1.1729 - val_root_mean_squared_error: 1.0830\n",
      "Epoch 5/10\n",
      "363/363 [==============================] - 1s 3ms/step - loss: 0.3259 - root_mean_squared_error: 0.5709 - val_loss: 1.5420 - val_root_mean_squared_error: 1.2418\n",
      "Epoch 6/10\n",
      "363/363 [==============================] - 1s 3ms/step - loss: 0.3292 - root_mean_squared_error: 0.5737 - val_loss: 0.7782 - val_root_mean_squared_error: 0.8822\n",
      "Epoch 7/10\n",
      "363/363 [==============================] - 1s 3ms/step - loss: 0.3192 - root_mean_squared_error: 0.5650 - val_loss: 0.3223 - val_root_mean_squared_error: 0.5677\n",
      "Epoch 8/10\n",
      "363/363 [==============================] - 1s 3ms/step - loss: 0.3140 - root_mean_squared_error: 0.5604 - val_loss: 0.4384 - val_root_mean_squared_error: 0.6621\n",
      "Epoch 9/10\n",
      "363/363 [==============================] - 1s 3ms/step - loss: 0.3118 - root_mean_squared_error: 0.5584 - val_loss: 0.3032 - val_root_mean_squared_error: 0.5507\n",
      "Epoch 10/10\n",
      "363/363 [==============================] - 1s 3ms/step - loss: 0.3155 - root_mean_squared_error: 0.5617 - val_loss: 0.3912 - val_root_mean_squared_error: 0.6255\n"
     ]
    }
   ],
   "source": [
    "# Configures the checkpoint\n",
    "checkpoint_cb = tf.keras.callbacks.ModelCheckpoint(\"my_checkpoints\", save_weights_only=True)\n",
    "\n",
    "# Fits the model with checkpoint callback set\n",
    "history = model.fit(\n",
    "    (X_train_wide, X_train_deep), (y_train, y_train), epochs=10,\n",
    "    validation_data=((X_val_wide, X_val_deep), (y_val, y_val)),\n",
    "    callbacks=[checkpoint_cb])"
   ]
  },
  {
   "cell_type": "code",
   "execution_count": 29,
   "id": "8fce3f9d-f73b-400c-a3be-d4c60a6a8fb3",
   "metadata": {},
   "outputs": [
    {
     "name": "stdout",
     "output_type": "stream",
     "text": [
      "Epoch 1/100\n",
      "363/363 [==============================] - 2s 5ms/step - loss: 0.3110 - root_mean_squared_error: 0.5577 - val_loss: 0.3645 - val_root_mean_squared_error: 0.6037\n",
      "Epoch 2/100\n",
      "363/363 [==============================] - 2s 4ms/step - loss: 0.3113 - root_mean_squared_error: 0.5579 - val_loss: 0.8973 - val_root_mean_squared_error: 0.9473\n",
      "Epoch 3/100\n",
      "363/363 [==============================] - 1s 4ms/step - loss: 0.3161 - root_mean_squared_error: 0.5623 - val_loss: 0.5264 - val_root_mean_squared_error: 0.7256\n",
      "Epoch 4/100\n",
      "363/363 [==============================] - 2s 6ms/step - loss: 0.3127 - root_mean_squared_error: 0.5592 - val_loss: 1.1359 - val_root_mean_squared_error: 1.0658\n",
      "Epoch 5/100\n",
      "363/363 [==============================] - 2s 4ms/step - loss: 0.3157 - root_mean_squared_error: 0.5618 - val_loss: 1.2456 - val_root_mean_squared_error: 1.1160\n",
      "Epoch 6/100\n",
      "363/363 [==============================] - 1s 4ms/step - loss: 0.3145 - root_mean_squared_error: 0.5608 - val_loss: 0.6281 - val_root_mean_squared_error: 0.7925\n",
      "Epoch 7/100\n",
      "363/363 [==============================] - 1s 4ms/step - loss: 0.3081 - root_mean_squared_error: 0.5551 - val_loss: 0.3077 - val_root_mean_squared_error: 0.5547\n",
      "Epoch 8/100\n",
      "363/363 [==============================] - 1s 4ms/step - loss: 0.3042 - root_mean_squared_error: 0.5515 - val_loss: 0.3427 - val_root_mean_squared_error: 0.5854\n",
      "Epoch 9/100\n",
      "363/363 [==============================] - 2s 4ms/step - loss: 0.3022 - root_mean_squared_error: 0.5497 - val_loss: 0.2982 - val_root_mean_squared_error: 0.5461\n",
      "Epoch 10/100\n",
      "363/363 [==============================] - 2s 5ms/step - loss: 0.3053 - root_mean_squared_error: 0.5526 - val_loss: 0.3328 - val_root_mean_squared_error: 0.5769\n",
      "Epoch 11/100\n",
      "363/363 [==============================] - 2s 5ms/step - loss: 0.3011 - root_mean_squared_error: 0.5487 - val_loss: 0.2993 - val_root_mean_squared_error: 0.5471\n",
      "Epoch 12/100\n",
      "363/363 [==============================] - 2s 4ms/step - loss: 0.3043 - root_mean_squared_error: 0.5517 - val_loss: 0.7120 - val_root_mean_squared_error: 0.8438\n",
      "Epoch 13/100\n",
      "363/363 [==============================] - 2s 4ms/step - loss: 0.3035 - root_mean_squared_error: 0.5509 - val_loss: 0.5467 - val_root_mean_squared_error: 0.7394\n",
      "Epoch 14/100\n",
      "363/363 [==============================] - 1s 3ms/step - loss: 0.3021 - root_mean_squared_error: 0.5496 - val_loss: 0.9093 - val_root_mean_squared_error: 0.9536\n",
      "Epoch 15/100\n",
      "363/363 [==============================] - 1s 3ms/step - loss: 0.3033 - root_mean_squared_error: 0.5507 - val_loss: 0.6271 - val_root_mean_squared_error: 0.7919\n",
      "Epoch 16/100\n",
      "363/363 [==============================] - 1s 4ms/step - loss: 0.3018 - root_mean_squared_error: 0.5493 - val_loss: 0.7644 - val_root_mean_squared_error: 0.8743\n",
      "Epoch 17/100\n",
      "363/363 [==============================] - 2s 4ms/step - loss: 0.3038 - root_mean_squared_error: 0.5512 - val_loss: 0.4413 - val_root_mean_squared_error: 0.6643\n",
      "Epoch 18/100\n",
      "363/363 [==============================] - 1s 4ms/step - loss: 0.2991 - root_mean_squared_error: 0.5469 - val_loss: 0.8562 - val_root_mean_squared_error: 0.9253\n",
      "Epoch 19/100\n",
      "363/363 [==============================] - 1s 4ms/step - loss: 0.3024 - root_mean_squared_error: 0.5499 - val_loss: 0.4639 - val_root_mean_squared_error: 0.6811\n"
     ]
    }
   ],
   "source": [
    "# Configures early stopping\n",
    "early_stopping_cb = tf.keras.callbacks.EarlyStopping(patience=10, restore_best_weights=True)\n",
    "\n",
    "# Fits the model with both checkpoint and early stopping callback set\n",
    "history = model.fit(\n",
    "    (X_train_wide, X_train_deep), (y_train, y_train), epochs=100,\n",
    "    validation_data=((X_val_wide, X_val_deep), (y_val, y_val)),\n",
    "    callbacks=[checkpoint_cb, early_stopping_cb])"
   ]
  },
  {
   "cell_type": "markdown",
   "id": "12b999fe-89fb-437f-9e9c-e90506f914c0",
   "metadata": {},
   "source": [
    "### Using TensorBoard for Visualization"
   ]
  },
  {
   "cell_type": "code",
   "execution_count": 31,
   "id": "6e60f188-48ef-44c0-b0c7-3368e7a95a79",
   "metadata": {},
   "outputs": [],
   "source": [
    "# reset the name counters\n",
    "tf.keras.backend.clear_session()\n",
    "\n",
    "tf.random.set_seed(42)"
   ]
  },
  {
   "cell_type": "code",
   "execution_count": 32,
   "id": "84534763-dbac-4642-85b7-0d92a7d75989",
   "metadata": {},
   "outputs": [],
   "source": [
    "# Buils model using Sequential API\n",
    "\n",
    "norm_layer = tf.keras.layers.Normalization(input_shape=X_train.shape[1:])\n",
    "model = tf.keras.Sequential([\n",
    "    norm_layer,\n",
    "    tf.keras.layers.Dense(30, activation=\"relu\"),\n",
    "    tf.keras.layers.Dense(30, activation=\"relu\"),\n",
    "    tf.keras.layers.Dense(1)\n",
    "])"
   ]
  },
  {
   "cell_type": "code",
   "execution_count": 33,
   "id": "102b996c-80a6-4f03-9f7e-19243cccbbc6",
   "metadata": {},
   "outputs": [],
   "source": [
    "# Compiles the model\n",
    "\n",
    "optimizer = tf.keras.optimizers.SGD(learning_rate=1e-3)\n",
    "model.compile(loss=\"mse\", optimizer=optimizer, metrics=[\"RootMeanSquaredError\"])"
   ]
  },
  {
   "cell_type": "code",
   "execution_count": 38,
   "id": "aea18084-afeb-4cfa-9ca4-29accea2a2dd",
   "metadata": {},
   "outputs": [
    {
     "name": "stdout",
     "output_type": "stream",
     "text": [
      "Epoch 1/20\n"
     ]
    },
    {
     "name": "stderr",
     "output_type": "stream",
     "text": [
      "2024-02-12 15:19:51.569072: I tensorflow/tsl/profiler/lib/profiler_session.cc:104] Profiler session initializing.\n",
      "2024-02-12 15:19:51.569151: I tensorflow/tsl/profiler/lib/profiler_session.cc:119] Profiler session started.\n",
      "2024-02-12 15:19:51.569913: I tensorflow/tsl/profiler/lib/profiler_session.cc:131] Profiler session tear down.\n"
     ]
    },
    {
     "name": "stdout",
     "output_type": "stream",
     "text": [
      "134/363 [==========>...................] - ETA: 0s - loss: 3.3321 - root_mean_squared_error: 1.8254"
     ]
    },
    {
     "name": "stderr",
     "output_type": "stream",
     "text": [
      "2024-02-12 15:19:52.304718: I tensorflow/tsl/profiler/lib/profiler_session.cc:104] Profiler session initializing.\n",
      "2024-02-12 15:19:52.304780: I tensorflow/tsl/profiler/lib/profiler_session.cc:119] Profiler session started.\n"
     ]
    },
    {
     "name": "stdout",
     "output_type": "stream",
     "text": [
      "229/363 [=================>............] - ETA: 0s - loss: 3.1019 - root_mean_squared_error: 1.7612"
     ]
    },
    {
     "name": "stderr",
     "output_type": "stream",
     "text": [
      "2024-02-12 15:19:53.122193: I tensorflow/tsl/profiler/lib/profiler_session.cc:70] Profiler session collecting data.\n",
      "2024-02-12 15:19:53.153610: I tensorflow/tsl/profiler/lib/profiler_session.cc:131] Profiler session tear down.\n",
      "2024-02-12 15:19:53.158700: I tensorflow/tsl/profiler/rpc/client/save_profile.cc:144] Collecting XSpace to repository: ./logs/2024.02.12-15:19:51/plugins/profile/2024_02_12_15_19_53/pradip-Lenovo-V15-G4-AMN.xplane.pb\n"
     ]
    },
    {
     "name": "stdout",
     "output_type": "stream",
     "text": [
      "363/363 [==============================] - 2s 6ms/step - loss: 2.4238 - root_mean_squared_error: 1.5569 - val_loss: 1.8063 - val_root_mean_squared_error: 1.3440\n",
      "Epoch 2/20\n",
      "363/363 [==============================] - 1s 3ms/step - loss: 0.7659 - root_mean_squared_error: 0.8752 - val_loss: 0.7471 - val_root_mean_squared_error: 0.8643\n",
      "Epoch 3/20\n",
      "363/363 [==============================] - 1s 4ms/step - loss: 0.6568 - root_mean_squared_error: 0.8104 - val_loss: 0.6814 - val_root_mean_squared_error: 0.8255\n",
      "Epoch 4/20\n",
      "363/363 [==============================] - 1s 4ms/step - loss: 0.6168 - root_mean_squared_error: 0.7854 - val_loss: 0.5633 - val_root_mean_squared_error: 0.7506\n",
      "Epoch 5/20\n",
      "363/363 [==============================] - 1s 4ms/step - loss: 0.5861 - root_mean_squared_error: 0.7656 - val_loss: 0.5383 - val_root_mean_squared_error: 0.7337\n",
      "Epoch 6/20\n",
      "363/363 [==============================] - 1s 4ms/step - loss: 0.5586 - root_mean_squared_error: 0.7474 - val_loss: 0.5096 - val_root_mean_squared_error: 0.7139\n",
      "Epoch 7/20\n",
      "363/363 [==============================] - 1s 3ms/step - loss: 0.5351 - root_mean_squared_error: 0.7315 - val_loss: 0.4937 - val_root_mean_squared_error: 0.7026\n",
      "Epoch 8/20\n",
      "363/363 [==============================] - 2s 5ms/step - loss: 0.5143 - root_mean_squared_error: 0.7172 - val_loss: 0.4779 - val_root_mean_squared_error: 0.6913\n",
      "Epoch 9/20\n",
      "363/363 [==============================] - 2s 5ms/step - loss: 0.4954 - root_mean_squared_error: 0.7039 - val_loss: 0.4550 - val_root_mean_squared_error: 0.6746\n",
      "Epoch 10/20\n",
      "363/363 [==============================] - 1s 4ms/step - loss: 0.4797 - root_mean_squared_error: 0.6926 - val_loss: 0.4390 - val_root_mean_squared_error: 0.6626\n",
      "Epoch 11/20\n",
      "363/363 [==============================] - 1s 3ms/step - loss: 0.4670 - root_mean_squared_error: 0.6834 - val_loss: 0.4898 - val_root_mean_squared_error: 0.6999\n",
      "Epoch 12/20\n",
      "363/363 [==============================] - 2s 4ms/step - loss: 0.4558 - root_mean_squared_error: 0.6751 - val_loss: 0.4192 - val_root_mean_squared_error: 0.6475\n",
      "Epoch 13/20\n",
      "363/363 [==============================] - 1s 4ms/step - loss: 0.4465 - root_mean_squared_error: 0.6682 - val_loss: 0.4240 - val_root_mean_squared_error: 0.6512\n",
      "Epoch 14/20\n",
      "363/363 [==============================] - 1s 3ms/step - loss: 0.4386 - root_mean_squared_error: 0.6623 - val_loss: 0.4217 - val_root_mean_squared_error: 0.6494\n",
      "Epoch 15/20\n",
      "363/363 [==============================] - 2s 5ms/step - loss: 0.4319 - root_mean_squared_error: 0.6572 - val_loss: 0.4366 - val_root_mean_squared_error: 0.6608\n",
      "Epoch 16/20\n",
      "363/363 [==============================] - 2s 5ms/step - loss: 0.4263 - root_mean_squared_error: 0.6529 - val_loss: 0.4095 - val_root_mean_squared_error: 0.6399\n",
      "Epoch 17/20\n",
      "363/363 [==============================] - 1s 4ms/step - loss: 0.4214 - root_mean_squared_error: 0.6491 - val_loss: 0.4563 - val_root_mean_squared_error: 0.6755\n",
      "Epoch 18/20\n",
      "363/363 [==============================] - 1s 4ms/step - loss: 0.4170 - root_mean_squared_error: 0.6457 - val_loss: 0.4659 - val_root_mean_squared_error: 0.6826\n",
      "Epoch 19/20\n",
      "363/363 [==============================] - 2s 4ms/step - loss: 0.4129 - root_mean_squared_error: 0.6425 - val_loss: 0.4246 - val_root_mean_squared_error: 0.6516\n",
      "Epoch 20/20\n",
      "363/363 [==============================] - 1s 4ms/step - loss: 0.4095 - root_mean_squared_error: 0.6399 - val_loss: 0.5240 - val_root_mean_squared_error: 0.7239\n"
     ]
    }
   ],
   "source": [
    "# Adapts to train data by finding its feature wise mean and variance\n",
    "norm_layer.adapt(X_train)\n",
    "\n",
    "# Create log dir for TensorBoard to store logs\n",
    "# Timestamp is used in naming subdirectory to seperate training experiments\n",
    "log_dir = \"./logs/\" + datetime.datetime.now().strftime(\"%Y.%m.%d-%H:%M:%S\")\n",
    "tensorboard_cb = tf.keras.callbacks.TensorBoard(log_dir, profile_batch=(100, 200))\n",
    "\n",
    "# Trains the model\n",
    "history = model.fit(X_train, y_train, epochs=20,\n",
    "                    validation_data=(X_val, y_val),\n",
    "                    callbacks=[tensorboard_cb])"
   ]
  },
  {
   "cell_type": "code",
   "execution_count": null,
   "id": "62b19c3f-1d87-4a72-b569-06a800f447d8",
   "metadata": {},
   "outputs": [],
   "source": []
  },
  {
   "cell_type": "markdown",
   "id": "d0e2a77b-470a-4264-9597-b0bdbb387efd",
   "metadata": {},
   "source": [
    "\n",
    "The following magic command loads TensorBoard directly into the Jupyter.\n",
    "\n",
    "[**PACKAGE REQUIREMENT:** Refer repository README to find relevant information on the installtion of Tensorboard package.]\n",
    "\n",
    "`%load_ext tensorboard`\n",
    "\n",
    "`%tensorboard --logdir=./logs`\n",
    "\n",
    "TensorBoard can also be accessed through browser by executing the following command in the terminal.\n",
    "\n",
    "`tensorboard --logdir=./logs`"
   ]
  },
  {
   "cell_type": "markdown",
   "id": "310e9755-c3f1-492b-b059-d248873c564b",
   "metadata": {},
   "source": [
    "## Fine-Tuning Neural Network Hyperparameters"
   ]
  },
  {
   "cell_type": "code",
   "execution_count": 148,
   "id": "93c66b07-4dc4-4be6-8b46-b9daf8d434b8",
   "metadata": {
    "tags": []
   },
   "outputs": [],
   "source": [
    "# Imports required packages\n",
    "\n",
    "import tensorflow as tf\n",
    "\n",
    "from tensorflow.keras.datasets import fashion_mnist\n",
    "\n",
    "from sklearn.model_selection import train_test_split\n",
    "\n",
    "import keras_tuner as kt"
   ]
  },
  {
   "cell_type": "markdown",
   "id": "a691a7b6-6d03-45d7-bfb3-cf86bc47cf08",
   "metadata": {},
   "source": [
    "#### Loading Dataset"
   ]
  },
  {
   "cell_type": "code",
   "execution_count": 151,
   "id": "7c04ea72-dd38-449f-b601-d9131dfc34f0",
   "metadata": {
    "tags": []
   },
   "outputs": [],
   "source": [
    "# Prepares training and testing dataset\n",
    "\n",
    "(X_train_full, y_train_full), (X_test, y_test) = fashion_mnist.load_data()\n",
    "\n",
    "# Takes out validation dataset from training dataset\n",
    "X_train, X_val, y_train, y_val = train_test_split(\n",
    "    X_train_full, y_train_full, test_size=5000, random_state=42, stratify=y_train_full)"
   ]
  },
  {
   "cell_type": "markdown",
   "id": "b7af32e3-2bbf-4cfb-b276-338ca9718a91",
   "metadata": {},
   "source": [
    "#### Searching for hyperparameters"
   ]
  },
  {
   "cell_type": "code",
   "execution_count": 154,
   "id": "2c9c3ceb-099a-4209-af51-78af7225879f",
   "metadata": {
    "tags": []
   },
   "outputs": [],
   "source": [
    "# reset the name counters\n",
    "tf.keras.backend.clear_session()\n",
    "tf.random.set_seed(42)"
   ]
  },
  {
   "cell_type": "code",
   "execution_count": 156,
   "id": "80b3d979-e10c-4985-8313-25b34af4dfd7",
   "metadata": {
    "tags": []
   },
   "outputs": [],
   "source": [
    "def build_model(hp):\n",
    "    \"\"\"\n",
    "    A callable that takes hyperparameters and returns a model instance\n",
    "    \"\"\"\n",
    "    \n",
    "    n_hidden = hp.Int(\"n_hidden\", min_value=0, max_value=8, default=2)\n",
    "    n_neurons = hp.Int(\"n_neurons\", min_value=16, max_value=256)\n",
    "    \n",
    "    learning_rate = hp.Float(\"learning_rate\", min_value=1e-4, \n",
    "                             max_value=1e-2, sampling=\"log\")\n",
    "    \n",
    "    optimizer = hp.Choice(\"optimizer\", values=[\"sgd\", \"adam\"])\n",
    "    if optimizer == \"sgd\":\n",
    "        optimizer = tf.keras.optimizers.SGD(learning_rate=learning_rate)\n",
    "    else:\n",
    "        optimizer = tf.keras.optimizers.Adam(learning_rate=learning_rate)\n",
    "\n",
    "    # Builds the model from the above hyperparameters\n",
    "    model = tf.keras.Sequential()\n",
    "    model.add(tf.keras.layers.Flatten())\n",
    "    for _ in range(n_hidden):\n",
    "        model.add(tf.keras.layers.Dense(n_neurons, activation=\"relu\"))\n",
    "    model.add(tf.keras.layers.Dense(10, activation=\"softmax\"))\n",
    "    model.compile(loss=\"sparse_categorical_crossentropy\", \n",
    "                  optimizer=optimizer, metrics=[\"accuracy\"])\n",
    "    \n",
    "    return model"
   ]
  },
  {
   "cell_type": "code",
   "execution_count": 158,
   "id": "372ce920-4357-47fb-9a63-eff71f63f4b1",
   "metadata": {
    "tags": []
   },
   "outputs": [],
   "source": [
    "# Performs a basic random search for hyperparameters\n",
    "\n",
    "random_search_tuner = kt.RandomSearch(\n",
    "    build_model,                                       # Callable that takes hyperparameters and returns a Model instance\n",
    "    objective=\"val_accuracy\",                          # Metric to maximize \n",
    "    max_trials=5,                                      # Total number of trials (model configurations) to test at most\n",
    "    directory=\"my_fashion_mnist\",                      # Relative path to the working directory\n",
    "    project_name=\"hyperparameters_random_search\",   # Name to use as prefix for files saved by this Tuner.\n",
    "    overwrite=True,                                    #  Overwrites tuning project files\n",
    "    seed=42\n",
    ")  "
   ]
  },
  {
   "cell_type": "code",
   "execution_count": 160,
   "id": "5447ff70-1372-4301-bab4-e1756d650076",
   "metadata": {
    "tags": []
   },
   "outputs": [
    {
     "name": "stdout",
     "output_type": "stream",
     "text": [
      "Trial 5 Complete [00h 01m 38s]\n",
      "val_accuracy: 0.8532000184059143\n",
      "\n",
      "Best val_accuracy So Far: 0.8723999857902527\n",
      "Total elapsed time: 00h 10m 42s\n"
     ]
    }
   ],
   "source": [
    "# Performs searching for best hyperparameters.\n",
    "random_search_tuner.search(X_train, y_train, epochs=10, validation_data=(X_val, y_val))"
   ]
  },
  {
   "cell_type": "code",
   "execution_count": 162,
   "id": "62842dc9-950e-4c56-8db0-36476616a05d",
   "metadata": {
    "tags": []
   },
   "outputs": [],
   "source": [
    "# Receives top 3 models\n",
    "top3_models = random_search_tuner.get_best_models(num_models=3)\n",
    "\n",
    "best_model = top3_models[0]  # The best model"
   ]
  },
  {
   "cell_type": "code",
   "execution_count": 164,
   "id": "a108db3b-2e10-4dae-83f5-e5ebc26ef701",
   "metadata": {
    "tags": []
   },
   "outputs": [
    {
     "data": {
      "text/plain": [
       "{'n_hidden': 8,\n",
       " 'n_neurons': 37,\n",
       " 'learning_rate': 0.008547485565344062,\n",
       " 'optimizer': 'sgd'}"
      ]
     },
     "execution_count": 164,
     "metadata": {},
     "output_type": "execute_result"
    }
   ],
   "source": [
    "# Receives hyperparameters for top 3 models\n",
    "\n",
    "top3_params = random_search_tuner.get_best_hyperparameters(num_trials=3)\n",
    "top3_params[0].values  # best hyperparameters values"
   ]
  },
  {
   "cell_type": "code",
   "execution_count": 166,
   "id": "7a7ffe7c-2245-4714-9e2b-2e0414fac52c",
   "metadata": {
    "tags": []
   },
   "outputs": [
    {
     "name": "stdout",
     "output_type": "stream",
     "text": [
      "Trial 3 summary\n",
      "Hyperparameters:\n",
      "n_hidden: 8\n",
      "n_neurons: 37\n",
      "learning_rate: 0.008547485565344062\n",
      "optimizer: sgd\n",
      "Score: 0.8723999857902527\n"
     ]
    }
   ],
   "source": [
    "# Gets the best trial\n",
    "best_trial = random_search_tuner.oracle.get_best_trials(num_trials=1)[0]\n",
    "best_trial.summary()"
   ]
  },
  {
   "cell_type": "code",
   "execution_count": 168,
   "id": "a949ae1c-27c4-448c-bd72-a481a3e79041",
   "metadata": {
    "tags": []
   },
   "outputs": [
    {
     "data": {
      "text/plain": [
       "0.8723999857902527"
      ]
     },
     "execution_count": 168,
     "metadata": {},
     "output_type": "execute_result"
    }
   ],
   "source": [
    "# Metrics can also be accessed directly\n",
    "best_trial.metrics.get_last_value(\"val_accuracy\")"
   ]
  },
  {
   "cell_type": "markdown",
   "id": "943bd1fd-7c96-420d-9018-e41b9d347fa1",
   "metadata": {},
   "source": [
    "#### Retraining & Evaluating the Best Model"
   ]
  },
  {
   "cell_type": "code",
   "execution_count": 171,
   "id": "ff884ceb-1fa3-4a8d-b0ff-9017d09732ce",
   "metadata": {},
   "outputs": [
    {
     "name": "stdout",
     "output_type": "stream",
     "text": [
      "Epoch 1/10\n",
      "1875/1875 [==============================] - 10s 5ms/step - loss: 0.3597 - accuracy: 0.8694\n",
      "Epoch 2/10\n",
      "1875/1875 [==============================] - 9s 5ms/step - loss: 0.3523 - accuracy: 0.8721\n",
      "Epoch 3/10\n",
      "1875/1875 [==============================] - 9s 5ms/step - loss: 0.3445 - accuracy: 0.8751\n",
      "Epoch 4/10\n",
      "1875/1875 [==============================] - 9s 5ms/step - loss: 0.3388 - accuracy: 0.8768\n",
      "Epoch 5/10\n",
      "1875/1875 [==============================] - 9s 5ms/step - loss: 0.3358 - accuracy: 0.8773\n",
      "Epoch 6/10\n",
      "1875/1875 [==============================] - 8s 4ms/step - loss: 0.3318 - accuracy: 0.8789\n",
      "Epoch 7/10\n",
      "1875/1875 [==============================] - 9s 5ms/step - loss: 0.3286 - accuracy: 0.8809\n",
      "Epoch 8/10\n",
      "1875/1875 [==============================] - 12s 6ms/step - loss: 0.3217 - accuracy: 0.8834\n",
      "Epoch 9/10\n",
      "1875/1875 [==============================] - 11s 6ms/step - loss: 0.3205 - accuracy: 0.8829\n",
      "Epoch 10/10\n",
      "1875/1875 [==============================] - 11s 6ms/step - loss: 0.3161 - accuracy: 0.8846\n"
     ]
    },
    {
     "data": {
      "text/plain": [
       "<keras.callbacks.History at 0x7d0b8c6d5450>"
      ]
     },
     "execution_count": 171,
     "metadata": {},
     "output_type": "execute_result"
    }
   ],
   "source": [
    "# Training can be continued (retraining) for a few epochs on the full training set\n",
    "best_model.fit(X_train_full, y_train_full, epochs=10)"
   ]
  },
  {
   "cell_type": "code",
   "execution_count": 173,
   "id": "5b40d965-9236-4293-81a9-f66ebd557d32",
   "metadata": {
    "tags": []
   },
   "outputs": [
    {
     "name": "stdout",
     "output_type": "stream",
     "text": [
      "313/313 [==============================] - 1s 3ms/step - loss: 0.4125 - accuracy: 0.8526\n",
      "0.8525999784469604\n"
     ]
    }
   ],
   "source": [
    "# Evaluates the model on test set\n",
    "test_loss, test_accuracy = best_model.evaluate(X_test, y_test)\n",
    "print(test_accuracy)"
   ]
  },
  {
   "cell_type": "code",
   "execution_count": null,
   "id": "adb22bbb-37c8-4185-856e-6e1ab6e54a21",
   "metadata": {},
   "outputs": [],
   "source": []
  }
 ],
 "metadata": {
  "kernelspec": {
   "display_name": "Python 3 (ipykernel)",
   "language": "python",
   "name": "python3"
  },
  "language_info": {
   "codemirror_mode": {
    "name": "ipython",
    "version": 3
   },
   "file_extension": ".py",
   "mimetype": "text/x-python",
   "name": "python",
   "nbconvert_exporter": "python",
   "pygments_lexer": "ipython3",
   "version": "3.11.5"
  }
 },
 "nbformat": 4,
 "nbformat_minor": 5
}
