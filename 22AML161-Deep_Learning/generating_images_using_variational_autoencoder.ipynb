{
  "cells": [
    {
      "cell_type": "markdown",
      "id": "de27da6e",
      "metadata": {
        "id": "de27da6e"
      },
      "source": [
        "# GENERATING IMAGES USING VARIATIONAL AUTOENCODER"
      ]
    },
    {
      "cell_type": "code",
      "execution_count": 13,
      "id": "4eeaf462",
      "metadata": {
        "id": "4eeaf462"
      },
      "outputs": [],
      "source": [
        "import sys\n",
        "from sklearn.model_selection import train_test_split\n",
        "import tensorflow as tf\n",
        "import matplotlib.pyplot as plt"
      ]
    },
    {
      "cell_type": "code",
      "source": [
        "IS_COLAB = \"google.colab\" in sys.modules\n",
        "if IS_COLAB:\n",
        "    import os\n",
        "    os.environ[\"TF_USE_LEGACY_KERAS\"] = \"1\"\n",
        "    import tf_keras"
      ],
      "metadata": {
        "id": "ji3IuLa80AQk"
      },
      "id": "ji3IuLa80AQk",
      "execution_count": 3,
      "outputs": []
    },
    {
      "cell_type": "markdown",
      "id": "7e47945e",
      "metadata": {
        "id": "7e47945e"
      },
      "source": [
        "## Loading & Analyzing the Dataset"
      ]
    },
    {
      "cell_type": "code",
      "execution_count": 4,
      "id": "89f6cf02",
      "metadata": {
        "colab": {
          "base_uri": "https://localhost:8080/"
        },
        "id": "89f6cf02",
        "outputId": "ea39bbae-a060-4d25-8f87-e6d8e25aeb35"
      },
      "outputs": [
        {
          "output_type": "stream",
          "name": "stdout",
          "text": [
            "Downloading data from https://storage.googleapis.com/tensorflow/tf-keras-datasets/train-labels-idx1-ubyte.gz\n",
            "29515/29515 [==============================] - 0s 0us/step\n",
            "Downloading data from https://storage.googleapis.com/tensorflow/tf-keras-datasets/train-images-idx3-ubyte.gz\n",
            "26421880/26421880 [==============================] - 0s 0us/step\n",
            "Downloading data from https://storage.googleapis.com/tensorflow/tf-keras-datasets/t10k-labels-idx1-ubyte.gz\n",
            "5148/5148 [==============================] - 0s 0us/step\n",
            "Downloading data from https://storage.googleapis.com/tensorflow/tf-keras-datasets/t10k-images-idx3-ubyte.gz\n",
            "4422102/4422102 [==============================] - 0s 0us/step\n"
          ]
        }
      ],
      "source": [
        "\n",
        "# Loads the dataset\n",
        "(X_train_full, y_train_full), (X_test, y_test) = tf.keras.datasets.fashion_mnist.load_data()"
      ]
    },
    {
      "cell_type": "code",
      "source": [],
      "metadata": {
        "id": "FiiwG6KV0vJB"
      },
      "id": "FiiwG6KV0vJB",
      "execution_count": null,
      "outputs": []
    },
    {
      "cell_type": "markdown",
      "source": [
        "## Preparing Dataset"
      ],
      "metadata": {
        "id": "md4BNRPR02ZO"
      },
      "id": "md4BNRPR02ZO"
    },
    {
      "cell_type": "code",
      "source": [
        "# Considering the datatype, values are normalized in range 0 — 1 by dividing each value by 255\n",
        "\n",
        "X_train_full = X_train_full / 255.\n",
        "X_test = X_test / 255."
      ],
      "metadata": {
        "id": "TdJHznD905mw"
      },
      "id": "TdJHznD905mw",
      "execution_count": 11,
      "outputs": []
    },
    {
      "cell_type": "code",
      "source": [
        "# Separates validation set from full train set stratifically\n",
        "\n",
        "X_train, X_val, y_train, y_val = train_test_split(\n",
        "    X_train_full, y_train_full, test_size=10_000, random_state=42, stratify=y_train_full)"
      ],
      "metadata": {
        "id": "2lfhqc8o07xc"
      },
      "id": "2lfhqc8o07xc",
      "execution_count": 14,
      "outputs": []
    },
    {
      "cell_type": "markdown",
      "id": "e507eff6",
      "metadata": {
        "id": "e507eff6"
      },
      "source": [
        "## Modeling"
      ]
    },
    {
      "cell_type": "code",
      "execution_count": 5,
      "id": "967a9a7d",
      "metadata": {
        "id": "967a9a7d"
      },
      "outputs": [],
      "source": [
        "\n",
        "class Sampling(tf.keras.layers.Layer):\n",
        "    def call(self, inputs):\n",
        "        mean, log_var = inputs\n",
        "        return tf.random.normal(tf.shape(log_var)) * tf.exp(log_var / 2) + mean"
      ]
    },
    {
      "cell_type": "markdown",
      "id": "96629c7b",
      "metadata": {
        "id": "96629c7b"
      },
      "source": [
        "**Modeling Variation Encoder**"
      ]
    },
    {
      "cell_type": "code",
      "execution_count": 6,
      "id": "31369478",
      "metadata": {
        "id": "31369478"
      },
      "outputs": [],
      "source": [
        "tf.random.set_seed(42)\n",
        "\n",
        "codings_size = 10\n",
        "\n",
        "inputs = tf.keras.layers.Input(shape=[28, 28])\n",
        "Z = tf.keras.layers.Flatten()(inputs)\n",
        "Z = tf.keras.layers.Dense(150, activation=\"relu\")(Z)\n",
        "Z = tf.keras.layers.Dense(100, activation=\"relu\")(Z)\n",
        "codings_mean = tf.keras.layers.Dense(codings_size)(Z)       # μ\n",
        "codings_log_var = tf.keras.layers.Dense(codings_size)(Z)    # γ\n",
        "codings = Sampling()([codings_mean, codings_log_var])\n",
        "\n",
        "variational_encoder = tf.keras.Model(\n",
        "    inputs=[inputs], outputs=[codings_mean, codings_log_var, codings])"
      ]
    },
    {
      "cell_type": "markdown",
      "id": "74a0faee",
      "metadata": {
        "id": "74a0faee"
      },
      "source": [
        "**Modeling Variational Decoder**"
      ]
    },
    {
      "cell_type": "code",
      "execution_count": 7,
      "id": "fdbc3f8f",
      "metadata": {
        "id": "fdbc3f8f"
      },
      "outputs": [],
      "source": [
        "decoder_inputs = tf.keras.layers.Input(shape=[codings_size])\n",
        "x = tf.keras.layers.Dense(100, activation=\"relu\")(decoder_inputs)\n",
        "x = tf.keras.layers.Dense(150, activation=\"relu\")(x)\n",
        "x = tf.keras.layers.Dense(28 * 28)(x)\n",
        "outputs = tf.keras.layers.Reshape([28, 28])(x)\n",
        "\n",
        "variational_decoder = tf.keras.Model(inputs=[decoder_inputs], outputs=[outputs])"
      ]
    },
    {
      "cell_type": "markdown",
      "id": "132b49db",
      "metadata": {
        "id": "132b49db"
      },
      "source": [
        "**Combining Encoder & Decoder**"
      ]
    },
    {
      "cell_type": "code",
      "execution_count": 8,
      "id": "9b4bbd64",
      "metadata": {
        "id": "9b4bbd64"
      },
      "outputs": [],
      "source": [
        "_, _, codings = variational_encoder(inputs)\n",
        "reconstructions = variational_decoder(codings)\n",
        "\n",
        "variational_ae = tf.keras.Model(inputs=[inputs], outputs=[reconstructions])"
      ]
    },
    {
      "cell_type": "code",
      "execution_count": 9,
      "id": "caf268f4",
      "metadata": {
        "id": "caf268f4"
      },
      "outputs": [],
      "source": [
        "latent_loss = -0.5 * tf.reduce_sum(\n",
        "    1 + codings_log_var - tf.exp(codings_log_var) - tf.square(codings_mean),\n",
        "    axis=-1)\n",
        "\n",
        "variational_ae.add_loss(tf.reduce_mean(latent_loss) / 784.)"
      ]
    },
    {
      "cell_type": "code",
      "execution_count": 15,
      "id": "b99982aa",
      "metadata": {
        "colab": {
          "base_uri": "https://localhost:8080/"
        },
        "id": "b99982aa",
        "outputId": "53077ca2-bd3f-48a0-dc9e-b89d33652ae7"
      },
      "outputs": [
        {
          "output_type": "stream",
          "name": "stdout",
          "text": [
            "Epoch 1/25\n",
            "391/391 [==============================] - 9s 15ms/step - loss: 0.0528 - val_loss: 0.0393\n",
            "Epoch 2/25\n",
            "391/391 [==============================] - 7s 17ms/step - loss: 0.0374 - val_loss: 0.0359\n",
            "Epoch 3/25\n",
            "391/391 [==============================] - 5s 14ms/step - loss: 0.0352 - val_loss: 0.0346\n",
            "Epoch 4/25\n",
            "391/391 [==============================] - 7s 19ms/step - loss: 0.0342 - val_loss: 0.0339\n",
            "Epoch 5/25\n",
            "391/391 [==============================] - 6s 14ms/step - loss: 0.0335 - val_loss: 0.0333\n",
            "Epoch 6/25\n",
            "391/391 [==============================] - 7s 17ms/step - loss: 0.0331 - val_loss: 0.0329\n",
            "Epoch 7/25\n",
            "391/391 [==============================] - 5s 13ms/step - loss: 0.0328 - val_loss: 0.0326\n",
            "Epoch 8/25\n",
            "391/391 [==============================] - 7s 17ms/step - loss: 0.0325 - val_loss: 0.0325\n",
            "Epoch 9/25\n",
            "391/391 [==============================] - 5s 13ms/step - loss: 0.0324 - val_loss: 0.0322\n",
            "Epoch 10/25\n",
            "391/391 [==============================] - 6s 15ms/step - loss: 0.0322 - val_loss: 0.0324\n",
            "Epoch 11/25\n",
            "391/391 [==============================] - 6s 14ms/step - loss: 0.0320 - val_loss: 0.0319\n",
            "Epoch 12/25\n",
            "391/391 [==============================] - 5s 14ms/step - loss: 0.0319 - val_loss: 0.0318\n",
            "Epoch 13/25\n",
            "391/391 [==============================] - 10s 27ms/step - loss: 0.0318 - val_loss: 0.0319\n",
            "Epoch 14/25\n",
            "391/391 [==============================] - 7s 18ms/step - loss: 0.0317 - val_loss: 0.0317\n",
            "Epoch 15/25\n",
            "391/391 [==============================] - 5s 13ms/step - loss: 0.0316 - val_loss: 0.0316\n",
            "Epoch 16/25\n",
            "391/391 [==============================] - 5s 14ms/step - loss: 0.0316 - val_loss: 0.0315\n",
            "Epoch 17/25\n",
            "391/391 [==============================] - 7s 18ms/step - loss: 0.0315 - val_loss: 0.0314\n",
            "Epoch 18/25\n",
            "391/391 [==============================] - 5s 14ms/step - loss: 0.0314 - val_loss: 0.0314\n",
            "Epoch 19/25\n",
            "391/391 [==============================] - 6s 16ms/step - loss: 0.0314 - val_loss: 0.0313\n",
            "Epoch 20/25\n",
            "391/391 [==============================] - 5s 13ms/step - loss: 0.0313 - val_loss: 0.0312\n",
            "Epoch 21/25\n",
            "391/391 [==============================] - 6s 16ms/step - loss: 0.0313 - val_loss: 0.0312\n",
            "Epoch 22/25\n",
            "391/391 [==============================] - 5s 13ms/step - loss: 0.0312 - val_loss: 0.0312\n",
            "Epoch 23/25\n",
            "391/391 [==============================] - 6s 17ms/step - loss: 0.0312 - val_loss: 0.0311\n",
            "Epoch 24/25\n",
            "391/391 [==============================] - 5s 13ms/step - loss: 0.0311 - val_loss: 0.0312\n",
            "Epoch 25/25\n",
            "391/391 [==============================] - 6s 14ms/step - loss: 0.0311 - val_loss: 0.0311\n"
          ]
        }
      ],
      "source": [
        "# Compiles model\n",
        "variational_ae.compile(loss=\"mse\", optimizer=tf.keras.optimizers.Nadam())\n",
        "\n",
        "# Fits the model\n",
        "history = variational_ae.fit(X_train, X_train, epochs=25, batch_size=128,\n",
        "                             validation_data=(X_val, X_val))"
      ]
    },
    {
      "cell_type": "markdown",
      "source": [
        "## Generating Images"
      ],
      "metadata": {
        "id": "aKHdp1o41WX2"
      },
      "id": "aKHdp1o41WX2"
    },
    {
      "cell_type": "code",
      "source": [
        "# Generates a few random codings and decodes them:\n",
        "\n",
        "codings = tf.random.normal(shape=[3 * 7, codings_size])\n",
        "images = variational_decoder(codings).numpy()"
      ],
      "metadata": {
        "id": "9497kKV21XER"
      },
      "id": "9497kKV21XER",
      "execution_count": 16,
      "outputs": []
    },
    {
      "cell_type": "code",
      "source": [
        "plt.imshow(images[0], cmap=\"binary\")"
      ],
      "metadata": {
        "colab": {
          "base_uri": "https://localhost:8080/",
          "height": 448
        },
        "id": "XYjHztPO1eSk",
        "outputId": "525e960d-7d57-4dac-ca5f-5b5028daab97"
      },
      "id": "XYjHztPO1eSk",
      "execution_count": 19,
      "outputs": [
        {
          "output_type": "execute_result",
          "data": {
            "text/plain": [
              "<matplotlib.image.AxesImage at 0x7e94fc38e9d0>"
            ]
          },
          "metadata": {},
          "execution_count": 19
        },
        {
          "output_type": "display_data",
          "data": {
            "text/plain": [
              "<Figure size 640x480 with 1 Axes>"
            ],
            "image/png": "[encoded data removed]"
          },
          "metadata": {}
        }
      ]
    },
    {
      "cell_type": "code",
      "source": [
        "plt.imshow(images[1], cmap=\"binary\")"
      ],
      "metadata": {
        "colab": {
          "base_uri": "https://localhost:8080/",
          "height": 448
        },
        "id": "Dgo7qa-o3B6q",
        "outputId": "353ab264-eb1a-4c44-ec2c-692adc9b6400"
      },
      "id": "Dgo7qa-o3B6q",
      "execution_count": 20,
      "outputs": [
        {
          "output_type": "execute_result",
          "data": {
            "text/plain": [
              "<matplotlib.image.AxesImage at 0x7e94fc2f6190>"
            ]
          },
          "metadata": {},
          "execution_count": 20
        },
        {
          "output_type": "display_data",
          "data": {
            "text/plain": [
              "<Figure size 640x480 with 1 Axes>"
            ],
            "image/png": "[encoded data removed]"
          },
          "metadata": {}
        }
      ]
    },
    {
      "cell_type": "code",
      "source": [],
      "metadata": {
        "id": "1lqT7Xjp3JZj"
      },
      "id": "1lqT7Xjp3JZj",
      "execution_count": null,
      "outputs": []
    }
  ],
  "metadata": {
    "kernelspec": {
      "display_name": "keras3",
      "language": "python",
      "name": "python3"
    },
    "language_info": {
      "codemirror_mode": {
        "name": "ipython",
        "version": 3
      },
      "file_extension": ".py",
      "mimetype": "text/x-python",
      "name": "python",
      "nbconvert_exporter": "python",
      "pygments_lexer": "ipython3",
      "version": "3.12.8"
    },
    "colab": {
      "provenance": []
    }
  },
  "nbformat": 4,
  "nbformat_minor": 5
}