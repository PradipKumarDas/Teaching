{
 "cells": [
  {
   "cell_type": "markdown",
   "id": "dbb723a3-d10c-43f0-95ec-3c4cccb98149",
   "metadata": {},
   "source": [
    "# Genetic Algorithm\n",
    "\n",
    "_Demonstrating genetic algorithm by taking a suitable data for any simple application._\n",
    "\n",
    "This is based on standard Hello Word Genetic Algorithm for a simple optimization problem written by Ahmed Gad, researcher, author and creator of popular Python library called PyGAD. Required changes were made to make this more relevant to the need."
   ]
  },
  {
   "cell_type": "markdown",
   "id": "a9bf356c-0a9a-458f-a6d5-7be3ad3baac4",
   "metadata": {},
   "source": [
    "In this optimization problem, coefficents of a below mentiond linear quation is found using genetic algorithm technique such that it maximizes the function.\n",
    "\n",
    "$$ y = w_1x_1 + w_2x_2 + w_3x_3 + w_4x_4 + w_5x_5 + w_6x_6 $$"
   ]
  },
  {
   "cell_type": "code",
   "execution_count": 1,
   "id": "f0f4125d-362b-482e-9b0f-5875b7802604",
   "metadata": {
    "tags": []
   },
   "outputs": [],
   "source": [
    "import numpy as np\n",
    "import matplotlib.pyplot as plt"
   ]
  },
  {
   "cell_type": "markdown",
   "id": "ed3ad2d9-cad2-437e-a75c-22bcf583751c",
   "metadata": {},
   "source": [
    "## Helper Functions"
   ]
  },
  {
   "cell_type": "code",
   "execution_count": 2,
   "id": "183cd2cc-95a3-4d8c-9e4b-f1309e54d692",
   "metadata": {
    "tags": []
   },
   "outputs": [],
   "source": [
    "def fitness(variables, population):\n",
    "    \"\"\"\n",
    "    Calculates the fitness of each solution in the current population by\n",
    "    performing linear combination of variables and respective coefficients.\n",
    "    \"\"\"\n",
    "    \n",
    "    fitness = np.sum(population * variables, axis=1)\n",
    "    \n",
    "    return fitness"
   ]
  },
  {
   "cell_type": "code",
   "execution_count": 3,
   "id": "ada8e953-33e7-4b32-b922-d2639ddf0874",
   "metadata": {
    "tags": []
   },
   "outputs": [],
   "source": [
    "def select_mating_pool(population, fitness, n_parents):\n",
    "    \"\"\"\n",
    "    Selecting the best individuals in the current generation as parents to \n",
    "    produce offsprings for the next generation.\n",
    "    \"\"\"\n",
    "    \n",
    "    # Creates a placeholder for parents\n",
    "    parents = np.empty((n_parents, population.shape[1]))  # shape[1] indicates number of genes in chromosome\n",
    "    \n",
    "    for parent_idx in range(n_parents):\n",
    "        # Gets index for best fitness for solutions in population\n",
    "        max_fitness_idx = np.where(fitness == np.max(fitness))\n",
    "        max_fitness_idx = max_fitness_idx[0][0]\n",
    "\n",
    "        # Copies the best solution to parents selection\n",
    "        parents[parent_idx, :] = population[max_fitness_idx, :]\n",
    "        \n",
    "        # Sets fitness for the best solution to a very low value so that\n",
    "        # it does not get selected during the search for next best solution\n",
    "        fitness[max_fitness_idx] = -99999999999\n",
    "    \n",
    "    return parents"
   ]
  },
  {
   "cell_type": "code",
   "execution_count": 4,
   "id": "3b3bbf66-ebb5-4d8a-ab0b-a40ad03876ce",
   "metadata": {
    "tags": []
   },
   "outputs": [],
   "source": [
    "def crossover(parents, n_offspring):\n",
    "    \"\"\"\n",
    "    Performs crossover between pairs of parents and produces desired number of offsprings\n",
    "    \"\"\"\n",
    "    \n",
    "    # Creates a placeholder for offsprings\n",
    "    offsprings = np.empty((n_offspring, parents.shape[1]))\n",
    "    \n",
    "    # The point at which crossover takes place between two parents. Usually, it is at the center.\n",
    "    crossover_point = np.uint8(parents.shape[1]/2)\n",
    "\n",
    "    # Loops over to create each offspring\n",
    "    for k in range(n_offspring):\n",
    "        # Gets indexes for first and second parent to mate\n",
    "        parent1_idx = k % parents.shape[0]\n",
    "        parent2_idx = (k + 1) % parents.shape[0]\n",
    "        \n",
    "        # The new offspring will have its first half of its genes taken from the first parent and\n",
    "        # its second half of its genes taken from the second parent.\n",
    "        offsprings[k, 0:crossover_point] = parents[parent1_idx, 0:crossover_point]\n",
    "        offsprings[k, crossover_point:] = parents[parent2_idx, crossover_point:]\n",
    "    \n",
    "    return offsprings"
   ]
  },
  {
   "cell_type": "code",
   "execution_count": 5,
   "id": "07dd8687-be0e-4278-9ce3-efdfb2651d73",
   "metadata": {},
   "outputs": [],
   "source": [
    "def mutate(offsprings, n_mutations = 1):\n",
    "    \"\"\"\n",
    "    Performs mutation on the offsprings by making randome changes to the given number of genes selected randomly.\n",
    "    \"\"\"\n",
    "    \n",
    "    # Counter that helps to select genes uniformly from the offspring's chromosome\n",
    "    mutations_counter = np.uint8(offsprings.shape[1] / n_mutations)\n",
    "    \n",
    "    # Loops to mutate each offspring\n",
    "    for idx in range(offsprings.shape[0]):\n",
    "        \n",
    "        # Changes one or more genes in a specific offspring\n",
    "        gene_idx = mutations_counter - 1\n",
    "        \n",
    "        for mutation_num in range(n_mutations):\n",
    "            # Changes a specific gene with a random number\n",
    "            offsprings[idx, gene_idx] = offsprings[idx, gene_idx] + np.random.uniform(-1.0, 1.0, 1)\n",
    "            \n",
    "            # Calculates the index of next gene in case of multiple mutations in a offspring \n",
    "            gene_idx = gene_idx + mutations_counter\n",
    "    \n",
    "    return offsprings"
   ]
  },
  {
   "cell_type": "markdown",
   "id": "8f539bb2-60f8-4a16-b846-126e2232e87a",
   "metadata": {},
   "source": [
    "## Applying Genetic Algorithm"
   ]
  },
  {
   "cell_type": "markdown",
   "id": "7ec39e04-ae70-4cad-b443-3845ade026c8",
   "metadata": {},
   "source": [
    "Let's consider the following values for variables $x_1$ through $x_6$ in above mentioned function to maximize its value."
   ]
  },
  {
   "cell_type": "markdown",
   "id": "90b799cb-5885-421c-9347-d00612199f28",
   "metadata": {},
   "source": [
    "### Initialization"
   ]
  },
  {
   "cell_type": "code",
   "execution_count": 6,
   "id": "b0b3aea9-4c10-4078-817e-813316622d16",
   "metadata": {
    "tags": []
   },
   "outputs": [],
   "source": [
    "# Sets values for variable x1 through x6\n",
    "variables = [4, -2, 3.5, 5, -11, -4.7]\n",
    "\n",
    "# Also, number of coefficients will be equal to the number of variables in the linear combination problem.\n",
    "n_coef = len(variables)"
   ]
  },
  {
   "cell_type": "code",
   "execution_count": 7,
   "id": "a687b20c-101e-4880-ae16-d6ca4c31b34c",
   "metadata": {
    "tags": []
   },
   "outputs": [
    {
     "name": "stdout",
     "output_type": "stream",
     "text": [
      "[[ 0.14070606 -0.20750525 -0.10530911 -3.55660854  2.26417944 -3.380455  ]\n",
      " [ 0.09551454 -3.25065737 -1.63783578  2.13474323  2.33008347 -0.17435979]\n",
      " [-0.13301553  0.41446451 -3.2670737  -0.08856087 -1.65757127  3.73312907]\n",
      " [ 1.68685324 -0.7871644  -0.30002228 -2.24190471  1.91335847 -1.92048969]\n",
      " [-3.60050433  1.94097292  3.34448144  2.5152903   0.0311665   3.4243841 ]\n",
      " [ 0.81710824 -2.04651591  3.24075124  1.22029881  2.56698667  1.85363599]\n",
      " [ 3.53838962  0.26518607 -3.26461652  3.60327781  0.00689728  1.1194216 ]\n",
      " [-3.01400495 -2.7842779   3.02575181 -0.73204802 -0.16804654  3.44654076]]\n"
     ]
    }
   ],
   "source": [
    "# Initializing population\n",
    "\n",
    "# Number of solutions (a set of coefficients in this problem) in the population\n",
    "population_size = 8\n",
    "\n",
    "# Initialize population with uniform random numbers that range between -4 and +4.\n",
    "population = np.random.uniform(low=-4.0, high=4.0, size=(population_size, n_coef))\n",
    "\n",
    "# Prints the initialized population\n",
    "print(population)"
   ]
  },
  {
   "cell_type": "markdown",
   "id": "82a30f4f-7a59-453c-bfa1-1c606702951f",
   "metadata": {},
   "source": [
    "### Creating Generations"
   ]
  },
  {
   "cell_type": "code",
   "execution_count": 8,
   "id": "33658f01-0b32-4f71-a981-0c9087fbcc99",
   "metadata": {
    "tags": []
   },
   "outputs": [],
   "source": [
    "# Sets number of generations to experiment\n",
    "n_generations = 5\n",
    "\n",
    "# Sets number of parents required to create offsprings\n",
    "n_parents = 4"
   ]
  },
  {
   "cell_type": "code",
   "execution_count": 9,
   "id": "a475fa6b-e6b3-4319-85f7-15c5d0d00553",
   "metadata": {
    "tags": []
   },
   "outputs": [
    {
     "name": "stdout",
     "output_type": "stream",
     "text": [
      "Fitness Values in Initial Generation: \n",
      " [-26.19162525 -12.98676341 -12.55097615 -15.95850144 -10.4392634\n",
      " -12.14335437  14.87626595 -13.90780239] \n",
      "\n"
     ]
    }
   ],
   "source": [
    "# Now, checks for fitness of each individual (or solution or hypothesis) in the initial generation\n",
    "fitness_values = fitness(variables, population)\n",
    "print(\"Fitness Values in Initial Generation:\", \"\\n\", fitness_values, \"\\n\")"
   ]
  },
  {
   "cell_type": "code",
   "execution_count": 10,
   "id": "f048e598-e734-4b59-a141-22d8aa04a0b6",
   "metadata": {
    "tags": []
   },
   "outputs": [],
   "source": [
    "# Stores fitness value of best solution from each generation\n",
    "best_fitness_values = []\n",
    "\n",
    "# Stores fitness value of the best solution from the initial population\n",
    "best_fitness_values.append(np.max(fitness_values))"
   ]
  },
  {
   "cell_type": "code",
   "execution_count": 11,
   "id": "2d498257-da0a-40fd-9e7d-da4794b92126",
   "metadata": {
    "tags": []
   },
   "outputs": [
    {
     "name": "stdout",
     "output_type": "stream",
     "text": [
      "Generation:  1\n",
      "==================== \n",
      "\n",
      "Selected Parents: \n",
      " [[ 3.53838962  0.26518607 -3.26461652  3.60327781  0.00689728  1.1194216 ]\n",
      " [-3.60050433  1.94097292  3.34448144  2.5152903   0.0311665   3.4243841 ]\n",
      " [ 0.81710824 -2.04651591  3.24075124  1.22029881  2.56698667  1.85363599]\n",
      " [-0.13301553  0.41446451 -3.2670737  -0.08856087 -1.65757127  3.73312907]] \n",
      "\n",
      "Crossover: Offsprings \n",
      " [[ 3.53838962  0.26518607 -3.26461652  2.5152903   0.0311665   3.4243841 ]\n",
      " [-3.60050433  1.94097292  3.34448144  1.22029881  2.56698667  1.85363599]\n",
      " [ 0.81710824 -2.04651591  3.24075124 -0.08856087 -1.65757127  3.73312907]\n",
      " [-0.13301553  0.41446451 -3.2670737   3.60327781  0.00689728  1.1194216 ]] \n",
      "\n",
      "Mutated: \n",
      " [[ 3.53838962  0.26518607 -3.26461652  2.5152903   0.0311665   3.97165666]\n",
      " [-3.60050433  1.94097292  3.34448144  1.22029881  2.56698667  1.52614255]\n",
      " [ 0.81710824 -2.04651591  3.24075124 -0.08856087 -1.65757127  4.18914118]\n",
      " [-0.13301553  0.41446451 -3.2670737   3.60327781  0.00689728  0.30806871]] \n",
      "\n",
      "Fitness Values in New Generation : \n",
      " [ 14.87626595 -10.4392634  -12.14335437 -12.55097615  -4.23613782\n",
      " -35.88650743  16.80561018   3.69684689] \n",
      "\n",
      "Generation:  2\n",
      "==================== \n",
      "\n",
      "Selected Parents: \n",
      " [[ 0.81710824 -2.04651591  3.24075124 -0.08856087 -1.65757127  4.18914118]\n",
      " [ 3.53838962  0.26518607 -3.26461652  3.60327781  0.00689728  1.1194216 ]\n",
      " [-0.13301553  0.41446451 -3.2670737   3.60327781  0.00689728  0.30806871]\n",
      " [ 3.53838962  0.26518607 -3.26461652  2.5152903   0.0311665   3.97165666]] \n",
      "\n",
      "Crossover: Offsprings \n",
      " [[ 0.81710824 -2.04651591  3.24075124  3.60327781  0.00689728  1.1194216 ]\n",
      " [ 3.53838962  0.26518607 -3.26461652  3.60327781  0.00689728  0.30806871]\n",
      " [-0.13301553  0.41446451 -3.2670737   2.5152903   0.0311665   3.97165666]\n",
      " [ 3.53838962  0.26518607 -3.26461652 -0.08856087 -1.65757127  4.18914118]] \n",
      "\n",
      "Mutated: \n",
      " [[ 0.81710824 -2.04651591  3.24075124  3.60327781  0.00689728  0.27833166]\n",
      " [ 3.53838962  0.26518607 -3.26461652  3.60327781  0.00689728  0.32861175]\n",
      " [-0.13301553  0.41446451 -3.2670737   2.5152903   0.0311665   3.68344674]\n",
      " [ 3.53838962  0.26518607 -3.26461652 -0.08856087 -1.65757127  4.43200927]] \n",
      "\n",
      "Fitness Values in New Generation : \n",
      " [ 16.80561018  14.87626595   3.69684689  -4.23613782  35.33645425\n",
      "  18.59307224 -17.8743288   -0.84293545] \n",
      "\n",
      "Generation:  3\n",
      "==================== \n",
      "\n",
      "Selected Parents: \n",
      " [[ 0.81710824 -2.04651591  3.24075124  3.60327781  0.00689728  0.27833166]\n",
      " [ 3.53838962  0.26518607 -3.26461652  3.60327781  0.00689728  0.32861175]\n",
      " [ 0.81710824 -2.04651591  3.24075124 -0.08856087 -1.65757127  4.18914118]\n",
      " [ 3.53838962  0.26518607 -3.26461652  3.60327781  0.00689728  1.1194216 ]] \n",
      "\n",
      "Crossover: Offsprings \n",
      " [[ 0.81710824 -2.04651591  3.24075124  3.60327781  0.00689728  0.32861175]\n",
      " [ 3.53838962  0.26518607 -3.26461652 -0.08856087 -1.65757127  4.18914118]\n",
      " [ 0.81710824 -2.04651591  3.24075124  3.60327781  0.00689728  1.1194216 ]\n",
      " [ 3.53838962  0.26518607 -3.26461652  3.60327781  0.00689728  0.27833166]] \n",
      "\n",
      "Mutated: \n",
      " [[ 0.81710824 -2.04651591  3.24075124  3.60327781  0.00689728 -0.63860272]\n",
      " [ 3.53838962  0.26518607 -3.26461652 -0.08856087 -1.65757127  4.00597151]\n",
      " [ 0.81710824 -2.04651591  3.24075124  3.60327781  0.00689728  1.19463475]\n",
      " [ 3.53838962  0.26518607 -3.26461652  3.60327781  0.00689728 -0.23989326]] \n",
      "\n",
      "Fitness Values in New Generation : \n",
      " [35.33645425 18.59307224 16.80561018 14.87626595 39.64604586  1.159442\n",
      " 31.02982976 21.26504579] \n",
      "\n",
      "Generation:  4\n",
      "==================== \n",
      "\n",
      "Selected Parents: \n",
      " [[ 0.81710824 -2.04651591  3.24075124  3.60327781  0.00689728 -0.63860272]\n",
      " [ 0.81710824 -2.04651591  3.24075124  3.60327781  0.00689728  0.27833166]\n",
      " [ 0.81710824 -2.04651591  3.24075124  3.60327781  0.00689728  1.19463475]\n",
      " [ 3.53838962  0.26518607 -3.26461652  3.60327781  0.00689728 -0.23989326]] \n",
      "\n",
      "Crossover: Offsprings \n",
      " [[ 0.81710824 -2.04651591  3.24075124  3.60327781  0.00689728  0.27833166]\n",
      " [ 0.81710824 -2.04651591  3.24075124  3.60327781  0.00689728  1.19463475]\n",
      " [ 0.81710824 -2.04651591  3.24075124  3.60327781  0.00689728 -0.23989326]\n",
      " [ 3.53838962  0.26518607 -3.26461652  3.60327781  0.00689728 -0.63860272]] \n",
      "\n",
      "Mutated: \n",
      " [[ 0.81710824 -2.04651591  3.24075124  3.60327781  0.00689728 -0.01588897]\n",
      " [ 0.81710824 -2.04651591  3.24075124  3.60327781  0.00689728  1.26964958]\n",
      " [ 0.81710824 -2.04651591  3.24075124  3.60327781  0.00689728 -0.42407028]\n",
      " [ 3.53838962  0.26518607 -3.26461652  3.60327781  0.00689728 -1.0564807 ]] \n",
      "\n",
      "Fitness Values in New Generation : \n",
      " [39.64604586 35.33645425 31.02982976 21.26504579 36.71929122 30.67726003\n",
      " 38.63774339 25.10300675] \n",
      "\n",
      "Generation:  5\n",
      "==================== \n",
      "\n",
      "Selected Parents: \n",
      " [[ 0.81710824 -2.04651591  3.24075124  3.60327781  0.00689728 -0.63860272]\n",
      " [ 0.81710824 -2.04651591  3.24075124  3.60327781  0.00689728 -0.42407028]\n",
      " [ 0.81710824 -2.04651591  3.24075124  3.60327781  0.00689728 -0.01588897]\n",
      " [ 0.81710824 -2.04651591  3.24075124  3.60327781  0.00689728  0.27833166]] \n",
      "\n",
      "Crossover: Offsprings \n",
      " [[ 0.81710824 -2.04651591  3.24075124  3.60327781  0.00689728 -0.42407028]\n",
      " [ 0.81710824 -2.04651591  3.24075124  3.60327781  0.00689728 -0.01588897]\n",
      " [ 0.81710824 -2.04651591  3.24075124  3.60327781  0.00689728  0.27833166]\n",
      " [ 0.81710824 -2.04651591  3.24075124  3.60327781  0.00689728 -0.63860272]] \n",
      "\n",
      "Mutated: \n",
      " [[ 0.81710824 -2.04651591  3.24075124  3.60327781  0.00689728  0.17035477]\n",
      " [ 0.81710824 -2.04651591  3.24075124  3.60327781  0.00689728  0.34214362]\n",
      " [ 0.81710824 -2.04651591  3.24075124  3.60327781  0.00689728 -0.31247502]\n",
      " [ 0.81710824 -2.04651591  3.24075124  3.60327781  0.00689728 -1.0396121 ]] \n",
      "\n",
      "Fitness Values in New Generation : \n",
      " [39.64604586 38.63774339 36.71929122 35.33645425 35.84394563 35.03653803\n",
      " 38.11324568 41.53078993] \n",
      "\n"
     ]
    }
   ],
   "source": [
    "# Iterates to create generations\n",
    "\n",
    "for generation in range(n_generations):\n",
    "    print(\"Generation: \", generation + 1)\n",
    "    print(\"=\"*20, \"\\n\")\n",
    "    \n",
    "    # Selects parents from the population to mating to produce offspring    \n",
    "    parents = select_mating_pool(population, fitness_values, n_parents)\n",
    "    print(\"Selected Parents:\", \"\\n\", parents, \"\\n\")\n",
    "    \n",
    "    # Parents create offsprings in crossover process\n",
    "    offsprings = crossover(parents, population.shape[0] - parents.shape[0])\n",
    "    \n",
    "    print(\"Crossover: Offsprings\", \"\\n\", offsprings, \"\\n\")\n",
    "    \n",
    "    mutated_offsprings = mutate(offsprings)\n",
    "    print(\"Mutated:\", \"\\n\", mutated_offsprings, \"\\n\")\n",
    "    \n",
    "    # Creates new population with parents and mutated offsprings\n",
    "    population[0:parents.shape[0], :] = parents\n",
    "    population[parents.shape[0]:, :] = mutated_offsprings\n",
    "    \n",
    "    # Checks for fitness of each individual (or solution or hypothesis) in the new generation\n",
    "    fitness_values = fitness(variables, population)\n",
    "    print(\"Fitness Values in New Generation :\", \"\\n\", fitness_values, \"\\n\")\n",
    "    \n",
    "    # Appends best fitness value againt the (index of) generation\n",
    "    best_fitness_values.append(np.max(fitness_values))"
   ]
  },
  {
   "cell_type": "code",
   "execution_count": 12,
   "id": "76185a76-c861-43ef-8aec-1d9d10c4da04",
   "metadata": {
    "tags": []
   },
   "outputs": [],
   "source": [
    "# From the latest generation, finds index of solution that got highest fitness\n",
    "best_solution_idx = np.where(fitness_values == np.max(fitness_values))\n",
    "best_solution = population[best_solution_idx, :]"
   ]
  },
  {
   "cell_type": "code",
   "execution_count": 13,
   "id": "d60fbfd4-9245-440a-87bf-6602b32c9abc",
   "metadata": {},
   "outputs": [
    {
     "name": "stdout",
     "output_type": "stream",
     "text": [
      "Best Solution after Generation 5 is: [[[ 0.81710824 -2.04651591  3.24075124  3.60327781  0.00689728\n",
      "   -1.0396121 ]]]\n"
     ]
    }
   ],
   "source": [
    "print(\"Best Solution after Generation\", n_generations, \"is:\", best_solution)"
   ]
  },
  {
   "cell_type": "code",
   "execution_count": 14,
   "id": "e7a86e30-5da2-42d2-9a49-282ceefd8668",
   "metadata": {
    "tags": []
   },
   "outputs": [
    {
     "data": {
      "image/png": "[encoded data removed]",
      "text/plain": [
       "<Figure size 640x480 with 1 Axes>"
      ]
     },
     "metadata": {},
     "output_type": "display_data"
    }
   ],
   "source": [
    "# Plots best fitness over generations\n",
    "\n",
    "plt.plot(best_fitness_values)\n",
    "plt.xlabel(\"Generation\")\n",
    "plt.ylabel(\"Fitness Value\")\n",
    "plt.title(\"Fitness of Best Solution over Generations\")\n",
    "plt.show()"
   ]
  },
  {
   "cell_type": "markdown",
   "id": "ad293b45-f492-4a9f-adb4-7f8e11c1361a",
   "metadata": {},
   "source": [
    "As shown in the plot above, highest fitness value amongst all solutions in a generation has got consistent increment over subsequent generations build through processes such as parent selection, crossover and mutation."
   ]
  },
  {
   "cell_type": "code",
   "execution_count": null,
   "id": "75b51030-1bd9-4e2d-89ed-435462427bce",
   "metadata": {},
   "outputs": [],
   "source": []
  }
 ],
 "metadata": {
  "kernelspec": {
   "display_name": "Python 3 (ipykernel)",
   "language": "python",
   "name": "python3"
  },
  "language_info": {
   "codemirror_mode": {
    "name": "ipython",
    "version": 3
   },
   "file_extension": ".py",
   "mimetype": "text/x-python",
   "name": "python",
   "nbconvert_exporter": "python",
   "pygments_lexer": "ipython3",
   "version": "3.11.5"
  }
 },
 "nbformat": 4,
 "nbformat_minor": 5
}
