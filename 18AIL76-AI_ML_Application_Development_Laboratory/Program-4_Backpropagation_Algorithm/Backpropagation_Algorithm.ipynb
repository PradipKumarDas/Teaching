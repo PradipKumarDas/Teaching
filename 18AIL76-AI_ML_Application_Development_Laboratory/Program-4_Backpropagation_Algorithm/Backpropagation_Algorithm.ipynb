{
 "cells": [
  {
   "cell_type": "markdown",
   "id": "3b7ba9d6-4df3-475d-99b9-0f82533ac727",
   "metadata": {},
   "source": [
    "# Backpropagation Algorithm\n",
    "\n",
    "_Building an Artificial Neural Network (ANN) by implementing the Backpropagation algorithm\n",
    "and testing the same using appropriate data sets._\n",
    "\n",
    "This is based on standard program written by Deepak D, Assistant Professor, Department of Computer Science & Enginnering, Canara Engineering College, Mangaluru, Karnataka, India. Required changes were made to make this more relevant to the need."
   ]
  },
  {
   "cell_type": "code",
   "execution_count": 1,
   "id": "1c6181fb-91b8-4cbb-aafd-db504c7456a0",
   "metadata": {
    "tags": []
   },
   "outputs": [],
   "source": [
    "# Imports required packages\n",
    "\n",
    "import numpy as np\n",
    "import pandas as pd\n",
    "from sklearn.preprocessing import MinMaxScaler"
   ]
  },
  {
   "cell_type": "markdown",
   "id": "7f0b51b5-b37d-417d-93c2-7c2e1bdc1f39",
   "metadata": {},
   "source": [
    "## Loading Data Set"
   ]
  },
  {
   "cell_type": "code",
   "execution_count": 2,
   "id": "4091219f-a490-4993-a454-eea9b50744e7",
   "metadata": {
    "tags": []
   },
   "outputs": [],
   "source": [
    "sales = pd.read_csv(\"./../../Data/Advertising.csv\")"
   ]
  },
  {
   "cell_type": "code",
   "execution_count": 3,
   "id": "80d1af0a-07f2-43a2-ad8d-bc070e29cf1c",
   "metadata": {
    "tags": []
   },
   "outputs": [
    {
     "data": {
      "text/html": [
       "<div>\n",
       "<style scoped>\n",
       "    .dataframe tbody tr th:only-of-type {\n",
       "        vertical-align: middle;\n",
       "    }\n",
       "\n",
       "    .dataframe tbody tr th {\n",
       "        vertical-align: top;\n",
       "    }\n",
       "\n",
       "    .dataframe thead th {\n",
       "        text-align: right;\n",
       "    }\n",
       "</style>\n",
       "<table border=\"1\" class=\"dataframe\">\n",
       "  <thead>\n",
       "    <tr style=\"text-align: right;\">\n",
       "      <th></th>\n",
       "      <th>Unnamed: 0</th>\n",
       "      <th>TV</th>\n",
       "      <th>Radio</th>\n",
       "      <th>Newspaper</th>\n",
       "      <th>Sales</th>\n",
       "    </tr>\n",
       "  </thead>\n",
       "  <tbody>\n",
       "    <tr>\n",
       "      <th>0</th>\n",
       "      <td>1</td>\n",
       "      <td>230.1</td>\n",
       "      <td>37.8</td>\n",
       "      <td>69.2</td>\n",
       "      <td>22.1</td>\n",
       "    </tr>\n",
       "    <tr>\n",
       "      <th>1</th>\n",
       "      <td>2</td>\n",
       "      <td>44.5</td>\n",
       "      <td>39.3</td>\n",
       "      <td>45.1</td>\n",
       "      <td>10.4</td>\n",
       "    </tr>\n",
       "    <tr>\n",
       "      <th>2</th>\n",
       "      <td>3</td>\n",
       "      <td>17.2</td>\n",
       "      <td>45.9</td>\n",
       "      <td>69.3</td>\n",
       "      <td>9.3</td>\n",
       "    </tr>\n",
       "    <tr>\n",
       "      <th>3</th>\n",
       "      <td>4</td>\n",
       "      <td>151.5</td>\n",
       "      <td>41.3</td>\n",
       "      <td>58.5</td>\n",
       "      <td>18.5</td>\n",
       "    </tr>\n",
       "    <tr>\n",
       "      <th>4</th>\n",
       "      <td>5</td>\n",
       "      <td>180.8</td>\n",
       "      <td>10.8</td>\n",
       "      <td>58.4</td>\n",
       "      <td>12.9</td>\n",
       "    </tr>\n",
       "  </tbody>\n",
       "</table>\n",
       "</div>"
      ],
      "text/plain": [
       "   Unnamed: 0     TV  Radio  Newspaper  Sales\n",
       "0           1  230.1   37.8       69.2   22.1\n",
       "1           2   44.5   39.3       45.1   10.4\n",
       "2           3   17.2   45.9       69.3    9.3\n",
       "3           4  151.5   41.3       58.5   18.5\n",
       "4           5  180.8   10.8       58.4   12.9"
      ]
     },
     "metadata": {},
     "output_type": "display_data"
    }
   ],
   "source": [
    "display(sales.head())"
   ]
  },
  {
   "cell_type": "code",
   "execution_count": 4,
   "id": "7934bbbf-14f5-47c0-9a7d-1a05b3dc6641",
   "metadata": {
    "tags": []
   },
   "outputs": [
    {
     "ename": "NameError",
     "evalue": "name 'advertising' is not defined",
     "output_type": "error",
     "traceback": [
      "\u001b[0;31m---------------------------------------------------------------------------\u001b[0m",
      "\u001b[0;31mNameError\u001b[0m                                 Traceback (most recent call last)",
      "Cell \u001b[0;32mIn[4], line 2\u001b[0m\n\u001b[1;32m      1\u001b[0m \u001b[38;5;66;03m# Checks the shape of the data\u001b[39;00m\n\u001b[0;32m----> 2\u001b[0m \u001b[38;5;28mprint\u001b[39m(advertising\u001b[38;5;241m.\u001b[39mshape)\n",
      "\u001b[0;31mNameError\u001b[0m: name 'advertising' is not defined"
     ]
    }
   ],
   "source": [
    "# Checks the shape of the data\n",
    "print(sales.shape)"
   ]
  },
  {
   "cell_type": "code",
   "execution_count": null,
   "id": "d0ae3474-5de4-4edd-8b1c-17b905fe5257",
   "metadata": {
    "tags": []
   },
   "outputs": [],
   "source": [
    "# Prints information about the data set\n",
    "print(sales.info())"
   ]
  },
  {
   "cell_type": "markdown",
   "id": "08ef819b-084b-431a-8be3-650db1446167",
   "metadata": {},
   "source": [
    "## Data Preparation"
   ]
  },
  {
   "cell_type": "code",
   "execution_count": null,
   "id": "d3dcfba9-4e44-4701-9344-d44bf61e75c4",
   "metadata": {
    "tags": []
   },
   "outputs": [],
   "source": [
    "# Seperates features and target\n",
    "\n",
    "X = sales[[\"TV\", \"Radio\", \"Newspaper\"]]\n",
    "y = sales[\"Sales\"]"
   ]
  },
  {
   "cell_type": "code",
   "execution_count": null,
   "id": "77855aa7-b5e6-4250-a5bd-ed6d47abda57",
   "metadata": {
    "tags": []
   },
   "outputs": [],
   "source": [
    "# Standardizes features\n",
    "X = X.apply(lambda x: (x - X.mean()) / X.std(), axis = 1)"
   ]
  },
  {
   "cell_type": "code",
   "execution_count": null,
   "id": "ca708f34-70ee-4f37-8b97-96c21ddab648",
   "metadata": {
    "tags": []
   },
   "outputs": [],
   "source": [
    "# Checks how the standardized features look like\n",
    "display(X.head())"
   ]
  },
  {
   "cell_type": "code",
   "execution_count": null,
   "id": "b9a2ba50-9610-4ee5-895b-99f8b61ba044",
   "metadata": {
    "tags": []
   },
   "outputs": [],
   "source": [
    "# Scaling target variable\n",
    "\n",
    "y_scaler = MinMaxScaler()\n",
    "y_transformed = y_scaler.fit_transform(np.reshape(y, (-1,1)))"
   ]
  },
  {
   "cell_type": "markdown",
   "id": "55017eea-0780-4f63-a503-89bb1ff19655",
   "metadata": {},
   "source": [
    "## Helper Functions"
   ]
  },
  {
   "cell_type": "code",
   "execution_count": null,
   "id": "12293bdf-2c9a-49da-8811-b95f9f2c950b",
   "metadata": {
    "tags": []
   },
   "outputs": [],
   "source": [
    "def sigmoid(x):\n",
    "    \"\"\"\n",
    "    Returns sigmoid value for the input parameter\n",
    "    \"\"\"\n",
    "    \n",
    "    return 1/(1 + np.exp(-x))"
   ]
  },
  {
   "cell_type": "code",
   "execution_count": null,
   "id": "a1050900-a5df-493f-990e-a78b987b7ad7",
   "metadata": {
    "tags": []
   },
   "outputs": [],
   "source": [
    "def sigmoid_derivative(x):\n",
    "    \"\"\"\n",
    "    Returns derivative of sigmoid function\n",
    "    \"\"\"\n",
    "    \n",
    "    return x * (1 - x)"
   ]
  },
  {
   "cell_type": "markdown",
   "id": "e5375b3a-cb10-4427-896d-224a0a5596c1",
   "metadata": {},
   "source": [
    "## Modeling"
   ]
  },
  {
   "cell_type": "markdown",
   "id": "010febaa-1a6c-40e9-9227-d1ef9b797758",
   "metadata": {
    "tags": []
   },
   "source": [
    "### Initialization"
   ]
  },
  {
   "cell_type": "code",
   "execution_count": null,
   "id": "12196fd5-8dc3-4570-ba54-ca7afc0ca3f9",
   "metadata": {
    "tags": []
   },
   "outputs": [],
   "source": [
    "# Count of units in the input layer; The count is equal to the number of features in data set\n",
    "input_layer_units = X.shape[1]\n",
    "\n",
    "# number of units at output layer; It is one for target being a continous variable\n",
    "output_layer_units = 1\n",
    "\n",
    "\n",
    "# Hyperparameters initialization\n",
    "\n",
    "# Number of times training data will be used for model training\n",
    "epoch = 5000\n",
    "\n",
    "learning_rate = 0.1\n",
    "\n",
    "# Count of units in the hidden layer; It was assumed that there will be just one hidden layer\n",
    "hidden_layer_units = 3"
   ]
  },
  {
   "cell_type": "code",
   "execution_count": null,
   "id": "1728df92-ca45-425f-a215-048c5d47cf95",
   "metadata": {
    "tags": []
   },
   "outputs": [],
   "source": [
    "\n",
    "# Weights from input layer nodes to hidden layer nodes\n",
    "hidden_layer_weights = np.random.uniform(size=(input_layer_units, hidden_layer_units))\n",
    "\n",
    "# Biases for hidden layer nodes\n",
    "hidden_layer_biases = np.random.uniform(size=(1, hidden_layer_units))\n",
    "                                         \n",
    "# Weights from hidden layer nodes to output layer nodes\n",
    "output_layer_weights = np.random.uniform(size=(hidden_layer_units,output_layer_units))\n",
    "\n",
    "# Biases for output layer nodes\n",
    "output_layer_biases=np.random.uniform(size=(1,output_layer_units))"
   ]
  },
  {
   "cell_type": "code",
   "execution_count": null,
   "id": "3d94e8e5-ce70-41ba-9bd1-322d5bce5e8e",
   "metadata": {},
   "outputs": [],
   "source": [
    "# Prints hidden layer weights\n",
    "hidden_layer_weights"
   ]
  },
  {
   "cell_type": "code",
   "execution_count": null,
   "id": "189730f2-d0c8-4bae-b76d-ea4a8faf8278",
   "metadata": {},
   "outputs": [],
   "source": [
    "# Prints the hidden layer biases\n",
    "hidden_layer_biases"
   ]
  },
  {
   "cell_type": "code",
   "execution_count": null,
   "id": "bccabb60-39c4-4c75-9ffa-b1ac9633329b",
   "metadata": {
    "tags": []
   },
   "outputs": [],
   "source": [
    "# Prints output layer weights\n",
    "output_layer_weights"
   ]
  },
  {
   "cell_type": "code",
   "execution_count": null,
   "id": "ede0085d-731d-4247-b4bb-8e30807795cf",
   "metadata": {
    "tags": []
   },
   "outputs": [],
   "source": [
    "# Prints output layer biases\n",
    "output_layer_biases"
   ]
  },
  {
   "cell_type": "markdown",
   "id": "8317f638-08bf-4332-b0be-17b232c59969",
   "metadata": {},
   "source": [
    "### Traning Model"
   ]
  },
  {
   "cell_type": "code",
   "execution_count": null,
   "id": "edab2c10-c694-455d-93dd-c26179f16a93",
   "metadata": {
    "tags": []
   },
   "outputs": [],
   "source": [
    "for i in range(epoch):\n",
    "\n",
    "    #Forward Propogation\n",
    "    hidden_layer_nets = np.dot(X, hidden_layer_weights)\n",
    "    hidden_layer_nets = hidden_layer_nets + hidden_layer_biases\n",
    "    hidden_layer_outputs = sigmoid(hidden_layer_nets)\n",
    "    \n",
    "    output_layer_nets = np.dot(hidden_layer_outputs, output_layer_weights)\n",
    "    output_layer_nets = output_layer_nets + output_layer_biases\n",
    "    output = sigmoid(output_layer_nets)\n",
    "\n",
    "    #Backpropagation\n",
    "    output_error = y_transformed - output\n",
    "    output_gradients = sigmoid_derivative(output)\n",
    "    output_delta = output_error * output_gradients\n",
    "    hidden_layer_error = output_delta.dot(output_layer_weights.T)\n",
    "\n",
    "    # Calculation of hidden layer weights' contribution to error\n",
    "    hidden_layer_gradients = sigmoid_derivative(hidden_layer_outputs)\n",
    "    hidden_layer_delta = hidden_layer_error * hidden_layer_gradients\n",
    "\n",
    "    # Weights updates for both output and hidden layer units\n",
    "    output_layer_weights += learning_rate * hidden_layer_outputs.T.dot(output_delta)\n",
    "    hidden_layer_weights += learning_rate * X.T.dot(hidden_layer_delta)\n"
   ]
  },
  {
   "cell_type": "code",
   "execution_count": null,
   "id": "a3c4c9a0-5889-4d5a-9c8d-bcae7cb5e1e6",
   "metadata": {
    "tags": []
   },
   "outputs": [],
   "source": [
    "# Transforms data back from scaled ones\n",
    "predictions = y_scaler.inverse_transform(output)"
   ]
  },
  {
   "cell_type": "code",
   "execution_count": null,
   "id": "9ec439fe-6a50-49b7-9a8b-b35408dde159",
   "metadata": {
    "tags": []
   },
   "outputs": [],
   "source": [
    "# Shows the predicted sales against actual sale for all data points\n",
    "pd.DataFrame({\"Actual Sale\": y, \"Predicted Sale\": predictions.flatten()})"
   ]
  },
  {
   "cell_type": "code",
   "execution_count": null,
   "id": "ca0e8ce9-ff99-4c08-8270-15aadc7b3574",
   "metadata": {},
   "outputs": [],
   "source": []
  }
 ],
 "metadata": {
  "kernelspec": {
   "display_name": "Python 3 (ipykernel)",
   "language": "python",
   "name": "python3"
  },
  "language_info": {
   "codemirror_mode": {
    "name": "ipython",
    "version": 3
   },
   "file_extension": ".py",
   "mimetype": "text/x-python",
   "name": "python",
   "nbconvert_exporter": "python",
   "pygments_lexer": "ipython3",
   "version": "3.11.5"
  }
 },
 "nbformat": 4,
 "nbformat_minor": 5
}
